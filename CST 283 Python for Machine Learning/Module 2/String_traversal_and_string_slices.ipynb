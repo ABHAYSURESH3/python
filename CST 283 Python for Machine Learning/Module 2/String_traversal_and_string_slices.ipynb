{
  "nbformat": 4,
  "nbformat_minor": 0,
  "metadata": {
    "colab": {
      "name": "String traversal and string slices",
      "provenance": [],
      "collapsed_sections": []
    },
    "kernelspec": {
      "name": "python3",
      "display_name": "Python 3"
    }
  },
  "cells": [
    {
      "cell_type": "code",
      "metadata": {
        "id": "BjcUOsWedwVN",
        "outputId": "2df04daa-759c-4573-a6fd-e627407e801d",
        "colab": {
          "base_uri": "https://localhost:8080/",
          "height": 34
        }
      },
      "source": [
        " fruit = \"banana\"\n",
        " letter = fruit[1]\n",
        " print(letter)"
      ],
      "execution_count": null,
      "outputs": [
        {
          "output_type": "stream",
          "text": [
            "a\n"
          ],
          "name": "stdout"
        }
      ]
    },
    {
      "cell_type": "code",
      "metadata": {
        "id": "p9YGgowUd5eD",
        "outputId": "6a038082-538a-4b03-a039-7d53f4b7234a",
        "colab": {
          "base_uri": "https://localhost:8080/",
          "height": 34
        }
      },
      "source": [
        " fruit = \"banana\"\n",
        " letter = fruit[0]\n",
        " print(letter)"
      ],
      "execution_count": null,
      "outputs": [
        {
          "output_type": "stream",
          "text": [
            "b\n"
          ],
          "name": "stdout"
        }
      ]
    },
    {
      "cell_type": "code",
      "metadata": {
        "id": "uqFhoguud9Ow",
        "outputId": "cfcc8507-4223-4326-ca8a-7df90ce98e78",
        "colab": {
          "base_uri": "https://localhost:8080/",
          "height": 34
        }
      },
      "source": [
        " fruit = \"banana\"\n",
        " letter = fruit[-1]\n",
        " print(letter)"
      ],
      "execution_count": null,
      "outputs": [
        {
          "output_type": "stream",
          "text": [
            "a\n"
          ],
          "name": "stdout"
        }
      ]
    },
    {
      "cell_type": "code",
      "metadata": {
        "id": "Dru2ieb-d_Hp",
        "outputId": "7c3738d5-6e79-4677-a719-a81c4ddac93d",
        "colab": {
          "base_uri": "https://localhost:8080/",
          "height": 34
        }
      },
      "source": [
        " fruit = \"banana\"\n",
        " letter = fruit[1+1]\n",
        " print(letter)"
      ],
      "execution_count": null,
      "outputs": [
        {
          "output_type": "stream",
          "text": [
            "n\n"
          ],
          "name": "stdout"
        }
      ]
    },
    {
      "cell_type": "code",
      "metadata": {
        "id": "aFGGRTnPeCYm",
        "outputId": "0a6772a9-3d71-47c7-9235-fa6f46da9a8e",
        "colab": {
          "base_uri": "https://localhost:8080/",
          "height": 34
        }
      },
      "source": [
        "len(fruit)"
      ],
      "execution_count": null,
      "outputs": [
        {
          "output_type": "execute_result",
          "data": {
            "text/plain": [
              "6"
            ]
          },
          "metadata": {
            "tags": []
          },
          "execution_count": 5
        }
      ]
    },
    {
      "cell_type": "markdown",
      "metadata": {
        "id": "bn42qDxgeMCH"
      },
      "source": [
        "#Traversal"
      ]
    },
    {
      "cell_type": "code",
      "metadata": {
        "id": "I5YNjExueG_v",
        "outputId": "156d9fee-1b9a-49e9-cadc-8e487107ad9c",
        "colab": {
          "base_uri": "https://localhost:8080/",
          "height": 120
        }
      },
      "source": [
        "index = 0\n",
        "while index < len(fruit):\n",
        "  letter = fruit[index]\n",
        "  print (letter)\n",
        "  index = index + 1\n"
      ],
      "execution_count": null,
      "outputs": [
        {
          "output_type": "stream",
          "text": [
            "b\n",
            "a\n",
            "n\n",
            "a\n",
            "n\n",
            "a\n"
          ],
          "name": "stdout"
        }
      ]
    },
    {
      "cell_type": "code",
      "metadata": {
        "id": "QUvb5aC5eNxy",
        "outputId": "f0532a29-20a9-467e-e6b4-ad6a21a9248a",
        "colab": {
          "base_uri": "https://localhost:8080/",
          "height": 120
        }
      },
      "source": [
        "for letter in fruit:\n",
        "  print (letter)"
      ],
      "execution_count": null,
      "outputs": [
        {
          "output_type": "stream",
          "text": [
            "b\n",
            "a\n",
            "n\n",
            "a\n",
            "n\n",
            "a\n"
          ],
          "name": "stdout"
        }
      ]
    },
    {
      "cell_type": "markdown",
      "metadata": {
        "id": "mhMZWXfWekqg"
      },
      "source": [
        "The following example shows how to use concatenation and a for loop to generate\n",
        "an abecedarian series. Abecedarian refers to a series or list in which\n",
        "the elements appear in alphabetical order. "
      ]
    },
    {
      "cell_type": "code",
      "metadata": {
        "id": "s02Say6weS8B",
        "outputId": "429848da-8a41-4b45-97f7-597f19893211",
        "colab": {
          "base_uri": "https://localhost:8080/",
          "height": 154
        }
      },
      "source": [
        "prefixes = \"JKLMNOPQ\"\n",
        "suffix = \"001\"\n",
        "for letter in prefixes:\n",
        "  print (letter + suffix)"
      ],
      "execution_count": null,
      "outputs": [
        {
          "output_type": "stream",
          "text": [
            "J001\n",
            "K001\n",
            "L001\n",
            "M001\n",
            "N001\n",
            "O001\n",
            "P001\n",
            "Q001\n"
          ],
          "name": "stdout"
        }
      ]
    },
    {
      "cell_type": "markdown",
      "metadata": {
        "id": "gB3LcgfAfFhc"
      },
      "source": [
        "#Exercise "
      ]
    },
    {
      "cell_type": "markdown",
      "metadata": {
        "id": "QaC8e-sme77n"
      },
      "source": [
        "#For example, in Robert McCloskey's book Make Way for Ducklings, the names of the ducklings are Jack, Kack, Lack, Mack, Nack, Ouack, Pack, and Quack."
      ]
    },
    {
      "cell_type": "code",
      "metadata": {
        "id": "uMK2hYlBen6m",
        "outputId": "44e709c8-6bc0-47de-c720-3a2cabadca96",
        "colab": {
          "base_uri": "https://localhost:8080/",
          "height": 153
        }
      },
      "source": [
        "prefixes = \"JKLMNOPQ\"\n",
        "suffix = \"ack\"\n",
        "for letter in prefixes:\n",
        "  if letter=='O' or letter=='Q':\n",
        "    letter=letter +'u'\n",
        "  print (letter + suffix)"
      ],
      "execution_count": null,
      "outputs": [
        {
          "output_type": "stream",
          "text": [
            "Jack\n",
            "Kack\n",
            "Lack\n",
            "Mack\n",
            "Nack\n",
            "Ouack\n",
            "Pack\n",
            "Quack\n"
          ],
          "name": "stdout"
        }
      ]
    },
    {
      "cell_type": "code",
      "metadata": {
        "id": "4BFpc8kUfa_N"
      },
      "source": [
        ""
      ],
      "execution_count": null,
      "outputs": []
    },
    {
      "cell_type": "markdown",
      "metadata": {
        "id": "hrdVropNfmT4"
      },
      "source": [
        "#String slices"
      ]
    },
    {
      "cell_type": "markdown",
      "metadata": {
        "id": "eUy3BAVjfqIo"
      },
      "source": [
        "A segment of a string is called a slice. Selecting a slice is similar to selecting a character:"
      ]
    },
    {
      "cell_type": "markdown",
      "metadata": {
        "id": "B-KC_HpJf6HP"
      },
      "source": [
        "The operator [n:m] returns the part of the string from the \"n-eth\" character to\n",
        "the \"m-eth\" character, including the first but excluding the last"
      ]
    },
    {
      "cell_type": "markdown",
      "metadata": {
        "id": "ah992rCtkuzS"
      },
      "source": [
        ""
      ]
    },
    {
      "cell_type": "code",
      "metadata": {
        "id": "uaFbab2sfn3E"
      },
      "source": [
        "s = \"Peter, Paul, and Mary\""
      ],
      "execution_count": null,
      "outputs": []
    },
    {
      "cell_type": "code",
      "metadata": {
        "id": "euQnuWkskyVk"
      },
      "source": [
        "fruit = \"Mangoes\""
      ],
      "execution_count": null,
      "outputs": []
    },
    {
      "cell_type": "code",
      "metadata": {
        "id": "1whz_s4Rk1_4",
        "outputId": "59229440-eb06-4a0a-a742-c9446c5f30d5",
        "colab": {
          "base_uri": "https://localhost:8080/",
          "height": 34
        }
      },
      "source": [
        "print (fruit[:])"
      ],
      "execution_count": null,
      "outputs": [
        {
          "output_type": "stream",
          "text": [
            "Mangoes\n"
          ],
          "name": "stdout"
        }
      ]
    },
    {
      "cell_type": "code",
      "metadata": {
        "id": "UHvM4Qhlfuwv",
        "outputId": "1855f1bb-2399-4b8b-a608-855089da890f",
        "colab": {
          "base_uri": "https://localhost:8080/",
          "height": 34
        }
      },
      "source": [
        "print (s[0:5])"
      ],
      "execution_count": null,
      "outputs": [
        {
          "output_type": "stream",
          "text": [
            "Peter\n"
          ],
          "name": "stdout"
        }
      ]
    },
    {
      "cell_type": "code",
      "metadata": {
        "id": "WXAp8wrwfxh6",
        "outputId": "e4ff7737-0c2a-45a7-b243-11126c9f02d5",
        "colab": {
          "base_uri": "https://localhost:8080/",
          "height": 34
        }
      },
      "source": [
        "print (s[7:11])"
      ],
      "execution_count": null,
      "outputs": [
        {
          "output_type": "stream",
          "text": [
            "Paul\n"
          ],
          "name": "stdout"
        }
      ]
    },
    {
      "cell_type": "code",
      "metadata": {
        "id": "j5uUKJTvfzlk",
        "outputId": "3d72d909-0f8a-4872-cf89-7b0f358e1ecf",
        "colab": {
          "base_uri": "https://localhost:8080/",
          "height": 34
        }
      },
      "source": [
        "print (s[17:21])"
      ],
      "execution_count": null,
      "outputs": [
        {
          "output_type": "stream",
          "text": [
            "Mary\n"
          ],
          "name": "stdout"
        }
      ]
    },
    {
      "cell_type": "markdown",
      "metadata": {
        "id": "SnfFM03Hgbtx"
      },
      "source": [
        "If you omit the first index (before the colon), the slice starts at the beginning of the string."
      ]
    },
    {
      "cell_type": "code",
      "metadata": {
        "id": "HU1ModPvf1z4",
        "outputId": "3989d648-5ed6-4c64-c133-366a8d1a3f2f",
        "colab": {
          "base_uri": "https://localhost:8080/",
          "height": 35
        }
      },
      "source": [
        "fruit[:3]"
      ],
      "execution_count": null,
      "outputs": [
        {
          "output_type": "execute_result",
          "data": {
            "application/vnd.google.colaboratory.intrinsic+json": {
              "type": "string"
            },
            "text/plain": [
              "'Man'"
            ]
          },
          "metadata": {
            "tags": []
          },
          "execution_count": 19
        }
      ]
    },
    {
      "cell_type": "markdown",
      "metadata": {
        "id": "ltmq60E2gj5B"
      },
      "source": [
        "If you omit the second index, the slice goes to the end of the string"
      ]
    },
    {
      "cell_type": "code",
      "metadata": {
        "id": "t5s4GfNwgkF5",
        "outputId": "d65fa14b-e067-41f3-a868-983e71519560",
        "colab": {
          "base_uri": "https://localhost:8080/",
          "height": 35
        }
      },
      "source": [
        "fruit[3:]"
      ],
      "execution_count": null,
      "outputs": [
        {
          "output_type": "execute_result",
          "data": {
            "application/vnd.google.colaboratory.intrinsic+json": {
              "type": "string"
            },
            "text/plain": [
              "'goes'"
            ]
          },
          "metadata": {
            "tags": []
          },
          "execution_count": 20
        }
      ]
    },
    {
      "cell_type": "code",
      "metadata": {
        "id": "hTW5OXGygnlc",
        "outputId": "5737db75-cc9e-4316-c5de-830b554f091f",
        "colab": {
          "base_uri": "https://localhost:8080/",
          "height": 35
        }
      },
      "source": [
        "fruit[:]"
      ],
      "execution_count": null,
      "outputs": [
        {
          "output_type": "execute_result",
          "data": {
            "application/vnd.google.colaboratory.intrinsic+json": {
              "type": "string"
            },
            "text/plain": [
              "'Mangoes'"
            ]
          },
          "metadata": {
            "tags": []
          },
          "execution_count": 21
        }
      ]
    },
    {
      "cell_type": "markdown",
      "metadata": {
        "id": "WZP6g3Q5gvLi"
      },
      "source": [
        "#String comparison"
      ]
    },
    {
      "cell_type": "code",
      "metadata": {
        "id": "d4ZhkADxg3gt"
      },
      "source": [
        "word = \"banana\""
      ],
      "execution_count": null,
      "outputs": []
    },
    {
      "cell_type": "code",
      "metadata": {
        "id": "Wfl609Qygqvl",
        "outputId": "3299c915-bef0-48f3-b884-59155c65a035",
        "colab": {
          "base_uri": "https://localhost:8080/",
          "height": 34
        }
      },
      "source": [
        "if word == \"banana\":\n",
        "  print (\"Yes, we have bananas!\")"
      ],
      "execution_count": null,
      "outputs": [
        {
          "output_type": "stream",
          "text": [
            "Yes, we have bananas!\n"
          ],
          "name": "stdout"
        }
      ]
    },
    {
      "cell_type": "code",
      "metadata": {
        "id": "f9n-NTYThPY2"
      },
      "source": [
        "word='cat'"
      ],
      "execution_count": null,
      "outputs": []
    },
    {
      "cell_type": "code",
      "metadata": {
        "id": "dSjZA7EngzNO",
        "outputId": "9a29b40c-a55b-4aa6-c2d7-c4598f3a8ba5",
        "colab": {
          "base_uri": "https://localhost:8080/",
          "height": 34
        }
      },
      "source": [
        "if word < \"banana\":\n",
        "  print (\"Your word,\" + word + \", comes before banana.\")\n",
        "elif word > \"banana\":\n",
        "  print (\"Your word,\" + word + \", comes after banana.\")\n",
        "else:\n",
        "  print (\"Yes, we have bananas!\")"
      ],
      "execution_count": null,
      "outputs": [
        {
          "output_type": "stream",
          "text": [
            "Your word,cat, comes after banana.\n"
          ],
          "name": "stdout"
        }
      ]
    },
    {
      "cell_type": "code",
      "metadata": {
        "id": "TBLcT48xhB_v"
      },
      "source": [
        "word ='apple'"
      ],
      "execution_count": null,
      "outputs": []
    },
    {
      "cell_type": "code",
      "metadata": {
        "id": "75Zxaz_ghYIt",
        "outputId": "055f8a67-9605-4047-d0b4-2ef16fb5a321",
        "colab": {
          "base_uri": "https://localhost:8080/",
          "height": 34
        }
      },
      "source": [
        "if word < \"banana\":\n",
        "  print (\"Your word,\" + word + \", comes before banana.\")\n",
        "elif word > \"banana\":\n",
        "  print (\"Your word,\" + word + \", comes after banana.\")\n",
        "else:\n",
        "  print (\"Yes, we have bananas!\")"
      ],
      "execution_count": null,
      "outputs": [
        {
          "output_type": "stream",
          "text": [
            "Your word,apple, comes before banana.\n"
          ],
          "name": "stdout"
        }
      ]
    },
    {
      "cell_type": "markdown",
      "metadata": {
        "id": "PQDbPRLzhc4K"
      },
      "source": [
        "All the uppercase letters come before all the lowercase letters."
      ]
    },
    {
      "cell_type": "code",
      "metadata": {
        "id": "QlilqcahhYZN"
      },
      "source": [
        "word ='Cat'"
      ],
      "execution_count": null,
      "outputs": []
    },
    {
      "cell_type": "code",
      "metadata": {
        "id": "49wnUD629E-7"
      },
      "source": [
        "word=word.lower()"
      ],
      "execution_count": null,
      "outputs": []
    },
    {
      "cell_type": "code",
      "metadata": {
        "id": "7qb6PVg9hidd",
        "outputId": "f2f8494e-7f55-47cc-f45f-353c28fd9331",
        "colab": {
          "base_uri": "https://localhost:8080/",
          "height": 34
        }
      },
      "source": [
        "if word < \"banana\":\n",
        "  print (\"Your word,\" + word + \", comes before banana.\")\n",
        "elif word > \"banana\":\n",
        "  print (\"Your word,\" + word + \", comes after banana.\")\n",
        "else:\n",
        "  print (\"Yes, we have bananas!\")"
      ],
      "execution_count": null,
      "outputs": [
        {
          "output_type": "stream",
          "text": [
            "Your word,cat, comes after banana.\n"
          ],
          "name": "stdout"
        }
      ]
    },
    {
      "cell_type": "markdown",
      "metadata": {
        "id": "y62KdAqWhqgy"
      },
      "source": [
        "A common way to address this problem is to convert strings to a standard\n",
        "format, such as all lowercase, before performing the comparison."
      ]
    },
    {
      "cell_type": "markdown",
      "metadata": {
        "id": "HIJvePZDhvED"
      },
      "source": [
        "#Strings are immutable"
      ]
    },
    {
      "cell_type": "code",
      "metadata": {
        "id": "gmWi9v7tosFG",
        "outputId": "26fbd8f4-66d7-421f-aa8d-e5385683ce55",
        "colab": {
          "base_uri": "https://localhost:8080/",
          "height": 199
        }
      },
      "source": [
        "greeting = \"Hello, world!\"\n",
        "greeting[0]\n",
        "greeting[0] = 'J'"
      ],
      "execution_count": null,
      "outputs": [
        {
          "output_type": "error",
          "ename": "TypeError",
          "evalue": "ignored",
          "traceback": [
            "\u001b[0;31m---------------------------------------------------------------------------\u001b[0m",
            "\u001b[0;31mTypeError\u001b[0m                                 Traceback (most recent call last)",
            "\u001b[0;32m<ipython-input-48-fbba4a7660ba>\u001b[0m in \u001b[0;36m<module>\u001b[0;34m()\u001b[0m\n\u001b[1;32m      1\u001b[0m \u001b[0mgreeting\u001b[0m \u001b[0;34m=\u001b[0m \u001b[0;34m\"Hello, world!\"\u001b[0m\u001b[0;34m\u001b[0m\u001b[0;34m\u001b[0m\u001b[0m\n\u001b[1;32m      2\u001b[0m \u001b[0mgreeting\u001b[0m\u001b[0;34m[\u001b[0m\u001b[0;36m0\u001b[0m\u001b[0;34m]\u001b[0m\u001b[0;34m\u001b[0m\u001b[0;34m\u001b[0m\u001b[0m\n\u001b[0;32m----> 3\u001b[0;31m \u001b[0mgreeting\u001b[0m\u001b[0;34m[\u001b[0m\u001b[0;36m0\u001b[0m\u001b[0;34m]\u001b[0m \u001b[0;34m=\u001b[0m \u001b[0;34m'J'\u001b[0m\u001b[0;34m\u001b[0m\u001b[0;34m\u001b[0m\u001b[0m\n\u001b[0m",
            "\u001b[0;31mTypeError\u001b[0m: 'str' object does not support item assignment"
          ]
        }
      ]
    },
    {
      "cell_type": "code",
      "metadata": {
        "id": "Zw79o2TM-nEF",
        "outputId": "251156ab-881f-40c0-ca6e-21cdf146af07",
        "colab": {
          "base_uri": "https://localhost:8080/",
          "height": 34
        }
      },
      "source": [
        "print(\"J\"+greeting[1:len(greeting)])\n"
      ],
      "execution_count": null,
      "outputs": [
        {
          "output_type": "stream",
          "text": [
            "Jello, world!\n"
          ],
          "name": "stdout"
        }
      ]
    },
    {
      "cell_type": "code",
      "metadata": {
        "id": "yigjdEOhhjeW",
        "outputId": "44387a1c-5587-4f22-985b-d14e36161c27",
        "colab": {
          "base_uri": "https://localhost:8080/",
          "height": 199
        }
      },
      "source": [
        "greeting = \"Hello, world!\"\n",
        "greeting[0] = 'J' # ERROR!\n",
        "print (greeting)"
      ],
      "execution_count": null,
      "outputs": [
        {
          "output_type": "error",
          "ename": "TypeError",
          "evalue": "ignored",
          "traceback": [
            "\u001b[0;31m---------------------------------------------------------------------------\u001b[0m",
            "\u001b[0;31mTypeError\u001b[0m                                 Traceback (most recent call last)",
            "\u001b[0;32m<ipython-input-28-0f6d0d5f0ec1>\u001b[0m in \u001b[0;36m<module>\u001b[0;34m()\u001b[0m\n\u001b[1;32m      1\u001b[0m \u001b[0mgreeting\u001b[0m \u001b[0;34m=\u001b[0m \u001b[0;34m\"Hello, world!\"\u001b[0m\u001b[0;34m\u001b[0m\u001b[0;34m\u001b[0m\u001b[0m\n\u001b[0;32m----> 2\u001b[0;31m \u001b[0mgreeting\u001b[0m\u001b[0;34m[\u001b[0m\u001b[0;36m0\u001b[0m\u001b[0;34m]\u001b[0m \u001b[0;34m=\u001b[0m \u001b[0;34m'J'\u001b[0m \u001b[0;31m# ERROR!\u001b[0m\u001b[0;34m\u001b[0m\u001b[0;34m\u001b[0m\u001b[0m\n\u001b[0m\u001b[1;32m      3\u001b[0m \u001b[0mprint\u001b[0m \u001b[0;34m(\u001b[0m\u001b[0mgreeting\u001b[0m\u001b[0;34m)\u001b[0m\u001b[0;34m\u001b[0m\u001b[0;34m\u001b[0m\u001b[0m\n",
            "\u001b[0;31mTypeError\u001b[0m: 'str' object does not support item assignment"
          ]
        }
      ]
    },
    {
      "cell_type": "code",
      "metadata": {
        "id": "AHv8QFyhiOpr",
        "outputId": "11cdd8d1-00d4-45f6-cf65-7c82ab22650f",
        "colab": {
          "base_uri": "https://localhost:8080/",
          "height": 34
        }
      },
      "source": [
        "greeting = \"Hello, world!\"\n",
        "newGreeting = 'J' + greeting[1:]\n",
        "print (newGreeting)"
      ],
      "execution_count": null,
      "outputs": [
        {
          "output_type": "stream",
          "text": [
            "Jello, world!\n"
          ],
          "name": "stdout"
        }
      ]
    },
    {
      "cell_type": "code",
      "metadata": {
        "id": "4vfzxU-Xoz2A",
        "outputId": "00459dec-1d20-41b1-9b3a-119ff01d3921",
        "colab": {
          "base_uri": "https://localhost:8080/",
          "height": 35
        }
      },
      "source": [
        "'J' + greeting[1:]"
      ],
      "execution_count": null,
      "outputs": [
        {
          "output_type": "execute_result",
          "data": {
            "application/vnd.google.colaboratory.intrinsic+json": {
              "type": "string"
            },
            "text/plain": [
              "'Jello, world!'"
            ]
          },
          "metadata": {
            "tags": []
          },
          "execution_count": 33
        }
      ]
    },
    {
      "cell_type": "markdown",
      "metadata": {
        "id": "d8CyRLcGInsc"
      },
      "source": [
        "#Traversal"
      ]
    },
    {
      "cell_type": "markdown",
      "metadata": {
        "id": "7dl2vPMGjfqz"
      },
      "source": [
        "A find function: This pattern of computation is sometimes called a \"eureka\" traversal because as soon as we find what we are looking for, we can cry \"Eureka!\" and stop looking."
      ]
    },
    {
      "cell_type": "code",
      "metadata": {
        "id": "C-iqiRYydnvc",
        "outputId": "d2c2eba0-c475-43d8-e271-aa28d01e8332",
        "colab": {
          "base_uri": "https://localhost:8080/",
          "height": 34
        }
      },
      "source": [
        "name='apple'\n",
        "len(name)"
      ],
      "execution_count": null,
      "outputs": [
        {
          "output_type": "execute_result",
          "data": {
            "text/plain": [
              "5"
            ]
          },
          "metadata": {
            "tags": []
          },
          "execution_count": 51
        }
      ]
    },
    {
      "cell_type": "code",
      "metadata": {
        "id": "RTO3FSdyjgyE"
      },
      "source": [
        "def find(str, ch):\n",
        "  index = 0\n",
        "  while index < len(str):\n",
        "    if str[index] == ch:\n",
        "      return index\n",
        "    index = index + 1\n",
        "  return -1"
      ],
      "execution_count": null,
      "outputs": []
    },
    {
      "cell_type": "code",
      "metadata": {
        "id": "8VrS8OmjjkqH",
        "outputId": "1ab5368c-e644-4408-f7e8-c9e12115436a",
        "colab": {
          "base_uri": "https://localhost:8080/",
          "height": 34
        }
      },
      "source": [
        "find('apple','p')"
      ],
      "execution_count": null,
      "outputs": [
        {
          "output_type": "execute_result",
          "data": {
            "text/plain": [
              "1"
            ]
          },
          "metadata": {
            "tags": []
          },
          "execution_count": 55
        }
      ]
    },
    {
      "cell_type": "markdown",
      "metadata": {
        "id": "YMUu6XnIi6-8"
      },
      "source": [
        "#Modify the find function so that it has a third parameter,the index in the string where it should start looking"
      ]
    },
    {
      "cell_type": "code",
      "metadata": {
        "id": "PLW6bnvdiXCG"
      },
      "source": [
        "def find(str, ch,index):\n",
        "  #\n",
        "  while index < len(str):\n",
        "    if str[index] == ch:\n",
        "      return index\n",
        "    index = index + 1\n",
        "  return -1"
      ],
      "execution_count": null,
      "outputs": []
    },
    {
      "cell_type": "code",
      "metadata": {
        "id": "S4o8gwKGi6FB",
        "outputId": "38c9dab2-bbb6-402e-c394-04d958387326",
        "colab": {
          "base_uri": "https://localhost:8080/",
          "height": 34
        }
      },
      "source": [
        "find('apple','p',3)"
      ],
      "execution_count": null,
      "outputs": [
        {
          "output_type": "execute_result",
          "data": {
            "text/plain": [
              "-1"
            ]
          },
          "metadata": {
            "tags": []
          },
          "execution_count": 9
        }
      ]
    },
    {
      "cell_type": "code",
      "metadata": {
        "id": "v8VSbSmCj6Ao",
        "outputId": "1fd460fd-ffa2-4eca-99aa-d8911a2798bf",
        "colab": {
          "base_uri": "https://localhost:8080/",
          "height": 34
        }
      },
      "source": [
        "find('apple','l',1)"
      ],
      "execution_count": null,
      "outputs": [
        {
          "output_type": "execute_result",
          "data": {
            "text/plain": [
              "3"
            ]
          },
          "metadata": {
            "tags": []
          },
          "execution_count": 51
        }
      ]
    },
    {
      "cell_type": "code",
      "metadata": {
        "id": "h6b3fhDTj7ze",
        "outputId": "efa849bc-3dc5-4d24-b825-7e8d021f4ef0",
        "colab": {
          "base_uri": "https://localhost:8080/",
          "height": 34
        }
      },
      "source": [
        "find('apple','l',3)"
      ],
      "execution_count": null,
      "outputs": [
        {
          "output_type": "execute_result",
          "data": {
            "text/plain": [
              "3"
            ]
          },
          "metadata": {
            "tags": []
          },
          "execution_count": 52
        }
      ]
    },
    {
      "cell_type": "code",
      "metadata": {
        "id": "KPVEExzQj_zk",
        "outputId": "a4988a61-8bc8-46fc-8f53-be33553820f0",
        "colab": {
          "base_uri": "https://localhost:8080/",
          "height": 34
        }
      },
      "source": [
        "find('apple','l',4)"
      ],
      "execution_count": null,
      "outputs": [
        {
          "output_type": "execute_result",
          "data": {
            "text/plain": [
              "-1"
            ]
          },
          "metadata": {
            "tags": []
          },
          "execution_count": 53
        }
      ]
    },
    {
      "cell_type": "markdown",
      "metadata": {
        "id": "Sa1yLrLtkFkG"
      },
      "source": [
        "#Looping and counting"
      ]
    },
    {
      "cell_type": "code",
      "metadata": {
        "id": "4vs-bvRUkBDk",
        "outputId": "6dc25c33-e5ca-4eac-bcb7-9cd40293d011",
        "colab": {
          "base_uri": "https://localhost:8080/",
          "height": 34
        }
      },
      "source": [
        "fruit = \"apple\"\n",
        "count = 0\n",
        "for char in fruit:\n",
        "  if char == 'a':\n",
        "    count = count + 1\n",
        "print (count)"
      ],
      "execution_count": null,
      "outputs": [
        {
          "output_type": "stream",
          "text": [
            "1\n"
          ],
          "name": "stdout"
        }
      ]
    },
    {
      "cell_type": "markdown",
      "metadata": {
        "id": "qUv1iRyXkVqb"
      },
      "source": [
        "This program demonstrates another pattern of computation called a counter.\n",
        "The variable count is initialized to 0 and then incremented each time an a is found. (To increment is to increase by one; it is the opposite of decrement)"
      ]
    },
    {
      "cell_type": "markdown",
      "metadata": {
        "id": "8Rk2UORFkhoU"
      },
      "source": [
        "#Assignment"
      ]
    },
    {
      "cell_type": "markdown",
      "metadata": {
        "id": "jCUHFoJ8kkYC"
      },
      "source": [
        "Encapsulate this code in a function named countLetters, and generalize it so that it accepts the string and the letter as arguments."
      ]
    },
    {
      "cell_type": "code",
      "metadata": {
        "id": "p9LhDZc9Jacu"
      },
      "source": [
        "def countLetters(string,letter):"
      ],
      "execution_count": null,
      "outputs": []
    },
    {
      "cell_type": "markdown",
      "metadata": {
        "id": "dbB9N-L1kpP4"
      },
      "source": [
        "Rewrite this function so that instead of traversing the string, it uses the three-parameter version of find from the previous."
      ]
    },
    {
      "cell_type": "code",
      "metadata": {
        "id": "SOFZF1vYJZxy"
      },
      "source": [
        "def find(str, ch,index):"
      ],
      "execution_count": null,
      "outputs": []
    },
    {
      "cell_type": "markdown",
      "metadata": {
        "id": "5uvLq8TFJz0_"
      },
      "source": [
        "#The string "
      ]
    },
    {
      "cell_type": "code",
      "metadata": {
        "id": "QZBe01kJEtVe"
      },
      "source": [
        "mystring=\"Hello\""
      ],
      "execution_count": null,
      "outputs": []
    },
    {
      "cell_type": "code",
      "metadata": {
        "id": "jucw_5LOEwE2",
        "outputId": "6d1a8c57-17a7-4049-c60a-5dfec4861bb6",
        "colab": {
          "base_uri": "https://localhost:8080/",
          "height": 35
        }
      },
      "source": [
        "mystring.upper()"
      ],
      "execution_count": null,
      "outputs": [
        {
          "output_type": "execute_result",
          "data": {
            "application/vnd.google.colaboratory.intrinsic+json": {
              "type": "string"
            },
            "text/plain": [
              "'HELLO'"
            ]
          },
          "metadata": {
            "tags": []
          },
          "execution_count": 60
        }
      ]
    },
    {
      "cell_type": "code",
      "metadata": {
        "id": "YJXLWDswMZZ_",
        "outputId": "de5c496a-582a-4360-c5ca-dee2ac16f0f2",
        "colab": {
          "base_uri": "https://localhost:8080/",
          "height": 1000
        }
      },
      "source": [
        "help(str)"
      ],
      "execution_count": null,
      "outputs": [
        {
          "output_type": "stream",
          "text": [
            "Help on class str in module builtins:\n",
            "\n",
            "class str(object)\n",
            " |  str(object='') -> str\n",
            " |  str(bytes_or_buffer[, encoding[, errors]]) -> str\n",
            " |  \n",
            " |  Create a new string object from the given object. If encoding or\n",
            " |  errors is specified, then the object must expose a data buffer\n",
            " |  that will be decoded using the given encoding and error handler.\n",
            " |  Otherwise, returns the result of object.__str__() (if defined)\n",
            " |  or repr(object).\n",
            " |  encoding defaults to sys.getdefaultencoding().\n",
            " |  errors defaults to 'strict'.\n",
            " |  \n",
            " |  Methods defined here:\n",
            " |  \n",
            " |  __add__(self, value, /)\n",
            " |      Return self+value.\n",
            " |  \n",
            " |  __contains__(self, key, /)\n",
            " |      Return key in self.\n",
            " |  \n",
            " |  __eq__(self, value, /)\n",
            " |      Return self==value.\n",
            " |  \n",
            " |  __format__(...)\n",
            " |      S.__format__(format_spec) -> str\n",
            " |      \n",
            " |      Return a formatted version of S as described by format_spec.\n",
            " |  \n",
            " |  __ge__(self, value, /)\n",
            " |      Return self>=value.\n",
            " |  \n",
            " |  __getattribute__(self, name, /)\n",
            " |      Return getattr(self, name).\n",
            " |  \n",
            " |  __getitem__(self, key, /)\n",
            " |      Return self[key].\n",
            " |  \n",
            " |  __getnewargs__(...)\n",
            " |  \n",
            " |  __gt__(self, value, /)\n",
            " |      Return self>value.\n",
            " |  \n",
            " |  __hash__(self, /)\n",
            " |      Return hash(self).\n",
            " |  \n",
            " |  __iter__(self, /)\n",
            " |      Implement iter(self).\n",
            " |  \n",
            " |  __le__(self, value, /)\n",
            " |      Return self<=value.\n",
            " |  \n",
            " |  __len__(self, /)\n",
            " |      Return len(self).\n",
            " |  \n",
            " |  __lt__(self, value, /)\n",
            " |      Return self<value.\n",
            " |  \n",
            " |  __mod__(self, value, /)\n",
            " |      Return self%value.\n",
            " |  \n",
            " |  __mul__(self, value, /)\n",
            " |      Return self*value.\n",
            " |  \n",
            " |  __ne__(self, value, /)\n",
            " |      Return self!=value.\n",
            " |  \n",
            " |  __new__(*args, **kwargs) from builtins.type\n",
            " |      Create and return a new object.  See help(type) for accurate signature.\n",
            " |  \n",
            " |  __repr__(self, /)\n",
            " |      Return repr(self).\n",
            " |  \n",
            " |  __rmod__(self, value, /)\n",
            " |      Return value%self.\n",
            " |  \n",
            " |  __rmul__(self, value, /)\n",
            " |      Return value*self.\n",
            " |  \n",
            " |  __sizeof__(...)\n",
            " |      S.__sizeof__() -> size of S in memory, in bytes\n",
            " |  \n",
            " |  __str__(self, /)\n",
            " |      Return str(self).\n",
            " |  \n",
            " |  capitalize(...)\n",
            " |      S.capitalize() -> str\n",
            " |      \n",
            " |      Return a capitalized version of S, i.e. make the first character\n",
            " |      have upper case and the rest lower case.\n",
            " |  \n",
            " |  casefold(...)\n",
            " |      S.casefold() -> str\n",
            " |      \n",
            " |      Return a version of S suitable for caseless comparisons.\n",
            " |  \n",
            " |  center(...)\n",
            " |      S.center(width[, fillchar]) -> str\n",
            " |      \n",
            " |      Return S centered in a string of length width. Padding is\n",
            " |      done using the specified fill character (default is a space)\n",
            " |  \n",
            " |  count(...)\n",
            " |      S.count(sub[, start[, end]]) -> int\n",
            " |      \n",
            " |      Return the number of non-overlapping occurrences of substring sub in\n",
            " |      string S[start:end].  Optional arguments start and end are\n",
            " |      interpreted as in slice notation.\n",
            " |  \n",
            " |  encode(...)\n",
            " |      S.encode(encoding='utf-8', errors='strict') -> bytes\n",
            " |      \n",
            " |      Encode S using the codec registered for encoding. Default encoding\n",
            " |      is 'utf-8'. errors may be given to set a different error\n",
            " |      handling scheme. Default is 'strict' meaning that encoding errors raise\n",
            " |      a UnicodeEncodeError. Other possible values are 'ignore', 'replace' and\n",
            " |      'xmlcharrefreplace' as well as any other name registered with\n",
            " |      codecs.register_error that can handle UnicodeEncodeErrors.\n",
            " |  \n",
            " |  endswith(...)\n",
            " |      S.endswith(suffix[, start[, end]]) -> bool\n",
            " |      \n",
            " |      Return True if S ends with the specified suffix, False otherwise.\n",
            " |      With optional start, test S beginning at that position.\n",
            " |      With optional end, stop comparing S at that position.\n",
            " |      suffix can also be a tuple of strings to try.\n",
            " |  \n",
            " |  expandtabs(...)\n",
            " |      S.expandtabs(tabsize=8) -> str\n",
            " |      \n",
            " |      Return a copy of S where all tab characters are expanded using spaces.\n",
            " |      If tabsize is not given, a tab size of 8 characters is assumed.\n",
            " |  \n",
            " |  find(...)\n",
            " |      S.find(sub[, start[, end]]) -> int\n",
            " |      \n",
            " |      Return the lowest index in S where substring sub is found,\n",
            " |      such that sub is contained within S[start:end].  Optional\n",
            " |      arguments start and end are interpreted as in slice notation.\n",
            " |      \n",
            " |      Return -1 on failure.\n",
            " |  \n",
            " |  format(...)\n",
            " |      S.format(*args, **kwargs) -> str\n",
            " |      \n",
            " |      Return a formatted version of S, using substitutions from args and kwargs.\n",
            " |      The substitutions are identified by braces ('{' and '}').\n",
            " |  \n",
            " |  format_map(...)\n",
            " |      S.format_map(mapping) -> str\n",
            " |      \n",
            " |      Return a formatted version of S, using substitutions from mapping.\n",
            " |      The substitutions are identified by braces ('{' and '}').\n",
            " |  \n",
            " |  index(...)\n",
            " |      S.index(sub[, start[, end]]) -> int\n",
            " |      \n",
            " |      Return the lowest index in S where substring sub is found, \n",
            " |      such that sub is contained within S[start:end].  Optional\n",
            " |      arguments start and end are interpreted as in slice notation.\n",
            " |      \n",
            " |      Raises ValueError when the substring is not found.\n",
            " |  \n",
            " |  isalnum(...)\n",
            " |      S.isalnum() -> bool\n",
            " |      \n",
            " |      Return True if all characters in S are alphanumeric\n",
            " |      and there is at least one character in S, False otherwise.\n",
            " |  \n",
            " |  isalpha(...)\n",
            " |      S.isalpha() -> bool\n",
            " |      \n",
            " |      Return True if all characters in S are alphabetic\n",
            " |      and there is at least one character in S, False otherwise.\n",
            " |  \n",
            " |  isdecimal(...)\n",
            " |      S.isdecimal() -> bool\n",
            " |      \n",
            " |      Return True if there are only decimal characters in S,\n",
            " |      False otherwise.\n",
            " |  \n",
            " |  isdigit(...)\n",
            " |      S.isdigit() -> bool\n",
            " |      \n",
            " |      Return True if all characters in S are digits\n",
            " |      and there is at least one character in S, False otherwise.\n",
            " |  \n",
            " |  isidentifier(...)\n",
            " |      S.isidentifier() -> bool\n",
            " |      \n",
            " |      Return True if S is a valid identifier according\n",
            " |      to the language definition.\n",
            " |      \n",
            " |      Use keyword.iskeyword() to test for reserved identifiers\n",
            " |      such as \"def\" and \"class\".\n",
            " |  \n",
            " |  islower(...)\n",
            " |      S.islower() -> bool\n",
            " |      \n",
            " |      Return True if all cased characters in S are lowercase and there is\n",
            " |      at least one cased character in S, False otherwise.\n",
            " |  \n",
            " |  isnumeric(...)\n",
            " |      S.isnumeric() -> bool\n",
            " |      \n",
            " |      Return True if there are only numeric characters in S,\n",
            " |      False otherwise.\n",
            " |  \n",
            " |  isprintable(...)\n",
            " |      S.isprintable() -> bool\n",
            " |      \n",
            " |      Return True if all characters in S are considered\n",
            " |      printable in repr() or S is empty, False otherwise.\n",
            " |  \n",
            " |  isspace(...)\n",
            " |      S.isspace() -> bool\n",
            " |      \n",
            " |      Return True if all characters in S are whitespace\n",
            " |      and there is at least one character in S, False otherwise.\n",
            " |  \n",
            " |  istitle(...)\n",
            " |      S.istitle() -> bool\n",
            " |      \n",
            " |      Return True if S is a titlecased string and there is at least one\n",
            " |      character in S, i.e. upper- and titlecase characters may only\n",
            " |      follow uncased characters and lowercase characters only cased ones.\n",
            " |      Return False otherwise.\n",
            " |  \n",
            " |  isupper(...)\n",
            " |      S.isupper() -> bool\n",
            " |      \n",
            " |      Return True if all cased characters in S are uppercase and there is\n",
            " |      at least one cased character in S, False otherwise.\n",
            " |  \n",
            " |  join(...)\n",
            " |      S.join(iterable) -> str\n",
            " |      \n",
            " |      Return a string which is the concatenation of the strings in the\n",
            " |      iterable.  The separator between elements is S.\n",
            " |  \n",
            " |  ljust(...)\n",
            " |      S.ljust(width[, fillchar]) -> str\n",
            " |      \n",
            " |      Return S left-justified in a Unicode string of length width. Padding is\n",
            " |      done using the specified fill character (default is a space).\n",
            " |  \n",
            " |  lower(...)\n",
            " |      S.lower() -> str\n",
            " |      \n",
            " |      Return a copy of the string S converted to lowercase.\n",
            " |  \n",
            " |  lstrip(...)\n",
            " |      S.lstrip([chars]) -> str\n",
            " |      \n",
            " |      Return a copy of the string S with leading whitespace removed.\n",
            " |      If chars is given and not None, remove characters in chars instead.\n",
            " |  \n",
            " |  partition(...)\n",
            " |      S.partition(sep) -> (head, sep, tail)\n",
            " |      \n",
            " |      Search for the separator sep in S, and return the part before it,\n",
            " |      the separator itself, and the part after it.  If the separator is not\n",
            " |      found, return S and two empty strings.\n",
            " |  \n",
            " |  replace(...)\n",
            " |      S.replace(old, new[, count]) -> str\n",
            " |      \n",
            " |      Return a copy of S with all occurrences of substring\n",
            " |      old replaced by new.  If the optional argument count is\n",
            " |      given, only the first count occurrences are replaced.\n",
            " |  \n",
            " |  rfind(...)\n",
            " |      S.rfind(sub[, start[, end]]) -> int\n",
            " |      \n",
            " |      Return the highest index in S where substring sub is found,\n",
            " |      such that sub is contained within S[start:end].  Optional\n",
            " |      arguments start and end are interpreted as in slice notation.\n",
            " |      \n",
            " |      Return -1 on failure.\n",
            " |  \n",
            " |  rindex(...)\n",
            " |      S.rindex(sub[, start[, end]]) -> int\n",
            " |      \n",
            " |      Return the highest index in S where substring sub is found,\n",
            " |      such that sub is contained within S[start:end].  Optional\n",
            " |      arguments start and end are interpreted as in slice notation.\n",
            " |      \n",
            " |      Raises ValueError when the substring is not found.\n",
            " |  \n",
            " |  rjust(...)\n",
            " |      S.rjust(width[, fillchar]) -> str\n",
            " |      \n",
            " |      Return S right-justified in a string of length width. Padding is\n",
            " |      done using the specified fill character (default is a space).\n",
            " |  \n",
            " |  rpartition(...)\n",
            " |      S.rpartition(sep) -> (head, sep, tail)\n",
            " |      \n",
            " |      Search for the separator sep in S, starting at the end of S, and return\n",
            " |      the part before it, the separator itself, and the part after it.  If the\n",
            " |      separator is not found, return two empty strings and S.\n",
            " |  \n",
            " |  rsplit(...)\n",
            " |      S.rsplit(sep=None, maxsplit=-1) -> list of strings\n",
            " |      \n",
            " |      Return a list of the words in S, using sep as the\n",
            " |      delimiter string, starting at the end of the string and\n",
            " |      working to the front.  If maxsplit is given, at most maxsplit\n",
            " |      splits are done. If sep is not specified, any whitespace string\n",
            " |      is a separator.\n",
            " |  \n",
            " |  rstrip(...)\n",
            " |      S.rstrip([chars]) -> str\n",
            " |      \n",
            " |      Return a copy of the string S with trailing whitespace removed.\n",
            " |      If chars is given and not None, remove characters in chars instead.\n",
            " |  \n",
            " |  split(...)\n",
            " |      S.split(sep=None, maxsplit=-1) -> list of strings\n",
            " |      \n",
            " |      Return a list of the words in S, using sep as the\n",
            " |      delimiter string.  If maxsplit is given, at most maxsplit\n",
            " |      splits are done. If sep is not specified or is None, any\n",
            " |      whitespace string is a separator and empty strings are\n",
            " |      removed from the result.\n",
            " |  \n",
            " |  splitlines(...)\n",
            " |      S.splitlines([keepends]) -> list of strings\n",
            " |      \n",
            " |      Return a list of the lines in S, breaking at line boundaries.\n",
            " |      Line breaks are not included in the resulting list unless keepends\n",
            " |      is given and true.\n",
            " |  \n",
            " |  startswith(...)\n",
            " |      S.startswith(prefix[, start[, end]]) -> bool\n",
            " |      \n",
            " |      Return True if S starts with the specified prefix, False otherwise.\n",
            " |      With optional start, test S beginning at that position.\n",
            " |      With optional end, stop comparing S at that position.\n",
            " |      prefix can also be a tuple of strings to try.\n",
            " |  \n",
            " |  strip(...)\n",
            " |      S.strip([chars]) -> str\n",
            " |      \n",
            " |      Return a copy of the string S with leading and trailing\n",
            " |      whitespace removed.\n",
            " |      If chars is given and not None, remove characters in chars instead.\n",
            " |  \n",
            " |  swapcase(...)\n",
            " |      S.swapcase() -> str\n",
            " |      \n",
            " |      Return a copy of S with uppercase characters converted to lowercase\n",
            " |      and vice versa.\n",
            " |  \n",
            " |  title(...)\n",
            " |      S.title() -> str\n",
            " |      \n",
            " |      Return a titlecased version of S, i.e. words start with title case\n",
            " |      characters, all remaining cased characters have lower case.\n",
            " |  \n",
            " |  translate(...)\n",
            " |      S.translate(table) -> str\n",
            " |      \n",
            " |      Return a copy of the string S in which each character has been mapped\n",
            " |      through the given translation table. The table must implement\n",
            " |      lookup/indexing via __getitem__, for instance a dictionary or list,\n",
            " |      mapping Unicode ordinals to Unicode ordinals, strings, or None. If\n",
            " |      this operation raises LookupError, the character is left untouched.\n",
            " |      Characters mapped to None are deleted.\n",
            " |  \n",
            " |  upper(...)\n",
            " |      S.upper() -> str\n",
            " |      \n",
            " |      Return a copy of S converted to uppercase.\n",
            " |  \n",
            " |  zfill(...)\n",
            " |      S.zfill(width) -> str\n",
            " |      \n",
            " |      Pad a numeric string S with zeros on the left, to fill a field\n",
            " |      of the specified width. The string S is never truncated.\n",
            " |  \n",
            " |  ----------------------------------------------------------------------\n",
            " |  Static methods defined here:\n",
            " |  \n",
            " |  maketrans(x, y=None, z=None, /)\n",
            " |      Return a translation table usable for str.translate().\n",
            " |      \n",
            " |      If there is only one argument, it must be a dictionary mapping Unicode\n",
            " |      ordinals (integers) or characters to Unicode ordinals, strings or None.\n",
            " |      Character keys will be then converted to ordinals.\n",
            " |      If there are two arguments, they must be strings of equal length, and\n",
            " |      in the resulting dictionary, each character in x will be mapped to the\n",
            " |      character at the same position in y. If there is a third argument, it\n",
            " |      must be a string, whose characters will be mapped to None in the result.\n",
            "\n"
          ],
          "name": "stdout"
        }
      ]
    },
    {
      "cell_type": "markdown",
      "metadata": {
        "id": "alGPaEixLaqY"
      },
      "source": [
        "https://nbviewer.jupyter.org/github/jerry-git/learn-python3/blob/master/notebooks/beginner/notebooks/strings.ipynb"
      ]
    },
    {
      "cell_type": "code",
      "metadata": {
        "id": "ajRs2KTWKNKc",
        "outputId": "68eec3b3-835f-45dc-f605-19869b6fc21e",
        "colab": {
          "base_uri": "https://localhost:8080/",
          "height": 34
        }
      },
      "source": [
        "fruit = \"banana\"\n",
        "index = str.find(fruit, \"a\")\n",
        "print (index)"
      ],
      "execution_count": null,
      "outputs": [
        {
          "output_type": "stream",
          "text": [
            "1\n"
          ],
          "name": "stdout"
        }
      ]
    },
    {
      "cell_type": "code",
      "metadata": {
        "id": "acNRoMINk6AX",
        "outputId": "3dd8c9c7-d3a7-4898-83fa-07c3960271e1",
        "colab": {
          "base_uri": "https://localhost:8080/",
          "height": 34
        }
      },
      "source": [
        "fruit = \"banana \"\n",
        "len(fruit)"
      ],
      "execution_count": null,
      "outputs": [
        {
          "output_type": "execute_result",
          "data": {
            "text/plain": [
              "7"
            ]
          },
          "metadata": {
            "tags": []
          },
          "execution_count": 30
        }
      ]
    },
    {
      "cell_type": "code",
      "metadata": {
        "id": "juChgGwJg1K1",
        "outputId": "a6a4eed8-1a37-42f9-db74-c2524b1ad97b",
        "colab": {
          "base_uri": "https://localhost:8080/",
          "height": 34
        }
      },
      "source": [
        "fruit = \"banana\"\n",
        "index = find(fruit, \"ba\")\n",
        "print (index)"
      ],
      "execution_count": null,
      "outputs": [
        {
          "output_type": "stream",
          "text": [
            "-1\n"
          ],
          "name": "stdout"
        }
      ]
    },
    {
      "cell_type": "markdown",
      "metadata": {
        "id": "10DywfgtM-Xx"
      },
      "source": [
        "it can find\n",
        "substrings, not just characters:"
      ]
    },
    {
      "cell_type": "code",
      "metadata": {
        "id": "Nsfvm4kKMxfj",
        "outputId": "979a6572-815d-4baa-ea0b-e532354c102d",
        "colab": {
          "base_uri": "https://localhost:8080/",
          "height": 34
        }
      },
      "source": [
        "str.find(\"banana\", \"na\")"
      ],
      "execution_count": null,
      "outputs": [
        {
          "output_type": "execute_result",
          "data": {
            "text/plain": [
              "2"
            ]
          },
          "metadata": {
            "tags": []
          },
          "execution_count": 21
        }
      ]
    },
    {
      "cell_type": "markdown",
      "metadata": {
        "id": "1rJ49KsJNEaV"
      },
      "source": [
        "it takes an additional argument that specifies the index it should start at:\n",
        "|\n",
        "\n"
      ]
    },
    {
      "cell_type": "code",
      "metadata": {
        "id": "4yfBZO7JMyT8",
        "outputId": "f99f3c15-341f-4b89-babf-00ad20af5899",
        "colab": {
          "base_uri": "https://localhost:8080/",
          "height": 34
        }
      },
      "source": [
        "str.find(\"banana\", \"na\", 3)"
      ],
      "execution_count": null,
      "outputs": [
        {
          "output_type": "execute_result",
          "data": {
            "text/plain": [
              "4"
            ]
          },
          "metadata": {
            "tags": []
          },
          "execution_count": 24
        }
      ]
    },
    {
      "cell_type": "markdown",
      "metadata": {
        "id": "9EtS8nqrNPVY"
      },
      "source": [
        "it can take two additional arguments that specify a range of indices:"
      ]
    },
    {
      "cell_type": "code",
      "metadata": {
        "id": "8edxuW4QM0xe",
        "outputId": "b394b572-785f-4eee-877d-3204923a5518",
        "colab": {
          "base_uri": "https://localhost:8080/",
          "height": 34
        }
      },
      "source": [
        "str.find(\"bob\", \"b\", 1, 2)"
      ],
      "execution_count": null,
      "outputs": [
        {
          "output_type": "execute_result",
          "data": {
            "text/plain": [
              "-1"
            ]
          },
          "metadata": {
            "tags": []
          },
          "execution_count": 28
        }
      ]
    },
    {
      "cell_type": "markdown",
      "metadata": {
        "id": "z6RvBL_CNUUf"
      },
      "source": [
        "In this example, the search fails because the letter b does not appear in the\n",
        "index range from 1 to 2 (not including 2)."
      ]
    },
    {
      "cell_type": "markdown",
      "metadata": {
        "id": "LsWJGGWvNVti"
      },
      "source": [
        "#String Module"
      ]
    },
    {
      "cell_type": "code",
      "metadata": {
        "id": "tZuAhD6nNMzV",
        "outputId": "83a431c2-bbfc-4d00-c8d7-a043b252508c",
        "colab": {
          "base_uri": "https://localhost:8080/",
          "height": 35
        }
      },
      "source": [
        "from string import Template\n",
        "s = Template('$who likes $what')\n",
        "s.substitute(who='Raju', what='Apples')"
      ],
      "execution_count": null,
      "outputs": [
        {
          "output_type": "execute_result",
          "data": {
            "application/vnd.google.colaboratory.intrinsic+json": {
              "type": "string"
            },
            "text/plain": [
              "'Raju likes Apples'"
            ]
          },
          "metadata": {
            "tags": []
          },
          "execution_count": 32
        }
      ]
    },
    {
      "cell_type": "markdown",
      "metadata": {
        "id": "iYw0WqvyOZMa"
      },
      "source": [
        "#Character classification"
      ]
    },
    {
      "cell_type": "markdown",
      "metadata": {
        "id": "c4ShH9s_OSlR"
      },
      "source": [
        "https://docs.python.org/3/library/string.html#string-constants"
      ]
    },
    {
      "cell_type": "code",
      "metadata": {
        "id": "upZ8pnYoWxbX",
        "outputId": "8849976a-d0c5-4d89-e3d1-94cd800b3467",
        "colab": {
          "base_uri": "https://localhost:8080/",
          "height": 34
        }
      },
      "source": [
        "import string \n",
        "print (string.ascii_lowercase)"
      ],
      "execution_count": null,
      "outputs": [
        {
          "output_type": "stream",
          "text": [
            "abcdefghijklmnopqrstuvwxyz\n"
          ],
          "name": "stdout"
        }
      ]
    },
    {
      "cell_type": "code",
      "metadata": {
        "id": "TAbTdbutOS02",
        "outputId": "1439b777-1d57-4bfe-83e2-001c1fa2004e",
        "colab": {
          "base_uri": "https://localhost:8080/",
          "height": 34
        }
      },
      "source": [
        "import string as ss\n",
        "print (ss.ascii_lowercase)"
      ],
      "execution_count": null,
      "outputs": [
        {
          "output_type": "stream",
          "text": [
            "abcdefghijklmnopqrstuvwxyz\n"
          ],
          "name": "stdout"
        }
      ]
    },
    {
      "cell_type": "code",
      "metadata": {
        "id": "Zw6MBaxEWkp4"
      },
      "source": [
        "def isLower(ch):\n",
        " return str.find(ss.ascii_lowercase, ch) != -1"
      ],
      "execution_count": null,
      "outputs": []
    },
    {
      "cell_type": "code",
      "metadata": {
        "id": "BzwIpFMCW6cq",
        "outputId": "b59aad07-b1d8-4529-ca97-cc5f573a3553",
        "colab": {
          "base_uri": "https://localhost:8080/",
          "height": 34
        }
      },
      "source": [
        "isLower('A')"
      ],
      "execution_count": null,
      "outputs": [
        {
          "output_type": "execute_result",
          "data": {
            "text/plain": [
              "False"
            ]
          },
          "metadata": {
            "tags": []
          },
          "execution_count": 38
        }
      ]
    },
    {
      "cell_type": "code",
      "metadata": {
        "id": "me_ObzF6XGyU",
        "outputId": "dbc0b355-c3dc-49dc-aa22-1db8bde08b97",
        "colab": {
          "base_uri": "https://localhost:8080/",
          "height": 34
        }
      },
      "source": [
        "isLower('A')"
      ],
      "execution_count": null,
      "outputs": [
        {
          "output_type": "execute_result",
          "data": {
            "text/plain": [
              "False"
            ]
          },
          "metadata": {
            "tags": []
          },
          "execution_count": 41
        }
      ]
    },
    {
      "cell_type": "code",
      "metadata": {
        "id": "arOu8mcoX1-1"
      },
      "source": [
        "def isLower1(ch):\n",
        " return ch in string.ascii_lowercase"
      ],
      "execution_count": null,
      "outputs": []
    },
    {
      "cell_type": "code",
      "metadata": {
        "id": "pPM2i7eJX8Hc",
        "outputId": "054240cc-1cc0-48da-f0de-64fc41949979",
        "colab": {
          "base_uri": "https://localhost:8080/",
          "height": 34
        }
      },
      "source": [
        "isLower1('b')"
      ],
      "execution_count": null,
      "outputs": [
        {
          "output_type": "execute_result",
          "data": {
            "text/plain": [
              "True"
            ]
          },
          "metadata": {
            "tags": []
          },
          "execution_count": 41
        }
      ]
    },
    {
      "cell_type": "code",
      "metadata": {
        "id": "CmFjqTLWX-xZ",
        "outputId": "07737a18-abbc-4956-ecf8-997a2e722b30",
        "colab": {
          "base_uri": "https://localhost:8080/",
          "height": 34
        }
      },
      "source": [
        "isLower1('A')"
      ],
      "execution_count": null,
      "outputs": [
        {
          "output_type": "execute_result",
          "data": {
            "text/plain": [
              "False"
            ]
          },
          "metadata": {
            "tags": []
          },
          "execution_count": 42
        }
      ]
    },
    {
      "cell_type": "code",
      "metadata": {
        "id": "4gJiuPKnX_Au"
      },
      "source": [
        "def isLower2(ch):\n",
        " return 'a' <= ch <= 'z'"
      ],
      "execution_count": null,
      "outputs": []
    },
    {
      "cell_type": "code",
      "metadata": {
        "id": "dO0FRA7jYMRL",
        "outputId": "91603900-66a8-4e76-fc52-5906908283ee",
        "colab": {
          "base_uri": "https://localhost:8080/",
          "height": 34
        }
      },
      "source": [
        "isLower1('a')"
      ],
      "execution_count": null,
      "outputs": [
        {
          "output_type": "execute_result",
          "data": {
            "text/plain": [
              "True"
            ]
          },
          "metadata": {
            "tags": []
          },
          "execution_count": 44
        }
      ]
    },
    {
      "cell_type": "code",
      "metadata": {
        "id": "S4ONHXxoYQY0",
        "outputId": "f2c241c2-ca07-4cba-b1c8-8cfee82ee182",
        "colab": {
          "base_uri": "https://localhost:8080/",
          "height": 34
        }
      },
      "source": [
        "isLower1('A')"
      ],
      "execution_count": null,
      "outputs": [
        {
          "output_type": "execute_result",
          "data": {
            "text/plain": [
              "False"
            ]
          },
          "metadata": {
            "tags": []
          },
          "execution_count": 45
        }
      ]
    },
    {
      "cell_type": "markdown",
      "metadata": {
        "id": "1g7cYFqUYWWw"
      },
      "source": [
        "As an exercise, discuss which version of isLower you think will be\n",
        "fastest. Can you think of other reasons besides speed to prefer one\n",
        "or the other?"
      ]
    },
    {
      "cell_type": "code",
      "metadata": {
        "id": "SXXwb_B1gdEH"
      },
      "source": [
        ""
      ],
      "execution_count": null,
      "outputs": []
    }
  ]
}