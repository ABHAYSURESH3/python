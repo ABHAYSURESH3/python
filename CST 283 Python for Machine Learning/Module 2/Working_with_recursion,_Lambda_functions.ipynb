{
  "nbformat": 4,
  "nbformat_minor": 0,
  "metadata": {
    "colab": {
      "name": "Working with recursion, Lambda functions",
      "provenance": []
    },
    "kernelspec": {
      "name": "python3",
      "display_name": "Python 3"
    }
  },
  "cells": [
    {
      "cell_type": "markdown",
      "metadata": {
        "id": "FKqq5y6-1fSY"
      },
      "source": [
        "#Recursive function"
      ]
    },
    {
      "cell_type": "markdown",
      "metadata": {
        "id": "Lg-JCqSi1p63"
      },
      "source": [
        "A recursive function is a function that calls itself. To prevent a function from\n",
        "repeating itself indefinitely, it must contain at least one selection statement. This\n",
        "statement examines a condition called a base case to determine whether to stop\n",
        "or to continue with another recursive step."
      ]
    },
    {
      "cell_type": "markdown",
      "metadata": {
        "id": "Y2kdgBBVFFsI"
      },
      "source": [
        "Recursive functions are frequently used to design algorithms for computing values\n",
        "that have a recursive definition."
      ]
    },
    {
      "cell_type": "markdown",
      "metadata": {
        "id": "eL2sOziyFREw"
      },
      "source": [
        "A recursive definition consists of equations that\n",
        "state what a value is for one or more base cases and one or more recursive cases.\n",
        "For example, the Fibonacci sequence is a series of values with a recursive definition.\n",
        "The first and second numbers in the Fibonacci sequence are 1. Thereafter,\n",
        "each number in the sequence is the sum of its two predecessors"
      ]
    },
    {
      "cell_type": "code",
      "metadata": {
        "id": "2_ph2REU1lG-"
      },
      "source": [
        "def fib(n):\n",
        "   if n <= 1:\n",
        "       return n\n",
        "   else:\n",
        "       return(fib(n-1) + fib(n-2))"
      ],
      "execution_count": 1,
      "outputs": []
    },
    {
      "cell_type": "code",
      "metadata": {
        "id": "FvJ4n_tR2ewb",
        "outputId": "2b54be7d-51b8-429e-82ee-9bebf40ee1cd",
        "colab": {
          "base_uri": "https://localhost:8080/",
          "height": 35
        }
      },
      "source": [
        "fib(10)"
      ],
      "execution_count": 10,
      "outputs": [
        {
          "output_type": "execute_result",
          "data": {
            "text/plain": [
              "55"
            ]
          },
          "metadata": {
            "tags": []
          },
          "execution_count": 10
        }
      ]
    },
    {
      "cell_type": "markdown",
      "metadata": {
        "id": "qV7Xvova2lKC"
      },
      "source": [
        "If you played around with the fibonacci function , you might have noticed that the bigger the argument you provide, the longer the function takes to run. Furthermore, the run time increases very quickly. On one of our machines, fibonacci(20) finishes instantly, fibonacci(30) takes about a second, and fibonacci(40) takes roughly forever"
      ]
    },
    {
      "cell_type": "code",
      "metadata": {
        "id": "peU0NFjl2g8z",
        "outputId": "f3cb4267-6123-43d5-f001-38ff9dfedf26",
        "colab": {
          "base_uri": "https://localhost:8080/",
          "height": 69
        }
      },
      "source": [
        "import time\n",
        "def fib(n):\n",
        "   if n <= 1:\n",
        "       return n\n",
        "   else:\n",
        "       return(fib(n-1) + fib(n-2))\n",
        "n=int(input(\"Enter the value of n:\"))\n",
        "start_time = time.time()\n",
        "print(\"Fibonacci(\", n,\")= \", fib(n))\n",
        "print(\"Time:% \",(time.time() - start_time))"
      ],
      "execution_count": 16,
      "outputs": [
        {
          "output_type": "stream",
          "text": [
            "Enter the value of n:35\n",
            "Fibonacci( 35 )=  9227465\n",
            "Time:%  3.1747756004333496\n"
          ],
          "name": "stdout"
        }
      ]
    },
    {
      "cell_type": "markdown",
      "metadata": {
        "id": "DUys6T632vNB"
      },
      "source": [
        "Note the running time\n",
        "[Call graph](https://github.com/sarithdm/python/blob/master/ITT%20205%20Problem%20Solving%20using%20Python/Module%202/cg.png)"
      ]
    },
    {
      "cell_type": "markdown",
      "metadata": {
        "id": "4T-xVFdn20-Z"
      },
      "source": [
        "A call graph shows a set function frames, with lines connecting each frame to\n",
        "the frames of the functions it calls. At the top of the graph, fibonacci with\n",
        "n=4 calls fibonacci with n=3 and n=2. In turn, fibonacci with n=3 calls\n",
        "fibonacci with n=2 and n=1. And so on."
      ]
    },
    {
      "cell_type": "markdown",
      "metadata": {
        "id": "EvFotEp-24BX"
      },
      "source": [
        "Count how many times fibonacci(0) and fibonacci(1) are called. This is an\n",
        "inefficient solution to the problem, and it gets far worse as the argument gets\n",
        "bigger."
      ]
    },
    {
      "cell_type": "markdown",
      "metadata": {
        "id": "63GzZogM24JK"
      },
      "source": [
        "Good solution is to keep track of values that have already been computed by\n",
        "storing them in a dictionary. A previously computed value that is stored for\n",
        "later use is called a hint. Here is an implementation of fibonacci using hints"
      ]
    },
    {
      "cell_type": "code",
      "metadata": {
        "id": "EP4oA0CU9BvZ"
      },
      "source": [
        "previous={0:0, 1:1}"
      ],
      "execution_count": 17,
      "outputs": []
    },
    {
      "cell_type": "code",
      "metadata": {
        "id": "tZ0NpgWJ9DE9",
        "outputId": "5411bb9f-f5cc-4945-bd5c-180637965c4e",
        "colab": {
          "base_uri": "https://localhost:8080/",
          "height": 35
        }
      },
      "source": [
        "type(previous)"
      ],
      "execution_count": 18,
      "outputs": [
        {
          "output_type": "execute_result",
          "data": {
            "text/plain": [
              "dict"
            ]
          },
          "metadata": {
            "tags": []
          },
          "execution_count": 18
        }
      ]
    },
    {
      "cell_type": "code",
      "metadata": {
        "id": "WK9g10oC2nwL",
        "outputId": "175ce26d-45f6-47e5-b81a-d082d3a23c8e",
        "colab": {
          "base_uri": "https://localhost:8080/",
          "height": 52
        }
      },
      "source": [
        "\n",
        "def fibonacci(n):\n",
        "    if n not in previous:\n",
        "        val=fibonacci(n-1)+fibonacci(n-2)\n",
        "        previous[n]=val\n",
        "    return previous[n]\n",
        "n=int(input(\"Enter the value of n:\"))\n",
        "print(\"Fibonacci(\", n,\")= \", fibonacci(n))"
      ],
      "execution_count": 20,
      "outputs": [
        {
          "output_type": "stream",
          "text": [
            "Enter the value of n:100\n",
            "Fibonacci( 100 )=  354224848179261915075\n"
          ],
          "name": "stdout"
        }
      ]
    },
    {
      "cell_type": "markdown",
      "metadata": {
        "id": "q_oI-L8X8OD6"
      },
      "source": [
        "#iterative algorithm to a recursive function"
      ]
    },
    {
      "cell_type": "code",
      "metadata": {
        "id": "Rzj5_53N8EJW"
      },
      "source": [
        "def displayrangeiterate(lower,upper):\n",
        "  while lower<=upper:\n",
        "    #print(lower)\n",
        "    lower+=1"
      ],
      "execution_count": 23,
      "outputs": []
    },
    {
      "cell_type": "code",
      "metadata": {
        "id": "WOpFY2XA8dTY",
        "outputId": "1764b2b8-4556-4adb-f470-9affbd58f242",
        "colab": {
          "base_uri": "https://localhost:8080/",
          "height": 156
        }
      },
      "source": [
        "displayrangeiterate(3,10)"
      ],
      "execution_count": 22,
      "outputs": [
        {
          "output_type": "stream",
          "text": [
            "3\n",
            "4\n",
            "5\n",
            "6\n",
            "7\n",
            "8\n",
            "9\n",
            "10\n"
          ],
          "name": "stdout"
        }
      ]
    },
    {
      "cell_type": "markdown",
      "metadata": {
        "id": "3U7CnI4L8ko1"
      },
      "source": [
        "How would we go about converting this function to a recursive one? First, you\n",
        "should note two important facts:\n",
        "\n",
        "\n",
        "1.   The loop’s body continues execution while lower <= upper.\n",
        "2.   When the function executes, lower is incremented by 1, but upper\n",
        "never changes."
      ]
    },
    {
      "cell_type": "code",
      "metadata": {
        "id": "n5DmdZlM8gzM"
      },
      "source": [
        "def displayrangerecursion(lower,upper):\n",
        "  if lower<=upper:\n",
        "    #print(lower)\n",
        "    displayrangerecursion(lower+1,upper)"
      ],
      "execution_count": 26,
      "outputs": []
    },
    {
      "cell_type": "code",
      "metadata": {
        "id": "_yUHCjzr9BsV",
        "outputId": "f23fcf2f-9f1c-42fb-ef69-b62732e45041",
        "colab": {
          "base_uri": "https://localhost:8080/",
          "height": 156
        }
      },
      "source": [
        "displayrangerecursion(3,10)"
      ],
      "execution_count": 25,
      "outputs": [
        {
          "output_type": "stream",
          "text": [
            "3\n",
            "4\n",
            "5\n",
            "6\n",
            "7\n",
            "8\n",
            "9\n",
            "10\n"
          ],
          "name": "stdout"
        }
      ]
    },
    {
      "cell_type": "markdown",
      "metadata": {
        "id": "CzVVWUf88vxG"
      },
      "source": [
        "The equivalent recursive function performs similar primitive operations, but\n",
        "the loop is replaced with a selection statement, and the assignment statement is replaced with a recursive call of the function. "
      ]
    },
    {
      "cell_type": "code",
      "metadata": {
        "id": "nHKW-rtt8yiJ",
        "outputId": "75cdafbe-20cd-4f16-d99a-9f6345ff69a3",
        "colab": {
          "base_uri": "https://localhost:8080/",
          "height": 87
        }
      },
      "source": [
        "start_time = time.time()\n",
        "print(\"Iterative: \", displayrangeiterate(3,200))\n",
        "print(\"Time:% \",(time.time() - start_time))\n",
        "start_time = time.time()\n",
        "print(\"Recursion: \", displayrangerecursion(3,200))\n",
        "print(\"Time:% \",(time.time() - start_time))"
      ],
      "execution_count": 28,
      "outputs": [
        {
          "output_type": "stream",
          "text": [
            "Iterative:  None\n",
            "Time:%  0.0022313594818115234\n",
            "Recursion:  None\n",
            "Time:%  0.001199483871459961\n"
          ],
          "name": "stdout"
        }
      ]
    },
    {
      "cell_type": "markdown",
      "metadata": {
        "id": "CP-BASnjFY3y"
      },
      "source": [
        "#Infinite Recursion"
      ]
    },
    {
      "cell_type": "code",
      "metadata": {
        "id": "9wYWlO-39c2d"
      },
      "source": [
        "def fibinf(n):\n",
        "       return(fibinf(n-1) + fibinf(n-2))"
      ],
      "execution_count": 29,
      "outputs": []
    },
    {
      "cell_type": "code",
      "metadata": {
        "id": "5JFgjvTtB8ub",
        "outputId": "2a9ae802-57d2-48dd-9a1d-eda07e3c1fb0",
        "colab": {
          "base_uri": "https://localhost:8080/",
          "height": 0
        }
      },
      "source": [
        "fibinf(10)"
      ],
      "execution_count": 30,
      "outputs": [
        {
          "output_type": "error",
          "ename": "RecursionError",
          "evalue": "ignored",
          "traceback": [
            "\u001b[0;31m---------------------------------------------------------------------------\u001b[0m",
            "\u001b[0;31mRecursionError\u001b[0m                            Traceback (most recent call last)",
            "\u001b[0;32m<ipython-input-30-20489b9fc31b>\u001b[0m in \u001b[0;36m<module>\u001b[0;34m()\u001b[0m\n\u001b[0;32m----> 1\u001b[0;31m \u001b[0mfibinf\u001b[0m\u001b[0;34m(\u001b[0m\u001b[0;36m10\u001b[0m\u001b[0;34m)\u001b[0m\u001b[0;34m\u001b[0m\u001b[0;34m\u001b[0m\u001b[0m\n\u001b[0m",
            "\u001b[0;32m<ipython-input-29-8b8a81fe1a64>\u001b[0m in \u001b[0;36mfibinf\u001b[0;34m(n)\u001b[0m\n\u001b[1;32m      1\u001b[0m \u001b[0;32mdef\u001b[0m \u001b[0mfibinf\u001b[0m\u001b[0;34m(\u001b[0m\u001b[0mn\u001b[0m\u001b[0;34m)\u001b[0m\u001b[0;34m:\u001b[0m\u001b[0;34m\u001b[0m\u001b[0;34m\u001b[0m\u001b[0m\n\u001b[0;32m----> 2\u001b[0;31m        \u001b[0;32mreturn\u001b[0m\u001b[0;34m(\u001b[0m\u001b[0mfibinf\u001b[0m\u001b[0;34m(\u001b[0m\u001b[0mn\u001b[0m\u001b[0;34m-\u001b[0m\u001b[0;36m1\u001b[0m\u001b[0;34m)\u001b[0m \u001b[0;34m+\u001b[0m \u001b[0mfibinf\u001b[0m\u001b[0;34m(\u001b[0m\u001b[0mn\u001b[0m\u001b[0;34m-\u001b[0m\u001b[0;36m2\u001b[0m\u001b[0;34m)\u001b[0m\u001b[0;34m)\u001b[0m\u001b[0;34m\u001b[0m\u001b[0;34m\u001b[0m\u001b[0m\n\u001b[0m",
            "... last 1 frames repeated, from the frame below ...\n",
            "\u001b[0;32m<ipython-input-29-8b8a81fe1a64>\u001b[0m in \u001b[0;36mfibinf\u001b[0;34m(n)\u001b[0m\n\u001b[1;32m      1\u001b[0m \u001b[0;32mdef\u001b[0m \u001b[0mfibinf\u001b[0m\u001b[0;34m(\u001b[0m\u001b[0mn\u001b[0m\u001b[0;34m)\u001b[0m\u001b[0;34m:\u001b[0m\u001b[0;34m\u001b[0m\u001b[0;34m\u001b[0m\u001b[0m\n\u001b[0;32m----> 2\u001b[0;31m        \u001b[0;32mreturn\u001b[0m\u001b[0;34m(\u001b[0m\u001b[0mfibinf\u001b[0m\u001b[0;34m(\u001b[0m\u001b[0mn\u001b[0m\u001b[0;34m-\u001b[0m\u001b[0;36m1\u001b[0m\u001b[0;34m)\u001b[0m \u001b[0;34m+\u001b[0m \u001b[0mfibinf\u001b[0m\u001b[0;34m(\u001b[0m\u001b[0mn\u001b[0m\u001b[0;34m-\u001b[0m\u001b[0;36m2\u001b[0m\u001b[0;34m)\u001b[0m\u001b[0;34m)\u001b[0m\u001b[0;34m\u001b[0m\u001b[0;34m\u001b[0m\u001b[0m\n\u001b[0m",
            "\u001b[0;31mRecursionError\u001b[0m: maximum recursion depth exceeded"
          ]
        }
      ]
    },
    {
      "cell_type": "markdown",
      "metadata": {
        "id": "ZVEfbMrh_yEf"
      },
      "source": [
        "#Sum function"
      ]
    },
    {
      "cell_type": "code",
      "metadata": {
        "id": "NjqUsaC6_bsn"
      },
      "source": [
        "def sum(lower,upper):\n",
        "  if lower>upper:\n",
        "    return 0\n",
        "  else:\n",
        "    print(lower)\n",
        "    \n",
        "    return lower + sum(lower+1,upper)"
      ],
      "execution_count": 34,
      "outputs": []
    },
    {
      "cell_type": "code",
      "metadata": {
        "id": "kmUIPNdLAAwV",
        "outputId": "19c29fb7-f602-4097-a0eb-de9742744fe8",
        "colab": {
          "base_uri": "https://localhost:8080/",
          "height": 0
        }
      },
      "source": [
        "sum(1,20)"
      ],
      "execution_count": 35,
      "outputs": [
        {
          "output_type": "stream",
          "text": [
            "1\n",
            "2\n",
            "3\n",
            "4\n",
            "5\n",
            "6\n",
            "7\n",
            "8\n",
            "9\n",
            "10\n",
            "11\n",
            "12\n",
            "13\n",
            "14\n",
            "15\n",
            "16\n",
            "17\n",
            "18\n",
            "19\n",
            "20\n"
          ],
          "name": "stdout"
        },
        {
          "output_type": "execute_result",
          "data": {
            "text/plain": [
              "210"
            ]
          },
          "metadata": {
            "tags": []
          },
          "execution_count": 35
        }
      ]
    },
    {
      "cell_type": "markdown",
      "metadata": {
        "id": "tl27DWmCAaWS"
      },
      "source": [
        "#Tracing a Recursive Function"
      ]
    },
    {
      "cell_type": "code",
      "metadata": {
        "id": "2925IVIyACDt"
      },
      "source": [
        "def sum(lower,upper,margin):\n",
        "  blanks= \" \" * margin\n",
        "  print(blanks,lower,upper)\n",
        "  if lower>upper:\n",
        "    print(blanks,0)\n",
        "    return 0\n",
        "  else:\n",
        "    result= lower + sum(lower+1,upper,margin+4)\n",
        "    print (blanks,result)\n",
        "    return result"
      ],
      "execution_count": 38,
      "outputs": []
    },
    {
      "cell_type": "code",
      "metadata": {
        "id": "KMMKMWFxA57t",
        "outputId": "e2641ee8-ed00-4955-9851-a6c64b7320cb",
        "colab": {
          "base_uri": "https://localhost:8080/",
          "height": 208
        }
      },
      "source": [
        "sum(1,4,0)"
      ],
      "execution_count": 39,
      "outputs": [
        {
          "output_type": "stream",
          "text": [
            " 1 4\n",
            "     2 4\n",
            "         3 4\n",
            "             4 4\n",
            "                 5 4\n",
            "                 0\n",
            "             4\n",
            "         7\n",
            "     9\n",
            " 10\n"
          ],
          "name": "stdout"
        },
        {
          "output_type": "execute_result",
          "data": {
            "text/plain": [
              "10"
            ]
          },
          "metadata": {
            "tags": []
          },
          "execution_count": 39
        }
      ]
    },
    {
      "cell_type": "code",
      "metadata": {
        "id": "hhiYJ5roBht5"
      },
      "source": [
        "def sum(lower,upper,margin):\n",
        "  blanks= \" \" * margin\n",
        "  print(blanks,lower,upper)\n",
        "  if lower>upper:\n",
        "    print(\"Lower:\",lower,\"Upper:\",upper)\n",
        "    print(\"Max Depth\",blanks,0)\n",
        "    return 0\n",
        "  else:\n",
        "    result= lower + sum(lower+1,upper,margin+4) #1+(2+(3+(4+0)))\n",
        "    print(blanks,\"Lower\",lower)\n",
        "    print(blanks,\"Result:\",result) #Printing  only once return starts\n",
        "    return result"
      ],
      "execution_count": 40,
      "outputs": []
    },
    {
      "cell_type": "code",
      "metadata": {
        "id": "rmNFVMwYBkCz",
        "outputId": "f86bc8f3-fb0f-4577-e44f-d6ec6bb71951",
        "colab": {
          "base_uri": "https://localhost:8080/",
          "height": 607
        }
      },
      "source": [
        "sum(1,10,0)"
      ],
      "execution_count": 43,
      "outputs": [
        {
          "output_type": "stream",
          "text": [
            " 1 10\n",
            "     2 10\n",
            "         3 10\n",
            "             4 10\n",
            "                 5 10\n",
            "                     6 10\n",
            "                         7 10\n",
            "                             8 10\n",
            "                                 9 10\n",
            "                                     10 10\n",
            "                                         11 10\n",
            "Lower: 11 Upper: 10\n",
            "Max Depth                                          0\n",
            "                                     Lower 10\n",
            "                                     Result: 10\n",
            "                                 Lower 9\n",
            "                                 Result: 19\n",
            "                             Lower 8\n",
            "                             Result: 27\n",
            "                         Lower 7\n",
            "                         Result: 34\n",
            "                     Lower 6\n",
            "                     Result: 40\n",
            "                 Lower 5\n",
            "                 Result: 45\n",
            "             Lower 4\n",
            "             Result: 49\n",
            "         Lower 3\n",
            "         Result: 52\n",
            "     Lower 2\n",
            "     Result: 54\n",
            " Lower 1\n",
            " Result: 55\n"
          ],
          "name": "stdout"
        },
        {
          "output_type": "execute_result",
          "data": {
            "text/plain": [
              "55"
            ]
          },
          "metadata": {
            "tags": []
          },
          "execution_count": 43
        }
      ]
    },
    {
      "cell_type": "code",
      "metadata": {
        "id": "AXJo2nTCE6Kb"
      },
      "source": [
        "def sum(lower,upper,margin):\n",
        "  blanks= \" \" * margin\n",
        "  print(blanks,lower,upper)\n",
        "  if lower>upper:\n",
        "    print(blanks,0)\n",
        "    return 0\n",
        "  else:\n",
        "    result= lower + sum(lower+1,upper,margin+4)\n",
        "    print (blanks,result)\n",
        "    return result"
      ],
      "execution_count": null,
      "outputs": []
    },
    {
      "cell_type": "code",
      "metadata": {
        "id": "S-ZCoAXLE80w",
        "outputId": "93b85ef2-deba-4d56-b835-7c789eeca5f4",
        "colab": {
          "base_uri": "https://localhost:8080/"
        }
      },
      "source": [
        "sum(1,4,0)"
      ],
      "execution_count": null,
      "outputs": [
        {
          "output_type": "stream",
          "text": [
            " 1 4\n",
            "     2 4\n",
            "         3 4\n",
            "             4 4\n",
            "                 5 4\n",
            "                 0\n",
            "             4\n",
            "         7\n",
            "     9\n",
            " 10\n"
          ],
          "name": "stdout"
        },
        {
          "output_type": "execute_result",
          "data": {
            "text/plain": [
              "10"
            ]
          },
          "metadata": {
            "tags": []
          },
          "execution_count": 62
        }
      ]
    },
    {
      "cell_type": "markdown",
      "metadata": {
        "id": "Su5ohyh5BPTM"
      },
      "source": [
        "The displayed pairs of arguments are indented further to the right as the calls of\n",
        "sum proceed. Note that the value of lower increases by 1 on each call, whereas\n",
        "the value of upper stays the same. The final call of sum returns 0. As the recursion\n",
        "unwinds, each value returned is aligned with the arguments above it and\n",
        "increases by the current value of lower. This type of tracing can be a useful\n",
        "debugging tool for recursive functions"
      ]
    },
    {
      "cell_type": "markdown",
      "metadata": {
        "id": "rwkS8zM8JDFf"
      },
      "source": [
        "#Higher-Order Functions"
      ]
    },
    {
      "cell_type": "code",
      "metadata": {
        "id": "U1O3iVJnA87y",
        "outputId": "4b1be46e-8f43-4815-c717-7de6b4b9733b",
        "colab": {
          "base_uri": "https://localhost:8080/",
          "height": 35
        }
      },
      "source": [
        "abs"
      ],
      "execution_count": 44,
      "outputs": [
        {
          "output_type": "execute_result",
          "data": {
            "text/plain": [
              "<function abs>"
            ]
          },
          "metadata": {
            "tags": []
          },
          "execution_count": 44
        }
      ]
    },
    {
      "cell_type": "code",
      "metadata": {
        "id": "hUZJHCipJEPV"
      },
      "source": [
        "import math"
      ],
      "execution_count": 45,
      "outputs": []
    },
    {
      "cell_type": "code",
      "metadata": {
        "id": "zNnX0Zg5JdOM",
        "outputId": "551a100a-3556-4963-a241-323de4450f2b",
        "colab": {
          "base_uri": "https://localhost:8080/",
          "height": 35
        }
      },
      "source": [
        "math.sqrt"
      ],
      "execution_count": 46,
      "outputs": [
        {
          "output_type": "execute_result",
          "data": {
            "text/plain": [
              "<function math.sqrt>"
            ]
          },
          "metadata": {
            "tags": []
          },
          "execution_count": 46
        }
      ]
    },
    {
      "cell_type": "code",
      "metadata": {
        "id": "ZjHX8Y4UJefV"
      },
      "source": [
        "f =abs #alias for abs"
      ],
      "execution_count": 47,
      "outputs": []
    },
    {
      "cell_type": "code",
      "metadata": {
        "id": "cWyrpFOCJjvD",
        "outputId": "e2bc5104-2c31-4472-c98b-6127940c6b4b",
        "colab": {
          "base_uri": "https://localhost:8080/",
          "height": 35
        }
      },
      "source": [
        "f"
      ],
      "execution_count": 48,
      "outputs": [
        {
          "output_type": "execute_result",
          "data": {
            "text/plain": [
              "<function abs>"
            ]
          },
          "metadata": {
            "tags": []
          },
          "execution_count": 48
        }
      ]
    },
    {
      "cell_type": "code",
      "metadata": {
        "id": "SJaJRHrqEUS9",
        "outputId": "64b89bbe-0d36-4f21-eab0-eb1f1d166f29",
        "colab": {
          "base_uri": "https://localhost:8080/",
          "height": 104
        }
      },
      "source": [
        "help(abs)"
      ],
      "execution_count": 52,
      "outputs": [
        {
          "output_type": "stream",
          "text": [
            "Help on built-in function abs in module builtins:\n",
            "\n",
            "abs(x, /)\n",
            "    Return the absolute value of the argument.\n",
            "\n"
          ],
          "name": "stdout"
        }
      ]
    },
    {
      "cell_type": "code",
      "metadata": {
        "id": "iFlWdgrtESX0",
        "outputId": "4bb419ae-c412-4c1d-da10-3f5a567f7bbd",
        "colab": {
          "base_uri": "https://localhost:8080/",
          "height": 35
        }
      },
      "source": [
        "abs(-3)"
      ],
      "execution_count": 50,
      "outputs": [
        {
          "output_type": "execute_result",
          "data": {
            "text/plain": [
              "3"
            ]
          },
          "metadata": {
            "tags": []
          },
          "execution_count": 50
        }
      ]
    },
    {
      "cell_type": "code",
      "metadata": {
        "id": "M3dhsjIbJkN2",
        "outputId": "3fc25890-98db-40a5-a88d-ab4f83166a7a",
        "colab": {
          "base_uri": "https://localhost:8080/",
          "height": 35
        }
      },
      "source": [
        "f(-3)"
      ],
      "execution_count": 51,
      "outputs": [
        {
          "output_type": "execute_result",
          "data": {
            "text/plain": [
              "3"
            ]
          },
          "metadata": {
            "tags": []
          },
          "execution_count": 51
        }
      ]
    },
    {
      "cell_type": "code",
      "metadata": {
        "id": "ESZq4IKpEeOw"
      },
      "source": [
        "mynum= [1,'hello',3.2,[1,2]]"
      ],
      "execution_count": 59,
      "outputs": []
    },
    {
      "cell_type": "code",
      "metadata": {
        "id": "mYXR7JLUFOQJ",
        "outputId": "e12c86dc-9b8c-4a50-ffee-e1cd75745e45",
        "colab": {
          "base_uri": "https://localhost:8080/",
          "height": 35
        }
      },
      "source": [
        "len(mynum)"
      ],
      "execution_count": 74,
      "outputs": [
        {
          "output_type": "execute_result",
          "data": {
            "text/plain": [
              "4"
            ]
          },
          "metadata": {
            "tags": []
          },
          "execution_count": 74
        }
      ]
    },
    {
      "cell_type": "code",
      "metadata": {
        "id": "kHng3LTWEgdX",
        "outputId": "ec618c50-0035-45d7-e714-ccb19e5e92d3",
        "colab": {
          "base_uri": "https://localhost:8080/",
          "height": 35
        }
      },
      "source": [
        "type(mynum)"
      ],
      "execution_count": 60,
      "outputs": [
        {
          "output_type": "execute_result",
          "data": {
            "text/plain": [
              "list"
            ]
          },
          "metadata": {
            "tags": []
          },
          "execution_count": 60
        }
      ]
    },
    {
      "cell_type": "code",
      "metadata": {
        "id": "sWGEjVDPJmHU"
      },
      "source": [
        "funs = [abs,math.sqrt,f,fib]"
      ],
      "execution_count": 63,
      "outputs": []
    },
    {
      "cell_type": "code",
      "metadata": {
        "id": "QzUjTJcGJrjU",
        "outputId": "ecce04d9-849b-4d9f-914a-80f30cefc366",
        "colab": {
          "base_uri": "https://localhost:8080/",
          "height": 35
        }
      },
      "source": [
        "funs"
      ],
      "execution_count": 64,
      "outputs": [
        {
          "output_type": "execute_result",
          "data": {
            "text/plain": [
              "[<function abs>, <function math.sqrt>, <function abs>, <function __main__.fib>]"
            ]
          },
          "metadata": {
            "tags": []
          },
          "execution_count": 64
        }
      ]
    },
    {
      "cell_type": "code",
      "metadata": {
        "id": "Jiiy-IMOFIwd",
        "outputId": "eb7b6885-9d7b-4416-c8ab-e15a076f72b0",
        "colab": {
          "base_uri": "https://localhost:8080/",
          "height": 35
        }
      },
      "source": [
        "abs(-3)"
      ],
      "execution_count": 65,
      "outputs": [
        {
          "output_type": "execute_result",
          "data": {
            "text/plain": [
              "3"
            ]
          },
          "metadata": {
            "tags": []
          },
          "execution_count": 65
        }
      ]
    },
    {
      "cell_type": "code",
      "metadata": {
        "id": "IHpF6R8AJsNq",
        "outputId": "b4b98e92-e12a-437a-c3b1-337f8c3f98c1",
        "colab": {
          "base_uri": "https://localhost:8080/",
          "height": 35
        }
      },
      "source": [
        "funs[0](-3)"
      ],
      "execution_count": 77,
      "outputs": [
        {
          "output_type": "execute_result",
          "data": {
            "text/plain": [
              "3"
            ]
          },
          "metadata": {
            "tags": []
          },
          "execution_count": 77
        }
      ]
    },
    {
      "cell_type": "code",
      "metadata": {
        "id": "Ag45oNuKJxf6",
        "outputId": "e685781d-edcd-4afa-f250-dc46bd280325",
        "colab": {
          "base_uri": "https://localhost:8080/",
          "height": 35
        }
      },
      "source": [
        "funs[3](9)"
      ],
      "execution_count": 79,
      "outputs": [
        {
          "output_type": "execute_result",
          "data": {
            "text/plain": [
              "34"
            ]
          },
          "metadata": {
            "tags": []
          },
          "execution_count": 79
        }
      ]
    },
    {
      "cell_type": "code",
      "metadata": {
        "id": "tHemsEygJ3bC",
        "outputId": "418ea3a6-dab4-445d-ce2a-955602e31d0d",
        "colab": {
          "base_uri": "https://localhost:8080/"
        }
      },
      "source": [
        "funs[2](-3)"
      ],
      "execution_count": null,
      "outputs": [
        {
          "output_type": "execute_result",
          "data": {
            "text/plain": [
              "3"
            ]
          },
          "metadata": {
            "tags": []
          },
          "execution_count": 77
        }
      ]
    },
    {
      "cell_type": "markdown",
      "metadata": {
        "id": "lWr22ISDKCs8"
      },
      "source": [
        "Passing a function as an argument to another function is no different from\n",
        "passing any other datum. The function argument is first evaluated, producing the\n",
        "function itself, and then the parameter name is bound to this value. The function\n",
        "can then be applied to its own argument with the usual syntax"
      ]
    },
    {
      "cell_type": "code",
      "metadata": {
        "id": "UpeXpeOzJ5AH"
      },
      "source": [
        "def example(functionarg,dataarg):\n",
        "  return functionarg(dataarg)"
      ],
      "execution_count": 80,
      "outputs": []
    },
    {
      "cell_type": "code",
      "metadata": {
        "id": "D6zWZP7xKJ58",
        "outputId": "8ffecd9f-26f8-4097-8ab1-326cc4807ef4",
        "colab": {
          "base_uri": "https://localhost:8080/",
          "height": 35
        }
      },
      "source": [
        "example(abs,-4)"
      ],
      "execution_count": 81,
      "outputs": [
        {
          "output_type": "execute_result",
          "data": {
            "text/plain": [
              "4"
            ]
          },
          "metadata": {
            "tags": []
          },
          "execution_count": 81
        }
      ]
    },
    {
      "cell_type": "code",
      "metadata": {
        "id": "qEmN4Fp0KO44",
        "outputId": "0ea91fb7-2b99-42ee-d6c4-23ba919391a7",
        "colab": {
          "base_uri": "https://localhost:8080/",
          "height": 35
        }
      },
      "source": [
        "example(math.sqrt,9)"
      ],
      "execution_count": 82,
      "outputs": [
        {
          "output_type": "execute_result",
          "data": {
            "text/plain": [
              "3.0"
            ]
          },
          "metadata": {
            "tags": []
          },
          "execution_count": 82
        }
      ]
    },
    {
      "cell_type": "markdown",
      "metadata": {
        "id": "HIUAUvGcMKoO"
      },
      "source": [
        "#Mapping"
      ]
    },
    {
      "cell_type": "markdown",
      "metadata": {
        "id": "xKN3G7nyMQFa"
      },
      "source": [
        "This process applies a function to each value in a sequence (such as a list, a\n",
        "tuple, or a string) and returns a new sequence of the results."
      ]
    },
    {
      "cell_type": "code",
      "metadata": {
        "id": "pBGtxTn9KTDQ"
      },
      "source": [
        "words = [\"231\",\"20\",\"-45\",\"99\"]"
      ],
      "execution_count": 88,
      "outputs": []
    },
    {
      "cell_type": "code",
      "metadata": {
        "id": "umN7Vrw-Gq09",
        "outputId": "98aab358-92eb-4995-b48b-ec40b0d520a9",
        "colab": {
          "base_uri": "https://localhost:8080/",
          "height": 35
        }
      },
      "source": [
        "words"
      ],
      "execution_count": 89,
      "outputs": [
        {
          "output_type": "execute_result",
          "data": {
            "text/plain": [
              "['231', '20', '-45', '99']"
            ]
          },
          "metadata": {
            "tags": []
          },
          "execution_count": 89
        }
      ]
    },
    {
      "cell_type": "code",
      "metadata": {
        "id": "XjaDKhZ_P3kL",
        "outputId": "a106f035-54d3-41dd-adf8-7af01acb58e4",
        "colab": {
          "base_uri": "https://localhost:8080/",
          "height": 35
        }
      },
      "source": [
        "type(words[0])"
      ],
      "execution_count": 84,
      "outputs": [
        {
          "output_type": "execute_result",
          "data": {
            "text/plain": [
              "str"
            ]
          },
          "metadata": {
            "tags": []
          },
          "execution_count": 84
        }
      ]
    },
    {
      "cell_type": "code",
      "metadata": {
        "id": "OJLAjuY3PszA"
      },
      "source": [
        "words=list(map(int,words))"
      ],
      "execution_count": 90,
      "outputs": []
    },
    {
      "cell_type": "code",
      "metadata": {
        "id": "WbPKOo_PPuWc",
        "outputId": "b91a4ef2-1bc8-4ab3-bec2-9181831e1fe6",
        "colab": {
          "base_uri": "https://localhost:8080/",
          "height": 35
        }
      },
      "source": [
        "words"
      ],
      "execution_count": 91,
      "outputs": [
        {
          "output_type": "execute_result",
          "data": {
            "text/plain": [
              "[231, 20, -45, 99]"
            ]
          },
          "metadata": {
            "tags": []
          },
          "execution_count": 91
        }
      ]
    },
    {
      "cell_type": "code",
      "metadata": {
        "id": "kNS4VJs3P67T",
        "outputId": "91d2589f-8a70-4c88-897d-aa648e692bd6",
        "colab": {
          "base_uri": "https://localhost:8080/",
          "height": 35
        }
      },
      "source": [
        "type(words[0])"
      ],
      "execution_count": 92,
      "outputs": [
        {
          "output_type": "execute_result",
          "data": {
            "text/plain": [
              "int"
            ]
          },
          "metadata": {
            "tags": []
          },
          "execution_count": 92
        }
      ]
    },
    {
      "cell_type": "markdown",
      "metadata": {
        "id": "zGZ17WD8QHzc"
      },
      "source": [
        "#Filtering"
      ]
    },
    {
      "cell_type": "markdown",
      "metadata": {
        "id": "zmfV5g9tQTDx"
      },
      "source": [
        "Function called a predicate is applied to each value in a list. If the predicate\n",
        "returns True, the value passes the test and is added to a filter object (similar to a\n",
        "map object). Otherwise, the value is dropped from consideration."
      ]
    },
    {
      "cell_type": "code",
      "metadata": {
        "id": "RKZxq_UGQiFr"
      },
      "source": [
        "mylist=[1,2,3,4,5,6,7,8,9]"
      ],
      "execution_count": 93,
      "outputs": []
    },
    {
      "cell_type": "code",
      "metadata": {
        "id": "t2uJVSC_P1GE"
      },
      "source": [
        "def even(n):\n",
        "  return n%2 ==0"
      ],
      "execution_count": 94,
      "outputs": []
    },
    {
      "cell_type": "code",
      "metadata": {
        "id": "nXeBUJeaHKks",
        "outputId": "8c5449fc-1db6-4847-cf4b-cb34d33f0c3a",
        "colab": {
          "base_uri": "https://localhost:8080/",
          "height": 35
        }
      },
      "source": [
        "even(3)"
      ],
      "execution_count": 96,
      "outputs": [
        {
          "output_type": "execute_result",
          "data": {
            "text/plain": [
              "False"
            ]
          },
          "metadata": {
            "tags": []
          },
          "execution_count": 96
        }
      ]
    },
    {
      "cell_type": "code",
      "metadata": {
        "id": "3GopY_eTQauj"
      },
      "source": [
        "result=list(filter(even,mylist))"
      ],
      "execution_count": 97,
      "outputs": []
    },
    {
      "cell_type": "code",
      "metadata": {
        "id": "vwo861hcQnQE",
        "outputId": "c31e8798-da63-4823-d522-eb3a4deff77f",
        "colab": {
          "base_uri": "https://localhost:8080/",
          "height": 35
        }
      },
      "source": [
        "result"
      ],
      "execution_count": 98,
      "outputs": [
        {
          "output_type": "execute_result",
          "data": {
            "text/plain": [
              "[2, 4, 6, 8]"
            ]
          },
          "metadata": {
            "tags": []
          },
          "execution_count": 98
        }
      ]
    },
    {
      "cell_type": "markdown",
      "metadata": {
        "id": "A1YcdxYNRt40"
      },
      "source": [
        "#Reducing"
      ]
    },
    {
      "cell_type": "markdown",
      "metadata": {
        "id": "mt5GAKzzRyQU"
      },
      "source": [
        "Take a list of values and repeatedly apply a function to accumulate a single data value."
      ]
    },
    {
      "cell_type": "code",
      "metadata": {
        "id": "BdnVxIopHmKs",
        "outputId": "80397558-e305-4001-ab5b-cdfc8c46c97e",
        "colab": {
          "base_uri": "https://localhost:8080/",
          "height": 35
        }
      },
      "source": [
        "mylist"
      ],
      "execution_count": 102,
      "outputs": [
        {
          "output_type": "execute_result",
          "data": {
            "text/plain": [
              "[1, 2, 3, 4, 5, 6, 7, 8, 9]"
            ]
          },
          "metadata": {
            "tags": []
          },
          "execution_count": 102
        }
      ]
    },
    {
      "cell_type": "code",
      "metadata": {
        "id": "j6_X87eqRkWN"
      },
      "source": [
        "from functools import reduce"
      ],
      "execution_count": 99,
      "outputs": []
    },
    {
      "cell_type": "code",
      "metadata": {
        "id": "9c4VoFqLR6Bz"
      },
      "source": [
        "def add(x,y):\n",
        "  return x+y"
      ],
      "execution_count": 100,
      "outputs": []
    },
    {
      "cell_type": "code",
      "metadata": {
        "id": "yZHFEy6MHgJO",
        "outputId": "cbd42b34-0868-4da9-a3d5-48dc960a5b5a",
        "colab": {
          "base_uri": "https://localhost:8080/",
          "height": 35
        }
      },
      "source": [
        "add(3,4)"
      ],
      "execution_count": 101,
      "outputs": [
        {
          "output_type": "execute_result",
          "data": {
            "text/plain": [
              "7"
            ]
          },
          "metadata": {
            "tags": []
          },
          "execution_count": 101
        }
      ]
    },
    {
      "cell_type": "code",
      "metadata": {
        "id": "JWsW-p5nR-dA",
        "outputId": "c566b04f-d1c6-4fe8-88f9-35acec7ace4c",
        "colab": {
          "base_uri": "https://localhost:8080/",
          "height": 35
        }
      },
      "source": [
        "reduce(add,mylist)"
      ],
      "execution_count": 103,
      "outputs": [
        {
          "output_type": "execute_result",
          "data": {
            "text/plain": [
              "45"
            ]
          },
          "metadata": {
            "tags": []
          },
          "execution_count": 103
        }
      ]
    },
    {
      "cell_type": "code",
      "metadata": {
        "id": "QL5s3Bl_H2ys",
        "outputId": "6f95617d-809d-415c-d2ca-82dd8fdae7f4",
        "colab": {
          "base_uri": "https://localhost:8080/",
          "height": 35
        }
      },
      "source": [
        "result"
      ],
      "execution_count": 106,
      "outputs": [
        {
          "output_type": "execute_result",
          "data": {
            "text/plain": [
              "[2, 4, 6, 8]"
            ]
          },
          "metadata": {
            "tags": []
          },
          "execution_count": 106
        }
      ]
    },
    {
      "cell_type": "code",
      "metadata": {
        "id": "-ttwGZ_SHy8d",
        "outputId": "f12fb59b-2241-420f-9ce3-0a60ac57d550",
        "colab": {
          "base_uri": "https://localhost:8080/",
          "height": 35
        }
      },
      "source": [
        "reduce(add,result)"
      ],
      "execution_count": 105,
      "outputs": [
        {
          "output_type": "execute_result",
          "data": {
            "text/plain": [
              "20"
            ]
          },
          "metadata": {
            "tags": []
          },
          "execution_count": 105
        }
      ]
    },
    {
      "cell_type": "code",
      "metadata": {
        "id": "jSNiPwdJTd7J",
        "outputId": "c4b706d0-12a4-4261-81be-a83a0f4ec716",
        "colab": {
          "base_uri": "https://localhost:8080/"
        }
      },
      "source": [
        "reduce(add,list(filter(odd,mylist)))"
      ],
      "execution_count": null,
      "outputs": [
        {
          "output_type": "execute_result",
          "data": {
            "text/plain": [
              "20"
            ]
          },
          "metadata": {
            "tags": []
          },
          "execution_count": 21
        }
      ]
    },
    {
      "cell_type": "markdown",
      "metadata": {
        "id": "VFkbOKCuTwbU"
      },
      "source": [
        "#Using lambda to Create Anonymous Functions"
      ]
    },
    {
      "cell_type": "markdown",
      "metadata": {
        "id": "ofLwSc02T2yK"
      },
      "source": [
        "Python includes a mechanism called lambda that allows the programmer to create functions in this manner.\n",
        "A lambda is an anonymous function.\n",
        "It has no name of its own, but contains the names of its arguments as well as a single expression. \n",
        "When the lambda is applied to its arguments, its expression is evaluated, and its value is returned.\n",
        "All of the code must appear on one line and\n",
        "The syntax of a lambda is very tight and restrictive:\n",
        "lambda<argname-1,...,argname-n>:<expression>\n",
        "\n"
      ]
    },
    {
      "cell_type": "code",
      "metadata": {
        "id": "062pJBeLUkfo",
        "outputId": "8ec8bb57-d660-478e-c793-599f838b6a7b",
        "colab": {
          "base_uri": "https://localhost:8080/"
        }
      },
      "source": [
        "add5 = lambda x: x + 5\n",
        "print(add5(7))"
      ],
      "execution_count": null,
      "outputs": [
        {
          "output_type": "stream",
          "text": [
            "12\n"
          ],
          "name": "stdout"
        }
      ]
    },
    {
      "cell_type": "code",
      "metadata": {
        "id": "XAUi7rtzUt4U",
        "outputId": "0d8c9627-6063-4117-c5d6-649952c21c1c",
        "colab": {
          "base_uri": "https://localhost:8080/"
        }
      },
      "source": [
        "square = lambda x: x * x\n",
        "print(square(8))"
      ],
      "execution_count": null,
      "outputs": [
        {
          "output_type": "stream",
          "text": [
            "64\n"
          ],
          "name": "stdout"
        }
      ]
    },
    {
      "cell_type": "code",
      "metadata": {
        "id": "urT_0wJNTw4C",
        "outputId": "b9e691b5-da28-4d51-f6fe-712f0ec1c921",
        "colab": {
          "base_uri": "https://localhost:8080/"
        }
      },
      "source": [
        "data =[1,2,3,4]\n",
        "reduce(lambda x,y: x+y,data)"
      ],
      "execution_count": null,
      "outputs": [
        {
          "output_type": "execute_result",
          "data": {
            "text/plain": [
              "10"
            ]
          },
          "metadata": {
            "tags": []
          },
          "execution_count": 22
        }
      ]
    },
    {
      "cell_type": "code",
      "metadata": {
        "id": "UrxcQ1QqU1pe",
        "outputId": "3448f824-d3aa-4987-f5b3-256c3ed639bf",
        "colab": {
          "base_uri": "https://localhost:8080/"
        }
      },
      "source": [
        "list1 = [1, 2, 3, 4, 5, 6]\n",
        "list2 = list(filter(lambda x: x%2 == 0, list1))\n",
        "print(list2)"
      ],
      "execution_count": null,
      "outputs": [
        {
          "output_type": "stream",
          "text": [
            "[2, 4, 6]\n"
          ],
          "name": "stdout"
        }
      ]
    },
    {
      "cell_type": "code",
      "metadata": {
        "id": "o8w3iW_MU2WH",
        "outputId": "d40afc56-f756-4217-f742-fce226953faa",
        "colab": {
          "base_uri": "https://localhost:8080/"
        }
      },
      "source": [
        "\n",
        "odds = lambda x: x%2 == 1\n",
        "list1 = [1, 2, 3, 4, 5, 6]\n",
        "list2 = list(filter(odds, list1))\n",
        "print(list2)"
      ],
      "execution_count": null,
      "outputs": [
        {
          "output_type": "stream",
          "text": [
            "[1, 3, 5]\n"
          ],
          "name": "stdout"
        }
      ]
    },
    {
      "cell_type": "code",
      "metadata": {
        "id": "KobiopmzU49X",
        "outputId": "a72f91ce-f359-450a-9ac4-a7100eb34c09",
        "colab": {
          "base_uri": "https://localhost:8080/"
        }
      },
      "source": [
        "\n",
        "list1 = [1, 2, 3, 4, 5, 6]\n",
        "list2 = list(map(lambda x: x ** 2, list1))\n",
        "print(list2)"
      ],
      "execution_count": null,
      "outputs": [
        {
          "output_type": "stream",
          "text": [
            "[1, 4, 9, 16, 25, 36]\n"
          ],
          "name": "stdout"
        }
      ]
    },
    {
      "cell_type": "code",
      "metadata": {
        "id": "5Hw3upugU8W5",
        "outputId": "1d3f487c-9ce0-4c0d-e247-11e2739f9498",
        "colab": {
          "base_uri": "https://localhost:8080/"
        }
      },
      "source": [
        "import datetime\n",
        "\n",
        "now = datetime.datetime.now()\n",
        "print(now)\n",
        "year = lambda x: x.year\n",
        "print(year(now))"
      ],
      "execution_count": null,
      "outputs": [
        {
          "output_type": "stream",
          "text": [
            "2020-10-07 18:30:33.897785\n",
            "2020\n"
          ],
          "name": "stdout"
        }
      ]
    },
    {
      "cell_type": "code",
      "metadata": {
        "id": "1BpWRgOCVAup"
      },
      "source": [
        ""
      ],
      "execution_count": null,
      "outputs": []
    }
  ]
}