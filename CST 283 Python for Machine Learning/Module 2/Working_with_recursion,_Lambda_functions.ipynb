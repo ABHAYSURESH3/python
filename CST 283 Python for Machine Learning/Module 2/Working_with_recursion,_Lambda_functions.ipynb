{
  "nbformat": 4,
  "nbformat_minor": 0,
  "metadata": {
    "colab": {
      "name": "Working with recursion, Lambda functions",
      "provenance": []
    },
    "kernelspec": {
      "name": "python3",
      "display_name": "Python 3"
    }
  },
  "cells": [
    {
      "cell_type": "markdown",
      "metadata": {
        "id": "FKqq5y6-1fSY"
      },
      "source": [
        "#Recursive function"
      ]
    },
    {
      "cell_type": "markdown",
      "metadata": {
        "id": "Lg-JCqSi1p63"
      },
      "source": [
        "A recursive function is a function that calls itself. To prevent a function from\n",
        "repeating itself indefinitely, it must contain at least one selection statement. This\n",
        "statement examines a condition called a base case to determine whether to stop\n",
        "or to continue with another recursive step."
      ]
    },
    {
      "cell_type": "markdown",
      "metadata": {
        "id": "Y2kdgBBVFFsI"
      },
      "source": [
        "Recursive functions are frequently used to design algorithms for computing values\n",
        "that have a recursive definition."
      ]
    },
    {
      "cell_type": "markdown",
      "metadata": {
        "id": "eL2sOziyFREw"
      },
      "source": [
        "A recursive definition consists of equations that\n",
        "state what a value is for one or more base cases and one or more recursive cases.\n",
        "For example, the Fibonacci sequence is a series of values with a recursive definition.\n",
        "The first and second numbers in the Fibonacci sequence are 1. Thereafter,\n",
        "each number in the sequence is the sum of its two predecessors"
      ]
    },
    {
      "cell_type": "code",
      "metadata": {
        "id": "2_ph2REU1lG-"
      },
      "source": [
        "def fib(n):\n",
        "   if n <= 1:\n",
        "       return n\n",
        "   else:\n",
        "       return(fib(n-1) + fib(n-2))"
      ],
      "execution_count": 1,
      "outputs": []
    },
    {
      "cell_type": "code",
      "metadata": {
        "id": "FvJ4n_tR2ewb",
        "outputId": "fcdeeaf0-689c-4e34-8790-9e48fb469f5d",
        "colab": {
          "base_uri": "https://localhost:8080/"
        }
      },
      "source": [
        "fib(1)"
      ],
      "execution_count": 65,
      "outputs": [
        {
          "output_type": "execute_result",
          "data": {
            "text/plain": [
              "1"
            ]
          },
          "metadata": {
            "tags": []
          },
          "execution_count": 65
        }
      ]
    },
    {
      "cell_type": "markdown",
      "metadata": {
        "id": "qV7Xvova2lKC"
      },
      "source": [
        "If you played around with the fibonacci function , you might have noticed that the bigger the argument you provide, the longer the function takes to run. Furthermore, the run time increases very quickly. On one of our machines, fibonacci(20) finishes instantly, fibonacci(30) takes about a second, and fibonacci(40) takes roughly forever"
      ]
    },
    {
      "cell_type": "code",
      "metadata": {
        "id": "peU0NFjl2g8z",
        "outputId": "f5a49266-8ac5-42b5-adf2-d74b913b5182",
        "colab": {
          "base_uri": "https://localhost:8080/"
        }
      },
      "source": [
        "import time\n",
        "def fib(n):\n",
        "   if n <= 1:\n",
        "       return n\n",
        "   else:\n",
        "       return(fib(n-1) + fib(n-2))\n",
        "n=int(input(\"Enter the value of n:\"))\n",
        "start_time = time.time()\n",
        "print(\"Fibonacci(\", n,\")= \", fib(n))\n",
        "print(\"Time:% \",(time.time() - start_time))"
      ],
      "execution_count": 3,
      "outputs": [
        {
          "output_type": "stream",
          "text": [
            "Enter the value of n:5\n",
            "Fibonacci( 5 )=  5\n",
            "Time:%  0.0002002716064453125\n"
          ],
          "name": "stdout"
        }
      ]
    },
    {
      "cell_type": "markdown",
      "metadata": {
        "id": "DUys6T632vNB"
      },
      "source": [
        "Note the running time\n",
        "[Call graph](https://github.com/sarithdm/python/blob/master/ITT%20205%20Problem%20Solving%20using%20Python/Module%202/cg.png)"
      ]
    },
    {
      "cell_type": "markdown",
      "metadata": {
        "id": "4T-xVFdn20-Z"
      },
      "source": [
        "A call graph shows a set function frames, with lines connecting each frame to\n",
        "the frames of the functions it calls. At the top of the graph, fibonacci with\n",
        "n=4 calls fibonacci with n=3 and n=2. In turn, fibonacci with n=3 calls\n",
        "fibonacci with n=2 and n=1. And so on."
      ]
    },
    {
      "cell_type": "markdown",
      "metadata": {
        "id": "EvFotEp-24BX"
      },
      "source": [
        "Count how many times fibonacci(0) and fibonacci(1) are called. This is an\n",
        "inefficient solution to the problem, and it gets far worse as the argument gets\n",
        "bigger."
      ]
    },
    {
      "cell_type": "markdown",
      "metadata": {
        "id": "63GzZogM24JK"
      },
      "source": [
        "Good solution is to keep track of values that have already been computed by\n",
        "storing them in a dictionary. A previously computed value that is stored for\n",
        "later use is called a hint. Here is an implementation of fibonacci using hints"
      ]
    },
    {
      "cell_type": "code",
      "metadata": {
        "id": "WK9g10oC2nwL",
        "outputId": "247e0476-fac7-4f41-f677-572863d4ba57",
        "colab": {
          "base_uri": "https://localhost:8080/"
        }
      },
      "source": [
        "previous={0:0, 1:1}\n",
        "def fibonacci(n):\n",
        "    if n not in previous:\n",
        "        val=fibonacci(n-1)+fibonacci(n-2)\n",
        "        previous[n]=val\n",
        "    return previous[n]\n",
        "n=int(input(\"Enter the value of n:\"))\n",
        "print(\"Fibonacci(\", n,\")= \", fibonacci(n))"
      ],
      "execution_count": 4,
      "outputs": [
        {
          "output_type": "stream",
          "text": [
            "Enter the value of n:5\n",
            "Fibonacci( 5 )=  5\n"
          ],
          "name": "stdout"
        }
      ]
    },
    {
      "cell_type": "markdown",
      "metadata": {
        "id": "q_oI-L8X8OD6"
      },
      "source": [
        "#iterative algorithm to a recursive function"
      ]
    },
    {
      "cell_type": "code",
      "metadata": {
        "id": "Rzj5_53N8EJW"
      },
      "source": [
        "def displayrangeiterate(lower,upper):\n",
        "  while lower<=upper:\n",
        "    #print(lower)\n",
        "    lower+=1"
      ],
      "execution_count": 16,
      "outputs": []
    },
    {
      "cell_type": "code",
      "metadata": {
        "id": "WOpFY2XA8dTY",
        "outputId": "6fd8da85-84c5-4728-c3fa-348bc06886e0",
        "colab": {
          "base_uri": "https://localhost:8080/"
        }
      },
      "source": [
        "displayrangeiterate(3,10)"
      ],
      "execution_count": 10,
      "outputs": [
        {
          "output_type": "stream",
          "text": [
            "3\n",
            "4\n",
            "5\n",
            "6\n",
            "7\n",
            "8\n",
            "9\n",
            "10\n"
          ],
          "name": "stdout"
        }
      ]
    },
    {
      "cell_type": "markdown",
      "metadata": {
        "id": "3U7CnI4L8ko1"
      },
      "source": [
        "How would we go about converting this function to a recursive one? First, you\n",
        "should note two important facts:\n",
        "\n",
        "\n",
        "1.   The loop’s body continues execution while lower <= upper.\n",
        "2.   When the function executes, lower is incremented by 1, but upper\n",
        "never changes."
      ]
    },
    {
      "cell_type": "code",
      "metadata": {
        "id": "n5DmdZlM8gzM"
      },
      "source": [
        "def displayrangerecursion(lower,upper):\n",
        "  if lower<=upper:\n",
        "    #print(lower)\n",
        "    displayrangerecursion(lower+1,upper)"
      ],
      "execution_count": 19,
      "outputs": []
    },
    {
      "cell_type": "code",
      "metadata": {
        "id": "_yUHCjzr9BsV",
        "outputId": "f9e854f0-e056-4ce8-e2a0-ebaf5aa15b05",
        "colab": {
          "base_uri": "https://localhost:8080/"
        }
      },
      "source": [
        "displayrangerecursion(3,10)"
      ],
      "execution_count": 12,
      "outputs": [
        {
          "output_type": "stream",
          "text": [
            "3\n",
            "4\n",
            "5\n",
            "6\n",
            "7\n",
            "8\n",
            "9\n",
            "10\n"
          ],
          "name": "stdout"
        }
      ]
    },
    {
      "cell_type": "markdown",
      "metadata": {
        "id": "CzVVWUf88vxG"
      },
      "source": [
        "The equivalent recursive function performs similar primitive operations, but\n",
        "the loop is replaced with a selection statement, and the assignment statement is replaced with a recursive call of the function. "
      ]
    },
    {
      "cell_type": "code",
      "metadata": {
        "id": "nHKW-rtt8yiJ",
        "outputId": "b978d854-b43a-4e62-988d-549fe124bd89",
        "colab": {
          "base_uri": "https://localhost:8080/"
        }
      },
      "source": [
        "start_time = time.time()\n",
        "print(\"Iterative: \", displayrangeiterate(3,100))\n",
        "print(\"Time:% \",(time.time() - start_time))\n",
        "start_time = time.time()\n",
        "print(\"Recursion: \", displayrangerecursion(3,100))\n",
        "print(\"Time:% \",(time.time() - start_time))"
      ],
      "execution_count": 22,
      "outputs": [
        {
          "output_type": "stream",
          "text": [
            "Iterative:  None\n",
            "Time:%  0.000217437744140625\n",
            "Recursion:  None\n",
            "Time:%  0.00012373924255371094\n"
          ],
          "name": "stdout"
        }
      ]
    },
    {
      "cell_type": "markdown",
      "metadata": {
        "id": "CP-BASnjFY3y"
      },
      "source": [
        "#Infinite Recursion"
      ]
    },
    {
      "cell_type": "code",
      "metadata": {
        "id": "9wYWlO-39c2d",
        "outputId": "8a553d66-b5aa-4dcd-b3ca-fcc685600f95",
        "colab": {
          "base_uri": "https://localhost:8080/",
          "height": 322
        }
      },
      "source": [
        "displayrangerecursion(3,1000)"
      ],
      "execution_count": 24,
      "outputs": [
        {
          "output_type": "error",
          "ename": "RecursionError",
          "evalue": "ignored",
          "traceback": [
            "\u001b[0;31m---------------------------------------------------------------------------\u001b[0m",
            "\u001b[0;31mRecursionError\u001b[0m                            Traceback (most recent call last)",
            "\u001b[0;32m<ipython-input-24-f0c1207f0475>\u001b[0m in \u001b[0;36m<module>\u001b[0;34m()\u001b[0m\n\u001b[0;32m----> 1\u001b[0;31m \u001b[0mdisplayrangerecursion\u001b[0m\u001b[0;34m(\u001b[0m\u001b[0;36m3\u001b[0m\u001b[0;34m,\u001b[0m\u001b[0;36m1000\u001b[0m\u001b[0;34m)\u001b[0m\u001b[0;34m\u001b[0m\u001b[0;34m\u001b[0m\u001b[0m\n\u001b[0m",
            "\u001b[0;32m<ipython-input-19-8d58ca614f71>\u001b[0m in \u001b[0;36mdisplayrangerecursion\u001b[0;34m(lower, upper)\u001b[0m\n\u001b[1;32m      2\u001b[0m   \u001b[0;32mif\u001b[0m \u001b[0mlower\u001b[0m\u001b[0;34m<=\u001b[0m\u001b[0mupper\u001b[0m\u001b[0;34m:\u001b[0m\u001b[0;34m\u001b[0m\u001b[0;34m\u001b[0m\u001b[0m\n\u001b[1;32m      3\u001b[0m     \u001b[0;31m#print(lower)\u001b[0m\u001b[0;34m\u001b[0m\u001b[0;34m\u001b[0m\u001b[0;34m\u001b[0m\u001b[0m\n\u001b[0;32m----> 4\u001b[0;31m     \u001b[0mdisplayrangerecursion\u001b[0m\u001b[0;34m(\u001b[0m\u001b[0mlower\u001b[0m\u001b[0;34m+\u001b[0m\u001b[0;36m1\u001b[0m\u001b[0;34m,\u001b[0m\u001b[0mupper\u001b[0m\u001b[0;34m)\u001b[0m\u001b[0;34m\u001b[0m\u001b[0;34m\u001b[0m\u001b[0m\n\u001b[0m",
            "... last 1 frames repeated, from the frame below ...\n",
            "\u001b[0;32m<ipython-input-19-8d58ca614f71>\u001b[0m in \u001b[0;36mdisplayrangerecursion\u001b[0;34m(lower, upper)\u001b[0m\n\u001b[1;32m      2\u001b[0m   \u001b[0;32mif\u001b[0m \u001b[0mlower\u001b[0m\u001b[0;34m<=\u001b[0m\u001b[0mupper\u001b[0m\u001b[0;34m:\u001b[0m\u001b[0;34m\u001b[0m\u001b[0;34m\u001b[0m\u001b[0m\n\u001b[1;32m      3\u001b[0m     \u001b[0;31m#print(lower)\u001b[0m\u001b[0;34m\u001b[0m\u001b[0;34m\u001b[0m\u001b[0;34m\u001b[0m\u001b[0m\n\u001b[0;32m----> 4\u001b[0;31m     \u001b[0mdisplayrangerecursion\u001b[0m\u001b[0;34m(\u001b[0m\u001b[0mlower\u001b[0m\u001b[0;34m+\u001b[0m\u001b[0;36m1\u001b[0m\u001b[0;34m,\u001b[0m\u001b[0mupper\u001b[0m\u001b[0;34m)\u001b[0m\u001b[0;34m\u001b[0m\u001b[0;34m\u001b[0m\u001b[0m\n\u001b[0m",
            "\u001b[0;31mRecursionError\u001b[0m: maximum recursion depth exceeded in comparison"
          ]
        }
      ]
    },
    {
      "cell_type": "markdown",
      "metadata": {
        "id": "ZVEfbMrh_yEf"
      },
      "source": [
        "#Sum function"
      ]
    },
    {
      "cell_type": "code",
      "metadata": {
        "id": "NjqUsaC6_bsn"
      },
      "source": [
        "def sum(lower,upper):\n",
        "  if lower>upper:\n",
        "    return 0\n",
        "  else:\n",
        "    return lower + sum(lower+1,upper)"
      ],
      "execution_count": 27,
      "outputs": []
    },
    {
      "cell_type": "code",
      "metadata": {
        "id": "kmUIPNdLAAwV",
        "outputId": "5cc09f5c-44f2-4bc0-9cb4-9354838d384a",
        "colab": {
          "base_uri": "https://localhost:8080/"
        }
      },
      "source": [
        "sum(1,10)"
      ],
      "execution_count": 29,
      "outputs": [
        {
          "output_type": "execute_result",
          "data": {
            "text/plain": [
              "55"
            ]
          },
          "metadata": {
            "tags": []
          },
          "execution_count": 29
        }
      ]
    },
    {
      "cell_type": "markdown",
      "metadata": {
        "id": "tl27DWmCAaWS"
      },
      "source": [
        "#Tracing a Recursive Function"
      ]
    },
    {
      "cell_type": "code",
      "metadata": {
        "id": "2925IVIyACDt"
      },
      "source": [
        "def sum(lower,upper,margin):\n",
        "  blanks= \" \" * margin\n",
        "  #print(blanks,lower,upper)\n",
        "  if lower>upper:\n",
        "    #print(blanks,0)\n",
        "    return 0\n",
        "  else:\n",
        "    result= lower + sum(lower+1,upper,margin+4)\n",
        "    #print (blanks,result)\n",
        "    return result"
      ],
      "execution_count": 35,
      "outputs": []
    },
    {
      "cell_type": "code",
      "metadata": {
        "id": "KMMKMWFxA57t",
        "outputId": "2d6937b8-b2e7-4b13-dc0b-e124b2adcbba",
        "colab": {
          "base_uri": "https://localhost:8080/"
        }
      },
      "source": [
        "sum(1,4,0)"
      ],
      "execution_count": 36,
      "outputs": [
        {
          "output_type": "execute_result",
          "data": {
            "text/plain": [
              "10"
            ]
          },
          "metadata": {
            "tags": []
          },
          "execution_count": 36
        }
      ]
    },
    {
      "cell_type": "code",
      "metadata": {
        "id": "hhiYJ5roBht5"
      },
      "source": [
        "def sum(lower,upper,margin):\n",
        "  blanks= \" \" * margin\n",
        "  print(blanks,lower,upper)\n",
        "  if lower>upper:\n",
        "    print(\"Lower:\",lower,\"Upper:\",upper)\n",
        "    print(\"Max Depth\",blanks,0)\n",
        "    return 0\n",
        "  else:\n",
        "    result= lower + sum(lower+1,upper,margin+4) #1+(2+(3+(4+0)))\n",
        "    print(blanks,\"Lower\",lower)\n",
        "    print(blanks,\"Result:\",result) #Printing  only once return starts\n",
        "    return result"
      ],
      "execution_count": 59,
      "outputs": []
    },
    {
      "cell_type": "code",
      "metadata": {
        "id": "rmNFVMwYBkCz",
        "outputId": "3e3308c0-99e0-48ff-97b0-a63c48565d5e",
        "colab": {
          "base_uri": "https://localhost:8080/"
        }
      },
      "source": [
        "sum(1,4,0)"
      ],
      "execution_count": 60,
      "outputs": [
        {
          "output_type": "stream",
          "text": [
            " 1 4\n",
            "     2 4\n",
            "         3 4\n",
            "             4 4\n",
            "                 5 4\n",
            "Lower: 5 Upper: 4\n",
            "Max Depth                  0\n",
            "             Lower 4\n",
            "             Result: 4\n",
            "         Lower 3\n",
            "         Result: 7\n",
            "     Lower 2\n",
            "     Result: 9\n",
            " Lower 1\n",
            " Result: 10\n"
          ],
          "name": "stdout"
        },
        {
          "output_type": "execute_result",
          "data": {
            "text/plain": [
              "10"
            ]
          },
          "metadata": {
            "tags": []
          },
          "execution_count": 60
        }
      ]
    },
    {
      "cell_type": "code",
      "metadata": {
        "id": "AXJo2nTCE6Kb"
      },
      "source": [
        "def sum(lower,upper,margin):\n",
        "  blanks= \" \" * margin\n",
        "  print(blanks,lower,upper)\n",
        "  if lower>upper:\n",
        "    print(blanks,0)\n",
        "    return 0\n",
        "  else:\n",
        "    result= lower + sum(lower+1,upper,margin+4)\n",
        "    print (blanks,result)\n",
        "    return result"
      ],
      "execution_count": 61,
      "outputs": []
    },
    {
      "cell_type": "code",
      "metadata": {
        "id": "S-ZCoAXLE80w",
        "outputId": "93b85ef2-deba-4d56-b835-7c789eeca5f4",
        "colab": {
          "base_uri": "https://localhost:8080/"
        }
      },
      "source": [
        "sum(1,4,0)"
      ],
      "execution_count": 62,
      "outputs": [
        {
          "output_type": "stream",
          "text": [
            " 1 4\n",
            "     2 4\n",
            "         3 4\n",
            "             4 4\n",
            "                 5 4\n",
            "                 0\n",
            "             4\n",
            "         7\n",
            "     9\n",
            " 10\n"
          ],
          "name": "stdout"
        },
        {
          "output_type": "execute_result",
          "data": {
            "text/plain": [
              "10"
            ]
          },
          "metadata": {
            "tags": []
          },
          "execution_count": 62
        }
      ]
    },
    {
      "cell_type": "markdown",
      "metadata": {
        "id": "Su5ohyh5BPTM"
      },
      "source": [
        "The displayed pairs of arguments are indented further to the right as the calls of\n",
        "sum proceed. Note that the value of lower increases by 1 on each call, whereas\n",
        "the value of upper stays the same. The final call of sum returns 0. As the recursion\n",
        "unwinds, each value returned is aligned with the arguments above it and\n",
        "increases by the current value of lower. This type of tracing can be a useful\n",
        "debugging tool for recursive functions"
      ]
    },
    {
      "cell_type": "markdown",
      "metadata": {
        "id": "rwkS8zM8JDFf"
      },
      "source": [
        "#Higher-Order Functions"
      ]
    },
    {
      "cell_type": "code",
      "metadata": {
        "id": "U1O3iVJnA87y",
        "outputId": "c63a933b-f772-4437-eb6f-a944325f731d",
        "colab": {
          "base_uri": "https://localhost:8080/"
        }
      },
      "source": [
        "abs"
      ],
      "execution_count": 66,
      "outputs": [
        {
          "output_type": "execute_result",
          "data": {
            "text/plain": [
              "<function abs>"
            ]
          },
          "metadata": {
            "tags": []
          },
          "execution_count": 66
        }
      ]
    },
    {
      "cell_type": "code",
      "metadata": {
        "id": "hUZJHCipJEPV"
      },
      "source": [
        "import math"
      ],
      "execution_count": 67,
      "outputs": []
    },
    {
      "cell_type": "code",
      "metadata": {
        "id": "zNnX0Zg5JdOM",
        "outputId": "f20edd8f-9230-4c88-bf9f-d617ff2f3c64",
        "colab": {
          "base_uri": "https://localhost:8080/"
        }
      },
      "source": [
        "math.sqrt"
      ],
      "execution_count": 68,
      "outputs": [
        {
          "output_type": "execute_result",
          "data": {
            "text/plain": [
              "<function math.sqrt>"
            ]
          },
          "metadata": {
            "tags": []
          },
          "execution_count": 68
        }
      ]
    },
    {
      "cell_type": "code",
      "metadata": {
        "id": "ZjHX8Y4UJefV"
      },
      "source": [
        "f =abs #alias for abs"
      ],
      "execution_count": 69,
      "outputs": []
    },
    {
      "cell_type": "code",
      "metadata": {
        "id": "cWyrpFOCJjvD",
        "outputId": "491648a2-9c3d-4e6f-b770-c43334bfcc1d",
        "colab": {
          "base_uri": "https://localhost:8080/"
        }
      },
      "source": [
        "f"
      ],
      "execution_count": 70,
      "outputs": [
        {
          "output_type": "execute_result",
          "data": {
            "text/plain": [
              "<function abs>"
            ]
          },
          "metadata": {
            "tags": []
          },
          "execution_count": 70
        }
      ]
    },
    {
      "cell_type": "code",
      "metadata": {
        "id": "M3dhsjIbJkN2",
        "outputId": "e056a3f8-d054-4155-96cf-47b10fa10bdd",
        "colab": {
          "base_uri": "https://localhost:8080/"
        }
      },
      "source": [
        "f(-3)"
      ],
      "execution_count": 71,
      "outputs": [
        {
          "output_type": "execute_result",
          "data": {
            "text/plain": [
              "3"
            ]
          },
          "metadata": {
            "tags": []
          },
          "execution_count": 71
        }
      ]
    },
    {
      "cell_type": "code",
      "metadata": {
        "id": "sWGEjVDPJmHU"
      },
      "source": [
        "funs = [abs,math.sqrt,f]"
      ],
      "execution_count": 72,
      "outputs": []
    },
    {
      "cell_type": "code",
      "metadata": {
        "id": "QzUjTJcGJrjU",
        "outputId": "8836d2e1-f647-4174-e8d4-977d1761513f",
        "colab": {
          "base_uri": "https://localhost:8080/"
        }
      },
      "source": [
        "funs"
      ],
      "execution_count": 73,
      "outputs": [
        {
          "output_type": "execute_result",
          "data": {
            "text/plain": [
              "[<function abs>, <function math.sqrt>, <function abs>]"
            ]
          },
          "metadata": {
            "tags": []
          },
          "execution_count": 73
        }
      ]
    },
    {
      "cell_type": "code",
      "metadata": {
        "id": "IHpF6R8AJsNq",
        "outputId": "7333a1f1-21b4-47cc-9cb4-ef98d36793fb",
        "colab": {
          "base_uri": "https://localhost:8080/"
        }
      },
      "source": [
        "funs[0](-3)"
      ],
      "execution_count": 75,
      "outputs": [
        {
          "output_type": "execute_result",
          "data": {
            "text/plain": [
              "3"
            ]
          },
          "metadata": {
            "tags": []
          },
          "execution_count": 75
        }
      ]
    },
    {
      "cell_type": "code",
      "metadata": {
        "id": "Ag45oNuKJxf6",
        "outputId": "e0512111-56c4-46e1-9ea5-423a4458dfbc",
        "colab": {
          "base_uri": "https://localhost:8080/"
        }
      },
      "source": [
        "funs[1](9)"
      ],
      "execution_count": 76,
      "outputs": [
        {
          "output_type": "execute_result",
          "data": {
            "text/plain": [
              "3.0"
            ]
          },
          "metadata": {
            "tags": []
          },
          "execution_count": 76
        }
      ]
    },
    {
      "cell_type": "code",
      "metadata": {
        "id": "tHemsEygJ3bC",
        "outputId": "418ea3a6-dab4-445d-ce2a-955602e31d0d",
        "colab": {
          "base_uri": "https://localhost:8080/"
        }
      },
      "source": [
        "funs[2](-3)"
      ],
      "execution_count": 77,
      "outputs": [
        {
          "output_type": "execute_result",
          "data": {
            "text/plain": [
              "3"
            ]
          },
          "metadata": {
            "tags": []
          },
          "execution_count": 77
        }
      ]
    },
    {
      "cell_type": "markdown",
      "metadata": {
        "id": "lWr22ISDKCs8"
      },
      "source": [
        "Passing a function as an argument to another function is no different from\n",
        "passing any other datum. The function argument is first evaluated, producing the\n",
        "function itself, and then the parameter name is bound to this value. The function\n",
        "can then be applied to its own argument with the usual syntax"
      ]
    },
    {
      "cell_type": "code",
      "metadata": {
        "id": "UpeXpeOzJ5AH"
      },
      "source": [
        "def example(functionarg,dataarg):\n",
        "  return functionarg(dataarg)"
      ],
      "execution_count": 79,
      "outputs": []
    },
    {
      "cell_type": "code",
      "metadata": {
        "id": "D6zWZP7xKJ58",
        "outputId": "2de8bdd2-33d7-445d-8e85-099e37c11e5f",
        "colab": {
          "base_uri": "https://localhost:8080/"
        }
      },
      "source": [
        "example(abs,-4)"
      ],
      "execution_count": 80,
      "outputs": [
        {
          "output_type": "execute_result",
          "data": {
            "text/plain": [
              "4"
            ]
          },
          "metadata": {
            "tags": []
          },
          "execution_count": 80
        }
      ]
    },
    {
      "cell_type": "code",
      "metadata": {
        "id": "qEmN4Fp0KO44",
        "outputId": "7bd59cc2-4965-4881-d6c9-06beff04e90d",
        "colab": {
          "base_uri": "https://localhost:8080/"
        }
      },
      "source": [
        "example(math.sqrt,9)"
      ],
      "execution_count": 81,
      "outputs": [
        {
          "output_type": "execute_result",
          "data": {
            "text/plain": [
              "3.0"
            ]
          },
          "metadata": {
            "tags": []
          },
          "execution_count": 81
        }
      ]
    },
    {
      "cell_type": "markdown",
      "metadata": {
        "id": "HIUAUvGcMKoO"
      },
      "source": [
        "#Mapping"
      ]
    },
    {
      "cell_type": "markdown",
      "metadata": {
        "id": "xKN3G7nyMQFa"
      },
      "source": [
        "This process applies a function to each value in a sequence (such as a list, a\n",
        "tuple, or a string) and returns a new sequence of the results."
      ]
    },
    {
      "cell_type": "code",
      "metadata": {
        "id": "pBGtxTn9KTDQ"
      },
      "source": [
        "words = [\"231\",\"20\",\"-45\",\"99\"]"
      ],
      "execution_count": 1,
      "outputs": []
    },
    {
      "cell_type": "code",
      "metadata": {
        "id": "XjaDKhZ_P3kL",
        "outputId": "c3bbc822-9111-464d-c4e9-308a4fa10850",
        "colab": {
          "base_uri": "https://localhost:8080/"
        }
      },
      "source": [
        "type(words[0])"
      ],
      "execution_count": 2,
      "outputs": [
        {
          "output_type": "execute_result",
          "data": {
            "text/plain": [
              "str"
            ]
          },
          "metadata": {
            "tags": []
          },
          "execution_count": 2
        }
      ]
    },
    {
      "cell_type": "code",
      "metadata": {
        "id": "OJLAjuY3PszA"
      },
      "source": [
        "words=list(map(int,words))"
      ],
      "execution_count": 3,
      "outputs": []
    },
    {
      "cell_type": "code",
      "metadata": {
        "id": "WbPKOo_PPuWc",
        "outputId": "5262b074-b949-4c98-fb7f-74ac90c993d0",
        "colab": {
          "base_uri": "https://localhost:8080/"
        }
      },
      "source": [
        "words"
      ],
      "execution_count": 4,
      "outputs": [
        {
          "output_type": "execute_result",
          "data": {
            "text/plain": [
              "[231, 20, -45, 99]"
            ]
          },
          "metadata": {
            "tags": []
          },
          "execution_count": 4
        }
      ]
    },
    {
      "cell_type": "code",
      "metadata": {
        "id": "kNS4VJs3P67T",
        "outputId": "f6ca59e9-55b9-45bf-ab53-0110e3c47435",
        "colab": {
          "base_uri": "https://localhost:8080/"
        }
      },
      "source": [
        "type(words[0])"
      ],
      "execution_count": 5,
      "outputs": [
        {
          "output_type": "execute_result",
          "data": {
            "text/plain": [
              "int"
            ]
          },
          "metadata": {
            "tags": []
          },
          "execution_count": 5
        }
      ]
    },
    {
      "cell_type": "markdown",
      "metadata": {
        "id": "zGZ17WD8QHzc"
      },
      "source": [
        "#Filtering"
      ]
    },
    {
      "cell_type": "markdown",
      "metadata": {
        "id": "zmfV5g9tQTDx"
      },
      "source": [
        "Function called a predicate is applied to each value in a list. If the predicate\n",
        "returns True, the value passes the test and is added to a filter object (similar to a\n",
        "map object). Otherwise, the value is dropped from consideration."
      ]
    },
    {
      "cell_type": "code",
      "metadata": {
        "id": "RKZxq_UGQiFr"
      },
      "source": [
        "mylist=[1,2,3,4,5,6,7,8,9]"
      ],
      "execution_count": 11,
      "outputs": []
    },
    {
      "cell_type": "code",
      "metadata": {
        "id": "t2uJVSC_P1GE"
      },
      "source": [
        "def odd(n):\n",
        "  return n%2 ==0"
      ],
      "execution_count": 15,
      "outputs": []
    },
    {
      "cell_type": "code",
      "metadata": {
        "id": "3GopY_eTQauj"
      },
      "source": [
        "result=list(filter(odd,mylist))"
      ],
      "execution_count": 16,
      "outputs": []
    },
    {
      "cell_type": "code",
      "metadata": {
        "id": "vwo861hcQnQE",
        "outputId": "3eb6f339-eb7b-48c6-cdb8-a896a42a4e20",
        "colab": {
          "base_uri": "https://localhost:8080/"
        }
      },
      "source": [
        "result"
      ],
      "execution_count": 17,
      "outputs": [
        {
          "output_type": "execute_result",
          "data": {
            "text/plain": [
              "[2, 4, 6, 8]"
            ]
          },
          "metadata": {
            "tags": []
          },
          "execution_count": 17
        }
      ]
    },
    {
      "cell_type": "markdown",
      "metadata": {
        "id": "A1YcdxYNRt40"
      },
      "source": [
        "#Reducing"
      ]
    },
    {
      "cell_type": "markdown",
      "metadata": {
        "id": "mt5GAKzzRyQU"
      },
      "source": [
        "Take a list of values and repeatedly apply a function to accumulate a single data value."
      ]
    },
    {
      "cell_type": "code",
      "metadata": {
        "id": "j6_X87eqRkWN"
      },
      "source": [
        "from functools import reduce"
      ],
      "execution_count": 18,
      "outputs": []
    },
    {
      "cell_type": "code",
      "metadata": {
        "id": "9c4VoFqLR6Bz"
      },
      "source": [
        "def add(x,y):\n",
        "  return x+y"
      ],
      "execution_count": 19,
      "outputs": []
    },
    {
      "cell_type": "code",
      "metadata": {
        "id": "JWsW-p5nR-dA",
        "outputId": "f2da3f74-689f-4518-96df-2b43b8c91aa1",
        "colab": {
          "base_uri": "https://localhost:8080/"
        }
      },
      "source": [
        "reduce(add,result)"
      ],
      "execution_count": 20,
      "outputs": [
        {
          "output_type": "execute_result",
          "data": {
            "text/plain": [
              "20"
            ]
          },
          "metadata": {
            "tags": []
          },
          "execution_count": 20
        }
      ]
    },
    {
      "cell_type": "code",
      "metadata": {
        "id": "jSNiPwdJTd7J",
        "outputId": "c4b706d0-12a4-4261-81be-a83a0f4ec716",
        "colab": {
          "base_uri": "https://localhost:8080/"
        }
      },
      "source": [
        "reduce(add,list(filter(odd,mylist)))"
      ],
      "execution_count": 21,
      "outputs": [
        {
          "output_type": "execute_result",
          "data": {
            "text/plain": [
              "20"
            ]
          },
          "metadata": {
            "tags": []
          },
          "execution_count": 21
        }
      ]
    },
    {
      "cell_type": "markdown",
      "metadata": {
        "id": "VFkbOKCuTwbU"
      },
      "source": [
        "#Using lambda to Create Anonymous Functions"
      ]
    },
    {
      "cell_type": "markdown",
      "metadata": {
        "id": "ofLwSc02T2yK"
      },
      "source": [
        "Python includes a mechanism called lambda that allows the programmer to create functions in this manner.\n",
        "A lambda is an anonymous function.\n",
        "It has no name of its own, but contains the names of its arguments as well as a single expression. \n",
        "When the lambda is applied to its arguments, its expression is evaluated, and its value is returned.\n",
        "All of the code must appear on one line and\n",
        "The syntax of a lambda is very tight and restrictive:\n",
        "lambda<argname-1,...,argname-n>:<expression>\n",
        "\n"
      ]
    },
    {
      "cell_type": "code",
      "metadata": {
        "id": "062pJBeLUkfo",
        "outputId": "8ec8bb57-d660-478e-c793-599f838b6a7b",
        "colab": {
          "base_uri": "https://localhost:8080/"
        }
      },
      "source": [
        "add5 = lambda x: x + 5\n",
        "print(add5(7))"
      ],
      "execution_count": 23,
      "outputs": [
        {
          "output_type": "stream",
          "text": [
            "12\n"
          ],
          "name": "stdout"
        }
      ]
    },
    {
      "cell_type": "code",
      "metadata": {
        "id": "XAUi7rtzUt4U",
        "outputId": "0d8c9627-6063-4117-c5d6-649952c21c1c",
        "colab": {
          "base_uri": "https://localhost:8080/"
        }
      },
      "source": [
        "square = lambda x: x * x\n",
        "print(square(8))"
      ],
      "execution_count": 24,
      "outputs": [
        {
          "output_type": "stream",
          "text": [
            "64\n"
          ],
          "name": "stdout"
        }
      ]
    },
    {
      "cell_type": "code",
      "metadata": {
        "id": "urT_0wJNTw4C",
        "outputId": "b9e691b5-da28-4d51-f6fe-712f0ec1c921",
        "colab": {
          "base_uri": "https://localhost:8080/"
        }
      },
      "source": [
        "data =[1,2,3,4]\n",
        "reduce(lambda x,y: x+y,data)"
      ],
      "execution_count": 22,
      "outputs": [
        {
          "output_type": "execute_result",
          "data": {
            "text/plain": [
              "10"
            ]
          },
          "metadata": {
            "tags": []
          },
          "execution_count": 22
        }
      ]
    },
    {
      "cell_type": "code",
      "metadata": {
        "id": "UrxcQ1QqU1pe",
        "outputId": "3448f824-d3aa-4987-f5b3-256c3ed639bf",
        "colab": {
          "base_uri": "https://localhost:8080/"
        }
      },
      "source": [
        "list1 = [1, 2, 3, 4, 5, 6]\n",
        "list2 = list(filter(lambda x: x%2 == 0, list1))\n",
        "print(list2)"
      ],
      "execution_count": 25,
      "outputs": [
        {
          "output_type": "stream",
          "text": [
            "[2, 4, 6]\n"
          ],
          "name": "stdout"
        }
      ]
    },
    {
      "cell_type": "code",
      "metadata": {
        "id": "o8w3iW_MU2WH",
        "outputId": "d40afc56-f756-4217-f742-fce226953faa",
        "colab": {
          "base_uri": "https://localhost:8080/"
        }
      },
      "source": [
        "\n",
        "odds = lambda x: x%2 == 1\n",
        "list1 = [1, 2, 3, 4, 5, 6]\n",
        "list2 = list(filter(odds, list1))\n",
        "print(list2)"
      ],
      "execution_count": 26,
      "outputs": [
        {
          "output_type": "stream",
          "text": [
            "[1, 3, 5]\n"
          ],
          "name": "stdout"
        }
      ]
    },
    {
      "cell_type": "code",
      "metadata": {
        "id": "KobiopmzU49X",
        "outputId": "a72f91ce-f359-450a-9ac4-a7100eb34c09",
        "colab": {
          "base_uri": "https://localhost:8080/"
        }
      },
      "source": [
        "\n",
        "list1 = [1, 2, 3, 4, 5, 6]\n",
        "list2 = list(map(lambda x: x ** 2, list1))\n",
        "print(list2)"
      ],
      "execution_count": 27,
      "outputs": [
        {
          "output_type": "stream",
          "text": [
            "[1, 4, 9, 16, 25, 36]\n"
          ],
          "name": "stdout"
        }
      ]
    },
    {
      "cell_type": "code",
      "metadata": {
        "id": "5Hw3upugU8W5",
        "outputId": "1d3f487c-9ce0-4c0d-e247-11e2739f9498",
        "colab": {
          "base_uri": "https://localhost:8080/"
        }
      },
      "source": [
        "import datetime\n",
        "\n",
        "now = datetime.datetime.now()\n",
        "print(now)\n",
        "year = lambda x: x.year\n",
        "print(year(now))"
      ],
      "execution_count": 29,
      "outputs": [
        {
          "output_type": "stream",
          "text": [
            "2020-10-07 18:30:33.897785\n",
            "2020\n"
          ],
          "name": "stdout"
        }
      ]
    },
    {
      "cell_type": "code",
      "metadata": {
        "id": "1BpWRgOCVAup"
      },
      "source": [
        ""
      ],
      "execution_count": null,
      "outputs": []
    }
  ]
}