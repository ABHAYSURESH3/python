{
  "nbformat": 4,
  "nbformat_minor": 0,
  "metadata": {
    "kernelspec": {
      "display_name": "Python 3",
      "language": "python",
      "name": "python3"
    },
    "language_info": {
      "codemirror_mode": {
        "name": "ipython",
        "version": 3
      },
      "file_extension": ".py",
      "mimetype": "text/x-python",
      "name": "python",
      "nbconvert_exporter": "python",
      "pygments_lexer": "ipython3",
      "version": "3.5.4"
    },
    "colab": {
      "name": "strings.ipynb",
      "provenance": []
    }
  },
  "cells": [
    {
      "cell_type": "markdown",
      "metadata": {
        "id": "vIAHc4TA2DXb"
      },
      "source": [
        "# [Strings](https://docs.python.org/3/library/stdtypes.html#text-sequence-type-str)"
      ]
    },
    {
      "cell_type": "code",
      "metadata": {
        "id": "GXlLV2nN2DXd"
      },
      "source": [
        "my_string = \"Python is my favorite programming language!\""
      ],
      "execution_count": null,
      "outputs": []
    },
    {
      "cell_type": "code",
      "metadata": {
        "id": "QsBnx2bR2DXm",
        "outputId": "cb639d16-2ba7-41f2-b842-63dcb2e1d779",
        "colab": {
          "base_uri": "https://localhost:8080/",
          "height": 35
        }
      },
      "source": [
        "my_string"
      ],
      "execution_count": null,
      "outputs": [
        {
          "output_type": "execute_result",
          "data": {
            "application/vnd.google.colaboratory.intrinsic+json": {
              "type": "string"
            },
            "text/plain": [
              "'Python is my favorite programming language!'"
            ]
          },
          "metadata": {
            "tags": []
          },
          "execution_count": 3
        }
      ]
    },
    {
      "cell_type": "code",
      "metadata": {
        "id": "Kg-yYm-q2DXt",
        "outputId": "ccf1efe9-0a41-47d9-80bc-2d6aa00c696f",
        "colab": {
          "base_uri": "https://localhost:8080/",
          "height": 34
        }
      },
      "source": [
        "type(my_string)"
      ],
      "execution_count": null,
      "outputs": [
        {
          "output_type": "execute_result",
          "data": {
            "text/plain": [
              "str"
            ]
          },
          "metadata": {
            "tags": []
          },
          "execution_count": 4
        }
      ]
    },
    {
      "cell_type": "code",
      "metadata": {
        "id": "OrNS1dRf2DXz",
        "outputId": "69752ef1-5a1e-4596-b061-653b74e2c477",
        "colab": {
          "base_uri": "https://localhost:8080/",
          "height": 34
        }
      },
      "source": [
        "len(my_string)"
      ],
      "execution_count": null,
      "outputs": [
        {
          "output_type": "execute_result",
          "data": {
            "text/plain": [
              "43"
            ]
          },
          "metadata": {
            "tags": []
          },
          "execution_count": 5
        }
      ]
    },
    {
      "cell_type": "markdown",
      "metadata": {
        "id": "hQb80MnM2DX6"
      },
      "source": [
        "### Respecting [PEP8](https://www.python.org/dev/peps/pep-0008/#maximum-line-length) with long strings"
      ]
    },
    {
      "cell_type": "code",
      "metadata": {
        "id": "q8So7FB52DX7",
        "outputId": "98db4eb3-735c-4b84-d341-f8d81a645deb",
        "colab": {
          "base_uri": "https://localhost:8080/",
          "height": 69
        }
      },
      "source": [
        "long_story = ('Lorem ipsum dolor sit amet, consectetur adipiscing elit.' \n",
        "              'Pellentesque eget tincidunt felis. Ut ac vestibulum est.' \n",
        "              'In sed ipsum sit amet sapien scelerisque bibendum. Sed ' \n",
        "              'sagittis purus eu diam fermentum pellentesque.')\n",
        "long_story"
      ],
      "execution_count": null,
      "outputs": [
        {
          "output_type": "execute_result",
          "data": {
            "application/vnd.google.colaboratory.intrinsic+json": {
              "type": "string"
            },
            "text/plain": [
              "'Lorem ipsum dolor sit amet, consectetur adipiscing elit.Pellentesque eget tincidunt felis. Ut ac vestibulum est.In sed ipsum sit amet sapien scelerisque bibendum. Sed sagittis purus eu diam fermentum pellentesque.'"
            ]
          },
          "metadata": {
            "tags": []
          },
          "execution_count": 6
        }
      ]
    },
    {
      "cell_type": "code",
      "metadata": {
        "id": "vyCGU0fF6fF8",
        "outputId": "875ba160-0497-4b00-9175-49aef9d25dda",
        "colab": {
          "base_uri": "https://localhost:8080/",
          "height": 54
        }
      },
      "source": [
        "print(long_story)"
      ],
      "execution_count": null,
      "outputs": [
        {
          "output_type": "stream",
          "text": [
            "Lorem ipsum dolor sit amet, consectetur adipiscing elit.Pellentesque eget tincidunt felis. Ut ac vestibulum est.In sed ipsum sit amet sapien scelerisque bibendum. Sed sagittis purus eu diam fermentum pellentesque.\n"
          ],
          "name": "stdout"
        }
      ]
    },
    {
      "cell_type": "markdown",
      "metadata": {
        "id": "RNheUJeo2DX_"
      },
      "source": [
        "## `str.replace()`"
      ]
    },
    {
      "cell_type": "markdown",
      "metadata": {
        "id": "ls5SNunR2DYA"
      },
      "source": [
        "If you don't know how it works, you can always check the `help`:"
      ]
    },
    {
      "cell_type": "code",
      "metadata": {
        "id": "P15CCq742DYB",
        "outputId": "4b7717c4-4998-40be-a4c1-0bfd903f051c",
        "colab": {
          "base_uri": "https://localhost:8080/",
          "height": 171
        }
      },
      "source": [
        "help(str.replace)"
      ],
      "execution_count": null,
      "outputs": [
        {
          "output_type": "stream",
          "text": [
            "Help on method_descriptor:\n",
            "\n",
            "replace(...)\n",
            "    S.replace(old, new[, count]) -> str\n",
            "    \n",
            "    Return a copy of S with all occurrences of substring\n",
            "    old replaced by new.  If the optional argument count is\n",
            "    given, only the first count occurrences are replaced.\n",
            "\n"
          ],
          "name": "stdout"
        }
      ]
    },
    {
      "cell_type": "markdown",
      "metadata": {
        "id": "DP4E_N9_2DYE"
      },
      "source": [
        "This will not modify `my_string` because replace is not done in-place."
      ]
    },
    {
      "cell_type": "code",
      "metadata": {
        "id": "_Q8u5QVcASCG",
        "outputId": "32e71334-718c-4293-f806-ec6f7ab9a801",
        "colab": {
          "base_uri": "https://localhost:8080/",
          "height": 35
        }
      },
      "source": [
        "my_string"
      ],
      "execution_count": null,
      "outputs": [
        {
          "output_type": "execute_result",
          "data": {
            "application/vnd.google.colaboratory.intrinsic+json": {
              "type": "string"
            },
            "text/plain": [
              "'Python is my favorite programming language!'"
            ]
          },
          "metadata": {
            "tags": []
          },
          "execution_count": 13
        }
      ]
    },
    {
      "cell_type": "code",
      "metadata": {
        "id": "2XNE2IRp2DYF",
        "outputId": "94b8528f-a35b-4093-9582-9baa35c8bc8c",
        "colab": {
          "base_uri": "https://localhost:8080/",
          "height": 34
        }
      },
      "source": [
        "my_string=my_string.replace('a', '?')\n",
        "print(my_string)"
      ],
      "execution_count": null,
      "outputs": [
        {
          "output_type": "stream",
          "text": [
            "Python is my f?vorite progr?mming l?ngu?ge!\n"
          ],
          "name": "stdout"
        }
      ]
    },
    {
      "cell_type": "markdown",
      "metadata": {
        "id": "wK_71HCw2DYH"
      },
      "source": [
        "You have to store the return value of `replace` instead."
      ]
    },
    {
      "cell_type": "code",
      "metadata": {
        "id": "dc3mNLUS2DYI",
        "outputId": "23712763-14c9-4fd1-df3a-54470670cfcf",
        "colab": {
          "base_uri": "https://localhost:8080/",
          "height": 34
        }
      },
      "source": [
        "my_modified_string = my_string.replace('is', 'will be')\n",
        "print(my_modified_string)"
      ],
      "execution_count": null,
      "outputs": [
        {
          "output_type": "stream",
          "text": [
            "Python will be my favorite programming language!\n"
          ],
          "name": "stdout"
        }
      ]
    },
    {
      "cell_type": "code",
      "metadata": {
        "id": "MAnZJiPrAwPs",
        "outputId": "aa98c79b-13bd-4b4c-d9a0-cdb443fa5f7c",
        "colab": {
          "base_uri": "https://localhost:8080/",
          "height": 35
        }
      },
      "source": [
        "my_string"
      ],
      "execution_count": null,
      "outputs": [
        {
          "output_type": "execute_result",
          "data": {
            "application/vnd.google.colaboratory.intrinsic+json": {
              "type": "string"
            },
            "text/plain": [
              "'Python is my favorite programming language!'"
            ]
          },
          "metadata": {
            "tags": []
          },
          "execution_count": 19
        }
      ]
    },
    {
      "cell_type": "markdown",
      "metadata": {
        "id": "u-WgC9V92DYK"
      },
      "source": [
        "## `str.format()`"
      ]
    },
    {
      "cell_type": "code",
      "metadata": {
        "id": "3cFP9XYJ2DYK",
        "outputId": "8e522610-80d3-498f-a447-61193af454a9",
        "colab": {
          "base_uri": "https://localhost:8080/",
          "height": 34
        }
      },
      "source": [
        "secret = '{} is cool'.format('Java')\n",
        "print(secret)"
      ],
      "execution_count": null,
      "outputs": [
        {
          "output_type": "stream",
          "text": [
            "Java is cool\n"
          ],
          "name": "stdout"
        }
      ]
    },
    {
      "cell_type": "code",
      "metadata": {
        "id": "QqffCjVZ2DYN",
        "outputId": "4a7a3ad3-4bbf-4a75-8a37-a42eb492cafd",
        "colab": {
          "base_uri": "https://localhost:8080/",
          "height": 51
        }
      },
      "source": [
        "print('My name is {} {}, you can call me {}.'.format('John', 'Doe', 'John'))\n",
        "# is the same as:\n",
        "print('My name is {first} {family}, you can call me {first}.'.format(first='John', family='Doe'))"
      ],
      "execution_count": null,
      "outputs": [
        {
          "output_type": "stream",
          "text": [
            "My name is John Doe, you can call me John.\n",
            "My name is John Doe, you can call me John.\n"
          ],
          "name": "stdout"
        }
      ]
    },
    {
      "cell_type": "markdown",
      "metadata": {
        "id": "gDOvqT212DYP"
      },
      "source": [
        "## `str.join()`"
      ]
    },
    {
      "cell_type": "code",
      "metadata": {
        "id": "Wz3IQ9B_2DYP"
      },
      "source": [
        "pandas = 'pandas'\n",
        "numpy = 'numpy'\n",
        "requests = 'requests'\n",
        "cool_python_libs = ', '.join([pandas, numpy, requests])"
      ],
      "execution_count": null,
      "outputs": []
    },
    {
      "cell_type": "code",
      "metadata": {
        "id": "ta_iSI3E2DYS",
        "outputId": "776ed696-3ad1-4886-fced-e08e2a8a9a5e",
        "colab": {
          "base_uri": "https://localhost:8080/",
          "height": 34
        }
      },
      "source": [
        "print('Some cool python libraries: {}'.format(cool_python_libs))"
      ],
      "execution_count": null,
      "outputs": [
        {
          "output_type": "stream",
          "text": [
            "Some cool python libraries: pandas, numpy, requests\n"
          ],
          "name": "stdout"
        }
      ]
    },
    {
      "cell_type": "markdown",
      "metadata": {
        "id": "2uXkr2go2DYU"
      },
      "source": [
        "Alternatives (not as [Pythonic](http://docs.python-guide.org/en/latest/writing/style/#idioms) and [slower](https://waymoot.org/home/python_string/)):"
      ]
    },
    {
      "cell_type": "code",
      "metadata": {
        "id": "YkhuCo5_2DYU",
        "outputId": "fd9d03da-5982-49ab-cd1d-7cb032f6dd1b",
        "colab": {
          "base_uri": "https://localhost:8080/",
          "height": 52
        }
      },
      "source": [
        "cool_python_libs = pandas + ', ' + numpy + ', ' + requests\n",
        "print('Some cool python libraries: {}'.format(cool_python_libs))\n",
        "\n",
        "cool_python_libs = pandas\n",
        "cool_python_libs += ', ' + numpy\n",
        "cool_python_libs += ', ' + requests\n",
        "print('Some cool python libraries: {}'.format(cool_python_libs))"
      ],
      "execution_count": null,
      "outputs": [
        {
          "output_type": "stream",
          "text": [
            "Some cool python libraries: pandas, numpy, requests\n",
            "Some cool python libraries: pandas, numpy, requests\n"
          ],
          "name": "stdout"
        }
      ]
    },
    {
      "cell_type": "markdown",
      "metadata": {
        "id": "jeXn1GW92DYW"
      },
      "source": [
        "## `str.upper(), str.lower(), str.title()`"
      ]
    },
    {
      "cell_type": "code",
      "metadata": {
        "id": "KXBHkDvz2DYW"
      },
      "source": [
        "mixed_case = 'PyTHoN hackER'"
      ],
      "execution_count": null,
      "outputs": []
    },
    {
      "cell_type": "code",
      "metadata": {
        "id": "pQfZYN9s2DYZ",
        "outputId": "135a0d85-80cd-4740-fd70-3378000dda83",
        "colab": {
          "base_uri": "https://localhost:8080/",
          "height": 35
        }
      },
      "source": [
        "mixed_case.upper()"
      ],
      "execution_count": null,
      "outputs": [
        {
          "output_type": "execute_result",
          "data": {
            "application/vnd.google.colaboratory.intrinsic+json": {
              "type": "string"
            },
            "text/plain": [
              "'PYTHON HACKER'"
            ]
          },
          "metadata": {
            "tags": []
          },
          "execution_count": 9
        }
      ]
    },
    {
      "cell_type": "code",
      "metadata": {
        "id": "tq70RfUo2DYa",
        "outputId": "181cbab2-32b8-489d-d670-27f69da13f64",
        "colab": {
          "base_uri": "https://localhost:8080/",
          "height": 35
        }
      },
      "source": [
        "mixed_case.lower()"
      ],
      "execution_count": null,
      "outputs": [
        {
          "output_type": "execute_result",
          "data": {
            "application/vnd.google.colaboratory.intrinsic+json": {
              "type": "string"
            },
            "text/plain": [
              "'python hacker'"
            ]
          },
          "metadata": {
            "tags": []
          },
          "execution_count": 10
        }
      ]
    },
    {
      "cell_type": "code",
      "metadata": {
        "id": "_UczI6xW2DYd",
        "outputId": "5bae1446-e9f1-4323-b7b8-802865e33400",
        "colab": {
          "base_uri": "https://localhost:8080/",
          "height": 35
        }
      },
      "source": [
        "mixed_case.title()"
      ],
      "execution_count": null,
      "outputs": [
        {
          "output_type": "execute_result",
          "data": {
            "application/vnd.google.colaboratory.intrinsic+json": {
              "type": "string"
            },
            "text/plain": [
              "'Python Hacker'"
            ]
          },
          "metadata": {
            "tags": []
          },
          "execution_count": 11
        }
      ]
    },
    {
      "cell_type": "markdown",
      "metadata": {
        "id": "OKagbCGd2DYf"
      },
      "source": [
        "## `str.strip()`"
      ]
    },
    {
      "cell_type": "code",
      "metadata": {
        "id": "9gJYWDwJ2DYf",
        "outputId": "66e933fe-efa5-4b18-d188-98fa2ab52e34",
        "colab": {
          "base_uri": "https://localhost:8080/",
          "height": 68
        }
      },
      "source": [
        "ugly_formatted = ' \\n \\t Some story to tell '\n",
        "stripped = ugly_formatted.strip()\n",
        "\n",
        "print('ugly: {}'.format(ugly_formatted))\n",
        "print('stripped: {}'.format(ugly_formatted.strip()))"
      ],
      "execution_count": null,
      "outputs": [
        {
          "output_type": "stream",
          "text": [
            "ugly:  \n",
            " \t Some story to tell \n",
            "stripped: Some story to tell\n"
          ],
          "name": "stdout"
        }
      ]
    },
    {
      "cell_type": "markdown",
      "metadata": {
        "id": "xjnrxyGm2DYh"
      },
      "source": [
        "## `str.split()`"
      ]
    },
    {
      "cell_type": "code",
      "metadata": {
        "id": "JE_hZvkL2DYi",
        "outputId": "59c8602f-1ee8-4986-f538-e3a7fa982d53",
        "colab": {
          "base_uri": "https://localhost:8080/",
          "height": 34
        }
      },
      "source": [
        "sentence = 'three different words'\n",
        "words = sentence.split()\n",
        "print(words)"
      ],
      "execution_count": null,
      "outputs": [
        {
          "output_type": "stream",
          "text": [
            "['three', 'different', 'words']\n"
          ],
          "name": "stdout"
        }
      ]
    },
    {
      "cell_type": "code",
      "metadata": {
        "id": "d0OYRmR82DYk",
        "outputId": "c6619602-de91-488b-8c67-37f42ba9b153",
        "colab": {
          "base_uri": "https://localhost:8080/",
          "height": 34
        }
      },
      "source": [
        "type(words)"
      ],
      "execution_count": null,
      "outputs": [
        {
          "output_type": "execute_result",
          "data": {
            "text/plain": [
              "list"
            ]
          },
          "metadata": {
            "tags": []
          },
          "execution_count": 27
        }
      ]
    },
    {
      "cell_type": "code",
      "metadata": {
        "id": "BUR6yTvm2DYm",
        "outputId": "18749bb9-5fbf-437c-d9dd-9ef43f077beb",
        "colab": {
          "base_uri": "https://localhost:8080/",
          "height": 35
        }
      },
      "source": [
        "secret_binary_data = '01001,101101,11100000'\n",
        "binaries = secret_binary_data.split(',')\n",
        "print(binaries)"
      ],
      "execution_count": null,
      "outputs": [
        {
          "output_type": "stream",
          "text": [
            "['01001', '101101', '11100000']\n"
          ],
          "name": "stdout"
        }
      ]
    },
    {
      "cell_type": "markdown",
      "metadata": {
        "id": "LvuoNk1Y2DYo"
      },
      "source": [
        "## Calling multiple methods in a row"
      ]
    },
    {
      "cell_type": "code",
      "metadata": {
        "id": "pDuGRLH72DYo",
        "outputId": "404c494f-27ec-4272-e8b9-3b43919b53ec",
        "colab": {
          "base_uri": "https://localhost:8080/",
          "height": 34
        }
      },
      "source": [
        "ugly_mixed_case = '   ThIS LooKs BAd '\n",
        "pretty = ugly_mixed_case.strip().lower().replace('bad', 'good')\n",
        "print(pretty)"
      ],
      "execution_count": null,
      "outputs": [
        {
          "output_type": "stream",
          "text": [
            "this looks good\n"
          ],
          "name": "stdout"
        }
      ]
    },
    {
      "cell_type": "markdown",
      "metadata": {
        "id": "1LB6YHnm2DYq"
      },
      "source": [
        "Note that execution order is from left to right. Thus, this won't work:"
      ]
    },
    {
      "cell_type": "code",
      "metadata": {
        "id": "5JhVJgZW2DYq",
        "outputId": "35d9c419-4507-40b0-bdba-3551b502f862",
        "colab": {
          "base_uri": "https://localhost:8080/",
          "height": 34
        }
      },
      "source": [
        "pretty = ugly_mixed_case.replace('bad', 'good').strip().lower()\n",
        "print(pretty)"
      ],
      "execution_count": null,
      "outputs": [
        {
          "output_type": "stream",
          "text": [
            "this looks bad\n"
          ],
          "name": "stdout"
        }
      ]
    },
    {
      "cell_type": "markdown",
      "metadata": {
        "id": "XuK8YyEc2DYt"
      },
      "source": [
        "## [Escape characters](http://python-reference.readthedocs.io/en/latest/docs/str/escapes.html#escape-characters)"
      ]
    },
    {
      "cell_type": "code",
      "metadata": {
        "id": "24OAwjlI2DYu",
        "outputId": "8044e428-4d36-4746-c3ca-dc4c455b648a",
        "colab": {
          "base_uri": "https://localhost:8080/",
          "height": 51
        }
      },
      "source": [
        "two_lines = 'First line\\nSecond line'\n",
        "print(two_lines)"
      ],
      "execution_count": null,
      "outputs": [
        {
          "output_type": "stream",
          "text": [
            "First line\n",
            "Second line\n"
          ],
          "name": "stdout"
        }
      ]
    },
    {
      "cell_type": "code",
      "metadata": {
        "id": "My4aOpp22DYw",
        "outputId": "58ad934d-44a8-4ae8-f6cf-5fc1568919ff",
        "colab": {
          "base_uri": "https://localhost:8080/",
          "height": 34
        }
      },
      "source": [
        "indented = '\\tThis will be indented'\n",
        "print(indented)"
      ],
      "execution_count": null,
      "outputs": [
        {
          "output_type": "stream",
          "text": [
            "\tThis will be indented\n"
          ],
          "name": "stdout"
        }
      ]
    },
    {
      "cell_type": "code",
      "metadata": {
        "id": "1dkqY17QCCvR"
      },
      "source": [
        ""
      ],
      "execution_count": null,
      "outputs": []
    }
  ]
}