{
  "nbformat": 4,
  "nbformat_minor": 0,
  "metadata": {
    "colab": {
      "name": "Work with dates and times",
      "provenance": []
    },
    "kernelspec": {
      "name": "python3",
      "display_name": "Python 3"
    }
  },
  "cells": [
    {
      "cell_type": "markdown",
      "metadata": {
        "id": "OM_CzqpvGM-T"
      },
      "source": [
        "The Python standard library includes data types for date and time data, as well as\n",
        "calendar-related functionality."
      ]
    },
    {
      "cell_type": "code",
      "metadata": {
        "id": "i5a-jmVzGNKB"
      },
      "source": [
        "from datetime import datetime"
      ],
      "execution_count": 1,
      "outputs": []
    },
    {
      "cell_type": "code",
      "metadata": {
        "id": "kUxYloT8GRUv"
      },
      "source": [
        "now = datetime.now()"
      ],
      "execution_count": 2,
      "outputs": []
    },
    {
      "cell_type": "code",
      "metadata": {
        "id": "CsPZLcVpGSdw",
        "outputId": "299ef0bc-9962-434e-d391-eb1b6395c811",
        "colab": {
          "base_uri": "https://localhost:8080/"
        }
      },
      "source": [
        "print(now)"
      ],
      "execution_count": 3,
      "outputs": [
        {
          "output_type": "stream",
          "text": [
            "2020-11-04 16:31:22.634699\n"
          ],
          "name": "stdout"
        }
      ]
    },
    {
      "cell_type": "code",
      "metadata": {
        "id": "0XYzOEn2GXZy",
        "outputId": "d727e86d-11bb-4890-d6ce-c218693668b1",
        "colab": {
          "base_uri": "https://localhost:8080/"
        }
      },
      "source": [
        "now"
      ],
      "execution_count": 4,
      "outputs": [
        {
          "output_type": "execute_result",
          "data": {
            "text/plain": [
              "datetime.datetime(2020, 11, 4, 16, 31, 22, 634699)"
            ]
          },
          "metadata": {
            "tags": []
          },
          "execution_count": 4
        }
      ]
    },
    {
      "cell_type": "markdown",
      "metadata": {
        "id": "VXkGYvnlGe4g"
      },
      "source": [
        "datetime stores both the date and time down to the microsecond"
      ]
    },
    {
      "cell_type": "code",
      "metadata": {
        "id": "uOThhzCgGUHa",
        "outputId": "47f819a0-f4aa-4a5b-8cd4-4ad6ca80d8d6",
        "colab": {
          "base_uri": "https://localhost:8080/"
        }
      },
      "source": [
        "now.year, now.month, now.day"
      ],
      "execution_count": 5,
      "outputs": [
        {
          "output_type": "execute_result",
          "data": {
            "text/plain": [
              "(2020, 11, 4)"
            ]
          },
          "metadata": {
            "tags": []
          },
          "execution_count": 5
        }
      ]
    },
    {
      "cell_type": "code",
      "metadata": {
        "id": "X_wnkuDSGX0N"
      },
      "source": [
        "delta = datetime(2011, 1, 7) - datetime(2008, 6, 24, 8, 15)"
      ],
      "execution_count": 6,
      "outputs": []
    },
    {
      "cell_type": "code",
      "metadata": {
        "id": "SqohJ48PGij2",
        "outputId": "a7718295-3a9b-4020-ae0d-03b9bd80b4d2",
        "colab": {
          "base_uri": "https://localhost:8080/"
        }
      },
      "source": [
        "print(delta)"
      ],
      "execution_count": 7,
      "outputs": [
        {
          "output_type": "stream",
          "text": [
            "926 days, 15:45:00\n"
          ],
          "name": "stdout"
        }
      ]
    },
    {
      "cell_type": "code",
      "metadata": {
        "id": "UBJIEmerGkUa",
        "outputId": "50970061-c3f5-4623-fbc3-ea7b0057301f",
        "colab": {
          "base_uri": "https://localhost:8080/"
        }
      },
      "source": [
        "delta"
      ],
      "execution_count": 8,
      "outputs": [
        {
          "output_type": "execute_result",
          "data": {
            "text/plain": [
              "datetime.timedelta(926, 56700)"
            ]
          },
          "metadata": {
            "tags": []
          },
          "execution_count": 8
        }
      ]
    },
    {
      "cell_type": "markdown",
      "metadata": {
        "id": "aZo282CFGoFz"
      },
      "source": [
        "You can add (or subtract) a timedelta or multiple thereof to a datetime object to yield\n",
        "a new shifted object:"
      ]
    },
    {
      "cell_type": "code",
      "metadata": {
        "id": "-7egVxGZGkm-"
      },
      "source": [
        "from datetime import timedelta"
      ],
      "execution_count": 9,
      "outputs": []
    },
    {
      "cell_type": "code",
      "metadata": {
        "id": "jqM5RhP2GqAX"
      },
      "source": [
        "start = datetime(2011, 1, 7)"
      ],
      "execution_count": 10,
      "outputs": []
    },
    {
      "cell_type": "code",
      "metadata": {
        "id": "e1jam2oeG9VS",
        "outputId": "3b1fe1e4-11c3-4e78-9747-ba42d581f8a7",
        "colab": {
          "base_uri": "https://localhost:8080/"
        }
      },
      "source": [
        "print(timedelta(10))"
      ],
      "execution_count": 20,
      "outputs": [
        {
          "output_type": "stream",
          "text": [
            "10 days, 0:00:00\n"
          ],
          "name": "stdout"
        }
      ]
    },
    {
      "cell_type": "code",
      "metadata": {
        "id": "XDjD73gXGrKs",
        "outputId": "72464ae1-5df1-432a-8d47-aa8b95fdf47b",
        "colab": {
          "base_uri": "https://localhost:8080/"
        }
      },
      "source": [
        "start + timedelta(10)"
      ],
      "execution_count": 19,
      "outputs": [
        {
          "output_type": "execute_result",
          "data": {
            "text/plain": [
              "datetime.datetime(2011, 1, 17, 0, 0)"
            ]
          },
          "metadata": {
            "tags": []
          },
          "execution_count": 19
        }
      ]
    },
    {
      "cell_type": "code",
      "metadata": {
        "id": "_CvipLcJGtlI",
        "outputId": "56a3a4b0-03a4-4941-de48-f53d7253884d",
        "colab": {
          "base_uri": "https://localhost:8080/"
        }
      },
      "source": [
        "start + 2 * timedelta(10)"
      ],
      "execution_count": 18,
      "outputs": [
        {
          "output_type": "execute_result",
          "data": {
            "text/plain": [
              "datetime.datetime(2011, 1, 27, 0, 0)"
            ]
          },
          "metadata": {
            "tags": []
          },
          "execution_count": 18
        }
      ]
    },
    {
      "cell_type": "code",
      "metadata": {
        "id": "B1uYTY_5GxNz",
        "outputId": "e1bd5717-87a0-47e6-8ca9-9f18e9442f2d",
        "colab": {
          "base_uri": "https://localhost:8080/"
        }
      },
      "source": [
        "start - 2 * timedelta(10)"
      ],
      "execution_count": 21,
      "outputs": [
        {
          "output_type": "execute_result",
          "data": {
            "text/plain": [
              "datetime.datetime(2010, 12, 18, 0, 0)"
            ]
          },
          "metadata": {
            "tags": []
          },
          "execution_count": 21
        }
      ]
    },
    {
      "cell_type": "code",
      "metadata": {
        "id": "9hua74nhHOEe"
      },
      "source": [
        ""
      ],
      "execution_count": null,
      "outputs": []
    },
    {
      "cell_type": "markdown",
      "metadata": {
        "id": "YrDvbhk6HoKh"
      },
      "source": [
        "#Converting between string and datetime"
      ]
    },
    {
      "cell_type": "code",
      "metadata": {
        "id": "9UyIyL8XHoc0"
      },
      "source": [
        "stamp = datetime(2011, 1, 3)"
      ],
      "execution_count": 22,
      "outputs": []
    },
    {
      "cell_type": "code",
      "metadata": {
        "id": "DWyN1EwXHr7b",
        "outputId": "cd999aa8-0481-422e-f1f6-20b0a6b7be89",
        "colab": {
          "base_uri": "https://localhost:8080/",
          "height": 35
        }
      },
      "source": [
        "str(stamp)"
      ],
      "execution_count": 23,
      "outputs": [
        {
          "output_type": "execute_result",
          "data": {
            "application/vnd.google.colaboratory.intrinsic+json": {
              "type": "string"
            },
            "text/plain": [
              "'2011-01-03 00:00:00'"
            ]
          },
          "metadata": {
            "tags": []
          },
          "execution_count": 23
        }
      ]
    },
    {
      "cell_type": "code",
      "metadata": {
        "id": "zL_Jt8pDHtXp",
        "outputId": "04425181-b133-4739-878a-6aa2a3c91b41",
        "colab": {
          "base_uri": "https://localhost:8080/",
          "height": 35
        }
      },
      "source": [
        "stamp.strftime('%Y-%m-%d')"
      ],
      "execution_count": 24,
      "outputs": [
        {
          "output_type": "execute_result",
          "data": {
            "application/vnd.google.colaboratory.intrinsic+json": {
              "type": "string"
            },
            "text/plain": [
              "'2011-01-03'"
            ]
          },
          "metadata": {
            "tags": []
          },
          "execution_count": 24
        }
      ]
    },
    {
      "cell_type": "code",
      "metadata": {
        "id": "qbLYl2DLHxBY"
      },
      "source": [
        "value = '2011-01-03'"
      ],
      "execution_count": 25,
      "outputs": []
    },
    {
      "cell_type": "code",
      "metadata": {
        "id": "bmPtcKHPH0wj",
        "outputId": "18b84672-5d87-41b7-e82e-f828f108471e",
        "colab": {
          "base_uri": "https://localhost:8080/"
        }
      },
      "source": [
        "datetime.strptime(value, '%Y-%m-%d')"
      ],
      "execution_count": 26,
      "outputs": [
        {
          "output_type": "execute_result",
          "data": {
            "text/plain": [
              "datetime.datetime(2011, 1, 3, 0, 0)"
            ]
          },
          "metadata": {
            "tags": []
          },
          "execution_count": 26
        }
      ]
    },
    {
      "cell_type": "code",
      "metadata": {
        "id": "-npy6kfXH17A",
        "outputId": "d6a6c0f5-f92b-45ca-c28c-773b561c3db7",
        "colab": {
          "base_uri": "https://localhost:8080/"
        }
      },
      "source": [
        "print(datetime.strptime(value, '%Y-%m-%d'))"
      ],
      "execution_count": 27,
      "outputs": [
        {
          "output_type": "stream",
          "text": [
            "2011-01-03 00:00:00\n"
          ],
          "name": "stdout"
        }
      ]
    },
    {
      "cell_type": "code",
      "metadata": {
        "id": "raj2AWAbH4wY"
      },
      "source": [
        "datestrs = ['7/6/2011', '8/6/2011']"
      ],
      "execution_count": 28,
      "outputs": []
    },
    {
      "cell_type": "code",
      "metadata": {
        "id": "kmHhXjT_H9yt",
        "outputId": "16f5c39d-b991-4290-fd2b-efe50cb0a198",
        "colab": {
          "base_uri": "https://localhost:8080/"
        }
      },
      "source": [
        "[datetime.strptime(x, '%m/%d/%Y') for x in datestrs]"
      ],
      "execution_count": 29,
      "outputs": [
        {
          "output_type": "execute_result",
          "data": {
            "text/plain": [
              "[datetime.datetime(2011, 7, 6, 0, 0), datetime.datetime(2011, 8, 6, 0, 0)]"
            ]
          },
          "metadata": {
            "tags": []
          },
          "execution_count": 29
        }
      ]
    },
    {
      "cell_type": "code",
      "metadata": {
        "id": "wFuHKeWNH_P8",
        "outputId": "afaabe09-2d58-479a-b712-7c6c2e32c73f",
        "colab": {
          "base_uri": "https://localhost:8080/"
        }
      },
      "source": [
        "for date in [datetime.strptime(x, '%m/%d/%Y') for x in datestrs]:\n",
        "  print(date)\n"
      ],
      "execution_count": 30,
      "outputs": [
        {
          "output_type": "stream",
          "text": [
            "2011-07-06 00:00:00\n",
            "2011-08-06 00:00:00\n"
          ],
          "name": "stdout"
        }
      ]
    },
    {
      "cell_type": "markdown",
      "metadata": {
        "id": "ns7b7lN4IUJl"
      },
      "source": [
        "datetime.strptime is the best way to parse a date with a known format"
      ]
    },
    {
      "cell_type": "markdown",
      "metadata": {
        "id": "3jU_AbbBIZNG"
      },
      "source": [
        "However, it\n",
        "can be a bit annoying to have to write a format spec each time, especially for common\n",
        "date formats. In this case, you can use the parser.parse method in the third party\n",
        "dateutil package"
      ]
    },
    {
      "cell_type": "code",
      "metadata": {
        "id": "kkFgOkYzILVl"
      },
      "source": [
        "from dateutil.parser import parse"
      ],
      "execution_count": 31,
      "outputs": []
    },
    {
      "cell_type": "code",
      "metadata": {
        "id": "gJg37ehzIa91",
        "outputId": "6b87147f-983c-418b-f7af-72fea9a49113",
        "colab": {
          "base_uri": "https://localhost:8080/"
        }
      },
      "source": [
        "parse('2011-01-03')"
      ],
      "execution_count": 32,
      "outputs": [
        {
          "output_type": "execute_result",
          "data": {
            "text/plain": [
              "datetime.datetime(2011, 1, 3, 0, 0)"
            ]
          },
          "metadata": {
            "tags": []
          },
          "execution_count": 32
        }
      ]
    },
    {
      "cell_type": "code",
      "metadata": {
        "id": "-s_WrYnXIcw0",
        "outputId": "0dd3412f-5db9-43db-f5e7-977734745daa",
        "colab": {
          "base_uri": "https://localhost:8080/"
        }
      },
      "source": [
        "parse('Jan 31, 1997 10:45 PM')"
      ],
      "execution_count": 33,
      "outputs": [
        {
          "output_type": "execute_result",
          "data": {
            "text/plain": [
              "datetime.datetime(1997, 1, 31, 22, 45)"
            ]
          },
          "metadata": {
            "tags": []
          },
          "execution_count": 33
        }
      ]
    },
    {
      "cell_type": "code",
      "metadata": {
        "id": "cnYBEcSJIe3X",
        "outputId": "ec1d0e65-26b2-4a0d-db79-a848902b1005",
        "colab": {
          "base_uri": "https://localhost:8080/"
        }
      },
      "source": [
        "parse('6/12/2011', dayfirst=True)"
      ],
      "execution_count": 34,
      "outputs": [
        {
          "output_type": "execute_result",
          "data": {
            "text/plain": [
              "datetime.datetime(2011, 12, 6, 0, 0)"
            ]
          },
          "metadata": {
            "tags": []
          },
          "execution_count": 34
        }
      ]
    },
    {
      "cell_type": "code",
      "metadata": {
        "id": "ABOBvbStIjzq"
      },
      "source": [
        ""
      ],
      "execution_count": null,
      "outputs": []
    }
  ]
}