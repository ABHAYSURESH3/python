{
  "nbformat": 4,
  "nbformat_minor": 0,
  "metadata": {
    "colab": {
      "name": "Case study: data structure selection",
      "provenance": []
    },
    "kernelspec": {
      "name": "python3",
      "display_name": "Python 3"
    }
  },
  "cells": [
    {
      "cell_type": "markdown",
      "metadata": {
        "id": "VqHO02GWM-Uy"
      },
      "source": [
        "#Case study: data structure selection"
      ]
    },
    {
      "cell_type": "markdown",
      "metadata": {
        "id": "vZOxRLlEO8ME"
      },
      "source": [
        "* How should you choose? The first step is to think about the operations you will need to implement for each data structure. \r\n",
        "* Say If you need to add count of words. \r\n",
        "* Your first choice might be a list, since it is easy to add  elements, \r\n",
        "* With tuples, you can’t append or remove, but you can use the addition operator to form a new tuple:\r\n",
        "* You can use a dictionary if you need to store words as key and count as value\r\n"
      ]
    },
    {
      "cell_type": "markdown",
      "metadata": {
        "id": "kYJzIiUhR-JL"
      },
      "source": [
        "### Other factors to consider in choosing data structures.\r\n",
        "* One is run time. Sometimes there is a theoretical reason to expect one data structure to be faster than other; for example, I mentioned that the in operator is faster for dictionaries than for lists, at least when the number of elements is large.\r\n",
        "\r\n",
        "* But often you don’t know ahead of time which implementation will be faster. One option is to implement both of them and see which is better. This approach is called benchmarking. \r\n",
        "* A practical alternative is to choose the data structure that is easiest to implement, and then see if it is fast enough for the intended application. \r\n",
        "\r\n",
        "* If so, there is no need to go on. If not, there are tools, like the profile module, that can identify the places in a program that take the most time.\r\n",
        "\r\n",
        "* The other factor to consider is storage space.  In some cases, saving space can also make your program run faster, and in the extreme, your program might not run at all if you run out of memory. But for many applications, space is a secondary consideration after run time."
      ]
    },
    {
      "cell_type": "markdown",
      "metadata": {
        "id": "YxhHhmGpIcbF"
      },
      "source": [
        "#13.1  Word frequency analysis"
      ]
    },
    {
      "cell_type": "code",
      "metadata": {
        "id": "-APtjFePNZbR"
      },
      "source": [
        "f = open(\"mydata.dat\",\"w\")\r\n",
        "f.write(\"apple and orange\\n\")\r\n",
        "f.write(\"mango\\n\")\r\n",
        "f.write(\"orange\\n\")\r\n",
        "f.write(\"grapes\\n\")\r\n",
        "f.close()"
      ],
      "execution_count": 63,
      "outputs": []
    },
    {
      "cell_type": "code",
      "metadata": {
        "colab": {
          "base_uri": "https://localhost:8080/"
        },
        "id": "q_meVzl9Q4Zx",
        "outputId": "e3804307-581f-433a-c82d-7f318718461f"
      },
      "source": [
        "f = open(\"mydata.dat\",\"r\")\r\n",
        "text=f.read()\r\n",
        "print(text)"
      ],
      "execution_count": 64,
      "outputs": [
        {
          "output_type": "stream",
          "text": [
            "apple and orange\n",
            "mango\n",
            "orange\n",
            "grapes\n",
            "\n"
          ],
          "name": "stdout"
        }
      ]
    },
    {
      "cell_type": "code",
      "metadata": {
        "colab": {
          "base_uri": "https://localhost:8080/"
        },
        "id": "6_jU1jMpUxmy",
        "outputId": "44f108b8-bce6-4b0c-efee-6d8a75ccd904"
      },
      "source": [
        "def freq(str):\r\n",
        "\r\n",
        "  str = str.split()  \r\n",
        "  print(str)        \r\n",
        "\r\n",
        "  str2 = [] \r\n",
        "\r\n",
        "  for i in str:  \r\n",
        "    #print(i)            \r\n",
        "\r\n",
        "    if i not in str2: \r\n",
        "      print(i)\r\n",
        "      print(str2)\r\n",
        "\r\n",
        "      str2.append(i)  \r\n",
        "\r\n",
        "\r\n",
        "\r\n",
        "  for i in range(0, len(str2)): \r\n",
        "\r\n",
        "    print('Frequency of', str2[i], 'is :', str.count(str2[i]))  \r\n",
        "  print(str2)   \r\n",
        "\r\n",
        "\r\n",
        "str ='apple mango apple orange '\r\n",
        "\r\n",
        "freq(str)        "
      ],
      "execution_count": 76,
      "outputs": [
        {
          "output_type": "stream",
          "text": [
            "['apple', 'mango', 'apple', 'orange']\n",
            "apple\n",
            "[]\n",
            "mango\n",
            "['apple']\n",
            "orange\n",
            "['apple', 'mango']\n",
            "Frequency of apple is : 2\n",
            "Frequency of mango is : 1\n",
            "Frequency of orange is : 1\n",
            "['apple', 'mango', 'orange']\n"
          ],
          "name": "stdout"
        }
      ]
    },
    {
      "cell_type": "code",
      "metadata": {
        "colab": {
          "base_uri": "https://localhost:8080/"
        },
        "id": "o4LMZd4-WgyV",
        "outputId": "6c35259b-53ee-4fab-a7e0-8c0105f5812c"
      },
      "source": [
        "f = open(\"mydata.dat\",\"w\")\r\n",
        "f.write(\"apple and orange\\n\")\r\n",
        "f.write(\"mango\\n\")\r\n",
        "f.write(\"orange\\n\")\r\n",
        "f.write(\"grapes\\n\")\r\n",
        "f.close()\r\n",
        "\r\n",
        "f = open(\"mydata.dat\",\"r\")\r\n",
        "text=f.read()\r\n",
        "print(text)\r\n"
      ],
      "execution_count": 78,
      "outputs": [
        {
          "output_type": "stream",
          "text": [
            "apple and orange\n",
            "mango\n",
            "orange\n",
            "grapes\n",
            "\n"
          ],
          "name": "stdout"
        }
      ]
    },
    {
      "cell_type": "code",
      "metadata": {
        "colab": {
          "base_uri": "https://localhost:8080/"
        },
        "id": "YAO9iPizIc-C",
        "outputId": "309bf475-97c2-4137-8a6a-8a0b94861504"
      },
      "source": [
        "def hist(myfile):\r\n",
        "  hist={} #Empty\r\n",
        "  f1 = open(myfile, \"r\")\r\n",
        "  while True:\r\n",
        "    text = f1.readline() \r\n",
        "    if text == \"\":\r\n",
        "      break\r\n",
        "    words = text[:-1].split(\" \") \r\n",
        "    print(words)\r\n",
        "    for word in words:\r\n",
        "     if word in hist:\r\n",
        "       hist[word]=hist[word]+1 #incrementing\r\n",
        "     else:\r\n",
        "       hist[word]=1 # hist['apple']=1 {'apple':1,'and':1,'orange':2,'mango':1,'grapes':1}\r\n",
        "\r\n",
        "  f1.close()\r\n",
        "  #print(hist)\r\n",
        "  return hist\r\n",
        "\r\n",
        "hist(\"mydata.dat\")"
      ],
      "execution_count": 82,
      "outputs": [
        {
          "output_type": "stream",
          "text": [
            "['apple', 'and', 'orange']\n",
            "['mango']\n",
            "['orange']\n",
            "['grapes']\n"
          ],
          "name": "stdout"
        },
        {
          "output_type": "execute_result",
          "data": {
            "text/plain": [
              "{'and': 1, 'apple': 1, 'grapes': 1, 'mango': 1, 'orange': 2}"
            ]
          },
          "metadata": {
            "tags": []
          },
          "execution_count": 82
        }
      ]
    },
    {
      "cell_type": "markdown",
      "metadata": {
        "id": "7RIl5gtdIui4"
      },
      "source": [
        "# 13.2  Random numbers"
      ]
    },
    {
      "cell_type": "code",
      "metadata": {
        "colab": {
          "base_uri": "https://localhost:8080/"
        },
        "id": "EaA1MLLtIoFE",
        "outputId": "4794433d-00c9-4b19-a3e4-d688d66ad8e9"
      },
      "source": [
        "import random\r\n",
        "\r\n",
        "for i in range(10):\r\n",
        "    #print(i)\r\n",
        "    x = random.random()\r\n",
        "    print (x)"
      ],
      "execution_count": 84,
      "outputs": [
        {
          "output_type": "stream",
          "text": [
            "0.7815285329571251\n",
            "0.6705926499622238\n",
            "0.056179322417355015\n",
            "0.2238596618253167\n",
            "0.7478502708139596\n",
            "0.538598550035814\n",
            "0.48886522778680086\n",
            "0.8560787211603603\n",
            "0.38217386300796996\n",
            "0.19645380416417635\n"
          ],
          "name": "stdout"
        }
      ]
    },
    {
      "cell_type": "markdown",
      "metadata": {
        "id": "b8DD0LubI6ow"
      },
      "source": [
        "The function randint takes parameters low and high and returns an integer between low and high (including both)."
      ]
    },
    {
      "cell_type": "code",
      "metadata": {
        "colab": {
          "base_uri": "https://localhost:8080/"
        },
        "id": "-zChxu39IzJp",
        "outputId": "eaf7a90c-d7ac-4f1f-ceae-b59fc59a24d5"
      },
      "source": [
        "random.randint(5, 100)"
      ],
      "execution_count": 88,
      "outputs": [
        {
          "output_type": "execute_result",
          "data": {
            "text/plain": [
              "45"
            ]
          },
          "metadata": {
            "tags": []
          },
          "execution_count": 88
        }
      ]
    },
    {
      "cell_type": "code",
      "metadata": {
        "colab": {
          "base_uri": "https://localhost:8080/"
        },
        "id": "ULZotu7jJGTl",
        "outputId": "edf8b066-aa23-438c-b6d6-a30f5834b934"
      },
      "source": [
        "random.randint(5, 100)"
      ],
      "execution_count": 89,
      "outputs": [
        {
          "output_type": "execute_result",
          "data": {
            "text/plain": [
              "24"
            ]
          },
          "metadata": {
            "tags": []
          },
          "execution_count": 89
        }
      ]
    },
    {
      "cell_type": "markdown",
      "metadata": {
        "id": "Ot1xaW4mJAZW"
      },
      "source": [
        "To choose an element from a sequence at random, you can use choice:"
      ]
    },
    {
      "cell_type": "code",
      "metadata": {
        "colab": {
          "base_uri": "https://localhost:8080/"
        },
        "id": "SFI3s0ZvI5Id",
        "outputId": "2ea59a4b-bed0-49fd-d5a7-76caa5c03d9d"
      },
      "source": [
        "t = [1, 2, 3,5,6]\r\n",
        "t"
      ],
      "execution_count": 130,
      "outputs": [
        {
          "output_type": "execute_result",
          "data": {
            "text/plain": [
              "[1, 2, 3, 5, 6]"
            ]
          },
          "metadata": {
            "tags": []
          },
          "execution_count": 130
        }
      ]
    },
    {
      "cell_type": "code",
      "metadata": {
        "colab": {
          "base_uri": "https://localhost:8080/"
        },
        "id": "ORkL09_eJDcw",
        "outputId": "b11904a8-aa2c-4390-d5e9-ddff51d33c22"
      },
      "source": [
        " random.choice(t)"
      ],
      "execution_count": 131,
      "outputs": [
        {
          "output_type": "execute_result",
          "data": {
            "text/plain": [
              "3"
            ]
          },
          "metadata": {
            "tags": []
          },
          "execution_count": 131
        }
      ]
    },
    {
      "cell_type": "code",
      "metadata": {
        "colab": {
          "base_uri": "https://localhost:8080/"
        },
        "id": "bF5HgVu9JDwQ",
        "outputId": "ae1ca166-af78-4a91-85da-1319e9a65d54"
      },
      "source": [
        "random.choice(t)"
      ],
      "execution_count": 95,
      "outputs": [
        {
          "output_type": "execute_result",
          "data": {
            "text/plain": [
              "3"
            ]
          },
          "metadata": {
            "tags": []
          },
          "execution_count": 95
        }
      ]
    },
    {
      "cell_type": "markdown",
      "metadata": {
        "id": "jQ1T16AzJMjI"
      },
      "source": [
        "#13.3  Word histogram"
      ]
    },
    {
      "cell_type": "code",
      "metadata": {
        "id": "QtNU2opJJtfv"
      },
      "source": [
        "f = open(\"mydata.dat\",\"w\")\r\n",
        "f.write(\"apple and orange\\n\")\r\n",
        "f.write(\"mango\\n\")\r\n",
        "f.write(\"orange\\n\")\r\n",
        "f.write(\"grapes\\n\")\r\n",
        "f.close()"
      ],
      "execution_count": 11,
      "outputs": []
    },
    {
      "cell_type": "code",
      "metadata": {
        "id": "lAu6-yfMJpXD"
      },
      "source": [
        "def hist(myfile):\r\n",
        "  hist={}\r\n",
        "  f1 = open(myfile, \"r\")\r\n",
        "  while True:\r\n",
        "    text = f1.readline() \r\n",
        "    if text == \"\":\r\n",
        "      break\r\n",
        "    words = text[:-1].split(\" \") \r\n",
        "    #print(words)\r\n",
        "    for word in words:\r\n",
        "     if word in hist:\r\n",
        "       hist[word]=hist[word]+1\r\n",
        "     else:\r\n",
        "       hist[word]=1\r\n",
        "\r\n",
        "  f1.close()\r\n",
        "  #print(hist)\r\n",
        "  return hist\r\n",
        "\r\n",
        "myhist =hist(\"mydata.dat\")"
      ],
      "execution_count": 98,
      "outputs": []
    },
    {
      "cell_type": "code",
      "metadata": {
        "colab": {
          "base_uri": "https://localhost:8080/"
        },
        "id": "iyEcklCwZesz",
        "outputId": "32a11e48-601e-4be5-badf-29550deb5f8c"
      },
      "source": [
        "print(myhist)"
      ],
      "execution_count": 99,
      "outputs": [
        {
          "output_type": "stream",
          "text": [
            "{'apple': 1, 'and': 1, 'orange': 2, 'mango': 1, 'grapes': 1}\n"
          ],
          "name": "stdout"
        }
      ]
    },
    {
      "cell_type": "markdown",
      "metadata": {
        "id": "Ho5d5QCWJ6ln"
      },
      "source": [
        "#13.4  Most common words"
      ]
    },
    {
      "cell_type": "markdown",
      "metadata": {
        "id": "BmeyhdJBNloh"
      },
      "source": [
        "most_common takes a histogram and returns a list of word-frequency tuples, sorted in reverse order by frequency"
      ]
    },
    {
      "cell_type": "code",
      "metadata": {
        "id": "1wb6x2HjJZzG"
      },
      "source": [
        "def most_common(hist):\r\n",
        "    t = []\r\n",
        "    for key, value in hist.items():\r\n",
        "        t.append((value, key))\r\n",
        "\r\n",
        "    t.sort(reverse=True)\r\n",
        "    return t"
      ],
      "execution_count": 103,
      "outputs": []
    },
    {
      "cell_type": "code",
      "metadata": {
        "colab": {
          "base_uri": "https://localhost:8080/"
        },
        "id": "MT_0Stu3KDxu",
        "outputId": "94ad2b58-efef-4520-a066-64cda8028c40"
      },
      "source": [
        "t = most_common(myhist)\r\n",
        "print ('The most common words are:')\r\n",
        "for freq, word in t[0:2]:\r\n",
        "    print (word, '\\t', freq)"
      ],
      "execution_count": 104,
      "outputs": [
        {
          "output_type": "stream",
          "text": [
            "The most common words are:\n",
            "orange \t 2\n",
            "mango \t 1\n"
          ],
          "name": "stdout"
        }
      ]
    },
    {
      "cell_type": "markdown",
      "metadata": {
        "id": "_1bf74eJK0ch"
      },
      "source": [
        "#13.5  Optional parameters"
      ]
    },
    {
      "cell_type": "markdown",
      "metadata": {
        "id": "JZqusscUNrAY"
      },
      "source": [
        "We have seen built-in functions and methods that take a variable number of arguments. It is possible to write user-defined functions with optional arguments, too. For example, here is a function that prints the most common words in a histogram"
      ]
    },
    {
      "cell_type": "code",
      "metadata": {
        "id": "YHcf6nThKMlV"
      },
      "source": [
        "def print_most_common(hist, num=3):\r\n",
        "    t = most_common(hist)\r\n",
        "    print ('The most common words are:')\r\n",
        "    for freq, word in t[:num]:\r\n",
        "        print (word, '\\t', freq)"
      ],
      "execution_count": 112,
      "outputs": []
    },
    {
      "cell_type": "code",
      "metadata": {
        "colab": {
          "base_uri": "https://localhost:8080/"
        },
        "id": "Vs0eppRcK7Wh",
        "outputId": "797945ff-470f-4539-c925-4e55e2569dde"
      },
      "source": [
        "print_most_common(myhist)"
      ],
      "execution_count": 113,
      "outputs": [
        {
          "output_type": "stream",
          "text": [
            "The most common words are:\n",
            "orange \t 2\n",
            "mango \t 1\n",
            "grapes \t 1\n"
          ],
          "name": "stdout"
        }
      ]
    },
    {
      "cell_type": "code",
      "metadata": {
        "colab": {
          "base_uri": "https://localhost:8080/"
        },
        "id": "JeCUuc1dLGAq",
        "outputId": "67af2b8d-1b34-40b5-a07c-170dce70bafd"
      },
      "source": [
        "print_most_common(myhist,5)"
      ],
      "execution_count": 114,
      "outputs": [
        {
          "output_type": "stream",
          "text": [
            "The most common words are:\n",
            "orange \t 2\n",
            "mango \t 1\n",
            "grapes \t 1\n",
            "apple \t 1\n",
            "and \t 1\n"
          ],
          "name": "stdout"
        }
      ]
    },
    {
      "cell_type": "markdown",
      "metadata": {
        "id": "_xyahQA6auN9"
      },
      "source": [
        "Write a function to calculate sum of n numbers\r\n"
      ]
    },
    {
      "cell_type": "code",
      "metadata": {
        "id": "TAArSK_Za0vA"
      },
      "source": [
        "def sumofn(l=1,h=100):\r\n",
        "  pass"
      ],
      "execution_count": 111,
      "outputs": []
    },
    {
      "cell_type": "code",
      "metadata": {
        "colab": {
          "base_uri": "https://localhost:8080/"
        },
        "id": "00_2AmSNa-MC",
        "outputId": "76047468-c867-405b-9f70-424d9ff12c65"
      },
      "source": [
        "sumofn()"
      ],
      "execution_count": 110,
      "outputs": [
        {
          "output_type": "execute_result",
          "data": {
            "text/plain": [
              "<function sum>"
            ]
          },
          "metadata": {
            "tags": []
          },
          "execution_count": 110
        }
      ]
    },
    {
      "cell_type": "markdown",
      "metadata": {
        "id": "9LJo0QVNLXIQ"
      },
      "source": [
        "#13.6  Dictionary subtraction"
      ]
    },
    {
      "cell_type": "markdown",
      "metadata": {
        "id": "XBrNkQOZNxXe"
      },
      "source": [
        "subtract takes dictionaries d1 and d2 and returns a new dictionary that contains all the keys from d1 that are not in d2. Since we don’t really care about the values, we set them all to None."
      ]
    },
    {
      "cell_type": "code",
      "metadata": {
        "colab": {
          "base_uri": "https://localhost:8080/"
        },
        "id": "BW5UguydLyNs",
        "outputId": "5cbf486a-e2cb-44f4-bd65-d48ca3176ec5"
      },
      "source": [
        "f = open(\"mydata.dat\",\"w\")\r\n",
        "f.write(\"apple and orange\\n\")\r\n",
        "f.write(\"mango\\n\")\r\n",
        "f.write(\"orange\\n\")\r\n",
        "f.write(\"grapes\\n\")\r\n",
        "f.write(\"banana\\n\")\r\n",
        "f.close()\r\n",
        "f = open(\"mydata.dat\",\"r\")\r\n",
        "print(f.read())"
      ],
      "execution_count": 116,
      "outputs": [
        {
          "output_type": "stream",
          "text": [
            "apple and orange\n",
            "mango\n",
            "orange\n",
            "grapes\n",
            "banana\n",
            "\n"
          ],
          "name": "stdout"
        }
      ]
    },
    {
      "cell_type": "code",
      "metadata": {
        "colab": {
          "base_uri": "https://localhost:8080/"
        },
        "id": "MY_7a5N_bsDK",
        "outputId": "be23f489-4166-4f68-f2fb-9dadf2a1c40e"
      },
      "source": [
        "words = hist('mydata.dat')\r\n",
        "words"
      ],
      "execution_count": 118,
      "outputs": [
        {
          "output_type": "execute_result",
          "data": {
            "text/plain": [
              "{'and': 1, 'apple': 1, 'banana': 1, 'grapes': 1, 'mango': 1, 'orange': 2}"
            ]
          },
          "metadata": {
            "tags": []
          },
          "execution_count": 118
        }
      ]
    },
    {
      "cell_type": "code",
      "metadata": {
        "colab": {
          "base_uri": "https://localhost:8080/"
        },
        "id": "q4m8D1publzD",
        "outputId": "5f6075c3-8e37-44bf-d962-e93fcc86a00d"
      },
      "source": [
        "myhist"
      ],
      "execution_count": 117,
      "outputs": [
        {
          "output_type": "execute_result",
          "data": {
            "text/plain": [
              "{'and': 1, 'apple': 1, 'grapes': 1, 'mango': 1, 'orange': 2}"
            ]
          },
          "metadata": {
            "tags": []
          },
          "execution_count": 117
        }
      ]
    },
    {
      "cell_type": "code",
      "metadata": {
        "id": "z4fv5ZbsLLzS"
      },
      "source": [
        "def subtract(d1, d2):\r\n",
        "    res = dict()\r\n",
        "    for key in d1:\r\n",
        "        #print(key)\r\n",
        "        if key not in d2:\r\n",
        "            res[key] = None\r\n",
        "    return res"
      ],
      "execution_count": 120,
      "outputs": []
    },
    {
      "cell_type": "code",
      "metadata": {
        "id": "FUpKMXsbLcRe"
      },
      "source": [
        "words = hist('mydata.dat')\r\n",
        "diff = subtract(words, myhist)"
      ],
      "execution_count": 121,
      "outputs": []
    },
    {
      "cell_type": "code",
      "metadata": {
        "colab": {
          "base_uri": "https://localhost:8080/"
        },
        "id": "wwl6PBWPMKzh",
        "outputId": "7358c9b0-9992-4b9b-d2fa-2322630b573c"
      },
      "source": [
        "words"
      ],
      "execution_count": 122,
      "outputs": [
        {
          "output_type": "execute_result",
          "data": {
            "text/plain": [
              "{'and': 1, 'apple': 1, 'banana': 1, 'grapes': 1, 'mango': 1, 'orange': 2}"
            ]
          },
          "metadata": {
            "tags": []
          },
          "execution_count": 122
        }
      ]
    },
    {
      "cell_type": "code",
      "metadata": {
        "colab": {
          "base_uri": "https://localhost:8080/"
        },
        "id": "A6i-13yfMM6d",
        "outputId": "845c6c10-05ea-4357-83e2-96fab7e6b508"
      },
      "source": [
        "myhist"
      ],
      "execution_count": 123,
      "outputs": [
        {
          "output_type": "execute_result",
          "data": {
            "text/plain": [
              "{'and': 1, 'apple': 1, 'grapes': 1, 'mango': 1, 'orange': 2}"
            ]
          },
          "metadata": {
            "tags": []
          },
          "execution_count": 123
        }
      ]
    },
    {
      "cell_type": "code",
      "metadata": {
        "colab": {
          "base_uri": "https://localhost:8080/"
        },
        "id": "svPheB90LkPM",
        "outputId": "eec7792a-9bf1-4e9c-90d9-7894f86f037a"
      },
      "source": [
        "for word in diff.keys():\r\n",
        "    print (word)"
      ],
      "execution_count": 124,
      "outputs": [
        {
          "output_type": "stream",
          "text": [
            "banana\n"
          ],
          "name": "stdout"
        }
      ]
    },
    {
      "cell_type": "markdown",
      "metadata": {
        "id": "rGHuhWMFMvPY"
      },
      "source": [
        "#13.7  Random words"
      ]
    },
    {
      "cell_type": "markdown",
      "metadata": {
        "id": "hHfdWBn6M5RI"
      },
      "source": [
        "To choose a random word from the histogram, the simplest algorithm is to build a list with multiple copies of each word, according to the observed frequency, and then choose from the list:"
      ]
    },
    {
      "cell_type": "code",
      "metadata": {
        "colab": {
          "base_uri": "https://localhost:8080/"
        },
        "id": "412vFe3XcIU5",
        "outputId": "9be5d8c5-b664-4ce6-c33d-0bf1d4ccf2c4"
      },
      "source": [
        "myhist"
      ],
      "execution_count": 125,
      "outputs": [
        {
          "output_type": "execute_result",
          "data": {
            "text/plain": [
              "{'and': 1, 'apple': 1, 'grapes': 1, 'mango': 1, 'orange': 2}"
            ]
          },
          "metadata": {
            "tags": []
          },
          "execution_count": 125
        }
      ]
    },
    {
      "cell_type": "code",
      "metadata": {
        "colab": {
          "base_uri": "https://localhost:8080/"
        },
        "id": "zETs9569cSCF",
        "outputId": "e6bed4ee-edb7-4381-a712-34421588a1a8"
      },
      "source": [
        "myhist.items()"
      ],
      "execution_count": 126,
      "outputs": [
        {
          "output_type": "execute_result",
          "data": {
            "text/plain": [
              "dict_items([('apple', 1), ('and', 1), ('orange', 2), ('mango', 1), ('grapes', 1)])"
            ]
          },
          "metadata": {
            "tags": []
          },
          "execution_count": 126
        }
      ]
    },
    {
      "cell_type": "code",
      "metadata": {
        "id": "Ueab6mFZML_E"
      },
      "source": [
        "def random_word(h):\r\n",
        "    t = []\r\n",
        "    for word, freq in h.items():\r\n",
        "        t.extend([word] * freq*2) \r\n",
        "        #print(t)\r\n",
        "\r\n",
        "    return random.choice(t)"
      ],
      "execution_count": 146,
      "outputs": []
    },
    {
      "cell_type": "code",
      "metadata": {
        "colab": {
          "base_uri": "https://localhost:8080/",
          "height": 35
        },
        "id": "dieweu23Lqi3",
        "outputId": "b585ed78-e25e-4628-c1c6-40ba0eec918e"
      },
      "source": [
        "random_word(myhist)"
      ],
      "execution_count": 147,
      "outputs": [
        {
          "output_type": "execute_result",
          "data": {
            "application/vnd.google.colaboratory.intrinsic+json": {
              "type": "string"
            },
            "text/plain": [
              "'and'"
            ]
          },
          "metadata": {
            "tags": []
          },
          "execution_count": 147
        }
      ]
    },
    {
      "cell_type": "code",
      "metadata": {
        "id": "ONHIwP9lM2T0"
      },
      "source": [
        ""
      ],
      "execution_count": null,
      "outputs": []
    },
    {
      "cell_type": "code",
      "metadata": {
        "id": "XpK1Xx4pOp0g"
      },
      "source": [
        ""
      ],
      "execution_count": null,
      "outputs": []
    }
  ]
}