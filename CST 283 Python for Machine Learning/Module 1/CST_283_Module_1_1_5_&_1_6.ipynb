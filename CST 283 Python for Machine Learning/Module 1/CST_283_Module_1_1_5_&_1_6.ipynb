{
  "nbformat": 4,
  "nbformat_minor": 0,
  "metadata": {
    "colab": {
      "name": "CST_283_Module_1_1_5_&_1_6.ipynb",
      "provenance": []
    },
    "kernelspec": {
      "name": "python3",
      "display_name": "Python 3"
    }
  },
  "cells": [
    {
      "cell_type": "markdown",
      "metadata": {
        "id": "5GbEBPKo1A9V"
      },
      "source": [
        "1.5 Basic coding skills: Working with data types, Numeric data types and Character sets, Keywords, Variables and Assignment statement, Operators, Expressions\n",
        "1.6 Working with numeric data, Type conversions, Comments in the program\n"
      ]
    },
    {
      "cell_type": "markdown",
      "metadata": {
        "id": "1TiFbt3q4-B2"
      },
      "source": [
        "#Data Types"
      ]
    },
    {
      "cell_type": "markdown",
      "metadata": {
        "id": "9QcbQKiI4_jB"
      },
      "source": [
        "In the real world, we use data all the time without bothering to consider what\n",
        "kind of data we’re using. For example, consider this sentence: “I bought 2.5 kg of apple for Rs. 250” "
      ]
    },
    {
      "cell_type": "markdown",
      "metadata": {
        "id": "7V87W5Ng5Jxq"
      },
      "source": [
        "When we use data in a computer program, we do need to keep in mind the type of data we’re using."
      ]
    },
    {
      "cell_type": "markdown",
      "metadata": {
        "id": "b4ZeGTSc5g8D"
      },
      "source": [
        "In programming, a data type consists of a set of values and a set of operations\n",
        "that can be performed on those values"
      ]
    },
    {
      "cell_type": "markdown",
      "metadata": {
        "id": "yDiRQSRs5pRp"
      },
      "source": [
        "A literal is the way a value of a data\n",
        "type looks to a programmer. The programmer can use a literal in a program to\n",
        "mention a data value."
      ]
    },
    {
      "cell_type": "markdown",
      "metadata": {
        "id": "qW3n3GHo5yzQ"
      },
      "source": [
        " * int -1, 0, 1, 2\n",
        " * float -0.55, .3333, 3.14, 6.0\n",
        " * str “Hi”, “”, 'A', '66'"
      ]
    },
    {
      "cell_type": "markdown",
      "metadata": {
        "id": "BxQpBXNz6FNq"
      },
      "source": [
        "#String Literals\n",
        "In Python, a string literal is a sequence of characters enclosed in single or double quotation marks."
      ]
    },
    {
      "cell_type": "code",
      "metadata": {
        "id": "s-r10-K-6Swo",
        "outputId": "6c65933d-e88b-4707-ea15-8de562fe2ace",
        "colab": {
          "base_uri": "https://localhost:8080/",
          "height": 35
        }
      },
      "source": [
        "'Hello there!'"
      ],
      "execution_count": null,
      "outputs": [
        {
          "output_type": "execute_result",
          "data": {
            "application/vnd.google.colaboratory.intrinsic+json": {
              "type": "string"
            },
            "text/plain": [
              "'Hello there!'"
            ]
          },
          "metadata": {
            "tags": []
          },
          "execution_count": 1
        }
      ]
    },
    {
      "cell_type": "code",
      "metadata": {
        "id": "xK7S2aNskyOk",
        "outputId": "c3a8ee28-ae3e-4939-a9b4-fcd17a8a7605",
        "colab": {
          "base_uri": "https://localhost:8080/",
          "height": 35
        }
      },
      "source": [
        "print(\"Hello there!\")"
      ],
      "execution_count": null,
      "outputs": [
        {
          "output_type": "stream",
          "text": [
            "Hello there!\n"
          ],
          "name": "stdout"
        }
      ]
    },
    {
      "cell_type": "code",
      "metadata": {
        "id": "w9Mkc2dK6Yde",
        "outputId": "42237b9f-46ed-498d-ee5f-40764dad5444",
        "colab": {
          "base_uri": "https://localhost:8080/",
          "height": 35
        }
      },
      "source": [
        "\"Hello there!\""
      ],
      "execution_count": null,
      "outputs": [
        {
          "output_type": "execute_result",
          "data": {
            "application/vnd.google.colaboratory.intrinsic+json": {
              "type": "string"
            },
            "text/plain": [
              "'Hello there!'"
            ]
          },
          "metadata": {
            "tags": []
          },
          "execution_count": 2
        }
      ]
    },
    {
      "cell_type": "markdown",
      "metadata": {
        "id": "ph5y68uq6nBW"
      },
      "source": [
        "(' ' and \" \") represent the empty string"
      ]
    },
    {
      "cell_type": "code",
      "metadata": {
        "id": "Gk8CO6Yt6jH6",
        "outputId": "939f0dbc-500f-4ac1-d981-80f3e8c3fb5a",
        "colab": {
          "base_uri": "https://localhost:8080/",
          "height": 35
        }
      },
      "source": [
        "''"
      ],
      "execution_count": null,
      "outputs": [
        {
          "output_type": "execute_result",
          "data": {
            "application/vnd.google.colaboratory.intrinsic+json": {
              "type": "string"
            },
            "text/plain": [
              "''"
            ]
          },
          "metadata": {
            "tags": []
          },
          "execution_count": 6
        }
      ]
    },
    {
      "cell_type": "code",
      "metadata": {
        "id": "_fiYgjzn6l3n",
        "outputId": "9d79796a-83f1-4dcf-ed83-1ecd8fce7f57",
        "colab": {
          "base_uri": "https://localhost:8080/",
          "height": 35
        }
      },
      "source": [
        "\"\""
      ],
      "execution_count": null,
      "outputs": [
        {
          "output_type": "execute_result",
          "data": {
            "application/vnd.google.colaboratory.intrinsic+json": {
              "type": "string"
            },
            "text/plain": [
              "''"
            ]
          },
          "metadata": {
            "tags": []
          },
          "execution_count": 5
        }
      ]
    },
    {
      "cell_type": "markdown",
      "metadata": {
        "id": "bQ-_K5k46zfG"
      },
      "source": [
        "Empty string is different from a string that contains a single blank space character, \"  \"."
      ]
    },
    {
      "cell_type": "code",
      "metadata": {
        "id": "oDyRGJp964_5",
        "outputId": "aa99f37e-33f1-4b7a-c0e3-37878305e6ef",
        "colab": {
          "base_uri": "https://localhost:8080/",
          "height": 35
        }
      },
      "source": [
        "\" \""
      ],
      "execution_count": null,
      "outputs": [
        {
          "output_type": "execute_result",
          "data": {
            "application/vnd.google.colaboratory.intrinsic+json": {
              "type": "string"
            },
            "text/plain": [
              "' '"
            ]
          },
          "metadata": {
            "tags": []
          },
          "execution_count": 7
        }
      ]
    },
    {
      "cell_type": "code",
      "metadata": {
        "id": "1IGTrJbZ67WT",
        "outputId": "01e63c18-4cca-4ef1-e430-e23f6207cc0d",
        "colab": {
          "base_uri": "https://localhost:8080/",
          "height": 35
        }
      },
      "source": [
        "\"\" == \" \" "
      ],
      "execution_count": null,
      "outputs": [
        {
          "output_type": "execute_result",
          "data": {
            "text/plain": [
              "False"
            ]
          },
          "metadata": {
            "tags": []
          },
          "execution_count": 5
        }
      ]
    },
    {
      "cell_type": "code",
      "metadata": {
        "id": "RmCU-ClulK0q",
        "outputId": "f73032e5-7a58-45c7-e485-a6682459403d",
        "colab": {
          "base_uri": "https://localhost:8080/",
          "height": 35
        }
      },
      "source": [
        "\"\" == ''"
      ],
      "execution_count": null,
      "outputs": [
        {
          "output_type": "execute_result",
          "data": {
            "text/plain": [
              "True"
            ]
          },
          "metadata": {
            "tags": []
          },
          "execution_count": 6
        }
      ]
    },
    {
      "cell_type": "markdown",
      "metadata": {
        "id": "UcjEkfNJ7FTe"
      },
      "source": [
        "Double-quoted strings are handy for composing strings that contain single\n",
        "quotation marks or apostrophes."
      ]
    },
    {
      "cell_type": "code",
      "metadata": {
        "id": "x50Volw37Gol",
        "outputId": "62589d60-24d2-4b38-eacc-828e6346377b",
        "colab": {
          "base_uri": "https://localhost:8080/",
          "height": 35
        }
      },
      "source": [
        "\"Hello, I'am Angel\""
      ],
      "execution_count": null,
      "outputs": [
        {
          "output_type": "execute_result",
          "data": {
            "application/vnd.google.colaboratory.intrinsic+json": {
              "type": "string"
            },
            "text/plain": [
              "\"Hello, I'am Angel\""
            ]
          },
          "metadata": {
            "tags": []
          },
          "execution_count": 8
        }
      ]
    },
    {
      "cell_type": "code",
      "metadata": {
        "id": "NUjBGQUb7gKA",
        "outputId": "5a5d8df6-badd-4d90-bc85-a8636493b6a6",
        "colab": {
          "base_uri": "https://localhost:8080/",
          "height": 34
        }
      },
      "source": [
        "print(\"Hello, I'am Angel\")"
      ],
      "execution_count": null,
      "outputs": [
        {
          "output_type": "stream",
          "text": [
            "Hello, I'am Angel\n"
          ],
          "name": "stdout"
        }
      ]
    },
    {
      "cell_type": "markdown",
      "metadata": {
        "id": "cwmkClpc7mhZ"
      },
      "source": [
        "A double quotation mark can also be included in a\n",
        "string literal if one uses the single quotation marks to enclose the literal"
      ]
    },
    {
      "cell_type": "code",
      "metadata": {
        "id": "si3Ah44-7_2z",
        "outputId": "8b115981-09c2-4ef8-d057-5fa241a1c71e",
        "colab": {
          "base_uri": "https://localhost:8080/",
          "height": 69
        }
      },
      "source": [
        "print(\"\"\"Note that the first line in the output\n",
        " ends exactly where the first line ends in\n",
        "the code\"\"\")"
      ],
      "execution_count": null,
      "outputs": [
        {
          "output_type": "stream",
          "text": [
            "Note that the first line in the output\n",
            " ends exactly where the first line ends in\n",
            "the code\n"
          ],
          "name": "stdout"
        }
      ]
    },
    {
      "cell_type": "code",
      "metadata": {
        "id": "QC43hEMk8VZS",
        "outputId": "50bfc68e-208d-4d47-9240-6acfc33126a7",
        "colab": {
          "base_uri": "https://localhost:8080/",
          "height": 53
        }
      },
      "source": [
        "\"\"\"When you evaluate a string in the Python\n",
        " shell without the print function,\n",
        "you can see the literal for the newline character, \\n\"\"\""
      ],
      "execution_count": null,
      "outputs": [
        {
          "output_type": "execute_result",
          "data": {
            "application/vnd.google.colaboratory.intrinsic+json": {
              "type": "string"
            },
            "text/plain": [
              "'When you evaluate a string in the Python\\n shell without the print function,\\nyou can see the literal for the newline character, \\n'"
            ]
          },
          "metadata": {
            "tags": []
          },
          "execution_count": 9
        }
      ]
    },
    {
      "cell_type": "markdown",
      "metadata": {
        "id": "_2WzRjFB8a39"
      },
      "source": [
        "#Escape Sequences"
      ]
    },
    {
      "cell_type": "markdown",
      "metadata": {
        "id": "l0ah1Qb98hk1"
      },
      "source": [
        "The newline character \\n is called an escape sequence. Escape sequences are the\n",
        "way Python expresses special characters, such as the tab, the newline, and the\n",
        "backspace (delete key), as literals."
      ]
    },
    {
      "cell_type": "markdown",
      "metadata": {
        "id": "Rw3TAfbZ8kto"
      },
      "source": [
        "* \\b Backspace\n",
        "* \\n Newline\n",
        "* \\t Horizontal tab\n",
        "* \\\\ The \\ character\n",
        "* \\' Single quotation mark\n",
        "* \\\" Double quotation mark"
      ]
    },
    {
      "cell_type": "markdown",
      "metadata": {
        "id": "rqcsRr8u84c3"
      },
      "source": [
        "**Because the backslash is used for escape sequences, it must be escaped to\n",
        "appear as a literal character in a string. Thus, print(“\\\\”) would display a single\n",
        "\\ character**"
      ]
    },
    {
      "cell_type": "code",
      "metadata": {
        "id": "ypYcHH3rmZ7d",
        "outputId": "5a67ceae-1ec8-4814-ad0f-01a1778e51d4",
        "colab": {
          "base_uri": "https://localhost:8080/",
          "height": 35
        }
      },
      "source": [
        "print(\"Hello I am here \\\\ hi\")"
      ],
      "execution_count": null,
      "outputs": [
        {
          "output_type": "stream",
          "text": [
            "Hello I am here \\ hi\n"
          ],
          "name": "stdout"
        }
      ]
    },
    {
      "cell_type": "code",
      "metadata": {
        "id": "Tp3UxOCR898_",
        "outputId": "0e5d31d3-bb4d-493e-9824-10da9b56a023",
        "colab": {
          "base_uri": "https://localhost:8080/",
          "height": 35
        }
      },
      "source": [
        " print(\"\\\\\")"
      ],
      "execution_count": null,
      "outputs": [
        {
          "output_type": "stream",
          "text": [
            "\\\n"
          ],
          "name": "stdout"
        }
      ]
    },
    {
      "cell_type": "markdown",
      "metadata": {
        "id": "aNaXjHgQ9cgF"
      },
      "source": [
        "#String Concatenation"
      ]
    },
    {
      "cell_type": "code",
      "metadata": {
        "id": "BNP9FsV-9dwx",
        "outputId": "08c03369-f90d-444e-f5df-5f3b52b6726f",
        "colab": {
          "base_uri": "https://localhost:8080/",
          "height": 35
        }
      },
      "source": [
        "\"Hi\" + \"There\""
      ],
      "execution_count": null,
      "outputs": [
        {
          "output_type": "execute_result",
          "data": {
            "application/vnd.google.colaboratory.intrinsic+json": {
              "type": "string"
            },
            "text/plain": [
              "'HiThere'"
            ]
          },
          "metadata": {
            "tags": []
          },
          "execution_count": 18
        }
      ]
    },
    {
      "cell_type": "code",
      "metadata": {
        "id": "AvbNRSz-m_XJ",
        "outputId": "65c7544a-72e0-417a-b040-a31f2416d39a",
        "colab": {
          "base_uri": "https://localhost:8080/",
          "height": 35
        }
      },
      "source": [
        "print(\"Hi\" + \"There\")"
      ],
      "execution_count": null,
      "outputs": [
        {
          "output_type": "stream",
          "text": [
            "HiThere\n"
          ],
          "name": "stdout"
        }
      ]
    },
    {
      "cell_type": "markdown",
      "metadata": {
        "id": "9Z4l4voj91H7"
      },
      "source": [
        "The * operator allows you to build a string by repeating another string a given\n",
        "number of times"
      ]
    },
    {
      "cell_type": "code",
      "metadata": {
        "id": "LLto2Qkm9mCg",
        "outputId": "62fd2e63-5db5-4e18-d6d5-f5f69b53a875",
        "colab": {
          "base_uri": "https://localhost:8080/",
          "height": 35
        }
      },
      "source": [
        "\"Hello\"*5"
      ],
      "execution_count": null,
      "outputs": [
        {
          "output_type": "execute_result",
          "data": {
            "application/vnd.google.colaboratory.intrinsic+json": {
              "type": "string"
            },
            "text/plain": [
              "'HelloHelloHelloHelloHello'"
            ]
          },
          "metadata": {
            "tags": []
          },
          "execution_count": 19
        }
      ]
    },
    {
      "cell_type": "code",
      "metadata": {
        "id": "3ynA3a199xha",
        "outputId": "478266e7-6850-4f9d-8acf-6016227b9828",
        "colab": {
          "base_uri": "https://localhost:8080/",
          "height": 35
        }
      },
      "source": [
        "10*\"Hi\""
      ],
      "execution_count": null,
      "outputs": [
        {
          "output_type": "execute_result",
          "data": {
            "application/vnd.google.colaboratory.intrinsic+json": {
              "type": "string"
            },
            "text/plain": [
              "'HiHiHiHiHiHiHiHiHiHi'"
            ]
          },
          "metadata": {
            "tags": []
          },
          "execution_count": 19
        }
      ]
    },
    {
      "cell_type": "code",
      "metadata": {
        "id": "tZG-D679nhYt"
      },
      "source": [
        "string1 = \"hi\"\n",
        "string2 = \"hi\""
      ],
      "execution_count": null,
      "outputs": []
    },
    {
      "cell_type": "code",
      "metadata": {
        "id": "7u1RbM0BnSpM",
        "outputId": "b616b06c-756a-473a-a53f-347aa2cf5f8e",
        "colab": {
          "base_uri": "https://localhost:8080/",
          "height": 35
        }
      },
      "source": [
        "if(string1==string2):\n",
        " print(\"Same\")\n",
        "else:\n",
        " print(\"Different\")"
      ],
      "execution_count": null,
      "outputs": [
        {
          "output_type": "stream",
          "text": [
            "Same\n"
          ],
          "name": "stdout"
        }
      ]
    },
    {
      "cell_type": "markdown",
      "metadata": {
        "id": "S6Ph2_VP947E"
      },
      "source": [
        "#Variables and the Assignment Statement"
      ]
    },
    {
      "cell_type": "markdown",
      "metadata": {
        "id": "XUbxB8Kp-ZRt"
      },
      "source": [
        "You need to be mindful of a few\n",
        "rules when choosing names for your variables. For example, some names, such as\n",
        "if, def, and import, are reserved for other purposes and thus cannot be used for\n",
        "variable names."
      ]
    },
    {
      "cell_type": "code",
      "metadata": {
        "id": "cHachtxs_AtH",
        "outputId": "48be9f13-5661-4c1d-9ddb-88bb3eb25e1e",
        "colab": {
          "base_uri": "https://localhost:8080/",
          "height": 131
        }
      },
      "source": [
        "if = 4"
      ],
      "execution_count": null,
      "outputs": [
        {
          "output_type": "error",
          "ename": "SyntaxError",
          "evalue": "ignored",
          "traceback": [
            "\u001b[0;36m  File \u001b[0;32m\"<ipython-input-30-6bf3167568fd>\"\u001b[0;36m, line \u001b[0;32m1\u001b[0m\n\u001b[0;31m    if = 4\u001b[0m\n\u001b[0m       ^\u001b[0m\n\u001b[0;31mSyntaxError\u001b[0m\u001b[0;31m:\u001b[0m invalid syntax\n"
          ]
        }
      ]
    },
    {
      "cell_type": "code",
      "metadata": {
        "id": "9XSRHFe1_EKs",
        "outputId": "d95ae614-6793-4c25-f4e6-735b279e71c3",
        "colab": {
          "base_uri": "https://localhost:8080/",
          "height": 35
        }
      },
      "source": [
        "abc_ = 4\n",
        "print(abc_)"
      ],
      "execution_count": null,
      "outputs": [
        {
          "output_type": "stream",
          "text": [
            "4\n"
          ],
          "name": "stdout"
        }
      ]
    },
    {
      "cell_type": "markdown",
      "metadata": {
        "id": "hyRpf-DQ-f7F"
      },
      "source": [
        "Variable name must begin with either a letter or an\n",
        "underscore ( _), and can contain any number of letters, digits, or other underscores.\n",
        "Python variable names are case sensitive; thus, the variable WEIGHT is a different\n",
        "name from the variable weight."
      ]
    },
    {
      "cell_type": "code",
      "metadata": {
        "id": "Cp-jDbbh-zUW"
      },
      "source": [
        "weight = 8\n",
        "InterestRate = 9\n",
        "WEIGHT = 10\n"
      ],
      "execution_count": null,
      "outputs": []
    },
    {
      "cell_type": "code",
      "metadata": {
        "id": "an3tSfq8-6ka",
        "outputId": "9ae445ee-4315-42e0-95ca-2bb3ed7a9079",
        "colab": {
          "base_uri": "https://localhost:8080/",
          "height": 34
        }
      },
      "source": [
        "WEIGHT+Weight+weight"
      ],
      "execution_count": null,
      "outputs": [
        {
          "output_type": "execute_result",
          "data": {
            "text/plain": [
              "27"
            ]
          },
          "metadata": {
            "tags": []
          },
          "execution_count": 24
        }
      ]
    },
    {
      "cell_type": "markdown",
      "metadata": {
        "id": "GTwQcHxO-phh"
      },
      "source": [
        "Python programmers typically use lowercase letters\n",
        "for variable names, but in the case of variable names that consist of more than one\n",
        "word, it’s common to begin each word in the variable name (except for the first one)\n",
        "with an uppercase letter. This makes the variable name easier to read. For example,\n",
        "the name interestRate is slightly easier to read than the name interestrate"
      ]
    },
    {
      "cell_type": "code",
      "metadata": {
        "id": "EBxkAkYK-sw7"
      },
      "source": [
        "interestRate = 9.8"
      ],
      "execution_count": null,
      "outputs": []
    },
    {
      "cell_type": "code",
      "metadata": {
        "id": "scx0KJ81-wMO"
      },
      "source": [
        "interestrate = 9.8"
      ],
      "execution_count": null,
      "outputs": []
    },
    {
      "cell_type": "markdown",
      "metadata": {
        "id": "SBzICj0o-orN"
      },
      "source": [
        "Programmers use all uppercase letters for the names of variables that contain\n",
        "values that the program never changes. Such variables are known as symbolic\n",
        "constants. Examples of symbolic constants in the tax calculator case study are\n",
        "TAX_RATE and STANDARD_DEDUCTION."
      ]
    },
    {
      "cell_type": "code",
      "metadata": {
        "id": "IVqJWoZs9p3g"
      },
      "source": [
        "STANDARD_DEDUCTION = 10000"
      ],
      "execution_count": null,
      "outputs": []
    },
    {
      "cell_type": "markdown",
      "metadata": {
        "id": "VTIqxnG__UGc"
      },
      "source": [
        "The Python interpreter first evaluates the expression on the right side of the\n",
        "assignment symbol and then binds the variable name on the left side to this value.\n",
        "When this happens to the variable name for the first time, it is called defining or\n",
        "initializing the variable."
      ]
    },
    {
      "cell_type": "markdown",
      "metadata": {
        "id": "5M62E_VJ_UKz"
      },
      "source": [
        "*After you initialize a variable, subsequent uses of the variable name in expressions\n",
        "are known as variable references*"
      ]
    },
    {
      "cell_type": "markdown",
      "metadata": {
        "id": "PVmvQHcL_UFL"
      },
      "source": [
        "When the interpreter encounters a variable reference in any expression, it\n",
        "looks up the associated value. If a name is not yet bound to a value when it is referenced,\n",
        "Python signals an error"
      ]
    },
    {
      "cell_type": "code",
      "metadata": {
        "id": "f_8akQAp_iJu",
        "outputId": "04bcaa9b-27aa-46d2-981b-6952a05587c0",
        "colab": {
          "base_uri": "https://localhost:8080/",
          "height": 166
        }
      },
      "source": [
        "abc +1"
      ],
      "execution_count": null,
      "outputs": [
        {
          "output_type": "error",
          "ename": "NameError",
          "evalue": "ignored",
          "traceback": [
            "\u001b[0;31m---------------------------------------------------------------------------\u001b[0m",
            "\u001b[0;31mNameError\u001b[0m                                 Traceback (most recent call last)",
            "\u001b[0;32m<ipython-input-38-457db89f387c>\u001b[0m in \u001b[0;36m<module>\u001b[0;34m()\u001b[0m\n\u001b[0;32m----> 1\u001b[0;31m \u001b[0mabc\u001b[0m \u001b[0;34m+\u001b[0m\u001b[0;36m1\u001b[0m\u001b[0;34m\u001b[0m\u001b[0;34m\u001b[0m\u001b[0m\n\u001b[0m",
            "\u001b[0;31mNameError\u001b[0m: name 'abc' is not defined"
          ]
        }
      ]
    },
    {
      "cell_type": "markdown",
      "metadata": {
        "id": "Cwjw1ygh_3C_"
      },
      "source": [
        "The wise programmer selects names that inform the human reader about the\n",
        "purpose of the data. This, in turn, makes the program easier to maintain and\n",
        "troubleshoot"
      ]
    },
    {
      "cell_type": "markdown",
      "metadata": {
        "id": "AGRi0nnw_6Hh"
      },
      "source": [
        "#Program Comments and Docstrings"
      ]
    },
    {
      "cell_type": "code",
      "metadata": {
        "id": "jMxn-wS7_8Z4",
        "outputId": "83a672d9-c2ae-4811-a25c-5fe9c61e94db",
        "colab": {
          "base_uri": "https://localhost:8080/",
          "height": 86
        }
      },
      "source": [
        "\"\"\"\n",
        "We conclude this subsection on strings with a discussion of program comments.\n",
        "A comment is a piece of program text that the interpreter ignores but that provides\n",
        "useful documentation to programmers. At the very least, the author of a\n",
        "program can include his or her name and a brief statement about the purpose of\n",
        "the program at the beginning of the program file. This type of comment, called a\n",
        "docstring, is a multi-line string of the form discussed earlier in this section\n",
        "\"\"\""
      ],
      "execution_count": null,
      "outputs": [
        {
          "output_type": "execute_result",
          "data": {
            "application/vnd.google.colaboratory.intrinsic+json": {
              "type": "string"
            },
            "text/plain": [
              "'\\nWe conclude this subsection on strings with a discussion of program comments.\\nA comment is a piece of program text that the interpreter ignores but that provides\\nuseful documentation to programmers. At the very least, the author of a\\nprogram can include his or her name and a brief statement about the purpose of\\nthe program at the beginning of the program file. This type of comment, called a\\ndocstring, is a multi-line string of the form discussed earlier in this section\\n'"
            ]
          },
          "metadata": {
            "tags": []
          },
          "execution_count": 31
        }
      ]
    },
    {
      "cell_type": "code",
      "metadata": {
        "id": "cuVNOJdOAKS-",
        "outputId": "df221dbc-d75d-42e9-da1e-3e8e8e614668",
        "colab": {
          "base_uri": "https://localhost:8080/",
          "height": 131
        }
      },
      "source": [
        "print(3+4) #end-of-line comments can document a program\n"
      ],
      "execution_count": null,
      "outputs": [
        {
          "output_type": "error",
          "ename": "SyntaxError",
          "evalue": "ignored",
          "traceback": [
            "\u001b[0;36m  File \u001b[0;32m\"<ipython-input-39-6323151bc1d0>\"\u001b[0;36m, line \u001b[0;32m3\u001b[0m\n\u001b[0;31m    a++ #incrementing a\u001b[0m\n\u001b[0m                       ^\u001b[0m\n\u001b[0;31mSyntaxError\u001b[0m\u001b[0;31m:\u001b[0m invalid syntax\n"
          ]
        }
      ]
    },
    {
      "cell_type": "code",
      "metadata": {
        "id": "lmrXVLCZp8nt"
      },
      "source": [
        "b=3"
      ],
      "execution_count": null,
      "outputs": []
    },
    {
      "cell_type": "code",
      "metadata": {
        "id": "t1r90zdmp4O-",
        "outputId": "c4159e92-71e1-49d8-a21a-c126ff0ff191",
        "colab": {
          "base_uri": "https://localhost:8080/",
          "height": 35
        }
      },
      "source": [
        "a=b #Initilaizing a\n",
        "a+=1 #incrementing \n",
        "print(a) #printing"
      ],
      "execution_count": null,
      "outputs": [
        {
          "output_type": "stream",
          "text": [
            "4\n"
          ],
          "name": "stdout"
        }
      ]
    },
    {
      "cell_type": "markdown",
      "metadata": {
        "id": "TJZvsKD8Acpg"
      },
      "source": [
        "#2.3 Exercises"
      ]
    },
    {
      "cell_type": "code",
      "metadata": {
        "id": "1Z89lZUuAhBq",
        "outputId": "14b8e647-171a-4d62-b443-04742dcbd4f4",
        "colab": {
          "base_uri": "https://localhost:8080/",
          "height": 35
        }
      },
      "source": [
        "#Assignment\n",
        "#Kenneth A Lambert., Fundamentals of Python : First Programs, 2/e, Cengage Publishing,\n",
        "2016"
      ],
      "execution_count": null,
      "outputs": [
        {
          "output_type": "execute_result",
          "data": {
            "text/plain": [
              "2016"
            ]
          },
          "metadata": {
            "tags": []
          },
          "execution_count": 53
        }
      ]
    },
    {
      "cell_type": "markdown",
      "metadata": {
        "id": "u4RAGAom1M7J"
      },
      "source": [
        "#Numeric Data Types and Character Sets"
      ]
    },
    {
      "cell_type": "markdown",
      "metadata": {
        "id": "8fSoDkWt3HKE"
      },
      "source": [
        "##Integers"
      ]
    },
    {
      "cell_type": "markdown",
      "metadata": {
        "id": "SN9BChFlAr88"
      },
      "source": [
        "integers include 0, all of the positive whole\n",
        "numbers, and all of the negative whole numbers. Integer literals in a Python\n",
        "program are written without commas, and a leading negative sign indicates a\n",
        "negative value."
      ]
    },
    {
      "cell_type": "markdown",
      "metadata": {
        "id": "amrXsOilAvFT"
      },
      "source": [
        "Although the range of integers is infinite, a real computer’s memory places a\n",
        "limit on the magnitude of the largest positive and negative integers."
      ]
    },
    {
      "cell_type": "markdown",
      "metadata": {
        "id": "yOOvCfhjBFnk"
      },
      "source": [
        "The most\n",
        "common implementation of the int data type in many programming languages\n",
        "consists of the integers from –2,147,483,648  to 2,147,483,647 ."
      ]
    },
    {
      "cell_type": "code",
      "metadata": {
        "id": "NTVUZc2BBKuP",
        "outputId": "02d30e1d-b459-417d-ed2b-f7319f589772",
        "colab": {
          "base_uri": "https://localhost:8080/",
          "height": 34
        }
      },
      "source": [
        "-2 ** 31"
      ],
      "execution_count": null,
      "outputs": [
        {
          "output_type": "execute_result",
          "data": {
            "text/plain": [
              "-2147483648"
            ]
          },
          "metadata": {
            "tags": []
          },
          "execution_count": 38
        }
      ]
    },
    {
      "cell_type": "code",
      "metadata": {
        "id": "DU__0EkyBNHK",
        "outputId": "c835f514-5d6d-4245-9011-e7b8a7f282dd",
        "colab": {
          "base_uri": "https://localhost:8080/",
          "height": 34
        }
      },
      "source": [
        "2 ** 31 -1"
      ],
      "execution_count": null,
      "outputs": [
        {
          "output_type": "execute_result",
          "data": {
            "text/plain": [
              "2147483647"
            ]
          },
          "metadata": {
            "tags": []
          },
          "execution_count": 40
        }
      ]
    },
    {
      "cell_type": "markdown",
      "metadata": {
        "id": "R6l58drvBV7t"
      },
      "source": [
        "However, the magnitude of a long integer can be quite large, but is still limited\n",
        "by the memory of your particular computer"
      ]
    },
    {
      "cell_type": "code",
      "metadata": {
        "id": "NeBVlGvG1Fo7",
        "outputId": "c035c285-a6ed-4fbd-db69-f62d6f8097f8",
        "colab": {
          "base_uri": "https://localhost:8080/",
          "height": 55
        }
      },
      "source": [
        "2147483647 ** 10000"
      ],
      "execution_count": null,
      "outputs": [
        {
          "output_type": "execute_result",
          "data": {
            "text/plain": [
              "19890871503659560007359084306247052745019688244651869505298334030608182195695735869748093009081633398912567592240846901233975698316657848615175827766280503692810311146426857838509832749909584777033334877909136399481893163862738673153865621980186296485447972586891729698106276748616530460094747121470580541309453587791064889970441567850135968990321737757394148619413971747667801010759819146678445061451017447717417778123249967451427500268306104361552847115977874044939696400738823609033817102099399706707023839268613148451960796688422468995361742047556161737634853688633063549891020127106759102338694521033678418405536001800209392556674335147428128811084486191244152950070307578601216075052005897977910737298403131678710906408717221602600251586901604897813350770323775791421521434036775103067649085030995186280741363245040847556331056808609447508642646624852218553513754953243947795758993883614128665703761825306182078368443900685569718262588955902829810043185989935755054711039432623121300893192838111420815804772897134692025023856395596453590047795762945799142079759264806867816156876546100299362270695242129706813447647831006823220677154843818555509368968839254804819903400714779148956919309518939235106533063582703340543619472551608196997623985633995381872781534308258559527876430701925765120560492571005904332915051552347294719774548339386872154692584410840944982974923125606829077712045158520075809126923552967266999506746750114973575426579340006367095973495757415222994937893730531704545442798659070890788169901921817093033028120118927856137078078776043803422343332788484254549112832678317864041735739109953632567456087166966404600132216847743116473121644788517771346777593248860799236079394663260957747445709036344551538812040164943522275359661235311652114604459411731374599973309404029435174182537909288861296455662132853947348652891601722047501461558813655241261251745799025545393138272030182040627971252753357848117330733002080896808190052021578650756656722792054138124401701254789216647793253530087241841712751473684459007219560023577319414849477594771534025142760267391693517468983847171012624718311337295759277770798000868821187907227710225153497262547737311591010785745050526931203261680211895606562684824744515636424904436654778996517451516306806429006741217685107736956813290957630193532237129011017624795629935724382030149426202960411404661404404438984077510361413911624692467570526637002020257373580934116257417975587329652865462769641706477389887647759125096461290669407236046285505297296969036204958580596723125394048081163342876706942080406410129207420417806658712250023971704831503580743502439565844247985917266277084164046666032517971686767483399729170507057523597397967642959128329191345817190495570977738679774050352144992914849140882231647349498550758400627833527534389652856908714734138193568180864338487527092811024549943449727026475103089010991918129981832735840195508843064567618859523467889891467904044972526794627199875102144857263181616106782774055993170913213324695559802391699943647366790988685356434833555322819549374402286621898121753724201903704863719130323435467175913191196750134594026576824216224672305870625816618047471211845705686194909910011674923709465201614183051094948449544550459318182498269837918188562374365736635291196880522517220864383236495814332247497754260561253871208477234152605369443201804675879281189587398641642990252115601368829021989855290886931389115470292257687629800365578026921146131234542174135856553265229943332127293241568223257530545546202811084298783679482311066124915271731361697963839354853545336942312389401337801533047162293050450504456535326906833075432141027509869592994287064206477877918876149829854331099256917133653613496493180948037735283622877663482029290287768744275728756444294751853537525598843601015887176684030695638160495178125743547763836358979114064930134126989107756481951633084073369010045490195910302233688449507246449195784199248647655156841584661258373914796918015651473470802569602241871916308665451563546546304136585181247773460497037787798225518908768035323385048921274060028570035887104823686714669521759920976764333321823615114689950427582362255432518154420076965547734060411580917268414695682325885025270719628427724410121166323633048237778420235960919132209979313924321068773604334228811268018251237328490213860576843425789378364205098556080557399554883333658415123843081610059909642061938229597260377664420659540265575454479887933406310407459816876258470401256103198540552855510476295548644275437728654407629813407337270835473514233269108600849341901742646150965379788778594936423764865344092890650629954089510249881460886150828532590324859065005025908666356634564186488913457535867378510382763927335548003416258700805408718177959573939230000171009622812396872775515218311256365877566939154889933388240810454893135896586227911372440354166472461797856479523937127219597263778958759663421641408005865424172209895519423766003521644160086895288561199522579376220719631039075062444455103296252072225171199827985437902947079197091046063648813356458842601635336691722310861024307553955676907433850602578793414573878223854210276966962240026113198058160633866707691590740402134245592986047899276921441563185511608970062829171684800549321887110310355761167415922760688024979264598658880094172056085761999249059561526412548512239017697581449593481353430742075464702522672296801687542506371412464631129304500266373313508532120413410676155205828858352314634682907314448392521575624964364991314549507349647991320218240009136854680930243483500024618415968036978783970379028240509555445396912121715486923415942637977246978725381505321049834512282961771524843511543491972775522540912285304020189240873789651282766241686480275989882536924022027071746053074499375044349050453278322487804563806162425856436049444019835666707549356989074481051779338709970561286212638167376092830029577241112481879435885220474925167247902579513460750008589442017423914915077966845920368924354560654876600322574625363911939380897171410051264213758545712038545180423889933729171814319958974161624389392852486727923045109295892083250692577062586507612744654225364137007271123522714514697121824893480457100813893574867736772165301593352518052765499369082636435646237568471242000711095318000968178232819536339709203419314332853732046810834499023054617292532012063218606446204327040403090345744620348949377743867735571018170027690912974672012977089154231928899994890425663783409622574805785104943859193201360325186515625452772782877923877004907127045047338937009557989357511448202070880343123501983076466671703261193255081780833768115104821203089238743029233972406312600464157839238018694082392140294270163562030284077278895233341243496012626277635785198491683838708094823479676865166917574233300918519030528644412174790640768536039143724140187882200531482103517329432509067013501156686279974143844880096526525050324544858287991948426408658907592714546176569137258738012824785033910758356399822529029971690386578833075049882566047732395600863300503157746277662545085867442634831627896957757353326206191244600159525774012855944845972540651935181501163492399863464286884719318023637417964538367544832591960989354777147516854155898075454837349555254279121683166656461547253864091736657940955970843326795419549616177878382313362953120769832426513966822323125399417694825219669009102383870619736394074153558012366364024834334869089448438506794914981972724606450876686947072233995259383697999710622241856881657533949367405074844322936755255234512807372848808785854915241191302385836338173499003565614054719826923010246468815809154629089090746375222674303386652649576718639293610630353048942700419416352725370446798756841570971558669364407966454064915214962111885688815365782329751344277595086989518344793372118849679664182899459971946043245852895195207696203623522451468164902597354757505163291397696939212221973659152883771958937517436127695645534940405422510231620490305912330311709561388392087750999236186329002614981317915531311011657055081070561249866495817112773491976022410474677003833592656097616834899871240998250218328764582972611818462048257492173181558363506631338269569794659209054032761459742759649543524903308988670529203993121301229386174642957195159930019804342291610293341485450452223149478558615756031612652780377463368994991806722983475971455649438087766598753947148807615248206733079762566224758870226831650999591952527466012797848905989275715860186988568299126625772187543783823677398267482751254420995544881373995852783014515110972069429844951063565466306201604844029423123219239981302590875801540453148704756221959842705725217654634313824198316840154065046795522645007470322819614738997385916492278684774952882801263037468082393312366264640631091744897191420036323226424611414729207329047155800585282688086683499362479482755543058417312366135456230234768240003918933274237452178736301467798180451801078343361650004166731874083494325921464501573825870890023819606928275919123875659133448586348216795292772992641861462874058306303694474141908312033104930962561034613332977573545729115141071939530643639875971470140269900160273862443077869773084732216915384724899198386560769775877081892208171609928628656859206772457595751189946835797577150481804036124419609242181434935900442890080770834392808671593610620095071103385740386474268672873105452370181700881835690493432785833187403860090468802206221029287443222021559768369623274970366141838984538371015706940311298127323769279711986418219151355218474279770735482899272710681768277304959747147301321126668525042012229858573211078933093568630967663543873308001792894835010138794529157521841234065059966924878646195960629625020006321862347537760570795194783366198217894985895595814382745213086161812569602916098504359848269187155526715757959219940406430183217932035011140302679490747853688091249321658282032561598573984103753542489165025219315618844801117904757702743507027407530887333532001462701675515107629149376338219088343253378168264310137159693210791211178582965923090816307524227946792046324767268201603839315937231061244433161681215433586572475512685330052018473466553860756074786670866517282955425382560054723795141383797575904899836681801773749899370454337313454453390875483807116395497866634411479145936287329593285471623745904600316176895953062953331191049937786354195028390674047681524861652557568485902711246087026920515364273720503918427368001834502025607093870894471254159205240097686574391294315959045957737139294438828756590819083227396479875033142316406224106414121143932909401165702293422902833267921023286495070139050186429636734279397086415658250756794840044752870263509296089883434542282399010442499974787763937660498506618191491229481151186042980506910618800137901171987803440824099050129725535846104822377094528678510504580537626127071927549926382938161643699983662525895405035477228996467210911699046897322599078159378809855911267393435831690113029175804239799403130833012717649902197071573853780210907271886639448511407239410303349559798276056831251091690645852762266612077956851566836590796033001193687665811413425201086189440202727298282292445802045758535205137973634200774654593977461847377545304537357976724446140233733542201087110165088267898390430928555057528157382237916332099561100134135404588761167665961725594800786182623446528157486715792590332636698872894302739962888668718306647919805106022218781236366304131016341310782578275715008783270186973555373904426503277945300964779139439948815430419702873808409219122647443138084297784188987012020784647280510662629452225235650104263974134487141557076251752844874146051518079917045006908297691912267744199713226353955765765152517944599233405082360328295044085360871827469691524893024447175047989409701104246214773064460110216026250774669575216364241702953196202935873660303963876729381106941554310769152934144781465611430473074177900076518461481624375541072496951474651512789212369615286499621698475510926350176246004161569398307553375654823008389018955886442639207475024808236654886787128881576399222378851625436702096915710059486183217493897719503000279841919276027783517501642194280871682246536552878107295005013014221027531167659177879060376858542879531853820993881038030602171074092768694826333647002527305572251825527298178753195577834817650617846045918987165999322069516787613068469393497417843897422801343991271767194236899371042092783701934530845948289480840049617014555270423331664707823031370825004783112542047536061551143790304480822910035742890975395080146350153327604469970849027475158438973757555222523974581646847176758819839704913198697443211382477791998177236891854656288298531168373073114860858748763177020381814282568806204588371920052899315702820495082677721494365142899090040144617122319707017432571687199425047629373101707650530353497913499236371948221543156650179067467437855046844530606174558201156315016245728155750188383006528377856458138512226859594938126009059578106324747292816699787760543886968587198498545405537080401584285664292665937266557983357963718845506911555816100632576255845973916785705784860251630593662426200827355832756813423286788380882112282581924958215483056012957603175571934017360720227967983891756320103337046810987697972348940339151051677179869471227422831330001049802351660535171167472205627552411795252637625056724758742509573082051462077611260372414371311715613257536512611248382668944412989227467331259678413700578272020121734262177568369937786695179665390179864963933498484604845592320382637299146697865265094295200814587463800190607481008853764059547150456426371388224067299140662691308345241396391218685752351226929537049860322952581297151447661653845390984424718320631896773040709780903607458491648597515813182333694520447343277902962862677655655348469975337904254571320017623765100507803399648328125644524930371415585179289976202745299862738979100269844084830207627696049194689377351532809907032917941828803611691107925676811883139472279753286058818396151873286573894328402552622041380550416594186324880427342257274592874327622295570394362559626659729723445091293933256231648775835197951830852180534836190711523715510378261648561238479809958965786797339531598539146499436291515983795105108485021734100242906959343176728817518700391862376473888227355498190805337007136589019749515792068713932599797921624966229260128582613986268944488194352810080979443973075464080306796419551664645132171408834694737841589851397693462788875372638299439762720029863843936831819565585727527164613748216345548837837611540665020214995516222734414111448443224649763034564417382770201861873285850404883333041019885741314913975828717552485383331535668605082386452507161092247287385712753066531007926398505913165351791249594819397356725194391935657262507379697186637676935987898195953712455380298850632656981495674037806615148046037426457373326885268126480410052053955180138823735795169988571433638080487885319782177333551586823843015868476598522482685840888338990756377514584551853810423323400009254750349606878716067152193174584705463380082501777072591808227941329346077357237428311716527889783036336522169768150990448665849797591388634760569573564748745398232944973625075127026653157287175683797328812949134422826523593935394764448759884156304976406420057241457940579412548000990637583159926656903330995681129042833490887757850193087059863393799212946952305302815787816732982933014338071481801848943234790911071171248867701286645069266517176629106086026773669808143976190742855884760086362317045242844591445633391955923809604402061936615154633195557874394871677482150111781325852583640180647594316943780736099330235758091658529061818074826296484307327943506319463685526847848403116294064315657502227661144149220394794071001604496033879627665586499575200976462146080723991404458147447868837426780269646570389147452004640425882976687475927658281438924384037642926671517844974267993673275985644745729901155036789550523152979980499434432393810976330465273123675092671352181406913586568482395180774954626115895374077063758312816418155087022365773377397656156829195286838167112722848309694489985597566100557296104585720601747832676461861973913909903750503797109895599190053913318522899164533620035366971899899633571150642503114853237000354323255739390161486632542289569057937185237150194984040957512646305925617121816038302078550313229290118310914143299552234008098865415438464981308346506692344168709802098658613736590489859905745052114202660688345275459645590972134903122059747261772407029424286264748505367722326093260568142043357219634412442336622958477238247259427651033536066107864541955867155411817052844323530075155441269235846118313731703499585577128281675298548051726835841722657305315737014650355287459156554902535874848498540349930452347102984774241870351425298747836369931716723753391301508103321212767722059432960422451576540974556117645950899103609706267626253339407413741644984864353120034490465446097654772843203132676543137025465844806001838754809954819295099370764142660676740357017958537658608661807985070155327769548520219671036243780031153365456463249285971060299625987665016337786744517401732854231387034594972694140976522165887995210874426935532089981802596786411031378282919049249746524183735518226405775112238129817936092105711707599691634264376290849123109747463693107501294360419625735882989141541459412204032495293844906873922209432082550972386013380325977714638454999064699472723923542967723981100233318361776301448971340243226035509116267214362493316583005225901391341695483781789314625010165761870491911959023724216776472889801134491202429208209732562400403284307653624150561197564743590639378348568398629427779779093339575155270256475780125694068753253059859081269388990238811976491698663746716845003134666154565562444503318190045012758478464488937472585158377029497632584439561711223387239664214129839039274593238970375113915169734154317395329978505223663918345558182902311400354384366866045113622250649281947964295485145094844493654014376610393194780818434073389900570998066287060238812905666727815349652187575445688331312212921511695321849175392771335123873762534234975071313785391884490327885570860181422101882455991484551319987172869306399548824524881781194589258534986082265588062271711770493823614446171318619299794913082613200424384763459613487873615402234146325537930450183907868607502346849699950717389711226309511326903335291731859725351756564446366798978921899909202648741177376458277354362163152438422529415467812946217849297879733135692299640319694495521814924810719755660698327478620091108918659627503770926086878117526012781477237581326577694196788397335039097051650528407339967514447808136149787102742444566381583610909638683846089374533937683625679008450365797549271482063195378085766055974114445054394994836329106394301679410403559239744263888990015681058784853243409796354574760274183383009779595154158419322873036965738267133110318330827734083796350893107291737294126939573155239945489784270916266095451145501947158588324258245516244225365341639863684841313780779429660933957255136475582307879205808055045047992269511578468837221100972254512719469769512138514757098768414027204041187295156234553736270025168438658496303067371397860456331552073830922019908761356844838424639303205380017389132273370366985317097146164000176951973749809634503588367344920652832617169776553646462475193045200710394152714200292930661086819914603887735476034735215169360390789799533499260666363974800356111125690790887873343576400835763405907559830343699630011910999727592271376245161171356004609621795110933641140058813813606521110896925623407544216184483546943900311015589236845003789145154281913949981260714963868973670761372363613217320591665842155721469151151079831456310963251523132634875919045990366001271690811579287807668940048183149374932698751132444242807825864396069318519853795676404588220949420171088077829605594391781239760144422402384736120171671691397480169418716668790130074206896648146338307969131514589570685342466906490685087614681911058138537188663873019691399846795469509710933352818880581646758039800180313109009784275772596676292891736089602902272598105690485229147385901352279975801346671973553718961071063997056290346237075596164279494148936352636947065724605453226925940961730085917199655332711221033025779188260894085451828642708416907595533685984823587092460066936293325476993421688559414318979651515027518099389596371131744864203943518446123280859602687776834999020547019604260004063253217576325772989807244272118232227996699175536082852425131588983308000368534747414732236222720019963057684538140511299286602635631468295068028113044142897722348954915099702916715239917260784151849156587001265939656634927852441466478882530080134821704928691156955109071714150356041495894068708204282953681789007461558563061645457814746686020629755662644220375286484300109645038523160982921356971451918194630785440482028411511039024335509765594864706827861043360447181843169829743835978775338167343271408537288665738312863541986015609254609627759863404180654335442893213077412932488590737263343863353674143351656469737262753324932448021111875833370105384047546304937583218241430881702423548154689691707961086226445191161013194182415282378804821230479736115611918237150154716647062081919698090191601385564019444603855842222025987192522369495273195035047598542504862091926364916561272943922955377884665277441876834363090200633254885893149755013139580097323758927097697286370691013066933628002597719084372217324664673449697685727705414344213652922778281507943974991605653837305185264514744539744445783166457162970524253943655838779539045085880876706586893102777260102565266505226829791103190528715871053927913881516075350140769884280643400738838977773438280696301867647643258267407279228140195603907684437857442152649891442529778187877477553350116451878557849146229574424571767799229441157127288103543010148129978507553722074746886309938436955091591009094401145430813097479044967949222735178736422497256632701831132319907730067792320647382728200915567326371410996816968271219359280519018733609268663029663872333119960314650658395797127571788494476292768316797181020428158042843451115310269712768051683196063653686101571930818758546661512299399223808966808035898586197070890104745099894635649892077893087148140919987030427878972468549851984966093917492051360951303099114125006360078767756303718148912945801086664456852663600096852327995732833106004650489862237477495320969663313861724577815307243557969359825248333027341201194241840413333825235580111814305820901648130966040735977231083069653991608516957903753564970846505192815474690803423666361431606386063806120389669155088620387062726238205863521385315913515409262035611738575345881111922152942877924571312879015697436936594917290403497838154773348408577129367825739069363874066387984883210348543791730663681837145994176851394950923873097507029896215800002275390311997529561049612426873904921492674924240830415517157728144131986620688501157203718289942298930549121244265493393846537178124052092645433952254867547479842344474400816534447827543436807593317802043686842243788916908674015325185365495364266498310952269916115772100339286800451364716221455564304764440697516654892665048683154880382061261332691372966797545111429877679160581460666500403744582246419969254713347625682022750042340287134911691669200973495562852160282080931084137932378783873718131707569991131353892370890046088205257098449424147633106790488044312618836245045427847547500465377483534493038929182895989660486284672605305408746451806973186278307722028110483874929500336611416179396824560371478796932271588812607378984108730517825947518309096247150165494430687707858898728459612098796932154366425842069735914381953399232010198707772594610178811119543484961570546767385564932045444534098598255545365379778827684872299253957289760220962786524216996160870065090850592056276421438205459475379530380483373749229775426843672578303163602329172918303361692524584649773416673611129607816642914047760396446282846753487179255724468836869845221976910673395445608545998451761162459472778752785402693315048093287681017821243772731812174190315961895576193488509052525687865835278640974924967833393836247373288228266193629796058590683564552066516513839701986512527284073177582169569155277907606985913551214284956256314815231700665034361851421007638948403745702522538511091834478193630592662591439086005163898212374423305106709672967130978066347957267684528745049550320280510058839374427765151632299765716617096120848233054741224909561562266396783558093526165578074803423877428777850933346400210516663070678192104105086561594109862398544050870965903192971109121356859710842391954518182326920982967309545564828921379654185452264855017445899266015163754448348818564143421691758757847938417899089460791225499927405477413604900257019174094403653765732152035662495296742784309079997865279170680184180969041598462582676779657742531687451501611214383971603113409211700425073979705511225300438401614889291058079900852201881468840842413059256092941591183586436127198649488068972852265034739407856553439813958358653115475958147756637421132570538430608857655501303117478452615699776743477545974559702533875110698997946207117200785938314268766409400357801981546873389621256946904483061553091614140794687256778925152108544700206432469493898609033649770565073803297513732888306840801726233477571951181277189885413425601769544064830095886921804242600933805699676863313876967635764636559507368778793321682956236338175305961484969253601773424446074492242725443439741111327702862022865979941225889097778751767670696275853264474339448627680592956793250363122305818377135301872283894642828571728687550078756886454398548923852199579692066191481066034008948711347260188718442427670137115897051349904695629429553982198718177742643069492519292468793048209383577852842342378887931761459573891586583552225182738261268585449033459174318755093345034144493788610058165847122195663713714001030337638098704455650394705593594241046255026576145619193806314007790768306840345902960381149283759531263526878214692607974429832547506514144744696827085913830485636757671045155190215233980893129319233831073114897593479616464709026993394216532246316967338682672521456754040629605281347940513072810493004453036080493292903942153984022569094136824729471815863919348309493924481465592663208549594632506293833274517300885709441583196686905816455444376487003078376680338319595638127791444769257857579579072494492284979184744834986207500811349633318427135760315054389171495108817521430986934867051007289507189573201183713438977092184711139206919541151085772893089847716239219306910431028270646351801020761459618926870471344357026945899034486987564373602119812588373479192592944565749933236367115491429923077556693428019146976969238469532615074209116617700442659027452749659258053664709005285293046762445748352962422798108196957261126023757107031266806413220171279538350760426257243923286404714435750767108266712859744963223984482517475370244716895753080164412120275586803197895586445513287532307914302761408877277435267698377473258090965648059283588332799308857788518396303512284467247228502135726017905206271036672978581992032787065757381158997932187248748564589099432513072570234129355988127184538146258781492333016295181560496292848754163100480488970513452472737835848030096631805856588091642198604361787113563462917546374881003685914426034565170098555550028927317628384745849669078203450047725687238829582992863511533236190117931777065779231658655533077874839027946119184750572215728506435343896748860522077242918456595363059551075506380473213397675355175061011792004834696762466233343483849950624134921290519301735539703013107463603822497295769391483540994542682329827704006300626769480332545366200473494656666839079433258690274690482133909443062849887104156164255166749525089351922851946537608335987042505524327382103746038306954201831694571118337803131516174710629965984831356270921182402618355793881594467121138899647083090870802556728458287143445501583585332750918572093989047175340054479540106437176355943215694705236533181942795123880527995510552976404764481745408163349558595474661248183661279762647784875334935347638777967678459611882418229886796260715383581833532743724911734623413476382426740268971210291458844406911437451102714991115714599724432945552395132547347407809128477370583228785055398244899195889476235924304340415858016064278333183183880003743606617953877860894458844163732866568505059974695015593714073846165139411011247146363107272258538467772883080785827442585116119865469115987589999068005346943602326206869048394706417887800950023159245151361596072663873263554456635968775188897727705624218240367037768030157319752333079246317068977775227416119415361218852714548201787615075358840844519574942485136443192358560613567920056002844979101813872422029951475777559254399371767580936400910493403234036891000619564129113608286277857973158434955888349178032149435798887989056898197948711184015789388877178859139095907742337205787862029560778185004822940042718614765555260439609982298247341672983267549109641004881560366361960617183522460734739368879099516214842126950492115820925755546182925971698569769429496226689320707217681423965523870114422066442790488082475643531337774355185861188052203307261392251501931176907323353520042021932670107781591155612365605333779408575131583097680398008531130728119408869510737325333571124708499592936648504900923111227471398186710583708088131565552247296821498191998722235828939734091945266596993380133079206141648482125335854102645887359363001446248547629636658501282398008887618414798228284709177519105821660889712120273054505133434341024225595115738573386449125108588282495999663898504925532211195619345479850535517925822366815555067410009495733184587649489339598332612667804446663863478464844804665225972791571319928318353003011227197912974542697229257056530237991311406438937021643698323584108819424018532896226116699895856179285039833165015244655462985013315400158621440382276143588119037434692148632436423670925581613128283801246429785292889814561340334782143675941110002980348762518715626072432827456679312144274150793104646633855801124195448921791614438217650205253870725182330541079033488391256632123406583924653667619161954243669024206508542089186005516655119444961813528013643394279781842359042545793364124482534112087961773078460424514492796737791713270131691498924397389462051707129619962336576128529541075341306937348129926702157352947693378879001314423845555093601317630245186995416925048103287059834630638955197252996075189104051335221788489859011635553202782463205589264513784404703385680043564938050929466334311991725035411647051650805297439292459315563829014703788829839678348144829602930274068907097798029814299797566321566978929940526525994398950034188250378854591247464634269975409377632125677210209577307988322247332027498230987104344305248072335523911635304364657942251177979203440841085738622420256938796794462468817241504835403763664224782092408462139423185343190713787402584336006967336299545255116116910576672538864275464238782959124227069592100144633656063108182707453041481360268826397304023364281685279754090568571582758007282539570930967857170540491920345676113703552691352491282877505167245911760466344921337765114188844798677938254713102276840843178283024044314976265868057537320595303760896589679010261249240206834289845485296379099260695253296458571080704899791707237188902765408862657783776012055368173594282409568836406497922814501228515020863059492741854842729403208083195260312125433049635086880748083041861024679326360674900312447069211442644003518847055904800465407807092722661907703737476781744713911472435181972720625395743705939576224717958363152671608627183933889336286483940480314883809720838602840201603898771233273621044900194485469196156315456291146914048341283683472889763628919038329416095085843537779435966588049711485705464621057300890000822221158963061527499598079811672652164068224248709551819416875159601371425250546009965764551944848703814953171110614080252482381529408114410170037972941509680595966146257825879533986708518210392879783071593789053607751840826110847323908022169520441163481675494503211317814327979244406983148551784926497457954992643568970413805487086621089968500271106198083512236984010956873157765687456844422296190882089669693917933761068588583882457796030814211299090711908695446892561011040010593525690451838658757563720391061187991264001135782457973596134863233470497859088822081857229058775351613468677291637967467915744467580087068861739316740185335161170257102366247749574234793675278463531689261001273137329578229242092624346632064399304163915866548418017148905796086763360637578558311109704273647308361964585782153899115975975255575303198534871242654835966948470030475857428311878280558302823281120309026169174412408923936571198952050764990850681996552431891225819322002164156322304784497085333815531531188191830302059267253720575297026014552533565886930277650788431898902149820842661432234091913757449700168688649050440534119986361529995173783413464476677643735404565538354875093181736269081506657308689106433642263766420538052502847259177782860769486819944615778750947391643677096142971101057725146107052638379852167166269877458811890687238987488884704740683166738280884301069980729272802383951499272412151331363051437894733562055101801316704774571215934114178596864399783422675352226541697912451909015452737799719131719661631447260526965762284028731771064449424806499341832472642859878989050784514791210425796409804851525428260435441984826597684023372375024942143690691551232134025922417517055354995328558948998846568993081832880301583870037611542512254052137196514633004971317944596215159892592956233411489163107517121643844153024777749267475427760269391963549399902343069688101242296083531892415300664921006530028690242094229659127399332563143034523251219059906885300176577851506940257303518294943630333623625359153370507707953466871205980427402846664551295043651968225818857959983244035373956400636593382404880219785388706550858103447807669323834014816120588079829486342104610426387647379786240748010647419932604854782004971747986051926207114346615192531112499842623015630547484624743507036416008529976875525259887426180122916486288677355753105549418715310084229507775294343616166405407519711168140387974242926485247359520916060152233139827683466657793363436268172049402967490990608406007793323615788910312850028188991487787896087848024635536346421436520037296684588746101912512003235097506881714324638761262734433195308829895547671484046930776530471349919839607581697003664767048081461641676029416752427487483922137043703950839856894942469968951317806197346385249663603131396877032214451213412451447496189133267379461916229303097500919808444703098145160286965740351758595054939140678558311324505526198635578429834865230686703673669902411827842281088261468725573513019226789069357453073186724593867913746594225860515917824355538389922715804209519161073757224038966995153811808393090328418884641948195792266002297877732352476443973919032415069702375731391799370731341648309992320590786189313893429923570878217117535568961594543168726804428154408202449927128959123740867375800197237870763430725669939689062152487047388023722497982098607693412900520638785825756814285370438264889179080841677098080368572600754070068122868219578274966752706454758743847068426164346172921391997639460789484088848661985758478571803785386014439876120976882423353213268752986671658974635788728287945309967073066648077133050060888370956450678736086584346140544853352582586086240014187413068839432605386852054612438120434259600761697951646776665497447961355181370688308323295279988249963535091367680332092457821748919123598201371102793270118072308755030433381875952772478810644404943547088474898035482551576511338271789542554331760978460281542250750340603694185499354291188121764617411388974269370674724582731936760654720763854780944417356742685352184868150132477514451086980908812255302454676444542514552218690299371590922945892590722283108033043977845177074044832482659956742231716350517221338119232839570444870904317296960447950720179998462852842208555785074458592271412460610241551858115933758530806626217311607213470642518020292489863331979938553406093170193220960983779746846249985230584422187720640962862002014879781430344270473570464334135196702939457004523628682976219120706661597434931307064059020806054868731139196584641164833810330301267109215707065699548374966968683200064257469130186776608527544278801632002962631734893821875076064046488612672826783941847063927393484208954843396114935598387429750669965456931919324295393343995041404326935500942484264461361277239220821575088639302293063901808738208016855734752972116355151991445180074138147940013131430177469719270352316340375826827430263465301760895182383348409584656897324948501679163365585541548754235271879535499839922283272777973418769648516690336353301352837391188646323973814312575255027736012849852619144356123762148918965749737317250252314892503872814423352344639191462144118312142527877873086147622792687366356219858355287005839863678828735620872571279473414363061061800839744877880294931654519496437319548365959827424925144166891292983749316915408447128445496370452304351813695312240757174055330272575341647776839881311500685296362831056128488762904657030340965172045040213287889671010376424457288829599049860623338011532382723511442065645116502558011754559473437005615406217700270922378092018768343847850656834471133998228161982322527204052243444228377696373146977714103126294866876938842761048394966565890028199684445581343373952850967650703753307729808897671125527169764130327251785281252172196925700732888869008116352589750530888052754003169720419052848682835689686359189682543712154261682200126006697290703190337431768730804227426114057469291022179768473658571556534421276337588871721611800846076022094817540748162861453082548111087280006394072152602704299209009340610782599892259947419109420265220304618353514873000147057406071479303601877186452867860275616293388872169136934966401767550247239263109249819368906935320648178120344778076291732594330461039985861754456835552683042465613943732921797559684047164106466605827001526340492339222954378206968240120808367904272875355458535937750424106859407170352355356574616600792158779462070065220573520785269464871325900850814923164484222175413839514177985740190245784845665632055723280110380342912836591199387358116199538002318741296712663224200307743737135171536117273359075835345067400681007599198948944289150120748077531551739789631924563661061484033038463286515782984335601959540039239967605916566551205594685839868331283740061523186629638800517028272009339007408491937942207233915475137760308721846345972313619947316051123673955861798739850445381267654856304868778485665647088616141868258423031674233570211148546560103945817822805522657314939009378181947688784356769255568297247801242645004688340641655283289242471301172062274601732794159758504891279205873619531246049295551043097704621335902545620344860580346621690121181286671439641200244877109518160969663425248924622437254955945175931644415312555528845883162847047750061802462000789526392560218032656847153365213078615703886522631937140487942265101145707440742283032296178375392899059840127452115604244729831071920250306372776678908805205079296708751026491556280111583297556920124184069236017938002497091690595727818126875207627922807303325833049352705233226823819199912486769438633414005928833062968445042395022581435750954835103825933982710991729148112266576046224445444615354133330686076178252550427693518295848131113874360825009743680821154351620315770508431173555334183583170654501224173582783678600171637078479366361207442526550664479703463099932120593233095596146907323026961480077235428308478037170939029694785594450095482112157279013004917374357958914213495454886226550929549514365496504842773616700616154955872404374404176978772247314453009256940997346472425982775486588398648260711689231824069652358142669369897838843626109395229636988651162158495472458166551959107868865509012223358871803785958143032719332468624947048175236820657466444851696971854026094106617350114816477833409856588837695517310284885771105644885943147503023761270797683695003155299795570940470803619722634806912437244441640410696771600112102553269657858967096632947667800759519964792720596945523862404210768076534386973308302161747452048456245501223916914833779063770431281751881713192932603332548909998824685776150210255591933321817090324248978846331918945729056529204270547867885757602041967289046447096284940889160731510239960960719358140557141107120139998491451685103745623928587003293067614561788294372743118995507493189111174907361853908990358600314653398253901558441789760465288797005864596856065921138503771447467770060812646923362338426632069465103240477212747798196819708713517296332936800566770849719070763409247289659957412151486756109457726831670338937736047334365962980512519594023266730951452876307413602711897746933838842127298213874758853703755788310112407630291621166987960957657184481065164517004982620634741722705866641466076069184612923183599535218613336159246162121858167191418835537985898329411932115245278641171663863059746874317654430754115622020842176689423577784140704602581183932795499354054343502235401837038188189670831273534920115868190966644247161720635079146639922885708472905646934608897013862345138024075498980677810641755328744013987060905928071830188749614030575768975612447341584072040392238699496210720057546401844485684088429131173004713123771655903904567924327466313131100319873548682590347702031098958414705144911549641375640565065863650737633288585503683837058585465901840095248074675674138725418737277499880808317217957033192927907217203222867201755891527177682907645486173666520622805367938846513743564218657687326897494323361926976249443698738852790694462805221434334840689559584118720517574173749579439283437778423734919595470851362946477463769937072286106200734995729993360337272952579788560537898357243835659828699067712459677354895527142013754198785005749233921786065721850313564138882488620128753713010663634266724987024570388644308918085112141484203372856241267413200905897395380655692274393825404357036426465224323340821541571182499195480743037171122209284730067990157837278670397554776546308764044445101264882618132297479507020706226422699557120223456768537155020271657988878298574608415881947044187672891684654312741412179556493967261154484025448299948848594669877663392010480245213529807604014289105842045555040034512853213479421974062211856198164914684948239772291047963718549444693655022066398579132064341438149337214111974179075679743052710576190265696137698910517055677095987532778578570166869939382655663861585267888739254353826191057672950415833192405886068475589096756801937238868804160074665027545023105086855388182998853358040127033211550621145879599633165410560104550464278032024980981518425100674870154613917235021789606054547665885229429621244950685482278819930523270872049430640516856273621883100110919634117710890726577969685581638741808249034413323327099011068588640462476402631647430864203654509702042685135154995068368659269589348656996395827742474165242874746833462557592779244471828642403451903014846954808764077078775232329079349813256708194065416463119570831902947104054284754162608543347635411491098657932967947454123081047554014742506243644243965609378916446572734259179612057572689998383293365967105506602554119755302108139776902793865940373427291812784711592359080751716888034031070987556764414460544272105817548984254814273330535207680446446309858565073306287017322672482925022329557268618434130957289486940712313042800132095875716616318450031332262711213872730045897993137277962415408625248901229418874468934713593905479553873477318351507110874577490376486006368687758173109145016383499978619027384935542022237022809575262499509223673559874277260351413574294325008565907303678119614279848073668149603485890701233090974874728211873800720019100781913049479361995087501936444196502785148113633709611407460603865640095110297254777755089570184589119156283672322932092156317422778614654195553447900681532307261132603645040111092475711946507810906586878130115351559382800693314860749499080825696346229225161511180576864363666825090437643321745953510997894390718158333982039409979973848001760195727553384227205938890998842313886413018632882448305855239389547777218539287746725793656566046276032194228789431097945386578942722254799798929005512335167852212423253676442232909145988425661513586780736349157686473407656994785103239609345111242650255270259447166412109084740243126819152780185770467738376128232667446308674339640580462393697509043120216104633568578973099222057710851175178969318020199364699009809837979318056499629621957679926882870027198827248572957824941926917161315987886871933280687996746946249443732696371545780789421336705461552768169018819194247835188222349483591808360574409416795073952691574483160549356234567963210058274082786365006258647285584674214489620237018106746159350218679590965926738504411106890070635900164651588763729027775038183163673440135387026621920350443045113536546037322490944894034875006799083340803302235134362943060103106326974186824070012244956048958319364446036085127062047755589780105673655418655860651550058338331374745953459044582793654384584313597601310969143389075516329117523710229557478234193988629569540782144021304966086393199026515897213797034307438402872715337962341153826971825670280794634161566630425957877533195317305027881173288139083735341167698296027394748608377494248897697778973998718162269899359149477427405088538557296222738042710950556161514301678264099869447208119832797877093479872391593359548539857423839460054263215168074487234121105408067319941505157536851110455607405881819542384522442657375401275706895652737314686015249564470058258335925653147269980362627662169703753052472128544569176232667389754744573738953502403820812828961053893629581079876877966287430915844801181771466425690867477827259129937577219286765339225205150279248129074097296526469423120696915552513861690099891467899987773732431380951156171686661917271356709289252360761007275090423876930567110211290453403740508517531232374072901230156407273475477677981150763592661148191991914298749705881173509878762640955234095743597075920851755450587047573971898582857917326933159448645085895593586337486899324003527895546437587027071989746635344903152901104599386820646320017046299897306966616029625742378390320316728407207893333579158374260377253886886981241279385980243989645481687411102599195997541048296102847990416722689077786965743863700745569536059853832433669544986419013417458277127977619496314057749867079202894753523860485193633699738549079869019203657590387296785576835440450834550773621177010541049185257748811213134175773069893615237435755979556594404792497571966365893111379540753206565480038934268818003573951105420048855460679517735200761058275323490118854964339047373669867285439341908321029316630526391790506378974765771455311398469440965362762079132537434053573942408879510597995103647456819452119023962313534755531628889508184068816817558859402675883752560854116730654432940252341775575003071364499981069643294465347994360789601391846256198760476887500331339704831219284711539584922293132941982496698401423620924968890121056404961553651509443689383291782777778691934171250548982834218245558818064113680539301858668760417524383577053722743612564777571153065984523820712456828102823487244198231505641860046500913621876136605041187707412940680032958498879606980018997429227921493608040564119696037105169773521951582173445804705103692635901646414577224846671775688240758222756718997211320062721378133108530676583792424620395302929046912209522917384042738772007059023414967721537201057874357992868292927772892029314589716741136111943189902821873876611943328373452434212527877756047554587764874058157340345975044872110196237761175500530560506490517373754726722089590531303626454705847158169775430628236652600662194672840861376144643794589496001677694983474478648789334050934005530979330289162267853442640537894788471994114037568576618083736371071191853057072178228105653152526813280153542640442040051664030588230070325225682371609124381557665869305814608655799799840201636870269788890235281116613839472115015800503236816015340485999303567978046054691370231258125630729844938591605991286637210499754312317690837358227555593921250061318718811891254859851897883437982322677731888770262864063119347619086537871893058760224151795057053005215052813964100012934409070503210962509089990966347030227486768808625034070602400635392681131502580138726949123910855532402990966881429599483659421845096623492067736958556385231166397486798053802446155418950386876466749699052974833804723200564304268749183206858754763349167093467799119231322637084335254361710734512106743658993151139874335892855717213777819748124432621292087534403909582738217968499327912711992450060176036682165551105535880099075192663002032446715404958493639738659659477594495152569048227716377626767030701356528250617371049084567514565536809233503111677861266216421484440072160309823504014965151908669421408692599830347095344553500094466043207934225720072487690144723917869886169749017955834937171030082006111091684331734402997113583715659510132169203180358876842239329088101825583761593513111717861208112318750350112380347514635428802829693171136164104988677249545921091447880911145120523735105524446094137386101065960112942872720436566080068377641484313340445452966086403436961930395971467803360236134504880284318810647344146383900961391928923474135355840585987503513970466631929282551685207631304663787773343889173422021554300527667193888039541751767342840955364507879478305698192100311369334989519539549704819874696569950527417604024504210937736321794199563777188686128218641482657209854523510586671688402464697479009605101983305575641302020434593820769278353342705316714985019112992091053606381715125241315484666166981154188545073046654916657712732822259497570079845001604020677938051422413329549729853358530301614529247748294019021082426952211413457329624701691045997578840801912482932270704891823201792912435263677867437072502749306243221972774097132634395519351331496211118758031161631949282820495532400995387265875927298595715275632610775140040269012620086783765023214294583499869705173839414936388383573472442058099340838622194346049944682960200632238570944806096200388384594669922051505161608515092793483943348573005674318565299003333594468139667324895583326328135238615431395118808918219343801343928683837704951957623970137190959583471633723867018463911119116916875946452769229798697807310153301610410615245808934504992555999209869897406898214503817429995854974607547232273114011441302287118795641865538213684894591286427517795556323529509306864734302352766574282626545055328432107985441135809291261185803572182306179926280074752159891953542760594340126299251001720390899938110389377262388091692991594398387684847758711702956203067242973960625987507558114290786366749460776597317889962813820353023345938276251142454088974665356631984122011481499678928796506372260507460357185681420495137294820517783636872638503485302189845520482648205599607526690414896463931803071310278454785768391350992125464729588049019550371130411022791620510579561626358090644789063851311629391106886541571446371281714191987408948315810167517097457403754003278378578234076922584543793736144118529239474757533121395281487016819238539115336313581474644071921315142926725431322235437316785840324978268774346420844402256944392537628161090716264469476044946180378095580594527434472296236897058905150008360900623369616435847060204503721592263662200734809138537349227523139182395077729346218157605653444467561189564039549724750418696985150298652477324412276932594270203764676466344584998430024544046728982966203522019780816073539035241137424073981617194609799425736464937776504472214819063260557367924758465234870478703300367335802559123721210469876739584573193285706141265956380227835142740144498054203563061062122636237232694090493086327411164498745505930272083162066183598224964509614650398014262024056537366611292640971714893078811466046888222218345409209360436432018991428334144963021973046126003277451530493968897663346750269244662486324474207329009712376353744215694081822405401451908205186784913154707734443788618953543436495178227916955542751442339540916522255041858352629875615256395699859324136127434463616775636764802997264298326463864979383435903506819006364525710860653780875284784808575257952095584615520313480677005550075885096742867559339678863270530753553592571750029194956392109686908224332142026561113418231912051047822815187826127170785624699118693737119127194566622742088745951135934812339373900837025630211826965233891732170710592463277843653626023815360139830524859001339857200182330712355896680154887240838816616806100056530095604502830951685281232488579342566993798925551893260858640205284840162121084622179608530670675859451050065487409115059176238027845836154295970031388080585189336819136828883740286410751394134862749083383861195758225171524046166545434876467143689824071779317672735784315562579588811743891615173586963210320606525231433620878415196421314120998960563676318660660430466213697605910312855694611423111859931098604167762782600960535665744568419111138248099567077949515936186023851890038897008311189928222077976393937428153279744781377695910078789541450213492558437821627973967890931610030322427564173074265312504317258032623521748641719487989749490773815533807769396256024868787737416469832422156258582585772014610009083809709803334171860817679812225244994797136214364377290614808007217657451658119086130943403972790701924047519001096257254644894468154660641632377348407983903253552570074526006202315667211394226469256442677266722466672687828545052164397485444931267375233922729702771636693819287210205471921064414682729377482783111583408579758059063695242486809823351187500779935927734712785227912945699294858376561593643516345503409013315676522664748773805333612584379385894716345735693808646286470510117072781924451904013296531858679115024623973412529070712178198775273194892009612849473784648894612062354058494418958915050898305762282570625196015790416551198083102830912262746494792641033434426693810921283764823070446593004255117742931292083736166825064461993330519044709954955973956067101226983305407804746018277269826214389062413199850379226973215511554885889284173997597104995599019760094254462044556898989711349929333055093027612165641379353174374452217938114820094352275574623236062576381323717920445871499365815224374168982925583265693949812496754738035124643788969528221748013176632940708257130043645351119444656644821390429881377547449975188441720442578706629965501887390251525168354616196388872043476116724190196668415198521162771038961467948331059999214409823884334818377847039485804068388652481436821402673666709832426240974855494953228281240800218402560525488754716237821054460834512768101456703823747456701500595423845633835276236010450907134258615516837457856962757329417419053143931096216527119712323201194884233287527622050514808013563301527522036074230323904628096771977181560943375972347070676579383182364402848207098077954574727680486429955483056319538893728660826993566647291522633846927602997526146194326045118135943942298622213831113146640760930733135564436975024455571863968790441151910044142896224824876373324702580406806193428745500346473932930090412418804425018364717011864165413456474327174532359201564744676507767386419517608173280003281623659891347716852815516571347720577265534497694487198586911072979723394826613388852710227856086251706373179133193453144115021440491766943018790797063343904746785685873785200122725874568153084558438586659943092937025857797329383760151871021636366287894994374802578149101087730975043984013656915197661310613091845750322976545765509956647273791879027160085871490826716117554165257712312773455640280294968846871184204615677049985147722404292974663809044810864151096077176080876638374269360567379599708691206554203458729490766892136914536559825877702213450063574985513939717286210348887141782790756782521847896553174854178263234126211330653584041845502040915481431588893160108858386084576197752980830207386706415264948340951194431638068450795176863549999923115918297379309065362172810782074765884404132792648478003239362936034754202599289595198554988869880246025889671966298577826230787821613722550477270230942110209942534794222017427503256905570743408833976679562732434232810317793751924132819896105187471061259596024110140143795724529712052428486882261513908908765072222360289733139088494893726280346036413437591619141360486740518142325229471891888017898578969544608987514442937071673864436334058353899525610673580036358691118643815208155822184762611529906202156517471508785835608625979205056712515703817245630888830345363470466733349874625853992587863206596278638069696338730288713227586116744984196214868871172065658934866452832768325694499267186346610829134803915867499249544701370651115880192609950730810871210351423011808501742932575834090441628986359563515360774776366124730057336832403716784810807392121130590128163903876640125123209908376222020125817118449925359664822249087372836347062891512718580810452840032237821804559024372293723020025894687223492113213061843546739932962445703105332061247716691049325751695279725326033584087659940576115850938197678738433380197911725949977614218154803168561970027708813909617583809415247087322623428181757069771538138786480167217760018685467026460449172739418238864421329486318800148933304483114731799297872497488647665859441999607885339020991114047824977297963453666585805072096821978943358040949122041218003851857449722526607791044371338669709515607381444318214073763163702595265504533619852327098739418289174180132352376014369412517868126237555058926921310253797836065362571955837198215484308003874234634058438291246446673153091868527560081788326125688879116854106190084112060621589674491110092206393019753139817578113310099241692140600508420870506900993339081085842456607578865379336551216442819977836085156842583174612163648365624163677527670121819924469908986584418952624556558405982975348753002141993031818017092846988998182093370461009166257450482866197851562271231440023744760316628961793916252587744266862133780344748280937807179647002807333374110316316276754876509644344390177477131829004421004552568102278812431339243663498686771365954339012610119911651865719544137253589597283175761194841358757010879324320228305221583250035665476231448420860815859963898906112394780259525071121601760154254448819018893685815922814283045599372322964654169858591387296844092942488795047106184978378391361771191692246769615476809140150909053007069049727345542295012516029311773122611074155861275654462799724147054280577744034257649178027336533169406375926336747906171212850550566073884580623784275730230161166467492503704951909722650579415533960947137331173420778929642825063209114316344068080037734562177412054928871311222468948121802236374421302551418010030001706092579200721255695334348739441971581176098228511872972858119740548395202952436959892147571991034024848565152749117278307364473532441631355651627987145740927661805253091569035116009120575298630734658992114166571359775125997670806319463771625697395387236614592981455725446188488810950725984028260555896152448953082841421784221918302660908039864655441400935438629916744967029012247000068531840473339688901660109256147587840137378340790393980718875784804867833880489793880385141305054592775164923272876305676037070556566318417283808554923809110757055387299194163130809088662262500125519087904578805962767577784778118739142720735205839857833935015783716327291712644437462216502334545651873458870040293736350139401120242146867579788234807928859234579428336584211428541793177406645334891735688294980752295052829139228256257628481861972907813256860504707661225660461542741698148582658044008751364254013436859112742175867978987595006454073844073268162188458066790035469657441423285991734208104108520798975393983839528757578369456424273452403698998458134429545642258227097774467617007124267120814762908057934199032402816907992746893264389006007351578879962201539315723407719203318551044348568380672017837822392049724941129428454523150708153074162584483477467378532323886558524543765640334636549655220837899066158752393787730942799259989470019190559621656111779380579171350611098807302773903034420055539903585471499434112501150808943027953878395984611377119908455848067004843723842148215899928587385939288445441424629733778940796089839461679558870029298687443006093912407054345080194031436702690309063506399693699273229733516448466158571426843817582851870268406982904761072295057391136329176106593544345891570292880968589686802399433943063256207917816891870884926997017516153342779484432681971387244922102926796940424238659725225171271242275950114010238190700821696958714755468175150409534758237032908108821557798307232643690714144330703768621862120655105159047190257497596917745676876627764716719241612654250113026323227467516309152379238600572787310783654577168687922317790395657023591765018896640298688406478775625486530461640866114581283447256582398112410087114407062922630083452397295489737021911641610301013160410318041523618700619899923933471380819089404167223861096078992803907658274421800336802976598803966279688860050346800608500943780270151517916352985209348427008749768415688360369070912578773880755251936270081587310177966028388687256843285498802698792581048343359155711081283687143131870076362743984857208068460244990872499240864775691604649253291459664801006718266265201711892137550138490986228229385773160242701975165680163228802386092550667918548891425133331540608254445028141961715083826829862967744980228284551585810606743181114671679000831370588931098351509110485334478019521653713235236004086687478155363467398334573145903960957416703208706375768287185491872125635359920751581174614923242277522301116880115968851061576904609452865615682257984369228915813029053623951573766292585864065376160969560103026346374784538289171073619861856237494671576466397899493115888029176607374969247002811936625393985308632865857415976318203821557440247816845789324248214951761191130732003706168028173995818245249724750783885445454803501470892921010897806750057075518350001315115981961750844561093477929759551946892677774590476596212493393628437157115356507027061192007404020874815592989911577401640307615377955793930924207554351313159323739270272816896415310128836133500192190702137233341319713209078748250596040814375046264104903438927351205850795926629918007124055703559362750229037295209498170546732043213493921177683048522504776152179738357600929184361336668705311980358620931017754971010423433413373773977504560678595335264812712509596485361732383354981516111119402639783868489013043373101355351763167848283442729948357274855857756481609457447943108563183462687287567119411190222353615401661768567149573225021651421265618286698091860148061420343947882292844908734510674651435526226687527666197316023153891296538045396703602994232565399294851617019065860699619824916466828574866843836529692411850723946896827191937387663191134945542534288876759887517910864613417773463954632820448963267084754938490106535419966500371915974526787485290866641208246187567080507474295230355879853666393753449774759438332006794373306213039536881492892009478346639143844113698757264403025104993759711131471006560567302322081729191140347672083799432366173402953367342441830015818837642640445441248383662970514222105859035859604430211863643994451742458420623383187203433339216332456644193612903827640929566636858600283419938018089824425851753107025914204428378503552371707426030391280421502606277364407642561403559255564030421340984219398327530054767432885906841191106355621570909280729294442508392129442860793705511253672357387051385247660622711457184030944392052584413840276909104554474841502255982974846694822493362110345051498642043202402704024987607153046955339398723426034548470472652603102649577758208254803433157759398606998273034689361412678709531106056489480461157905929965559755359533173185145856310253369959705271754692211025517752511294099685557445208544471359482682291930652409072759092386441065835877438435134515418067749620764416603585002884933696659031446408756090218475777604253605030302074463377162796320502379550945478780469674410722285073799936795187574686142345163600317628150163482770117824791728120466782107780925065128056951030974055499281961950698752529243110721099136460137436999085371976090076823558681136318419482732508240769683265056256898111768481889592549718333123077458084842740664438654487341026203445176438651017305072162149734015276523791662449289501457319461388587992202563349968395387869261323153458398075543218090704033251301906273181175793615037946407349516080596153994261995362209058585774336428052239654238208056065271789466567015077584441445568422981275758466910846448789433831185705119099155844586942081142011759693020821226944443905192976594465321590231912563739014515567426472602201305492724513208160827407297524977669152323683431907114738568688220096688712616466671615377303750622696738295367016323207051498202940356817931991390742683845499413231913677143220321188524317222597228593307708323929630461481827764363055769306866341948875282110323193242375767995069285688112196960997857423723211976330540869241421591743947661261585863747824469010458478450359732787503821258493557649201812179537923036345400874305227585024728870199491260909150003042166233783074628413088402186492199404912856799183469548930691617678657984937719376793198198279883714587025810705886112083726700287113412747641621328517499631177742596986237498962613889263076012967314787850958199117862588137949712165136330148110041526365641611425504882425769618972743465005976710818272583750146207320958047585201989057533454430477889104818857998733753493513200182640653794365585942246261093963514982090064407836701615057469923764753996607032876801732197478822245181132218855168369627050017575257291560278645575246963051707420938221010263226412180314674330940885483452869878140542934365116014269703324261812041596692969989973190315472549501808621751884651451935680261098047079624593275515990087199756138240738293579320620436213708039253812693110240865564137705734879423895684288191395580145066115723028285720310257058145607329259798276164476653381799029400156924756765595243902928251836119735474219739682518924148420689798725482842065135228127206837406998263192515426625782213338611827479037818634025008395531076107060476773216953732284776516553561023084335535434294968330949252631970494710177279385958305139275066718567239769524077490201178223886873648795564240498935448407355793768265972681793014623690822661609346611581222321075292946694392122038240559474420982078830019280363329170424530258239412326309570278263913613957220942091470743865781168951305614438037340443076403570039009691178136408348567828171826824975830044277894819471809442573019537942721373258869688070454907620247858258150909442525725306628236805080668010102240710558369630285290298139380089414782204628926020315039092854339570973900529691736054930811839174331027094823367440864824112318371243493591352981366533016120210660448556838377268480493345774314685385582402917333884992268124929860667158759935068793456976106555661448099668628909507017746440752373289745674774254025767684296094873425653357379147602862841602664339964282018814602287302281813467494785937202067838192473129968479817251605995917508227188381962843954650865336200809543197414705957558284978938590781281772169290248127506179232212408202808910156668589543305307113048805411202838418382066682544779052509962702915617353667745441712571937069504278625591185994658894056507016582861524504035433443515575111369843063514683983900995533392413017981333282455001874797124327277536473704154517222553794409948213722771976112597739576756962799107543505312537973609190369109605201933178816212401485633727198878606478296216047313827123495909855686440257036291138815265078020550539171194904123301476674603194097550860789721547320925537077421946355682342858395363668064398528694536731139901281006764251349344336447654711265110948402774951563290844365099945579036478934463325097113415161212408134971513578702839524947525960878845477604450196188818338018401902630557273787016379678964156434165383231054173849053644592165210450636169479639398018233014798947785173397026974728031809367969542549942089240293126066716941349426034909464194528669282179344289840219990416813701712794075564034234995955631266802877408133529027320655645088822866503208673488538937731293485912218238834025431373710059962759086989213432982985596380440759977833371346793051405633281071923014649711542230738403405662317518419647836498701066262050784464710433544797532968360997639593697442068061707041618428652344546426081369716635980394520335386622341454278100607807500753398970843120430694345519959843186772581739193439521714727375521542221749117135310466120779268851770525442402905992769965562779187005809913245262652985926850882721751762414837466866854251101897854269318996995610554262710687116832042710262077028792455193563720197766869693839240812856558223981046639026031890700799588670657066232892386249946891883193110547986169121914579358709474022590359268015931598203124470251015108408468841066619200254499522598066557548007480454480723423535148618346682268106618672272607872707350362860121750162449307383908803807073103851839084254206585804410793717911042546773751858136032029634061266284666470338164507194727342885448262159581222259245705464310504676257399044894273043721685918084083088884354672397757198493729654871845298604027074049040471820777236167348969548856733867452644846886770868112192472689565455261541693698517542108706503806216222743302580422942033721449227127624499622607180627046035693211721869822037862386540678782196550119010607218088072996443425824209450854605134732302500362143366924708754813354606750882675384130689638623001365968100560909347558268024923155334099117848736097689235949962531571544952482378548987367511968220854172392806153149254324188671930108170000068002800073771956035792770652087374688023829512515981679103588789668715111711981392210969099019863941332009535237516643058857179101902858139173096015374916720783862878413294849496382477418757185686514980937422214284254601888968116879871601898203137514899868825431060300485739517835609633374421525823505977251835784866352331158505581260299834626285084505527131780469189935029852710467956464234966460541914301260680706454460801234116257052275046579140568653834235847215021624399989244812079775083159798368379996214246690921530952907002401580529499334367360902355754619622949213830470712289531951450558833486592118664616170644200853891629891649413352568625614553075057441305339859419257000104606699876451284751047937097224189032317030133637049431351031983854181192271091422753558007696581348775648972059452397587620592784862439250618487001837793091239938464078471451516914114622049032075010675459001823879769827908551189233042218677854982165275888663408825199054688468890056861175442852768008369044414110765047485484880449319454068069517790210333864810802221732341192223062647444969687945254547942213675596668093395547819205671933722492205322674651259507696229931999672658137616445117104174601818553992810402820444202758432925220510322899280637965708877288129043477157506809386514219766536472109349383033099190315934455164511721998996984039556807438123491181514364836130051694085580124291188301743460692711462302938185490988894591164485872631948153550626897870260299516994819173977553580925962032763254956846274734247225601462016832431788101084023775279348891931488200862772374721594848028808967391324818393686536233485136267638102402662220036853234070022589008300980347259704300290960678048472589434826158633250009941253065645767436870706692900641362879100512232851193019618682540463467892671527120142888782713008712877553065284390956062927190768323481704733013012111465386490618263268104520214640840910393283696445158083337752577325541484881586641555906082175738003885902787103798589903972730535387011619055320714226743970201305061501580290017084743011110622107966597544065626612170975113283814779800628480922288717830709334519380833769566176905639007633416538760525967659103563203479692646328055569392158510488262753312546451061052367348442972157210658794828471131093298691071902490058025165166304259440915991425726754967879916260280547738699272149557803044885526586128341327829499334281214000240887459411546484724935843535718618895175382353129530210858776437282454354086025363323003037234626413385646892636096047816602919984825514508431487055957818114352329758274610654183615824307874963308840476628115754599769502878961526234643832141318260743625770220907240269842583307768989937287176775058431847948287322216997988146181412327359510919964893462589665209589705645349847008051883016299323918448116824037084238314482789836604660865816868171959773125602809450444510245182537449433104710858405992738148114456838885018758433671374009761003493687307775758095266833232607173387719393778935813949272196468798354258111266086623244703348687686725211841242215072821591827418614779591436579911184923860325426270671936677876752797527955735579171895459779366880828908746127653026147291794426216069676995443500185394311986775290883944334629388845942510225966192234305941942092457279197851789475843137807584569740515549315506090008798868074427166171796678986173850839359147678544244980436439198267062548499369885431563836362245901730151222882419000246284573562798937061955387428969066606180426668387611581691939328902243883109410196558568914529967388080977754024305550222398205249958978204463758874704955245034353558511378014194717190178728944386340142704849772010670339775054545982563813790800492468596690343862226794138020175647926533774852002651559691932749043159217523897234319518849454830188766732829130273567993224545661711838943685102155462667316292753788182058135609855509294669935962585326390163832086084634289867987706685055597136908115147407562041107833593563877600571190377696875293083188516294750460394296839637953807428703332932073185210524547382896426974489094582477233406594465291571329534499010247657757272316360176834794302621100232165506572490793562865097050934035274645338505467459046281539189710035306353100952978688579225636771049143341804888947689990626100070324806375341621130713310763360588664777543053886024366064390031653131830366970944524512373961296339826739611281768544207054747403809424173864387193828724895457103159694803874261508406894011605243468723368913728316919306226684544121395343611901940742400045526949295761334563377525965165768803219744707150680461944590414977143334519262096852202489481063493491172162822251217487048322093208763291028018206753107066374100901199980793083613013454858020012651442719321083502118010987848739539501438137955753505719108311009040235932853407537744003069481722422705613807589870158964650382501211211907394661413807560428199179118923321364975071245279528423193211593536130479448394991051437065892173482319453511998536823692093027749663495739701286676276668251773916881626267732748912308017999504395519984460808776787071679429974653722770404159584851038435873238756748692106322151316559858314803982009431194967751495569820634016778351843849415616151630940908183952107354135309487861905870125969425942256903863420673934967584742409884551180381101556133037372416292857980275835911667428584955307669732205410456717091463527623685079137353314340622007090002334198441257109524364708449804316715028746037941520178369782302015610500092740692079056275189780863292908011631782827286540662865224358506627235396778298631616221425579230998749204337579520842414117494581423643589000113768855015877170168518125373246167363595496306081739580021118324359067819500926690805086774538897459073643978588116359998305338283504910322410886075351128393091524714480573587643307774116488850613166482982241058844527710799005770842194110960527502073005295835100400343075432007387311129983771902575567368930458129481880565151769788747953289210134452603362488874727457136493331517897114373893347435841724985311491366922016560147828814030392775534329725857559676208362132819992135003207568446389885152567435039458536076362604201637548519695376851228472681530933853960091111961146218770348757961851337328444857878845872225757328564491002624242070182849247354534192887117719719255128699165313734428842148449318620722930897767718846860435387041180824964671329902449483106258883892324801688818776020265694429439415399892626413854028882971685213956566461367132145095215300693699157984050094903450742937341166668037957671008173505174137916403140778218158823543694778828994562423282043744442099579259281866200556698933957445269011191329938279023342459353797752025861305020752593788658595186393327518224239655195827424265715472975491499295507289060099466386596861911134492943488459060437921422929485147213119005536405678225791842297883952237997400186725886480173900439751409036522209389706916928163080559149680825653024560759025847561986238610618529451338017246336745834462680861732208745898743861958734322091932138671399595790783071388356224743212674177961307972650008210338819672105946199321130944353125410098703978971038254705481510717095520070133703332415688555250269420300133606232622079593978964071741252671162918023182242841421951202364464079563739003977834518267780595572961479783650679135148700748374181955767499074408601202861597345001074323374080037095004145321736770471671834367309175079977449701185506935991019254795702511779907164963653075216004789519178937901772266501378623448473694878212413775197955012854484563734439175971699833751661556699503407395985971486745739141247178338140013577540161883265192626487092144084194815794550682486309217205033586452405083558925481904968657895850178057022982126843127373263703048645439989671303441444608067985504551803878051830463161796732331342409755375105050357901153902910606712792961149894822365131337625451967359879360943577009360036270026960894671020083257589544906577462778852306158307282108589723712706581877283689735685772511475838840850697093044057353109803050248673867314341980583696037560245874095133386609678320361588479749437933981534505835469393653998377838326356269900316514689509424846228703320103656958786395087031439215246900331804454972216529619094415374419702044944881277293873225355960475349097218404869392986580570798327155860561495012038738238072922418036600394859800977277259221826224001076015782563164076232509858533802203250615786995099683369727016095998610623034489938858997894731167931010276381175218352333302207759701139261073658994966418521408751047682467013611824552706407528622831151830369743748095473470673340272410077900214703942318355032325847100178271665314341615831421993091281139063226908085543588473122120109109592308015958892123265525173826283291519622885844038395009572844915824778449232591900941636411823899802755038551423817355008573666864228962737433209417479416230702102092853368990690463404283891617042065139417910387555779075642232658948181262165515307253321885891858530660052892253429969396061955019171838641413104322531501153707089490574545406375810621314043596782659973055806442788097825856517718403386151056668843170679057965202131653375675052783094958949323459977816671397331272968293277634670792561084685535538269341130196453210126006827974367496505082915883747306530237734712623874642800267513215317741191482099886330188603059461674394388996547081358595571925768141845569603089194177872289557452367129534277729496177179194014061422657774936612446271990489209350915177048073705300404052190358551232542899096927182855440400691737681260121897954198055316922285308501039290944780840146430379207586383226595223028467281815247360573008437943459974471720024455418041441303527675736317976489499875995030291532129675426114765375118957391495810618587852064154895088747920527357027794938095602245879001455555155624429435786067266516967068979936005614367209580831715811973773477960490482027231963284577291578499415344616399542395608977472286550979973157284140126895583028171865343373860283404767264474933378624162154724759596525141498572802505225339902128230273199187255133459914876708562117732841303577084577843362454613947624362617003858034996463592454725343350879698333945961471456125630648517571157116473170302623017452754660739738309520313350337796651911820983670548414860057513127455573750920195955813047965997014284045236383802757570977675529559386560356555974078800876647205256565031971364964395180819660135640713670257074003959003679687080242243750582165482260805505947534266462338696389115688476333397451827381705681791583026705890623463704405460208255905991284222495528861700997274511170258110506927005638091822086701759968782589054212316873152701551151852159108602094645408206708009369278044087647212519085465263814552207744441570846587513364374905599120055442879681275609533541188331413645306078877976310790036666744412868706274712137190211711882062066693169652977278874099384014216475149590706208786112549019704071363307236037487436059386878162387625854452232932676131756108069967602381574756225093300199993592147623935069427655137652477077792858369944817285803222971024741332602945368711928823343632951254108944888354240768912671871264672067414471896069187160483713381371274865075205516786842936413624355004363722424198535548806649471846520900392680159799020227976561107983642647546663036850751563288019315407693877271545902470874884568268223680661812455955704909779006198799884618867731490151670699003386183277406178702930243100193865261288613335146603862504300955398269688660055672165380884394714333211133874910239247294273267976259333194062465970465548805683273994024935855524672731700331659492122150580330953652918126217095048790614344114566901708820891115026888648989242236441832354357237258878015910342081340805168701993139864026056499109383719154508026321401401517160646461983386232990242256915318268004291117939339046301435098494205732780971735924908173673432717483459617660229811450636412508328188468417929676754923469434684065990661589203125329746870215226395626529767519712374191805253251244944159984348372777800622327723247270308493647362435206505736889631831680757370317893419051637581813938861588147141797607160953684663964765417007061540491473850964116978205389966095110460908359243608415282715917746083106355526930187077798513493443848016188498442991810766220311075151803759066577444061561797808441092792254818783610012237810983737956622237748875819143897221459985705194152608452102822611365749506034493581107023831878996134515789780950718923023719362390869549250791652661894160907930723431848407892367542242151301265762056255361580190122631248993840370031050722006425446688191738524975327251983502498131007610511660794131203909488331974437977021534012434613571489553258816665569337970906412397712287622660278712578201183188210046245681158192314040732609686327807347872736411471775384289187560461498184851462797945441577534217846760085997960179091115671605167225252200757667588315213648506883393211941215541244218877738820378797018424554377610656252738077551513396051521917978765213005245925687262205364654754053070474713516731616736138547529650756357467482995728597996607983975456732246228397060104322741769792168595537617118580461357668993766054109244212606715879345358008358289711409893579236017681773817450254750135962733458511007230280835691891970720407463747243958612149097582184397798602425365012133561753145923812901814483401686009765473213346220519720739325414208515904163114419600456025201555083671619183323807594860538094972131770863658252257608114909158949696046419411695552716521657266941762771174870570179253511303432190475117210554371293304655310183426671969717584724649010706545659136799494713545217281814874472019948196027841129756527559917931493798012402107413078832448292138781620872663109781731238430958075809336954195905270366813532177070923068527968516490181309296403319294415445247602926146495495672723806032467426325834102060472904334946709242525827521839596158199145903314105501012283211376156514526584354426485181569951810620482614742583899780714797817870808981880999891145636697791590250437676067990184716898679611068324285109180195508240401628889898402032278746511121378630901425887860887804133092477362158962437405926952642328406155127605745919653561275193684002170482832682597369156666123705414369117051874466326227786259031553999564515329631706008672603747383236964938985468466084573888425220482022354106755717270521169451688534403142931477704536065407277028156376807039545377720939052058951154026128130118897419760883162374581031747755093224213058258185367643635304450442709468384859338937846880429767337456631273644458277207637800113248907688516953325955393447748112931899555014482016374812159032403704203846617427313837951650151182173216571658327242519813468323831691616974442776125352377763042711169514002070520152553639460705928930336811770778766940823193471582374979876254808425180946012740209231363877178764973137086552706693188685176430978368499989159017407680709660768653647086259395478408284066439717441860395571885198694197266958313425912791532534406291850948838704555458917487620944630390145016794540704975237616519173025217652962132123088175173656817356316525487259131856382550408339361350220646299850527370100828459595499593437300540378362785757139657697922835310835449266169625122610438357223798934365929177446375684148463915909558887477078135149539720255253789766421409786902801228361250981169370541284707308635305386210051617904491337940257199039393220792141083394700704591453924959285517896096784674073104139411925673893426940524795952648418624890424890604585801465720872044902201207852786930168076834640206148443554213645564702207684434717374220420749988405372510985277602274566967596568473418109103464992999347002781698942706977915263582922581301904070965623319260733101776828436002317194045688255793030770031624641579688053937446456069809559204037099341465690592307919208033232089497354710133239188912006945892529435693261539734690691393357233602851825724864745135903779565417477047833824591674076449960089856884388092282933191140184233106666265607211288268685404409107399438438796884563551983427717515770356458632861635365653628922294550098875634629589900540322276353448996525714764715786501488487880799884769603038248638116797810251404951689307412702808611129930261671110370612713732152063094175258648466799889842785773825506341769135053631542921933785175336144085973549610301070526174619069669050464058916048637715056665898155505436827018530667335948386586204506869909224453944805012206032056960552169803927012088575874419255287534654741416722933209900472789057328487577728523463791240951112607042894713512557623758632032106528528847298472914649905654573162564334581770835362834191521720907243352396438116465215166541601934198889457357114305740485807913548904651085636729861038671720433080214887964967069708498665526878975288767495135912270533464138565724122322037086131317231548515760675404332568730125557401790555679465406818497547955653018837047846951252265989394267287835868469180184523737335873511187044507396977962951998301611449783918819742496375478659529490464856179504686542540658267523210116582675809560993444600470121846673439025452072723032342704927967861115332624158560321302976830683432559219186814642004456004384517394522452188659566866081472643045480451001969095575941202063146708120414181151629587441348356332126042126339830534139657806914766856705277727761965988748464197149054844218583533544687010572845217305635058660211840383649260602726641120351002213502800325031416314834881466556070601899843782422390399087121187749243145814833755966855207481009742356355100035682541250847345312526937797814491360306093956528108006562535393562884181575903756755092940273155673552532781663069954475945070570901519456965317343175757385115029046991101305695839847096962008405848245349589532576436270969692225949007183438812043797255004016972929660897284660196559709137409750608420516046134046363594436842959838397151994661121678527445047973026765281527593876221888252293729366828593542431372232653772277459286647064973662069883640973042314564212639440453387245930506623164376051337123492402054600434690117081802879166222692651877912483568220248438644710767621237817281236321109139295988950024922538925861679410358193573584293428419939018354563409154484884747776918562564645671248979650998852559468097126759457843055442613181809791069009931235741098897912841891824218093543504367068303072008158218870571366099374240090766782746721875684107901764580513958613235471893849462465769801504843489029301629058626520753140097938004685459839982792161706498231423090349917400122062026288267641313396973513807978282584343596202170722908232947626531194715296624035636166510212590703783041544259399510652194412850966628323746127885096434450321287080150887332780294567741219970796804135350625950307011523141030993275369469382398424434772397997560132164680826884420006710382882256354341193657015013792776356836062861406223430025749183035046797160439596259124269222831524774890118888821989614733417107340088935326289809360194223115559880077340542089044547914677694086239596899981733108821578435207300881328216552108962340780461728948829571645112908762474092063433956929820921281676610072704491810702891845278574062042789486390353460612543648885199342439566896817301577944019202798119763028098476142511202522615882763690230645277000291276440386497571070589042249722127772542869004580091639610073544413392731242780136283793481831382421244025536840802288534755152551066764305565736787116957295667324477532751634590811601505079304188435920530196860027706910143178388927402612849820046185180340795358013019817208279676265720811074963887408351015373100544710056968317504924843365078830247292897459108623040444855779835778985895286065891150572988702444158732040486203912659679737733921642925110849177989514084758802378083550701145834021577690726689019620039894021354122483482990067370997600088970522061203123689399859335015731005024923329993910994620467434447458328443700793730705111056237931219689867471465088317244814685377076170031226511113481244497183681034896982191141429482005240832913146512585479679222074613948926890970809508589208726238076852325233671573058380256871586534067104395434543099304187561200810169909876792166827733349160326381156123130253929243628088953643545756518860952182661508458724015660630095491201621558439753111655574856348723864636957215666329903868635907684435111068365819446889467616744741388846022644875375588093723925870081402167725133523271992006985270129511696179726618692150584743262560774103866612867936248461319384461555208997385666916374170320152649538526525725041003006102072889965448278098556260727237113896302819448323085920699205174535383169334433339295743134062036146237878202831912975237513593113850549359298388334197557602643744761270983115046955736128671903292460649582652974941447046771273280962453455143933865095206649746325144268636367599360162382916693328180238820234370881738760656028688552179306168495360833084572207195545865187262716347021207929497306804390068950896280670233336811530541288423267099270708617140859816321770477184014976385587804082142461811866821380916589378395309238556887071896339756771363524624239798672242592844845691067411993535667350277704632845429236258277999819922640777137596069831421184765867749090803273870206249867042065940232715137750680388463838859893871813611518316969666277068141443107875253996746157046369723864726714525500141357078236690404569805638763341488797444338933540468691369317331630674917802981881400812764562525230019271734061649358386149952391447969022612248839602350315320148557759615503078807327230437156092884154719495225982710456474247035104952131176266942143140316689900341853491835602600729812747792058831831548950588619597592242892250366675573168195759624975109345767630054770151016992963233455676404677436386186351807978423479967663145566069935946988851265419537911273333765749896260214610811943135747487575312624675575256405551739404213107172753153060744642545476923995925100606179281401687972550909857086729476993023546191348916217988576415783128470807778563120797986618526030875340245051199919267573183170438836676881223249651335773353051239288714913812894193489479696999556641065228390724966687427774689655665127881935165108946973079308541577858937497469559564600805601435881067900327403932359184890347372269368373617205449005600237422708294616127534889070851741175133843681744599626053195813689350731938763809935650407282455223176003781353415759758712025842395476671983778191928262932793381757829515000674851273505069852035043382640317974130142911763238111152705580967097213815731198381933683885748930717046609832159638388834318379150324687802528206276427717267097686553114183245031945505025730371550337205865098313834692436686991357365379652292705038481530263956793201520794737562447864341276762713951653914539644955535154533790472830886421366099812132243610751205691977560662549525936122540575946037152890829440564514198918704226610454001400883391515865913272023622756485030391535386673804965720833236063098161250987447610842096513974006107347171079996417364575957353701594143502075619850227462449370726256278431445058165291581588637362136159890165349545160206530693749223930864603931013531721060772665660744852182619317380445314021239188339330707367660246924784618350820012358891073673794017710655374251958342744696878167393408105444573507167000521386153095021671219200001"
            ]
          },
          "metadata": {
            "tags": []
          },
          "execution_count": 45
        }
      ]
    },
    {
      "cell_type": "markdown",
      "metadata": {
        "id": "cnrvbxGyBZu7"
      },
      "source": [
        "##Floating-Point Numbers"
      ]
    },
    {
      "cell_type": "markdown",
      "metadata": {
        "id": "8oEF4NdZBgvv"
      },
      "source": [
        "Real numbers have infinite\n",
        "precision, which means that the digits in the fractional part can continue forever."
      ]
    },
    {
      "cell_type": "markdown",
      "metadata": {
        "id": "z_S89CRFBlXk"
      },
      "source": [
        "Python\n",
        "uses floating-point numbers to represent real numbers. A floating-point number can be written using either ordinary decimal notation\n",
        "or scientific notation"
      ]
    },
    {
      "cell_type": "code",
      "metadata": {
        "id": "ow3aR-swBcCT",
        "outputId": "0536a9eb-9c3b-4af9-bace-05cc006a249f",
        "colab": {
          "base_uri": "https://localhost:8080/",
          "height": 34
        }
      },
      "source": [
        "0.378 #DECIMAL NOTATION"
      ],
      "execution_count": null,
      "outputs": [
        {
          "output_type": "execute_result",
          "data": {
            "text/plain": [
              "0.378"
            ]
          },
          "metadata": {
            "tags": []
          },
          "execution_count": 46
        }
      ]
    },
    {
      "cell_type": "code",
      "metadata": {
        "id": "HDRFwQ6rBqQo",
        "outputId": "782eba8b-5cab-461e-b922-7aa790bbd051",
        "colab": {
          "base_uri": "https://localhost:8080/",
          "height": 35
        }
      },
      "source": [
        "3.78e-2 #SCIENTIFIC NOTATION"
      ],
      "execution_count": null,
      "outputs": [
        {
          "output_type": "execute_result",
          "data": {
            "text/plain": [
              "0.0378"
            ]
          },
          "metadata": {
            "tags": []
          },
          "execution_count": 46
        }
      ]
    },
    {
      "cell_type": "code",
      "metadata": {
        "id": "AwKIAT0wCEHD",
        "outputId": "947d6232-19cd-4dc1-df26-4c161281fb67",
        "colab": {
          "base_uri": "https://localhost:8080/",
          "height": 34
        }
      },
      "source": [
        "3.78 * 10 ** -1 #MEANING"
      ],
      "execution_count": null,
      "outputs": [
        {
          "output_type": "execute_result",
          "data": {
            "text/plain": [
              "0.378"
            ]
          },
          "metadata": {
            "tags": []
          },
          "execution_count": 48
        }
      ]
    },
    {
      "cell_type": "code",
      "metadata": {
        "id": "Kke6yBS0CI62",
        "outputId": "8347a4a8-07ca-4c41-a41b-ee3a743df024",
        "colab": {
          "base_uri": "https://localhost:8080/",
          "height": 51
        }
      },
      "source": [
        "print(3.78e3)\n",
        "print(3.78e-3)"
      ],
      "execution_count": null,
      "outputs": [
        {
          "output_type": "stream",
          "text": [
            "3780.0\n",
            "0.00378\n"
          ],
          "name": "stdout"
        }
      ]
    },
    {
      "cell_type": "markdown",
      "metadata": {
        "id": "ddSNOh2KCto7"
      },
      "source": [
        "##Character Sets"
      ]
    },
    {
      "cell_type": "markdown",
      "metadata": {
        "id": "H_xSWQpFDBvb"
      },
      "source": [
        "ASCII character set maps to a set of integers"
      ]
    },
    {
      "cell_type": "code",
      "metadata": {
        "id": "JXoj0OFgClD0",
        "outputId": "bdb64675-28e9-4518-8b08-89b8f51dd347",
        "colab": {
          "base_uri": "https://localhost:8080/",
          "height": 34
        }
      },
      "source": [
        "ord('a')"
      ],
      "execution_count": null,
      "outputs": [
        {
          "output_type": "execute_result",
          "data": {
            "text/plain": [
              "97"
            ]
          },
          "metadata": {
            "tags": []
          },
          "execution_count": 51
        }
      ]
    },
    {
      "cell_type": "code",
      "metadata": {
        "id": "1L2gzg-MDFBh",
        "outputId": "ec603d56-5d21-497f-d442-c2db43944e7e",
        "colab": {
          "base_uri": "https://localhost:8080/",
          "height": 34
        }
      },
      "source": [
        "ord('A')"
      ],
      "execution_count": null,
      "outputs": [
        {
          "output_type": "execute_result",
          "data": {
            "text/plain": [
              "65"
            ]
          },
          "metadata": {
            "tags": []
          },
          "execution_count": 52
        }
      ]
    },
    {
      "cell_type": "code",
      "metadata": {
        "id": "cqnC4akIDH8L",
        "outputId": "5f575b1a-4add-4a2c-ca2f-4b73e09dfc56",
        "colab": {
          "base_uri": "https://localhost:8080/",
          "height": 35
        }
      },
      "source": [
        "chr(65)"
      ],
      "execution_count": null,
      "outputs": [
        {
          "output_type": "execute_result",
          "data": {
            "application/vnd.google.colaboratory.intrinsic+json": {
              "type": "string"
            },
            "text/plain": [
              "'A'"
            ]
          },
          "metadata": {
            "tags": []
          },
          "execution_count": 53
        }
      ]
    },
    {
      "cell_type": "code",
      "metadata": {
        "id": "QkZxKXF9DJDP",
        "outputId": "4bf2615d-018b-41c6-948b-1850ca7c1c37",
        "colab": {
          "base_uri": "https://localhost:8080/",
          "height": 35
        }
      },
      "source": [
        "chr(66)"
      ],
      "execution_count": null,
      "outputs": [
        {
          "output_type": "execute_result",
          "data": {
            "application/vnd.google.colaboratory.intrinsic+json": {
              "type": "string"
            },
            "text/plain": [
              "'B'"
            ]
          },
          "metadata": {
            "tags": []
          },
          "execution_count": 54
        }
      ]
    },
    {
      "cell_type": "markdown",
      "metadata": {
        "id": "D6FSuJN5DVLI"
      },
      "source": [
        "if you want to shift three places to the right of the\n",
        "letter 'A',"
      ]
    },
    {
      "cell_type": "code",
      "metadata": {
        "id": "1-4jMGuODKHy",
        "outputId": "b99a1cbd-5c0c-44b1-afe5-15f23e51140f",
        "colab": {
          "base_uri": "https://localhost:8080/",
          "height": 35
        }
      },
      "source": [
        "chr(ord('A')+3)"
      ],
      "execution_count": null,
      "outputs": [
        {
          "output_type": "execute_result",
          "data": {
            "application/vnd.google.colaboratory.intrinsic+json": {
              "type": "string"
            },
            "text/plain": [
              "'D'"
            ]
          },
          "metadata": {
            "tags": []
          },
          "execution_count": 56
        }
      ]
    },
    {
      "cell_type": "code",
      "metadata": {
        "id": "WDEtiVV5rEtw",
        "outputId": "b36f16b5-6306-43bb-95e0-df90907fd30e",
        "colab": {
          "base_uri": "https://localhost:8080/",
          "height": 35
        }
      },
      "source": [
        "type(ord('A')+3)"
      ],
      "execution_count": null,
      "outputs": [
        {
          "output_type": "execute_result",
          "data": {
            "text/plain": [
              "int"
            ]
          },
          "metadata": {
            "tags": []
          },
          "execution_count": 49
        }
      ]
    },
    {
      "cell_type": "markdown",
      "metadata": {
        "id": "pwgtbLtyDYCI"
      },
      "source": [
        "#2.4 Exercises"
      ]
    },
    {
      "cell_type": "code",
      "metadata": {
        "id": "-bLaxA0IDPbX",
        "outputId": "77462cf3-5985-483e-fe49-79cb6c78d532",
        "colab": {
          "base_uri": "https://localhost:8080/",
          "height": 35
        }
      },
      "source": [
        "#Kenneth A Lambert., Fundamentals of Python : First Programs, 2/e, Cengage Publishing,\n",
        "2016"
      ],
      "execution_count": null,
      "outputs": [
        {
          "output_type": "execute_result",
          "data": {
            "text/plain": [
              "2016"
            ]
          },
          "metadata": {
            "tags": []
          },
          "execution_count": 52
        }
      ]
    },
    {
      "cell_type": "markdown",
      "metadata": {
        "id": "X17ORT1cDcx9"
      },
      "source": [
        "#Expressions"
      ]
    },
    {
      "cell_type": "markdown",
      "metadata": {
        "id": "512poZ1kFLFJ"
      },
      "source": [
        "Mixed-Mode Arithmetic and Type Conversions"
      ]
    },
    {
      "cell_type": "markdown",
      "metadata": {
        "id": "6cAK0-ThFnO5"
      },
      "source": [
        "In a binary operation on\n",
        "operands of different numeric types, the less general type (int) is temporarily and\n",
        "automatically converted to the more general type (float) before the operation is\n",
        "performed."
      ]
    },
    {
      "cell_type": "code",
      "metadata": {
        "id": "4gwch-zPDmvA",
        "outputId": "a2f0ca2d-1076-468c-8088-38bb700a0f12",
        "colab": {
          "base_uri": "https://localhost:8080/",
          "height": 34
        }
      },
      "source": [
        "3.14 * 2 ** 3"
      ],
      "execution_count": null,
      "outputs": [
        {
          "output_type": "execute_result",
          "data": {
            "text/plain": [
              "25.12"
            ]
          },
          "metadata": {
            "tags": []
          },
          "execution_count": 62
        }
      ]
    },
    {
      "cell_type": "markdown",
      "metadata": {
        "id": "2JrahgwSGVhu"
      },
      "source": [
        "##Floor division //"
      ]
    },
    {
      "cell_type": "code",
      "metadata": {
        "id": "2czPTJrLFWvF",
        "outputId": "f77c74de-84b8-4862-dc0f-8291176cc99f",
        "colab": {
          "base_uri": "https://localhost:8080/",
          "height": 34
        }
      },
      "source": [
        "3 // 2"
      ],
      "execution_count": null,
      "outputs": [
        {
          "output_type": "execute_result",
          "data": {
            "text/plain": [
              "1"
            ]
          },
          "metadata": {
            "tags": []
          },
          "execution_count": 64
        }
      ]
    },
    {
      "cell_type": "code",
      "metadata": {
        "id": "IyK2geV0GJvB",
        "outputId": "295d64a9-8419-4c4d-ec19-6bf0ec976958",
        "colab": {
          "base_uri": "https://localhost:8080/",
          "height": 34
        }
      },
      "source": [
        "3 / 2"
      ],
      "execution_count": null,
      "outputs": [
        {
          "output_type": "execute_result",
          "data": {
            "text/plain": [
              "1.5"
            ]
          },
          "metadata": {
            "tags": []
          },
          "execution_count": 66
        }
      ]
    },
    {
      "cell_type": "markdown",
      "metadata": {
        "id": "XcR8aaY6G5tC"
      },
      "source": [
        "##Type Conversion"
      ]
    },
    {
      "cell_type": "code",
      "metadata": {
        "id": "hu_2EapPGbQT",
        "outputId": "d3c04dc8-d249-4bf7-a84e-3b98d04a2b57",
        "colab": {
          "base_uri": "https://localhost:8080/",
          "height": 34
        }
      },
      "source": [
        "int(3.77)"
      ],
      "execution_count": null,
      "outputs": [
        {
          "output_type": "execute_result",
          "data": {
            "text/plain": [
              "3"
            ]
          },
          "metadata": {
            "tags": []
          },
          "execution_count": 67
        }
      ]
    },
    {
      "cell_type": "markdown",
      "metadata": {
        "id": "sAL7yMkQHNiz"
      },
      "source": [
        "##round"
      ]
    },
    {
      "cell_type": "code",
      "metadata": {
        "id": "FpbeQ__SHITA",
        "outputId": "1f57346e-7eea-41c6-b03b-58c5dda4930e",
        "colab": {
          "base_uri": "https://localhost:8080/",
          "height": 34
        }
      },
      "source": [
        "round(3.77)"
      ],
      "execution_count": null,
      "outputs": [
        {
          "output_type": "execute_result",
          "data": {
            "text/plain": [
              "4"
            ]
          },
          "metadata": {
            "tags": []
          },
          "execution_count": 72
        }
      ]
    },
    {
      "cell_type": "code",
      "metadata": {
        "id": "ElI3f9qbG7vF",
        "outputId": "74bea14c-3d24-4c2b-a2e9-ee8364773aae",
        "colab": {
          "base_uri": "https://localhost:8080/",
          "height": 34
        }
      },
      "source": [
        "int(\"33\")"
      ],
      "execution_count": null,
      "outputs": [
        {
          "output_type": "execute_result",
          "data": {
            "text/plain": [
              "33"
            ]
          },
          "metadata": {
            "tags": []
          },
          "execution_count": 69
        }
      ]
    },
    {
      "cell_type": "code",
      "metadata": {
        "id": "_os4RtXeG9wx",
        "outputId": "239bbeef-97c7-41bf-d812-bc1b8aab210a",
        "colab": {
          "base_uri": "https://localhost:8080/",
          "height": 34
        }
      },
      "source": [
        "float(22)"
      ],
      "execution_count": null,
      "outputs": [
        {
          "output_type": "execute_result",
          "data": {
            "text/plain": [
              "22.0"
            ]
          },
          "metadata": {
            "tags": []
          },
          "execution_count": 70
        }
      ]
    },
    {
      "cell_type": "code",
      "metadata": {
        "id": "RYOg1Y-MHBc4",
        "outputId": "cdbeae33-aebe-4d88-aea8-45eb3a33dd05",
        "colab": {
          "base_uri": "https://localhost:8080/",
          "height": 35
        }
      },
      "source": [
        "str(99)"
      ],
      "execution_count": null,
      "outputs": [
        {
          "output_type": "execute_result",
          "data": {
            "application/vnd.google.colaboratory.intrinsic+json": {
              "type": "string"
            },
            "text/plain": [
              "'99'"
            ]
          },
          "metadata": {
            "tags": []
          },
          "execution_count": 71
        }
      ]
    },
    {
      "cell_type": "markdown",
      "metadata": {
        "id": "feA51VccHaiQ"
      },
      "source": [
        "Python is a strongly typed programming language. The interpreter checks\n",
        "data types of all operands before operators are applied to those operands. If the\n",
        "type of an operand is not appropriate, the interpreter halts execution with an\n",
        "error message. This error checking prevents a program from attempting to do\n",
        "something that it cannot do."
      ]
    },
    {
      "cell_type": "code",
      "metadata": {
        "id": "GaBfKPQVHChk",
        "outputId": "dc5d1a39-d733-4428-eb6e-b37c13e77644",
        "colab": {
          "base_uri": "https://localhost:8080/",
          "height": 180
        }
      },
      "source": [
        "profit  = 10000\n",
        "print('$'+profit)"
      ],
      "execution_count": null,
      "outputs": [
        {
          "output_type": "error",
          "ename": "TypeError",
          "evalue": "ignored",
          "traceback": [
            "\u001b[0;31m---------------------------------------------------------------------------\u001b[0m",
            "\u001b[0;31mTypeError\u001b[0m                                 Traceback (most recent call last)",
            "\u001b[0;32m<ipython-input-74-268d7b6d262e>\u001b[0m in \u001b[0;36m<module>\u001b[0;34m()\u001b[0m\n\u001b[1;32m      1\u001b[0m \u001b[0mprofit\u001b[0m  \u001b[0;34m=\u001b[0m \u001b[0;36m10000\u001b[0m\u001b[0;34m\u001b[0m\u001b[0;34m\u001b[0m\u001b[0m\n\u001b[0;32m----> 2\u001b[0;31m \u001b[0mprint\u001b[0m\u001b[0;34m(\u001b[0m\u001b[0;34m'$'\u001b[0m\u001b[0;34m+\u001b[0m\u001b[0mprofit\u001b[0m\u001b[0;34m)\u001b[0m\u001b[0;34m\u001b[0m\u001b[0;34m\u001b[0m\u001b[0m\n\u001b[0m",
            "\u001b[0;31mTypeError\u001b[0m: must be str, not int"
          ]
        }
      ]
    },
    {
      "cell_type": "code",
      "metadata": {
        "id": "i5d20-OrHfEk",
        "outputId": "636428be-5ffa-4332-ae42-e8142817791f",
        "colab": {
          "base_uri": "https://localhost:8080/",
          "height": 34
        }
      },
      "source": [
        "profit  = 10000\n",
        "print('$'+str(profit))"
      ],
      "execution_count": null,
      "outputs": [
        {
          "output_type": "stream",
          "text": [
            "$10000\n"
          ],
          "name": "stdout"
        }
      ]
    },
    {
      "cell_type": "markdown",
      "metadata": {
        "id": "lZyEDq3kvaYG"
      },
      "source": [
        "#Tutorial 1"
      ]
    },
    {
      "cell_type": "markdown",
      "metadata": {
        "id": "M7FiDTeWvdjU"
      },
      "source": [
        "https://www.hackerrank.com/cst-283-python-for-machine-learning"
      ]
    },
    {
      "cell_type": "code",
      "metadata": {
        "id": "utb2MDN_Hpi3"
      },
      "source": [
        ""
      ],
      "execution_count": null,
      "outputs": []
    }
  ]
}