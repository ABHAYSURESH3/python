{
  "nbformat": 4,
  "nbformat_minor": 0,
  "metadata": {
    "colab": {
      "name": "CST 283 Revision Module 3",
      "provenance": []
    },
    "kernelspec": {
      "name": "python3",
      "display_name": "Python 3"
    }
  },
  "cells": [
    {
      "cell_type": "code",
      "metadata": {
        "id": "BZ2mIR2ylZi6"
      },
      "source": [
        "mylist = [1,2,3]"
      ],
      "execution_count": null,
      "outputs": []
    },
    {
      "cell_type": "code",
      "metadata": {
        "colab": {
          "base_uri": "https://localhost:8080/"
        },
        "id": "8exNptbulb1Q",
        "outputId": "cb451d3a-0029-4a67-abba-d0553d7082d6"
      },
      "source": [
        "type(mylist)"
      ],
      "execution_count": null,
      "outputs": [
        {
          "output_type": "execute_result",
          "data": {
            "text/plain": [
              "list"
            ]
          },
          "metadata": {
            "tags": []
          },
          "execution_count": 2
        }
      ]
    },
    {
      "cell_type": "code",
      "metadata": {
        "colab": {
          "base_uri": "https://localhost:8080/"
        },
        "id": "Bm6r6YBtlfJ7",
        "outputId": "673b40d1-3885-429a-b8b1-160ac35d27e3"
      },
      "source": [
        "id(mylist)"
      ],
      "execution_count": null,
      "outputs": [
        {
          "output_type": "execute_result",
          "data": {
            "text/plain": [
              "139795121199944"
            ]
          },
          "metadata": {
            "tags": []
          },
          "execution_count": 3
        }
      ]
    },
    {
      "cell_type": "code",
      "metadata": {
        "id": "n3Rz7urjlhgQ"
      },
      "source": [
        "myanotherlist = [1,2,3]"
      ],
      "execution_count": null,
      "outputs": []
    },
    {
      "cell_type": "code",
      "metadata": {
        "colab": {
          "base_uri": "https://localhost:8080/"
        },
        "id": "V8HkyWJNlj4k",
        "outputId": "0c9b0853-a59d-4fb4-fb3f-463c4e234a28"
      },
      "source": [
        "id(myanotherlist)"
      ],
      "execution_count": null,
      "outputs": [
        {
          "output_type": "execute_result",
          "data": {
            "text/plain": [
              "139794981108168"
            ]
          },
          "metadata": {
            "tags": []
          },
          "execution_count": 5
        }
      ]
    },
    {
      "cell_type": "code",
      "metadata": {
        "id": "G4Zzh0_0lljf"
      },
      "source": [
        "mynumber =3"
      ],
      "execution_count": null,
      "outputs": []
    },
    {
      "cell_type": "code",
      "metadata": {
        "id": "3S4us9-JloGX"
      },
      "source": [
        "myanothernumber =3"
      ],
      "execution_count": null,
      "outputs": []
    },
    {
      "cell_type": "code",
      "metadata": {
        "colab": {
          "base_uri": "https://localhost:8080/"
        },
        "id": "LeFr04MNlphm",
        "outputId": "7a4f55dc-fb23-4748-bc86-052c6f7fb3f4"
      },
      "source": [
        "id(mynumber)"
      ],
      "execution_count": null,
      "outputs": [
        {
          "output_type": "execute_result",
          "data": {
            "text/plain": [
              "10914560"
            ]
          },
          "metadata": {
            "tags": []
          },
          "execution_count": 9
        }
      ]
    },
    {
      "cell_type": "code",
      "metadata": {
        "colab": {
          "base_uri": "https://localhost:8080/"
        },
        "id": "vMSk-zhslrFU",
        "outputId": "e9304ff7-d503-46f0-d5a3-eb514f711b9c"
      },
      "source": [
        "id(myanothernumber)"
      ],
      "execution_count": null,
      "outputs": [
        {
          "output_type": "execute_result",
          "data": {
            "text/plain": [
              "10914560"
            ]
          },
          "metadata": {
            "tags": []
          },
          "execution_count": 10
        }
      ]
    },
    {
      "cell_type": "code",
      "metadata": {
        "id": "xDjOwfc6luJG"
      },
      "source": [
        "mylist1 = [4,5,6]"
      ],
      "execution_count": null,
      "outputs": []
    },
    {
      "cell_type": "code",
      "metadata": {
        "colab": {
          "base_uri": "https://localhost:8080/"
        },
        "id": "0j8BE7vPl6Va",
        "outputId": "a9cc5cf3-57fa-4f6e-92bc-ae067b63e066"
      },
      "source": [
        "id(mylist1)"
      ],
      "execution_count": null,
      "outputs": [
        {
          "output_type": "execute_result",
          "data": {
            "text/plain": [
              "139794980486536"
            ]
          },
          "metadata": {
            "tags": []
          },
          "execution_count": 17
        }
      ]
    },
    {
      "cell_type": "code",
      "metadata": {
        "id": "6tVu_GKsl74Z"
      },
      "source": [
        "mylist2 = mylist1"
      ],
      "execution_count": null,
      "outputs": []
    },
    {
      "cell_type": "code",
      "metadata": {
        "colab": {
          "base_uri": "https://localhost:8080/"
        },
        "id": "hEidml-hl9l6",
        "outputId": "55747116-cb76-4fd5-83f1-8178b6fb30cd"
      },
      "source": [
        "id(mylist2)"
      ],
      "execution_count": null,
      "outputs": [
        {
          "output_type": "execute_result",
          "data": {
            "text/plain": [
              "139794980486536"
            ]
          },
          "metadata": {
            "tags": []
          },
          "execution_count": 19
        }
      ]
    },
    {
      "cell_type": "code",
      "metadata": {
        "id": "33bQA5UKmdiA"
      },
      "source": [
        "mylist1[0]=100"
      ],
      "execution_count": null,
      "outputs": []
    },
    {
      "cell_type": "code",
      "metadata": {
        "colab": {
          "base_uri": "https://localhost:8080/"
        },
        "id": "J18lFZVnmk0q",
        "outputId": "3edd6bae-37bc-479e-e8c1-407bf9e0db4c"
      },
      "source": [
        "mylist1"
      ],
      "execution_count": null,
      "outputs": [
        {
          "output_type": "execute_result",
          "data": {
            "text/plain": [
              "[100, 5, 6]"
            ]
          },
          "metadata": {
            "tags": []
          },
          "execution_count": 22
        }
      ]
    },
    {
      "cell_type": "code",
      "metadata": {
        "colab": {
          "base_uri": "https://localhost:8080/"
        },
        "id": "_JM6Jf9jmvaB",
        "outputId": "95a8a9b8-c134-4b52-96d2-6b931ccf21ed"
      },
      "source": [
        "mylist2"
      ],
      "execution_count": null,
      "outputs": [
        {
          "output_type": "execute_result",
          "data": {
            "text/plain": [
              "[100, 5, 6]"
            ]
          },
          "metadata": {
            "tags": []
          },
          "execution_count": 23
        }
      ]
    },
    {
      "cell_type": "code",
      "metadata": {
        "id": "0IKv2I2gnEzB"
      },
      "source": [
        "mylist2[1]=1000"
      ],
      "execution_count": null,
      "outputs": []
    },
    {
      "cell_type": "code",
      "metadata": {
        "colab": {
          "base_uri": "https://localhost:8080/"
        },
        "id": "Ky77NYlAnMni",
        "outputId": "fdadaace-b335-4bca-dbb4-923d1fdba778"
      },
      "source": [
        "mylist1"
      ],
      "execution_count": null,
      "outputs": [
        {
          "output_type": "execute_result",
          "data": {
            "text/plain": [
              "[100, 1000, 6]"
            ]
          },
          "metadata": {
            "tags": []
          },
          "execution_count": 25
        }
      ]
    },
    {
      "cell_type": "code",
      "metadata": {
        "colab": {
          "base_uri": "https://localhost:8080/"
        },
        "id": "EhNAKV7vnNag",
        "outputId": "96eb7d94-eb37-4e64-82c9-c9256e60ba4c"
      },
      "source": [
        "mylist2"
      ],
      "execution_count": null,
      "outputs": [
        {
          "output_type": "execute_result",
          "data": {
            "text/plain": [
              "[100, 1000, 6]"
            ]
          },
          "metadata": {
            "tags": []
          },
          "execution_count": 26
        }
      ]
    },
    {
      "cell_type": "code",
      "metadata": {
        "id": "j_F5MoPBnOcD"
      },
      "source": [
        "fruits = ['apple','mango','orange']"
      ],
      "execution_count": null,
      "outputs": []
    },
    {
      "cell_type": "code",
      "metadata": {
        "colab": {
          "base_uri": "https://localhost:8080/"
        },
        "id": "sqI0700kngu0",
        "outputId": "3396e202-bd03-475c-9216-fb163a5eca87"
      },
      "source": [
        "if('apple' in fruits):\r\n",
        "  print(\"Apple is there in list\")"
      ],
      "execution_count": null,
      "outputs": [
        {
          "output_type": "stream",
          "text": [
            "Apple is there in list\n"
          ],
          "name": "stdout"
        }
      ]
    },
    {
      "cell_type": "markdown",
      "metadata": {
        "id": "xlTF989gnvdX"
      },
      "source": [
        "#Write a function that accepts a list and a string, search for the item in the list. If the items exists, you can return True, otherwise false"
      ]
    },
    {
      "cell_type": "code",
      "metadata": {
        "id": "6Q3KErprnjhL"
      },
      "source": [
        "def search(mylist,mystring):\r\n",
        "  for sstring in mylist:\r\n",
        "    if(sstring==mystring):\r\n",
        "      return True\r\n",
        "  else:\r\n",
        "    return False"
      ],
      "execution_count": null,
      "outputs": []
    },
    {
      "cell_type": "code",
      "metadata": {
        "colab": {
          "base_uri": "https://localhost:8080/"
        },
        "id": "uQ7-krtWpBLt",
        "outputId": "37a37059-9b7c-4b2e-f6c3-ca0d8625bc75"
      },
      "source": [
        "fruits = ['apple','mango','orange']\r\n",
        "fruit = 'apple'\r\n",
        "search(fruits,fruit)"
      ],
      "execution_count": null,
      "outputs": [
        {
          "output_type": "execute_result",
          "data": {
            "text/plain": [
              "True"
            ]
          },
          "metadata": {
            "tags": []
          },
          "execution_count": 33
        }
      ]
    },
    {
      "cell_type": "code",
      "metadata": {
        "id": "58uQqrLapfme"
      },
      "source": [
        "def present(list,str):\r\n",
        "  if str in list:\r\n",
        "    return True\r\n",
        "  else:\r\n",
        "   return False"
      ],
      "execution_count": null,
      "outputs": []
    },
    {
      "cell_type": "code",
      "metadata": {
        "colab": {
          "base_uri": "https://localhost:8080/"
        },
        "id": "uR__yemhqQQe",
        "outputId": "9b5e13de-a145-48b8-fcb4-7814aa870811"
      },
      "source": [
        "present(fruits,\"orange\")"
      ],
      "execution_count": null,
      "outputs": [
        {
          "output_type": "execute_result",
          "data": {
            "text/plain": [
              "True"
            ]
          },
          "metadata": {
            "tags": []
          },
          "execution_count": 38
        }
      ]
    },
    {
      "cell_type": "code",
      "metadata": {
        "id": "uCB4EgkUqT6u"
      },
      "source": [
        "def search(mylist,mystring):\r\n",
        "  for sstring in mylist:\r\n",
        "    if(sstring==mystring):\r\n",
        "       return sstring\r\n",
        "  else:\r\n",
        "    return -1"
      ],
      "execution_count": null,
      "outputs": []
    },
    {
      "cell_type": "code",
      "metadata": {
        "colab": {
          "base_uri": "https://localhost:8080/"
        },
        "id": "SYLAbe_RrFhW",
        "outputId": "285a8fbd-960d-4e48-af40-e832cbb4ee14"
      },
      "source": [
        "fruits = ['apple','mango','orange']\r\n",
        "fruit = 'appleo'\r\n",
        "search(fruits,fruit)"
      ],
      "execution_count": null,
      "outputs": [
        {
          "output_type": "execute_result",
          "data": {
            "text/plain": [
              "-1"
            ]
          },
          "metadata": {
            "tags": []
          },
          "execution_count": 41
        }
      ]
    },
    {
      "cell_type": "code",
      "metadata": {
        "id": "XECLIE5arIXN"
      },
      "source": [
        "mylist = ['a', 'b', 'c', 'd', 'e', 'f']"
      ],
      "execution_count": null,
      "outputs": []
    },
    {
      "cell_type": "code",
      "metadata": {
        "colab": {
          "base_uri": "https://localhost:8080/"
        },
        "id": "a2AshHh_rtFH",
        "outputId": "2d7de6d3-a398-484a-cdc9-5d6473b51a62"
      },
      "source": [
        "mylist[2:-1]"
      ],
      "execution_count": null,
      "outputs": [
        {
          "output_type": "execute_result",
          "data": {
            "text/plain": [
              "['c', 'd', 'e']"
            ]
          },
          "metadata": {
            "tags": []
          },
          "execution_count": 43
        }
      ]
    },
    {
      "cell_type": "code",
      "metadata": {
        "colab": {
          "base_uri": "https://localhost:8080/"
        },
        "id": "EmSoRaRhrvKv",
        "outputId": "6eabdee7-e30f-4bf5-8fcd-5c14efd6ed68"
      },
      "source": [
        "mylist[0:6]"
      ],
      "execution_count": null,
      "outputs": [
        {
          "output_type": "execute_result",
          "data": {
            "text/plain": [
              "['a', 'b', 'c', 'd', 'e', 'f']"
            ]
          },
          "metadata": {
            "tags": []
          },
          "execution_count": 45
        }
      ]
    },
    {
      "cell_type": "code",
      "metadata": {
        "colab": {
          "base_uri": "https://localhost:8080/"
        },
        "id": "GZFWlhiLr1_H",
        "outputId": "def0cd44-2019-41db-b264-662adbf79a73"
      },
      "source": [
        "mylist[0:]"
      ],
      "execution_count": null,
      "outputs": [
        {
          "output_type": "execute_result",
          "data": {
            "text/plain": [
              "['a', 'b', 'c', 'd', 'e', 'f']"
            ]
          },
          "metadata": {
            "tags": []
          },
          "execution_count": 46
        }
      ]
    },
    {
      "cell_type": "code",
      "metadata": {
        "colab": {
          "base_uri": "https://localhost:8080/"
        },
        "id": "YXVo3PR1r5SO",
        "outputId": "3447f7d8-8278-4b61-f7bb-4087086bdd0e"
      },
      "source": [
        "mylist[:4]"
      ],
      "execution_count": null,
      "outputs": [
        {
          "output_type": "execute_result",
          "data": {
            "text/plain": [
              "['a', 'b', 'c', 'd']"
            ]
          },
          "metadata": {
            "tags": []
          },
          "execution_count": 47
        }
      ]
    },
    {
      "cell_type": "code",
      "metadata": {
        "colab": {
          "base_uri": "https://localhost:8080/"
        },
        "id": "7Mq07Tmhr6dP",
        "outputId": "0993682e-2f1e-44fb-9605-e5f0913af57e"
      },
      "source": [
        "mylist[:]"
      ],
      "execution_count": null,
      "outputs": [
        {
          "output_type": "execute_result",
          "data": {
            "text/plain": [
              "['a', 'b', 'c', 'd', 'e', 'f']"
            ]
          },
          "metadata": {
            "tags": []
          },
          "execution_count": 48
        }
      ]
    },
    {
      "cell_type": "code",
      "metadata": {
        "id": "624TczXhsPGm"
      },
      "source": [
        "mystring = 'abcdef'"
      ],
      "execution_count": null,
      "outputs": []
    },
    {
      "cell_type": "code",
      "metadata": {
        "id": "7RcBIT3CsSmh"
      },
      "source": [
        "mylist = ['a', 'b', 'c', 'd', 'e', 'f']"
      ],
      "execution_count": null,
      "outputs": []
    },
    {
      "cell_type": "markdown",
      "metadata": {
        "id": "eDG8n1Rsr_vQ"
      },
      "source": [
        "#List and String"
      ]
    },
    {
      "cell_type": "code",
      "metadata": {
        "id": "CryWCiSkj91q"
      },
      "source": [
        ""
      ],
      "execution_count": null,
      "outputs": []
    },
    {
      "cell_type": "code",
      "metadata": {
        "colab": {
          "base_uri": "https://localhost:8080/"
        },
        "id": "NjeuaQbhr8S-",
        "outputId": "3bda03bd-6ddf-466d-92c7-7b6bb108bcac"
      },
      "source": [
        "mylist"
      ],
      "execution_count": null,
      "outputs": [
        {
          "output_type": "execute_result",
          "data": {
            "text/plain": [
              "['a', 'b', 'c', 'd', 'e', 'f']"
            ]
          },
          "metadata": {
            "tags": []
          },
          "execution_count": 55
        }
      ]
    },
    {
      "cell_type": "code",
      "metadata": {
        "colab": {
          "base_uri": "https://localhost:8080/",
          "height": 35
        },
        "id": "8ky3Pmt_sJx6",
        "outputId": "9df9cf46-2b39-4339-a3db-cc826f430c45"
      },
      "source": [
        "mystring"
      ],
      "execution_count": null,
      "outputs": [
        {
          "output_type": "execute_result",
          "data": {
            "application/vnd.google.colaboratory.intrinsic+json": {
              "type": "string"
            },
            "text/plain": [
              "'abcdef'"
            ]
          },
          "metadata": {
            "tags": []
          },
          "execution_count": 56
        }
      ]
    },
    {
      "cell_type": "code",
      "metadata": {
        "id": "pH0feC7ssL4T"
      },
      "source": [
        "mylist[0]='z'"
      ],
      "execution_count": null,
      "outputs": []
    },
    {
      "cell_type": "code",
      "metadata": {
        "colab": {
          "base_uri": "https://localhost:8080/"
        },
        "id": "G656oU1WtO9l",
        "outputId": "81e8e81a-b26e-4cc3-9d5d-1ccbd4420163"
      },
      "source": [
        "mylist"
      ],
      "execution_count": null,
      "outputs": [
        {
          "output_type": "execute_result",
          "data": {
            "text/plain": [
              "['z', 'b', 'c', 'd', 'e', 'f']"
            ]
          },
          "metadata": {
            "tags": []
          },
          "execution_count": 58
        }
      ]
    },
    {
      "cell_type": "code",
      "metadata": {
        "colab": {
          "base_uri": "https://localhost:8080/",
          "height": 166
        },
        "id": "onEyaBTUtQDe",
        "outputId": "8e5b5032-854c-4812-e99b-6eac357797af"
      },
      "source": [
        "mystring[0] = 'z'"
      ],
      "execution_count": null,
      "outputs": [
        {
          "output_type": "error",
          "ename": "TypeError",
          "evalue": "ignored",
          "traceback": [
            "\u001b[0;31m---------------------------------------------------------------------------\u001b[0m",
            "\u001b[0;31mTypeError\u001b[0m                                 Traceback (most recent call last)",
            "\u001b[0;32m<ipython-input-60-276494abbbe7>\u001b[0m in \u001b[0;36m<module>\u001b[0;34m()\u001b[0m\n\u001b[0;32m----> 1\u001b[0;31m \u001b[0mmystring\u001b[0m\u001b[0;34m[\u001b[0m\u001b[0;36m0\u001b[0m\u001b[0;34m]\u001b[0m \u001b[0;34m=\u001b[0m \u001b[0;34m'z'\u001b[0m\u001b[0;34m\u001b[0m\u001b[0;34m\u001b[0m\u001b[0m\n\u001b[0m",
            "\u001b[0;31mTypeError\u001b[0m: 'str' object does not support item assignment"
          ]
        }
      ]
    },
    {
      "cell_type": "code",
      "metadata": {
        "id": "xM3emWkgtlUg"
      },
      "source": [
        "mystring = 'z'+ mystring[1:]"
      ],
      "execution_count": null,
      "outputs": []
    },
    {
      "cell_type": "code",
      "metadata": {
        "colab": {
          "base_uri": "https://localhost:8080/",
          "height": 35
        },
        "id": "LS_sssiBt2kg",
        "outputId": "2b3733d1-c261-4d15-f646-ed222e6abc38"
      },
      "source": [
        "mystring"
      ],
      "execution_count": null,
      "outputs": [
        {
          "output_type": "execute_result",
          "data": {
            "application/vnd.google.colaboratory.intrinsic+json": {
              "type": "string"
            },
            "text/plain": [
              "'zbcdef'"
            ]
          },
          "metadata": {
            "tags": []
          },
          "execution_count": 65
        }
      ]
    },
    {
      "cell_type": "markdown",
      "metadata": {
        "id": "sJCJcXntj_KV"
      },
      "source": [
        "#Tuple"
      ]
    },
    {
      "cell_type": "code",
      "metadata": {
        "id": "CSbmK3_gt3ZG"
      },
      "source": [
        "def myfun(a,b):\r\n",
        "  return b,a"
      ],
      "execution_count": 18,
      "outputs": []
    },
    {
      "cell_type": "code",
      "metadata": {
        "id": "Q7ssFEUxkKEY"
      },
      "source": [
        "result=myfun(10,20)"
      ],
      "execution_count": 19,
      "outputs": []
    },
    {
      "cell_type": "code",
      "metadata": {
        "colab": {
          "base_uri": "https://localhost:8080/"
        },
        "id": "A2nPad26kNF1",
        "outputId": "5d9e7996-6472-4cf8-f1af-ec67387c9a36"
      },
      "source": [
        "type(result)"
      ],
      "execution_count": 20,
      "outputs": [
        {
          "output_type": "execute_result",
          "data": {
            "text/plain": [
              "tuple"
            ]
          },
          "metadata": {
            "tags": []
          },
          "execution_count": 20
        }
      ]
    },
    {
      "cell_type": "code",
      "metadata": {
        "colab": {
          "base_uri": "https://localhost:8080/"
        },
        "id": "viE7Q0ZvkOjh",
        "outputId": "ff4c6e30-5da8-4ad5-a1c9-d5a73e9912ae"
      },
      "source": [
        "result"
      ],
      "execution_count": 21,
      "outputs": [
        {
          "output_type": "execute_result",
          "data": {
            "text/plain": [
              "(20, 10)"
            ]
          },
          "metadata": {
            "tags": []
          },
          "execution_count": 21
        }
      ]
    },
    {
      "cell_type": "code",
      "metadata": {
        "id": "Uq1hKxaekULp"
      },
      "source": [
        "mytuple = (1,)"
      ],
      "execution_count": 8,
      "outputs": []
    },
    {
      "cell_type": "code",
      "metadata": {
        "colab": {
          "base_uri": "https://localhost:8080/"
        },
        "id": "9kD7QBvRknwz",
        "outputId": "5c1818d1-2b95-4022-c5f1-5651a02e0219"
      },
      "source": [
        "type(mytuple)"
      ],
      "execution_count": 9,
      "outputs": [
        {
          "output_type": "execute_result",
          "data": {
            "text/plain": [
              "tuple"
            ]
          },
          "metadata": {
            "tags": []
          },
          "execution_count": 9
        }
      ]
    },
    {
      "cell_type": "code",
      "metadata": {
        "id": "nF7QiF2Dko-X"
      },
      "source": [
        "a=100\r\n",
        "b=200"
      ],
      "execution_count": 10,
      "outputs": []
    },
    {
      "cell_type": "code",
      "metadata": {
        "id": "qCR23M6xk7KF"
      },
      "source": [
        "a,b = b,a"
      ],
      "execution_count": 11,
      "outputs": []
    },
    {
      "cell_type": "code",
      "metadata": {
        "colab": {
          "base_uri": "https://localhost:8080/"
        },
        "id": "-N9avsGrk8VX",
        "outputId": "f33ef51f-df44-43c0-c83c-3a7d5cc0b826"
      },
      "source": [
        "a"
      ],
      "execution_count": 12,
      "outputs": [
        {
          "output_type": "execute_result",
          "data": {
            "text/plain": [
              "200"
            ]
          },
          "metadata": {
            "tags": []
          },
          "execution_count": 12
        }
      ]
    },
    {
      "cell_type": "code",
      "metadata": {
        "colab": {
          "base_uri": "https://localhost:8080/"
        },
        "id": "xNkdD4sXk9Dp",
        "outputId": "652ebdd5-f2d2-4dac-a02b-b890a2d989ba"
      },
      "source": [
        "b"
      ],
      "execution_count": 13,
      "outputs": [
        {
          "output_type": "execute_result",
          "data": {
            "text/plain": [
              "100"
            ]
          },
          "metadata": {
            "tags": []
          },
          "execution_count": 13
        }
      ]
    },
    {
      "cell_type": "code",
      "metadata": {
        "id": "BFrDT0V5k9pU"
      },
      "source": [
        ""
      ],
      "execution_count": null,
      "outputs": []
    },
    {
      "cell_type": "markdown",
      "metadata": {
        "id": "K6WFOXkRl1Ff"
      },
      "source": [
        "#Dict"
      ]
    },
    {
      "cell_type": "code",
      "metadata": {
        "id": "ocOJJm2ql2VD"
      },
      "source": [
        "dict1 = {'key1': 1.6, 'key2': 10, 'key3': 'John Doe'}\r\n",
        "\r\n",
        "dict2 = dict(key1=1.6, key2=10, key3='John Doe')"
      ],
      "execution_count": 23,
      "outputs": []
    },
    {
      "cell_type": "code",
      "metadata": {
        "colab": {
          "base_uri": "https://localhost:8080/"
        },
        "id": "zma-7-TXl2uE",
        "outputId": "a8c88180-9d52-4c09-e787-0d40ab0aeff2"
      },
      "source": [
        "print(dict1)"
      ],
      "execution_count": 24,
      "outputs": [
        {
          "output_type": "stream",
          "text": [
            "{'key1': 1.6, 'key2': 10, 'key3': 'John Doe'}\n"
          ],
          "name": "stdout"
        }
      ]
    },
    {
      "cell_type": "code",
      "metadata": {
        "colab": {
          "base_uri": "https://localhost:8080/"
        },
        "id": "7UE7lRWsmmPu",
        "outputId": "f31bda65-0d0d-473a-831f-5b713876de99"
      },
      "source": [
        "print(dict1)"
      ],
      "execution_count": 27,
      "outputs": [
        {
          "output_type": "stream",
          "text": [
            "{'key1': 1000, 'key2': 10, 'key3': 'John Doe'}\n"
          ],
          "name": "stdout"
        }
      ]
    },
    {
      "cell_type": "code",
      "metadata": {
        "id": "JaYe7NdxmI7G"
      },
      "source": [
        "dict1['key1'] = 1000\r\n",
        "dict2['key2'] = 2000"
      ],
      "execution_count": 26,
      "outputs": []
    },
    {
      "cell_type": "code",
      "metadata": {
        "colab": {
          "base_uri": "https://localhost:8080/"
        },
        "id": "eLddJLzNmYZX",
        "outputId": "8a22f9a9-1991-4a01-9645-1fe6f253a6ff"
      },
      "source": [
        "print(dict2)"
      ],
      "execution_count": 34,
      "outputs": [
        {
          "output_type": "stream",
          "text": [
            "{'key1': 1.6, 'key2': 2000, 'key3': 2000}\n"
          ],
          "name": "stdout"
        }
      ]
    },
    {
      "cell_type": "code",
      "metadata": {
        "id": "drcQZ57PmpXa"
      },
      "source": [
        "dict2['key4'] = 2000"
      ],
      "execution_count": 31,
      "outputs": []
    },
    {
      "cell_type": "code",
      "metadata": {
        "id": "VG-VJeCEmsZM"
      },
      "source": [
        "del dict2['key4']"
      ],
      "execution_count": 33,
      "outputs": []
    },
    {
      "cell_type": "code",
      "metadata": {
        "colab": {
          "base_uri": "https://localhost:8080/"
        },
        "id": "WTVOL4D3nEmi",
        "outputId": "f4ff1b11-07d9-4a62-f446-6715cf900b0c"
      },
      "source": [
        "my_dict = {'a': 1, 'b': 2, 'c': 3}\r\n",
        "a = my_dict.setdefault('a', 'my default value')\r\n",
        "d = my_dict.setdefault('d', 'my default value')\r\n",
        "print('a: {}\\nd: {}\\nmy_dict: {}'.format(a, d, my_dict))"
      ],
      "execution_count": 35,
      "outputs": [
        {
          "output_type": "stream",
          "text": [
            "a: 1\n",
            "d: my default value\n",
            "my_dict: {'a': 1, 'b': 2, 'c': 3, 'd': 'my default value'}\n"
          ],
          "name": "stdout"
        }
      ]
    },
    {
      "cell_type": "code",
      "metadata": {
        "id": "NffNNTgTnRWW"
      },
      "source": [
        "dict1.update(my_dict)"
      ],
      "execution_count": 39,
      "outputs": []
    },
    {
      "cell_type": "code",
      "metadata": {
        "colab": {
          "base_uri": "https://localhost:8080/"
        },
        "id": "ykrG2rprnYvW",
        "outputId": "de1b97d1-9661-4a8a-f3df-c67312396ce1"
      },
      "source": [
        "print(dict1)"
      ],
      "execution_count": 40,
      "outputs": [
        {
          "output_type": "stream",
          "text": [
            "{'key1': 1.6, 'key2': 2000, 'key3': 2000, 'a': 1, 'b': 2, 'c': 3, 'd': 'my default value'}\n"
          ],
          "name": "stdout"
        }
      ]
    },
    {
      "cell_type": "code",
      "metadata": {
        "colab": {
          "base_uri": "https://localhost:8080/"
        },
        "id": "_RRRFaRgnamv",
        "outputId": "4baed44f-7101-44e3-a9a4-0362a1a3ed00"
      },
      "source": [
        "print(dict2)"
      ],
      "execution_count": 38,
      "outputs": [
        {
          "output_type": "stream",
          "text": [
            "{'key1': 1.6, 'key2': 2000, 'key3': 2000}\n"
          ],
          "name": "stdout"
        }
      ]
    },
    {
      "cell_type": "code",
      "metadata": {
        "colab": {
          "base_uri": "https://localhost:8080/"
        },
        "id": "RBPI_D6sndPW",
        "outputId": "1dfe86e9-daa8-42ae-b0e4-18fdb2f802e4"
      },
      "source": [
        "print(dict2)"
      ],
      "execution_count": 42,
      "outputs": [
        {
          "output_type": "stream",
          "text": [
            "{'key1': 1.6, 'key2': 2000, 'key3': 2000}\n"
          ],
          "name": "stdout"
        }
      ]
    },
    {
      "cell_type": "code",
      "metadata": {
        "colab": {
          "base_uri": "https://localhost:8080/"
        },
        "id": "n5et4ya7oBvQ",
        "outputId": "a56f279a-a683-42b5-a619-8c2ad83302d2"
      },
      "source": [
        "dict2['key1']"
      ],
      "execution_count": 43,
      "outputs": [
        {
          "output_type": "execute_result",
          "data": {
            "text/plain": [
              "1.6"
            ]
          },
          "metadata": {
            "tags": []
          },
          "execution_count": 43
        }
      ]
    },
    {
      "cell_type": "code",
      "metadata": {
        "colab": {
          "base_uri": "https://localhost:8080/"
        },
        "id": "Z2q6GG9KoFh9",
        "outputId": "8c0647d5-7da0-47ed-aa1c-ec527f76514e"
      },
      "source": [
        "for (key,value) in dict2.items():\r\n",
        "  print (key,value)"
      ],
      "execution_count": 45,
      "outputs": [
        {
          "output_type": "stream",
          "text": [
            "key1 1.6\n",
            "key2 2000\n",
            "key3 2000\n"
          ],
          "name": "stdout"
        }
      ]
    },
    {
      "cell_type": "code",
      "metadata": {
        "colab": {
          "base_uri": "https://localhost:8080/"
        },
        "id": "ZA6lmdBxoTFC",
        "outputId": "e0416562-4a48-4797-9b9f-0eb196e94b76"
      },
      "source": [
        "for key in dict2.keys():\r\n",
        "  print (key)"
      ],
      "execution_count": 46,
      "outputs": [
        {
          "output_type": "stream",
          "text": [
            "key1\n",
            "key2\n",
            "key3\n"
          ],
          "name": "stdout"
        }
      ]
    },
    {
      "cell_type": "code",
      "metadata": {
        "colab": {
          "base_uri": "https://localhost:8080/"
        },
        "id": "WZcO7DgToOpB",
        "outputId": "e6ce70df-d4bb-4f98-e2c6-6ff3629532db"
      },
      "source": [
        "for value in dict2.values():\r\n",
        "  print (value)"
      ],
      "execution_count": 47,
      "outputs": [
        {
          "output_type": "stream",
          "text": [
            "1.6\n",
            "2000\n",
            "2000\n"
          ],
          "name": "stdout"
        }
      ]
    },
    {
      "cell_type": "code",
      "metadata": {
        "id": "7h9j6-BVoZ9d"
      },
      "source": [
        "\r\n",
        "def reverse_lookup(d, v):\r\n",
        "    for k in d:\r\n",
        "        if d[k] == v:\r\n",
        "            return k"
      ],
      "execution_count": 48,
      "outputs": []
    },
    {
      "cell_type": "code",
      "metadata": {
        "colab": {
          "base_uri": "https://localhost:8080/",
          "height": 35
        },
        "id": "vJEU4mxNo08J",
        "outputId": "c88c7ce2-4983-4eb2-d0f2-ae80177a3848"
      },
      "source": [
        "reverse_lookup(dict2,2000)"
      ],
      "execution_count": 50,
      "outputs": [
        {
          "output_type": "execute_result",
          "data": {
            "application/vnd.google.colaboratory.intrinsic+json": {
              "type": "string"
            },
            "text/plain": [
              "'key2'"
            ]
          },
          "metadata": {
            "tags": []
          },
          "execution_count": 50
        }
      ]
    },
    {
      "cell_type": "markdown",
      "metadata": {
        "id": "MnU9SBNUpe7R"
      },
      "source": [
        "#Write a python program using list to store and display the average of N Integers accepted from the user"
      ]
    },
    {
      "cell_type": "code",
      "metadata": {
        "colab": {
          "base_uri": "https://localhost:8080/"
        },
        "id": "GScTPvDqo37G",
        "outputId": "f1725c6b-6fbc-4564-a4ae-1f6653574ab8"
      },
      "source": [
        "def avg_list(items):\r\n",
        "    sum = 0\r\n",
        "    for x in items:\r\n",
        "        sum += x\r\n",
        "    avg=sum/len(items)\r\n",
        "    return avg\r\n",
        "\r\n",
        "mylist=[]\r\n",
        "while(True):\r\n",
        "  number=input(\"Enter the number\")\r\n",
        "  if(number==\"*\"):\r\n",
        "    break\r\n",
        "  number=float(number)\r\n",
        "  mylist.append(number)\r\n",
        "\r\n",
        "  \r\n",
        "print(avg_list(mylist))"
      ],
      "execution_count": 2,
      "outputs": [
        {
          "output_type": "stream",
          "text": [
            "Enter the number10\n",
            "Enter the number20\n",
            "Enter the number30\n",
            "Enter the number*\n",
            "20.0\n"
          ],
          "name": "stdout"
        }
      ]
    },
    {
      "cell_type": "markdown",
      "metadata": {
        "id": "d3uQAxCapof_"
      },
      "source": [
        "#Write a Python program to create a list by concatenating a given list which range goes from 1 to n. "
      ]
    },
    {
      "cell_type": "code",
      "metadata": {
        "id": "xkyeifHUpiIj"
      },
      "source": [
        "mylist = [1,3,4,5]\r\n",
        "\r\n",
        "def myfun(mylist,n):\r\n",
        "  for i in range(1,n+1):\r\n",
        "    print(mylist*i)\r\n"
      ],
      "execution_count": 3,
      "outputs": []
    },
    {
      "cell_type": "code",
      "metadata": {
        "colab": {
          "base_uri": "https://localhost:8080/"
        },
        "id": "VHkpriIett3g",
        "outputId": "8ce07d57-dd2f-4164-990c-c09d86043a96"
      },
      "source": [
        "myfun(mylist,4)"
      ],
      "execution_count": 4,
      "outputs": [
        {
          "output_type": "stream",
          "text": [
            "[1, 3, 4, 5]\n",
            "[1, 3, 4, 5, 1, 3, 4, 5]\n",
            "[1, 3, 4, 5, 1, 3, 4, 5, 1, 3, 4, 5]\n",
            "[1, 3, 4, 5, 1, 3, 4, 5, 1, 3, 4, 5, 1, 3, 4, 5]\n"
          ],
          "name": "stdout"
        }
      ]
    },
    {
      "cell_type": "code",
      "metadata": {
        "colab": {
          "base_uri": "https://localhost:8080/"
        },
        "id": "yXpuRlrcuGWk",
        "outputId": "53f2ac8b-fde4-45a5-fda3-13f080b3e7a6"
      },
      "source": [
        "my_list = ['p', 'q']\r\n",
        "n = 4\r\n",
        "new_list = ['{}{}'.format(x, y) for y in range(1, n+1) for x in my_list]\r\n",
        "print(new_list)"
      ],
      "execution_count": 5,
      "outputs": [
        {
          "output_type": "stream",
          "text": [
            "['p1', 'q1', 'p2', 'q2', 'p3', 'q3', 'p4', 'q4']\n"
          ],
          "name": "stdout"
        }
      ]
    },
    {
      "cell_type": "markdown",
      "metadata": {
        "id": "snSS2RsivJHx"
      },
      "source": [
        "#Write a Python program to check whether a list contains a sublist"
      ]
    },
    {
      "cell_type": "code",
      "metadata": {
        "colab": {
          "base_uri": "https://localhost:8080/"
        },
        "id": "ykkJEICGudvf",
        "outputId": "e7abf6ce-84b5-41d9-fc7c-7fdb123b6ed9"
      },
      "source": [
        "def sublist(mylist):\r\n",
        "   sub=False #Flag\r\n",
        "   for item in mylist:\r\n",
        "      if type(item) == list:\r\n",
        "         sub=True\r\n",
        "   return sub\r\n",
        "print(sublist([9,8,[8,7],[4,7,8],[2,45]]))\r\n",
        "print(sublist([6,7,8,67,\"a\",[1,2]]))"
      ],
      "execution_count": 6,
      "outputs": [
        {
          "output_type": "stream",
          "text": [
            "True\n",
            "True\n"
          ],
          "name": "stdout"
        }
      ]
    },
    {
      "cell_type": "code",
      "metadata": {
        "colab": {
          "base_uri": "https://localhost:8080/"
        },
        "id": "JPjYFGR9xhC1",
        "outputId": "d3f0f230-d09e-4c8b-f553-1299a05c915d"
      },
      "source": [
        "def sublist(mylist):\r\n",
        "   counter=0 \r\n",
        "   for item in mylist:\r\n",
        "      if type(item) == list:\r\n",
        "         counter+=1\r\n",
        "   return counter\r\n",
        "print(sublist([9,8,[8,7],[4,7,8],[2,45]]))\r\n",
        "print(sublist([6,7,8,67,\"a\",[1,2]]))"
      ],
      "execution_count": 7,
      "outputs": [
        {
          "output_type": "stream",
          "text": [
            "3\n",
            "1\n"
          ],
          "name": "stdout"
        }
      ]
    },
    {
      "cell_type": "markdown",
      "metadata": {
        "id": "m5cEnnpSyd9C"
      },
      "source": [
        "#Write a Python program to get the frequency of the elements in a list"
      ]
    },
    {
      "cell_type": "code",
      "metadata": {
        "id": "aikaVkF0wrre"
      },
      "source": [
        "mylist =['orange','apple','banana','orange']"
      ],
      "execution_count": 8,
      "outputs": []
    },
    {
      "cell_type": "code",
      "metadata": {
        "id": "LEL_-dWiyiN5"
      },
      "source": [
        "orange: 2\r\n",
        "apple: 1\r\n",
        "banana: 1"
      ],
      "execution_count": 9,
      "outputs": []
    },
    {
      "cell_type": "code",
      "metadata": {
        "colab": {
          "base_uri": "https://localhost:8080/"
        },
        "id": "UHMjgg4py6jG",
        "outputId": "94fd4f66-0c22-4e95-d456-d19aa8f254fd"
      },
      "source": [
        "#9\r\n",
        "def freq(l1):\r\n",
        "    l2=[]\r\n",
        "    for m in l1:\r\n",
        "       if m not in l2:\r\n",
        "          l2.append(m)\r\n",
        "    for n in l2:\r\n",
        "       print(n,\":\",l1.count(n))\r\n",
        "freq(mylist)"
      ],
      "execution_count": 10,
      "outputs": [
        {
          "output_type": "stream",
          "text": [
            "orange : 2\n",
            "apple : 1\n",
            "banana : 1\n"
          ],
          "name": "stdout"
        }
      ]
    },
    {
      "cell_type": "code",
      "metadata": {
        "colab": {
          "base_uri": "https://localhost:8080/"
        },
        "id": "1TjDxSxQy7Bn",
        "outputId": "12e1f3a6-2dde-4d49-8d2e-7fc660b29c38"
      },
      "source": [
        "def frequency(mylist): \r\n",
        "    freq = {} \r\n",
        "    for items in mylist: \r\n",
        "        freq[items] = mylist.count(items) \r\n",
        "    for key, value in freq.items(): \r\n",
        "        print (\"% s : % d\"%(key, value)) \r\n",
        "frequency(mylist)"
      ],
      "execution_count": 11,
      "outputs": [
        {
          "output_type": "stream",
          "text": [
            "orange :  2\n",
            "apple :  1\n",
            "banana :  1\n"
          ],
          "name": "stdout"
        }
      ]
    },
    {
      "cell_type": "markdown",
      "metadata": {
        "id": "InMCxN-Q0i4R"
      },
      "source": [
        "#Read a text file and print the frequency of words"
      ]
    },
    {
      "cell_type": "code",
      "metadata": {
        "id": "Sp-I_eM2zASq"
      },
      "source": [
        ""
      ],
      "execution_count": null,
      "outputs": []
    }
  ]
}