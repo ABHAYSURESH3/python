{
  "nbformat": 4,
  "nbformat_minor": 0,
  "metadata": {
    "colab": {
      "name": "CST 283 Revision Module 3",
      "provenance": []
    },
    "kernelspec": {
      "name": "python3",
      "display_name": "Python 3"
    }
  },
  "cells": [
    {
      "cell_type": "code",
      "metadata": {
        "id": "BZ2mIR2ylZi6"
      },
      "source": [
        "mylist = [1,2,3]"
      ],
      "execution_count": null,
      "outputs": []
    },
    {
      "cell_type": "code",
      "metadata": {
        "colab": {
          "base_uri": "https://localhost:8080/"
        },
        "id": "8exNptbulb1Q",
        "outputId": "cb451d3a-0029-4a67-abba-d0553d7082d6"
      },
      "source": [
        "type(mylist)"
      ],
      "execution_count": null,
      "outputs": [
        {
          "output_type": "execute_result",
          "data": {
            "text/plain": [
              "list"
            ]
          },
          "metadata": {
            "tags": []
          },
          "execution_count": 2
        }
      ]
    },
    {
      "cell_type": "code",
      "metadata": {
        "colab": {
          "base_uri": "https://localhost:8080/"
        },
        "id": "Bm6r6YBtlfJ7",
        "outputId": "673b40d1-3885-429a-b8b1-160ac35d27e3"
      },
      "source": [
        "id(mylist)"
      ],
      "execution_count": null,
      "outputs": [
        {
          "output_type": "execute_result",
          "data": {
            "text/plain": [
              "139795121199944"
            ]
          },
          "metadata": {
            "tags": []
          },
          "execution_count": 3
        }
      ]
    },
    {
      "cell_type": "code",
      "metadata": {
        "id": "n3Rz7urjlhgQ"
      },
      "source": [
        "myanotherlist = [1,2,3]"
      ],
      "execution_count": null,
      "outputs": []
    },
    {
      "cell_type": "code",
      "metadata": {
        "colab": {
          "base_uri": "https://localhost:8080/"
        },
        "id": "V8HkyWJNlj4k",
        "outputId": "0c9b0853-a59d-4fb4-fb3f-463c4e234a28"
      },
      "source": [
        "id(myanotherlist)"
      ],
      "execution_count": null,
      "outputs": [
        {
          "output_type": "execute_result",
          "data": {
            "text/plain": [
              "139794981108168"
            ]
          },
          "metadata": {
            "tags": []
          },
          "execution_count": 5
        }
      ]
    },
    {
      "cell_type": "code",
      "metadata": {
        "id": "G4Zzh0_0lljf"
      },
      "source": [
        "mynumber =3"
      ],
      "execution_count": null,
      "outputs": []
    },
    {
      "cell_type": "code",
      "metadata": {
        "id": "3S4us9-JloGX"
      },
      "source": [
        "myanothernumber =3"
      ],
      "execution_count": null,
      "outputs": []
    },
    {
      "cell_type": "code",
      "metadata": {
        "colab": {
          "base_uri": "https://localhost:8080/"
        },
        "id": "LeFr04MNlphm",
        "outputId": "7a4f55dc-fb23-4748-bc86-052c6f7fb3f4"
      },
      "source": [
        "id(mynumber)"
      ],
      "execution_count": null,
      "outputs": [
        {
          "output_type": "execute_result",
          "data": {
            "text/plain": [
              "10914560"
            ]
          },
          "metadata": {
            "tags": []
          },
          "execution_count": 9
        }
      ]
    },
    {
      "cell_type": "code",
      "metadata": {
        "colab": {
          "base_uri": "https://localhost:8080/"
        },
        "id": "vMSk-zhslrFU",
        "outputId": "e9304ff7-d503-46f0-d5a3-eb514f711b9c"
      },
      "source": [
        "id(myanothernumber)"
      ],
      "execution_count": null,
      "outputs": [
        {
          "output_type": "execute_result",
          "data": {
            "text/plain": [
              "10914560"
            ]
          },
          "metadata": {
            "tags": []
          },
          "execution_count": 10
        }
      ]
    },
    {
      "cell_type": "code",
      "metadata": {
        "id": "xDjOwfc6luJG"
      },
      "source": [
        "mylist1 = [4,5,6]"
      ],
      "execution_count": null,
      "outputs": []
    },
    {
      "cell_type": "code",
      "metadata": {
        "colab": {
          "base_uri": "https://localhost:8080/"
        },
        "id": "0j8BE7vPl6Va",
        "outputId": "a9cc5cf3-57fa-4f6e-92bc-ae067b63e066"
      },
      "source": [
        "id(mylist1)"
      ],
      "execution_count": null,
      "outputs": [
        {
          "output_type": "execute_result",
          "data": {
            "text/plain": [
              "139794980486536"
            ]
          },
          "metadata": {
            "tags": []
          },
          "execution_count": 17
        }
      ]
    },
    {
      "cell_type": "code",
      "metadata": {
        "id": "6tVu_GKsl74Z"
      },
      "source": [
        "mylist2 = mylist1"
      ],
      "execution_count": null,
      "outputs": []
    },
    {
      "cell_type": "code",
      "metadata": {
        "colab": {
          "base_uri": "https://localhost:8080/"
        },
        "id": "hEidml-hl9l6",
        "outputId": "55747116-cb76-4fd5-83f1-8178b6fb30cd"
      },
      "source": [
        "id(mylist2)"
      ],
      "execution_count": null,
      "outputs": [
        {
          "output_type": "execute_result",
          "data": {
            "text/plain": [
              "139794980486536"
            ]
          },
          "metadata": {
            "tags": []
          },
          "execution_count": 19
        }
      ]
    },
    {
      "cell_type": "code",
      "metadata": {
        "id": "33bQA5UKmdiA"
      },
      "source": [
        "mylist1[0]=100"
      ],
      "execution_count": null,
      "outputs": []
    },
    {
      "cell_type": "code",
      "metadata": {
        "colab": {
          "base_uri": "https://localhost:8080/"
        },
        "id": "J18lFZVnmk0q",
        "outputId": "3edd6bae-37bc-479e-e8c1-407bf9e0db4c"
      },
      "source": [
        "mylist1"
      ],
      "execution_count": null,
      "outputs": [
        {
          "output_type": "execute_result",
          "data": {
            "text/plain": [
              "[100, 5, 6]"
            ]
          },
          "metadata": {
            "tags": []
          },
          "execution_count": 22
        }
      ]
    },
    {
      "cell_type": "code",
      "metadata": {
        "colab": {
          "base_uri": "https://localhost:8080/"
        },
        "id": "_JM6Jf9jmvaB",
        "outputId": "95a8a9b8-c134-4b52-96d2-6b931ccf21ed"
      },
      "source": [
        "mylist2"
      ],
      "execution_count": null,
      "outputs": [
        {
          "output_type": "execute_result",
          "data": {
            "text/plain": [
              "[100, 5, 6]"
            ]
          },
          "metadata": {
            "tags": []
          },
          "execution_count": 23
        }
      ]
    },
    {
      "cell_type": "code",
      "metadata": {
        "id": "0IKv2I2gnEzB"
      },
      "source": [
        "mylist2[1]=1000"
      ],
      "execution_count": null,
      "outputs": []
    },
    {
      "cell_type": "code",
      "metadata": {
        "colab": {
          "base_uri": "https://localhost:8080/"
        },
        "id": "Ky77NYlAnMni",
        "outputId": "fdadaace-b335-4bca-dbb4-923d1fdba778"
      },
      "source": [
        "mylist1"
      ],
      "execution_count": null,
      "outputs": [
        {
          "output_type": "execute_result",
          "data": {
            "text/plain": [
              "[100, 1000, 6]"
            ]
          },
          "metadata": {
            "tags": []
          },
          "execution_count": 25
        }
      ]
    },
    {
      "cell_type": "code",
      "metadata": {
        "colab": {
          "base_uri": "https://localhost:8080/"
        },
        "id": "EhNAKV7vnNag",
        "outputId": "96eb7d94-eb37-4e64-82c9-c9256e60ba4c"
      },
      "source": [
        "mylist2"
      ],
      "execution_count": null,
      "outputs": [
        {
          "output_type": "execute_result",
          "data": {
            "text/plain": [
              "[100, 1000, 6]"
            ]
          },
          "metadata": {
            "tags": []
          },
          "execution_count": 26
        }
      ]
    },
    {
      "cell_type": "code",
      "metadata": {
        "id": "j_F5MoPBnOcD"
      },
      "source": [
        "fruits = ['apple','mango','orange']"
      ],
      "execution_count": null,
      "outputs": []
    },
    {
      "cell_type": "code",
      "metadata": {
        "colab": {
          "base_uri": "https://localhost:8080/"
        },
        "id": "sqI0700kngu0",
        "outputId": "3396e202-bd03-475c-9216-fb163a5eca87"
      },
      "source": [
        "if('apple' in fruits):\r\n",
        "  print(\"Apple is there in list\")"
      ],
      "execution_count": null,
      "outputs": [
        {
          "output_type": "stream",
          "text": [
            "Apple is there in list\n"
          ],
          "name": "stdout"
        }
      ]
    },
    {
      "cell_type": "markdown",
      "metadata": {
        "id": "xlTF989gnvdX"
      },
      "source": [
        "#Write a function that accepts a list and a string, search for the item in the list. If the items exists, you can return True, otherwise false"
      ]
    },
    {
      "cell_type": "code",
      "metadata": {
        "id": "6Q3KErprnjhL"
      },
      "source": [
        "def search(mylist,mystring):\r\n",
        "  for sstring in mylist:\r\n",
        "    if(sstring==mystring):\r\n",
        "      return True\r\n",
        "  else:\r\n",
        "    return False"
      ],
      "execution_count": null,
      "outputs": []
    },
    {
      "cell_type": "code",
      "metadata": {
        "colab": {
          "base_uri": "https://localhost:8080/"
        },
        "id": "uQ7-krtWpBLt",
        "outputId": "37a37059-9b7c-4b2e-f6c3-ca0d8625bc75"
      },
      "source": [
        "fruits = ['apple','mango','orange']\r\n",
        "fruit = 'apple'\r\n",
        "search(fruits,fruit)"
      ],
      "execution_count": null,
      "outputs": [
        {
          "output_type": "execute_result",
          "data": {
            "text/plain": [
              "True"
            ]
          },
          "metadata": {
            "tags": []
          },
          "execution_count": 33
        }
      ]
    },
    {
      "cell_type": "code",
      "metadata": {
        "id": "58uQqrLapfme"
      },
      "source": [
        "def present(list,str):\r\n",
        "  if str in list:\r\n",
        "    return True\r\n",
        "  else:\r\n",
        "   return False"
      ],
      "execution_count": null,
      "outputs": []
    },
    {
      "cell_type": "code",
      "metadata": {
        "colab": {
          "base_uri": "https://localhost:8080/"
        },
        "id": "uR__yemhqQQe",
        "outputId": "9b5e13de-a145-48b8-fcb4-7814aa870811"
      },
      "source": [
        "present(fruits,\"orange\")"
      ],
      "execution_count": null,
      "outputs": [
        {
          "output_type": "execute_result",
          "data": {
            "text/plain": [
              "True"
            ]
          },
          "metadata": {
            "tags": []
          },
          "execution_count": 38
        }
      ]
    },
    {
      "cell_type": "code",
      "metadata": {
        "id": "uCB4EgkUqT6u"
      },
      "source": [
        "def search(mylist,mystring):\r\n",
        "  for sstring in mylist:\r\n",
        "    if(sstring==mystring):\r\n",
        "       return sstring\r\n",
        "  else:\r\n",
        "    return -1"
      ],
      "execution_count": null,
      "outputs": []
    },
    {
      "cell_type": "code",
      "metadata": {
        "colab": {
          "base_uri": "https://localhost:8080/"
        },
        "id": "SYLAbe_RrFhW",
        "outputId": "285a8fbd-960d-4e48-af40-e832cbb4ee14"
      },
      "source": [
        "fruits = ['apple','mango','orange']\r\n",
        "fruit = 'appleo'\r\n",
        "search(fruits,fruit)"
      ],
      "execution_count": null,
      "outputs": [
        {
          "output_type": "execute_result",
          "data": {
            "text/plain": [
              "-1"
            ]
          },
          "metadata": {
            "tags": []
          },
          "execution_count": 41
        }
      ]
    },
    {
      "cell_type": "code",
      "metadata": {
        "id": "XECLIE5arIXN"
      },
      "source": [
        "mylist = ['a', 'b', 'c', 'd', 'e', 'f']"
      ],
      "execution_count": null,
      "outputs": []
    },
    {
      "cell_type": "code",
      "metadata": {
        "colab": {
          "base_uri": "https://localhost:8080/"
        },
        "id": "a2AshHh_rtFH",
        "outputId": "2d7de6d3-a398-484a-cdc9-5d6473b51a62"
      },
      "source": [
        "mylist[2:-1]"
      ],
      "execution_count": null,
      "outputs": [
        {
          "output_type": "execute_result",
          "data": {
            "text/plain": [
              "['c', 'd', 'e']"
            ]
          },
          "metadata": {
            "tags": []
          },
          "execution_count": 43
        }
      ]
    },
    {
      "cell_type": "code",
      "metadata": {
        "colab": {
          "base_uri": "https://localhost:8080/"
        },
        "id": "EmSoRaRhrvKv",
        "outputId": "6eabdee7-e30f-4bf5-8fcd-5c14efd6ed68"
      },
      "source": [
        "mylist[0:6]"
      ],
      "execution_count": null,
      "outputs": [
        {
          "output_type": "execute_result",
          "data": {
            "text/plain": [
              "['a', 'b', 'c', 'd', 'e', 'f']"
            ]
          },
          "metadata": {
            "tags": []
          },
          "execution_count": 45
        }
      ]
    },
    {
      "cell_type": "code",
      "metadata": {
        "colab": {
          "base_uri": "https://localhost:8080/"
        },
        "id": "GZFWlhiLr1_H",
        "outputId": "def0cd44-2019-41db-b264-662adbf79a73"
      },
      "source": [
        "mylist[0:]"
      ],
      "execution_count": null,
      "outputs": [
        {
          "output_type": "execute_result",
          "data": {
            "text/plain": [
              "['a', 'b', 'c', 'd', 'e', 'f']"
            ]
          },
          "metadata": {
            "tags": []
          },
          "execution_count": 46
        }
      ]
    },
    {
      "cell_type": "code",
      "metadata": {
        "colab": {
          "base_uri": "https://localhost:8080/"
        },
        "id": "YXVo3PR1r5SO",
        "outputId": "3447f7d8-8278-4b61-f7bb-4087086bdd0e"
      },
      "source": [
        "mylist[:4]"
      ],
      "execution_count": null,
      "outputs": [
        {
          "output_type": "execute_result",
          "data": {
            "text/plain": [
              "['a', 'b', 'c', 'd']"
            ]
          },
          "metadata": {
            "tags": []
          },
          "execution_count": 47
        }
      ]
    },
    {
      "cell_type": "code",
      "metadata": {
        "colab": {
          "base_uri": "https://localhost:8080/"
        },
        "id": "7Mq07Tmhr6dP",
        "outputId": "0993682e-2f1e-44fb-9605-e5f0913af57e"
      },
      "source": [
        "mylist[:]"
      ],
      "execution_count": null,
      "outputs": [
        {
          "output_type": "execute_result",
          "data": {
            "text/plain": [
              "['a', 'b', 'c', 'd', 'e', 'f']"
            ]
          },
          "metadata": {
            "tags": []
          },
          "execution_count": 48
        }
      ]
    },
    {
      "cell_type": "code",
      "metadata": {
        "id": "624TczXhsPGm"
      },
      "source": [
        "mystring = 'abcdef'"
      ],
      "execution_count": null,
      "outputs": []
    },
    {
      "cell_type": "code",
      "metadata": {
        "id": "7RcBIT3CsSmh"
      },
      "source": [
        "mylist = ['a', 'b', 'c', 'd', 'e', 'f']"
      ],
      "execution_count": null,
      "outputs": []
    },
    {
      "cell_type": "markdown",
      "metadata": {
        "id": "eDG8n1Rsr_vQ"
      },
      "source": [
        "#List and String"
      ]
    },
    {
      "cell_type": "code",
      "metadata": {
        "colab": {
          "base_uri": "https://localhost:8080/"
        },
        "id": "NjeuaQbhr8S-",
        "outputId": "3bda03bd-6ddf-466d-92c7-7b6bb108bcac"
      },
      "source": [
        "mylist"
      ],
      "execution_count": null,
      "outputs": [
        {
          "output_type": "execute_result",
          "data": {
            "text/plain": [
              "['a', 'b', 'c', 'd', 'e', 'f']"
            ]
          },
          "metadata": {
            "tags": []
          },
          "execution_count": 55
        }
      ]
    },
    {
      "cell_type": "code",
      "metadata": {
        "colab": {
          "base_uri": "https://localhost:8080/",
          "height": 35
        },
        "id": "8ky3Pmt_sJx6",
        "outputId": "9df9cf46-2b39-4339-a3db-cc826f430c45"
      },
      "source": [
        "mystring"
      ],
      "execution_count": null,
      "outputs": [
        {
          "output_type": "execute_result",
          "data": {
            "application/vnd.google.colaboratory.intrinsic+json": {
              "type": "string"
            },
            "text/plain": [
              "'abcdef'"
            ]
          },
          "metadata": {
            "tags": []
          },
          "execution_count": 56
        }
      ]
    },
    {
      "cell_type": "code",
      "metadata": {
        "id": "pH0feC7ssL4T"
      },
      "source": [
        "mylist[0]='z'"
      ],
      "execution_count": null,
      "outputs": []
    },
    {
      "cell_type": "code",
      "metadata": {
        "colab": {
          "base_uri": "https://localhost:8080/"
        },
        "id": "G656oU1WtO9l",
        "outputId": "81e8e81a-b26e-4cc3-9d5d-1ccbd4420163"
      },
      "source": [
        "mylist"
      ],
      "execution_count": null,
      "outputs": [
        {
          "output_type": "execute_result",
          "data": {
            "text/plain": [
              "['z', 'b', 'c', 'd', 'e', 'f']"
            ]
          },
          "metadata": {
            "tags": []
          },
          "execution_count": 58
        }
      ]
    },
    {
      "cell_type": "code",
      "metadata": {
        "colab": {
          "base_uri": "https://localhost:8080/",
          "height": 166
        },
        "id": "onEyaBTUtQDe",
        "outputId": "8e5b5032-854c-4812-e99b-6eac357797af"
      },
      "source": [
        "mystring[0] = 'z'"
      ],
      "execution_count": null,
      "outputs": [
        {
          "output_type": "error",
          "ename": "TypeError",
          "evalue": "ignored",
          "traceback": [
            "\u001b[0;31m---------------------------------------------------------------------------\u001b[0m",
            "\u001b[0;31mTypeError\u001b[0m                                 Traceback (most recent call last)",
            "\u001b[0;32m<ipython-input-60-276494abbbe7>\u001b[0m in \u001b[0;36m<module>\u001b[0;34m()\u001b[0m\n\u001b[0;32m----> 1\u001b[0;31m \u001b[0mmystring\u001b[0m\u001b[0;34m[\u001b[0m\u001b[0;36m0\u001b[0m\u001b[0;34m]\u001b[0m \u001b[0;34m=\u001b[0m \u001b[0;34m'z'\u001b[0m\u001b[0;34m\u001b[0m\u001b[0;34m\u001b[0m\u001b[0m\n\u001b[0m",
            "\u001b[0;31mTypeError\u001b[0m: 'str' object does not support item assignment"
          ]
        }
      ]
    },
    {
      "cell_type": "code",
      "metadata": {
        "id": "xM3emWkgtlUg"
      },
      "source": [
        "mystring = 'z'+ mystring[1:]"
      ],
      "execution_count": null,
      "outputs": []
    },
    {
      "cell_type": "code",
      "metadata": {
        "colab": {
          "base_uri": "https://localhost:8080/",
          "height": 35
        },
        "id": "LS_sssiBt2kg",
        "outputId": "2b3733d1-c261-4d15-f646-ed222e6abc38"
      },
      "source": [
        "mystring"
      ],
      "execution_count": null,
      "outputs": [
        {
          "output_type": "execute_result",
          "data": {
            "application/vnd.google.colaboratory.intrinsic+json": {
              "type": "string"
            },
            "text/plain": [
              "'zbcdef'"
            ]
          },
          "metadata": {
            "tags": []
          },
          "execution_count": 65
        }
      ]
    },
    {
      "cell_type": "code",
      "metadata": {
        "id": "CSbmK3_gt3ZG"
      },
      "source": [
        ""
      ],
      "execution_count": null,
      "outputs": []
    }
  ]
}