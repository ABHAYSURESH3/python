{
  "nbformat": 4,
  "nbformat_minor": 0,
  "metadata": {
    "colab": {
      "name": "CST 283 Revision Module 1",
      "provenance": []
    },
    "kernelspec": {
      "name": "python3",
      "display_name": "Python 3"
    }
  },
  "cells": [
    {
      "cell_type": "code",
      "metadata": {
        "colab": {
          "base_uri": "https://localhost:8080/"
        },
        "id": "dsftba_yczdL",
        "outputId": "8b6c80cf-e7d6-4947-9c24-56ef5003c2bf"
      },
      "source": [
        "print(4)"
      ],
      "execution_count": null,
      "outputs": [
        {
          "output_type": "stream",
          "text": [
            "4\n"
          ],
          "name": "stdout"
        }
      ]
    },
    {
      "cell_type": "code",
      "metadata": {
        "colab": {
          "base_uri": "https://localhost:8080/"
        },
        "id": "f5MpSEACc6gI",
        "outputId": "cefa6c74-e946-408e-97ad-2debbd6126ba"
      },
      "source": [
        "type(4)"
      ],
      "execution_count": null,
      "outputs": [
        {
          "output_type": "execute_result",
          "data": {
            "text/plain": [
              "int"
            ]
          },
          "metadata": {
            "tags": []
          },
          "execution_count": 3
        }
      ]
    },
    {
      "cell_type": "code",
      "metadata": {
        "colab": {
          "base_uri": "https://localhost:8080/"
        },
        "id": "rhs9QgM9c27r",
        "outputId": "b6492636-5c1d-41e1-c9f5-bbef228aed6e"
      },
      "source": [
        "print(3.2)"
      ],
      "execution_count": null,
      "outputs": [
        {
          "output_type": "stream",
          "text": [
            "3.2\n"
          ],
          "name": "stdout"
        }
      ]
    },
    {
      "cell_type": "code",
      "metadata": {
        "colab": {
          "base_uri": "https://localhost:8080/"
        },
        "id": "53IikUyDc_cX",
        "outputId": "1e7312d4-92d2-4a56-8c7d-c58fdd3b86b0"
      },
      "source": [
        "type(3.2)"
      ],
      "execution_count": null,
      "outputs": [
        {
          "output_type": "execute_result",
          "data": {
            "text/plain": [
              "float"
            ]
          },
          "metadata": {
            "tags": []
          },
          "execution_count": 4
        }
      ]
    },
    {
      "cell_type": "code",
      "metadata": {
        "id": "noASTuYpc4XB"
      },
      "source": [
        "print(\"Hello\")"
      ],
      "execution_count": null,
      "outputs": []
    },
    {
      "cell_type": "code",
      "metadata": {
        "colab": {
          "base_uri": "https://localhost:8080/"
        },
        "id": "inFFSh2EdA8G",
        "outputId": "a754168b-4b58-4618-b059-f8e8f61839e1"
      },
      "source": [
        "type(\"hello\")"
      ],
      "execution_count": null,
      "outputs": [
        {
          "output_type": "execute_result",
          "data": {
            "text/plain": [
              "str"
            ]
          },
          "metadata": {
            "tags": []
          },
          "execution_count": 5
        }
      ]
    },
    {
      "cell_type": "code",
      "metadata": {
        "colab": {
          "base_uri": "https://localhost:8080/"
        },
        "id": "3SCDnnvFdCh1",
        "outputId": "c05bfbe1-af07-4f4c-e51f-8ed96ae90333"
      },
      "source": [
        "print"
      ],
      "execution_count": null,
      "outputs": [
        {
          "output_type": "execute_result",
          "data": {
            "text/plain": [
              "<function print>"
            ]
          },
          "metadata": {
            "tags": []
          },
          "execution_count": 6
        }
      ]
    },
    {
      "cell_type": "code",
      "metadata": {
        "id": "zyTxHskuq4xC"
      },
      "source": [
        "from myfunction import printer"
      ],
      "execution_count": null,
      "outputs": []
    },
    {
      "cell_type": "code",
      "metadata": {
        "id": "TKxeEQmxdHKF"
      },
      "source": [
        ""
      ],
      "execution_count": null,
      "outputs": []
    },
    {
      "cell_type": "code",
      "metadata": {
        "colab": {
          "base_uri": "https://localhost:8080/"
        },
        "id": "ObBfvlWedNDv",
        "outputId": "7f5b4c8a-d810-460e-d20d-d01ee21f09af"
      },
      "source": [
        "printer"
      ],
      "execution_count": null,
      "outputs": [
        {
          "output_type": "execute_result",
          "data": {
            "text/plain": [
              "<function __main__.printer>"
            ]
          },
          "metadata": {
            "tags": []
          },
          "execution_count": 17
        }
      ]
    },
    {
      "cell_type": "code",
      "metadata": {
        "colab": {
          "base_uri": "https://localhost:8080/"
        },
        "id": "HKBcVu2KdOJX",
        "outputId": "fc1b7e82-9723-47cc-add3-47128244601c"
      },
      "source": [
        "print(4)"
      ],
      "execution_count": null,
      "outputs": [
        {
          "output_type": "stream",
          "text": [
            "4\n"
          ],
          "name": "stdout"
        }
      ]
    },
    {
      "cell_type": "code",
      "metadata": {
        "colab": {
          "base_uri": "https://localhost:8080/"
        },
        "id": "xN6tXL1fds4s",
        "outputId": "26c65cfc-fef4-49cb-e897-f7008ee35dbf"
      },
      "source": [
        "printer(4)"
      ],
      "execution_count": null,
      "outputs": [
        {
          "output_type": "stream",
          "text": [
            "4\n"
          ],
          "name": "stdout"
        }
      ]
    },
    {
      "cell_type": "code",
      "metadata": {
        "id": "NUvAxMjBdyV-"
      },
      "source": [
        "my_integer_variable = 4"
      ],
      "execution_count": null,
      "outputs": []
    },
    {
      "cell_type": "code",
      "metadata": {
        "colab": {
          "base_uri": "https://localhost:8080/"
        },
        "id": "moEjSs7HfCyd",
        "outputId": "f39b117a-8b8b-4c75-87bb-f6919dd1f031"
      },
      "source": [
        "my_integer_variable"
      ],
      "execution_count": null,
      "outputs": [
        {
          "output_type": "execute_result",
          "data": {
            "text/plain": [
              "4"
            ]
          },
          "metadata": {
            "tags": []
          },
          "execution_count": 24
        }
      ]
    },
    {
      "cell_type": "code",
      "metadata": {
        "colab": {
          "base_uri": "https://localhost:8080/"
        },
        "id": "_KKxXNd0fEAH",
        "outputId": "7fa80f07-cdd1-4dd4-e936-4f1ac147b1d3"
      },
      "source": [
        "id(my_integer_variable)"
      ],
      "execution_count": null,
      "outputs": [
        {
          "output_type": "execute_result",
          "data": {
            "text/plain": [
              "10914592"
            ]
          },
          "metadata": {
            "tags": []
          },
          "execution_count": 25
        }
      ]
    },
    {
      "cell_type": "code",
      "metadata": {
        "id": "vfDclic_fGOd"
      },
      "source": [
        "my_float_variable = 5.6"
      ],
      "execution_count": null,
      "outputs": []
    },
    {
      "cell_type": "code",
      "metadata": {
        "colab": {
          "base_uri": "https://localhost:8080/"
        },
        "id": "2OTi4st1fjPX",
        "outputId": "336d63af-70d9-476f-8daf-a6427a3c744f"
      },
      "source": [
        "id(my_float_variable)"
      ],
      "execution_count": null,
      "outputs": [
        {
          "output_type": "execute_result",
          "data": {
            "text/plain": [
              "140458417200488"
            ]
          },
          "metadata": {
            "tags": []
          },
          "execution_count": 27
        }
      ]
    },
    {
      "cell_type": "code",
      "metadata": {
        "id": "fAml6fKwflU_"
      },
      "source": [
        "my_string_variable = \"Hello\""
      ],
      "execution_count": null,
      "outputs": []
    },
    {
      "cell_type": "code",
      "metadata": {
        "colab": {
          "base_uri": "https://localhost:8080/"
        },
        "id": "5epcji6ifri9",
        "outputId": "9563044d-0d1c-4184-c11c-2fb6e4da651b"
      },
      "source": [
        "id(my_string_variable)"
      ],
      "execution_count": null,
      "outputs": [
        {
          "output_type": "execute_result",
          "data": {
            "text/plain": [
              "140458257501800"
            ]
          },
          "metadata": {
            "tags": []
          },
          "execution_count": 29
        }
      ]
    },
    {
      "cell_type": "code",
      "metadata": {
        "colab": {
          "base_uri": "https://localhost:8080/"
        },
        "id": "LGwUmOxuftgr",
        "outputId": "7a469897-c699-4a86-f7fc-25c9169be760"
      },
      "source": [
        "print(my_string_variable)"
      ],
      "execution_count": null,
      "outputs": [
        {
          "output_type": "stream",
          "text": [
            "Hello\n"
          ],
          "name": "stdout"
        }
      ]
    },
    {
      "cell_type": "code",
      "metadata": {
        "colab": {
          "base_uri": "https://localhost:8080/"
        },
        "id": "_tKbqeuOfyuT",
        "outputId": "5e66ffda-bf39-4275-8137-46c77e34d985"
      },
      "source": [
        "printer(my_string_variable)"
      ],
      "execution_count": null,
      "outputs": [
        {
          "output_type": "stream",
          "text": [
            "Hello\n"
          ],
          "name": "stdout"
        }
      ]
    },
    {
      "cell_type": "code",
      "metadata": {
        "colab": {
          "base_uri": "https://localhost:8080/",
          "height": 131
        },
        "id": "hKMBKbXwf0kW",
        "outputId": "8a0a7391-6472-4e26-bf73-921c67abd222"
      },
      "source": [
        "7trombones =43"
      ],
      "execution_count": null,
      "outputs": [
        {
          "output_type": "error",
          "ename": "SyntaxError",
          "evalue": "ignored",
          "traceback": [
            "\u001b[0;36m  File \u001b[0;32m\"<ipython-input-37-1bc45f357e06>\"\u001b[0;36m, line \u001b[0;32m1\u001b[0m\n\u001b[0;31m    7trombones =43\u001b[0m\n\u001b[0m             ^\u001b[0m\n\u001b[0;31mSyntaxError\u001b[0m\u001b[0;31m:\u001b[0m invalid syntax\n"
          ]
        }
      ]
    },
    {
      "cell_type": "code",
      "metadata": {
        "colab": {
          "base_uri": "https://localhost:8080/",
          "height": 363
        },
        "id": "TgN4neh0gE3x",
        "outputId": "c261b39e-6b32-49ed-9505-11bdb4c74015"
      },
      "source": [
        "more$ =3"
      ],
      "execution_count": null,
      "outputs": [
        {
          "output_type": "error",
          "ename": "FileNotFoundError",
          "evalue": "ignored",
          "traceback": [
            "\u001b[0;31m---------------------------------------------------------------------------\u001b[0m",
            "\u001b[0;31mFileNotFoundError\u001b[0m                         Traceback (most recent call last)",
            "\u001b[0;32m<ipython-input-38-272de4fb4c49>\u001b[0m in \u001b[0;36m<module>\u001b[0;34m()\u001b[0m\n\u001b[0;32m----> 1\u001b[0;31m \u001b[0mget_ipython\u001b[0m\u001b[0;34m(\u001b[0m\u001b[0;34m)\u001b[0m\u001b[0;34m.\u001b[0m\u001b[0mmagic\u001b[0m\u001b[0;34m(\u001b[0m\u001b[0;34m'more $ =3'\u001b[0m\u001b[0;34m)\u001b[0m\u001b[0;34m\u001b[0m\u001b[0;34m\u001b[0m\u001b[0m\n\u001b[0m",
            "\u001b[0;32m/usr/local/lib/python3.6/dist-packages/IPython/core/interactiveshell.py\u001b[0m in \u001b[0;36mmagic\u001b[0;34m(self, arg_s)\u001b[0m\n\u001b[1;32m   2158\u001b[0m         \u001b[0mmagic_name\u001b[0m\u001b[0;34m,\u001b[0m \u001b[0m_\u001b[0m\u001b[0;34m,\u001b[0m \u001b[0mmagic_arg_s\u001b[0m \u001b[0;34m=\u001b[0m \u001b[0marg_s\u001b[0m\u001b[0;34m.\u001b[0m\u001b[0mpartition\u001b[0m\u001b[0;34m(\u001b[0m\u001b[0;34m' '\u001b[0m\u001b[0;34m)\u001b[0m\u001b[0;34m\u001b[0m\u001b[0;34m\u001b[0m\u001b[0m\n\u001b[1;32m   2159\u001b[0m         \u001b[0mmagic_name\u001b[0m \u001b[0;34m=\u001b[0m \u001b[0mmagic_name\u001b[0m\u001b[0;34m.\u001b[0m\u001b[0mlstrip\u001b[0m\u001b[0;34m(\u001b[0m\u001b[0mprefilter\u001b[0m\u001b[0;34m.\u001b[0m\u001b[0mESC_MAGIC\u001b[0m\u001b[0;34m)\u001b[0m\u001b[0;34m\u001b[0m\u001b[0;34m\u001b[0m\u001b[0m\n\u001b[0;32m-> 2160\u001b[0;31m         \u001b[0;32mreturn\u001b[0m \u001b[0mself\u001b[0m\u001b[0;34m.\u001b[0m\u001b[0mrun_line_magic\u001b[0m\u001b[0;34m(\u001b[0m\u001b[0mmagic_name\u001b[0m\u001b[0;34m,\u001b[0m \u001b[0mmagic_arg_s\u001b[0m\u001b[0;34m)\u001b[0m\u001b[0;34m\u001b[0m\u001b[0;34m\u001b[0m\u001b[0m\n\u001b[0m\u001b[1;32m   2161\u001b[0m \u001b[0;34m\u001b[0m\u001b[0m\n\u001b[1;32m   2162\u001b[0m     \u001b[0;31m#-------------------------------------------------------------------------\u001b[0m\u001b[0;34m\u001b[0m\u001b[0;34m\u001b[0m\u001b[0;34m\u001b[0m\u001b[0m\n",
            "\u001b[0;32m/usr/local/lib/python3.6/dist-packages/IPython/core/interactiveshell.py\u001b[0m in \u001b[0;36mrun_line_magic\u001b[0;34m(self, magic_name, line)\u001b[0m\n\u001b[1;32m   2079\u001b[0m                 \u001b[0mkwargs\u001b[0m\u001b[0;34m[\u001b[0m\u001b[0;34m'local_ns'\u001b[0m\u001b[0;34m]\u001b[0m \u001b[0;34m=\u001b[0m \u001b[0msys\u001b[0m\u001b[0;34m.\u001b[0m\u001b[0m_getframe\u001b[0m\u001b[0;34m(\u001b[0m\u001b[0mstack_depth\u001b[0m\u001b[0;34m)\u001b[0m\u001b[0;34m.\u001b[0m\u001b[0mf_locals\u001b[0m\u001b[0;34m\u001b[0m\u001b[0;34m\u001b[0m\u001b[0m\n\u001b[1;32m   2080\u001b[0m             \u001b[0;32mwith\u001b[0m \u001b[0mself\u001b[0m\u001b[0;34m.\u001b[0m\u001b[0mbuiltin_trap\u001b[0m\u001b[0;34m:\u001b[0m\u001b[0;34m\u001b[0m\u001b[0;34m\u001b[0m\u001b[0m\n\u001b[0;32m-> 2081\u001b[0;31m                 \u001b[0mresult\u001b[0m \u001b[0;34m=\u001b[0m \u001b[0mfn\u001b[0m\u001b[0;34m(\u001b[0m\u001b[0;34m*\u001b[0m\u001b[0margs\u001b[0m\u001b[0;34m,\u001b[0m\u001b[0;34m**\u001b[0m\u001b[0mkwargs\u001b[0m\u001b[0;34m)\u001b[0m\u001b[0;34m\u001b[0m\u001b[0;34m\u001b[0m\u001b[0m\n\u001b[0m\u001b[1;32m   2082\u001b[0m             \u001b[0;32mreturn\u001b[0m \u001b[0mresult\u001b[0m\u001b[0;34m\u001b[0m\u001b[0;34m\u001b[0m\u001b[0m\n\u001b[1;32m   2083\u001b[0m \u001b[0;34m\u001b[0m\u001b[0m\n",
            "\u001b[0;32m<decorator-gen-115>\u001b[0m in \u001b[0;36mless\u001b[0;34m(self, arg_s)\u001b[0m\n",
            "\u001b[0;32m/usr/local/lib/python3.6/dist-packages/IPython/core/magic.py\u001b[0m in \u001b[0;36m<lambda>\u001b[0;34m(f, *a, **k)\u001b[0m\n\u001b[1;32m    186\u001b[0m     \u001b[0;31m# but it's overkill for just that one bit of state.\u001b[0m\u001b[0;34m\u001b[0m\u001b[0;34m\u001b[0m\u001b[0;34m\u001b[0m\u001b[0m\n\u001b[1;32m    187\u001b[0m     \u001b[0;32mdef\u001b[0m \u001b[0mmagic_deco\u001b[0m\u001b[0;34m(\u001b[0m\u001b[0marg\u001b[0m\u001b[0;34m)\u001b[0m\u001b[0;34m:\u001b[0m\u001b[0;34m\u001b[0m\u001b[0;34m\u001b[0m\u001b[0m\n\u001b[0;32m--> 188\u001b[0;31m         \u001b[0mcall\u001b[0m \u001b[0;34m=\u001b[0m \u001b[0;32mlambda\u001b[0m \u001b[0mf\u001b[0m\u001b[0;34m,\u001b[0m \u001b[0;34m*\u001b[0m\u001b[0ma\u001b[0m\u001b[0;34m,\u001b[0m \u001b[0;34m**\u001b[0m\u001b[0mk\u001b[0m\u001b[0;34m:\u001b[0m \u001b[0mf\u001b[0m\u001b[0;34m(\u001b[0m\u001b[0;34m*\u001b[0m\u001b[0ma\u001b[0m\u001b[0;34m,\u001b[0m \u001b[0;34m**\u001b[0m\u001b[0mk\u001b[0m\u001b[0;34m)\u001b[0m\u001b[0;34m\u001b[0m\u001b[0;34m\u001b[0m\u001b[0m\n\u001b[0m\u001b[1;32m    189\u001b[0m \u001b[0;34m\u001b[0m\u001b[0m\n\u001b[1;32m    190\u001b[0m         \u001b[0;32mif\u001b[0m \u001b[0mcallable\u001b[0m\u001b[0;34m(\u001b[0m\u001b[0marg\u001b[0m\u001b[0;34m)\u001b[0m\u001b[0;34m:\u001b[0m\u001b[0;34m\u001b[0m\u001b[0;34m\u001b[0m\u001b[0m\n",
            "\u001b[0;32m/usr/local/lib/python3.6/dist-packages/ipykernel/zmqshell.py\u001b[0m in \u001b[0;36mless\u001b[0;34m(self, arg_s)\u001b[0m\n\u001b[1;32m    340\u001b[0m             \u001b[0mcont\u001b[0m \u001b[0;34m=\u001b[0m \u001b[0mself\u001b[0m\u001b[0;34m.\u001b[0m\u001b[0mshell\u001b[0m\u001b[0;34m.\u001b[0m\u001b[0mpycolorize\u001b[0m\u001b[0;34m(\u001b[0m\u001b[0mopenpy\u001b[0m\u001b[0;34m.\u001b[0m\u001b[0mread_py_file\u001b[0m\u001b[0;34m(\u001b[0m\u001b[0marg_s\u001b[0m\u001b[0;34m,\u001b[0m \u001b[0mskip_encoding_cookie\u001b[0m\u001b[0;34m=\u001b[0m\u001b[0;32mFalse\u001b[0m\u001b[0;34m)\u001b[0m\u001b[0;34m)\u001b[0m\u001b[0;34m\u001b[0m\u001b[0;34m\u001b[0m\u001b[0m\n\u001b[1;32m    341\u001b[0m         \u001b[0;32melse\u001b[0m\u001b[0;34m:\u001b[0m\u001b[0;34m\u001b[0m\u001b[0;34m\u001b[0m\u001b[0m\n\u001b[0;32m--> 342\u001b[0;31m             \u001b[0mcont\u001b[0m \u001b[0;34m=\u001b[0m \u001b[0mopen\u001b[0m\u001b[0;34m(\u001b[0m\u001b[0marg_s\u001b[0m\u001b[0;34m)\u001b[0m\u001b[0;34m.\u001b[0m\u001b[0mread\u001b[0m\u001b[0;34m(\u001b[0m\u001b[0;34m)\u001b[0m\u001b[0;34m\u001b[0m\u001b[0;34m\u001b[0m\u001b[0m\n\u001b[0m\u001b[1;32m    343\u001b[0m         \u001b[0mpage\u001b[0m\u001b[0;34m.\u001b[0m\u001b[0mpage\u001b[0m\u001b[0;34m(\u001b[0m\u001b[0mcont\u001b[0m\u001b[0;34m)\u001b[0m\u001b[0;34m\u001b[0m\u001b[0;34m\u001b[0m\u001b[0m\n\u001b[1;32m    344\u001b[0m \u001b[0;34m\u001b[0m\u001b[0m\n",
            "\u001b[0;31mFileNotFoundError\u001b[0m: [Errno 2] No such file or directory: '$ =3'"
          ]
        }
      ]
    },
    {
      "cell_type": "code",
      "metadata": {
        "colab": {
          "base_uri": "https://localhost:8080/",
          "height": 131
        },
        "id": "_yRY8TWxghcA",
        "outputId": "9d58fb76-53d4-43c7-c522-541f879b22bd"
      },
      "source": [
        "class = \"Computer Science 101\""
      ],
      "execution_count": null,
      "outputs": [
        {
          "output_type": "error",
          "ename": "SyntaxError",
          "evalue": "ignored",
          "traceback": [
            "\u001b[0;36m  File \u001b[0;32m\"<ipython-input-39-d7ae8131708c>\"\u001b[0;36m, line \u001b[0;32m1\u001b[0m\n\u001b[0;31m    class = \"Computer Science 101\"\u001b[0m\n\u001b[0m          ^\u001b[0m\n\u001b[0;31mSyntaxError\u001b[0m\u001b[0;31m:\u001b[0m invalid syntax\n"
          ]
        }
      ]
    },
    {
      "cell_type": "code",
      "metadata": {
        "id": "Msw5vbzLgWEm"
      },
      "source": [
        "class Person:\r\n",
        "  pass"
      ],
      "execution_count": null,
      "outputs": []
    },
    {
      "cell_type": "code",
      "metadata": {
        "id": "g6FGSpYMg6ua"
      },
      "source": [
        "person = Person()"
      ],
      "execution_count": null,
      "outputs": []
    },
    {
      "cell_type": "code",
      "metadata": {
        "colab": {
          "base_uri": "https://localhost:8080/"
        },
        "id": "V4xI89XFgvSC",
        "outputId": "36eb281e-c293-4ff2-f3e9-2c40a7e73456"
      },
      "source": [
        "Person"
      ],
      "execution_count": null,
      "outputs": [
        {
          "output_type": "execute_result",
          "data": {
            "text/plain": [
              "__main__.Person"
            ]
          },
          "metadata": {
            "tags": []
          },
          "execution_count": 42
        }
      ]
    },
    {
      "cell_type": "code",
      "metadata": {
        "colab": {
          "base_uri": "https://localhost:8080/"
        },
        "id": "v9BfIMHagzi5",
        "outputId": "3c7511d3-7a01-439c-e259-8c8ec028c687"
      },
      "source": [
        "type(person)"
      ],
      "execution_count": null,
      "outputs": [
        {
          "output_type": "execute_result",
          "data": {
            "text/plain": [
              "__main__.Person"
            ]
          },
          "metadata": {
            "tags": []
          },
          "execution_count": 45
        }
      ]
    },
    {
      "cell_type": "code",
      "metadata": {
        "colab": {
          "base_uri": "https://localhost:8080/"
        },
        "id": "zwNz6Z1dg2Ws",
        "outputId": "cfbfb293-2552-49bf-c303-d6217a9847cd"
      },
      "source": [
        "print(person)"
      ],
      "execution_count": null,
      "outputs": [
        {
          "output_type": "stream",
          "text": [
            "<__main__.Person object at 0x7fbefc79c780>\n"
          ],
          "name": "stdout"
        }
      ]
    },
    {
      "cell_type": "code",
      "metadata": {
        "colab": {
          "base_uri": "https://localhost:8080/"
        },
        "id": "cU7iH7YVhFlj",
        "outputId": "ca5ae77e-14d7-4ca0-a1a1-c70e7f9b8e56"
      },
      "source": [
        "printer(person)"
      ],
      "execution_count": null,
      "outputs": [
        {
          "output_type": "stream",
          "text": [
            "<__main__.Person object at 0x7fbefc79c780>\n"
          ],
          "name": "stdout"
        }
      ]
    },
    {
      "cell_type": "code",
      "metadata": {
        "colab": {
          "base_uri": "https://localhost:8080/",
          "height": 131
        },
        "id": "HsF3gswLhIBS",
        "outputId": "286dd861-ba1d-42db-ca90-a202d6db1471"
      },
      "source": [
        "def list:\r\n",
        "  print(\"Hello\")"
      ],
      "execution_count": null,
      "outputs": [
        {
          "output_type": "error",
          "ename": "SyntaxError",
          "evalue": "ignored",
          "traceback": [
            "\u001b[0;36m  File \u001b[0;32m\"<ipython-input-4-5e3e9d9d342b>\"\u001b[0;36m, line \u001b[0;32m1\u001b[0m\n\u001b[0;31m    def list:\u001b[0m\n\u001b[0m            ^\u001b[0m\n\u001b[0;31mSyntaxError\u001b[0m\u001b[0;31m:\u001b[0m invalid syntax\n"
          ]
        }
      ]
    },
    {
      "cell_type": "code",
      "metadata": {
        "colab": {
          "base_uri": "https://localhost:8080/"
        },
        "id": "u-mWAnUoh6_E",
        "outputId": "235d0b5c-56c3-4e41-815f-847dd14ba740"
      },
      "source": [
        "dict"
      ],
      "execution_count": null,
      "outputs": [
        {
          "output_type": "execute_result",
          "data": {
            "text/plain": [
              "dict"
            ]
          },
          "metadata": {
            "tags": []
          },
          "execution_count": 1
        }
      ]
    },
    {
      "cell_type": "code",
      "metadata": {
        "colab": {
          "base_uri": "https://localhost:8080/"
        },
        "id": "M4nCd9pNh0iH",
        "outputId": "620c847b-c2a4-4eeb-9d4d-5f059a31aa1d"
      },
      "source": [
        "list"
      ],
      "execution_count": null,
      "outputs": [
        {
          "output_type": "execute_result",
          "data": {
            "text/plain": [
              "list"
            ]
          },
          "metadata": {
            "tags": []
          },
          "execution_count": 2
        }
      ]
    },
    {
      "cell_type": "code",
      "metadata": {
        "colab": {
          "base_uri": "https://localhost:8080/"
        },
        "id": "Q9-31pNmh8qq",
        "outputId": "7a19e7bc-82e0-43d7-f785-12eff4f70bca"
      },
      "source": [
        "tuple"
      ],
      "execution_count": null,
      "outputs": [
        {
          "output_type": "execute_result",
          "data": {
            "text/plain": [
              "tuple"
            ]
          },
          "metadata": {
            "tags": []
          },
          "execution_count": 3
        }
      ]
    },
    {
      "cell_type": "code",
      "metadata": {
        "id": "6tT-y3Ofh-tR"
      },
      "source": [
        "mylist = [1,2,3]"
      ],
      "execution_count": null,
      "outputs": []
    },
    {
      "cell_type": "code",
      "metadata": {
        "colab": {
          "base_uri": "https://localhost:8080/"
        },
        "id": "hx8IQnLIiCMW",
        "outputId": "b4490d28-1831-4d64-b200-1631e80a9979"
      },
      "source": [
        "type(mylist)"
      ],
      "execution_count": null,
      "outputs": [
        {
          "output_type": "execute_result",
          "data": {
            "text/plain": [
              "list"
            ]
          },
          "metadata": {
            "tags": []
          },
          "execution_count": 57
        }
      ]
    },
    {
      "cell_type": "code",
      "metadata": {
        "id": "t70mP2gWiDp1"
      },
      "source": [
        "list = [1,2,3]"
      ],
      "execution_count": null,
      "outputs": []
    },
    {
      "cell_type": "code",
      "metadata": {
        "id": "pWY8lODoiIKV"
      },
      "source": [
        "dict = {'q':1,'p':2}"
      ],
      "execution_count": null,
      "outputs": []
    },
    {
      "cell_type": "code",
      "metadata": {
        "id": "L3AEw_IRibRZ"
      },
      "source": [
        "list = 2\r\n"
      ],
      "execution_count": null,
      "outputs": []
    },
    {
      "cell_type": "code",
      "metadata": {
        "id": "01r8M7EkieO2"
      },
      "source": [
        "dict = 3"
      ],
      "execution_count": null,
      "outputs": []
    },
    {
      "cell_type": "code",
      "metadata": {
        "colab": {
          "base_uri": "https://localhost:8080/"
        },
        "id": "XGClM9e6igwI",
        "outputId": "7d916949-3b61-45fe-9145-c449015c9357"
      },
      "source": [
        "type(dict)"
      ],
      "execution_count": null,
      "outputs": [
        {
          "output_type": "execute_result",
          "data": {
            "text/plain": [
              "int"
            ]
          },
          "metadata": {
            "tags": []
          },
          "execution_count": 62
        }
      ]
    },
    {
      "cell_type": "code",
      "metadata": {
        "colab": {
          "base_uri": "https://localhost:8080/"
        },
        "id": "kMLQ5QoAih4-",
        "outputId": "0350d03c-78b9-4529-bf69-ff3487bf8a69"
      },
      "source": [
        "dict"
      ],
      "execution_count": null,
      "outputs": [
        {
          "output_type": "execute_result",
          "data": {
            "text/plain": [
              "3"
            ]
          },
          "metadata": {
            "tags": []
          },
          "execution_count": 63
        }
      ]
    },
    {
      "cell_type": "code",
      "metadata": {
        "colab": {
          "base_uri": "https://localhost:8080/"
        },
        "id": "2ChZ_-1limLw",
        "outputId": "62933d93-6924-4c5a-da8f-daf937af440d"
      },
      "source": [
        "type(tuple)"
      ],
      "execution_count": null,
      "outputs": [
        {
          "output_type": "execute_result",
          "data": {
            "text/plain": [
              "type"
            ]
          },
          "metadata": {
            "tags": []
          },
          "execution_count": 64
        }
      ]
    },
    {
      "cell_type": "code",
      "metadata": {
        "colab": {
          "base_uri": "https://localhost:8080/"
        },
        "id": "-5jBD7kejCne",
        "outputId": "6747dd09-33d7-4915-b5c0-2975fcd5c990"
      },
      "source": [
        "num = int(input(\"Enter a number: \"))\r\n",
        "if (num % 2) == 0:\r\n",
        "   print((num),\"is Even\")\r\n",
        "   if (num % 4)==0:\r\n",
        "     print(\"it is divisible by 4\")\r\n",
        "   else:\r\n",
        "     print(\"it is not divisible by 4\")\r\n",
        "else:\r\n",
        "   print((num),\"is Odd\")\r\n",
        "   if (num % 3)==0 :\r\n",
        "      print(\"it is divisible by 3\")\r\n",
        "   else:\r\n",
        "      print(\"it is not divisible by 3\")"
      ],
      "execution_count": null,
      "outputs": [
        {
          "output_type": "stream",
          "text": [
            "Enter a number: 27\n",
            "27 is Odd\n",
            "it is divisible by 3\n"
          ],
          "name": "stdout"
        }
      ]
    },
    {
      "cell_type": "code",
      "metadata": {
        "colab": {
          "base_uri": "https://localhost:8080/"
        },
        "id": "JOXpvjHqm05A",
        "outputId": "98358253-4438-41f0-e891-e0c0a579bf11"
      },
      "source": [
        "num = int(input(\"Enter a number: \"))\r\n",
        "mod = num % 2\r\n",
        "if mod > 0:\r\n",
        "    print(\"This is an odd number.\")\r\n",
        "else:\r\n",
        "    print(\"This is an even number.\")\r\n",
        "\r\n",
        "if num%3==0 and num%4==0:\r\n",
        "  print(\"it is divisible by both 3 and 4\")\r\n",
        "else:\r\n",
        "  print(\"it is not divisible by both 3 and 4\")"
      ],
      "execution_count": null,
      "outputs": [
        {
          "output_type": "stream",
          "text": [
            "Enter a number: 27\n",
            "This is an odd number.\n",
            "it is not divisible by both 3 and 4\n"
          ],
          "name": "stdout"
        }
      ]
    },
    {
      "cell_type": "code",
      "metadata": {
        "id": "ka2wGTK8nRSo"
      },
      "source": [
        "import pandas as pd\r\n",
        "import numpy as np\r\n"
      ],
      "execution_count": null,
      "outputs": []
    },
    {
      "cell_type": "markdown",
      "metadata": {
        "id": "FhgTEiyceqMO"
      },
      "source": [
        "# Write a python program to check if a number is armstrong or not."
      ]
    },
    {
      "cell_type": "code",
      "metadata": {
        "colab": {
          "base_uri": "https://localhost:8080/",
          "height": 313
        },
        "id": "AdQMGTRCiIqX",
        "outputId": "83798a34-2e7f-411d-c8c4-b542a31e7af1"
      },
      "source": [
        "sum=0\r\n",
        "while(True):\r\n",
        "  mydata = input(\"Enter a number:\")\r\n",
        "  if(mydata=='*'):\r\n",
        "    break\r\n",
        "  mydata=int(mydata)\r\n",
        "  sum+=mydata\r\n",
        "  print(sum)\r\n",
        "print(sum)\r\n"
      ],
      "execution_count": null,
      "outputs": [
        {
          "output_type": "stream",
          "text": [
            "Enter a number:10\n",
            "10\n",
            "Enter a number:20\n",
            "30\n",
            "Enter a number:*\n"
          ],
          "name": "stdout"
        },
        {
          "output_type": "error",
          "ename": "ValueError",
          "evalue": "ignored",
          "traceback": [
            "\u001b[0;31m---------------------------------------------------------------------------\u001b[0m",
            "\u001b[0;31mValueError\u001b[0m                                Traceback (most recent call last)",
            "\u001b[0;32m<ipython-input-2-620f04b15c1b>\u001b[0m in \u001b[0;36m<module>\u001b[0;34m()\u001b[0m\n\u001b[1;32m      1\u001b[0m \u001b[0msum\u001b[0m\u001b[0;34m=\u001b[0m\u001b[0;36m0\u001b[0m\u001b[0;34m\u001b[0m\u001b[0;34m\u001b[0m\u001b[0m\n\u001b[1;32m      2\u001b[0m \u001b[0;32mwhile\u001b[0m\u001b[0;34m(\u001b[0m\u001b[0;32mTrue\u001b[0m\u001b[0;34m)\u001b[0m\u001b[0;34m:\u001b[0m\u001b[0;34m\u001b[0m\u001b[0;34m\u001b[0m\u001b[0m\n\u001b[0;32m----> 3\u001b[0;31m   \u001b[0mmydata\u001b[0m \u001b[0;34m=\u001b[0m \u001b[0mint\u001b[0m\u001b[0;34m(\u001b[0m\u001b[0minput\u001b[0m\u001b[0;34m(\u001b[0m\u001b[0;34m\"Enter a number:\"\u001b[0m\u001b[0;34m)\u001b[0m\u001b[0;34m)\u001b[0m\u001b[0;34m\u001b[0m\u001b[0;34m\u001b[0m\u001b[0m\n\u001b[0m\u001b[1;32m      4\u001b[0m   \u001b[0;32mif\u001b[0m\u001b[0;34m(\u001b[0m\u001b[0mmydata\u001b[0m\u001b[0;34m==\u001b[0m\u001b[0;34m'*'\u001b[0m\u001b[0;34m)\u001b[0m\u001b[0;34m:\u001b[0m\u001b[0;34m\u001b[0m\u001b[0;34m\u001b[0m\u001b[0m\n\u001b[1;32m      5\u001b[0m     \u001b[0;32mbreak\u001b[0m\u001b[0;34m\u001b[0m\u001b[0;34m\u001b[0m\u001b[0m\n",
            "\u001b[0;31mValueError\u001b[0m: invalid literal for int() with base 10: '*'"
          ]
        }
      ]
    },
    {
      "cell_type": "code",
      "metadata": {
        "colab": {
          "base_uri": "https://localhost:8080/"
        },
        "id": "UvRDOBY1g4WI",
        "outputId": "120ce575-81a1-4d24-eccf-64c6ba9f7b32"
      },
      "source": [
        "mydata = int(input(\"Enter a number:\"))"
      ],
      "execution_count": null,
      "outputs": [
        {
          "output_type": "stream",
          "text": [
            "Enter a number:10\n"
          ],
          "name": "stdout"
        }
      ]
    },
    {
      "cell_type": "code",
      "metadata": {
        "id": "-KP3Lo7Ohw30"
      },
      "source": [
        "#mydata = int(mydata)"
      ],
      "execution_count": null,
      "outputs": []
    },
    {
      "cell_type": "code",
      "metadata": {
        "colab": {
          "base_uri": "https://localhost:8080/"
        },
        "id": "yka7EWMzhAaH",
        "outputId": "7d511dc6-2aaf-4029-d7ba-e12637a69d65"
      },
      "source": [
        "type(mydata)"
      ],
      "execution_count": null,
      "outputs": [
        {
          "output_type": "execute_result",
          "data": {
            "text/plain": [
              "int"
            ]
          },
          "metadata": {
            "tags": []
          },
          "execution_count": 25
        }
      ]
    },
    {
      "cell_type": "code",
      "metadata": {
        "colab": {
          "base_uri": "https://localhost:8080/",
          "height": 35
        },
        "id": "JGJM43jBhb_u",
        "outputId": "ec7e1fd1-f942-467e-ba3e-bfa91d30ddc2"
      },
      "source": [
        "mydata"
      ],
      "execution_count": null,
      "outputs": [
        {
          "output_type": "execute_result",
          "data": {
            "application/vnd.google.colaboratory.intrinsic+json": {
              "type": "string"
            },
            "text/plain": [
              "'10'"
            ]
          },
          "metadata": {
            "tags": []
          },
          "execution_count": 19
        }
      ]
    },
    {
      "cell_type": "code",
      "metadata": {
        "colab": {
          "base_uri": "https://localhost:8080/"
        },
        "id": "otQiB9r2hmiz",
        "outputId": "64aba01d-4ab2-4ded-bf7f-40f9e5435052"
      },
      "source": [
        "id(mydata)"
      ],
      "execution_count": null,
      "outputs": [
        {
          "output_type": "execute_result",
          "data": {
            "text/plain": [
              "139665866815280"
            ]
          },
          "metadata": {
            "tags": []
          },
          "execution_count": 21
        }
      ]
    },
    {
      "cell_type": "code",
      "metadata": {
        "colab": {
          "base_uri": "https://localhost:8080/"
        },
        "id": "WzWLQTxahfJo",
        "outputId": "dc7d1ae0-f158-4c8b-f02c-031dfaeabf4d"
      },
      "source": [
        "print(mydata)"
      ],
      "execution_count": null,
      "outputs": [
        {
          "output_type": "stream",
          "text": [
            "10\n"
          ],
          "name": "stdout"
        }
      ]
    },
    {
      "cell_type": "code",
      "metadata": {
        "colab": {
          "base_uri": "https://localhost:8080/"
        },
        "id": "9XmszUtRkQEg",
        "outputId": "c8c9a88a-ad3f-48e1-8365-b12d4b616485"
      },
      "source": [
        "153%10"
      ],
      "execution_count": null,
      "outputs": [
        {
          "output_type": "execute_result",
          "data": {
            "text/plain": [
              "3"
            ]
          },
          "metadata": {
            "tags": []
          },
          "execution_count": 7
        }
      ]
    },
    {
      "cell_type": "code",
      "metadata": {
        "colab": {
          "base_uri": "https://localhost:8080/"
        },
        "id": "xhHNyxOTH502",
        "outputId": "81ce18e6-793d-44d6-c43e-12fec30f39e0"
      },
      "source": [
        "153//10"
      ],
      "execution_count": null,
      "outputs": [
        {
          "output_type": "execute_result",
          "data": {
            "text/plain": [
              "15"
            ]
          },
          "metadata": {
            "tags": []
          },
          "execution_count": 15
        }
      ]
    },
    {
      "cell_type": "code",
      "metadata": {
        "colab": {
          "base_uri": "https://localhost:8080/"
        },
        "id": "RkVQVv6NG_-v",
        "outputId": "f97b7bd0-3566-40ce-f043-f46535d83a12"
      },
      "source": [
        "15%10"
      ],
      "execution_count": null,
      "outputs": [
        {
          "output_type": "execute_result",
          "data": {
            "text/plain": [
              "5"
            ]
          },
          "metadata": {
            "tags": []
          },
          "execution_count": 8
        }
      ]
    },
    {
      "cell_type": "code",
      "metadata": {
        "colab": {
          "base_uri": "https://localhost:8080/"
        },
        "id": "723v5SBIH-HL",
        "outputId": "f252c513-1772-4b3d-9547-e731a1322645"
      },
      "source": [
        "15//10"
      ],
      "execution_count": null,
      "outputs": [
        {
          "output_type": "execute_result",
          "data": {
            "text/plain": [
              "1"
            ]
          },
          "metadata": {
            "tags": []
          },
          "execution_count": 16
        }
      ]
    },
    {
      "cell_type": "code",
      "metadata": {
        "colab": {
          "base_uri": "https://localhost:8080/"
        },
        "id": "82Cl9kCyHCgF",
        "outputId": "197c4aaa-e71c-4b38-9339-d143965a1141"
      },
      "source": [
        "1%10"
      ],
      "execution_count": null,
      "outputs": [
        {
          "output_type": "execute_result",
          "data": {
            "text/plain": [
              "1"
            ]
          },
          "metadata": {
            "tags": []
          },
          "execution_count": 10
        }
      ]
    },
    {
      "cell_type": "code",
      "metadata": {
        "colab": {
          "base_uri": "https://localhost:8080/"
        },
        "id": "wSY3FVHNkZhU",
        "outputId": "5f08900f-7374-4f84-c7c6-917f73deedc6"
      },
      "source": [
        "15//10"
      ],
      "execution_count": null,
      "outputs": [
        {
          "output_type": "execute_result",
          "data": {
            "text/plain": [
              "1"
            ]
          },
          "metadata": {
            "tags": []
          },
          "execution_count": 39
        }
      ]
    },
    {
      "cell_type": "markdown",
      "metadata": {
        "id": "4oJ4dRtGlXLG"
      },
      "source": [
        "Floor"
      ]
    },
    {
      "cell_type": "code",
      "metadata": {
        "colab": {
          "base_uri": "https://localhost:8080/"
        },
        "id": "xGci4g8RHXHs",
        "outputId": "ab52d3d3-9919-457e-a2c6-39c261e0a23c"
      },
      "source": [
        "9//2"
      ],
      "execution_count": null,
      "outputs": [
        {
          "output_type": "execute_result",
          "data": {
            "text/plain": [
              "4"
            ]
          },
          "metadata": {
            "tags": []
          },
          "execution_count": 14
        }
      ]
    },
    {
      "cell_type": "code",
      "metadata": {
        "colab": {
          "base_uri": "https://localhost:8080/"
        },
        "id": "x7Sr_sBek7cB",
        "outputId": "aa66dd19-c295-4039-e35d-44d8a97e699c"
      },
      "source": [
        "type(9//2)"
      ],
      "execution_count": null,
      "outputs": [
        {
          "output_type": "execute_result",
          "data": {
            "text/plain": [
              "int"
            ]
          },
          "metadata": {
            "tags": []
          },
          "execution_count": 13
        }
      ]
    },
    {
      "cell_type": "code",
      "metadata": {
        "colab": {
          "base_uri": "https://localhost:8080/"
        },
        "id": "AeAnkSPIHbzc",
        "outputId": "39d27094-19d1-491f-e56a-bd71da686ad1"
      },
      "source": [
        "9/2"
      ],
      "execution_count": null,
      "outputs": [
        {
          "output_type": "execute_result",
          "data": {
            "text/plain": [
              "4.5"
            ]
          },
          "metadata": {
            "tags": []
          },
          "execution_count": 11
        }
      ]
    },
    {
      "cell_type": "code",
      "metadata": {
        "colab": {
          "base_uri": "https://localhost:8080/"
        },
        "id": "OCHoAeG5lPlS",
        "outputId": "6fac5374-b90e-433b-a0a8-8a5031f85ee4"
      },
      "source": [
        "type(9/2)"
      ],
      "execution_count": null,
      "outputs": [
        {
          "output_type": "execute_result",
          "data": {
            "text/plain": [
              "float"
            ]
          },
          "metadata": {
            "tags": []
          },
          "execution_count": 12
        }
      ]
    },
    {
      "cell_type": "code",
      "metadata": {
        "colab": {
          "base_uri": "https://localhost:8080/"
        },
        "id": "edcF1oA3bEdP",
        "outputId": "17cc8a77-680a-4465-90c7-943b82d23b19"
      },
      "source": [
        "#1\r\n",
        "n = int(input(\"enter number = \"))\r\n",
        "j = n\r\n",
        "sum =0\r\n",
        "while n>0:\r\n",
        "   a = n%10\r\n",
        "   n = n//10\r\n",
        "   print(\"Cube of\",a*a*a)\r\n",
        "   sum += a*a*a\r\n",
        "   \r\n",
        "print(sum)\r\n",
        "if sum == j:\r\n",
        "   print(\" Number is Armstrong\")\r\n",
        "else:\r\n",
        "   print(\" Number is not Armstrong \")"
      ],
      "execution_count": null,
      "outputs": [
        {
          "output_type": "stream",
          "text": [
            "enter number = 153\n",
            "Cube of 27\n",
            "Cube of 125\n",
            "Cube of 1\n",
            "153\n",
            " Number is Armstrong\n"
          ],
          "name": "stdout"
        }
      ]
    },
    {
      "cell_type": "markdown",
      "metadata": {
        "id": "6FhBKEuRfEQQ"
      },
      "source": [
        "#Write a Python program to check whether three given lengths (integers) of three sides form a right triangle. Print \"Yes\" if the given sides form a right triangle otherwise print \"No\""
      ]
    },
    {
      "cell_type": "code",
      "metadata": {
        "colab": {
          "base_uri": "https://localhost:8080/"
        },
        "id": "jjIJ908Bn8Wz",
        "outputId": "ffb97b30-0978-44b8-f0f9-7232a7401999"
      },
      "source": [
        "5**2+4**2 == 3**2\r\n"
      ],
      "execution_count": null,
      "outputs": [
        {
          "output_type": "execute_result",
          "data": {
            "text/plain": [
              "False"
            ]
          },
          "metadata": {
            "tags": []
          },
          "execution_count": 47
        }
      ]
    },
    {
      "cell_type": "code",
      "metadata": {
        "colab": {
          "base_uri": "https://localhost:8080/"
        },
        "id": "-GNEg88ffIvY",
        "outputId": "ac8c6658-6402-44c0-b57c-1e98a9d27d71"
      },
      "source": [
        "#2\r\n",
        "a = int(input(\" Enter a = \"))\r\n",
        "b = int(input(\" Enter b = \"))\r\n",
        "c = int(input(\" Enter c = \"))\r\n",
        "\r\n",
        "if (a**2 +b**2 == c**2 or a**2 +c**2 == b**2 or b**2 +c**2 == a**2 ):\r\n",
        "   print(\" Yes, the given sides form a right triangle\")\r\n",
        "else:\r\n",
        "   print(\" No, the given sides doesn't form a right triangle \")\r\n"
      ],
      "execution_count": null,
      "outputs": [
        {
          "output_type": "stream",
          "text": [
            " Enter a = 5\n",
            " Enter b = 4\n",
            " Enter c = 3\n",
            " Yes, the given sides form a right triangle\n"
          ],
          "name": "stdout"
        }
      ]
    },
    {
      "cell_type": "code",
      "metadata": {
        "colab": {
          "base_uri": "https://localhost:8080/"
        },
        "id": "oo8deKDtpQYM",
        "outputId": "1de72eb5-7ac9-4b3f-f55c-c3918762fa34"
      },
      "source": [
        "h=int(input(\"enter the height of triangle\"))\r\n",
        "b=int(input(\"enter the base\"))\r\n",
        "hp=int(input(\"enter the hypotenuse\"))\r\n",
        "if ((h**2)+(b**2))**0.5==hp:\r\n",
        "  print(\"yes\")\r\n",
        "else:\r\n",
        "  print(\"No\")"
      ],
      "execution_count": null,
      "outputs": [
        {
          "output_type": "stream",
          "text": [
            "enter the height of triangle4\n",
            "enter the base3\n",
            "enter the hypotenuse5\n",
            "yes\n"
          ],
          "name": "stdout"
        }
      ]
    },
    {
      "cell_type": "code",
      "metadata": {
        "colab": {
          "base_uri": "https://localhost:8080/"
        },
        "id": "KoXjgaKgpsaz",
        "outputId": "6de20a21-234d-43d0-d639-3902d51e315f"
      },
      "source": [
        "print(\"Input three integers(sides of a triangle)\")\r\n",
        "int_num = list(map(int,input().split()))\r\n",
        "x,y,z = sorted(int_num) #\r\n",
        "if x**2+y**2==z**2:\r\n",
        "    print('Yes')\r\n",
        "else:\r\n",
        "    print('No')"
      ],
      "execution_count": null,
      "outputs": [
        {
          "output_type": "stream",
          "text": [
            "Input three integers(sides of a triangle)\n",
            "5 4 3\n",
            "Yes\n"
          ],
          "name": "stdout"
        }
      ]
    },
    {
      "cell_type": "markdown",
      "metadata": {
        "id": "R2S_DO9zfS-Q"
      },
      "source": [
        "#Write a Python program to print the number of prime numbers which are less than or equal to a given integer.\r\n"
      ]
    },
    {
      "cell_type": "code",
      "metadata": {
        "colab": {
          "base_uri": "https://localhost:8080/"
        },
        "id": "gnf17pQSvuOp",
        "outputId": "ecbec8f6-4a87-466c-ce93-ee8342cad5ca"
      },
      "source": [
        "num=15\r\n",
        "for i in range(2,num):\r\n",
        "      print(i)\r\n",
        "      if (num % i) == 0:\r\n",
        "          print(\"Inside break\")\r\n",
        "          break\r\n",
        "else:\r\n",
        "    print(\"Prime Number\")"
      ],
      "execution_count": null,
      "outputs": [
        {
          "output_type": "stream",
          "text": [
            "2\n",
            "3\n",
            "Inside break\n"
          ],
          "name": "stdout"
        }
      ]
    },
    {
      "cell_type": "code",
      "metadata": {
        "colab": {
          "base_uri": "https://localhost:8080/"
        },
        "id": "BXOxnLT5wwzn",
        "outputId": "854d28e2-13b9-47ff-f7f5-6ad675ca7f0f"
      },
      "source": [
        "for num in range(2,10):\r\n",
        "  print(num)"
      ],
      "execution_count": null,
      "outputs": [
        {
          "output_type": "stream",
          "text": [
            "2\n",
            "3\n",
            "4\n",
            "5\n",
            "6\n",
            "7\n",
            "8\n",
            "9\n"
          ],
          "name": "stdout"
        }
      ]
    },
    {
      "cell_type": "code",
      "metadata": {
        "colab": {
          "base_uri": "https://localhost:8080/"
        },
        "id": "-Bgdjsrlbrae",
        "outputId": "8517af1c-d76b-4742-db93-97ae63352970"
      },
      "source": [
        "#3\r\n",
        "N = int(input(\"Enter number: \"))\r\n",
        "j=0\r\n",
        "for num in range(2,N+1):\r\n",
        "   if num > 1: \r\n",
        "     for i in range(2,num):\r\n",
        "        if (num % i) == 0:\r\n",
        "           break\r\n",
        "     else:\r\n",
        "         print(num)\r\n",
        "         j+=1 #j=j+1\r\n",
        "print(\"Total number of Prime numbers: \",j)"
      ],
      "execution_count": null,
      "outputs": [
        {
          "output_type": "stream",
          "text": [
            "Enter number: 11\n",
            "2\n",
            "3\n",
            "5\n",
            "7\n",
            "11\n",
            "Total number of Prime numbers:  5\n"
          ],
          "name": "stdout"
        }
      ]
    },
    {
      "cell_type": "code",
      "metadata": {
        "colab": {
          "base_uri": "https://localhost:8080/"
        },
        "id": "BfUFcibzvMFL",
        "outputId": "79ae40d8-d4b2-4917-8aad-2d3c4d383dc9"
      },
      "source": [
        "def count_of_primes(n):\r\n",
        "    count = 0\r\n",
        "    \r\n",
        "    for i in range(n):\r\n",
        "        if i < 1:\r\n",
        "            continue\r\n",
        "        for j in range(2,i):\r\n",
        "            if (i % j) == 0:\r\n",
        "                break\r\n",
        "        else:\r\n",
        "            count += 1\r\n",
        "            print(i)\r\n",
        "    return count\r\n",
        "\r\n",
        "print(count_of_primes(33))"
      ],
      "execution_count": null,
      "outputs": [
        {
          "output_type": "stream",
          "text": [
            "1\n",
            "2\n",
            "3\n",
            "5\n",
            "7\n",
            "11\n",
            "13\n",
            "17\n",
            "19\n",
            "23\n",
            "29\n",
            "31\n",
            "12\n"
          ],
          "name": "stdout"
        }
      ]
    },
    {
      "cell_type": "markdown",
      "metadata": {
        "id": "gMYLdr3GfpTa"
      },
      "source": [
        "#Write a python program to  convert Celsius  into  Fahrenheit."
      ]
    },
    {
      "cell_type": "code",
      "metadata": {
        "colab": {
          "base_uri": "https://localhost:8080/"
        },
        "id": "tgjMZ1FgeuwQ",
        "outputId": "fca8b831-fded-469c-efc7-c26e4d2ffea8"
      },
      "source": [
        "#4\r\n",
        "celsius = float(input('Enter temperature in Celsius: '))\r\n",
        "fahrenheit = (celsius * 1.8) + 32  \r\n",
        "print('%0.2f  Celsius is equal to %0.2f degree Fahrenheit'%(celsius,fahrenheit))"
      ],
      "execution_count": null,
      "outputs": [
        {
          "output_type": "stream",
          "text": [
            "Enter temperature in Celsius: 30\n",
            "30.00  Celsius is equal to 86.00 degree Fahrenheit\n"
          ],
          "name": "stdout"
        }
      ]
    },
    {
      "cell_type": "markdown",
      "metadata": {
        "id": "2GNxBcZjfvZq"
      },
      "source": [
        "#Write a Python program that will accept the base and height of a triangle and compute the area. "
      ]
    },
    {
      "cell_type": "code",
      "metadata": {
        "id": "lytx-VITe1Kx"
      },
      "source": [
        ""
      ],
      "execution_count": null,
      "outputs": []
    },
    {
      "cell_type": "code",
      "metadata": {
        "colab": {
          "base_uri": "https://localhost:8080/"
        },
        "id": "r1bZi1V_frZm",
        "outputId": "118e1464-97d8-4444-b275-e6384daceaa9"
      },
      "source": [
        "#5\r\n",
        "b = float(input(\"Enter base = \"))\r\n",
        "h = float(input(\"Enter height = \"))\r\n",
        "area = 0.5 * b * h\r\n",
        "print(\" Area = %0.2f \" % area)"
      ],
      "execution_count": null,
      "outputs": [
        {
          "output_type": "stream",
          "text": [
            "Enter base = 10\n",
            "Enter height = 10\n",
            " Area = 50.00 \n"
          ],
          "name": "stdout"
        }
      ]
    },
    {
      "cell_type": "code",
      "metadata": {
        "id": "-d0qpfNYgGqf",
        "colab": {
          "base_uri": "https://localhost:8080/"
        },
        "outputId": "2b5ef2f9-616b-4733-ed30-4d5afa4566c7"
      },
      "source": [
        "print('{} and {}'.format('Mango', 'Apple')) \r\n",
        "print('{0} and {1}'.format('Mango', 'Apple')) \r\n",
        "print('{1} and {0}'.format('Mango', 'Apple')) "
      ],
      "execution_count": null,
      "outputs": [
        {
          "output_type": "stream",
          "text": [
            "Mango and Apple\n",
            "Mango and Apple\n",
            "Apple and Mango\n"
          ],
          "name": "stdout"
        }
      ]
    },
    {
      "cell_type": "code",
      "metadata": {
        "id": "gncAUBL1e3NN"
      },
      "source": [
        "def sum():\r\n",
        "  number1=int(input(\"Enter First Number\"))\r\n",
        "  number2=int(input(\"Enter Second Number\"))\r\n",
        "  print(\"Sum:\",number1+number2)"
      ],
      "execution_count": null,
      "outputs": []
    },
    {
      "cell_type": "code",
      "metadata": {
        "colab": {
          "base_uri": "https://localhost:8080/"
        },
        "id": "fDYZ7LHzfkti",
        "outputId": "31ef8b25-b826-47b0-d925-539e446c51c7"
      },
      "source": [
        "sum()"
      ],
      "execution_count": null,
      "outputs": [
        {
          "output_type": "stream",
          "text": [
            "Enter First Number10\n",
            "Enter Second Number20\n",
            "Sum: 30\n"
          ],
          "name": "stdout"
        }
      ]
    },
    {
      "cell_type": "code",
      "metadata": {
        "id": "IDli3hVUfnuR"
      },
      "source": [
        "def sum(number1,number2=0,number3=0):\r\n",
        "  print(\"Sum:\",number1+number2+number3)"
      ],
      "execution_count": null,
      "outputs": []
    },
    {
      "cell_type": "code",
      "metadata": {
        "colab": {
          "base_uri": "https://localhost:8080/"
        },
        "id": "iYeJc5BxfzpZ",
        "outputId": "993c85bb-f8fd-4f19-abd2-884f60c9e5ea"
      },
      "source": [
        "sum(10,10,10)"
      ],
      "execution_count": null,
      "outputs": [
        {
          "output_type": "stream",
          "text": [
            "Sum: 30\n"
          ],
          "name": "stdout"
        }
      ]
    },
    {
      "cell_type": "code",
      "metadata": {
        "colab": {
          "base_uri": "https://localhost:8080/"
        },
        "id": "PHrSiPthf7zc",
        "outputId": "a83dc2a6-f699-45f9-a793-338a6d393f8c"
      },
      "source": [
        "round(7.93679,2)"
      ],
      "execution_count": null,
      "outputs": [
        {
          "output_type": "execute_result",
          "data": {
            "text/plain": [
              "7.94"
            ]
          },
          "metadata": {
            "tags": []
          },
          "execution_count": 68
        }
      ]
    },
    {
      "cell_type": "code",
      "metadata": {
        "colab": {
          "base_uri": "https://localhost:8080/"
        },
        "id": "ioycYqzAh9B_",
        "outputId": "e5f4c719-d2f8-4cd1-d86c-1952ac5ff4ce"
      },
      "source": [
        "round(7.2)"
      ],
      "execution_count": null,
      "outputs": [
        {
          "output_type": "execute_result",
          "data": {
            "text/plain": [
              "7"
            ]
          },
          "metadata": {
            "tags": []
          },
          "execution_count": 50
        }
      ]
    },
    {
      "cell_type": "code",
      "metadata": {
        "colab": {
          "base_uri": "https://localhost:8080/"
        },
        "id": "ZucOnUwJh-1A",
        "outputId": "d81325f3-3e0a-4d14-90f8-10ef2a6ee296"
      },
      "source": [
        "round(7.5)"
      ],
      "execution_count": null,
      "outputs": [
        {
          "output_type": "execute_result",
          "data": {
            "text/plain": [
              "8"
            ]
          },
          "metadata": {
            "tags": []
          },
          "execution_count": 51
        }
      ]
    },
    {
      "cell_type": "code",
      "metadata": {
        "colab": {
          "base_uri": "https://localhost:8080/"
        },
        "id": "qBynox6giAx_",
        "outputId": "2a226c15-d9b2-49cb-af87-8e4619a25cbd"
      },
      "source": [
        "9/2"
      ],
      "execution_count": null,
      "outputs": [
        {
          "output_type": "execute_result",
          "data": {
            "text/plain": [
              "4.5"
            ]
          },
          "metadata": {
            "tags": []
          },
          "execution_count": 73
        }
      ]
    },
    {
      "cell_type": "code",
      "metadata": {
        "id": "JU789n3KjNof"
      },
      "source": [
        "import math"
      ],
      "execution_count": null,
      "outputs": []
    },
    {
      "cell_type": "code",
      "metadata": {
        "colab": {
          "base_uri": "https://localhost:8080/"
        },
        "id": "65uL1dztkRIJ",
        "outputId": "f7cee067-b0ca-461d-cead-6913ffea061d"
      },
      "source": [
        "dir(math)"
      ],
      "execution_count": null,
      "outputs": [
        {
          "output_type": "execute_result",
          "data": {
            "text/plain": [
              "['__doc__',\n",
              " '__loader__',\n",
              " '__name__',\n",
              " '__package__',\n",
              " '__spec__',\n",
              " 'acos',\n",
              " 'acosh',\n",
              " 'asin',\n",
              " 'asinh',\n",
              " 'atan',\n",
              " 'atan2',\n",
              " 'atanh',\n",
              " 'ceil',\n",
              " 'copysign',\n",
              " 'cos',\n",
              " 'cosh',\n",
              " 'degrees',\n",
              " 'e',\n",
              " 'erf',\n",
              " 'erfc',\n",
              " 'exp',\n",
              " 'expm1',\n",
              " 'fabs',\n",
              " 'factorial',\n",
              " 'floor',\n",
              " 'fmod',\n",
              " 'frexp',\n",
              " 'fsum',\n",
              " 'gamma',\n",
              " 'gcd',\n",
              " 'hypot',\n",
              " 'inf',\n",
              " 'isclose',\n",
              " 'isfinite',\n",
              " 'isinf',\n",
              " 'isnan',\n",
              " 'ldexp',\n",
              " 'lgamma',\n",
              " 'log',\n",
              " 'log10',\n",
              " 'log1p',\n",
              " 'log2',\n",
              " 'modf',\n",
              " 'nan',\n",
              " 'pi',\n",
              " 'pow',\n",
              " 'radians',\n",
              " 'sin',\n",
              " 'sinh',\n",
              " 'sqrt',\n",
              " 'tan',\n",
              " 'tanh',\n",
              " 'tau',\n",
              " 'trunc']"
            ]
          },
          "metadata": {
            "tags": []
          },
          "execution_count": 79
        }
      ]
    },
    {
      "cell_type": "code",
      "metadata": {
        "colab": {
          "base_uri": "https://localhost:8080/"
        },
        "id": "rYb3ELbzjQWx",
        "outputId": "8f273d53-3f86-4b98-c49e-b01fe40ece53"
      },
      "source": [
        "math.ceil(4.1)"
      ],
      "execution_count": null,
      "outputs": [
        {
          "output_type": "execute_result",
          "data": {
            "text/plain": [
              "5"
            ]
          },
          "metadata": {
            "tags": []
          },
          "execution_count": 75
        }
      ]
    },
    {
      "cell_type": "code",
      "metadata": {
        "colab": {
          "base_uri": "https://localhost:8080/"
        },
        "id": "0jAoIFjzjWn6",
        "outputId": "c2cb25ff-7918-41df-b4b7-3c74716f4678"
      },
      "source": [
        "math.pi"
      ],
      "execution_count": null,
      "outputs": [
        {
          "output_type": "execute_result",
          "data": {
            "text/plain": [
              "3.141592653589793"
            ]
          },
          "metadata": {
            "tags": []
          },
          "execution_count": 76
        }
      ]
    },
    {
      "cell_type": "code",
      "metadata": {
        "colab": {
          "base_uri": "https://localhost:8080/"
        },
        "id": "fXABtv-Mj0TO",
        "outputId": "57fb08a7-f629-4361-d1a1-e205462e4b51"
      },
      "source": [
        "100*3.14"
      ],
      "execution_count": null,
      "outputs": [
        {
          "output_type": "execute_result",
          "data": {
            "text/plain": [
              "314.0"
            ]
          },
          "metadata": {
            "tags": []
          },
          "execution_count": 77
        }
      ]
    },
    {
      "cell_type": "code",
      "metadata": {
        "colab": {
          "base_uri": "https://localhost:8080/"
        },
        "id": "8GoRWMHRj7NY",
        "outputId": "d7ea5d98-6870-47ac-8fae-5f832a4dbe6f"
      },
      "source": [
        "100*(math.pi)"
      ],
      "execution_count": null,
      "outputs": [
        {
          "output_type": "execute_result",
          "data": {
            "text/plain": [
              "314.1592653589793"
            ]
          },
          "metadata": {
            "tags": []
          },
          "execution_count": 78
        }
      ]
    },
    {
      "cell_type": "code",
      "metadata": {
        "colab": {
          "base_uri": "https://localhost:8080/"
        },
        "id": "BHhEg3HSj9xc",
        "outputId": "c44ab1a5-2ef6-4b59-f6f5-41b425943e00"
      },
      "source": [
        "type(math.pow(2,3))"
      ],
      "execution_count": null,
      "outputs": [
        {
          "output_type": "execute_result",
          "data": {
            "text/plain": [
              "float"
            ]
          },
          "metadata": {
            "tags": []
          },
          "execution_count": 81
        }
      ]
    },
    {
      "cell_type": "code",
      "metadata": {
        "colab": {
          "base_uri": "https://localhost:8080/"
        },
        "id": "lmXv3sRAkb4A",
        "outputId": "df9ea08b-18b6-409e-87ac-1f3a6ce82236"
      },
      "source": [
        "math.pow(2,3)"
      ],
      "execution_count": null,
      "outputs": [
        {
          "output_type": "execute_result",
          "data": {
            "text/plain": [
              "8.0"
            ]
          },
          "metadata": {
            "tags": []
          },
          "execution_count": 82
        }
      ]
    },
    {
      "cell_type": "markdown",
      "metadata": {
        "id": "TSCcOBshkneO"
      },
      "source": [
        "#Write a program to find area of a circle"
      ]
    },
    {
      "cell_type": "code",
      "metadata": {
        "id": "V7mINpvJmLZG"
      },
      "source": [
        "radius=10"
      ],
      "execution_count": null,
      "outputs": []
    },
    {
      "cell_type": "code",
      "metadata": {
        "colab": {
          "base_uri": "https://localhost:8080/"
        },
        "id": "JRyTlP_0mGDK",
        "outputId": "66053d99-1fdb-4fd3-a5d6-473c4486335b"
      },
      "source": [
        "math.pi*math.pow(radius,2)"
      ],
      "execution_count": null,
      "outputs": [
        {
          "output_type": "execute_result",
          "data": {
            "text/plain": [
              "314.1592653589793"
            ]
          },
          "metadata": {
            "tags": []
          },
          "execution_count": 86
        }
      ]
    },
    {
      "cell_type": "code",
      "metadata": {
        "id": "FKpdopSlkgnK"
      },
      "source": [
        "import math\r\n",
        "math.pow()\r\n",
        "math.pi"
      ],
      "execution_count": null,
      "outputs": []
    },
    {
      "cell_type": "code",
      "metadata": {
        "id": "eYi2c823mtNU"
      },
      "source": [
        "from math import pow,pi,ceil\r\n",
        "pi*pow(radius,2)"
      ],
      "execution_count": null,
      "outputs": []
    },
    {
      "cell_type": "code",
      "metadata": {
        "colab": {
          "base_uri": "https://localhost:8080/"
        },
        "id": "slaKsEdBmvfH",
        "outputId": "8200bf7f-a58b-44d5-a19e-4e34400ec80d"
      },
      "source": [
        "pi*pow(radius,2)"
      ],
      "execution_count": null,
      "outputs": [
        {
          "output_type": "execute_result",
          "data": {
            "text/plain": [
              "314.1592653589793"
            ]
          },
          "metadata": {
            "tags": []
          },
          "execution_count": 89
        }
      ]
    },
    {
      "cell_type": "code",
      "metadata": {
        "colab": {
          "base_uri": "https://localhost:8080/"
        },
        "id": "O-Oeg3ZandH6",
        "outputId": "ae137276-cded-410e-9b18-48533ca638b2"
      },
      "source": [
        "import math\r\n",
        "math.factorial(4)"
      ],
      "execution_count": null,
      "outputs": [
        {
          "output_type": "execute_result",
          "data": {
            "text/plain": [
              "24"
            ]
          },
          "metadata": {
            "tags": []
          },
          "execution_count": 92
        }
      ]
    },
    {
      "cell_type": "code",
      "metadata": {
        "colab": {
          "base_uri": "https://localhost:8080/"
        },
        "id": "6zxtxE3Qm6vL",
        "outputId": "2537c108-eb50-4a86-ecb0-3f1729a0d082"
      },
      "source": [
        "from math import factorial\r\n",
        "factorial(4)"
      ],
      "execution_count": null,
      "outputs": [
        {
          "output_type": "execute_result",
          "data": {
            "text/plain": [
              "24"
            ]
          },
          "metadata": {
            "tags": []
          },
          "execution_count": 93
        }
      ]
    },
    {
      "cell_type": "markdown",
      "metadata": {
        "id": "OCrqeUVjoFFp"
      },
      "source": [
        "Write a Python code to Check if a Number is Positive, Negative or 0\r\n"
      ]
    },
    {
      "cell_type": "code",
      "metadata": {
        "colab": {
          "base_uri": "https://localhost:8080/",
          "height": 166
        },
        "id": "9i3vsrtKoEXT",
        "outputId": "54440405-a888-45e7-d51e-946637fe4d1d"
      },
      "source": [
        "factorial(-4)"
      ],
      "execution_count": null,
      "outputs": [
        {
          "output_type": "error",
          "ename": "ValueError",
          "evalue": "ignored",
          "traceback": [
            "\u001b[0;31m---------------------------------------------------------------------------\u001b[0m",
            "\u001b[0;31mValueError\u001b[0m                                Traceback (most recent call last)",
            "\u001b[0;32m<ipython-input-94-ba00eef0cbbf>\u001b[0m in \u001b[0;36m<module>\u001b[0;34m()\u001b[0m\n\u001b[0;32m----> 1\u001b[0;31m \u001b[0mfactorial\u001b[0m\u001b[0;34m(\u001b[0m\u001b[0;34m-\u001b[0m\u001b[0;36m4\u001b[0m\u001b[0;34m)\u001b[0m\u001b[0;34m\u001b[0m\u001b[0;34m\u001b[0m\u001b[0m\n\u001b[0m",
            "\u001b[0;31mValueError\u001b[0m: factorial() not defined for negative values"
          ]
        }
      ]
    },
    {
      "cell_type": "code",
      "metadata": {
        "colab": {
          "base_uri": "https://localhost:8080/"
        },
        "id": "VrwlhkkMnWv4",
        "outputId": "468cd4fd-fd3c-4c58-9314-115dae527f88"
      },
      "source": [
        "factorial(0)"
      ],
      "execution_count": null,
      "outputs": [
        {
          "output_type": "execute_result",
          "data": {
            "text/plain": [
              "1"
            ]
          },
          "metadata": {
            "tags": []
          },
          "execution_count": 95
        }
      ]
    },
    {
      "cell_type": "markdown",
      "metadata": {
        "id": "mQAvoUe7okud"
      },
      "source": [
        "While/For // Recursion"
      ]
    },
    {
      "cell_type": "code",
      "metadata": {
        "id": "cFkaKaf-oSnm"
      },
      "source": [
        "try\r\n",
        "\r\n",
        "raise \r\n",
        "\r\n",
        "except"
      ],
      "execution_count": null,
      "outputs": []
    }
  ]
}