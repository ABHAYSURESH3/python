{
  "nbformat": 4,
  "nbformat_minor": 0,
  "metadata": {
    "colab": {
      "name": "CST 283 Revision Module 2",
      "provenance": []
    },
    "kernelspec": {
      "name": "python3",
      "display_name": "Python 3"
    }
  },
  "cells": [
    {
      "cell_type": "code",
      "metadata": {
        "colab": {
          "base_uri": "https://localhost:8080/"
        },
        "id": "Dvwu0tOAoLEV",
        "outputId": "13707133-4ef9-4822-c98d-dcf92c57c6a4"
      },
      "source": [
        "2<3 and 4 > 5"
      ],
      "execution_count": null,
      "outputs": [
        {
          "output_type": "execute_result",
          "data": {
            "text/plain": [
              "False"
            ]
          },
          "metadata": {
            "tags": []
          },
          "execution_count": 6
        }
      ]
    },
    {
      "cell_type": "code",
      "metadata": {
        "id": "JU9h1XQ0oQLt"
      },
      "source": [
        "if (2<3 and 4 > 5):\r\n",
        "  print(\"Correct\")"
      ],
      "execution_count": null,
      "outputs": []
    },
    {
      "cell_type": "code",
      "metadata": {
        "id": "DEqOxD7joWR9"
      },
      "source": [
        "1996\r\n",
        "\r\n",
        "2005"
      ],
      "execution_count": null,
      "outputs": []
    },
    {
      "cell_type": "code",
      "metadata": {
        "colab": {
          "base_uri": "https://localhost:8080/"
        },
        "id": "n3_4s6d9o_NB",
        "outputId": "5b968575-952d-4c02-be20-c728a8c52572"
      },
      "source": [
        "myvalue =59\r\n",
        "if (myvalue < 100):\r\n",
        "  if (myvalue < 50):\r\n",
        "    print(\"My Value is less than 50\")\r\n",
        "  else:\r\n",
        "    print(\"My value is between 50 and 100\")\r\n",
        "else:\r\n",
        "  print(\"My value is greater than 100\")"
      ],
      "execution_count": null,
      "outputs": [
        {
          "output_type": "stream",
          "text": [
            "My value is between 50 and 100\n"
          ],
          "name": "stdout"
        }
      ]
    },
    {
      "cell_type": "code",
      "metadata": {
        "colab": {
          "base_uri": "https://localhost:8080/"
        },
        "id": "c7uE9cFktGve",
        "outputId": "4e1a91d4-e0d6-4771-eef4-729cc73383c2"
      },
      "source": [
        "myvalue =110\r\n",
        "if (myvalue > 100):\r\n",
        "  print(\"My value is greater than 100\")\r\n",
        "elif (myvalue < 50):\r\n",
        "    print(\"My Value is less than 50\")\r\n",
        "elif ():\r\n",
        "\r\n",
        "elif ():\r\n",
        "\r\n",
        "else:\r\n",
        "    print(\"My value is between 50 and 100\")\r\n",
        "\r\n",
        "  "
      ],
      "execution_count": null,
      "outputs": [
        {
          "output_type": "stream",
          "text": [
            "My value is greater than 100\n"
          ],
          "name": "stdout"
        }
      ]
    },
    {
      "cell_type": "markdown",
      "metadata": {
        "id": "hXmY5iF7piRQ"
      },
      "source": [
        "#Write a program to check user entered year is leap year or not"
      ]
    },
    {
      "cell_type": "code",
      "metadata": {
        "colab": {
          "base_uri": "https://localhost:8080/"
        },
        "id": "99PLZ0TwpW0T",
        "outputId": "8ee47196-7d97-461f-8a1f-595b82449b2a"
      },
      "source": [
        "year = 3200\r\n",
        "if (year % 4) == 0:\r\n",
        "   if (year % 100) == 0:\r\n",
        "       if (year % 400) == 0:\r\n",
        "           print(\"{0} is a leap year\".format(year))\r\n",
        "       else:\r\n",
        "           print(\"{0} is not a leap year\".format(year))\r\n",
        "   else:\r\n",
        "       print(\"{0} is a leap year\".format(year))\r\n",
        "else:\r\n",
        "   print(\"{0} is not a leap year\".format(year))"
      ],
      "execution_count": null,
      "outputs": [
        {
          "output_type": "stream",
          "text": [
            "3200 is a leap year\n"
          ],
          "name": "stdout"
        }
      ]
    },
    {
      "cell_type": "code",
      "metadata": {
        "colab": {
          "base_uri": "https://localhost:8080/"
        },
        "id": "fTOSOCwyqI8C",
        "outputId": "979b0212-60ba-4468-9a0e-144766f70f06"
      },
      "source": [
        "2101/4 #NOT a Leap Year"
      ],
      "execution_count": null,
      "outputs": [
        {
          "output_type": "execute_result",
          "data": {
            "text/plain": [
              "525.25"
            ]
          },
          "metadata": {
            "tags": []
          },
          "execution_count": 12
        }
      ]
    },
    {
      "cell_type": "code",
      "metadata": {
        "colab": {
          "base_uri": "https://localhost:8080/"
        },
        "id": "ae2nEFyRqL-5",
        "outputId": "b2fe3f42-9d0a-48e0-e8ac-b6874e979231"
      },
      "source": [
        "print(1996/4) # Leap year\r\n",
        "print(1996/100) # Leap year"
      ],
      "execution_count": null,
      "outputs": [
        {
          "output_type": "stream",
          "text": [
            "499.0\n",
            "19.96\n"
          ],
          "name": "stdout"
        }
      ]
    },
    {
      "cell_type": "code",
      "metadata": {
        "colab": {
          "base_uri": "https://localhost:8080/"
        },
        "id": "G8zo1bmhqdRp",
        "outputId": "dedd0f88-5f0f-43c2-c24c-9a460e3e8ca5"
      },
      "source": [
        "print(2100/4) # Not Leap year\r\n",
        "print(2100/100) # Not Leap year\r\n",
        "print(2100/400) #Not Leap year"
      ],
      "execution_count": null,
      "outputs": [
        {
          "output_type": "stream",
          "text": [
            "525.0\n",
            "21.0\n",
            "5.25\n"
          ],
          "name": "stdout"
        }
      ]
    },
    {
      "cell_type": "code",
      "metadata": {
        "colab": {
          "base_uri": "https://localhost:8080/"
        },
        "id": "deoFx-56qs2F",
        "outputId": "d21e8bb9-679e-4eb3-9044-ca4702b3077a"
      },
      "source": [
        "print(3200/4) #  Leap year\r\n",
        "print(3200/100) #  Leap year\r\n",
        "print(3200/400) # Leap year"
      ],
      "execution_count": null,
      "outputs": [
        {
          "output_type": "stream",
          "text": [
            "800.0\n",
            "32.0\n",
            "8.0\n"
          ],
          "name": "stdout"
        }
      ]
    },
    {
      "cell_type": "code",
      "metadata": {
        "colab": {
          "base_uri": "https://localhost:8080/"
        },
        "id": "-0myEMW1rYty",
        "outputId": "d7b6c494-b112-4b54-baa5-133f95f55010"
      },
      "source": [
        "year=int(input(\"Enter the year:\"))\r\n",
        "if(year%4==0 and year%100!=0 or year%400==0):\r\n",
        "    print(\"This is a leap year\")\r\n",
        "else:\r\n",
        "    print(\"This isn't a leap year\")"
      ],
      "execution_count": null,
      "outputs": [
        {
          "output_type": "stream",
          "text": [
            "Enter the year:2105\n",
            "This isn't a leap year\n"
          ],
          "name": "stdout"
        }
      ]
    },
    {
      "cell_type": "code",
      "metadata": {
        "id": "dbzS9R3csprx"
      },
      "source": [
        "def sum1():\r\n",
        "  number1=int(input(\"Enter number\"))\r\n",
        "  number2=int(input(\"Enter number\"))\r\n",
        "  print(number1+number2)"
      ],
      "execution_count": null,
      "outputs": []
    },
    {
      "cell_type": "code",
      "metadata": {
        "colab": {
          "base_uri": "https://localhost:8080/"
        },
        "id": "dItrUG2Yx13M",
        "outputId": "f74f3da1-9409-4481-e53b-60ad487d0992"
      },
      "source": [
        "result =sum1()"
      ],
      "execution_count": null,
      "outputs": [
        {
          "output_type": "stream",
          "text": [
            "Enter number10\n",
            "Enter number20\n",
            "30\n"
          ],
          "name": "stdout"
        }
      ]
    },
    {
      "cell_type": "code",
      "metadata": {
        "colab": {
          "base_uri": "https://localhost:8080/"
        },
        "id": "5yJ6eivwyVE9",
        "outputId": "45111460-f465-42c9-94f6-4e098ed6928f"
      },
      "source": [
        "print(result)"
      ],
      "execution_count": null,
      "outputs": [
        {
          "output_type": "stream",
          "text": [
            "None\n"
          ],
          "name": "stdout"
        }
      ]
    },
    {
      "cell_type": "code",
      "metadata": {
        "id": "T85sAkWJx3Od"
      },
      "source": [
        "def sum2():\r\n",
        "  number1=int(input(\"Enter number\"))\r\n",
        "  number2=int(input(\"Enter number\"))\r\n",
        "  return number1+number2"
      ],
      "execution_count": null,
      "outputs": []
    },
    {
      "cell_type": "code",
      "metadata": {
        "colab": {
          "base_uri": "https://localhost:8080/"
        },
        "id": "go4uZBsKyHzh",
        "outputId": "9737828d-119f-4110-f2c3-e2034fd19b93"
      },
      "source": [
        "result =sum2()"
      ],
      "execution_count": null,
      "outputs": [
        {
          "output_type": "stream",
          "text": [
            "Enter number10\n",
            "Enter number30\n"
          ],
          "name": "stdout"
        }
      ]
    },
    {
      "cell_type": "code",
      "metadata": {
        "colab": {
          "base_uri": "https://localhost:8080/"
        },
        "id": "YHnxzY2EyIej",
        "outputId": "b112709d-260f-4676-9125-0ea50087751c"
      },
      "source": [
        "print(result)"
      ],
      "execution_count": null,
      "outputs": [
        {
          "output_type": "stream",
          "text": [
            "40\n"
          ],
          "name": "stdout"
        }
      ]
    },
    {
      "cell_type": "code",
      "metadata": {
        "id": "RM4iNp3dyo7d"
      },
      "source": [
        "def sum1_1(number1,number2=1000):\r\n",
        "  #print(number1)\r\n",
        "  #print(number2)\r\n",
        "  print(8/0)\r\n",
        "  print(\"Printing from sum 1_1:\",number1+number2)"
      ],
      "execution_count": null,
      "outputs": []
    },
    {
      "cell_type": "code",
      "metadata": {
        "colab": {
          "base_uri": "https://localhost:8080/"
        },
        "id": "dbMbv4lVy42P",
        "outputId": "7cdc81ac-9275-4f47-bb34-fab4055f5387"
      },
      "source": [
        "nu1=int(input(\"Enter number\"))\r\n",
        "sum1_1(nu1,200)"
      ],
      "execution_count": null,
      "outputs": [
        {
          "output_type": "stream",
          "text": [
            "Enter number10\n",
            "10\n",
            "200\n",
            "210\n"
          ],
          "name": "stdout"
        }
      ]
    },
    {
      "cell_type": "code",
      "metadata": {
        "id": "eBwpNOyxzMP8"
      },
      "source": [
        "def sum2_1(number1,number2=1000):\r\n",
        "  #print(number1)\r\n",
        "  #print(number2)\r\n",
        "  sum1_1(number1)\r\n",
        "  return(number1+number2)"
      ],
      "execution_count": null,
      "outputs": []
    },
    {
      "cell_type": "code",
      "metadata": {
        "colab": {
          "base_uri": "https://localhost:8080/"
        },
        "id": "MPkymoITz_Ga",
        "outputId": "8b4899b7-5c4c-4d2f-c162-99acd7b94e86"
      },
      "source": [
        "result=sum2_1(100,0)\r\n",
        "print(result)"
      ],
      "execution_count": null,
      "outputs": [
        {
          "output_type": "stream",
          "text": [
            "100\n",
            "0\n",
            "100\n"
          ],
          "name": "stdout"
        }
      ]
    },
    {
      "cell_type": "code",
      "metadata": {
        "id": "IEOXfdxZ0A8s"
      },
      "source": [
        "def mymain():\r\n",
        "  myresult=sum2_1(10)\r\n",
        "  print(\"Returned value from sum 2_1\",result)"
      ],
      "execution_count": null,
      "outputs": []
    },
    {
      "cell_type": "code",
      "metadata": {
        "colab": {
          "base_uri": "https://localhost:8080/",
          "height": 290
        },
        "id": "7wWDJsDp0aYy",
        "outputId": "b8ef3036-32aa-4a3e-fa9b-3071b96c9af9"
      },
      "source": [
        "mymain()"
      ],
      "execution_count": null,
      "outputs": [
        {
          "output_type": "error",
          "ename": "ZeroDivisionError",
          "evalue": "ignored",
          "traceback": [
            "\u001b[0;31m---------------------------------------------------------------------------\u001b[0m",
            "\u001b[0;31mZeroDivisionError\u001b[0m                         Traceback (most recent call last)",
            "\u001b[0;32m<ipython-input-81-6e1c8b414f83>\u001b[0m in \u001b[0;36m<module>\u001b[0;34m()\u001b[0m\n\u001b[0;32m----> 1\u001b[0;31m \u001b[0mmymain\u001b[0m\u001b[0;34m(\u001b[0m\u001b[0;34m)\u001b[0m\u001b[0;34m\u001b[0m\u001b[0;34m\u001b[0m\u001b[0m\n\u001b[0m",
            "\u001b[0;32m<ipython-input-77-3be1761edd6a>\u001b[0m in \u001b[0;36mmymain\u001b[0;34m()\u001b[0m\n\u001b[1;32m      1\u001b[0m \u001b[0;32mdef\u001b[0m \u001b[0mmymain\u001b[0m\u001b[0;34m(\u001b[0m\u001b[0;34m)\u001b[0m\u001b[0;34m:\u001b[0m\u001b[0;34m\u001b[0m\u001b[0;34m\u001b[0m\u001b[0m\n\u001b[0;32m----> 2\u001b[0;31m   \u001b[0mmyresult\u001b[0m\u001b[0;34m=\u001b[0m\u001b[0msum2_1\u001b[0m\u001b[0;34m(\u001b[0m\u001b[0;36m10\u001b[0m\u001b[0;34m)\u001b[0m\u001b[0;34m\u001b[0m\u001b[0;34m\u001b[0m\u001b[0m\n\u001b[0m\u001b[1;32m      3\u001b[0m   \u001b[0mprint\u001b[0m\u001b[0;34m(\u001b[0m\u001b[0;34m\"Returned value from sum 2_1\"\u001b[0m\u001b[0;34m,\u001b[0m\u001b[0mresult\u001b[0m\u001b[0;34m)\u001b[0m\u001b[0;34m\u001b[0m\u001b[0;34m\u001b[0m\u001b[0m\n",
            "\u001b[0;32m<ipython-input-72-89671f87e509>\u001b[0m in \u001b[0;36msum2_1\u001b[0;34m(number1, number2)\u001b[0m\n\u001b[1;32m      2\u001b[0m   \u001b[0;31m#print(number1)\u001b[0m\u001b[0;34m\u001b[0m\u001b[0;34m\u001b[0m\u001b[0;34m\u001b[0m\u001b[0m\n\u001b[1;32m      3\u001b[0m   \u001b[0;31m#print(number2)\u001b[0m\u001b[0;34m\u001b[0m\u001b[0;34m\u001b[0m\u001b[0;34m\u001b[0m\u001b[0m\n\u001b[0;32m----> 4\u001b[0;31m   \u001b[0msum1_1\u001b[0m\u001b[0;34m(\u001b[0m\u001b[0mnumber1\u001b[0m\u001b[0;34m)\u001b[0m\u001b[0;34m\u001b[0m\u001b[0;34m\u001b[0m\u001b[0m\n\u001b[0m\u001b[1;32m      5\u001b[0m   \u001b[0;32mreturn\u001b[0m\u001b[0;34m(\u001b[0m\u001b[0mnumber1\u001b[0m\u001b[0;34m+\u001b[0m\u001b[0mnumber2\u001b[0m\u001b[0;34m)\u001b[0m\u001b[0;34m\u001b[0m\u001b[0;34m\u001b[0m\u001b[0m\n",
            "\u001b[0;32m<ipython-input-80-1b69abcb8db8>\u001b[0m in \u001b[0;36msum1_1\u001b[0;34m(number1, number2)\u001b[0m\n\u001b[1;32m      2\u001b[0m   \u001b[0;31m#print(number1)\u001b[0m\u001b[0;34m\u001b[0m\u001b[0;34m\u001b[0m\u001b[0;34m\u001b[0m\u001b[0m\n\u001b[1;32m      3\u001b[0m   \u001b[0;31m#print(number2)\u001b[0m\u001b[0;34m\u001b[0m\u001b[0;34m\u001b[0m\u001b[0;34m\u001b[0m\u001b[0m\n\u001b[0;32m----> 4\u001b[0;31m   \u001b[0mprint\u001b[0m\u001b[0;34m(\u001b[0m\u001b[0;36m8\u001b[0m\u001b[0;34m/\u001b[0m\u001b[0;36m0\u001b[0m\u001b[0;34m)\u001b[0m\u001b[0;34m\u001b[0m\u001b[0;34m\u001b[0m\u001b[0m\n\u001b[0m\u001b[1;32m      5\u001b[0m   \u001b[0mprint\u001b[0m\u001b[0;34m(\u001b[0m\u001b[0;34m\"Printing from sum 1_1:\"\u001b[0m\u001b[0;34m,\u001b[0m\u001b[0mnumber1\u001b[0m\u001b[0;34m+\u001b[0m\u001b[0mnumber2\u001b[0m\u001b[0;34m)\u001b[0m\u001b[0;34m\u001b[0m\u001b[0;34m\u001b[0m\u001b[0m\n",
            "\u001b[0;31mZeroDivisionError\u001b[0m: division by zero"
          ]
        }
      ]
    },
    {
      "cell_type": "code",
      "metadata": {
        "colab": {
          "base_uri": "https://localhost:8080/"
        },
        "id": "iOALeoiq0uG1",
        "outputId": "2d17ed33-cd9f-4a16-8b9d-5e6355753072"
      },
      "source": [
        "mymain"
      ],
      "execution_count": null,
      "outputs": [
        {
          "output_type": "execute_result",
          "data": {
            "text/plain": [
              "<function __main__.mymain>"
            ]
          },
          "metadata": {
            "tags": []
          },
          "execution_count": 79
        }
      ]
    },
    {
      "cell_type": "markdown",
      "metadata": {
        "id": "kSnYRAFfm0qp"
      },
      "source": [
        "Write a Python program to check the validity of a password given by the user.\r\n",
        "The Password should satisfy the following criteria:\r\n",
        "1. Contains at least one letter between a and z\r\n",
        "2. Contains at least one number between 0 and 9\r\n",
        "3. Contains at least one letter between A and Z\r\n",
        "4. Contains at least one special character from $, #, @\r\n",
        "5. Minimum length of password: 6"
      ]
    },
    {
      "cell_type": "code",
      "metadata": {
        "id": "lvj07Zt81h7H",
        "colab": {
          "base_uri": "https://localhost:8080/"
        },
        "outputId": "25d35513-3f4c-4b69-b174-5b35707ca891"
      },
      "source": [
        "password  = input(\" ENTER THE PASSWORD = \")\r\n",
        "upper=False\r\n",
        "number=False\r\n",
        "lower=False\r\n",
        "special = False\r\n",
        "num=['0', '1', '2', '3', '4', '5', '6', '7', '8', '9']\r\n",
        "upp = ['A','B''C]\r\n",
        "#lower = ['a']\r\n",
        "#special =['$]\r\n",
        "if len(password) < 6:\r\n",
        "   print(\"Password length is too short. Minimum length of password should be 6\")\r\n",
        "else:\r\n",
        "  for i in password:\r\n",
        "     if i in upp:\r\n",
        "        upper=True\r\n",
        "     elif i in num:\r\n",
        "        number=True\r\n",
        "     elif i.islower() == True:\r\n",
        "        lower=True\r\n",
        "     elif i ==\"$\" or i ==\"#\" or i == \"@\":\r\n",
        "        special=True\r\n",
        "if upper==True and number==True and lower==True and special==True:\r\n",
        "    print(\"Password accepted\")\r\n",
        "else: \r\n",
        "    print(\"Password not accepted\")"
      ],
      "execution_count": null,
      "outputs": [
        {
          "output_type": "stream",
          "text": [
            " ENTER THE PASSWORD = Lb1234\n",
            "Password not accepted\n"
          ],
          "name": "stdout"
        }
      ]
    },
    {
      "cell_type": "code",
      "metadata": {
        "id": "CUPU-bOgrHw8"
      },
      "source": [
        ""
      ],
      "execution_count": null,
      "outputs": []
    }
  ]
}