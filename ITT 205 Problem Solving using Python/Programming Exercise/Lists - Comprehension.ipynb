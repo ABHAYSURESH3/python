{
  "nbformat": 4,
  "nbformat_minor": 0,
  "metadata": {
    "colab": {
      "name": "Lists.ipynb",
      "provenance": []
    },
    "kernelspec": {
      "name": "python3",
      "display_name": "Python 3"
    }
  },
  "cells": [
    {
      "cell_type": "markdown",
      "metadata": {
        "id": "a4Eq32QtRkSg"
      },
      "source": [
        "#Lists-List Values"
      ]
    },
    {
      "cell_type": "code",
      "metadata": {
        "id": "Ki6lim2ARrRz"
      },
      "source": [
        "list1= [10, 20, 30, 40]\n",
        "list2= [\"spam\", \"bungee\", \"swallow\"]\n",
        "list3= [\"hello\", 2.0, 5, [10, 20]]\n"
      ],
      "execution_count": null,
      "outputs": []
    },
    {
      "cell_type": "code",
      "metadata": {
        "id": "YiSXi6hI_Qnd",
        "outputId": "e0978807-31e2-47f0-8d10-7027129b71bb",
        "colab": {
          "base_uri": "https://localhost:8080/",
          "height": 35
        }
      },
      "source": [
        "len(list1)"
      ],
      "execution_count": null,
      "outputs": [
        {
          "output_type": "execute_result",
          "data": {
            "text/plain": [
              "4"
            ]
          },
          "metadata": {
            "tags": []
          },
          "execution_count": 8
        }
      ]
    },
    {
      "cell_type": "code",
      "metadata": {
        "id": "4Rt7c6MMRu92",
        "outputId": "a7b2c9dc-755b-4b65-8f87-755fbbcca040",
        "colab": {
          "base_uri": "https://localhost:8080/",
          "height": 69
        }
      },
      "source": [
        "print(list1)\n",
        "print(list2)\n",
        "print(list3)"
      ],
      "execution_count": null,
      "outputs": [
        {
          "output_type": "stream",
          "text": [
            "[10, 20, 30, 40]\n",
            "['spam', 'bungee', 'swallow']\n",
            "['hello', 2.0, 5, [10, 20]]\n"
          ],
          "name": "stdout"
        }
      ]
    },
    {
      "cell_type": "code",
      "metadata": {
        "id": "25-AzVoyRyGD"
      },
      "source": [
        "empty = []"
      ],
      "execution_count": null,
      "outputs": []
    },
    {
      "cell_type": "code",
      "metadata": {
        "id": "k0DzQqOdSEhE",
        "outputId": "ce54bf2b-f18b-48ce-d024-760639993a02",
        "colab": {
          "base_uri": "https://localhost:8080/",
          "height": 35
        }
      },
      "source": [
        "print(empty)"
      ],
      "execution_count": null,
      "outputs": [
        {
          "output_type": "stream",
          "text": [
            "[]\n"
          ],
          "name": "stdout"
        }
      ]
    },
    {
      "cell_type": "code",
      "metadata": {
        "id": "Relc4LVKAYyD",
        "outputId": "7857ce72-9f1d-4fe6-aee2-f612a1ef78da",
        "colab": {
          "base_uri": "https://localhost:8080/",
          "height": 35
        }
      },
      "source": [
        "len(empty)"
      ],
      "execution_count": null,
      "outputs": [
        {
          "output_type": "execute_result",
          "data": {
            "text/plain": [
              "0"
            ]
          },
          "metadata": {
            "tags": []
          },
          "execution_count": 11
        }
      ]
    },
    {
      "cell_type": "code",
      "metadata": {
        "id": "ksedorVKSHD3"
      },
      "source": [
        "vocabulary = [\"ameliorate\", \"castigate\", \"defenestrate\"]\n",
        "numbers = [17, 123,2.3]\n",
        "empty = []"
      ],
      "execution_count": null,
      "outputs": []
    },
    {
      "cell_type": "markdown",
      "metadata": {
        "id": "zi-fIKeQS6au"
      },
      "source": [
        "#Accessing Elements"
      ]
    },
    {
      "cell_type": "markdown",
      "metadata": {
        "id": "kQ6HGQoXTAuw"
      },
      "source": [
        "The syntax for accessing the elements of a list is the same as the syntax for\n",
        "accessing the characters of a string|the bracket operator ([]). The expression\n",
        "inside the brackets specifies the index. Remember that the indices start at 0:"
      ]
    },
    {
      "cell_type": "code",
      "metadata": {
        "id": "m6VACH77TR_a"
      },
      "source": [
        "numbers = [10, 20,30]"
      ],
      "execution_count": null,
      "outputs": []
    },
    {
      "cell_type": "code",
      "metadata": {
        "id": "E3UNPdAaTV_a",
        "outputId": "7c7d403e-8765-4953-828c-4cfbd91add4a",
        "colab": {
          "base_uri": "https://localhost:8080/",
          "height": 35
        }
      },
      "source": [
        "print(numbers)"
      ],
      "execution_count": null,
      "outputs": [
        {
          "output_type": "stream",
          "text": [
            "[10, 20, 30]\n"
          ],
          "name": "stdout"
        }
      ]
    },
    {
      "cell_type": "code",
      "metadata": {
        "id": "B6oLIU12sMDo",
        "outputId": "b71c3d32-82fe-4f3d-ffda-d53a502a5936",
        "colab": {
          "base_uri": "https://localhost:8080/",
          "height": 35
        }
      },
      "source": [
        "numbers[2]"
      ],
      "execution_count": null,
      "outputs": [
        {
          "output_type": "execute_result",
          "data": {
            "text/plain": [
              "30"
            ]
          },
          "metadata": {
            "tags": []
          },
          "execution_count": 15
        }
      ]
    },
    {
      "cell_type": "markdown",
      "metadata": {
        "id": "2zoI6LV7Wlxz"
      },
      "source": [
        "**Lists are mutable** "
      ]
    },
    {
      "cell_type": "code",
      "metadata": {
        "id": "SCTRk3UqS1W1",
        "outputId": "3b3b68a1-9bdb-4a38-e701-6df963abc09c",
        "colab": {
          "base_uri": "https://localhost:8080/",
          "height": 52
        }
      },
      "source": [
        "print (numbers)\n",
        "numbers[0] = 100\n",
        "print(numbers)"
      ],
      "execution_count": null,
      "outputs": [
        {
          "output_type": "stream",
          "text": [
            "[10, 55, 30]\n",
            "[100, 55, 30]\n"
          ],
          "name": "stdout"
        }
      ]
    },
    {
      "cell_type": "markdown",
      "metadata": {
        "id": "XhR2ZjmiTPj6"
      },
      "source": [
        "The bracket operator can appear anywhere in an expression. When it appears\n",
        "on the left side of an assignment, it changes one of the elements in the list, so the one-eth element of numbers, which used to be 123, is now 5."
      ]
    },
    {
      "cell_type": "markdown",
      "metadata": {
        "id": "PCsWAl9UTlNs"
      },
      "source": [
        "Any integer expression can be used as an index:"
      ]
    },
    {
      "cell_type": "code",
      "metadata": {
        "id": "NmmQGbbHs1bW",
        "outputId": "d67d2dca-2ec9-4f21-9775-293ba048bfbf",
        "colab": {
          "base_uri": "https://localhost:8080/",
          "height": 35
        }
      },
      "source": [
        "type(3/1)"
      ],
      "execution_count": null,
      "outputs": [
        {
          "output_type": "execute_result",
          "data": {
            "text/plain": [
              "float"
            ]
          },
          "metadata": {
            "tags": []
          },
          "execution_count": 18
        }
      ]
    },
    {
      "cell_type": "code",
      "metadata": {
        "id": "dfClEcBjs3hm",
        "outputId": "86f223e0-682b-4723-cc12-2d5b29edee46",
        "colab": {
          "base_uri": "https://localhost:8080/",
          "height": 35
        }
      },
      "source": [
        "3/1"
      ],
      "execution_count": null,
      "outputs": [
        {
          "output_type": "execute_result",
          "data": {
            "text/plain": [
              "3.0"
            ]
          },
          "metadata": {
            "tags": []
          },
          "execution_count": 19
        }
      ]
    },
    {
      "cell_type": "code",
      "metadata": {
        "id": "dzGXbNNnTGGj",
        "outputId": "d413b048-101b-4cbc-c8d5-cff3552e7fae",
        "colab": {
          "base_uri": "https://localhost:8080/",
          "height": 35
        }
      },
      "source": [
        "numbers[1+1]"
      ],
      "execution_count": null,
      "outputs": [
        {
          "output_type": "execute_result",
          "data": {
            "text/plain": [
              "30"
            ]
          },
          "metadata": {
            "tags": []
          },
          "execution_count": 21
        }
      ]
    },
    {
      "cell_type": "code",
      "metadata": {
        "id": "OjPAKt-ITnHf",
        "outputId": "6359f508-d980-43c8-a8d5-1a8202a05f5d",
        "colab": {
          "base_uri": "https://localhost:8080/",
          "height": 166
        }
      },
      "source": [
        "numbers[1.0]"
      ],
      "execution_count": null,
      "outputs": [
        {
          "output_type": "error",
          "ename": "TypeError",
          "evalue": "ignored",
          "traceback": [
            "\u001b[0;31m---------------------------------------------------------------------------\u001b[0m",
            "\u001b[0;31mTypeError\u001b[0m                                 Traceback (most recent call last)",
            "\u001b[0;32m<ipython-input-22-465ed91686c6>\u001b[0m in \u001b[0;36m<module>\u001b[0;34m()\u001b[0m\n\u001b[0;32m----> 1\u001b[0;31m \u001b[0mnumbers\u001b[0m\u001b[0;34m[\u001b[0m\u001b[0;36m1.0\u001b[0m\u001b[0;34m]\u001b[0m\u001b[0;34m\u001b[0m\u001b[0;34m\u001b[0m\u001b[0m\n\u001b[0m",
            "\u001b[0;31mTypeError\u001b[0m: list indices must be integers or slices, not float"
          ]
        }
      ]
    },
    {
      "cell_type": "code",
      "metadata": {
        "id": "RAa233pUToaS"
      },
      "source": [
        "numbers[1] = 5"
      ],
      "execution_count": null,
      "outputs": []
    },
    {
      "cell_type": "code",
      "metadata": {
        "id": "rC8fvjCoCTys"
      },
      "source": [
        "def head(list):\n",
        "  list[0]=1\n",
        "  print(list)\n",
        "  return list[0]\n"
      ],
      "execution_count": null,
      "outputs": []
    },
    {
      "cell_type": "code",
      "metadata": {
        "id": "kKhwDVc_CLKS",
        "outputId": "a9bc467e-69ce-4441-8da6-6a0384412656",
        "colab": {
          "base_uri": "https://localhost:8080/",
          "height": 35
        }
      },
      "source": [
        "print(numbers)"
      ],
      "execution_count": null,
      "outputs": [
        {
          "output_type": "stream",
          "text": [
            "[100, 5, 30]\n"
          ],
          "name": "stdout"
        }
      ]
    },
    {
      "cell_type": "code",
      "metadata": {
        "id": "WMzVNy3LCY0n",
        "outputId": "5d096660-dd72-4344-e87b-8c1643a3f83c",
        "colab": {
          "base_uri": "https://localhost:8080/",
          "height": 52
        }
      },
      "source": [
        "head(numbers)"
      ],
      "execution_count": null,
      "outputs": [
        {
          "output_type": "stream",
          "text": [
            "[1, 5, 30]\n"
          ],
          "name": "stdout"
        },
        {
          "output_type": "execute_result",
          "data": {
            "text/plain": [
              "1"
            ]
          },
          "metadata": {
            "tags": []
          },
          "execution_count": 32
        }
      ]
    },
    {
      "cell_type": "code",
      "metadata": {
        "id": "N6hh-2vfCrMN",
        "outputId": "ed070290-07d9-4432-a8a3-e4087c559137",
        "colab": {
          "base_uri": "https://localhost:8080/",
          "height": 35
        }
      },
      "source": [
        "numbers"
      ],
      "execution_count": null,
      "outputs": [
        {
          "output_type": "execute_result",
          "data": {
            "text/plain": [
              "[1, 5, 30]"
            ]
          },
          "metadata": {
            "tags": []
          },
          "execution_count": 33
        }
      ]
    },
    {
      "cell_type": "markdown",
      "metadata": {
        "id": "5g-35ndxTu1b"
      },
      "source": [
        "If an index has a negative value, it counts backward from the end of the list:"
      ]
    },
    {
      "cell_type": "code",
      "metadata": {
        "id": "ugyEXu2gtF0p",
        "outputId": "7a6f78ea-fa7a-4af3-ec5f-69bfe3756d5f",
        "colab": {
          "base_uri": "https://localhost:8080/",
          "height": 129
        }
      },
      "source": [
        "numbers=1"
      ],
      "execution_count": null,
      "outputs": [
        {
          "output_type": "error",
          "ename": "IndentationError",
          "evalue": "ignored",
          "traceback": [
            "\u001b[0;36m  File \u001b[0;32m\"<ipython-input-1-c8d816a0892b>\"\u001b[0;36m, line \u001b[0;32m2\u001b[0m\n\u001b[0;31m    w\u001b[0m\n\u001b[0m    ^\u001b[0m\n\u001b[0;31mIndentationError\u001b[0m\u001b[0;31m:\u001b[0m unexpected indent\n"
          ]
        }
      ]
    },
    {
      "cell_type": "code",
      "metadata": {
        "id": "gm7EmIuRTq4z",
        "outputId": "e8b43e09-8e03-4772-adee-71c275f5f3bb",
        "colab": {
          "base_uri": "https://localhost:8080/",
          "height": 35
        }
      },
      "source": [
        "numbers[0:2]"
      ],
      "execution_count": null,
      "outputs": [
        {
          "output_type": "execute_result",
          "data": {
            "text/plain": [
              "[1, 5]"
            ]
          },
          "metadata": {
            "tags": []
          },
          "execution_count": 39
        }
      ]
    },
    {
      "cell_type": "markdown",
      "metadata": {
        "id": "7KsO_Z4aT7I0"
      },
      "source": [
        "#List traversal"
      ]
    },
    {
      "cell_type": "code",
      "metadata": {
        "id": "y951TM5qTtTa",
        "outputId": "f895408c-6338-4759-c849-4908b9e81cae",
        "colab": {
          "base_uri": "https://localhost:8080/",
          "height": 87
        }
      },
      "source": [
        "horsemen = [\"war\", \"famine\", 3, [1,2]]\n",
        "i = 0\n",
        "while i < len(horsemen):\n",
        "  print (horsemen[i])\n",
        "  i = i + 1"
      ],
      "execution_count": null,
      "outputs": [
        {
          "output_type": "stream",
          "text": [
            "war\n",
            "famine\n",
            "3\n",
            "[1, 2]\n"
          ],
          "name": "stdout"
        }
      ]
    },
    {
      "cell_type": "code",
      "metadata": {
        "id": "cJ-ApNGVt_nu",
        "outputId": "7961eb7c-9fd2-4c63-bcc3-99eaeaf0a430",
        "colab": {
          "base_uri": "https://localhost:8080/",
          "height": 34
        }
      },
      "source": [
        "len(horsemen)"
      ],
      "execution_count": null,
      "outputs": [
        {
          "output_type": "execute_result",
          "data": {
            "text/plain": [
              "4"
            ]
          },
          "metadata": {
            "tags": []
          },
          "execution_count": 31
        }
      ]
    },
    {
      "cell_type": "markdown",
      "metadata": {
        "id": "z6zwaFPTUFg4"
      },
      "source": [
        "#List length"
      ]
    },
    {
      "cell_type": "markdown",
      "metadata": {
        "id": "fAjzGaVRUJeW"
      },
      "source": [
        "The function len returns the length of a list. It is a good idea to use this value\n",
        "as the upper bound of a loop instead of a constant"
      ]
    },
    {
      "cell_type": "code",
      "metadata": {
        "id": "aHjld7YAtyLX",
        "outputId": "6905629d-b7e6-4ff6-c02d-53feb983c7c3",
        "colab": {
          "base_uri": "https://localhost:8080/",
          "height": 34
        }
      },
      "source": [
        "len(horsemen)"
      ],
      "execution_count": null,
      "outputs": [
        {
          "output_type": "execute_result",
          "data": {
            "text/plain": [
              "4"
            ]
          },
          "metadata": {
            "tags": []
          },
          "execution_count": 30
        }
      ]
    },
    {
      "cell_type": "code",
      "metadata": {
        "id": "IWfAXC-_T-o1",
        "outputId": "24d6996d-1f72-4ac8-b4f0-60949dab48c1",
        "colab": {
          "base_uri": "https://localhost:8080/",
          "height": 85
        }
      },
      "source": [
        "horsemen = [\"war\", \"famine\", \"pestilence\", \"death\"]\n",
        "i = 0\n",
        "while i < len(horsemen):\n",
        "  print (horsemen[i])\n",
        "  i = i + 1"
      ],
      "execution_count": null,
      "outputs": [
        {
          "output_type": "stream",
          "text": [
            "war\n",
            "famine\n",
            "pestilence\n",
            "death\n"
          ],
          "name": "stdout"
        }
      ]
    },
    {
      "cell_type": "markdown",
      "metadata": {
        "id": "lQNY6I9RUSZ5"
      },
      "source": [
        "Although a list can contain another list, the nested list still counts as a single\n",
        "element. The length of this list is four:"
      ]
    },
    {
      "cell_type": "markdown",
      "metadata": {
        "id": "AaIlfG6zUaqi"
      },
      "source": [
        "As an exercise, write a loop that traverses the  list and prints\n",
        "the length of each element. What happens if you send an integer to\n",
        "len?"
      ]
    },
    {
      "cell_type": "code",
      "metadata": {
        "id": "up4UdnekUNIJ"
      },
      "source": [
        "listcheck =['spam!', 1, ['Brie', 'Roquefort', 'Pol le Veq'], [1, 2, 3]]"
      ],
      "execution_count": null,
      "outputs": []
    },
    {
      "cell_type": "code",
      "metadata": {
        "id": "JNCtQDTbURpx",
        "outputId": "6fc7c50a-2f08-43b2-d802-4220ddafee1e",
        "colab": {
          "base_uri": "https://localhost:8080/",
          "height": 34
        }
      },
      "source": [
        "len(listcheck)"
      ],
      "execution_count": null,
      "outputs": [
        {
          "output_type": "execute_result",
          "data": {
            "text/plain": [
              "4"
            ]
          },
          "metadata": {
            "tags": []
          },
          "execution_count": 34
        }
      ]
    },
    {
      "cell_type": "markdown",
      "metadata": {
        "id": "S0r6xo_dUyYF"
      },
      "source": [
        "#List membership"
      ]
    },
    {
      "cell_type": "markdown",
      "metadata": {
        "id": "aRT4oJGpVAvN"
      },
      "source": [
        "in is a boolean operator that tests membership in a sequence."
      ]
    },
    {
      "cell_type": "code",
      "metadata": {
        "id": "-N2kXHq2Uoek"
      },
      "source": [
        "fruits = ['apple','mango','orange']  \n"
      ],
      "execution_count": null,
      "outputs": []
    },
    {
      "cell_type": "code",
      "metadata": {
        "id": "LeLR83pzVLh3",
        "outputId": "d30ab67d-7b07-41da-9a97-ed1deee54d3c",
        "colab": {
          "base_uri": "https://localhost:8080/",
          "height": 34
        }
      },
      "source": [
        "'orange' in fruits"
      ],
      "execution_count": null,
      "outputs": [
        {
          "output_type": "execute_result",
          "data": {
            "text/plain": [
              "True"
            ]
          },
          "metadata": {
            "tags": []
          },
          "execution_count": 37
        }
      ]
    },
    {
      "cell_type": "code",
      "metadata": {
        "id": "jciX9STtVNof",
        "outputId": "a0fc817d-c7c4-4c42-f161-28771417d7f4",
        "colab": {
          "base_uri": "https://localhost:8080/",
          "height": 34
        }
      },
      "source": [
        "'banana' in fruits"
      ],
      "execution_count": null,
      "outputs": [
        {
          "output_type": "execute_result",
          "data": {
            "text/plain": [
              "False"
            ]
          },
          "metadata": {
            "tags": []
          },
          "execution_count": 38
        }
      ]
    },
    {
      "cell_type": "code",
      "metadata": {
        "id": "aLQgHodMVVR_",
        "outputId": "20fc86ae-7116-4bdf-d50b-436c6b2aa60d",
        "colab": {
          "base_uri": "https://localhost:8080/",
          "height": 34
        }
      },
      "source": [
        "'banana' not in fruits"
      ],
      "execution_count": null,
      "outputs": [
        {
          "output_type": "execute_result",
          "data": {
            "text/plain": [
              "True"
            ]
          },
          "metadata": {
            "tags": []
          },
          "execution_count": 39
        }
      ]
    },
    {
      "cell_type": "markdown",
      "metadata": {
        "id": "CAW27lcaVbN_"
      },
      "source": [
        "#Lists and for loops"
      ]
    },
    {
      "cell_type": "code",
      "metadata": {
        "id": "9gJryZbEu6wT"
      },
      "source": [
        "fruits = ['apple', 'mango', 'orange',3,'grape']"
      ],
      "execution_count": null,
      "outputs": []
    },
    {
      "cell_type": "code",
      "metadata": {
        "id": "NVh6SkIaIXAU"
      },
      "source": [
        ""
      ],
      "execution_count": null,
      "outputs": []
    },
    {
      "cell_type": "code",
      "metadata": {
        "id": "iTKpT83gVZle",
        "outputId": "1fdd2355-58c4-4f02-df37-7cbedb929d2d",
        "colab": {
          "base_uri": "https://localhost:8080/",
          "height": 35
        }
      },
      "source": [
        "fruits = ['Apple', 'Mango', 'Grape']\n",
        "for fruit in fruits:\n",
        "  if fruit=='apple':\n",
        "    print(\"Apple\")\n",
        "  elif fruit =='mango':\n",
        "    print(\"Mango\")\n",
        "else:\n",
        "  print(\"Grape\")\n",
        "  "
      ],
      "execution_count": null,
      "outputs": [
        {
          "output_type": "stream",
          "text": [
            "Grape\n"
          ],
          "name": "stdout"
        }
      ]
    },
    {
      "cell_type": "markdown",
      "metadata": {
        "id": "LHVHMniMV7q8"
      },
      "source": [
        "Range doesnot returns list in Python 3"
      ]
    },
    {
      "cell_type": "code",
      "metadata": {
        "id": "_M1kjOZIvmh2",
        "outputId": "4cc71bcc-87a9-42f7-de20-c3290cd89e90",
        "colab": {
          "base_uri": "https://localhost:8080/",
          "height": 35
        }
      },
      "source": [
        "range(20)"
      ],
      "execution_count": null,
      "outputs": [
        {
          "output_type": "execute_result",
          "data": {
            "text/plain": [
              "range(0, 20)"
            ]
          },
          "metadata": {
            "tags": []
          },
          "execution_count": 44
        }
      ]
    },
    {
      "cell_type": "code",
      "metadata": {
        "id": "bEH-bxotVhud",
        "outputId": "cd5374f1-7f60-42de-e5d7-05953abda3e8",
        "colab": {
          "base_uri": "https://localhost:8080/",
          "height": 191
        }
      },
      "source": [
        "for number in range(20):\n",
        "  if number % 2 == 0:\n",
        "    print (number)"
      ],
      "execution_count": null,
      "outputs": [
        {
          "output_type": "stream",
          "text": [
            "0\n",
            "2\n",
            "4\n",
            "6\n",
            "8\n",
            "10\n",
            "12\n",
            "14\n",
            "16\n",
            "18\n"
          ],
          "name": "stdout"
        }
      ]
    },
    {
      "cell_type": "markdown",
      "metadata": {
        "id": "6MdlFUmpWBQ9"
      },
      "source": [
        "#List operations"
      ]
    },
    {
      "cell_type": "code",
      "metadata": {
        "id": "FFDrIKjVV0CP",
        "outputId": "e9fb95d2-4924-4470-c47e-c4a5cc1d9658",
        "colab": {
          "base_uri": "https://localhost:8080/",
          "height": 35
        }
      },
      "source": [
        "a = [1, 2, 3]\n",
        "b = [4, 5, 6]\n",
        "print(a+b)"
      ],
      "execution_count": null,
      "outputs": [
        {
          "output_type": "stream",
          "text": [
            "[1, 2, 3, 4, 5, 6]\n"
          ],
          "name": "stdout"
        }
      ]
    },
    {
      "cell_type": "markdown",
      "metadata": {
        "id": "__MAlvKtWJo4"
      },
      "source": [
        "the * operator repeats a list a given number of times:"
      ]
    },
    {
      "cell_type": "code",
      "metadata": {
        "id": "ibLut9cYWGi2",
        "outputId": "1c86ddb4-3f87-45b4-b899-b7b3ce643bc2",
        "colab": {
          "base_uri": "https://localhost:8080/",
          "height": 35
        }
      },
      "source": [
        "[1]*5"
      ],
      "execution_count": null,
      "outputs": [
        {
          "output_type": "execute_result",
          "data": {
            "text/plain": [
              "[1, 1, 1, 1, 1]"
            ]
          },
          "metadata": {
            "tags": []
          },
          "execution_count": 47
        }
      ]
    },
    {
      "cell_type": "code",
      "metadata": {
        "id": "lgtuWK4vWOKI",
        "outputId": "aef22c2f-634b-4f5c-b54b-75c041d06db8",
        "colab": {
          "base_uri": "https://localhost:8080/",
          "height": 35
        }
      },
      "source": [
        "[1, 2, 3] * 3"
      ],
      "execution_count": null,
      "outputs": [
        {
          "output_type": "execute_result",
          "data": {
            "text/plain": [
              "[1, 2, 3, 1, 2, 3, 1, 2, 3]"
            ]
          },
          "metadata": {
            "tags": []
          },
          "execution_count": 48
        }
      ]
    },
    {
      "cell_type": "markdown",
      "metadata": {
        "id": "_KG9b-k5WSER"
      },
      "source": [
        "#List slices"
      ]
    },
    {
      "cell_type": "code",
      "metadata": {
        "id": "pzqpeK8TWPo8"
      },
      "source": [
        "mylist = ['a', 'b', 'c', 'd', 'e', 'f']"
      ],
      "execution_count": null,
      "outputs": []
    },
    {
      "cell_type": "code",
      "metadata": {
        "id": "ZN6IEJpDWYAY",
        "outputId": "579019bf-750e-4b4d-d545-80898c89728c",
        "colab": {
          "base_uri": "https://localhost:8080/",
          "height": 35
        }
      },
      "source": [
        "mylist[1:4]"
      ],
      "execution_count": null,
      "outputs": [
        {
          "output_type": "execute_result",
          "data": {
            "text/plain": [
              "['b', 'c', 'd']"
            ]
          },
          "metadata": {
            "tags": []
          },
          "execution_count": 50
        }
      ]
    },
    {
      "cell_type": "code",
      "metadata": {
        "id": "kP_TLXFmWZ0e",
        "outputId": "ec6f1212-4d14-4f30-a953-4dac31eba204",
        "colab": {
          "base_uri": "https://localhost:8080/",
          "height": 35
        }
      },
      "source": [
        "mylist[:4]"
      ],
      "execution_count": null,
      "outputs": [
        {
          "output_type": "execute_result",
          "data": {
            "text/plain": [
              "['a', 'b', 'c', 'd']"
            ]
          },
          "metadata": {
            "tags": []
          },
          "execution_count": 51
        }
      ]
    },
    {
      "cell_type": "code",
      "metadata": {
        "id": "R3jSAcSYWbEp",
        "outputId": "df3dafe2-9228-48ab-87e0-37f4ddc21fc2",
        "colab": {
          "base_uri": "https://localhost:8080/",
          "height": 35
        }
      },
      "source": [
        "mylist[3:]"
      ],
      "execution_count": null,
      "outputs": [
        {
          "output_type": "execute_result",
          "data": {
            "text/plain": [
              "['d', 'e', 'f']"
            ]
          },
          "metadata": {
            "tags": []
          },
          "execution_count": 52
        }
      ]
    },
    {
      "cell_type": "code",
      "metadata": {
        "id": "R7LkxwkLWcUl",
        "outputId": "51b60120-6488-4caf-8c95-06e4a727b4c2",
        "colab": {
          "base_uri": "https://localhost:8080/",
          "height": 35
        }
      },
      "source": [
        "mylist[:]"
      ],
      "execution_count": null,
      "outputs": [
        {
          "output_type": "execute_result",
          "data": {
            "text/plain": [
              "['a', 'b', 'c', 'd', 'e', 'f']"
            ]
          },
          "metadata": {
            "tags": []
          },
          "execution_count": 54
        }
      ]
    },
    {
      "cell_type": "markdown",
      "metadata": {
        "id": "gKmseykpW08b"
      },
      "source": [
        "#List deletion"
      ]
    },
    {
      "cell_type": "code",
      "metadata": {
        "id": "eUfvKhQRWdkL"
      },
      "source": [
        "a = ['one', 'two', 'three']"
      ],
      "execution_count": null,
      "outputs": []
    },
    {
      "cell_type": "code",
      "metadata": {
        "id": "TxyGCowKW5X5"
      },
      "source": [
        "del a[0]"
      ],
      "execution_count": null,
      "outputs": []
    },
    {
      "cell_type": "code",
      "metadata": {
        "id": "EP4gY-iUW6oN",
        "outputId": "7ef80338-9e80-470b-99ab-2efa0db7cf54",
        "colab": {
          "base_uri": "https://localhost:8080/",
          "height": 34
        }
      },
      "source": [
        "a"
      ],
      "execution_count": null,
      "outputs": [
        {
          "output_type": "execute_result",
          "data": {
            "text/plain": [
              "['two', 'three']"
            ]
          },
          "metadata": {
            "tags": []
          },
          "execution_count": 64
        }
      ]
    },
    {
      "cell_type": "markdown",
      "metadata": {
        "id": "RI3a58LvXAl-"
      },
      "source": [
        "del handles negative indices and causes a runtime error\n",
        "if the index is out of range."
      ]
    },
    {
      "cell_type": "code",
      "metadata": {
        "id": "Tua93et6W60t"
      },
      "source": [
        "del a[-1]"
      ],
      "execution_count": null,
      "outputs": []
    },
    {
      "cell_type": "code",
      "metadata": {
        "id": "3tJS0iyBXCJf",
        "outputId": "f38e33e1-9bb8-479e-dcff-5edac9b9605b",
        "colab": {
          "base_uri": "https://localhost:8080/",
          "height": 34
        }
      },
      "source": [
        "a"
      ],
      "execution_count": null,
      "outputs": [
        {
          "output_type": "execute_result",
          "data": {
            "text/plain": [
              "['two']"
            ]
          },
          "metadata": {
            "tags": []
          },
          "execution_count": 66
        }
      ]
    },
    {
      "cell_type": "code",
      "metadata": {
        "id": "F23XDAI0XCWN",
        "outputId": "6f203ac7-c381-4621-e7ea-8b233d36ae4f",
        "colab": {
          "base_uri": "https://localhost:8080/",
          "height": 164
        }
      },
      "source": [
        "del a[3]"
      ],
      "execution_count": null,
      "outputs": [
        {
          "output_type": "error",
          "ename": "IndexError",
          "evalue": "ignored",
          "traceback": [
            "\u001b[0;31m---------------------------------------------------------------------------\u001b[0m",
            "\u001b[0;31mIndexError\u001b[0m                                Traceback (most recent call last)",
            "\u001b[0;32m<ipython-input-67-2e197d0bc8c9>\u001b[0m in \u001b[0;36m<module>\u001b[0;34m()\u001b[0m\n\u001b[0;32m----> 1\u001b[0;31m \u001b[0;32mdel\u001b[0m \u001b[0ma\u001b[0m\u001b[0;34m[\u001b[0m\u001b[0;36m3\u001b[0m\u001b[0;34m]\u001b[0m\u001b[0;34m\u001b[0m\u001b[0;34m\u001b[0m\u001b[0m\n\u001b[0m",
            "\u001b[0;31mIndexError\u001b[0m: list assignment index out of range"
          ]
        }
      ]
    },
    {
      "cell_type": "markdown",
      "metadata": {
        "id": "fdnflUH-XNWQ"
      },
      "source": [
        "You can use a slice as an index for del:"
      ]
    },
    {
      "cell_type": "code",
      "metadata": {
        "id": "gSmPiM1kXIKb"
      },
      "source": [
        "list = ['a', 'b', 'c', 'd', 'e', 'f']"
      ],
      "execution_count": null,
      "outputs": []
    },
    {
      "cell_type": "markdown",
      "metadata": {
        "id": "rV9u7T86XXXy"
      },
      "source": [
        "slices select all the elements up to, but not including, the second index."
      ]
    },
    {
      "cell_type": "code",
      "metadata": {
        "id": "aULJsj_IXSNx"
      },
      "source": [
        "del list[1:3]"
      ],
      "execution_count": null,
      "outputs": []
    },
    {
      "cell_type": "code",
      "metadata": {
        "id": "wAPOpCrhXTf-",
        "outputId": "8e1c4825-3c7a-482a-afa5-39de14ebd6f2",
        "colab": {
          "base_uri": "https://localhost:8080/",
          "height": 34
        }
      },
      "source": [
        "list"
      ],
      "execution_count": null,
      "outputs": [
        {
          "output_type": "execute_result",
          "data": {
            "text/plain": [
              "['a', 'd', 'e', 'f']"
            ]
          },
          "metadata": {
            "tags": []
          },
          "execution_count": 70
        }
      ]
    },
    {
      "cell_type": "markdown",
      "metadata": {
        "id": "Z0NNb9AvY5oS"
      },
      "source": [
        "#Objects and values\n"
      ]
    },
    {
      "cell_type": "code",
      "metadata": {
        "id": "4su6z7PwXT29"
      },
      "source": [
        "a = \"banana\"\n",
        "b = \"banana\"\n"
      ],
      "execution_count": null,
      "outputs": []
    },
    {
      "cell_type": "code",
      "metadata": {
        "id": "PmEVdKlMY-xn",
        "outputId": "1ea00edf-0b85-4200-b0cf-d34d1838f92f",
        "colab": {
          "base_uri": "https://localhost:8080/",
          "height": 35
        }
      },
      "source": [
        "id(a)"
      ],
      "execution_count": null,
      "outputs": [
        {
          "output_type": "execute_result",
          "data": {
            "text/plain": [
              "140104390260136"
            ]
          },
          "metadata": {
            "tags": []
          },
          "execution_count": 2
        }
      ]
    },
    {
      "cell_type": "code",
      "metadata": {
        "id": "KYXbVXJQY_Za",
        "outputId": "d8c9f913-b160-42c9-8701-a57ae7c2a4ab",
        "colab": {
          "base_uri": "https://localhost:8080/",
          "height": 35
        }
      },
      "source": [
        "id(b)"
      ],
      "execution_count": null,
      "outputs": [
        {
          "output_type": "execute_result",
          "data": {
            "text/plain": [
              "140104390260136"
            ]
          },
          "metadata": {
            "tags": []
          },
          "execution_count": 3
        }
      ]
    },
    {
      "cell_type": "code",
      "metadata": {
        "id": "xHgFoNTcY_7H"
      },
      "source": [
        "c = [1, 2, 3]\n",
        "d = [1, 2, 3]"
      ],
      "execution_count": null,
      "outputs": []
    },
    {
      "cell_type": "code",
      "metadata": {
        "id": "p5jbMh3JZGsf",
        "outputId": "e4228244-17e6-47e8-bbfd-32bde1aa1f15",
        "colab": {
          "base_uri": "https://localhost:8080/",
          "height": 35
        }
      },
      "source": [
        "id(c)"
      ],
      "execution_count": null,
      "outputs": [
        {
          "output_type": "execute_result",
          "data": {
            "text/plain": [
              "140104716591752"
            ]
          },
          "metadata": {
            "tags": []
          },
          "execution_count": 5
        }
      ]
    },
    {
      "cell_type": "code",
      "metadata": {
        "id": "LL8K9OGEZHit",
        "outputId": "19f8069a-8a13-4ba4-a017-757eb532f37a",
        "colab": {
          "base_uri": "https://localhost:8080/",
          "height": 35
        }
      },
      "source": [
        "id(d)"
      ],
      "execution_count": null,
      "outputs": [
        {
          "output_type": "execute_result",
          "data": {
            "text/plain": [
              "140104390224328"
            ]
          },
          "metadata": {
            "tags": []
          },
          "execution_count": 6
        }
      ]
    },
    {
      "cell_type": "markdown",
      "metadata": {
        "id": "xH2kRUeJZK5e"
      },
      "source": [
        "#Aliasing"
      ]
    },
    {
      "cell_type": "code",
      "metadata": {
        "id": "QP1eN8YcZIY4"
      },
      "source": [
        "d = [1, 2, 3]\n",
        "e=d"
      ],
      "execution_count": null,
      "outputs": []
    },
    {
      "cell_type": "code",
      "metadata": {
        "id": "K4Lhq_IhZQ9P",
        "outputId": "14e95b49-29d4-433d-aa66-f3101798a817",
        "colab": {
          "base_uri": "https://localhost:8080/",
          "height": 35
        }
      },
      "source": [
        "id(d)"
      ],
      "execution_count": null,
      "outputs": [
        {
          "output_type": "execute_result",
          "data": {
            "text/plain": [
              "140104390331528"
            ]
          },
          "metadata": {
            "tags": []
          },
          "execution_count": 8
        }
      ]
    },
    {
      "cell_type": "code",
      "metadata": {
        "id": "AnhvrL-mZhkZ",
        "outputId": "f7097f0c-67ed-4b5e-92c1-83814a7d5f80",
        "colab": {
          "base_uri": "https://localhost:8080/",
          "height": 35
        }
      },
      "source": [
        "id(e)"
      ],
      "execution_count": null,
      "outputs": [
        {
          "output_type": "execute_result",
          "data": {
            "text/plain": [
              "140104390331528"
            ]
          },
          "metadata": {
            "tags": []
          },
          "execution_count": 9
        }
      ]
    },
    {
      "cell_type": "markdown",
      "metadata": {
        "id": "FiXuKuNcZlSa"
      },
      "source": [
        "Because the same list has two different names, a and b, we say that it is aliased."
      ]
    },
    {
      "cell_type": "markdown",
      "metadata": {
        "id": "MZFUzQM0Zutb"
      },
      "source": [
        "Changes made with one alias affect the other"
      ]
    },
    {
      "cell_type": "code",
      "metadata": {
        "id": "i8uvKAYZZiD4"
      },
      "source": [
        "d = [1, 2, 3]\n",
        "e=d\n",
        "e[0]=10"
      ],
      "execution_count": null,
      "outputs": []
    },
    {
      "cell_type": "code",
      "metadata": {
        "id": "GFyyWqGYZz0o",
        "outputId": "7c5f2625-9d3e-4eeb-90f0-0db87d83f58c",
        "colab": {
          "base_uri": "https://localhost:8080/",
          "height": 35
        }
      },
      "source": [
        "print(e)"
      ],
      "execution_count": null,
      "outputs": [
        {
          "output_type": "stream",
          "text": [
            "[10, 2, 3]\n"
          ],
          "name": "stdout"
        }
      ]
    },
    {
      "cell_type": "code",
      "metadata": {
        "id": "0P3X_xQ9Z1r7",
        "outputId": "e0541c27-2085-4fbe-9b2d-85b8c9ef3cfb",
        "colab": {
          "base_uri": "https://localhost:8080/",
          "height": 35
        }
      },
      "source": [
        "print(d)"
      ],
      "execution_count": null,
      "outputs": [
        {
          "output_type": "stream",
          "text": [
            "[10, 2, 3]\n"
          ],
          "name": "stdout"
        }
      ]
    },
    {
      "cell_type": "markdown",
      "metadata": {
        "id": "EgL2qAS7aBMU"
      },
      "source": [
        "In general, it is safer to avoid aliasing when you are working with mutable\n",
        "objects"
      ]
    },
    {
      "cell_type": "markdown",
      "metadata": {
        "id": "JTzfRiKyXtXT"
      },
      "source": [
        "#Cloning lists"
      ]
    },
    {
      "cell_type": "markdown",
      "metadata": {
        "id": "ZKZ9b_NdXzN8"
      },
      "source": [
        "If we want to modify a list and also keep a copy of the original, we need to\n",
        "be able to make a copy of the list itself, not just the reference. This process is\n",
        "sometimes called cloning"
      ]
    },
    {
      "cell_type": "code",
      "metadata": {
        "id": "EUo_8adiXwHz",
        "outputId": "5a463d94-19ed-48fe-e2db-a8d07ef71c26",
        "colab": {
          "base_uri": "https://localhost:8080/",
          "height": 35
        }
      },
      "source": [
        "a = [1, 2, 3]\n",
        "b = a[:]\n",
        "print (b)"
      ],
      "execution_count": null,
      "outputs": [
        {
          "output_type": "stream",
          "text": [
            "[1, 2, 3]\n"
          ],
          "name": "stdout"
        }
      ]
    },
    {
      "cell_type": "code",
      "metadata": {
        "id": "uT6wJcvcJr9R",
        "outputId": "5f09e590-0358-429f-a090-5908e7a4f4d8",
        "colab": {
          "base_uri": "https://localhost:8080/",
          "height": 35
        }
      },
      "source": [
        "id(a)"
      ],
      "execution_count": null,
      "outputs": [
        {
          "output_type": "execute_result",
          "data": {
            "text/plain": [
              "139621134870984"
            ]
          },
          "metadata": {
            "tags": []
          },
          "execution_count": 56
        }
      ]
    },
    {
      "cell_type": "code",
      "metadata": {
        "id": "yDSuZ19UJtV2",
        "outputId": "ccbcfe62-472e-4db6-f952-75a9cb89feb4",
        "colab": {
          "base_uri": "https://localhost:8080/",
          "height": 35
        }
      },
      "source": [
        "id(b)"
      ],
      "execution_count": null,
      "outputs": [
        {
          "output_type": "execute_result",
          "data": {
            "text/plain": [
              "139621135226568"
            ]
          },
          "metadata": {
            "tags": []
          },
          "execution_count": 57
        }
      ]
    },
    {
      "cell_type": "code",
      "metadata": {
        "id": "AVGlOGtrX-2u",
        "outputId": "ac67c5d5-70f1-4ea2-c425-3207ccbc59b5",
        "colab": {
          "base_uri": "https://localhost:8080/",
          "height": 35
        }
      },
      "source": [
        "b[0] = 5\n",
        "print (a)"
      ],
      "execution_count": null,
      "outputs": [
        {
          "output_type": "stream",
          "text": [
            "[1, 2, 3]\n"
          ],
          "name": "stdout"
        }
      ]
    },
    {
      "cell_type": "markdown",
      "metadata": {
        "id": "MXxsSM7MX72R"
      },
      "source": [
        "Taking any slice of a creates a new list. In this case the slice happens to consist\n",
        "of the whole list.\n",
        "Now we are free to make changes to b without worrying about a"
      ]
    },
    {
      "cell_type": "markdown",
      "metadata": {
        "id": "2mBRM2RLaFUp"
      },
      "source": [
        "#List parameters"
      ]
    },
    {
      "cell_type": "markdown",
      "metadata": {
        "id": "Khk7Ig7raLR9"
      },
      "source": [
        "Passing a list as an argument actually passes a reference to the list, not a copy\n",
        "of the list"
      ]
    },
    {
      "cell_type": "code",
      "metadata": {
        "id": "QffsHbH_kjFX"
      },
      "source": [
        "numbers = [1, 2, 3]"
      ],
      "execution_count": null,
      "outputs": []
    },
    {
      "cell_type": "code",
      "metadata": {
        "id": "YD-mShHhZ2ix"
      },
      "source": [
        "def head(list):\n",
        "  list[0]=10\n",
        "  return list[0]"
      ],
      "execution_count": null,
      "outputs": []
    },
    {
      "cell_type": "code",
      "metadata": {
        "id": "CGAP2q-JaPyS",
        "outputId": "a6fec91f-350a-4ec5-99c6-5a21573c4161",
        "colab": {
          "base_uri": "https://localhost:8080/",
          "height": 35
        }
      },
      "source": [
        "head(numbers)"
      ],
      "execution_count": null,
      "outputs": [
        {
          "output_type": "execute_result",
          "data": {
            "text/plain": [
              "10"
            ]
          },
          "metadata": {
            "tags": []
          },
          "execution_count": 42
        }
      ]
    },
    {
      "cell_type": "code",
      "metadata": {
        "id": "UIyI92jTjwI5",
        "outputId": "ef160c69-b2ca-4d87-cc86-3a4f80508391",
        "colab": {
          "base_uri": "https://localhost:8080/",
          "height": 35
        }
      },
      "source": [
        "print(numbers)"
      ],
      "execution_count": null,
      "outputs": [
        {
          "output_type": "stream",
          "text": [
            "[10, 2, 3]\n"
          ],
          "name": "stdout"
        }
      ]
    },
    {
      "cell_type": "markdown",
      "metadata": {
        "id": "zmmmIY7kaX1x"
      },
      "source": [
        "The parameter list and the variable numbers are aliases for the same object."
      ]
    },
    {
      "cell_type": "markdown",
      "metadata": {
        "id": "XjLY8CoabLqQ"
      },
      "source": [
        "If a function modifies a list parameter, the caller sees the change"
      ]
    },
    {
      "cell_type": "code",
      "metadata": {
        "id": "QekbcBCRbJzZ"
      },
      "source": [
        "def deleteHead(list):\n",
        " del list[0]"
      ],
      "execution_count": null,
      "outputs": []
    },
    {
      "cell_type": "code",
      "metadata": {
        "id": "2x2PJMV_aR0R",
        "outputId": "d1a0eacf-6265-4414-f01f-79e4235b4f8a",
        "colab": {
          "base_uri": "https://localhost:8080/",
          "height": 35
        }
      },
      "source": [
        "numbers = [1, 2, 3]\n",
        "deleteHead(numbers)\n",
        "print(numbers)"
      ],
      "execution_count": null,
      "outputs": [
        {
          "output_type": "stream",
          "text": [
            "[2, 3]\n"
          ],
          "name": "stdout"
        }
      ]
    },
    {
      "cell_type": "markdown",
      "metadata": {
        "id": "KLdNhh3lbXk_"
      },
      "source": [
        "If a function returns a list, it returns a reference to the list."
      ]
    },
    {
      "cell_type": "code",
      "metadata": {
        "id": "Kw1qG6vmbU_h"
      },
      "source": [
        "def tail(list):\n",
        "  return list[1:]"
      ],
      "execution_count": null,
      "outputs": []
    },
    {
      "cell_type": "code",
      "metadata": {
        "id": "a1I2S0kHbaek",
        "outputId": "e963c5da-de7c-454b-a6ef-81944f4859bd",
        "colab": {
          "base_uri": "https://localhost:8080/",
          "height": 52
        }
      },
      "source": [
        "numbers = [1, 2, 3]\n",
        "rest = tail(numbers)\n",
        "print(rest)\n",
        "print(numbers)"
      ],
      "execution_count": null,
      "outputs": [
        {
          "output_type": "stream",
          "text": [
            "[2, 3]\n",
            "[1, 2, 3]\n"
          ],
          "name": "stdout"
        }
      ]
    },
    {
      "cell_type": "code",
      "metadata": {
        "id": "JOL2ShxGk0K1"
      },
      "source": [
        "def clone(list):\n",
        "  return list[:]"
      ],
      "execution_count": null,
      "outputs": []
    },
    {
      "cell_type": "code",
      "metadata": {
        "id": "H9EojBvGk4fT"
      },
      "source": [
        "newlist =clone(numbers)"
      ],
      "execution_count": null,
      "outputs": []
    },
    {
      "cell_type": "markdown",
      "metadata": {
        "id": "uUGTmAvcbh-p"
      },
      "source": [
        "Because the return value was created with the slice operator, it is a new list."
      ]
    },
    {
      "cell_type": "markdown",
      "metadata": {
        "id": "z9kAwdiqbrg8"
      },
      "source": [
        "#Nested lists"
      ]
    },
    {
      "cell_type": "code",
      "metadata": {
        "id": "Gvae_Qh6G8BL"
      },
      "source": [
        "list = [\"hello\", 2.0, 5, [[10, 20,30]]]"
      ],
      "execution_count": 16,
      "outputs": []
    },
    {
      "cell_type": "code",
      "metadata": {
        "id": "_PChG3Of-hsX"
      },
      "source": [
        "list = [\"hello\",[11,2], [[10,'Apple']]]"
      ],
      "execution_count": 26,
      "outputs": []
    },
    {
      "cell_type": "code",
      "metadata": {
        "id": "apKH-Ok9_1hM",
        "outputId": "c5d03e67-a5fd-45f7-b81e-41da9f5920cc",
        "colab": {
          "base_uri": "https://localhost:8080/",
          "height": 35
        }
      },
      "source": [
        "list[1][0]"
      ],
      "execution_count": 28,
      "outputs": [
        {
          "output_type": "execute_result",
          "data": {
            "text/plain": [
              "11"
            ]
          },
          "metadata": {
            "tags": []
          },
          "execution_count": 28
        }
      ]
    },
    {
      "cell_type": "code",
      "metadata": {
        "id": "yoAzuhDy_a3-",
        "outputId": "bcd8fd48-1886-4b8b-d9de-0df926ee78e6",
        "colab": {
          "base_uri": "https://localhost:8080/",
          "height": 35
        }
      },
      "source": [
        "list[1][0][0]"
      ],
      "execution_count": 24,
      "outputs": [
        {
          "output_type": "execute_result",
          "data": {
            "text/plain": [
              "10"
            ]
          },
          "metadata": {
            "tags": []
          },
          "execution_count": 24
        }
      ]
    },
    {
      "cell_type": "code",
      "metadata": {
        "id": "6ku7FQsQHBlw",
        "outputId": "276a0267-dc22-47a6-8b06-ff0b2f5485a6",
        "colab": {
          "base_uri": "https://localhost:8080/",
          "height": 35
        }
      },
      "source": [
        "list[3][0]"
      ],
      "execution_count": 17,
      "outputs": [
        {
          "output_type": "execute_result",
          "data": {
            "text/plain": [
              "[10, 20, 30]"
            ]
          },
          "metadata": {
            "tags": []
          },
          "execution_count": 17
        }
      ]
    },
    {
      "cell_type": "code",
      "metadata": {
        "id": "iaw5PtkT-BGW",
        "outputId": "6631759f-3545-4931-c26e-a12327f4eab3",
        "colab": {
          "base_uri": "https://localhost:8080/",
          "height": 35
        }
      },
      "source": [
        "list[3][0][2]"
      ],
      "execution_count": 21,
      "outputs": [
        {
          "output_type": "execute_result",
          "data": {
            "text/plain": [
              "30"
            ]
          },
          "metadata": {
            "tags": []
          },
          "execution_count": 21
        }
      ]
    },
    {
      "cell_type": "code",
      "metadata": {
        "id": "p96maaNPbej7"
      },
      "source": [
        "list = [\"hello\", 2.0, 5, [10, 20,30]]"
      ],
      "execution_count": null,
      "outputs": []
    },
    {
      "cell_type": "code",
      "metadata": {
        "id": "T9Zd86dxlXZQ",
        "outputId": "0c05b9c3-8dc5-4da1-b74c-ce8f0b1df7c7",
        "colab": {
          "base_uri": "https://localhost:8080/",
          "height": 35
        }
      },
      "source": [
        "list[3][2]"
      ],
      "execution_count": null,
      "outputs": [
        {
          "output_type": "execute_result",
          "data": {
            "text/plain": [
              "30"
            ]
          },
          "metadata": {
            "tags": []
          },
          "execution_count": 54
        }
      ]
    },
    {
      "cell_type": "code",
      "metadata": {
        "id": "4BtcPX-cbpKj",
        "outputId": "1f9df570-12c9-43ca-886c-34f0fddb54f7",
        "colab": {
          "base_uri": "https://localhost:8080/",
          "height": 35
        }
      },
      "source": [
        "list[3]"
      ],
      "execution_count": null,
      "outputs": [
        {
          "output_type": "execute_result",
          "data": {
            "text/plain": [
              "[10, 20]"
            ]
          },
          "metadata": {
            "tags": []
          },
          "execution_count": 48
        }
      ]
    },
    {
      "cell_type": "code",
      "metadata": {
        "id": "Vuy6N1RrbuGE",
        "outputId": "79c6e06f-ab1c-4ea6-ec29-7eb3a06cf47b",
        "colab": {
          "base_uri": "https://localhost:8080/",
          "height": 35
        }
      },
      "source": [
        "elt = list[3]\n",
        "elt[1]"
      ],
      "execution_count": null,
      "outputs": [
        {
          "output_type": "execute_result",
          "data": {
            "text/plain": [
              "20"
            ]
          },
          "metadata": {
            "tags": []
          },
          "execution_count": 49
        }
      ]
    },
    {
      "cell_type": "code",
      "metadata": {
        "id": "fUor7Fw0bwey",
        "outputId": "13766ddd-61e4-414e-f5b8-e28b007c249f",
        "colab": {
          "base_uri": "https://localhost:8080/",
          "height": 35
        }
      },
      "source": [
        "list[3][1]"
      ],
      "execution_count": null,
      "outputs": [
        {
          "output_type": "execute_result",
          "data": {
            "text/plain": [
              "20"
            ]
          },
          "metadata": {
            "tags": []
          },
          "execution_count": 52
        }
      ]
    },
    {
      "cell_type": "markdown",
      "metadata": {
        "id": "JkEmDEnCb0VA"
      },
      "source": [
        "Bracket operators evaluate from left to right, so this expression gets the threeeth\n",
        "element of list and extracts the one-eth element from it."
      ]
    },
    {
      "cell_type": "markdown",
      "metadata": {
        "id": "qrnKZ8qyYJIg"
      },
      "source": [
        "#Matrices"
      ]
    },
    {
      "cell_type": "markdown",
      "metadata": {
        "id": "7l9fwSZiYR_6"
      },
      "source": [
        "Nested lists are often used to represent matrices"
      ]
    },
    {
      "cell_type": "markdown",
      "metadata": {
        "id": "wAs_9pGeYeB6"
      },
      "source": [
        "matrix is a list with three elements, where each element is a row of the matrix."
      ]
    },
    {
      "cell_type": "code",
      "metadata": {
        "id": "60A8F4MhbyE3"
      },
      "source": [
        "matrix = [[1, 2, 3], [4, 5, 6], [7, 8, 9]]"
      ],
      "execution_count": 29,
      "outputs": []
    },
    {
      "cell_type": "code",
      "metadata": {
        "id": "HHpn9ByyARYg",
        "outputId": "660339ba-9763-4ce2-fa22-ce853681604f",
        "colab": {
          "base_uri": "https://localhost:8080/",
          "height": 35
        }
      },
      "source": [
        "print(matrix)"
      ],
      "execution_count": 30,
      "outputs": [
        {
          "output_type": "stream",
          "text": [
            "[[1, 2, 3], [4, 5, 6], [7, 8, 9]]\n"
          ],
          "name": "stdout"
        }
      ]
    },
    {
      "cell_type": "code",
      "metadata": {
        "id": "66WhlKxTAUV3",
        "outputId": "cf77605c-016c-4288-902a-ef5451f7d5e3",
        "colab": {
          "base_uri": "https://localhost:8080/",
          "height": 35
        }
      },
      "source": [
        "matrix[2][0]"
      ],
      "execution_count": 33,
      "outputs": [
        {
          "output_type": "execute_result",
          "data": {
            "text/plain": [
              "6"
            ]
          },
          "metadata": {
            "tags": []
          },
          "execution_count": 33
        }
      ]
    },
    {
      "cell_type": "code",
      "metadata": {
        "id": "ECxIY6XPnGjf"
      },
      "source": [
        "matrix[2][0]=6"
      ],
      "execution_count": 32,
      "outputs": []
    },
    {
      "cell_type": "code",
      "metadata": {
        "id": "q2M4q6SMnZRm",
        "outputId": "f04b13e1-a235-4cd9-d030-1415eaf8bdff",
        "colab": {
          "base_uri": "https://localhost:8080/",
          "height": 35
        }
      },
      "source": [
        "matrix[2][0]"
      ],
      "execution_count": null,
      "outputs": [
        {
          "output_type": "execute_result",
          "data": {
            "text/plain": [
              "6"
            ]
          },
          "metadata": {
            "tags": []
          },
          "execution_count": 62
        }
      ]
    },
    {
      "cell_type": "code",
      "metadata": {
        "id": "NVqukevfAdZC",
        "outputId": "7d8b97ea-1491-4085-e3c0-d9d0d6f08a3e",
        "colab": {
          "base_uri": "https://localhost:8080/",
          "height": 35
        }
      },
      "source": [
        "matrix"
      ],
      "execution_count": 34,
      "outputs": [
        {
          "output_type": "execute_result",
          "data": {
            "text/plain": [
              "[[1, 2, 3], [4, 5, 6], [6, 8, 9]]"
            ]
          },
          "metadata": {
            "tags": []
          },
          "execution_count": 34
        }
      ]
    },
    {
      "cell_type": "code",
      "metadata": {
        "id": "9uxUoMfJneY5",
        "outputId": "e01aa4ff-0977-48de-de7b-95ed4f32be4e",
        "colab": {
          "base_uri": "https://localhost:8080/",
          "height": 35
        }
      },
      "source": [
        "matrix[2]"
      ],
      "execution_count": 35,
      "outputs": [
        {
          "output_type": "execute_result",
          "data": {
            "text/plain": [
              "[6, 8, 9]"
            ]
          },
          "metadata": {
            "tags": []
          },
          "execution_count": 35
        }
      ]
    },
    {
      "cell_type": "code",
      "metadata": {
        "id": "XQlfRcCvmbDY",
        "outputId": "0744c44c-3326-44d1-cab2-8f724b3bc1b1",
        "colab": {
          "base_uri": "https://localhost:8080/",
          "height": 35
        }
      },
      "source": [
        "len(matrix)"
      ],
      "execution_count": 36,
      "outputs": [
        {
          "output_type": "execute_result",
          "data": {
            "text/plain": [
              "3"
            ]
          },
          "metadata": {
            "tags": []
          },
          "execution_count": 36
        }
      ]
    },
    {
      "cell_type": "code",
      "metadata": {
        "id": "kZZr1qCtniEx",
        "outputId": "a289b67e-d549-4ffe-a455-e02fb697cd41",
        "colab": {
          "base_uri": "https://localhost:8080/",
          "height": 35
        }
      },
      "source": [
        "matrix"
      ],
      "execution_count": null,
      "outputs": [
        {
          "output_type": "execute_result",
          "data": {
            "text/plain": [
              "[[1, 2, 3], [4, 5, 6], [6, 8, 9]]"
            ]
          },
          "metadata": {
            "tags": []
          },
          "execution_count": 65
        }
      ]
    },
    {
      "cell_type": "markdown",
      "metadata": {
        "id": "pyIeW4EpYiyL"
      },
      "source": [
        "We can select an entire row from the matrix in the usual way:"
      ]
    },
    {
      "cell_type": "code",
      "metadata": {
        "id": "jRl1MwdEYa2d",
        "outputId": "02b3401f-2f12-4e4d-9575-e1cdbdee58a7",
        "colab": {
          "base_uri": "https://localhost:8080/",
          "height": 35
        }
      },
      "source": [
        "matrix[0]"
      ],
      "execution_count": 38,
      "outputs": [
        {
          "output_type": "execute_result",
          "data": {
            "text/plain": [
              "[1, 2, 3]"
            ]
          },
          "metadata": {
            "tags": []
          },
          "execution_count": 38
        }
      ]
    },
    {
      "cell_type": "markdown",
      "metadata": {
        "id": "UTWHqYJoYmYR"
      },
      "source": [
        "Or we can extract a single element from the matrix using the double-index form"
      ]
    },
    {
      "cell_type": "code",
      "metadata": {
        "id": "JVSmPH-GYkF8",
        "outputId": "6546d47c-e94a-44d0-9557-b5e73cb92a3c",
        "colab": {
          "base_uri": "https://localhost:8080/",
          "height": 34
        }
      },
      "source": [
        "matrix[1][1]"
      ],
      "execution_count": null,
      "outputs": [
        {
          "output_type": "execute_result",
          "data": {
            "text/plain": [
              "5"
            ]
          },
          "metadata": {
            "tags": []
          },
          "execution_count": 5
        }
      ]
    },
    {
      "cell_type": "markdown",
      "metadata": {
        "id": "hpY2YsNAYyWf"
      },
      "source": [
        "#Strings and lists"
      ]
    },
    {
      "cell_type": "code",
      "metadata": {
        "id": "-seIF3TeYnuV",
        "outputId": "21a70796-f464-4cd2-eb89-8848ab3c7567",
        "colab": {
          "base_uri": "https://localhost:8080/",
          "height": 35
        }
      },
      "source": [
        "song = \"The rain in Spain...\"\n",
        "splitsong = song.split(\" \")\n",
        "print(splitsong)"
      ],
      "execution_count": 39,
      "outputs": [
        {
          "output_type": "stream",
          "text": [
            "['The', 'rain', 'in', 'Spain...']\n"
          ],
          "name": "stdout"
        }
      ]
    },
    {
      "cell_type": "code",
      "metadata": {
        "id": "s5wLFzqTY5LU",
        "outputId": "56b62eda-bbdc-4b62-99c0-d5fbf4425e44",
        "colab": {
          "base_uri": "https://localhost:8080/",
          "height": 35
        }
      },
      "source": [
        "list = ['The', 'rain', 'in', 'Spain...']\n",
        "songjoin = \" \"\n",
        "songjoin=songjoin.join(list)\n",
        "songjoin"
      ],
      "execution_count": 40,
      "outputs": [
        {
          "output_type": "execute_result",
          "data": {
            "application/vnd.google.colaboratory.intrinsic+json": {
              "type": "string"
            },
            "text/plain": [
              "'The rain in Spain...'"
            ]
          },
          "metadata": {
            "tags": []
          },
          "execution_count": 40
        }
      ]
    },
    {
      "cell_type": "code",
      "metadata": {
        "id": "xbaIuP9bZTvl",
        "outputId": "fa7c9890-ed3c-4cb1-e217-8bae38ab0656",
        "colab": {
          "base_uri": "https://localhost:8080/",
          "height": 35
        }
      },
      "source": [
        "list = ['The', 'rain', 'in', 'Spain...']\n",
        "songjoin = \" \"\n",
        "songjoin=songjoin.join(list)\n",
        "print(songjoin)"
      ],
      "execution_count": 41,
      "outputs": [
        {
          "output_type": "stream",
          "text": [
            "The rain in Spain...\n"
          ],
          "name": "stdout"
        }
      ]
    },
    {
      "cell_type": "markdown",
      "metadata": {
        "id": "-PiwAgUCdaA8"
      },
      "source": [
        "#List from Range"
      ]
    },
    {
      "cell_type": "code",
      "metadata": {
        "id": "y13Ynxt7ZzPN",
        "outputId": "9f818e13-31f6-4389-8b52-f5029819fd43",
        "colab": {
          "base_uri": "https://localhost:8080/",
          "height": 35
        }
      },
      "source": [
        "nums = [range(1, 1000001)]\n",
        "print(nums)"
      ],
      "execution_count": 42,
      "outputs": [
        {
          "output_type": "stream",
          "text": [
            "[range(1, 1000001)]\n"
          ],
          "name": "stdout"
        }
      ]
    },
    {
      "cell_type": "code",
      "metadata": {
        "id": "46kolv0yA7Vs",
        "outputId": "adaa3679-5d4a-49f6-c88f-47c5c72ca1e3",
        "colab": {
          "base_uri": "https://localhost:8080/",
          "height": 35
        }
      },
      "source": [
        "nums = range(1, 1000001)\n",
        "print(nums)"
      ],
      "execution_count": 43,
      "outputs": [
        {
          "output_type": "stream",
          "text": [
            "range(1, 1000001)\n"
          ],
          "name": "stdout"
        }
      ]
    },
    {
      "cell_type": "markdown",
      "metadata": {
        "id": "iJs-xnvceWLF"
      },
      "source": [
        "We can use argument-unpacking operator *"
      ]
    },
    {
      "cell_type": "code",
      "metadata": {
        "id": "dOQ3Wknsdf34",
        "outputId": "5e717b61-b51a-463d-ab89-d4507b38590a",
        "colab": {
          "base_uri": "https://localhost:8080/",
          "height": 35
        }
      },
      "source": [
        "nums = [*range(1, 10)]\n",
        "len(nums)\n",
        "print(nums)"
      ],
      "execution_count": 46,
      "outputs": [
        {
          "output_type": "stream",
          "text": [
            "[1, 2, 3, 4, 5, 6, 7, 8, 9]\n"
          ],
          "name": "stdout"
        }
      ]
    },
    {
      "cell_type": "markdown",
      "metadata": {
        "id": "gs8o5IcWeXzU"
      },
      "source": [
        "We can use the extend() function to unpack the result of range function"
      ]
    },
    {
      "cell_type": "code",
      "metadata": {
        "id": "9NH6SJLXeR_W",
        "outputId": "0d1e29b3-b3a0-4c54-c0d4-d7a22798f003",
        "colab": {
          "base_uri": "https://localhost:8080/",
          "height": 35
        }
      },
      "source": [
        "list = [] \n",
        "list.extend(range(1, 10)) \n",
        "len(list) \n",
        "print(list)\n"
      ],
      "execution_count": 49,
      "outputs": [
        {
          "output_type": "stream",
          "text": [
            "[1, 2, 3, 4, 5, 6, 7, 8, 9]\n"
          ],
          "name": "stdout"
        }
      ]
    },
    {
      "cell_type": "markdown",
      "metadata": {
        "id": "TQ87weNFfAVm"
      },
      "source": [
        "#Popping elements"
      ]
    },
    {
      "cell_type": "code",
      "metadata": {
        "id": "G6HGMN6tfGNq"
      },
      "source": [
        "colors =['red','blue','green']"
      ],
      "execution_count": 50,
      "outputs": []
    },
    {
      "cell_type": "code",
      "metadata": {
        "id": "kXlAIyBXe0hr",
        "outputId": "ea538682-8d5c-49fe-af2c-aff89dc223e0",
        "colab": {
          "base_uri": "https://localhost:8080/",
          "height": 35
        }
      },
      "source": [
        "# Pop the last item from a list\n",
        "color = colors.pop()\n",
        "print(color)\n",
        "\n"
      ],
      "execution_count": 52,
      "outputs": [
        {
          "output_type": "stream",
          "text": [
            "green\n"
          ],
          "name": "stdout"
        }
      ]
    },
    {
      "cell_type": "code",
      "metadata": {
        "id": "KLnln5i1glbR",
        "outputId": "2f73764c-3290-4c34-b9ec-9240d851ff91",
        "colab": {
          "base_uri": "https://localhost:8080/",
          "height": 35
        }
      },
      "source": [
        "print(colors)\n"
      ],
      "execution_count": 53,
      "outputs": [
        {
          "output_type": "stream",
          "text": [
            "['red', 'blue']\n"
          ],
          "name": "stdout"
        }
      ]
    },
    {
      "cell_type": "code",
      "metadata": {
        "id": "2uZetTLHo7b2",
        "outputId": "a68e151b-bccb-46e5-879d-89e912351a9b",
        "colab": {
          "base_uri": "https://localhost:8080/",
          "height": 35
        }
      },
      "source": [
        "# Pop the first item in a list\n",
        "color = colors.pop(0)\n",
        "print(color)\n"
      ],
      "execution_count": 54,
      "outputs": [
        {
          "output_type": "stream",
          "text": [
            "red\n"
          ],
          "name": "stdout"
        }
      ]
    },
    {
      "cell_type": "code",
      "metadata": {
        "id": "PA8NPPGcpEN7",
        "outputId": "2e6dd938-e070-407b-f875-8c264f651c3b",
        "colab": {
          "base_uri": "https://localhost:8080/",
          "height": 35
        }
      },
      "source": [
        "print(colors)"
      ],
      "execution_count": 55,
      "outputs": [
        {
          "output_type": "stream",
          "text": [
            "['blue']\n"
          ],
          "name": "stdout"
        }
      ]
    },
    {
      "cell_type": "code",
      "metadata": {
        "id": "wdVtucWnpE4T"
      },
      "source": [
        ""
      ],
      "execution_count": null,
      "outputs": []
    },
    {
      "cell_type": "markdown",
      "metadata": {
        "id": "wVlXvbRgw_bY"
      },
      "source": [
        ""
      ]
    },
    {
      "cell_type": "markdown",
      "metadata": {
        "id": "yXDqI_0MeATp"
      },
      "source": [
        "#List Comprehension"
      ]
    },
    {
      "cell_type": "markdown",
      "metadata": {
        "id": "aMBBXgj2wiHc"
      },
      "source": [
        "new_list = [expression for member in iterable]"
      ]
    },
    {
      "cell_type": "code",
      "metadata": {
        "id": "Yu5Tp02xCTnz",
        "outputId": "fc36c9e0-4fee-46fd-b14c-f5f4780f7b1b",
        "colab": {
          "base_uri": "https://localhost:8080/",
          "height": 104
        }
      },
      "source": [
        "letter =[]\n",
        "for letter in 'apple':\n",
        "  print (letter)\n",
        "  "
      ],
      "execution_count": 59,
      "outputs": [
        {
          "output_type": "stream",
          "text": [
            "a\n",
            "p\n",
            "p\n",
            "l\n",
            "e\n"
          ],
          "name": "stdout"
        }
      ]
    },
    {
      "cell_type": "code",
      "metadata": {
        "id": "ydtb1MJ6DcQl"
      },
      "source": [
        "mylist = [1,2,3,4,5]"
      ],
      "execution_count": 68,
      "outputs": []
    },
    {
      "cell_type": "code",
      "metadata": {
        "id": "R-x4RM8SEWxI",
        "outputId": "f6d0502f-ffe4-4cd9-dffb-9df7a462ff03",
        "colab": {
          "base_uri": "https://localhost:8080/",
          "height": 35
        }
      },
      "source": [
        "list=[i*i for i in mylist]\n",
        "list"
      ],
      "execution_count": 70,
      "outputs": [
        {
          "output_type": "execute_result",
          "data": {
            "text/plain": [
              "[1, 4, 9, 16, 25]"
            ]
          },
          "metadata": {
            "tags": []
          },
          "execution_count": 70
        }
      ]
    },
    {
      "cell_type": "code",
      "metadata": {
        "id": "nqLp2IGqeBKM",
        "outputId": "c69ea2cf-6ca1-4320-968a-0d7dfe66d9c3",
        "colab": {
          "base_uri": "https://localhost:8080/",
          "height": 35
        }
      },
      "source": [
        "letters = [ letter for letter in 'apple' ]\n",
        "print( letters)"
      ],
      "execution_count": 60,
      "outputs": [
        {
          "output_type": "stream",
          "text": [
            "['a', 'p', 'p', 'l', 'e']\n"
          ],
          "name": "stdout"
        }
      ]
    },
    {
      "cell_type": "code",
      "metadata": {
        "id": "LuXulWwIeFvx",
        "outputId": "2fde4492-0e81-49a3-c62d-d637b6881c02",
        "colab": {
          "base_uri": "https://localhost:8080/",
          "height": 35
        }
      },
      "source": [
        "squares = [i **2 for i in range(10)]\n",
        "squares"
      ],
      "execution_count": 66,
      "outputs": [
        {
          "output_type": "execute_result",
          "data": {
            "text/plain": [
              "[0, 1, 4, 9, 16, 25, 36, 49, 64, 81]"
            ]
          },
          "metadata": {
            "tags": []
          },
          "execution_count": 66
        }
      ]
    },
    {
      "cell_type": "markdown",
      "metadata": {
        "id": "tmwTuLILwylM"
      },
      "source": [
        "The only distinction between this implementation and map() is that the list comprehension in Python returns a list, not a map object."
      ]
    },
    {
      "cell_type": "markdown",
      "metadata": {
        "id": "X1Vt2hEuw87F"
      },
      "source": [
        "Using Conditional Logic"
      ]
    },
    {
      "cell_type": "markdown",
      "metadata": {
        "id": "zA-47xamyFp8"
      },
      "source": [
        "new_list = [expression for member in iterable (if conditional)]"
      ]
    },
    {
      "cell_type": "code",
      "metadata": {
        "id": "NWIssFWzEynf",
        "outputId": "f60cb147-801f-497b-d52b-a17b347f3c67",
        "colab": {
          "base_uri": "https://localhost:8080/",
          "height": 537
        }
      },
      "source": [
        "sentence = 'the rocket came back from mars'\n",
        "vowels = [i for i in sentence]\n",
        "vowels"
      ],
      "execution_count": 71,
      "outputs": [
        {
          "output_type": "execute_result",
          "data": {
            "text/plain": [
              "['t',\n",
              " 'h',\n",
              " 'e',\n",
              " ' ',\n",
              " 'r',\n",
              " 'o',\n",
              " 'c',\n",
              " 'k',\n",
              " 'e',\n",
              " 't',\n",
              " ' ',\n",
              " 'c',\n",
              " 'a',\n",
              " 'm',\n",
              " 'e',\n",
              " ' ',\n",
              " 'b',\n",
              " 'a',\n",
              " 'c',\n",
              " 'k',\n",
              " ' ',\n",
              " 'f',\n",
              " 'r',\n",
              " 'o',\n",
              " 'm',\n",
              " ' ',\n",
              " 'm',\n",
              " 'a',\n",
              " 'r',\n",
              " 's']"
            ]
          },
          "metadata": {
            "tags": []
          },
          "execution_count": 71
        }
      ]
    },
    {
      "cell_type": "code",
      "metadata": {
        "id": "MiFUFXZzwb-M",
        "outputId": "3bd28fba-0b3f-4871-b7d8-c52cd7999289",
        "colab": {
          "base_uri": "https://localhost:8080/",
          "height": 35
        }
      },
      "source": [
        "sentence = 'the rocket came back from mars'\n",
        "vowels = [i for i in sentence if i  in 'aeiou']\n",
        "vowels"
      ],
      "execution_count": 74,
      "outputs": [
        {
          "output_type": "execute_result",
          "data": {
            "text/plain": [
              "['e', 'o', 'e', 'a', 'e', 'a', 'o', 'a']"
            ]
          },
          "metadata": {
            "tags": []
          },
          "execution_count": 74
        }
      ]
    },
    {
      "cell_type": "code",
      "metadata": {
        "id": "Wtm8PFOoyMcF",
        "outputId": "04710612-9014-4677-8a52-3514b70ccb4e",
        "colab": {
          "base_uri": "https://localhost:8080/",
          "height": 728
        }
      },
      "source": [
        "sentence = 'The rocket, who was named Ted, came back \\\n",
        "from Mars because he missed his friends.'\n",
        "def is_consonant(letter):\n",
        "    vowels = 'aeiou'\n",
        "    return letter.isalpha() and letter.lower() not in vowels\n",
        "consonants = [i for i in sentence if is_consonant(i)]\n",
        "consonants"
      ],
      "execution_count": 76,
      "outputs": [
        {
          "output_type": "execute_result",
          "data": {
            "text/plain": [
              "['T',\n",
              " 'h',\n",
              " 'r',\n",
              " 'c',\n",
              " 'k',\n",
              " 't',\n",
              " 'w',\n",
              " 'h',\n",
              " 'w',\n",
              " 's',\n",
              " 'n',\n",
              " 'm',\n",
              " 'd',\n",
              " 'T',\n",
              " 'd',\n",
              " 'c',\n",
              " 'm',\n",
              " 'b',\n",
              " 'c',\n",
              " 'k',\n",
              " 'f',\n",
              " 'r',\n",
              " 'm',\n",
              " 'M',\n",
              " 'r',\n",
              " 's',\n",
              " 'b',\n",
              " 'c',\n",
              " 's',\n",
              " 'h',\n",
              " 'm',\n",
              " 's',\n",
              " 's',\n",
              " 'd',\n",
              " 'h',\n",
              " 's',\n",
              " 'f',\n",
              " 'r',\n",
              " 'n',\n",
              " 'd',\n",
              " 's']"
            ]
          },
          "metadata": {
            "tags": []
          },
          "execution_count": 76
        }
      ]
    },
    {
      "cell_type": "code",
      "metadata": {
        "id": "vHWYIeOFyQHs",
        "outputId": "6f0ed945-9e36-48e5-a32b-92b2070f4fee",
        "colab": {
          "base_uri": "https://localhost:8080/",
          "height": 35
        }
      },
      "source": [
        "original_prices = [1.25, -9.45, 10.22, 3.78, -5.92, 1.16]\n",
        "prices = [i if i > 0 else 0 for i in original_prices]\n",
        "prices"
      ],
      "execution_count": 78,
      "outputs": [
        {
          "output_type": "execute_result",
          "data": {
            "text/plain": [
              "[1.25, 0, 10.22, 3.78, 0, 1.16]"
            ]
          },
          "metadata": {
            "tags": []
          },
          "execution_count": 78
        }
      ]
    },
    {
      "cell_type": "code",
      "metadata": {
        "id": "pVQaTkoZyYvR"
      },
      "source": [
        ""
      ],
      "execution_count": null,
      "outputs": []
    }
  ]
}