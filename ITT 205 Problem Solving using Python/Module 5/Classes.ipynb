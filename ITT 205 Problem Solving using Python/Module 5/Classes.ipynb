{
  "nbformat": 4,
  "nbformat_minor": 0,
  "metadata": {
    "colab": {
      "name": "Classes",
      "provenance": [],
      "collapsed_sections": []
    },
    "kernelspec": {
      "name": "python3",
      "display_name": "Python 3"
    }
  },
  "cells": [
    {
      "cell_type": "markdown",
      "metadata": {
        "id": "1piM1v652sqx"
      },
      "source": [
        "#Class"
      ]
    },
    {
      "cell_type": "code",
      "metadata": {
        "id": "vEhP60XS2s6S",
        "outputId": "da68c115-ede0-48b9-beec-a4a79d3ea626",
        "colab": {
          "base_uri": "https://localhost:8080/"
        }
      },
      "source": [
        "class Sum(object):\n",
        "    \"\"\"Represents the attributes: x,y\n",
        "    \"\"\"\n",
        "    def calculate(self,x=0,y=0):\n",
        "        self.x = x\n",
        "        self.y = y\n",
        "        print (\"Sum:\",self.x+self.y)\n",
        "\n",
        "objsum = Sum()\n",
        "\n",
        "objsum.calculate(2,2)"
      ],
      "execution_count": null,
      "outputs": [
        {
          "output_type": "stream",
          "text": [
            "Sum: 4\n"
          ],
          "name": "stdout"
        }
      ]
    },
    {
      "cell_type": "code",
      "metadata": {
        "id": "Atx2G2iaNaeb",
        "outputId": "29886da3-76a4-486d-86f7-52894e81bda6",
        "colab": {
          "base_uri": "https://localhost:8080/"
        }
      },
      "source": [
        "print(Sum)"
      ],
      "execution_count": null,
      "outputs": [
        {
          "output_type": "stream",
          "text": [
            "<class '__main__.Sum'>\n"
          ],
          "name": "stdout"
        }
      ]
    },
    {
      "cell_type": "code",
      "metadata": {
        "id": "HF-g2wFsNkKW",
        "outputId": "9bf68e42-ee43-4c55-fb0e-a0734fecf8e5",
        "colab": {
          "base_uri": "https://localhost:8080/"
        }
      },
      "source": [
        "print(objsum)"
      ],
      "execution_count": null,
      "outputs": [
        {
          "output_type": "stream",
          "text": [
            "<__main__.Sum object at 0x7f431a30c7b8>\n"
          ],
          "name": "stdout"
        }
      ]
    },
    {
      "cell_type": "markdown",
      "metadata": {
        "id": "RmoGDcleBFnJ"
      },
      "source": [
        "#The init method"
      ]
    },
    {
      "cell_type": "markdown",
      "metadata": {
        "id": "bjeapcrOBGk6"
      },
      "source": [
        "The init method (short for “initialization”) is a special method that gets invoked when an object is instantiated. Its full name is __init__ (two underscore characters, followed by init, and then two more underscores)."
      ]
    },
    {
      "cell_type": "code",
      "metadata": {
        "id": "nLK2cyq63VV7",
        "outputId": "58ada33e-2ae0-4a57-eb6f-2986eb0b3666",
        "colab": {
          "base_uri": "https://localhost:8080/"
        }
      },
      "source": [
        "class Person:\n",
        "  def __init__(self, name, age):\n",
        "    self.name = name\n",
        "    self.age = age\n",
        "\n",
        "p1 = Person(\"John\", 36)\n",
        "\n",
        "print(p1.name)\n",
        "print(p1.age)"
      ],
      "execution_count": null,
      "outputs": [
        {
          "output_type": "stream",
          "text": [
            "John\n",
            "36\n"
          ],
          "name": "stdout"
        }
      ]
    },
    {
      "cell_type": "markdown",
      "metadata": {
        "id": "eChhoFJtBQaW"
      },
      "source": [
        "#The self Parameter"
      ]
    },
    {
      "cell_type": "markdown",
      "metadata": {
        "id": "vTcliZ9mBfV4"
      },
      "source": [
        "By convention, the first parameter of a method is called self"
      ]
    },
    {
      "cell_type": "code",
      "metadata": {
        "id": "K7CYmTJ4As8Z"
      },
      "source": [
        "class Person:\n",
        "  def __init__(self, name, age):\n",
        "    self.name = name\n",
        "    self.age = age\n",
        "\n",
        "  def myfunc(self):\n",
        "    print(\"Hello my name is \" + self.name)\n",
        "\n",
        "p1 = Person(\"John\", 36)\n",
        "p1.myfunc()"
      ],
      "execution_count": null,
      "outputs": []
    },
    {
      "cell_type": "markdown",
      "metadata": {
        "id": "ZGNQ4NTsPNTm"
      },
      "source": [
        "#Vehicle"
      ]
    },
    {
      "cell_type": "code",
      "metadata": {
        "id": "INDWLXm3PA8E",
        "outputId": "df184376-39ee-498d-81fd-ab07d17476f1",
        "colab": {
          "base_uri": "https://localhost:8080/"
        }
      },
      "source": [
        "\n",
        "class Vehicle:\n",
        "    kind = \"car\"\n",
        "    value = 10000000.00\n",
        "    def __init__(self,name,color=\"white\"):\n",
        "      self.name = name\n",
        "      self.color = color\n",
        "      \n",
        "    def description(self):\n",
        "        desc_str = \"%s is a %s %s worth Rs.%.2f.\" % (self.name, self.color, self.kind, self.value)\n",
        "        return desc_str\n",
        "\n",
        "car1=Vehicle(\"BMW\",\"black\")\n",
        "car2=Vehicle(\"Benz\")\n",
        "\n",
        "print(car1.description())\n",
        "print(car2.description())"
      ],
      "execution_count": null,
      "outputs": [
        {
          "output_type": "stream",
          "text": [
            "BMW is a black car worth Rs.10000000.00.\n",
            "Benz is a white car worth Rs.10000000.00.\n"
          ],
          "name": "stdout"
        }
      ]
    },
    {
      "cell_type": "markdown",
      "metadata": {
        "id": "uNYk80Y0Qh0H"
      },
      "source": [
        "#Defining instance varibale using constructor."
      ]
    },
    {
      "cell_type": "code",
      "metadata": {
        "id": "8iFRsAKzC0pW",
        "outputId": "a7859e2b-34f3-408c-ac5f-fe72c37312d4",
        "colab": {
          "base_uri": "https://localhost:8080/"
        }
      },
      "source": [
        "# Python program to show that the variables with a value \n",
        "# assigned in the class declaration, are class variables and \n",
        "# variables inside methods and constructors are instance \n",
        "# variables. \n",
        "\t\n",
        "# Class for Dog \n",
        "class Dog: \n",
        "\t\n",
        "\t# Class Variable \n",
        "\tanimal = 'dog'\t\t\t\n",
        "\t\n",
        "\t# The init method or constructor \n",
        "\tdef __init__(self, breed, color): \n",
        "\t\n",
        "\t\t# Instance Variable\t \n",
        "\t\tself.breed = breed \n",
        "\t\tself.color = color\t\t \n",
        "\t\n",
        "# Objects of Dog class \n",
        "Rodger = Dog(\"Pug\", \"brown\") \n",
        "Buzo = Dog(\"Bulldog\", \"black\") \n",
        "\n",
        "print('Rodger details:') \n",
        "print('Rodger is a', Rodger.animal) \n",
        "print('Breed: ', Rodger.breed) \n",
        "print('Color: ', Rodger.color) \n",
        "\n",
        "print('\\nBuzo details:') \n",
        "print('Buzo is a', Buzo.animal) \n",
        "print('Breed: ', Buzo.breed) \n",
        "print('Color: ', Buzo.color) \n",
        "\n",
        "# Class variables can be accessed using class \n",
        "# name also \n",
        "print(\"\\nAccessing class variable using class name\") \n",
        "print(Dog.animal)\t\t \n"
      ],
      "execution_count": null,
      "outputs": [
        {
          "output_type": "stream",
          "text": [
            "Rodger details:\n",
            "Rodger is a dog\n",
            "Breed:  Pug\n",
            "Color:  brown\n",
            "\n",
            "Buzo details:\n",
            "Buzo is a dog\n",
            "Breed:  Bulldog\n",
            "Color:  black\n",
            "\n",
            "Accessing class variable using class name\n",
            "dog\n"
          ],
          "name": "stdout"
        }
      ]
    },
    {
      "cell_type": "markdown",
      "metadata": {
        "id": "b5Ad25HSQtQe"
      },
      "source": [
        "#Defining instance variable using the normal method."
      ]
    },
    {
      "cell_type": "code",
      "metadata": {
        "id": "LixjFgDUQiv9",
        "outputId": "f8bbe60b-23fb-4146-b0f4-52448f2dde74",
        "colab": {
          "base_uri": "https://localhost:8080/"
        }
      },
      "source": [
        "# Python program to show that we can create \n",
        "# instance variables inside methods \n",
        "\t\n",
        "# Class for Dog \n",
        "class Dog: \n",
        "\t\t\n",
        "\t# Class Variable \n",
        "\tanimal = 'dog'\t\n",
        "\t\t\n",
        "\t# The init method or constructor \n",
        "\tdef __init__(self, breed): \n",
        "\t\t\t\n",
        "\t\t# Instance Variable \n",
        "\t\tself.breed = breed\t\t\t \n",
        "\t\n",
        "\t# Adds an instance variable \n",
        "\tdef setColor(self, color): \n",
        "\t\tself.color = color \n",
        "\t\t\n",
        "\t# Retrieves instance variable\t \n",
        "\tdef getColor(self):\t \n",
        "\t\treturn self.color\t \n",
        "\t\n",
        "# Driver Code \n",
        "Rodger = Dog(\"pug\") \n",
        "Rodger.setColor(\"brown\") \n",
        "print(Rodger.getColor()) \n"
      ],
      "execution_count": null,
      "outputs": [
        {
          "output_type": "stream",
          "text": [
            "brown\n"
          ],
          "name": "stdout"
        }
      ]
    },
    {
      "cell_type": "code",
      "metadata": {
        "id": "Xr4RaLZdQu-0"
      },
      "source": [
        ""
      ],
      "execution_count": null,
      "outputs": []
    },
    {
      "cell_type": "markdown",
      "metadata": {
        "id": "f8sr3eBEVjeo"
      },
      "source": [
        "Create a Class Student\n",
        "Name\n",
        "Age\n",
        "Register_Number\n",
        "Total_Marks\n",
        "\n",
        "__init__ Name, Age, Register_Number\n",
        "marks()\n",
        "input() Marks of each subject (5)\n",
        "Total_Marks = Add all 5 subject Marks\n",
        "\n",
        "report()\n",
        "Name\n",
        "Age\n",
        "Register_Number\n",
        "Total_Marks\n",
        "\n"
      ]
    },
    {
      "cell_type": "code",
      "metadata": {
        "id": "-DnrDnppWOWM",
        "outputId": "594e1a98-d8eb-4809-dcbc-a50a782473b6",
        "colab": {
          "base_uri": "https://localhost:8080/"
        }
      },
      "source": [
        "class Student:\n",
        "  total_marks=0\n",
        "  def __init__(self, name, age,register_number):\n",
        "    self.name = name\n",
        "    self.age = age\n",
        "    self.register_number = register_number\n",
        "\n",
        "  def marks(self):\n",
        "    print(\"Enter Marks of 5 subjects\")\n",
        "    while(True):\n",
        "      subject_mark=input(\"Enter Mark\")\n",
        "      if(subject_mark==\"*\"):\n",
        "        break\n",
        "      subject_mark=int(subject_mark)\n",
        "      self.total_marks=self.total_marks+subject_mark\n",
        "  def report(self):\n",
        "    print(\"Name:\",self.name)\n",
        "    print(\"Age:\",self.age)\n",
        "    print(\"Register Number:\",self.register_number)\n",
        "    print(\"Total Marks:\",self.total_marks)\n",
        "\n",
        "objs = Student(\"John\", 22, 'KSDEC001')\n",
        "objs.marks()\n",
        "objs.report()"
      ],
      "execution_count": null,
      "outputs": [
        {
          "output_type": "stream",
          "text": [
            "Enter Marks of 5 subjects\n",
            "Enter Mark20\n",
            "Enter Mark20\n",
            "Enter Mark30\n",
            "Enter Mark20\n",
            "Enter Mark40\n",
            "Enter Mark*\n",
            "Name: John\n",
            "Age: 22\n",
            "Register Number: KSDEC001\n",
            "Total Marks: 130\n"
          ],
          "name": "stdout"
        }
      ]
    },
    {
      "cell_type": "code",
      "metadata": {
        "id": "EsWcqYMRWzPj"
      },
      "source": [
        "class student:\n",
        "  def _init_(self,name,age, register_number):\n",
        "        self.name=name\n",
        "        self.age=age\n",
        "        self.register_number=register_number\n",
        "  def mark():\n",
        "      for i in range(5):\n",
        "        mark=int(input(\"enter mark\"))\n",
        "        if mark==\"Done\":\n",
        "            break\n",
        "        sum=sum+mark\n",
        "        return sum\n",
        "  def report():\n",
        "      pass\n",
        "      #print(\"name:%2f , register number :%2d, age:%2f , Total marks:%2f\" .%(self.name ,self.age,self,register_number,self.sum))\n"
      ],
      "execution_count": null,
      "outputs": []
    },
    {
      "cell_type": "code",
      "metadata": {
        "id": "fI6XLrbCZwji"
      },
      "source": [
        ""
      ],
      "execution_count": null,
      "outputs": []
    }
  ]
}