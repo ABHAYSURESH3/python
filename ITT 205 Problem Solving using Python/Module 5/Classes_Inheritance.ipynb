{
  "nbformat": 4,
  "nbformat_minor": 0,
  "metadata": {
    "colab": {
      "name": "Classes",
      "provenance": [],
      "collapsed_sections": []
    },
    "kernelspec": {
      "name": "python3",
      "display_name": "Python 3"
    }
  },
  "cells": [
    {
      "cell_type": "markdown",
      "metadata": {
        "id": "1piM1v652sqx"
      },
      "source": [
        "#Class"
      ]
    },
    {
      "cell_type": "code",
      "metadata": {
        "id": "UPeJxdI0IVce"
      },
      "source": [
        "class Sum:\n",
        "    \"\"\"Represents the attributes: x,y\n",
        "    \"\"\"\n",
        "    pass"
      ],
      "execution_count": null,
      "outputs": []
    },
    {
      "cell_type": "code",
      "metadata": {
        "id": "I0WNnNLFBL-G"
      },
      "source": [
        "class Sum(object):\n",
        "    \"\"\"Represents the attributes: x,y\n",
        "    \"\"\"\n",
        "    pass\n"
      ],
      "execution_count": null,
      "outputs": []
    },
    {
      "cell_type": "code",
      "metadata": {
        "colab": {
          "base_uri": "https://localhost:8080/"
        },
        "id": "vARhXpfvBSk0",
        "outputId": "0385a01c-4d5e-48d3-a5bb-8b47fba13c9b"
      },
      "source": [
        "Sum"
      ],
      "execution_count": null,
      "outputs": [
        {
          "output_type": "execute_result",
          "data": {
            "text/plain": [
              "__main__.Sum"
            ]
          },
          "metadata": {
            "tags": []
          },
          "execution_count": 28
        }
      ]
    },
    {
      "cell_type": "code",
      "metadata": {
        "colab": {
          "base_uri": "https://localhost:8080/"
        },
        "id": "y0Rs2QviIisG",
        "outputId": "61d2fa7c-9624-4630-8531-4ac8469509ea"
      },
      "source": [
        "print(Sum)"
      ],
      "execution_count": null,
      "outputs": [
        {
          "output_type": "stream",
          "text": [
            "<class '__main__.Sum'>\n"
          ],
          "name": "stdout"
        }
      ]
    },
    {
      "cell_type": "code",
      "metadata": {
        "id": "o-mVrAVEBbqA"
      },
      "source": [
        "sum = Sum()"
      ],
      "execution_count": null,
      "outputs": []
    },
    {
      "cell_type": "code",
      "metadata": {
        "colab": {
          "base_uri": "https://localhost:8080/"
        },
        "id": "lU8-RV5TBesi",
        "outputId": "fa89c88f-a6f3-4ee2-869d-72f31431dcab"
      },
      "source": [
        "type(sum)"
      ],
      "execution_count": null,
      "outputs": [
        {
          "output_type": "execute_result",
          "data": {
            "text/plain": [
              "__main__.Sum"
            ]
          },
          "metadata": {
            "tags": []
          },
          "execution_count": 30
        }
      ]
    },
    {
      "cell_type": "code",
      "metadata": {
        "id": "apuK2l60B0G1"
      },
      "source": [
        "sum1 = Sum()"
      ],
      "execution_count": null,
      "outputs": []
    },
    {
      "cell_type": "code",
      "metadata": {
        "colab": {
          "base_uri": "https://localhost:8080/"
        },
        "id": "ND5TJ2jqB2aW",
        "outputId": "11ff8f72-11bf-4f22-f492-b5ce482b4dbf"
      },
      "source": [
        "print(sum1)"
      ],
      "execution_count": null,
      "outputs": [
        {
          "output_type": "stream",
          "text": [
            "<__main__.Sum object at 0x7f51acd15a20>\n"
          ],
          "name": "stdout"
        }
      ]
    },
    {
      "cell_type": "code",
      "metadata": {
        "colab": {
          "base_uri": "https://localhost:8080/"
        },
        "id": "GkIl4t-uB_3K",
        "outputId": "4a689200-4ab8-494d-d48f-a3869585339e"
      },
      "source": [
        "print(sum)"
      ],
      "execution_count": null,
      "outputs": [
        {
          "output_type": "stream",
          "text": [
            "<__main__.Sum object at 0x7f51acd15748>\n"
          ],
          "name": "stdout"
        }
      ]
    },
    {
      "cell_type": "code",
      "metadata": {
        "id": "vEhP60XS2s6S",
        "colab": {
          "base_uri": "https://localhost:8080/"
        },
        "outputId": "5bacec86-4ae1-488e-f57d-4092389766ca"
      },
      "source": [
        "class Sum(object):\n",
        "    \"\"\"Represents the attributes: x,y\n",
        "    \"\"\"\n",
        "    def calculate(self,x=0,y=0):\n",
        "        self.x = x\n",
        "        self.y = y\n",
        "        print (\"Sum:\",self.x+self.y)\n",
        "\n",
        "objsum = Sum()\n",
        "\n",
        "objsum.calculate(10,20)"
      ],
      "execution_count": null,
      "outputs": [
        {
          "output_type": "stream",
          "text": [
            "Sum: 30\n"
          ],
          "name": "stdout"
        }
      ]
    },
    {
      "cell_type": "code",
      "metadata": {
        "id": "Atx2G2iaNaeb",
        "colab": {
          "base_uri": "https://localhost:8080/"
        },
        "outputId": "29886da3-76a4-486d-86f7-52894e81bda6"
      },
      "source": [
        "wprint(Sum)"
      ],
      "execution_count": null,
      "outputs": [
        {
          "output_type": "stream",
          "text": [
            "<class '__main__.Sum'>\n"
          ],
          "name": "stdout"
        }
      ]
    },
    {
      "cell_type": "code",
      "metadata": {
        "id": "HF-g2wFsNkKW",
        "colab": {
          "base_uri": "https://localhost:8080/"
        },
        "outputId": "9bf68e42-ee43-4c55-fb0e-a0734fecf8e5"
      },
      "source": [
        "print(objsum)"
      ],
      "execution_count": null,
      "outputs": [
        {
          "output_type": "stream",
          "text": [
            "<__main__.Sum object at 0x7f431a30c7b8>\n"
          ],
          "name": "stdout"
        }
      ]
    },
    {
      "cell_type": "markdown",
      "metadata": {
        "id": "iNBLNFtdFtDC"
      },
      "source": [
        "#Create a Class Person, object p1\n",
        "# __init__ Name, Age\n",
        "name=input(\"Enter Name\")\n",
        "age=input(\"Enter Age\")\n",
        "p1 = Person(name,age)\n",
        "#display \n",
        "Name: Tony\n",
        "Age: 34"
      ]
    },
    {
      "cell_type": "code",
      "metadata": {
        "colab": {
          "base_uri": "https://localhost:8080/"
        },
        "id": "Yq2ll6hxGvEV",
        "outputId": "b543b463-33c9-4c09-be93-d3e2221d33f5"
      },
      "source": [
        "class Person:\n",
        "  def __init__(self, name, age):\n",
        "    self.name = name\n",
        "    self.age = age\n",
        "\n",
        "  def display(self):\n",
        "    print(\"Name:\",self.name)\n",
        "    print(\"Age:\",self.age)\n",
        "\n",
        "name=input(\"Enter Name:\")\n",
        "age=input(\"Enter Age:\")\n",
        "print(\"Object Creation\")\n",
        "p1 = Person(name,age)\n",
        "print(\"Object is created\")\n",
        "p1.display()"
      ],
      "execution_count": null,
      "outputs": [
        {
          "output_type": "stream",
          "text": [
            "Enter Name:arun\n",
            "Enter Age:20\n",
            "Object Creation\n",
            "Object is created\n",
            "Name: arun\n",
            "Age: 20\n"
          ],
          "name": "stdout"
        }
      ]
    },
    {
      "cell_type": "code",
      "metadata": {
        "colab": {
          "base_uri": "https://localhost:8080/",
          "height": 128
        },
        "id": "IWzqNbCAH-n2",
        "outputId": "46bdd9f3-3693-48c0-caf0-d83c31aa31ef"
      },
      "source": [
        "class Person:\n",
        "    def __init__(self, name, age):\n",
        "        self.name=name\n",
        "        self.age=age\n",
        "    def display(self):\n",
        "        print(f\"Name = {self.name}\\nAge = {self.age}\")\n",
        "\n",
        "\n",
        "name=input(Enter name : \")\n",
        "age=int(input(\"Enter age : ))\n",
        "\n",
        "p1 = Person(name, age)\n",
        "p1.display()"
      ],
      "execution_count": null,
      "outputs": [
        {
          "output_type": "error",
          "ename": "SyntaxError",
          "evalue": "ignored",
          "traceback": [
            "\u001b[0;36m  File \u001b[0;32m\"<ipython-input-21-aff44931123b>\"\u001b[0;36m, line \u001b[0;32m9\u001b[0m\n\u001b[0;31m    name=input(Enter name : \")\u001b[0m\n\u001b[0m                        ^\u001b[0m\n\u001b[0;31mSyntaxError\u001b[0m\u001b[0;31m:\u001b[0m invalid syntax\n"
          ]
        }
      ]
    },
    {
      "cell_type": "markdown",
      "metadata": {
        "id": "RmoGDcleBFnJ"
      },
      "source": [
        "#The init method"
      ]
    },
    {
      "cell_type": "markdown",
      "metadata": {
        "id": "bjeapcrOBGk6"
      },
      "source": [
        "The init method (short for “initialization”) is a special method that gets invoked when an object is instantiated. Its full name is __init__ (two underscore characters, followed by init, and then two more underscores)."
      ]
    },
    {
      "cell_type": "code",
      "metadata": {
        "id": "nLK2cyq63VV7",
        "colab": {
          "base_uri": "https://localhost:8080/"
        },
        "outputId": "f33b338f-dce7-4864-9c68-ef3992aa4d3a"
      },
      "source": [
        "class Person:\n",
        "  def __init__(self, name, age):\n",
        "    self.name = name\n",
        "    self.age = age\n",
        "\n",
        "p1 = Person(\"John\", 36)\n",
        "\n",
        "print(p1.name)\n",
        "print(p1.age)"
      ],
      "execution_count": null,
      "outputs": [
        {
          "output_type": "stream",
          "text": [
            "John\n",
            "36\n"
          ],
          "name": "stdout"
        }
      ]
    },
    {
      "cell_type": "markdown",
      "metadata": {
        "id": "eChhoFJtBQaW"
      },
      "source": [
        "#The self Parameter"
      ]
    },
    {
      "cell_type": "markdown",
      "metadata": {
        "id": "vTcliZ9mBfV4"
      },
      "source": [
        "By convention, the first parameter of a method is called self"
      ]
    },
    {
      "cell_type": "code",
      "metadata": {
        "id": "K7CYmTJ4As8Z",
        "colab": {
          "base_uri": "https://localhost:8080/"
        },
        "outputId": "fbc7679f-022b-4e36-f058-e71e5cdf86fc"
      },
      "source": [
        "class Person:\n",
        "  def __init__(self, name, age):\n",
        "    self.name = name\n",
        "    self.age = age\n",
        "\n",
        "  def myfunc(self):\n",
        "    print(\"Hello my name is \" + self.name)\n",
        "\n",
        "p1 = Person(\"John\", 36)\n",
        "p1.myfunc()"
      ],
      "execution_count": null,
      "outputs": [
        {
          "output_type": "stream",
          "text": [
            "Hello my name is John\n"
          ],
          "name": "stdout"
        }
      ]
    },
    {
      "cell_type": "markdown",
      "metadata": {
        "id": "ZGNQ4NTsPNTm"
      },
      "source": [
        "#Vehicle"
      ]
    },
    {
      "cell_type": "code",
      "metadata": {
        "id": "INDWLXm3PA8E",
        "colab": {
          "base_uri": "https://localhost:8080/"
        },
        "outputId": "df184376-39ee-498d-81fd-ab07d17476f1"
      },
      "source": [
        "\n",
        "class Vehicle:\n",
        "    kind = \"car\"\n",
        "    value = 10000000.00\n",
        "    def __init__(self,name,color=\"white\"):\n",
        "      self.name = name\n",
        "      self.color = color\n",
        "      \n",
        "    def description(self):\n",
        "        desc_str = \"%s is a %s %s worth Rs.%.2f.\" % (self.name, self.color, self.kind, self.value)\n",
        "        return desc_str\n",
        "\n",
        "car1=Vehicle(\"BMW\",\"black\")\n",
        "car2=Vehicle(\"Benz\")\n",
        "\n",
        "print(car1.description())\n",
        "print(car2.description())"
      ],
      "execution_count": null,
      "outputs": [
        {
          "output_type": "stream",
          "text": [
            "BMW is a black car worth Rs.10000000.00.\n",
            "Benz is a white car worth Rs.10000000.00.\n"
          ],
          "name": "stdout"
        }
      ]
    },
    {
      "cell_type": "markdown",
      "metadata": {
        "id": "uNYk80Y0Qh0H"
      },
      "source": [
        "#Defining instance varibale using constructor."
      ]
    },
    {
      "cell_type": "code",
      "metadata": {
        "id": "8iFRsAKzC0pW",
        "colab": {
          "base_uri": "https://localhost:8080/"
        },
        "outputId": "a7859e2b-34f3-408c-ac5f-fe72c37312d4"
      },
      "source": [
        "# Python program to show that the variables with a value \n",
        "# assigned in the class declaration, are class variables and \n",
        "# variables inside methods and constructors are instance \n",
        "# variables. \n",
        "\t\n",
        "# Class for Dog \n",
        "class Dog: \n",
        "\t\n",
        "\t# Class Variable \n",
        "\tanimal = 'dog'\t\t\t\n",
        "\t\n",
        "\t# The init method or constructor \n",
        "\tdef __init__(self, breed, color): \n",
        "\t\n",
        "\t\t# Instance Variable\t \n",
        "\t\tself.breed = breed \n",
        "\t\tself.color = color\t\t \n",
        "\t\n",
        "# Objects of Dog class \n",
        "Rodger = Dog(\"Pug\", \"brown\") \n",
        "Buzo = Dog(\"Bulldog\", \"black\") \n",
        "\n",
        "print('Rodger details:') \n",
        "print('Rodger is a', Rodger.animal) \n",
        "print('Breed: ', Rodger.breed) \n",
        "print('Color: ', Rodger.color) \n",
        "\n",
        "print('\\nBuzo details:') \n",
        "print('Buzo is a', Buzo.animal) \n",
        "print('Breed: ', Buzo.breed) \n",
        "print('Color: ', Buzo.color) \n",
        "\n",
        "# Class variables can be accessed using class \n",
        "# name also \n",
        "print(\"\\nAccessing class variable using class name\") \n",
        "print(Dog.animal)\t\t \n"
      ],
      "execution_count": null,
      "outputs": [
        {
          "output_type": "stream",
          "text": [
            "Rodger details:\n",
            "Rodger is a dog\n",
            "Breed:  Pug\n",
            "Color:  brown\n",
            "\n",
            "Buzo details:\n",
            "Buzo is a dog\n",
            "Breed:  Bulldog\n",
            "Color:  black\n",
            "\n",
            "Accessing class variable using class name\n",
            "dog\n"
          ],
          "name": "stdout"
        }
      ]
    },
    {
      "cell_type": "markdown",
      "metadata": {
        "id": "b5Ad25HSQtQe"
      },
      "source": [
        "#Defining instance variable using the normal method."
      ]
    },
    {
      "cell_type": "code",
      "metadata": {
        "id": "LixjFgDUQiv9",
        "colab": {
          "base_uri": "https://localhost:8080/"
        },
        "outputId": "f8bbe60b-23fb-4146-b0f4-52448f2dde74"
      },
      "source": [
        "# Python program to show that we can create \n",
        "# instance variables inside methods \n",
        "\t\n",
        "# Class for Dog \n",
        "class Dog: \n",
        "\t\t\n",
        "\t# Class Variable \n",
        "\tanimal = 'dog'\t\n",
        "\t\t\n",
        "\t# The init method or constructor \n",
        "\tdef __init__(self, breed): \n",
        "\t\t\t\n",
        "\t\t# Instance Variable \n",
        "\t\tself.breed = breed\t\t\t \n",
        "\t\n",
        "\t# Adds an instance variable \n",
        "\tdef setColor(self, color): \n",
        "\t\tself.color = color \n",
        "\t\t\n",
        "\t# Retrieves instance variable\t \n",
        "\tdef getColor(self):\t \n",
        "\t\treturn self.color\t \n",
        "\t\n",
        "# Driver Code \n",
        "Rodger = Dog(\"pug\") \n",
        "Rodger.setColor(\"brown\") \n",
        "print(Rodger.getColor()) \n"
      ],
      "execution_count": null,
      "outputs": [
        {
          "output_type": "stream",
          "text": [
            "brown\n"
          ],
          "name": "stdout"
        }
      ]
    },
    {
      "cell_type": "code",
      "metadata": {
        "id": "Xr4RaLZdQu-0"
      },
      "source": [
        ""
      ],
      "execution_count": null,
      "outputs": []
    },
    {
      "cell_type": "markdown",
      "metadata": {
        "id": "f8sr3eBEVjeo"
      },
      "source": [
        "Create a Class Student\n",
        "Name\n",
        "Age\n",
        "Register_Number\n",
        "Total_Marks\n",
        "\n",
        "__init__ Name, Age, Register_Number\n",
        "marks()\n",
        "input() Marks of each subject (5)\n",
        "Total_Marks = Add all 5 subject Marks\n",
        "\n",
        "report()\n",
        "Name\n",
        "Age\n",
        "Register_Number\n",
        "Total_Marks\n",
        "\n"
      ]
    },
    {
      "cell_type": "code",
      "metadata": {
        "id": "-DnrDnppWOWM"
      },
      "source": [
        "class Student:\n",
        "  total_marks=0\n",
        "  def __init__(self, name, age,register_number):\n",
        "    self.name = name\n",
        "    self.age = age\n",
        "    self.register_number = register_number\n",
        "\n",
        "  def marks(self):\n",
        "    print(\"Enter Marks of 5 subjects\")\n",
        "    while(True):\n",
        "      subject_mark=input(\"Enter Mark\")\n",
        "      if(subject_mark==\"*\"):\n",
        "        break\n",
        "      subject_mark=int(subject_mark)\n",
        "      self.total_marks=self.total_marks+subject_mark\n",
        "  def report(self):\n",
        "    print(\"Name:\",self.name)\n",
        "    print(\"Age:\",self.age)\n",
        "    print(\"Register Number:\",self.register_number)\n",
        "    print(\"Total Marks:\",self.total_marks)\n",
        "\n"
      ],
      "execution_count": null,
      "outputs": []
    },
    {
      "cell_type": "code",
      "metadata": {
        "id": "yEO2zJkOyVgY",
        "colab": {
          "base_uri": "https://localhost:8080/"
        },
        "outputId": "f47f02ce-7475-4dc5-9d1b-ed3855de418b"
      },
      "source": [
        "print(Student)"
      ],
      "execution_count": null,
      "outputs": [
        {
          "output_type": "stream",
          "text": [
            "<class '__main__.Student'>\n"
          ],
          "name": "stdout"
        }
      ]
    },
    {
      "cell_type": "code",
      "metadata": {
        "id": "lEH63Hltybc_"
      },
      "source": [
        "objs = Student(\"John\", 22, 'KSDEC001')"
      ],
      "execution_count": null,
      "outputs": []
    },
    {
      "cell_type": "code",
      "metadata": {
        "id": "8E3AeU7VFnRx"
      },
      "source": [
        "objs1 = Student(\"John\", 22, 'KSDEC001')\n",
        "objs2 = Student(\"Ann\", 22, 'KSDEC002')"
      ],
      "execution_count": null,
      "outputs": []
    },
    {
      "cell_type": "code",
      "metadata": {
        "id": "JQQotymlFrkv",
        "colab": {
          "base_uri": "https://localhost:8080/"
        },
        "outputId": "528827aa-e213-48ba-eb37-6cce71aef168"
      },
      "source": [
        "print(objs1,objs2)"
      ],
      "execution_count": null,
      "outputs": [
        {
          "output_type": "stream",
          "text": [
            "<__main__.Student object at 0x7f5c5e586470> <__main__.Student object at 0x7f5c5e586400>\n"
          ],
          "name": "stdout"
        }
      ]
    },
    {
      "cell_type": "code",
      "metadata": {
        "id": "r7qUgqAwydoX",
        "colab": {
          "base_uri": "https://localhost:8080/"
        },
        "outputId": "41ca54fb-95b0-447a-e9cf-eba06fd4b35d"
      },
      "source": [
        "print(objs)"
      ],
      "execution_count": null,
      "outputs": [
        {
          "output_type": "stream",
          "text": [
            "<__main__.Student object at 0x7f5c5e586080>\n"
          ],
          "name": "stdout"
        }
      ]
    },
    {
      "cell_type": "code",
      "metadata": {
        "id": "l2ditV1LyMHQ",
        "colab": {
          "base_uri": "https://localhost:8080/"
        },
        "outputId": "e69f95ad-3547-433d-8acc-ffbded2f497e"
      },
      "source": [
        "objs.marks()\n",
        "objs.report()"
      ],
      "execution_count": null,
      "outputs": [
        {
          "output_type": "stream",
          "text": [
            "Enter Marks of 5 subjects\n",
            "Enter Mark10\n",
            "Enter Mark20\n",
            "Enter Mark10\n",
            "Enter Mark10\n",
            "Enter Mark20\n",
            "Enter Mark*\n",
            "Name: John\n",
            "Age: 22\n",
            "Register Number: KSDEC001\n",
            "Total Marks: 70\n"
          ],
          "name": "stdout"
        }
      ]
    },
    {
      "cell_type": "code",
      "metadata": {
        "id": "aU_yzjSCGSga",
        "colab": {
          "base_uri": "https://localhost:8080/"
        },
        "outputId": "8b2958de-1dce-4524-f2a8-fc0d72d64696"
      },
      "source": [
        "objs2.marks()\n",
        "objs2.report()"
      ],
      "execution_count": null,
      "outputs": [
        {
          "output_type": "stream",
          "text": [
            "Enter Marks of 5 subjects\n",
            "Enter Mark10\n",
            "Enter Mark0\n",
            "Enter Mark10\n",
            "Enter Mark10\n",
            "Enter Mark10\n",
            "Enter Mark*\n",
            "Name: Ann\n",
            "Age: 22\n",
            "Register Number: KSDEC002\n",
            "Total Marks: 40\n"
          ],
          "name": "stdout"
        }
      ]
    },
    {
      "cell_type": "markdown",
      "metadata": {
        "id": "S2VWcckrBJhi"
      },
      "source": [
        "#Accessor and Mutator"
      ]
    },
    {
      "cell_type": "code",
      "metadata": {
        "id": "fI6XLrbCZwji",
        "colab": {
          "base_uri": "https://localhost:8080/"
        },
        "outputId": "ab3b1684-7f2b-4f64-9aa5-aa33965d8f82"
      },
      "source": [
        "# Python program to illustrate the use of \n",
        "# Accessor and Mutator methods \n",
        "\n",
        "# Defining class Car \n",
        "class Car: \n",
        "\n",
        "\t# Defining method init method with a parameter \n",
        "\tdef __init__(self, carname): \n",
        "\t\tself.__make = carname \n",
        "\n",
        "\t# Defining Mutator Method \n",
        "\tdef set_make(self, carname): \n",
        "\t\tself.__make = carname \n",
        "\n",
        "\t# Defining Accessor Method \n",
        "\tdef get_make(self): \n",
        "\t\treturn self.__make \n",
        "\n",
        "# Creating an object \n",
        "myCar = Car('Ford'); \n",
        "\n",
        "# Accesses the value of the variable \n",
        "# using Accessor method and then \n",
        "# prints it \n",
        "print (myCar.get_make()) \n",
        "\n",
        "# Modifying the value of the variable \n",
        "# using Mutator method \n",
        "myCar.set_make('BMW') \n",
        "\n",
        "# Prints the modified value \n",
        "print (myCar.get_make()) \n"
      ],
      "execution_count": null,
      "outputs": [
        {
          "output_type": "stream",
          "text": [
            "Ford\n",
            "BMW\n"
          ],
          "name": "stdout"
        }
      ]
    },
    {
      "cell_type": "markdown",
      "metadata": {
        "id": "ONbBxUm-Iw18"
      },
      "source": [
        "Create a class Employee with attributes Name, Salary. __init__ Display Update"
      ]
    },
    {
      "cell_type": "code",
      "metadata": {
        "id": "vBayq9cRLzLS",
        "colab": {
          "base_uri": "https://localhost:8080/"
        },
        "outputId": "a05f3214-ca84-4c41-e405-b2b01785fc64"
      },
      "source": [
        "class Employee:\n",
        "  def __init__(self, name, salary):\n",
        "    self.name = name\n",
        "    self.salary = salary\n",
        " \n",
        "  def report(self):\n",
        "    print(\"Name:\",self.name)\n",
        "    print(\"Salary:\",self.salary)\n",
        "\n",
        "class Salary(Employee):\n",
        "  \n",
        "  def update(self,increment):\n",
        "    self.salary=self.salary+increment\n",
        "\n",
        "objs = Salary(\"John\", 50000)\n",
        "objs.report()\n",
        "objs.update(10000)\n",
        "objs.report()\n"
      ],
      "execution_count": null,
      "outputs": [
        {
          "output_type": "stream",
          "text": [
            "Name: John\n",
            "Salary: 50000\n",
            "Name: John\n",
            "Salary: 60000\n"
          ],
          "name": "stdout"
        }
      ]
    },
    {
      "cell_type": "markdown",
      "metadata": {
        "id": "edCfop_OBxgl"
      },
      "source": [
        "#Inheritance"
      ]
    },
    {
      "cell_type": "code",
      "metadata": {
        "id": "43tAb3kPBykP",
        "colab": {
          "base_uri": "https://localhost:8080/"
        },
        "outputId": "d06f65f2-0b5d-415d-e06b-6666aa2b8170"
      },
      "source": [
        "# A Python program to demonstrate inheritance \n",
        "\n",
        "# Base or Super class. Note object in bracket. \n",
        "# (Generally, object is made ancestor of all classes) \n",
        "# In Python 3.x \"class Person\" is \n",
        "# equivalent to \"class Person(object)\" \n",
        "class Person(object): \n",
        "\t\n",
        "\t# Constructor \n",
        "\tdef __init__(self, name): \n",
        "\t\tself.name = name \n",
        "\n",
        "\t# To get name \n",
        "\tdef getName(self): \n",
        "\t\treturn self.name \n",
        "\n",
        "\t# To check if this person is an employee \n",
        "\tdef isEmployee(self): \n",
        "\t\treturn False\n",
        "\n",
        "\n",
        "# Inherited or Subclass (Note Person in bracket) \n",
        "class Employee(Person): \n",
        "\n",
        "\t# Here we return true \n",
        "\tdef isEmployee(self): \n",
        "\t\treturn True\n",
        "\n",
        "# Driver code \n",
        "emp = Person(\"Arun\") # An Object of Person \n",
        "print(emp.getName(), emp.isEmployee()) \n",
        "\n",
        "emp = Employee(\"John\") # An Object of Employee \n",
        "print(emp.getName(), emp.isEmployee()) \n"
      ],
      "execution_count": null,
      "outputs": [
        {
          "output_type": "stream",
          "text": [
            "Arun False\n",
            "John True\n"
          ],
          "name": "stdout"
        }
      ]
    },
    {
      "cell_type": "code",
      "metadata": {
        "id": "Q7Xpg3feBy6R",
        "colab": {
          "base_uri": "https://localhost:8080/"
        },
        "outputId": "f084577b-ab0b-4d7c-e1a0-1c2b3dcb7175"
      },
      "source": [
        "# Python code to demonstrate how parent constructors \n",
        "# are called. \n",
        "\n",
        "# parent class \n",
        "class Person( object ):\t \n",
        "\n",
        "\t\t# __init__ is known as the constructor\t\t \n",
        "\t\tdef __init__(self, name, idnumber): \n",
        "\t\t\t\tself.name = name \n",
        "\t\t\t\tself.idnumber = idnumber \n",
        "\t\tdef display(self): \n",
        "\t\t\t\tprint(self.name) \n",
        "\t\t\t\tprint(self.idnumber) \n",
        "\n",
        "# child class \n",
        "class Employee( Person ):\t\t \n",
        "\t\tdef __init__(self, name, idnumber, salary, post): \n",
        "\t\t\t\tself.salary = salary \n",
        "\t\t\t\tself.post = post \n",
        "\n",
        "\t\t\t\t# invoking the __init__ of the parent class \n",
        "\t\t\t\tPerson.__init__(self, name, idnumber) \n",
        "\n",
        "\t\t\t\t\n",
        "# creation of an object variable or an instance \n",
        "a = Employee('Rahul', 886012, 200000, \"Intern\")\t \n",
        "\n",
        "# calling a function of the class Person using its instance \n",
        "a.display() \n"
      ],
      "execution_count": null,
      "outputs": [
        {
          "output_type": "stream",
          "text": [
            "Rahul\n",
            "886012\n"
          ],
          "name": "stdout"
        }
      ]
    },
    {
      "cell_type": "code",
      "metadata": {
        "id": "AsRJnM91CHwm",
        "colab": {
          "base_uri": "https://localhost:8080/"
        },
        "outputId": "c8f2c709-2dc7-4847-859c-8c423cda1041"
      },
      "source": [
        "# Python example to show the working of multiple \n",
        "# inheritance \n",
        "class Base1(object): \n",
        "\tdef __init__(self): \n",
        "\t\tself.str1 = \"Geek1\"\n",
        "\t\tprint(\"Base1\") \n",
        "\n",
        "class Base2(object): \n",
        "\tdef __init__(self): \n",
        "\t\tself.str2 = \"Geek2\"\t\t\n",
        "\t\tprint(\"Base2\") \n",
        "\n",
        "class Derived(Base1, Base2): \n",
        "\tdef __init__(self): \n",
        "\t\t\n",
        "\t\t# Calling constructors of Base1 \n",
        "\t\t# and Base2 classes \n",
        "\t\tBase1.__init__(self) \n",
        "\t\tBase2.__init__(self) \n",
        "\t\tprint(\"Derived\") \n",
        "\t\t\n",
        "\tdef printStrs(self): \n",
        "\t\tprint(self.str1, self.str2) \n",
        "\t\t\n",
        "\n",
        "ob = Derived() \n",
        "ob.printStrs() \n"
      ],
      "execution_count": null,
      "outputs": [
        {
          "output_type": "stream",
          "text": [
            "Base1\n",
            "Base2\n",
            "Derived\n",
            "Geek1 Geek2\n"
          ],
          "name": "stdout"
        }
      ]
    },
    {
      "cell_type": "markdown",
      "metadata": {
        "id": "vvRv0JeVRDsz"
      },
      "source": [
        "Class Father   name\n",
        "Class Mother   name\n",
        "\n",
        "Class child    name\n",
        "\n",
        "      display()\n"
      ]
    },
    {
      "cell_type": "code",
      "metadata": {
        "id": "LVvmBLpjUmtG",
        "colab": {
          "base_uri": "https://localhost:8080/"
        },
        "outputId": "fba9dab3-2b1a-429b-de52-cc4257baf539"
      },
      "source": [
        "# Python example to show the working of multiple \n",
        "# inheritance \n",
        "class Father(object): \n",
        "\tdef __init__(self): \n",
        "\t\tself.fname = \"John\"\n",
        "\t\tprint(\"Name of Father:\",self.fname) \n",
        "\n",
        "class Mother(object): \n",
        "\tdef __init__(self): \n",
        "\t\tself.mname = \"Ann\"\t\t\n",
        "\t\tprint(\"Name of Mother:\",self.mname) \n",
        "\n",
        "class Child(Father, Mother): \n",
        "  def __init__(self): \n",
        "\n",
        "    # Calling constructors of Base1 \n",
        "    # and Base2 classes \n",
        "    Father.__init__(self) \n",
        "    Mother.__init__(self)\n",
        "    self.cname = \"Paul\"\n",
        "    print(\"Derived\") \n",
        "\t\t\n",
        "  def printStrs(self): \n",
        "    print(self.fname, self.mname,self.cname) \n",
        "\t\t\n",
        "\n",
        "objchild = Child() \n",
        "objchild.printStrs() \n"
      ],
      "execution_count": null,
      "outputs": [
        {
          "output_type": "stream",
          "text": [
            "Name of Father: John\n",
            "Name of Mother: Ann\n",
            "Derived\n",
            "John Ann Paul\n"
          ],
          "name": "stdout"
        }
      ]
    },
    {
      "cell_type": "markdown",
      "metadata": {
        "id": "Q68OC4ngAXMB"
      },
      "source": [
        "#Polymorphism\n"
      ]
    },
    {
      "cell_type": "code",
      "metadata": {
        "id": "j4FYSlrIAaHj"
      },
      "source": [
        "def histogram(s):\n",
        "    d = dict()\n",
        "    for c in s:\n",
        "        if c not in d:\n",
        "            d[c] = 1\n",
        "        else:\n",
        "            d[c] = d[c]+1\n",
        "    return d"
      ],
      "execution_count": null,
      "outputs": []
    },
    {
      "cell_type": "code",
      "metadata": {
        "id": "1ARuIIhmA1d_"
      },
      "source": [
        "mylist = ['spam', 'egg', 'spam', 'spam', 'bacon', 'spam']"
      ],
      "execution_count": null,
      "outputs": []
    },
    {
      "cell_type": "code",
      "metadata": {
        "colab": {
          "base_uri": "https://localhost:8080/"
        },
        "id": "F_3Ce_2gBJ7a",
        "outputId": "15f4adf3-89d8-4c4c-bf0f-d594cfbe8f74"
      },
      "source": [
        "type(mylist)"
      ],
      "execution_count": null,
      "outputs": [
        {
          "output_type": "execute_result",
          "data": {
            "text/plain": [
              "list"
            ]
          },
          "metadata": {
            "tags": []
          },
          "execution_count": 43
        }
      ]
    },
    {
      "cell_type": "code",
      "metadata": {
        "colab": {
          "base_uri": "https://localhost:8080/"
        },
        "id": "WyRdOCZCA4lv",
        "outputId": "5f565241-5034-426f-d296-b124e027ec32"
      },
      "source": [
        "histogram(mylist)"
      ],
      "execution_count": null,
      "outputs": [
        {
          "output_type": "execute_result",
          "data": {
            "text/plain": [
              "{'bacon': 1, 'egg': 1, 'spam': 4}"
            ]
          },
          "metadata": {
            "tags": []
          },
          "execution_count": 47
        }
      ]
    },
    {
      "cell_type": "code",
      "metadata": {
        "id": "jTvGNdROA6co"
      },
      "source": [
        "mytuple = ('spam', 'egg', 'spam', 'spam', 'bacon', 'ham')"
      ],
      "execution_count": null,
      "outputs": []
    },
    {
      "cell_type": "code",
      "metadata": {
        "colab": {
          "base_uri": "https://localhost:8080/"
        },
        "id": "yEtj2e5hBME1",
        "outputId": "6661595d-64c4-4687-974f-45687b7384d1"
      },
      "source": [
        "type(mytuple)"
      ],
      "execution_count": null,
      "outputs": [
        {
          "output_type": "execute_result",
          "data": {
            "text/plain": [
              "tuple"
            ]
          },
          "metadata": {
            "tags": []
          },
          "execution_count": 45
        }
      ]
    },
    {
      "cell_type": "code",
      "metadata": {
        "colab": {
          "base_uri": "https://localhost:8080/"
        },
        "id": "qJ63Ty8GBEG_",
        "outputId": "fc680fb6-0610-4d4e-bc78-76a0b69f5aaf"
      },
      "source": [
        "histogram(mytuple)"
      ],
      "execution_count": null,
      "outputs": [
        {
          "output_type": "execute_result",
          "data": {
            "text/plain": [
              "{'bacon': 1, 'egg': 1, 'ham': 1, 'spam': 3}"
            ]
          },
          "metadata": {
            "tags": []
          },
          "execution_count": 48
        }
      ]
    },
    {
      "cell_type": "markdown",
      "metadata": {
        "id": "7hyvnP6MBWyE"
      },
      "source": [
        "Functions that can work with several types are called polymorphic. Polymorphism can facilitate code reuse."
      ]
    },
    {
      "cell_type": "markdown",
      "metadata": {
        "id": "KnJfNU10GRzv"
      },
      "source": [
        "#Examples"
      ]
    },
    {
      "cell_type": "code",
      "metadata": {
        "colab": {
          "base_uri": "https://localhost:8080/"
        },
        "id": "7NdhfcK7GTEH",
        "outputId": "b28a1c5e-545d-401b-d2f1-3ac95b0e55bc"
      },
      "source": [
        "# A simple Python function to demonstrate \n",
        "# Polymorphism \n",
        "\n",
        "def add(x, y, z = 0): \n",
        "\treturn x + y+z \n",
        "\n",
        "# Driver code \n",
        "print(add(2, 3)) \n",
        "print(add(2, 3, 4)) \n"
      ],
      "execution_count": null,
      "outputs": [
        {
          "output_type": "stream",
          "text": [
            "5\n",
            "9\n"
          ],
          "name": "stdout"
        }
      ]
    },
    {
      "cell_type": "markdown",
      "metadata": {
        "id": "DevXFdwENF94"
      },
      "source": [
        "Polymorphism in addition operator"
      ]
    },
    {
      "cell_type": "code",
      "metadata": {
        "colab": {
          "base_uri": "https://localhost:8080/"
        },
        "id": "lKwjzKD6NHQM",
        "outputId": "e9193d6d-bbc1-4a90-c98b-7f0e04e43204"
      },
      "source": [
        "num1 = 1\n",
        "num2 = 2\n",
        "print(num1+num2)"
      ],
      "execution_count": null,
      "outputs": [
        {
          "output_type": "stream",
          "text": [
            "3\n"
          ],
          "name": "stdout"
        }
      ]
    },
    {
      "cell_type": "code",
      "metadata": {
        "colab": {
          "base_uri": "https://localhost:8080/"
        },
        "id": "bSClSP3xNLGO",
        "outputId": "90c009b3-dd2b-4be9-903b-d671d6956b4b"
      },
      "source": [
        "str1 = \"Python\"\n",
        "str2 = \"Programming\"\n",
        "print(str1+\" \"+str2)"
      ],
      "execution_count": null,
      "outputs": [
        {
          "output_type": "stream",
          "text": [
            "Python Programming\n"
          ],
          "name": "stdout"
        }
      ]
    },
    {
      "cell_type": "markdown",
      "metadata": {
        "id": "wfpOTjIDNPt-"
      },
      "source": [
        "Polymorphic len() function"
      ]
    },
    {
      "cell_type": "code",
      "metadata": {
        "colab": {
          "base_uri": "https://localhost:8080/"
        },
        "id": "I-gE2MEzNLKs",
        "outputId": "f9d25240-1a9d-49d5-b33d-1606324d6d8e"
      },
      "source": [
        "print(len(\"Programiz\"))\n",
        "print(len([\"Python\", \"Java\", \"C\"]))\n",
        "print(len({\"Name\": \"John\", \"Address\": \"Nepal\"}))"
      ],
      "execution_count": null,
      "outputs": [
        {
          "output_type": "stream",
          "text": [
            "9\n",
            "3\n",
            "2\n"
          ],
          "name": "stdout"
        }
      ]
    },
    {
      "cell_type": "markdown",
      "metadata": {
        "id": "TH6_HwnYNWXG"
      },
      "source": [
        "Polymorphism in Class Methods"
      ]
    },
    {
      "cell_type": "code",
      "metadata": {
        "colab": {
          "base_uri": "https://localhost:8080/"
        },
        "id": "4lIw4Uo0NLE-",
        "outputId": "7b4f1ef2-c520-4b03-c3ad-2871dd6c4775"
      },
      "source": [
        "class Cat:\n",
        "    def __init__(self, name, age):\n",
        "        self.name = name\n",
        "        self.age = age\n",
        "\n",
        "    def info(self):\n",
        "        print(f\"I am a cat. My name is {self.name}. I am {self.age} years old.\")\n",
        "\n",
        "    def make_sound(self):\n",
        "        print(\"Meow\")\n",
        "\n",
        "\n",
        "class Dog:\n",
        "    def __init__(self, name, age):\n",
        "        self.name = name\n",
        "        self.age = age\n",
        "\n",
        "    def info(self):\n",
        "        print(f\"I am a dog. My name is {self.name}. I am {self.age} years old.\")\n",
        "\n",
        "    def make_sound(self):\n",
        "        print(\"Bark\")\n",
        "\n",
        "\n",
        "cat1 = Cat(\"Kitty\", 2.5)\n",
        "dog1 = Dog(\"Fluffy\", 4)\n",
        "\n",
        "for animal in (cat1, dog1):\n",
        "    animal.make_sound()\n",
        "    animal.info()\n"
      ],
      "execution_count": null,
      "outputs": [
        {
          "output_type": "stream",
          "text": [
            "Meow\n",
            "I am a cat. My name is Kitty. I am 2.5 years old.\n",
            "Bark\n",
            "I am a dog. My name is Fluffy. I am 4 years old.\n"
          ],
          "name": "stdout"
        }
      ]
    },
    {
      "cell_type": "markdown",
      "metadata": {
        "id": "dF6pKqrtNgvW"
      },
      "source": [
        "Polymorphism and Inheritance"
      ]
    },
    {
      "cell_type": "code",
      "metadata": {
        "colab": {
          "base_uri": "https://localhost:8080/"
        },
        "id": "1cqGd6oYNLC_",
        "outputId": "132cb641-57fa-401c-a71d-a387751519a3"
      },
      "source": [
        "from math import pi\n",
        "\n",
        "\n",
        "class Shape:\n",
        "    def __init__(self, name):\n",
        "        self.name = name\n",
        "\n",
        "    def area(self):\n",
        "        pass\n",
        "\n",
        "    def fact(self):\n",
        "        return \"I am a two-dimensional shape.\"\n",
        "\n",
        "    def __str__(self):\n",
        "        return self.name\n",
        "\n",
        "\n",
        "class Square(Shape):\n",
        "    def __init__(self, length):\n",
        "        super().__init__(\"Square\")\n",
        "        self.length = length\n",
        "\n",
        "    def area(self):\n",
        "        return self.length**2\n",
        "\n",
        "    def fact(self):\n",
        "        return \"Squares have each angle equal to 90 degrees.\"\n",
        "\n",
        "\n",
        "class Circle(Shape):\n",
        "    def __init__(self, radius):\n",
        "        super().__init__(\"Circle\")\n",
        "        self.radius = radius\n",
        "\n",
        "    def area(self):\n",
        "        return pi*self.radius**2\n",
        "\n",
        "\n",
        "a = Square(4)\n",
        "b = Circle(7)\n",
        "print(a)\n",
        "print(b)\n",
        "print(a.area())\n",
        "print(b.area())\n",
        "print(a.fact())\n",
        "print(b.fact())\n"
      ],
      "execution_count": null,
      "outputs": [
        {
          "output_type": "stream",
          "text": [
            "Square\n",
            "Circle\n",
            "16\n",
            "153.93804002589985\n",
            "Squares have each angle equal to 90 degrees.\n",
            "I am a two-dimensional shape.\n"
          ],
          "name": "stdout"
        }
      ]
    },
    {
      "cell_type": "code",
      "metadata": {
        "id": "OESvfs5sNLBA"
      },
      "source": [
        ""
      ],
      "execution_count": null,
      "outputs": []
    },
    {
      "cell_type": "code",
      "metadata": {
        "colab": {
          "base_uri": "https://localhost:8080/"
        },
        "id": "TP9pvdvYGbEy",
        "outputId": "d5a2494c-d1e3-4c47-ce75-85f8a6bd9802"
      },
      "source": [
        "class India(): \n",
        "\tdef capital(self): \n",
        "\t\tprint(\"New Delhi is the capital of India.\") \n",
        "\n",
        "\tdef language(self): \n",
        "\t\tprint(\"Hindi is the most widely spoken language of India.\") \n",
        "\n",
        "\tdef type(self): \n",
        "\t\tprint(\"India is a developing country.\") \n",
        "\n",
        "class USA(): \n",
        "\tdef capital(self): \n",
        "\t\tprint(\"Washington, D.C. is the capital of USA.\") \n",
        "\n",
        "\tdef language(self): \n",
        "\t\tprint(\"English is the primary language of USA.\") \n",
        "\n",
        "\tdef type(self): \n",
        "\t\tprint(\"USA is a developed country.\") \n",
        "\n",
        "obj_ind = India() \n",
        "obj_usa = USA() \n",
        "for country in (obj_ind, obj_usa): \n",
        "\tcountry.capital() \n",
        "\tcountry.language() \n",
        "\tcountry.type() \n"
      ],
      "execution_count": null,
      "outputs": [
        {
          "output_type": "stream",
          "text": [
            "New Delhi is the capital of India.\n",
            "Hindi is the most widely spoken language of India.\n",
            "India is a developing country.\n",
            "Washington, D.C. is the capital of USA.\n",
            "English is the primary language of USA.\n",
            "USA is a developed country.\n"
          ],
          "name": "stdout"
        }
      ]
    },
    {
      "cell_type": "markdown",
      "metadata": {
        "id": "jhQKo6Eb_9b7"
      },
      "source": [
        "#Abstract Classes"
      ]
    },
    {
      "cell_type": "code",
      "metadata": {
        "id": "tV5I_yMiV8UP",
        "colab": {
          "base_uri": "https://localhost:8080/"
        },
        "outputId": "e10506bf-933c-49e5-d4b4-d0fd13dde1d0"
      },
      "source": [
        "from abc import ABC, abstractmethod\n",
        " \n",
        "class AbstractClassExample(ABC):\n",
        " \n",
        "    def __init__(self, value):\n",
        "        self.value = value\n",
        "        super().__init__()\n",
        "    \n",
        "    @abstractmethod\n",
        "    def do_something(self):\n",
        "        print(\"Hello from Base Class\")\n",
        "        return self.value\n",
        "\n",
        "class DoAdd42(AbstractClassExample):\n",
        "\n",
        "    def do_something(self):\n",
        "        return self.value + 42\n",
        "    def say_hello(self):\n",
        "        print(\"Hello from add\")\n",
        "        return self.value + 42\n",
        "    \n",
        "class DoMul42(AbstractClassExample):\n",
        "   \n",
        "    def do_something(self):\n",
        "        return self.value * 42\n",
        "\n",
        "class DoDiv42(AbstractClassExample):\n",
        "\n",
        "    def do_something(self):\n",
        "        return self.value / 42\n",
        "    \n",
        "#base =AbstractClassExample(10) ####IMPORTANT####\n",
        "#print(base.do_something())\n",
        "\n",
        "x = DoAdd42(10)\n",
        "y = DoMul42(10)\n",
        "z = DoDiv42(10)\n",
        "\n",
        "print(x.do_something())\n",
        "print(y.do_something())\n",
        "print(z.do_something())\n",
        "\n",
        "print(x.say_hello())"
      ],
      "execution_count": null,
      "outputs": [
        {
          "output_type": "stream",
          "text": [
            "52\n",
            "420\n",
            "0.23809523809523808\n",
            "Hello from add\n",
            "52\n"
          ],
          "name": "stdout"
        }
      ]
    },
    {
      "cell_type": "markdown",
      "metadata": {
        "id": "mtj12yL_C8uq"
      },
      "source": [
        "A class that is derived from an abstract class cannot be instantiated unless all of its abstract methods are overridden."
      ]
    },
    {
      "cell_type": "markdown",
      "metadata": {
        "id": "TtkKgIHWDJYP"
      },
      "source": [
        "An abstract method can have an implementation in the abstract class! Even if they are implemented, designers of subclasses will be forced to override the implementation. Like in other cases of \"normal\" inheritance, the abstract method can be invoked with super() call mechanism. This enables providing some basic functionality in the abstract method, which can be enriched by the subclass implementation."
      ]
    },
    {
      "cell_type": "code",
      "metadata": {
        "colab": {
          "base_uri": "https://localhost:8080/"
        },
        "id": "YwP-rSQJCmqE",
        "outputId": "1b92d6e2-7f8d-4428-f651-e7b9f4f2dd08"
      },
      "source": [
        "from abc import ABC, abstractmethod\n",
        " \n",
        "class AbstractClassExample(ABC):\n",
        "    \n",
        "    @abstractmethod\n",
        "    def do_something(self):\n",
        "        print(\"Some implementation!\")\n",
        "        \n",
        "class AnotherSubclass(AbstractClassExample):\n",
        "\n",
        "    def do_something(self):\n",
        "        super().do_something() #SUPER FUNCTION\n",
        "        print(\"The enrichment from AnotherSubclass\")\n",
        "        \n",
        "x = AnotherSubclass()\n",
        "x.do_something()\n"
      ],
      "execution_count": null,
      "outputs": [
        {
          "output_type": "stream",
          "text": [
            "Some implementation!\n",
            "The enrichment from AnotherSubclass\n"
          ],
          "name": "stdout"
        }
      ]
    },
    {
      "cell_type": "markdown",
      "metadata": {
        "id": "biWqYWo-DpVy"
      },
      "source": [
        "#Examples"
      ]
    },
    {
      "cell_type": "code",
      "metadata": {
        "colab": {
          "base_uri": "https://localhost:8080/"
        },
        "id": "tXyQFRWZESIj",
        "outputId": "0c049fff-b5dd-4944-85b4-7914041bee7d"
      },
      "source": [
        "# Python program showing \n",
        "# abstract base class work \n",
        "\n",
        "from abc import ABC, abstractmethod \n",
        "\n",
        "class Polygon(ABC): \n",
        "\n",
        "  # abstract method\n",
        "  @abstractmethod \n",
        "  def noofsides(self): \n",
        "    pass\n",
        "\n",
        "class Triangle(Polygon): \n",
        "\n",
        "\t# overriding abstract method \n",
        "\tdef noofsides(self): \n",
        "\t\tprint(\"I have 3 sides\") \n",
        "\n",
        "class Pentagon(Polygon): \n",
        "\n",
        "\t# overriding abstract method \n",
        "\tdef noofsides(self): \n",
        "\t\tprint(\"I have 5 sides\") \n",
        "\n",
        "class Hexagon(Polygon): \n",
        "\n",
        "\t# overriding abstract method \n",
        "\tdef noofsides(self): \n",
        "\t\tprint(\"I have 6 sides\") \n",
        "\n",
        "class Quadrilateral(Polygon): \n",
        "\n",
        "\t# overriding abstract method \n",
        "\tdef noofsides(self): \n",
        "\t\tprint(\"I have 4 sides\") \n",
        "\n",
        "# Driver code \n",
        "R = Triangle() \n",
        "R.noofsides() \n",
        "\n",
        "K = Quadrilateral() \n",
        "K.noofsides() \n",
        "\n",
        "R = Pentagon() \n",
        "R.noofsides() \n",
        "\n",
        "K = Hexagon() \n",
        "K.noofsides() \n"
      ],
      "execution_count": null,
      "outputs": [
        {
          "output_type": "stream",
          "text": [
            "I have 3 sides\n",
            "I have 4 sides\n",
            "I have 5 sides\n",
            "I have 6 sides\n"
          ],
          "name": "stdout"
        }
      ]
    },
    {
      "cell_type": "code",
      "metadata": {
        "colab": {
          "base_uri": "https://localhost:8080/"
        },
        "id": "Fw7pFowxDL7i",
        "outputId": "7c64d515-abf9-4c08-f303-a2fbd2eb668d"
      },
      "source": [
        "# Python program showing \n",
        "# abstract base class work \n",
        "\n",
        "from abc import ABC, abstractmethod \n",
        "class Animal(ABC): \n",
        "\n",
        "\tdef move(self): \n",
        "\t\tpass\n",
        "\n",
        "class Human(Animal): \n",
        "\n",
        "\tdef move(self): \n",
        "\t\tprint(\"I can walk and run\") \n",
        "\n",
        "class Snake(Animal): \n",
        "\n",
        "\tdef move(self): \n",
        "\t\tprint(\"I can crawl\") \n",
        "\n",
        "class Dog(Animal): \n",
        "\n",
        "\tdef move(self): \n",
        "\t\tprint(\"I can bark\") \n",
        "\n",
        "class Lion(Animal): \n",
        "\n",
        "\tdef move(self): \n",
        "\t\tprint(\"I can roar\") \n",
        "\t\t\n",
        "# Driver code \n",
        "R = Human() \n",
        "R.move() \n",
        "\n",
        "K = Snake() \n",
        "K.move() \n",
        "\n",
        "R = Dog() \n",
        "R.move() \n",
        "\n",
        "K = Lion() \n",
        "K.move() \n"
      ],
      "execution_count": null,
      "outputs": [
        {
          "output_type": "stream",
          "text": [
            "I can walk and run\n",
            "I can crawl\n",
            "I can bark\n",
            "I can roar\n"
          ],
          "name": "stdout"
        }
      ]
    },
    {
      "cell_type": "code",
      "metadata": {
        "id": "Bz9Gc6-GDsUR"
      },
      "source": [
        ""
      ],
      "execution_count": null,
      "outputs": []
    }
  ]
}