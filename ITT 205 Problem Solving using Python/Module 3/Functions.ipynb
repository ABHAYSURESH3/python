{
  "nbformat": 4,
  "nbformat_minor": 0,
  "metadata": {
    "colab": {
      "name": "Functions",
      "provenance": []
    },
    "kernelspec": {
      "name": "python3",
      "display_name": "Python 3"
    }
  },
  "cells": [
    {
      "cell_type": "markdown",
      "metadata": {
        "id": "zxAZQWzDOo_O"
      },
      "source": [
        "#Functions"
      ]
    },
    {
      "cell_type": "code",
      "metadata": {
        "id": "ysw1QBlGsArN",
        "outputId": "669fff7f-9501-4028-8d83-6a3f29af514b",
        "colab": {
          "base_uri": "https://localhost:8080/",
          "height": 170
        }
      },
      "source": [
        "help(round)"
      ],
      "execution_count": null,
      "outputs": [
        {
          "output_type": "stream",
          "text": [
            "Help on built-in function round in module builtins:\n",
            "\n",
            "round(...)\n",
            "    round(number[, ndigits]) -> number\n",
            "    \n",
            "    Round a number to a given precision in decimal digits (default 0 digits).\n",
            "    This returns an int when called with one argument, otherwise the\n",
            "    same type as the number. ndigits may be negative.\n",
            "\n"
          ],
          "name": "stdout"
        }
      ]
    },
    {
      "cell_type": "code",
      "metadata": {
        "id": "MXThcYylOnVj",
        "outputId": "70914f61-c56f-4e74-ea62-61842fab768c",
        "colab": {
          "base_uri": "https://localhost:8080/",
          "height": 34
        }
      },
      "source": [
        "round(6.6)"
      ],
      "execution_count": null,
      "outputs": [
        {
          "output_type": "execute_result",
          "data": {
            "text/plain": [
              "7"
            ]
          },
          "metadata": {
            "tags": []
          },
          "execution_count": 3
        }
      ]
    },
    {
      "cell_type": "markdown",
      "metadata": {
        "id": "tmYWXEoROGhZ"
      },
      "source": [
        "the round function has one required argument"
      ]
    },
    {
      "cell_type": "code",
      "metadata": {
        "id": "677nQ6NpONVA",
        "outputId": "f5238e0f-aee3-47d6-ebd5-37d8c1b24105",
        "colab": {
          "base_uri": "https://localhost:8080/",
          "height": 34
        }
      },
      "source": [
        "round(7.563, 2)"
      ],
      "execution_count": null,
      "outputs": [
        {
          "output_type": "execute_result",
          "data": {
            "text/plain": [
              "7.56"
            ]
          },
          "metadata": {
            "tags": []
          },
          "execution_count": 14
        }
      ]
    },
    {
      "cell_type": "markdown",
      "metadata": {
        "id": "YhIRWOm-ONlA"
      },
      "source": [
        "when a second, optional argument is supplied, this argument, a number,\n",
        "indicates the number of places of precision to which the first argument\n",
        "should be rounded"
      ]
    },
    {
      "cell_type": "code",
      "metadata": {
        "id": "ZXEbmTQIs5Lv",
        "outputId": "69786857-4dd5-4aea-add5-d1402568b81f",
        "colab": {
          "base_uri": "https://localhost:8080/",
          "height": 34
        }
      },
      "source": [
        "4-7"
      ],
      "execution_count": null,
      "outputs": [
        {
          "output_type": "execute_result",
          "data": {
            "text/plain": [
              "-3"
            ]
          },
          "metadata": {
            "tags": []
          },
          "execution_count": 9
        }
      ]
    },
    {
      "cell_type": "code",
      "metadata": {
        "id": "iQRt9citNyyh",
        "outputId": "b5e833fb-885a-4655-bca5-d8256dca2cb0",
        "colab": {
          "base_uri": "https://localhost:8080/",
          "height": 34
        }
      },
      "source": [
        "abs(4-7)"
      ],
      "execution_count": null,
      "outputs": [
        {
          "output_type": "execute_result",
          "data": {
            "text/plain": [
              "3"
            ]
          },
          "metadata": {
            "tags": []
          },
          "execution_count": 8
        }
      ]
    },
    {
      "cell_type": "code",
      "metadata": {
        "id": "z0HXdWT5N0Rw",
        "outputId": "eea446f6-9575-4ddc-c648-8670fce4f762",
        "colab": {
          "base_uri": "https://localhost:8080/",
          "height": 34
        }
      },
      "source": [
        "print(abs(9-10-1) + 3)"
      ],
      "execution_count": null,
      "outputs": [
        {
          "output_type": "stream",
          "text": [
            "5\n"
          ],
          "name": "stdout"
        }
      ]
    },
    {
      "cell_type": "code",
      "metadata": {
        "id": "VXivLcTdud9R"
      },
      "source": [
        "def sumoftwo(x,y):\n",
        "  print(x+y)"
      ],
      "execution_count": null,
      "outputs": []
    },
    {
      "cell_type": "code",
      "metadata": {
        "id": "dL7e7P0Euk7N",
        "outputId": "3833647f-72f5-4182-af77-d5fd614e1487",
        "colab": {
          "base_uri": "https://localhost:8080/",
          "height": 34
        }
      },
      "source": [
        "sumoftwo(1,2)"
      ],
      "execution_count": null,
      "outputs": [
        {
          "output_type": "stream",
          "text": [
            "3\n"
          ],
          "name": "stdout"
        }
      ]
    },
    {
      "cell_type": "code",
      "metadata": {
        "id": "hQ4L1YJIuphy"
      },
      "source": [
        "def sumoftwo(x,y):\n",
        "  return (x+y)/2"
      ],
      "execution_count": null,
      "outputs": []
    },
    {
      "cell_type": "code",
      "metadata": {
        "id": "rNi3EHQWuuO2",
        "outputId": "08a62e28-5c09-4599-ad0c-43987ba9d44a",
        "colab": {
          "base_uri": "https://localhost:8080/",
          "height": 34
        }
      },
      "source": [
        "result =sum_of_two(1,2)\n",
        "result_rounded=round(result)\n",
        "print(result_rounded)"
      ],
      "execution_count": null,
      "outputs": [
        {
          "output_type": "stream",
          "text": [
            "2\n"
          ],
          "name": "stdout"
        }
      ]
    },
    {
      "cell_type": "code",
      "metadata": {
        "id": "cT0QHwdMvEsy"
      },
      "source": [
        ""
      ],
      "execution_count": null,
      "outputs": []
    },
    {
      "cell_type": "markdown",
      "metadata": {
        "id": "jxsSlYMUN_rD"
      },
      "source": [
        "Some functions have only optional arguments, some have required\n",
        "arguments, and some have both required and optional arguments."
      ]
    },
    {
      "cell_type": "markdown",
      "metadata": {
        "id": "X3-OnhBeOdUH"
      },
      "source": [
        "Each argument passed to a function has a specific data type"
      ]
    },
    {
      "cell_type": "markdown",
      "metadata": {
        "id": "MmAtp8U6Og73"
      },
      "source": [
        "A program that attempts to pass an argument of the wrong data\n",
        "type to a function will usually generate an error."
      ]
    },
    {
      "cell_type": "code",
      "metadata": {
        "id": "EKMscZhVN6LE",
        "outputId": "71f133d1-8b0d-4ec4-e17f-90273ae8be33",
        "colab": {
          "base_uri": "https://localhost:8080/",
          "height": 173
        }
      },
      "source": [
        "help(round)"
      ],
      "execution_count": null,
      "outputs": [
        {
          "output_type": "stream",
          "text": [
            "Help on built-in function round in module builtins:\n",
            "\n",
            "round(...)\n",
            "    round(number[, ndigits]) -> number\n",
            "    \n",
            "    Round a number to a given precision in decimal digits (default 0 digits).\n",
            "    This returns an int when called with one argument, otherwise the\n",
            "    same type as the number. ndigits may be negative.\n",
            "\n"
          ],
          "name": "stdout"
        }
      ]
    },
    {
      "cell_type": "code",
      "metadata": {
        "id": "YlTBiK0LOl9H"
      },
      "source": [
        ""
      ],
      "execution_count": null,
      "outputs": []
    },
    {
      "cell_type": "markdown",
      "metadata": {
        "id": "h-PuApWhPCx6"
      },
      "source": [
        "Functions Examples & Math Module"
      ]
    },
    {
      "cell_type": "code",
      "metadata": {
        "id": "VutyLKkqPB3g"
      },
      "source": [
        "import math"
      ],
      "execution_count": null,
      "outputs": []
    },
    {
      "cell_type": "code",
      "metadata": {
        "id": "OUERP2mVQC6g",
        "outputId": "ce168fb1-228a-4d62-8972-8852e9911d8b",
        "colab": {
          "base_uri": "https://localhost:8080/",
          "height": 953
        }
      },
      "source": [
        "dir(math)"
      ],
      "execution_count": null,
      "outputs": [
        {
          "output_type": "execute_result",
          "data": {
            "text/plain": [
              "['__doc__',\n",
              " '__loader__',\n",
              " '__name__',\n",
              " '__package__',\n",
              " '__spec__',\n",
              " 'acos',\n",
              " 'acosh',\n",
              " 'asin',\n",
              " 'asinh',\n",
              " 'atan',\n",
              " 'atan2',\n",
              " 'atanh',\n",
              " 'ceil',\n",
              " 'copysign',\n",
              " 'cos',\n",
              " 'cosh',\n",
              " 'degrees',\n",
              " 'e',\n",
              " 'erf',\n",
              " 'erfc',\n",
              " 'exp',\n",
              " 'expm1',\n",
              " 'fabs',\n",
              " 'factorial',\n",
              " 'floor',\n",
              " 'fmod',\n",
              " 'frexp',\n",
              " 'fsum',\n",
              " 'gamma',\n",
              " 'gcd',\n",
              " 'hypot',\n",
              " 'inf',\n",
              " 'isclose',\n",
              " 'isfinite',\n",
              " 'isinf',\n",
              " 'isnan',\n",
              " 'ldexp',\n",
              " 'lgamma',\n",
              " 'log',\n",
              " 'log10',\n",
              " 'log1p',\n",
              " 'log2',\n",
              " 'modf',\n",
              " 'nan',\n",
              " 'pi',\n",
              " 'pow',\n",
              " 'radians',\n",
              " 'sin',\n",
              " 'sinh',\n",
              " 'sqrt',\n",
              " 'tan',\n",
              " 'tanh',\n",
              " 'tau',\n",
              " 'trunc']"
            ]
          },
          "metadata": {
            "tags": []
          },
          "execution_count": 2
        }
      ]
    },
    {
      "cell_type": "markdown",
      "metadata": {
        "id": "LAeq8DYLQJ8a"
      },
      "source": [
        "To use a resource from a module, you write the name of a module as a qualifier,\n",
        "followed by a dot (.) and the name of the resource."
      ]
    },
    {
      "cell_type": "code",
      "metadata": {
        "id": "FviKAb7RQDmr",
        "outputId": "e811b506-338f-402c-f3e7-5b2e6c8cfb50",
        "colab": {
          "base_uri": "https://localhost:8080/",
          "height": 35
        }
      },
      "source": [
        "math.pi"
      ],
      "execution_count": null,
      "outputs": [
        {
          "output_type": "execute_result",
          "data": {
            "text/plain": [
              "3.141592653589793"
            ]
          },
          "metadata": {
            "tags": []
          },
          "execution_count": 3
        }
      ]
    },
    {
      "cell_type": "code",
      "metadata": {
        "id": "Qp9GRI_0QOcj",
        "outputId": "e0df6ef3-1565-43f5-afd7-8a1a77c2cb08",
        "colab": {
          "base_uri": "https://localhost:8080/",
          "height": 35
        }
      },
      "source": [
        "math.sqrt(16)"
      ],
      "execution_count": null,
      "outputs": [
        {
          "output_type": "execute_result",
          "data": {
            "text/plain": [
              "4.0"
            ]
          },
          "metadata": {
            "tags": []
          },
          "execution_count": 4
        }
      ]
    },
    {
      "cell_type": "code",
      "metadata": {
        "id": "dpJ2bqz-QPp3",
        "outputId": "cf8f1bae-a404-492b-b413-ca9d82e398e5",
        "colab": {
          "base_uri": "https://localhost:8080/",
          "height": 35
        }
      },
      "source": [
        "math.cos(90)"
      ],
      "execution_count": null,
      "outputs": [
        {
          "output_type": "execute_result",
          "data": {
            "text/plain": [
              "-0.4480736161291701"
            ]
          },
          "metadata": {
            "tags": []
          },
          "execution_count": 5
        }
      ]
    },
    {
      "cell_type": "code",
      "metadata": {
        "id": "RHPOpH9FQagb",
        "outputId": "8bbe2e51-e6fd-4ac3-a8e8-06dc0d505551",
        "colab": {
          "base_uri": "https://localhost:8080/",
          "height": 139
        }
      },
      "source": [
        "help(math.cos)"
      ],
      "execution_count": null,
      "outputs": [
        {
          "output_type": "stream",
          "text": [
            "Help on built-in function cos in module math:\n",
            "\n",
            "cos(...)\n",
            "    cos(x)\n",
            "    \n",
            "    Return the cosine of x (measured in radians).\n",
            "\n"
          ],
          "name": "stdout"
        }
      ]
    },
    {
      "cell_type": "markdown",
      "metadata": {
        "id": "f7TxQ-h1QZ0y"
      },
      "source": [
        "radian = radian x 180/π degree"
      ]
    },
    {
      "cell_type": "code",
      "metadata": {
        "id": "BFI5mHdyQaBS",
        "outputId": "779fe1cf-7571-426b-8579-eb4bd668c9c0",
        "colab": {
          "base_uri": "https://localhost:8080/",
          "height": 35
        }
      },
      "source": [
        "math.cos(0)"
      ],
      "execution_count": null,
      "outputs": [
        {
          "output_type": "execute_result",
          "data": {
            "text/plain": [
              "1.0"
            ]
          },
          "metadata": {
            "tags": []
          },
          "execution_count": 7
        }
      ]
    },
    {
      "cell_type": "markdown",
      "metadata": {
        "id": "t1J1JVaiRdI-"
      },
      "source": [
        "If you are going to use only a couple of a module’s resources frequently, you\n",
        "can avoid the use of the qualifier with each reference by importing the individual\n",
        "resources, as follows"
      ]
    },
    {
      "cell_type": "code",
      "metadata": {
        "id": "sh-LIrbezAQl",
        "outputId": "4c73e5c4-273a-4fcb-8dc9-663408c38c7c",
        "colab": {
          "base_uri": "https://localhost:8080/",
          "height": 35
        }
      },
      "source": [
        "pow(2,3)"
      ],
      "execution_count": null,
      "outputs": [
        {
          "output_type": "execute_result",
          "data": {
            "text/plain": [
              "8"
            ]
          },
          "metadata": {
            "tags": []
          },
          "execution_count": 8
        }
      ]
    },
    {
      "cell_type": "code",
      "metadata": {
        "id": "gytUfgknRaWe"
      },
      "source": [
        "from math import pi, sqrt"
      ],
      "execution_count": null,
      "outputs": []
    },
    {
      "cell_type": "markdown",
      "metadata": {
        "id": "o_qTxsO9R8gF"
      },
      "source": [
        "#The math module includes a pow function that raises a number to a given power. The first argument is the number, and the second argument is the exponent. Write a code segment that imports this function and calls it to print the values 8^2 and 5^4."
      ]
    },
    {
      "cell_type": "code",
      "metadata": {
        "id": "KbEf3SUeR9Pb",
        "outputId": "58d3c75b-b6c2-4c8a-e3ef-030e133e6451",
        "colab": {
          "base_uri": "https://localhost:8080/",
          "height": 52
        }
      },
      "source": [
        "from math import pow\n",
        "print(pow(8,2))\n",
        "print(pow(5,4))"
      ],
      "execution_count": null,
      "outputs": [
        {
          "output_type": "stream",
          "text": [
            "64.0\n",
            "625.0\n"
          ],
          "name": "stdout"
        }
      ]
    },
    {
      "cell_type": "code",
      "metadata": {
        "id": "ZGuPDZEW-rL_"
      },
      "source": [
        "64"
      ],
      "execution_count": null,
      "outputs": []
    },
    {
      "cell_type": "code",
      "metadata": {
        "id": "QXdgBzZt0Xox"
      },
      "source": [
        "from math import pow"
      ],
      "execution_count": null,
      "outputs": []
    },
    {
      "cell_type": "code",
      "metadata": {
        "id": "5bR4Hiay0Vhx"
      },
      "source": [
        "def power_of_no():\n",
        "  number=int(input(\"Number\"))\n",
        "  power=int(input(\"Power\"))\n",
        "  result=pow(number,power)\n",
        "  return result"
      ],
      "execution_count": null,
      "outputs": []
    },
    {
      "cell_type": "code",
      "metadata": {
        "id": "ULNDNJM60W7-",
        "outputId": "518c6fab-14a3-4b38-f24a-852fc8719ad4",
        "colab": {
          "base_uri": "https://localhost:8080/",
          "height": 69
        }
      },
      "source": [
        "power_of_no()"
      ],
      "execution_count": null,
      "outputs": [
        {
          "output_type": "stream",
          "text": [
            "Number2\n",
            "Power3\n"
          ],
          "name": "stdout"
        },
        {
          "output_type": "execute_result",
          "data": {
            "text/plain": [
              "8.0"
            ]
          },
          "metadata": {
            "tags": []
          },
          "execution_count": 13
        }
      ]
    },
    {
      "cell_type": "markdown",
      "metadata": {
        "id": "zp6Jd4RVSV80"
      },
      "source": [
        "#You can calculate the surface area of a cube if you know the length of an edge. Write a program that takes the length of an edge (an integer) as input and prints the cube’s surface area as output."
      ]
    },
    {
      "cell_type": "code",
      "metadata": {
        "id": "cpGv6_MnSXpl",
        "outputId": "91dc7873-f3b9-4c39-bc9c-4e51b274584d",
        "colab": {
          "base_uri": "https://localhost:8080/",
          "height": 52
        }
      },
      "source": [
        "from math import pow\n",
        "a = int(input(\"Length of an edge : \"))\n",
        "surface_area = 6*pow(a,2)\n",
        "print(\"Surface area of cube:\",surface_area)"
      ],
      "execution_count": null,
      "outputs": [
        {
          "output_type": "stream",
          "text": [
            "Length of an edge : 3\n",
            "Surface area of cube: 54.0\n"
          ],
          "name": "stdout"
        }
      ]
    },
    {
      "cell_type": "code",
      "metadata": {
        "id": "aVlVhVAX2zk0"
      },
      "source": [
        "2 24\n",
        "3 54\n",
        "4 96"
      ],
      "execution_count": null,
      "outputs": []
    },
    {
      "cell_type": "markdown",
      "metadata": {
        "id": "f0JpLZN8TjQU"
      },
      "source": [
        "#Write a Python program which accepts the radius of a circle from the user and compute the area"
      ]
    },
    {
      "cell_type": "code",
      "metadata": {
        "id": "0OXhThPLS5V7",
        "outputId": "aab63309-27bd-45dc-dd18-f59ff490241c",
        "colab": {
          "base_uri": "https://localhost:8080/",
          "height": 52
        }
      },
      "source": [
        "from math import pow,pi\n",
        "r = float(input (\"Input the radius of the circle : \"))\n",
        "print(\"Area\",pi*pow(r,2))"
      ],
      "execution_count": null,
      "outputs": [
        {
          "output_type": "stream",
          "text": [
            "Input the radius of the circle : 2\n",
            "Area 12.566370614359172\n"
          ],
          "name": "stdout"
        }
      ]
    },
    {
      "cell_type": "markdown",
      "metadata": {
        "id": "90WmqpuPT8lq"
      },
      "source": [
        "#Write a Python program to get the volume of a sphere with radius 6"
      ]
    },
    {
      "cell_type": "code",
      "metadata": {
        "id": "_cAOc-2TTz_p",
        "outputId": "fca4ab7e-a61e-4b6f-b873-95f1361dbb5f",
        "colab": {
          "base_uri": "https://localhost:8080/",
          "height": 52
        }
      },
      "source": [
        "from math import pow,pi\n",
        "r = float(input (\"Input the radius of the sphere : \"))\n",
        "print(\"Area\",4/3*pi*pow(r,3))"
      ],
      "execution_count": null,
      "outputs": [
        {
          "output_type": "stream",
          "text": [
            "Input the radius of the sphere : 3\n",
            "Area 113.09733552923254\n"
          ],
          "name": "stdout"
        }
      ]
    },
    {
      "cell_type": "markdown",
      "metadata": {
        "id": "w3b_vivgUuym"
      },
      "source": [
        "#Write a python program to print multiplication table of a number"
      ]
    },
    {
      "cell_type": "code",
      "metadata": {
        "id": "7B9wpiUzUGM-"
      },
      "source": [
        "def table(number,start,end): \n",
        "\tfor i in range(start, end+1): \n",
        "\t\tprint (\"%d x %d = %d\" % (number, i, number * i) )"
      ],
      "execution_count": null,
      "outputs": []
    },
    {
      "cell_type": "code",
      "metadata": {
        "id": "krI7n8UBUxk1",
        "outputId": "6565b205-8f9d-4858-8af7-eb68a2b54e67",
        "colab": {
          "base_uri": "https://localhost:8080/",
          "height": 173
        }
      },
      "source": [
        "table(5,1,10)"
      ],
      "execution_count": null,
      "outputs": [
        {
          "output_type": "stream",
          "text": [
            "5 x 1 = 5\n",
            "5 x 2 = 10\n",
            "5 x 3 = 15\n",
            "5 x 4 = 20\n",
            "5 x 5 = 25\n",
            "5 x 6 = 30\n",
            "5 x 7 = 35\n",
            "5 x 8 = 40\n",
            "5 x 9 = 45\n"
          ],
          "name": "stdout"
        }
      ]
    },
    {
      "cell_type": "code",
      "metadata": {
        "id": "45QzGc2lUzab"
      },
      "source": [
        "def sum_of_two(x,y):\n",
        "    return x+y"
      ],
      "execution_count": null,
      "outputs": []
    },
    {
      "cell_type": "code",
      "metadata": {
        "id": "Pet1-fB87_fn",
        "outputId": "7bb608c6-8559-4c3a-f212-636142dedf4e",
        "colab": {
          "base_uri": "https://localhost:8080/",
          "height": 35
        }
      },
      "source": [
        "sum_of_two(6,2)"
      ],
      "execution_count": null,
      "outputs": [
        {
          "output_type": "execute_result",
          "data": {
            "text/plain": [
              "8"
            ]
          },
          "metadata": {
            "tags": []
          },
          "execution_count": 85
        }
      ]
    },
    {
      "cell_type": "code",
      "metadata": {
        "id": "oEo3LRWx8CSd"
      },
      "source": [
        "assert largest_3(3,5,8) == 8"
      ],
      "execution_count": null,
      "outputs": []
    },
    {
      "cell_type": "code",
      "metadata": {
        "id": "EGQTs5BR8GYt"
      },
      "source": [
        ""
      ],
      "execution_count": null,
      "outputs": []
    }
  ]
}