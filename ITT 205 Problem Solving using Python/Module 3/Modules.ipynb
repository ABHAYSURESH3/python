{
  "nbformat": 4,
  "nbformat_minor": 0,
  "metadata": {
    "colab": {
      "name": "Modules",
      "provenance": []
    },
    "kernelspec": {
      "name": "python3",
      "display_name": "Python 3"
    }
  },
  "cells": [
    {
      "cell_type": "markdown",
      "metadata": {
        "id": "Ou-e0gaBWbGt"
      },
      "source": [
        "#Module Usage"
      ]
    },
    {
      "cell_type": "markdown",
      "metadata": {
        "id": "-gc7FNtpWhCR"
      },
      "source": [
        "#The import Statement"
      ]
    },
    {
      "cell_type": "markdown",
      "metadata": {
        "id": "lstTZC-HWxRO"
      },
      "source": [
        "the name mymodule serves two different purposes—it identifies an external file to be loaded, and it becomes a variable in the script, which references the\n",
        "module object after the file is loaded"
      ]
    },
    {
      "cell_type": "markdown",
      "metadata": {
        "id": "jWPWYh0zW5px"
      },
      "source": [
        "Because import gives a name that refers to the whole module object, we must go through\n",
        "the module name to fetch its attributes (e.g., module1.printer)"
      ]
    },
    {
      "cell_type": "code",
      "metadata": {
        "id": "znodDDBqWcPq"
      },
      "source": [
        "import mymodule"
      ],
      "execution_count": 4,
      "outputs": []
    },
    {
      "cell_type": "code",
      "metadata": {
        "id": "rjNNRKUjWeA2",
        "outputId": "eef8f074-a8d6-496a-f89c-2f3fa2164eb0",
        "colab": {
          "base_uri": "https://localhost:8080/"
        }
      },
      "source": [
        "mymodule.printer(\"Hello\")"
      ],
      "execution_count": 5,
      "outputs": [
        {
          "output_type": "stream",
          "text": [
            "Hello\n"
          ],
          "name": "stdout"
        }
      ]
    },
    {
      "cell_type": "markdown",
      "metadata": {
        "id": "Af_i8PdvWiax"
      },
      "source": [
        "#The from Statement"
      ]
    },
    {
      "cell_type": "code",
      "metadata": {
        "id": "midDGOr1WeQu"
      },
      "source": [
        "from mymodule import printer"
      ],
      "execution_count": 6,
      "outputs": []
    },
    {
      "cell_type": "code",
      "metadata": {
        "id": "3CDBLHPfWmDj",
        "outputId": "1d4f00bb-6332-4fe7-f722-cea6af168aa4",
        "colab": {
          "base_uri": "https://localhost:8080/"
        }
      },
      "source": [
        "printer(\"Hello\")"
      ],
      "execution_count": 7,
      "outputs": [
        {
          "output_type": "stream",
          "text": [
            "Hello\n"
          ],
          "name": "stdout"
        }
      ]
    },
    {
      "cell_type": "markdown",
      "metadata": {
        "id": "tk2YZ0wnWtsA"
      },
      "source": [
        "This has the same effect as the prior example, but because the imported name is copied\n",
        "into the scope where the from statement appears, using that name in the script requires\n",
        "less typing: we can use it directly instead of naming the enclosing module."
      ]
    },
    {
      "cell_type": "code",
      "metadata": {
        "id": "uWy9XuD2WnmI"
      },
      "source": [
        ""
      ],
      "execution_count": null,
      "outputs": []
    }
  ]
}