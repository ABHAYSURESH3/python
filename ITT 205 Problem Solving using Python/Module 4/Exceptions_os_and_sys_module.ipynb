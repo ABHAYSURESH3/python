{
  "nbformat": 4,
  "nbformat_minor": 0,
  "metadata": {
    "colab": {
      "name": "Exceptions-os and sys module.ipynb",
      "provenance": [],
      "collapsed_sections": [
        "IrIywYYX3ayX",
        "uSwp_VES4AMw"
      ]
    },
    "kernelspec": {
      "name": "python3",
      "display_name": "Python 3"
    }
  },
  "cells": [
    {
      "cell_type": "markdown",
      "metadata": {
        "id": "zbmUtM_p2jQQ"
      },
      "source": [
        "#Write"
      ]
    },
    {
      "cell_type": "markdown",
      "metadata": {
        "id": "nK3G-DlW1xKz"
      },
      "source": [
        "Opening a file creates a file object. In this example, the variable f refers to the\n",
        "new file object\n",
        "\n",
        "The open function takes two arguments. \n",
        "The first is the name of the file, and the second is the mode\n",
        "Mode \"w\" means that we are opening the file for writing.\n",
        "\n",
        "\n"
      ]
    },
    {
      "cell_type": "code",
      "metadata": {
        "id": "B72jCvOj1zWz"
      },
      "source": [
        "f = open(\"test.dat\",\"w\")"
      ],
      "execution_count": null,
      "outputs": []
    },
    {
      "cell_type": "code",
      "metadata": {
        "id": "JSPjpwM8pZju",
        "colab": {
          "base_uri": "https://localhost:8080/"
        },
        "outputId": "ef47ddbe-3da4-410e-ec2e-4b4baf563661"
      },
      "source": [
        "len(\"Now is the time\")"
      ],
      "execution_count": null,
      "outputs": [
        {
          "output_type": "execute_result",
          "data": {
            "text/plain": [
              "15"
            ]
          },
          "metadata": {
            "tags": []
          },
          "execution_count": 6
        }
      ]
    },
    {
      "cell_type": "markdown",
      "metadata": {
        "id": "cPNyazQ715rT"
      },
      "source": [
        "To put data in the file we invoke the write method on the file object:"
      ]
    },
    {
      "cell_type": "code",
      "metadata": {
        "id": "Yp8Yi18F11fo",
        "colab": {
          "base_uri": "https://localhost:8080/"
        },
        "outputId": "50180b04-e5af-4be0-962b-f9cfdb2486e5"
      },
      "source": [
        " f.write(\"Now is the time\")"
      ],
      "execution_count": null,
      "outputs": [
        {
          "output_type": "execute_result",
          "data": {
            "text/plain": [
              "15"
            ]
          },
          "metadata": {
            "tags": []
          },
          "execution_count": 7
        }
      ]
    },
    {
      "cell_type": "code",
      "metadata": {
        "id": "LS0Vi1fH175a",
        "colab": {
          "base_uri": "https://localhost:8080/"
        },
        "outputId": "6d09a110-bc3d-456d-edc6-84b2235997bb"
      },
      "source": [
        " f.write(\"to close the file\")"
      ],
      "execution_count": null,
      "outputs": [
        {
          "output_type": "execute_result",
          "data": {
            "text/plain": [
              "17"
            ]
          },
          "metadata": {
            "tags": []
          },
          "execution_count": 8
        }
      ]
    },
    {
      "cell_type": "markdown",
      "metadata": {
        "id": "f9vguLRM2nUN"
      },
      "source": [
        "#Close"
      ]
    },
    {
      "cell_type": "markdown",
      "metadata": {
        "id": "qq9nC17Z2CYo"
      },
      "source": [
        "Closing the file tells the system that we are done writing and makes the file\n",
        "available for reading:\n"
      ]
    },
    {
      "cell_type": "code",
      "metadata": {
        "id": "D39KQNNs1_mH"
      },
      "source": [
        " f.close()"
      ],
      "execution_count": null,
      "outputs": []
    },
    {
      "cell_type": "markdown",
      "metadata": {
        "id": "EgqlRMJP2H2h"
      },
      "source": [
        "Now we can open the file again, this time for reading, and read the contents\n",
        "into a string. This time, the mode argument is \"r\" for reading:\n"
      ]
    },
    {
      "cell_type": "markdown",
      "metadata": {
        "id": "WcrWTnuG2pJo"
      },
      "source": [
        "#Read"
      ]
    },
    {
      "cell_type": "code",
      "metadata": {
        "id": "iU83Y_sZ2EEY"
      },
      "source": [
        " f = open(\"test.dat\",\"r\")"
      ],
      "execution_count": null,
      "outputs": []
    },
    {
      "cell_type": "markdown",
      "metadata": {
        "id": "g73czhn12Qv0"
      },
      "source": [
        "Read method reads data from the file. With no arguments,\n",
        "it reads the entire contents of the file"
      ]
    },
    {
      "cell_type": "code",
      "metadata": {
        "id": "QY4NfRRf2Jfg"
      },
      "source": [
        "text = f.read()"
      ],
      "execution_count": null,
      "outputs": []
    },
    {
      "cell_type": "code",
      "metadata": {
        "id": "i6pMEKnD2Uwq",
        "colab": {
          "base_uri": "https://localhost:8080/"
        },
        "outputId": "1142ca89-2e4e-4a15-95d6-2b83ed177187"
      },
      "source": [
        "print(text)"
      ],
      "execution_count": null,
      "outputs": [
        {
          "output_type": "stream",
          "text": [
            "Now is the time\n",
            "for open\n"
          ],
          "name": "stdout"
        }
      ]
    },
    {
      "cell_type": "code",
      "metadata": {
        "id": "7YBa90Wtqbxi"
      },
      "source": [
        "text = f.read()"
      ],
      "execution_count": null,
      "outputs": []
    },
    {
      "cell_type": "code",
      "metadata": {
        "colab": {
          "base_uri": "https://localhost:8080/"
        },
        "id": "48Hvn5-9KBp4",
        "outputId": "8afdd898-3ceb-4410-eec6-9e69a516d07a"
      },
      "source": [
        "f = open(\"test.dat\",\"w\")\n",
        "f.write(\"to close the file\") "
      ],
      "execution_count": null,
      "outputs": [
        {
          "output_type": "execute_result",
          "data": {
            "text/plain": [
              "17"
            ]
          },
          "metadata": {
            "tags": []
          },
          "execution_count": 22
        }
      ]
    },
    {
      "cell_type": "code",
      "metadata": {
        "id": "8rcey2QpqdZy",
        "colab": {
          "base_uri": "https://localhost:8080/"
        },
        "outputId": "89f1ae85-1e6c-46a5-f5e1-5b2066d75ba2"
      },
      "source": [
        "print(text)"
      ],
      "execution_count": null,
      "outputs": [
        {
          "output_type": "stream",
          "text": [
            "\n"
          ],
          "name": "stdout"
        }
      ]
    },
    {
      "cell_type": "markdown",
      "metadata": {
        "id": "8to98Cw12cKB"
      },
      "source": [
        "There is no space between \"time\" and \"to\" because we did not write a space\n",
        "between the strings."
      ]
    },
    {
      "cell_type": "markdown",
      "metadata": {
        "id": "9UUlRHIg2skG"
      },
      "source": [
        "read can also take an argument that indicates how many characters to read:"
      ]
    },
    {
      "cell_type": "code",
      "metadata": {
        "id": "Qr6UCom92V-6",
        "colab": {
          "base_uri": "https://localhost:8080/"
        },
        "outputId": "83bbfa48-5a55-41f5-cc3d-16984b8e724e"
      },
      "source": [
        " f = open(\"test.dat\",\"r\")\n",
        "text = f.read(10)\n",
        "print(text)"
      ],
      "execution_count": null,
      "outputs": [
        {
          "output_type": "stream",
          "text": [
            "to close t\n"
          ],
          "name": "stdout"
        }
      ]
    },
    {
      "cell_type": "code",
      "metadata": {
        "id": "HkRmpsEFqzvQ",
        "colab": {
          "base_uri": "https://localhost:8080/"
        },
        "outputId": "71e33502-b16d-4e66-ab90-90006f0c8480"
      },
      "source": [
        "text = f.read(7)\n",
        "print(text)"
      ],
      "execution_count": null,
      "outputs": [
        {
          "output_type": "stream",
          "text": [
            "he file\n"
          ],
          "name": "stdout"
        }
      ]
    },
    {
      "cell_type": "code",
      "metadata": {
        "id": "8yaMvke2rPH7",
        "colab": {
          "base_uri": "https://localhost:8080/"
        },
        "outputId": "3ee9b448-e2c0-434a-9014-5acf6f615226"
      },
      "source": [
        "text = f.read(5)\n",
        "print(text)"
      ],
      "execution_count": null,
      "outputs": [
        {
          "output_type": "stream",
          "text": [
            "\n"
          ],
          "name": "stdout"
        }
      ]
    },
    {
      "cell_type": "code",
      "metadata": {
        "id": "r1N_nw4OrUEd",
        "colab": {
          "base_uri": "https://localhost:8080/"
        },
        "outputId": "17653ec9-9ae8-456f-b2de-ad9bd533564c"
      },
      "source": [
        "text = f.read(20)\n",
        "print(text)"
      ],
      "execution_count": null,
      "outputs": [
        {
          "output_type": "stream",
          "text": [
            "me\n",
            "for open\n"
          ],
          "name": "stdout"
        }
      ]
    },
    {
      "cell_type": "code",
      "metadata": {
        "colab": {
          "base_uri": "https://localhost:8080/"
        },
        "id": "vySd0BxDLTIE",
        "outputId": "b74f451b-2018-4701-d892-e773a866e31a"
      },
      "source": [
        " f = open(\"test.dat\",\"r\")\n",
        " text = f.read()\n",
        "print(text)"
      ],
      "execution_count": null,
      "outputs": [
        {
          "output_type": "stream",
          "text": [
            "to close the file\n"
          ],
          "name": "stdout"
        }
      ]
    },
    {
      "cell_type": "code",
      "metadata": {
        "colab": {
          "base_uri": "https://localhost:8080/"
        },
        "id": "tHEwqWTzKxE-",
        "outputId": "9cf7ae10-dfee-4a59-83d4-d6586e0d0b22"
      },
      "source": [
        "f = open(\"test.dat\",\"r\")\n",
        "text = f.read(17)\n",
        "print(text)"
      ],
      "execution_count": null,
      "outputs": [
        {
          "output_type": "stream",
          "text": [
            "to close the file\n"
          ],
          "name": "stdout"
        }
      ]
    },
    {
      "cell_type": "code",
      "metadata": {
        "id": "qDO96UeLrkCH",
        "colab": {
          "base_uri": "https://localhost:8080/"
        },
        "outputId": "7bab3a75-8364-4046-f55b-4bf15c87d77b"
      },
      "source": [
        "len(\"to close the file\")"
      ],
      "execution_count": null,
      "outputs": [
        {
          "output_type": "execute_result",
          "data": {
            "text/plain": [
              "17"
            ]
          },
          "metadata": {
            "tags": []
          },
          "execution_count": 21
        }
      ]
    },
    {
      "cell_type": "code",
      "metadata": {
        "id": "xVKk4dnbrpHW",
        "colab": {
          "base_uri": "https://localhost:8080/"
        },
        "outputId": "baeffbbf-85e1-4882-853b-6129467c2960"
      },
      "source": [
        "text = f.read(5)\n",
        "print(text)"
      ],
      "execution_count": null,
      "outputs": [
        {
          "output_type": "stream",
          "text": [
            "\n"
          ],
          "name": "stdout"
        }
      ]
    },
    {
      "cell_type": "code",
      "metadata": {
        "colab": {
          "base_uri": "https://localhost:8080/"
        },
        "id": "hphter-CM-EI",
        "outputId": "ba4d5c27-0392-427b-e75e-21c588f685e1"
      },
      "source": [
        "!ls"
      ],
      "execution_count": null,
      "outputs": [
        {
          "output_type": "stream",
          "text": [
            "sample_data  test.dat\n"
          ],
          "name": "stdout"
        }
      ]
    },
    {
      "cell_type": "code",
      "metadata": {
        "colab": {
          "base_uri": "https://localhost:8080/",
          "height": 164
        },
        "id": "oGUGfnCbNSwY",
        "outputId": "6328719f-41bb-4d6c-8762-63d197d7ad57"
      },
      "source": [
        "  f = open(\"sample_data\",\"r\")"
      ],
      "execution_count": null,
      "outputs": [
        {
          "output_type": "error",
          "ename": "IsADirectoryError",
          "evalue": "ignored",
          "traceback": [
            "\u001b[0;31m---------------------------------------------------------------------------\u001b[0m",
            "\u001b[0;31mIsADirectoryError\u001b[0m                         Traceback (most recent call last)",
            "\u001b[0;32m<ipython-input-36-50a1f19c31cb>\u001b[0m in \u001b[0;36m<module>\u001b[0;34m()\u001b[0m\n\u001b[0;32m----> 1\u001b[0;31m \u001b[0mf\u001b[0m \u001b[0;34m=\u001b[0m \u001b[0mopen\u001b[0m\u001b[0;34m(\u001b[0m\u001b[0;34m\"sample_data\"\u001b[0m\u001b[0;34m,\u001b[0m\u001b[0;34m\"r\"\u001b[0m\u001b[0;34m)\u001b[0m\u001b[0;34m\u001b[0m\u001b[0;34m\u001b[0m\u001b[0m\n\u001b[0m",
            "\u001b[0;31mIsADirectoryError\u001b[0m: [Errno 21] Is a directory: 'sample_data'"
          ]
        }
      ]
    },
    {
      "cell_type": "code",
      "metadata": {
        "colab": {
          "base_uri": "https://localhost:8080/"
        },
        "id": "lWC7M8v7NFIG",
        "outputId": "12e72917-928e-40af-f9d4-ab72a78d4007"
      },
      "source": [
        "!pwd"
      ],
      "execution_count": null,
      "outputs": [
        {
          "output_type": "stream",
          "text": [
            "/content\n"
          ],
          "name": "stdout"
        }
      ]
    },
    {
      "cell_type": "code",
      "metadata": {
        "colab": {
          "base_uri": "https://localhost:8080/"
        },
        "id": "uE1kv6oLL3Wr",
        "outputId": "f694e08f-2843-433b-bccd-1628963fbfdf"
      },
      "source": [
        "try:\n",
        "  f = open(\"sample_data\",\"r\")\n",
        "  text = f.read(500)\n",
        "  print(text)\n",
        "except:\n",
        "  print(\"Something went wrong\")\n",
        "\n",
        "print (\"Still continuing \")"
      ],
      "execution_count": null,
      "outputs": [
        {
          "output_type": "stream",
          "text": [
            "Something went wrong\n",
            "Still continuing \n"
          ],
          "name": "stdout"
        }
      ]
    },
    {
      "cell_type": "code",
      "metadata": {
        "id": "z6N_8NHa2u0S",
        "colab": {
          "base_uri": "https://localhost:8080/"
        },
        "outputId": "7785cf63-709d-499f-9e0b-4e4512f17e65"
      },
      "source": [
        "f = open(\"test.dat\",\"r\")\n",
        "text = f.read(500)\n",
        "print(text)"
      ],
      "execution_count": null,
      "outputs": [
        {
          "output_type": "stream",
          "text": [
            "Now is the timeto close the file\n"
          ],
          "name": "stdout"
        }
      ]
    },
    {
      "cell_type": "code",
      "metadata": {
        "id": "WoiO9OBe3Ixn"
      },
      "source": [
        " f = open(\"test.dat\",\"r\")"
      ],
      "execution_count": null,
      "outputs": []
    },
    {
      "cell_type": "code",
      "metadata": {
        "id": "dvWiUU8g3CNr",
        "colab": {
          "base_uri": "https://localhost:8080/"
        },
        "outputId": "0d5dc367-0778-4e31-fce1-9a5629dd5258"
      },
      "source": [
        "text = f.read(5)\n",
        "print(text)"
      ],
      "execution_count": null,
      "outputs": [
        {
          "output_type": "stream",
          "text": [
            "Now i\n"
          ],
          "name": "stdout"
        }
      ]
    },
    {
      "cell_type": "code",
      "metadata": {
        "id": "w3HaY3Ix3MpM",
        "colab": {
          "base_uri": "https://localhost:8080/"
        },
        "outputId": "8f09d4cb-e9f2-4dcb-ef37-85554f5e6352"
      },
      "source": [
        "text = f.read(5)\n",
        "print(text)"
      ],
      "execution_count": null,
      "outputs": [
        {
          "output_type": "stream",
          "text": [
            "s the\n"
          ],
          "name": "stdout"
        }
      ]
    },
    {
      "cell_type": "code",
      "metadata": {
        "id": "fM0FGmlW3NQ_",
        "colab": {
          "base_uri": "https://localhost:8080/"
        },
        "outputId": "45017baa-9a17-493c-c1ad-2ed3349155b4"
      },
      "source": [
        "text = f.read(5)\n",
        "print(text)"
      ],
      "execution_count": null,
      "outputs": [
        {
          "output_type": "stream",
          "text": [
            " time\n"
          ],
          "name": "stdout"
        }
      ]
    },
    {
      "cell_type": "code",
      "metadata": {
        "id": "t2dmUcVR3N7n",
        "colab": {
          "base_uri": "https://localhost:8080/"
        },
        "outputId": "ff59633b-3ad8-4d10-b409-60f29004a165"
      },
      "source": [
        "text = f.read(5)\n",
        "print(text)"
      ],
      "execution_count": null,
      "outputs": [
        {
          "output_type": "stream",
          "text": [
            "to cl\n"
          ],
          "name": "stdout"
        }
      ]
    },
    {
      "cell_type": "code",
      "metadata": {
        "id": "njDX1Guh3Oc3",
        "colab": {
          "base_uri": "https://localhost:8080/"
        },
        "outputId": "895a2ac8-650d-42f7-af98-9877d3c91953"
      },
      "source": [
        "text = f.read(5)\n",
        "print(text)"
      ],
      "execution_count": null,
      "outputs": [
        {
          "output_type": "stream",
          "text": [
            "ose t\n"
          ],
          "name": "stdout"
        }
      ]
    },
    {
      "cell_type": "code",
      "metadata": {
        "id": "NXBZmykf3PBA",
        "colab": {
          "base_uri": "https://localhost:8080/"
        },
        "outputId": "e2145a6b-5ed9-4291-cb7e-774801e1c96e"
      },
      "source": [
        "text = f.read(5)\n",
        "print(text)"
      ],
      "execution_count": null,
      "outputs": [
        {
          "output_type": "stream",
          "text": [
            "he fi\n"
          ],
          "name": "stdout"
        }
      ]
    },
    {
      "cell_type": "code",
      "metadata": {
        "id": "D2NscXh73Pl_",
        "colab": {
          "base_uri": "https://localhost:8080/"
        },
        "outputId": "3283553b-04f4-40b1-a0fb-769a110b3586"
      },
      "source": [
        "text = f.read(5)\n",
        "print(text)"
      ],
      "execution_count": null,
      "outputs": [
        {
          "output_type": "stream",
          "text": [
            "le\n"
          ],
          "name": "stdout"
        }
      ]
    },
    {
      "cell_type": "code",
      "metadata": {
        "id": "Kcgg8mgk3QKf",
        "colab": {
          "base_uri": "https://localhost:8080/"
        },
        "outputId": "c2e399e3-ac79-4c12-a8a4-66382d7150e2"
      },
      "source": [
        "text = f.read(5)\n",
        "print(text)"
      ],
      "execution_count": null,
      "outputs": [
        {
          "output_type": "stream",
          "text": [
            "\n"
          ],
          "name": "stdout"
        }
      ]
    },
    {
      "cell_type": "code",
      "metadata": {
        "id": "QRrjiBChsJtH"
      },
      "source": [
        "f = open(\"newtest.dat\",\"w\")"
      ],
      "execution_count": null,
      "outputs": []
    },
    {
      "cell_type": "code",
      "metadata": {
        "id": "FiYuNPYdsOJ6",
        "colab": {
          "base_uri": "https://localhost:8080/"
        },
        "outputId": "a9c62282-5a7e-465d-b6f0-3045f5dce89d"
      },
      "source": [
        "f.write(\"Hello I am there \\n\")"
      ],
      "execution_count": null,
      "outputs": [
        {
          "output_type": "execute_result",
          "data": {
            "text/plain": [
              "18"
            ]
          },
          "metadata": {
            "tags": []
          },
          "execution_count": 19
        }
      ]
    },
    {
      "cell_type": "code",
      "metadata": {
        "id": "e3n76j8ssSRT",
        "colab": {
          "base_uri": "https://localhost:8080/"
        },
        "outputId": "c59371c4-ad7e-4149-974b-cacf3f66ffc7"
      },
      "source": [
        "f.write(\"This is a new line \\n\")"
      ],
      "execution_count": null,
      "outputs": [
        {
          "output_type": "execute_result",
          "data": {
            "text/plain": [
              "20"
            ]
          },
          "metadata": {
            "tags": []
          },
          "execution_count": 20
        }
      ]
    },
    {
      "cell_type": "code",
      "metadata": {
        "id": "iRRBEmW3sXhd"
      },
      "source": [
        "f.close()"
      ],
      "execution_count": null,
      "outputs": []
    },
    {
      "cell_type": "code",
      "metadata": {
        "id": "285Rax2Asbjs",
        "colab": {
          "base_uri": "https://localhost:8080/"
        },
        "outputId": "98f68bce-e9b7-4324-d1f2-3ce16d1dea8c"
      },
      "source": [
        " f = open(\"newtest.dat\",\"r\")\n",
        "text = f.read()\n",
        "print(text)"
      ],
      "execution_count": null,
      "outputs": [
        {
          "output_type": "stream",
          "text": [
            "Hello I am there \n",
            "This is a new line \n",
            "\n"
          ],
          "name": "stdout"
        }
      ]
    },
    {
      "cell_type": "markdown",
      "metadata": {
        "id": "IrIywYYX3ayX"
      },
      "source": [
        "#File Copying"
      ]
    },
    {
      "cell_type": "code",
      "metadata": {
        "id": "VRQw9b0e3Qz3"
      },
      "source": [
        "def copyFile(oldFile, newFile):\n",
        "  f1 = open(oldFile, \"r\")\n",
        "  f2 = open(newFile, \"w\")\n",
        "  while True:\n",
        "    text = f1.read(50) #text = f1.readline()\n",
        "    if text == \"\":\n",
        "      break\n",
        "    f2.write(text)\n",
        "  f1.close()\n",
        "  f2.close()\n",
        "  return  "
      ],
      "execution_count": null,
      "outputs": []
    },
    {
      "cell_type": "code",
      "metadata": {
        "id": "sXnb8WKW3kBz"
      },
      "source": [
        "copyFile(\"test.dat\",\"new.dat\")"
      ],
      "execution_count": null,
      "outputs": []
    },
    {
      "cell_type": "code",
      "metadata": {
        "id": "a0Uv5CTs3pgB",
        "colab": {
          "base_uri": "https://localhost:8080/"
        },
        "outputId": "19eb3f4c-81f7-485e-9e35-ecad3ce28dd7"
      },
      "source": [
        "f = open(\"test.dat\",\"r\")\n",
        "text = f.read()\n",
        "print(text)"
      ],
      "execution_count": null,
      "outputs": [
        {
          "output_type": "stream",
          "text": [
            "Now is the timeto close the file\n"
          ],
          "name": "stdout"
        }
      ]
    },
    {
      "cell_type": "code",
      "metadata": {
        "id": "fQpCKMyT35Yk",
        "colab": {
          "base_uri": "https://localhost:8080/"
        },
        "outputId": "6020bf4b-a843-4f6f-f2e8-19ebfa7350cf"
      },
      "source": [
        " f = open(\"new.dat\",\"r\")\n",
        "text = f.read()\n",
        "print(text)"
      ],
      "execution_count": null,
      "outputs": [
        {
          "output_type": "stream",
          "text": [
            "Now is the timeto close the file\n"
          ],
          "name": "stdout"
        }
      ]
    },
    {
      "cell_type": "code",
      "metadata": {
        "id": "Kn45OjEktr5u"
      },
      "source": [
        "f = open(\"mydata.dat\",\"w\")\n",
        "f.write(\"First Line\\n\")\n",
        "f.write(\"#Second Line\\n\")\n",
        "f.write(\"Third Line\\n\")\n",
        "f.write(\"Fourth Line\\n\")\n",
        "f.close()"
      ],
      "execution_count": null,
      "outputs": []
    },
    {
      "cell_type": "code",
      "metadata": {
        "id": "X0rhrkyCt0eE"
      },
      "source": [
        "f = open(\"mydata.dat\",\"r\")"
      ],
      "execution_count": null,
      "outputs": []
    },
    {
      "cell_type": "code",
      "metadata": {
        "id": "RdDHQIXAt2MR",
        "colab": {
          "base_uri": "https://localhost:8080/"
        },
        "outputId": "5331d9eb-5458-4afd-f689-526e103258aa"
      },
      "source": [
        "text=f.read()\n",
        "print(text)"
      ],
      "execution_count": null,
      "outputs": [
        {
          "output_type": "stream",
          "text": [
            "First Line\n",
            "#Second Line\n",
            "Third Line\n",
            "Fourth Line\n",
            "\n"
          ],
          "name": "stdout"
        }
      ]
    },
    {
      "cell_type": "markdown",
      "metadata": {
        "id": "uSwp_VES4AMw"
      },
      "source": [
        "#Text files"
      ]
    },
    {
      "cell_type": "markdown",
      "metadata": {
        "id": "70NH2Qaa4tqU"
      },
      "source": [
        "A text file is a file that contains printable characters and whitespace, organized\n",
        "into lines separated by newline characters. Since Python is specifically designed\n",
        "to process text files, it provides methods that make the job easy."
      ]
    },
    {
      "cell_type": "code",
      "metadata": {
        "id": "NmD_4bYN38A0"
      },
      "source": [
        "f = open(\"test.dat\",\"w\")\n",
        "f.write(\"First Line\\n\")\n",
        "f.write(\"#Second Line\\n\")\n",
        "f.write(\"Third Line\\n\")\n",
        "f.write(\"Fourth Line\\n\")\n",
        "f.close()"
      ],
      "execution_count": null,
      "outputs": []
    },
    {
      "cell_type": "code",
      "metadata": {
        "id": "4vovVhrQ4zRa",
        "colab": {
          "base_uri": "https://localhost:8080/"
        },
        "outputId": "4e05a35a-7be0-4804-d0b8-e5f389b92dae"
      },
      "source": [
        "f.write(\"line one\\nline two\\nline three\\n\")"
      ],
      "execution_count": null,
      "outputs": [
        {
          "output_type": "execute_result",
          "data": {
            "text/plain": [
              "29"
            ]
          },
          "metadata": {
            "tags": []
          },
          "execution_count": 29
        }
      ]
    },
    {
      "cell_type": "code",
      "metadata": {
        "id": "wlwZq76740Vk"
      },
      "source": [
        "f.close()"
      ],
      "execution_count": null,
      "outputs": []
    },
    {
      "cell_type": "code",
      "metadata": {
        "id": "ShlwYQQH42PN"
      },
      "source": [
        "f = open(\"test.dat\",\"r\")"
      ],
      "execution_count": null,
      "outputs": []
    },
    {
      "cell_type": "code",
      "metadata": {
        "id": "MBt3mTvK43lV",
        "colab": {
          "base_uri": "https://localhost:8080/"
        },
        "outputId": "2f3f779a-9eb5-4faf-bd4b-eac963540ff0"
      },
      "source": [
        "print (f.readline())"
      ],
      "execution_count": null,
      "outputs": [
        {
          "output_type": "stream",
          "text": [
            "First Line\n",
            "\n"
          ],
          "name": "stdout"
        }
      ]
    },
    {
      "cell_type": "code",
      "metadata": {
        "colab": {
          "base_uri": "https://localhost:8080/"
        },
        "id": "_0QIn6VvN6c9",
        "outputId": "97cbc0d2-cbec-4759-8017-fc87a85faf3c"
      },
      "source": [
        "print (f.readline())"
      ],
      "execution_count": null,
      "outputs": [
        {
          "output_type": "stream",
          "text": [
            "#Second Line\n",
            "\n"
          ],
          "name": "stdout"
        }
      ]
    },
    {
      "cell_type": "code",
      "metadata": {
        "id": "_n-bX7KG44kx",
        "colab": {
          "base_uri": "https://localhost:8080/"
        },
        "outputId": "00b6079e-07b1-408b-e6ef-bba9b2b56a62"
      },
      "source": [
        "print (f.readlines())"
      ],
      "execution_count": null,
      "outputs": [
        {
          "output_type": "stream",
          "text": [
            "['Third Line\\n', 'Fourth Line\\n']\n"
          ],
          "name": "stdout"
        }
      ]
    },
    {
      "cell_type": "code",
      "metadata": {
        "id": "8RAaJv5H4-5p",
        "colab": {
          "base_uri": "https://localhost:8080/"
        },
        "outputId": "c7c8ed9a-8794-469a-f0fb-6681b8f2991e"
      },
      "source": [
        "print (f.readline())"
      ],
      "execution_count": null,
      "outputs": [
        {
          "output_type": "stream",
          "text": [
            "Third Line\n",
            "\n"
          ],
          "name": "stdout"
        }
      ]
    },
    {
      "cell_type": "code",
      "metadata": {
        "id": "oWNvYYmT5GEM",
        "colab": {
          "base_uri": "https://localhost:8080/"
        },
        "outputId": "c672fa50-634e-4ccf-ae79-efc40d070b01"
      },
      "source": [
        "print (f.readlines())"
      ],
      "execution_count": null,
      "outputs": [
        {
          "output_type": "stream",
          "text": [
            "['Fourth Line\\n']\n"
          ],
          "name": "stdout"
        }
      ]
    },
    {
      "cell_type": "markdown",
      "metadata": {
        "id": "oSKeABCA5Ne9"
      },
      "source": [
        "#Line-processing program. filterFile makes a copy of oldFile, omitting any lines that begin with #"
      ]
    },
    {
      "cell_type": "code",
      "metadata": {
        "id": "eU8-aKSl5Go1"
      },
      "source": [
        "def filterFile(oldFile, newFile):\n",
        "  f1 = open(oldFile, \"r\")\n",
        "  f2 = open(newFile, \"w\")\n",
        "  while True:\n",
        "    text = f1.readline()\n",
        "    if text == \"\":\n",
        "      break\n",
        "    if text[0] == '#':\n",
        "      continue\n",
        "    f2.write(text)\n",
        "  f1.close()\n",
        "  f2.close()\n",
        "  return"
      ],
      "execution_count": null,
      "outputs": []
    },
    {
      "cell_type": "code",
      "metadata": {
        "id": "zU2dbYC_5W_S"
      },
      "source": [
        "f = open(\"mydata.dat\",\"w\")\n",
        "f.write(\"First Line\\n\")\n",
        "f.write(\"#Second Line\\n\")\n",
        "f.write(\"Third Line\\n\")\n",
        "f.write(\"Fourth Line\\n\")\n",
        "f.close()"
      ],
      "execution_count": null,
      "outputs": []
    },
    {
      "cell_type": "code",
      "metadata": {
        "id": "3TEqbuF65xzE"
      },
      "source": [
        "filterFile(\"mydata.dat\",\"filterdata.dat\")"
      ],
      "execution_count": null,
      "outputs": []
    },
    {
      "cell_type": "code",
      "metadata": {
        "id": "qizRu2ZG6CkQ",
        "colab": {
          "base_uri": "https://localhost:8080/"
        },
        "outputId": "1cddc1ee-b5c2-46d6-be80-5b0a360f2cc5"
      },
      "source": [
        " f = open(\"mydata.dat\",\"r\")\n",
        "text = f.read()\n",
        "print(text)"
      ],
      "execution_count": null,
      "outputs": [
        {
          "output_type": "stream",
          "text": [
            "First Line\n",
            "#Second Line\n",
            "Third Line\n",
            "Fourth Line\n",
            "\n"
          ],
          "name": "stdout"
        }
      ]
    },
    {
      "cell_type": "code",
      "metadata": {
        "id": "xHwnA83f6IWc",
        "colab": {
          "base_uri": "https://localhost:8080/"
        },
        "outputId": "ca586cb3-9c21-4665-f14c-6fadc2e2115f"
      },
      "source": [
        " f = open(\"filterdata.dat\",\"r\")\n",
        "text = f.read()\n",
        "print(text)"
      ],
      "execution_count": null,
      "outputs": [
        {
          "output_type": "stream",
          "text": [
            "First Line\n",
            "Third Line\n",
            "Fourth Line\n",
            "\n"
          ],
          "name": "stdout"
        }
      ]
    },
    {
      "cell_type": "markdown",
      "metadata": {
        "id": "ev0_u-Xbj0B3"
      },
      "source": [
        "#OS Module"
      ]
    },
    {
      "cell_type": "code",
      "metadata": {
        "id": "Jjuowvej6MPm"
      },
      "source": [
        "import os"
      ],
      "execution_count": null,
      "outputs": []
    },
    {
      "cell_type": "code",
      "metadata": {
        "id": "VfHoNHDLkEtA"
      },
      "source": [
        "wd = os.getcwd()"
      ],
      "execution_count": null,
      "outputs": []
    },
    {
      "cell_type": "code",
      "metadata": {
        "id": "eSDnGoyrkGnZ",
        "colab": {
          "base_uri": "https://localhost:8080/"
        },
        "outputId": "81e30c32-2361-4a73-f89f-484a44e79065"
      },
      "source": [
        "print(wd)"
      ],
      "execution_count": null,
      "outputs": [
        {
          "output_type": "stream",
          "text": [
            "/content\n"
          ],
          "name": "stdout"
        }
      ]
    },
    {
      "cell_type": "code",
      "metadata": {
        "id": "l8lVQI2R1uF6",
        "colab": {
          "base_uri": "https://localhost:8080/"
        },
        "outputId": "768bd544-d50c-4273-c960-681f92fb0888"
      },
      "source": [
        "!ls -a"
      ],
      "execution_count": null,
      "outputs": [
        {
          "output_type": "stream",
          "text": [
            ".  ..  .config\tmyfile\tsample_data  test.dat\n"
          ],
          "name": "stdout"
        }
      ]
    },
    {
      "cell_type": "code",
      "metadata": {
        "id": "XNfcyXY4kH0A",
        "colab": {
          "base_uri": "https://localhost:8080/",
          "height": 35
        },
        "outputId": "9fb80080-35eb-4a62-90fc-04608582a6d2"
      },
      "source": [
        "os.path.abspath('test.dat')"
      ],
      "execution_count": null,
      "outputs": [
        {
          "output_type": "execute_result",
          "data": {
            "application/vnd.google.colaboratory.intrinsic+json": {
              "type": "string"
            },
            "text/plain": [
              "'/content/test.dat'"
            ]
          },
          "metadata": {
            "tags": []
          },
          "execution_count": 86
        }
      ]
    },
    {
      "cell_type": "markdown",
      "metadata": {
        "id": "fZDN0v92U41l"
      },
      "source": [
        "/home/Desktop/test.dat"
      ]
    },
    {
      "cell_type": "markdown",
      "metadata": {
        "id": "0xzuF6GikuL5"
      },
      "source": [
        "os.path.exists checks whether a file or directory exists:"
      ]
    },
    {
      "cell_type": "code",
      "metadata": {
        "id": "SJYMW_k3krZz",
        "colab": {
          "base_uri": "https://localhost:8080/"
        },
        "outputId": "732330d8-b7f0-4722-b296-3cd7b2f26fe6"
      },
      "source": [
        "os.path.exists('test.dat')"
      ],
      "execution_count": null,
      "outputs": [
        {
          "output_type": "execute_result",
          "data": {
            "text/plain": [
              "True"
            ]
          },
          "metadata": {
            "tags": []
          },
          "execution_count": 88
        }
      ]
    },
    {
      "cell_type": "code",
      "metadata": {
        "colab": {
          "base_uri": "https://localhost:8080/"
        },
        "id": "uMcuPNm3VcVN",
        "outputId": "e573e1bc-cb6f-40d0-fd77-66e590171a07"
      },
      "source": [
        "if os.path.exists('test1.dat'):\n",
        "    print(\"File is there\")\n",
        "else:\n",
        "    print(\"No file\")"
      ],
      "execution_count": null,
      "outputs": [
        {
          "output_type": "stream",
          "text": [
            "No file\n"
          ],
          "name": "stdout"
        }
      ]
    },
    {
      "cell_type": "code",
      "metadata": {
        "id": "Lg5hA6TT6nN6",
        "colab": {
          "base_uri": "https://localhost:8080/"
        },
        "outputId": "bb97073f-299e-43f3-d45f-063b69d498c8"
      },
      "source": [
        "print(wd)"
      ],
      "execution_count": null,
      "outputs": [
        {
          "output_type": "stream",
          "text": [
            "/content\n"
          ],
          "name": "stdout"
        }
      ]
    },
    {
      "cell_type": "markdown",
      "metadata": {
        "id": "ZdbshyTbk2BN"
      },
      "source": [
        "os.listdir returns a list of the files (and other directories) in the given directory:"
      ]
    },
    {
      "cell_type": "code",
      "metadata": {
        "id": "_5QF9fifkyDr",
        "colab": {
          "base_uri": "https://localhost:8080/"
        },
        "outputId": "3453d9dd-396a-4ac8-ce05-208cd1fde4e9"
      },
      "source": [
        "os.listdir(wd)"
      ],
      "execution_count": null,
      "outputs": [
        {
          "output_type": "execute_result",
          "data": {
            "text/plain": [
              "['.config', 'myfile', 'test.dat', 'sample_data']"
            ]
          },
          "metadata": {
            "tags": []
          },
          "execution_count": 95
        }
      ]
    },
    {
      "cell_type": "markdown",
      "metadata": {
        "id": "flqCmB-3lMEm"
      },
      "source": [
        "os.path.join takes a directory and a file name and joins them into a complete path."
      ]
    },
    {
      "cell_type": "markdown",
      "metadata": {
        "id": "7_M6Nka1k9LF"
      },
      "source": [
        "#Walk"
      ]
    },
    {
      "cell_type": "code",
      "metadata": {
        "id": "xF80iXOL8Kkj"
      },
      "source": [
        "os.walk()"
      ],
      "execution_count": null,
      "outputs": []
    },
    {
      "cell_type": "code",
      "metadata": {
        "id": "LgozU_2mk4Bg"
      },
      "source": [
        "def walk(dirname):\n",
        "    for name in os.listdir(dirname):\n",
        "        path = os.path.join(dirname, name)\n",
        "        #print(path)\n",
        "        if os.path.isfile(path):\n",
        "            print(path)\n",
        "        else:\n",
        "            walk(path) #RECURSIVE"
      ],
      "execution_count": null,
      "outputs": []
    },
    {
      "cell_type": "code",
      "metadata": {
        "id": "DIWDWr7QYrYk"
      },
      "source": [
        "def search(dirname):\n",
        "    for name in os.listdir(dirname):\n",
        "        path = os.path.join(dirname, name)\n",
        "        #print(path)\n",
        "        if os.path.isfile(path):\n",
        "            print(path) #README.md\n",
        "            \n",
        "        else:\n",
        "            walk(path) #RECURSIVE"
      ],
      "execution_count": null,
      "outputs": []
    },
    {
      "cell_type": "code",
      "metadata": {
        "id": "FZFGB6tJk9_p",
        "colab": {
          "base_uri": "https://localhost:8080/"
        },
        "outputId": "aad87975-7f3f-429a-8146-6caa608a9d8a"
      },
      "source": [
        "walk(cwd)"
      ],
      "execution_count": null,
      "outputs": [
        {
          "output_type": "stream",
          "text": [
            "/content/.config/.last_update_check.json\n",
            "/content/.config/configurations/config_default\n",
            "/content/.config/active_config\n",
            "/content/.config/logs/2020.11.13/17.33.45.553060.log\n",
            "/content/.config/logs/2020.11.13/17.33.44.836274.log\n",
            "/content/.config/logs/2020.11.13/17.32.45.071309.log\n",
            "/content/.config/logs/2020.11.13/17.33.22.211003.log\n",
            "/content/.config/logs/2020.11.13/17.33.29.478721.log\n",
            "/content/.config/logs/2020.11.13/17.33.07.342211.log\n",
            "/content/.config/gce\n",
            "/content/.config/.last_survey_prompt.yaml\n",
            "/content/.config/.last_opt_in_prompt.yaml\n",
            "/content/.config/config_sentinel\n",
            "/content/.config/.metricsUUID\n",
            "/content/myfile\n",
            "/content/test.dat\n",
            "/content/sample_data/anscombe.json\n",
            "/content/sample_data/README.md\n",
            "/content/sample_data/california_housing_train.csv\n",
            "/content/sample_data/california_housing_test.csv\n",
            "/content/sample_data/mnist_test.csv\n",
            "/content/sample_data/mnist_train_small.csv\n"
          ],
          "name": "stdout"
        }
      ]
    },
    {
      "cell_type": "markdown",
      "metadata": {
        "id": "aISujbcMmNMA"
      },
      "source": [
        "#OS Module Walk"
      ]
    },
    {
      "cell_type": "code",
      "metadata": {
        "id": "jv91Mh-vlB6l"
      },
      "source": [
        "def walk2(dirname):\n",
        "    for root, dirs, files in os.walk(dirname):\n",
        "        for filename in files:\n",
        "            print (os.path.join(root, filename))\n"
      ],
      "execution_count": null,
      "outputs": []
    },
    {
      "cell_type": "code",
      "metadata": {
        "id": "JYFNXgy5mOrn",
        "colab": {
          "base_uri": "https://localhost:8080/"
        },
        "outputId": "aa3a4fbd-5c1c-42a3-850d-1d6ed97e96a5"
      },
      "source": [
        "walk2(cwd)"
      ],
      "execution_count": null,
      "outputs": [
        {
          "output_type": "stream",
          "text": [
            "/content/myfile\n",
            "/content/test.dat\n",
            "/content/.config/.last_update_check.json\n",
            "/content/.config/active_config\n",
            "/content/.config/gce\n",
            "/content/.config/.last_survey_prompt.yaml\n",
            "/content/.config/.last_opt_in_prompt.yaml\n",
            "/content/.config/config_sentinel\n",
            "/content/.config/.metricsUUID\n",
            "/content/.config/configurations/config_default\n",
            "/content/.config/logs/2020.11.13/17.33.45.553060.log\n",
            "/content/.config/logs/2020.11.13/17.33.44.836274.log\n",
            "/content/.config/logs/2020.11.13/17.32.45.071309.log\n",
            "/content/.config/logs/2020.11.13/17.33.22.211003.log\n",
            "/content/.config/logs/2020.11.13/17.33.29.478721.log\n",
            "/content/.config/logs/2020.11.13/17.33.07.342211.log\n",
            "/content/sample_data/anscombe.json\n",
            "/content/sample_data/README.md\n",
            "/content/sample_data/california_housing_train.csv\n",
            "/content/sample_data/california_housing_test.csv\n",
            "/content/sample_data/mnist_test.csv\n",
            "/content/sample_data/mnist_train_small.csv\n"
          ],
          "name": "stdout"
        }
      ]
    },
    {
      "cell_type": "markdown",
      "metadata": {
        "id": "NEfmCmA-FCkI"
      },
      "source": [
        "#Sys Module"
      ]
    },
    {
      "cell_type": "code",
      "metadata": {
        "colab": {
          "base_uri": "https://localhost:8080/",
          "height": 52
        },
        "id": "-8-rZaTRFEEY",
        "outputId": "c624400d-f4af-4909-b9c9-6fd8fe0fa7db"
      },
      "source": [
        "import sys\n",
        "sys.argv[2]\n"
      ],
      "execution_count": null,
      "outputs": [
        {
          "output_type": "execute_result",
          "data": {
            "application/vnd.google.colaboratory.intrinsic+json": {
              "type": "string"
            },
            "text/plain": [
              "'/root/.local/share/jupyter/runtime/kernel-25946fba-9c99-4e59-8885-a4762ff2e2c8.json'"
            ]
          },
          "metadata": {
            "tags": []
          },
          "execution_count": 111
        }
      ]
    },
    {
      "cell_type": "code",
      "metadata": {
        "colab": {
          "base_uri": "https://localhost:8080/"
        },
        "id": "DqzenKvKFKFq",
        "outputId": "aaebfce3-85c0-4ceb-a00c-c05d2271053b"
      },
      "source": [
        "sys.maxsize"
      ],
      "execution_count": null,
      "outputs": [
        {
          "output_type": "execute_result",
          "data": {
            "text/plain": [
              "9223372036854775807"
            ]
          },
          "metadata": {
            "tags": []
          },
          "execution_count": 112
        }
      ]
    },
    {
      "cell_type": "markdown",
      "metadata": {
        "id": "2AfHdCBKFNKP"
      },
      "source": [
        "Returns the largest integer a variable can take."
      ]
    },
    {
      "cell_type": "code",
      "metadata": {
        "colab": {
          "base_uri": "https://localhost:8080/"
        },
        "id": "OflWUn0-FQBl",
        "outputId": "0bde600b-b4dd-42e0-b624-d15c7f6fa57f"
      },
      "source": [
        "sys.path"
      ],
      "execution_count": null,
      "outputs": [
        {
          "output_type": "execute_result",
          "data": {
            "text/plain": [
              "['',\n",
              " '/env/python',\n",
              " '/usr/lib/python36.zip',\n",
              " '/usr/lib/python3.6',\n",
              " '/usr/lib/python3.6/lib-dynload',\n",
              " '/usr/local/lib/python3.6/dist-packages',\n",
              " '/usr/lib/python3/dist-packages',\n",
              " '/usr/local/lib/python3.6/dist-packages/IPython/extensions',\n",
              " '/root/.ipython']"
            ]
          },
          "metadata": {
            "tags": []
          },
          "execution_count": 3
        }
      ]
    },
    {
      "cell_type": "code",
      "metadata": {
        "colab": {
          "base_uri": "https://localhost:8080/",
          "height": 35
        },
        "id": "2zpvfY2mFTpt",
        "outputId": "afb25008-4a66-40ba-ffde-d5cdd159df85"
      },
      "source": [
        "sys.version"
      ],
      "execution_count": null,
      "outputs": [
        {
          "output_type": "execute_result",
          "data": {
            "application/vnd.google.colaboratory.intrinsic+json": {
              "type": "string"
            },
            "text/plain": [
              "'3.6.9 (default, Oct  8 2020, 12:12:24) \\n[GCC 8.4.0]'"
            ]
          },
          "metadata": {
            "tags": []
          },
          "execution_count": 113
        }
      ]
    },
    {
      "cell_type": "code",
      "metadata": {
        "id": "UPj1GgOfFahz"
      },
      "source": [
        "sys.exit"
      ],
      "execution_count": null,
      "outputs": []
    },
    {
      "cell_type": "markdown",
      "metadata": {
        "id": "8WL28cfRFbQy"
      },
      "source": [
        "This causes the script to exit back to either the Python console or the command prompt. This is generally used to safely exit from the program in case of generation of an exception."
      ]
    },
    {
      "cell_type": "markdown",
      "metadata": {
        "id": "UT6LdHJEwVwM"
      },
      "source": [
        "#Writing variables"
      ]
    },
    {
      "cell_type": "markdown",
      "metadata": {
        "id": "L-Wt6-Lzwc-p"
      },
      "source": [
        "The argument of write has to be a string, so if we want to put other values in\n",
        "a file, we have to convert them to strings first."
      ]
    },
    {
      "cell_type": "code",
      "metadata": {
        "id": "_KQkThQPmTVz"
      },
      "source": [
        "f = open(\"test.dat\",\"w\")"
      ],
      "execution_count": null,
      "outputs": []
    },
    {
      "cell_type": "code",
      "metadata": {
        "id": "M6W53qonwq_S"
      },
      "source": [
        "x=52"
      ],
      "execution_count": null,
      "outputs": []
    },
    {
      "cell_type": "code",
      "metadata": {
        "id": "uPwkTbvT_DUj",
        "colab": {
          "base_uri": "https://localhost:8080/",
          "height": 35
        },
        "outputId": "2f3f1ff9-f631-402e-bb4e-3a914a95b620"
      },
      "source": [
        "str(x)"
      ],
      "execution_count": null,
      "outputs": [
        {
          "output_type": "execute_result",
          "data": {
            "application/vnd.google.colaboratory.intrinsic+json": {
              "type": "string"
            },
            "text/plain": [
              "'52'"
            ]
          },
          "metadata": {
            "tags": []
          },
          "execution_count": 66
        }
      ]
    },
    {
      "cell_type": "code",
      "metadata": {
        "id": "fXhlHPiU-zKw",
        "colab": {
          "base_uri": "https://localhost:8080/",
          "height": 162
        },
        "outputId": "a838d6a7-081b-4ad2-805b-562a4a0eaa0f"
      },
      "source": [
        "f.write(x)"
      ],
      "execution_count": null,
      "outputs": [
        {
          "output_type": "error",
          "ename": "TypeError",
          "evalue": "ignored",
          "traceback": [
            "\u001b[0;31m---------------------------------------------------------------------------\u001b[0m",
            "\u001b[0;31mTypeError\u001b[0m                                 Traceback (most recent call last)",
            "\u001b[0;32m<ipython-input-64-d2e167cd6607>\u001b[0m in \u001b[0;36m<module>\u001b[0;34m()\u001b[0m\n\u001b[0;32m----> 1\u001b[0;31m \u001b[0mf\u001b[0m\u001b[0;34m.\u001b[0m\u001b[0mwrite\u001b[0m\u001b[0;34m(\u001b[0m\u001b[0mx\u001b[0m\u001b[0;34m)\u001b[0m\u001b[0;34m\u001b[0m\u001b[0;34m\u001b[0m\u001b[0m\n\u001b[0m",
            "\u001b[0;31mTypeError\u001b[0m: write() argument must be str, not int"
          ]
        }
      ]
    },
    {
      "cell_type": "code",
      "metadata": {
        "id": "aJgo2JStws8m",
        "colab": {
          "base_uri": "https://localhost:8080/"
        },
        "outputId": "7adbe60a-21ee-4062-b90b-35adc98770c1"
      },
      "source": [
        "f.write(str(x))"
      ],
      "execution_count": null,
      "outputs": [
        {
          "output_type": "execute_result",
          "data": {
            "text/plain": [
              "2"
            ]
          },
          "metadata": {
            "tags": []
          },
          "execution_count": 65
        }
      ]
    },
    {
      "cell_type": "markdown",
      "metadata": {
        "id": "9TV5r55lwx0Y"
      },
      "source": [
        "#Format operator"
      ]
    },
    {
      "cell_type": "markdown",
      "metadata": {
        "id": "UTMb2TOdw9wo"
      },
      "source": [
        "When applied to integers, % is the modulus operator. But when the first operand is a string, % is the format operator."
      ]
    },
    {
      "cell_type": "markdown",
      "metadata": {
        "id": "uV3gxswXxNwj"
      },
      "source": [
        "The first operand is the format string, which contains one or more format sequences, which specify how the second operand is formatted. The result is a string"
      ]
    },
    {
      "cell_type": "markdown",
      "metadata": {
        "id": "6kznw1uxxRJ1"
      },
      "source": [
        "the format sequence '%d' means that the second operand should be formatted as an integer (d stands for “decimal”):"
      ]
    },
    {
      "cell_type": "code",
      "metadata": {
        "id": "a_qHw8E1wuyJ"
      },
      "source": [
        "camels = 42"
      ],
      "execution_count": null,
      "outputs": []
    },
    {
      "cell_type": "code",
      "metadata": {
        "id": "jXLIqlo9xTW_",
        "colab": {
          "base_uri": "https://localhost:8080/",
          "height": 35
        },
        "outputId": "41b5ac41-561b-4b4d-98b6-5105975ce4b6"
      },
      "source": [
        "'%d' % camels"
      ],
      "execution_count": null,
      "outputs": [
        {
          "output_type": "execute_result",
          "data": {
            "application/vnd.google.colaboratory.intrinsic+json": {
              "type": "string"
            },
            "text/plain": [
              "'42'"
            ]
          },
          "metadata": {
            "tags": []
          },
          "execution_count": 69
        }
      ]
    },
    {
      "cell_type": "code",
      "metadata": {
        "id": "KZwi5mP-_r7k",
        "colab": {
          "base_uri": "https://localhost:8080/"
        },
        "outputId": "f9a756c9-cad0-4da4-e9fb-5f23fec5bd7e"
      },
      "source": [
        "f.write('%d' % camels)"
      ],
      "execution_count": null,
      "outputs": [
        {
          "output_type": "execute_result",
          "data": {
            "text/plain": [
              "2"
            ]
          },
          "metadata": {
            "tags": []
          },
          "execution_count": 71
        }
      ]
    },
    {
      "cell_type": "code",
      "metadata": {
        "id": "hhR3DKuJ_5MX"
      },
      "source": [
        "year = 2.5"
      ],
      "execution_count": null,
      "outputs": []
    },
    {
      "cell_type": "code",
      "metadata": {
        "id": "U5wdbFwX_7Lo",
        "colab": {
          "base_uri": "https://localhost:8080/",
          "height": 35
        },
        "outputId": "0fa3402c-da85-49a4-a382-6022825ad465"
      },
      "source": [
        "'%g' % year"
      ],
      "execution_count": null,
      "outputs": [
        {
          "output_type": "execute_result",
          "data": {
            "application/vnd.google.colaboratory.intrinsic+json": {
              "type": "string"
            },
            "text/plain": [
              "'2.5'"
            ]
          },
          "metadata": {
            "tags": []
          },
          "execution_count": 73
        }
      ]
    },
    {
      "cell_type": "code",
      "metadata": {
        "id": "Ol56rSSm__pd",
        "colab": {
          "base_uri": "https://localhost:8080/"
        },
        "outputId": "4a3e950d-575b-4a69-d6e3-a2cbcb336ef2"
      },
      "source": [
        "f.write('%g' % year)"
      ],
      "execution_count": null,
      "outputs": [
        {
          "output_type": "execute_result",
          "data": {
            "text/plain": [
              "3"
            ]
          },
          "metadata": {
            "tags": []
          },
          "execution_count": 74
        }
      ]
    },
    {
      "cell_type": "markdown",
      "metadata": {
        "id": "Lu0gtdWCxhp3"
      },
      "source": [
        "A format sequence can appear anywhere in the string, so you can embed a value in a sentence:"
      ]
    },
    {
      "cell_type": "code",
      "metadata": {
        "id": "tU409-MnxU-m",
        "colab": {
          "base_uri": "https://localhost:8080/",
          "height": 35
        },
        "outputId": "80f7d0d9-38bc-4fb0-920b-d3e37528bf0b"
      },
      "source": [
        "'I have spotted %d camels.' % camels"
      ],
      "execution_count": null,
      "outputs": [
        {
          "output_type": "execute_result",
          "data": {
            "application/vnd.google.colaboratory.intrinsic+json": {
              "type": "string"
            },
            "text/plain": [
              "'I have spotted 42 camels.'"
            ]
          },
          "metadata": {
            "tags": []
          },
          "execution_count": 75
        }
      ]
    },
    {
      "cell_type": "markdown",
      "metadata": {
        "id": "Tx271rRBxorB"
      },
      "source": [
        "If there is more than one format sequence in the string, the second argument has to be a tuple. Each format sequence is matched with an element of the tuple, in order."
      ]
    },
    {
      "cell_type": "markdown",
      "metadata": {
        "id": "zN8PuMZNxtOY"
      },
      "source": [
        "The following example uses '%d' to format an integer, '%g' to format a floating-point number (don’t ask why), and '%s' to format a string:"
      ]
    },
    {
      "cell_type": "code",
      "metadata": {
        "id": "v0vwqW2txkW0",
        "colab": {
          "base_uri": "https://localhost:8080/",
          "height": 35
        },
        "outputId": "8e8f32ec-8900-449d-996f-883d8e0ff740"
      },
      "source": [
        "'In %g years I have spotted %d %s.' % (3.5, 100, 'camels')"
      ],
      "execution_count": null,
      "outputs": [
        {
          "output_type": "execute_result",
          "data": {
            "application/vnd.google.colaboratory.intrinsic+json": {
              "type": "string"
            },
            "text/plain": [
              "'In 3.5 years I have spotted 100 camels.'"
            ]
          },
          "metadata": {
            "tags": []
          },
          "execution_count": 76
        }
      ]
    },
    {
      "cell_type": "code",
      "metadata": {
        "id": "9Fx873wjATqL",
        "colab": {
          "base_uri": "https://localhost:8080/",
          "height": 35
        },
        "outputId": "dd8e1ca8-6aeb-4b4e-d2e7-838f8d4d42d7"
      },
      "source": [
        "'In %g years I have spotted %d %s.' % (10.5, 1000, 'cats')"
      ],
      "execution_count": null,
      "outputs": [
        {
          "output_type": "execute_result",
          "data": {
            "application/vnd.google.colaboratory.intrinsic+json": {
              "type": "string"
            },
            "text/plain": [
              "'In 10.5 years I have spotted 1000 cats.'"
            ]
          },
          "metadata": {
            "tags": []
          },
          "execution_count": 78
        }
      ]
    },
    {
      "cell_type": "markdown",
      "metadata": {
        "id": "Y02BDXR3x6NA"
      },
      "source": [
        "The number of elements in the tuple has to match the number of format sequences in the string. Also, the types of the elements have to match the format sequences:"
      ]
    },
    {
      "cell_type": "code",
      "metadata": {
        "id": "h8oqmR0Fxw3A",
        "colab": {
          "base_uri": "https://localhost:8080/",
          "height": 162
        },
        "outputId": "d2e9fcda-40f5-4950-d585-319b4d3279b0"
      },
      "source": [
        " '%d %f %f' % (1, 2, 'hello')"
      ],
      "execution_count": null,
      "outputs": [
        {
          "output_type": "error",
          "ename": "TypeError",
          "evalue": "ignored",
          "traceback": [
            "\u001b[0;31m---------------------------------------------------------------------------\u001b[0m",
            "\u001b[0;31mTypeError\u001b[0m                                 Traceback (most recent call last)",
            "\u001b[0;32m<ipython-input-96-3f5b11545b7d>\u001b[0m in \u001b[0;36m<module>\u001b[0;34m()\u001b[0m\n\u001b[0;32m----> 1\u001b[0;31m \u001b[0;34m'%d %f %f'\u001b[0m \u001b[0;34m%\u001b[0m \u001b[0;34m(\u001b[0m\u001b[0;36m1\u001b[0m\u001b[0;34m,\u001b[0m \u001b[0;36m2\u001b[0m\u001b[0;34m,\u001b[0m \u001b[0;34m'hello'\u001b[0m\u001b[0;34m)\u001b[0m\u001b[0;34m\u001b[0m\u001b[0;34m\u001b[0m\u001b[0m\n\u001b[0m",
            "\u001b[0;31mTypeError\u001b[0m: must be real number, not str"
          ]
        }
      ]
    },
    {
      "cell_type": "code",
      "metadata": {
        "id": "M9QjY-qSECK6",
        "colab": {
          "base_uri": "https://localhost:8080/",
          "height": 35
        },
        "outputId": "cb6a9087-42e9-49c0-c411-382328c7a375"
      },
      "source": [
        "'%d %d %s' %(1 , 2, 'hello')"
      ],
      "execution_count": null,
      "outputs": [
        {
          "output_type": "execute_result",
          "data": {
            "application/vnd.google.colaboratory.intrinsic+json": {
              "type": "string"
            },
            "text/plain": [
              "'1 2 hello'"
            ]
          },
          "metadata": {
            "tags": []
          },
          "execution_count": 98
        }
      ]
    },
    {
      "cell_type": "code",
      "metadata": {
        "id": "PmBY_PEGx86T",
        "colab": {
          "base_uri": "https://localhost:8080/",
          "height": 35
        },
        "outputId": "d24450f0-3980-4384-c11f-7d448e4d2039"
      },
      "source": [
        "'%g' % 2.4"
      ],
      "execution_count": null,
      "outputs": [
        {
          "output_type": "execute_result",
          "data": {
            "application/vnd.google.colaboratory.intrinsic+json": {
              "type": "string"
            },
            "text/plain": [
              "'2.4'"
            ]
          },
          "metadata": {
            "tags": []
          },
          "execution_count": 82
        }
      ]
    },
    {
      "cell_type": "markdown",
      "metadata": {
        "id": "CDkqaJf-yzpU"
      },
      "source": [
        "For more control over the format of numbers, we can specify the number of\n",
        "digits as part of the format sequence"
      ]
    },
    {
      "cell_type": "code",
      "metadata": {
        "id": "2If22BZJy1-L",
        "colab": {
          "base_uri": "https://localhost:8080/",
          "height": 35
        },
        "outputId": "4c028571-0926-4ec3-8de2-0bfc5c060a6b"
      },
      "source": [
        "\"%6d\" % 62"
      ],
      "execution_count": null,
      "outputs": [
        {
          "output_type": "execute_result",
          "data": {
            "application/vnd.google.colaboratory.intrinsic+json": {
              "type": "string"
            },
            "text/plain": [
              "'    62'"
            ]
          },
          "metadata": {
            "tags": []
          },
          "execution_count": 17
        }
      ]
    },
    {
      "cell_type": "code",
      "metadata": {
        "id": "j4cj7nmDA1eh",
        "colab": {
          "base_uri": "https://localhost:8080/"
        },
        "outputId": "cc63ca80-ce5d-46f5-f434-fde42122580e"
      },
      "source": [
        "len(\"%6d\" % 62)"
      ],
      "execution_count": null,
      "outputs": [
        {
          "output_type": "execute_result",
          "data": {
            "text/plain": [
              "6"
            ]
          },
          "metadata": {
            "tags": []
          },
          "execution_count": 83
        }
      ]
    },
    {
      "cell_type": "code",
      "metadata": {
        "id": "-IL73-KTy7A5",
        "colab": {
          "base_uri": "https://localhost:8080/",
          "height": 35
        },
        "outputId": "cd06c55a-0130-42c0-8095-3ff39c1aa7b2"
      },
      "source": [
        "\"%12f\" % 6.1"
      ],
      "execution_count": null,
      "outputs": [
        {
          "output_type": "execute_result",
          "data": {
            "application/vnd.google.colaboratory.intrinsic+json": {
              "type": "string"
            },
            "text/plain": [
              "'    6.100000'"
            ]
          },
          "metadata": {
            "tags": []
          },
          "execution_count": 84
        }
      ]
    },
    {
      "cell_type": "code",
      "metadata": {
        "id": "-nENbkqWA-DI",
        "colab": {
          "base_uri": "https://localhost:8080/"
        },
        "outputId": "b9edf361-212b-4929-bd69-0558251b1a8f"
      },
      "source": [
        "len(\"%12f\" % 6.1)"
      ],
      "execution_count": null,
      "outputs": [
        {
          "output_type": "execute_result",
          "data": {
            "text/plain": [
              "12"
            ]
          },
          "metadata": {
            "tags": []
          },
          "execution_count": 85
        }
      ]
    },
    {
      "cell_type": "markdown",
      "metadata": {
        "id": "keXkBG7kzCf_"
      },
      "source": [
        "The number after the percent sign is the minimum number of spaces the number\n",
        "will take up. If the value provided takes fewer digits, leading spaces are added.\n",
        "If the number of spaces is negative, trailing spaces are added:"
      ]
    },
    {
      "cell_type": "code",
      "metadata": {
        "id": "LGOXwdrXy8Gi",
        "colab": {
          "base_uri": "https://localhost:8080/",
          "height": 35
        },
        "outputId": "ac4d062f-392a-4be0-943e-1d1fd0c097a4"
      },
      "source": [
        "\"%-6d\" % 34"
      ],
      "execution_count": null,
      "outputs": [
        {
          "output_type": "execute_result",
          "data": {
            "application/vnd.google.colaboratory.intrinsic+json": {
              "type": "string"
            },
            "text/plain": [
              "'34    '"
            ]
          },
          "metadata": {
            "tags": []
          },
          "execution_count": 91
        }
      ]
    },
    {
      "cell_type": "markdown",
      "metadata": {
        "id": "lL-ZCpJ3zI3r"
      },
      "source": [
        "For \n",
        "floating-point numbers, we can also specify the number of digits after the\n",
        "decimal point"
      ]
    },
    {
      "cell_type": "code",
      "metadata": {
        "id": "YQ5Sn1SGzG9x",
        "colab": {
          "base_uri": "https://localhost:8080/",
          "height": 35
        },
        "outputId": "625e16f6-8d49-4662-df9b-3b1ee2a1d54f"
      },
      "source": [
        "\"%12.10f\" % 6.1"
      ],
      "execution_count": null,
      "outputs": [
        {
          "output_type": "execute_result",
          "data": {
            "application/vnd.google.colaboratory.intrinsic+json": {
              "type": "string"
            },
            "text/plain": [
              "'6.1000000000'"
            ]
          },
          "metadata": {
            "tags": []
          },
          "execution_count": 93
        }
      ]
    },
    {
      "cell_type": "code",
      "metadata": {
        "id": "JEFVPtghBZHY",
        "colab": {
          "base_uri": "https://localhost:8080/"
        },
        "outputId": "fb52786a-4059-4d80-9a3e-b2f3b4cb6ac5"
      },
      "source": [
        "len(\"%12.10f\" % 6.1)"
      ],
      "execution_count": null,
      "outputs": [
        {
          "output_type": "execute_result",
          "data": {
            "text/plain": [
              "12"
            ]
          },
          "metadata": {
            "tags": []
          },
          "execution_count": 94
        }
      ]
    },
    {
      "cell_type": "markdown",
      "metadata": {
        "id": "7dxjYVzeyOQP"
      },
      "source": [
        "# Consider a dictionary that contains student names as keys and hourly wages as values. Write is a function that prints the contents of the dictionary as a formatted report:"
      ]
    },
    {
      "cell_type": "markdown",
      "metadata": {
        "id": "p-6JLzGVyaaH"
      },
      "source": [
        "wages = {'mary': 6.23, 'joe': 5.45, 'joshua': 4.25}"
      ]
    },
    {
      "cell_type": "code",
      "metadata": {
        "id": "4uWgv3YYEprD"
      },
      "source": [
        ""
      ],
      "execution_count": null,
      "outputs": []
    },
    {
      "cell_type": "code",
      "metadata": {
        "id": "LLlqKYzMyAcl"
      },
      "source": [
        "wages = {'mary': 6.23, 'joe': 5.45, 'joshua': 4.25}\n",
        "def report (wages) :\n",
        "  students = wages.keys()\n",
        "  for student in students :\n",
        "    print (\"%-20s %12.2f\" % (student, wages[student]))"
      ],
      "execution_count": null,
      "outputs": []
    },
    {
      "cell_type": "code",
      "metadata": {
        "id": "EYzXUAbIyWcq",
        "colab": {
          "base_uri": "https://localhost:8080/"
        },
        "outputId": "1a571967-325d-4694-dcd5-3fcb44cc5f43"
      },
      "source": [
        "report (wages)"
      ],
      "execution_count": null,
      "outputs": [
        {
          "output_type": "stream",
          "text": [
            "mary                         6.23\n",
            "joe                          5.45\n",
            "joshua                       4.25\n"
          ],
          "name": "stdout"
        }
      ]
    },
    {
      "cell_type": "markdown",
      "metadata": {
        "id": "ORF5FrNUzQ4H"
      },
      "source": [
        "#Directories"
      ]
    },
    {
      "cell_type": "markdown",
      "metadata": {
        "id": "ixH3DX5KzZma"
      },
      "source": [
        "Files are organized into directories (also called “folders”)"
      ]
    },
    {
      "cell_type": "markdown",
      "metadata": {
        "id": "AaFg8cytzpF5"
      },
      "source": [
        "When you create a new file by opening it and writing, the new file goes in the\n",
        "current directory (wherever you were when you ran the program). Similarly,\n",
        "when you open a file for reading, Python looks for it in the current directory"
      ]
    },
    {
      "cell_type": "markdown",
      "metadata": {
        "id": "EGwbPIxvzvyh"
      },
      "source": [
        "If you want to open a file somewhere else, you have to specify the path to the\n",
        "file, which is the name of the directory (or folder) where the file is located:"
      ]
    },
    {
      "cell_type": "code",
      "metadata": {
        "id": "4-rTJORG0XVe",
        "colab": {
          "base_uri": "https://localhost:8080/"
        },
        "outputId": "8734528f-4e4c-4208-e41a-fe80b5cf13cd"
      },
      "source": [
        "!ls -a /content/.config/logs/2020.11.06\n"
      ],
      "execution_count": null,
      "outputs": [
        {
          "output_type": "stream",
          "text": [
            ".   17.29.30.377972.log  17.30.05.534498.log  17.30.26.350934.log\n",
            "..  17.29.50.665666.log  17.30.11.233615.log  17.30.27.059027.log\n"
          ],
          "name": "stdout"
        }
      ]
    },
    {
      "cell_type": "code",
      "metadata": {
        "id": "HSHUvH5JydtT"
      },
      "source": [
        "f= open(\"/content/.config/logs/2020.11.06/17.29.30.377972.log\", \"r\")"
      ],
      "execution_count": null,
      "outputs": []
    },
    {
      "cell_type": "code",
      "metadata": {
        "id": "BoOXLbZS0DLJ",
        "colab": {
          "base_uri": "https://localhost:8080/"
        },
        "outputId": "a3945c1c-64b8-4218-db19-550349e4c476"
      },
      "source": [
        "print(f.readline())"
      ],
      "execution_count": null,
      "outputs": [
        {
          "output_type": "stream",
          "text": [
            "2020-11-06 17:29:30,389 DEBUG    root            Loaded Command Group: ['gcloud', 'components']\n",
            "\n"
          ],
          "name": "stdout"
        }
      ]
    },
    {
      "cell_type": "markdown",
      "metadata": {
        "id": "0LIn01fj0iDi"
      },
      "source": [
        "You cannot use / as part of a filename; it is reserved as a delimiter between\n",
        "directory and filenames."
      ]
    },
    {
      "cell_type": "markdown",
      "metadata": {
        "id": "9q9FyBpo0nim"
      },
      "source": [
        "#Pickling"
      ]
    },
    {
      "cell_type": "markdown",
      "metadata": {
        "id": "oSRd17WT0soa"
      },
      "source": [
        "In order to put values into a file, you have to convert them to strings."
      ]
    },
    {
      "cell_type": "markdown",
      "metadata": {
        "id": "3RyeDeHk0vSZ"
      },
      "source": [
        "The problem is that when you read the value back, you get a string. The original\n",
        "type information has been lost. In fact, you can't even tell where one value ends and the next begins"
      ]
    },
    {
      "cell_type": "code",
      "metadata": {
        "id": "NDl4ijtZ8LX9",
        "colab": {
          "base_uri": "https://localhost:8080/"
        },
        "outputId": "4961dc4d-bda0-4abe-fdd7-a4c5049f217b"
      },
      "source": [
        "f = open(\"test.dat\",\"w\")\n",
        "f.write (\"Hello\")"
      ],
      "execution_count": null,
      "outputs": [
        {
          "output_type": "execute_result",
          "data": {
            "text/plain": [
              "5"
            ]
          },
          "metadata": {
            "tags": []
          },
          "execution_count": 4
        }
      ]
    },
    {
      "cell_type": "code",
      "metadata": {
        "id": "sLXbx4eF8WWS",
        "colab": {
          "base_uri": "https://localhost:8080/",
          "height": 164
        },
        "outputId": "ad28a419-b76b-49d8-a508-5a1297e45cb7"
      },
      "source": [
        "f.write (30)"
      ],
      "execution_count": null,
      "outputs": [
        {
          "output_type": "error",
          "ename": "TypeError",
          "evalue": "ignored",
          "traceback": [
            "\u001b[0;31m---------------------------------------------------------------------------\u001b[0m",
            "\u001b[0;31mTypeError\u001b[0m                                 Traceback (most recent call last)",
            "\u001b[0;32m<ipython-input-5-e1929a78fd3b>\u001b[0m in \u001b[0;36m<module>\u001b[0;34m()\u001b[0m\n\u001b[0;32m----> 1\u001b[0;31m \u001b[0mf\u001b[0m\u001b[0;34m.\u001b[0m\u001b[0mwrite\u001b[0m \u001b[0;34m(\u001b[0m\u001b[0;36m30\u001b[0m\u001b[0;34m)\u001b[0m\u001b[0;34m\u001b[0m\u001b[0;34m\u001b[0m\u001b[0m\n\u001b[0m",
            "\u001b[0;31mTypeError\u001b[0m: write() argument must be str, not int"
          ]
        }
      ]
    },
    {
      "cell_type": "code",
      "metadata": {
        "id": "dsvQrrkV0cwP",
        "colab": {
          "base_uri": "https://localhost:8080/"
        },
        "outputId": "f86ed5e2-0b0f-4909-e8a9-c22f38c357a5"
      },
      "source": [
        "f = open(\"test.dat\",\"w\")\n",
        "f.write (str(12.3))"
      ],
      "execution_count": null,
      "outputs": [
        {
          "output_type": "execute_result",
          "data": {
            "text/plain": [
              "4"
            ]
          },
          "metadata": {
            "tags": []
          },
          "execution_count": 6
        }
      ]
    },
    {
      "cell_type": "code",
      "metadata": {
        "id": "nLz5QPIH008i",
        "colab": {
          "base_uri": "https://localhost:8080/"
        },
        "outputId": "46c80c4e-9620-437c-b73e-32af45791296"
      },
      "source": [
        "f.write (str([1,2,3]))"
      ],
      "execution_count": null,
      "outputs": [
        {
          "output_type": "execute_result",
          "data": {
            "text/plain": [
              "9"
            ]
          },
          "metadata": {
            "tags": []
          },
          "execution_count": 7
        }
      ]
    },
    {
      "cell_type": "code",
      "metadata": {
        "id": "NkKhJWKa8qF1",
        "colab": {
          "base_uri": "https://localhost:8080/"
        },
        "outputId": "9b0f66c3-94cc-45b8-8105-7da0d632d59d"
      },
      "source": [
        "len(str([1,2,3]))"
      ],
      "execution_count": null,
      "outputs": [
        {
          "output_type": "execute_result",
          "data": {
            "text/plain": [
              "9"
            ]
          },
          "metadata": {
            "tags": []
          },
          "execution_count": 9
        }
      ]
    },
    {
      "cell_type": "code",
      "metadata": {
        "id": "8DT_kxEe1H2L"
      },
      "source": [
        "f.close()"
      ],
      "execution_count": null,
      "outputs": []
    },
    {
      "cell_type": "markdown",
      "metadata": {
        "id": "wp6cq2gu1DRT"
      },
      "source": [
        "The problem is that when you read the value back, you get a string. The original\n",
        "type information has been lost. In fact, you can't even tell where one value ends\n",
        "and the next begins:"
      ]
    },
    {
      "cell_type": "code",
      "metadata": {
        "id": "ojtCkTW01NdD"
      },
      "source": [
        "f = open(\"test.dat\",\"r\")"
      ],
      "execution_count": null,
      "outputs": []
    },
    {
      "cell_type": "code",
      "metadata": {
        "id": "UpyR7L2f09cR",
        "colab": {
          "base_uri": "https://localhost:8080/",
          "height": 35
        },
        "outputId": "6aed6d6e-7f84-4e29-c6c7-767048751869"
      },
      "source": [
        "f.readline()"
      ],
      "execution_count": null,
      "outputs": [
        {
          "output_type": "execute_result",
          "data": {
            "application/vnd.google.colaboratory.intrinsic+json": {
              "type": "string"
            },
            "text/plain": [
              "'12.3[1, 2, 3]'"
            ]
          },
          "metadata": {
            "tags": []
          },
          "execution_count": 12
        }
      ]
    },
    {
      "cell_type": "markdown",
      "metadata": {
        "id": "JHEoLbff1TYJ"
      },
      "source": [
        "The solution is pickling, so called because it \"preserves\" data structures. The\n",
        "pickle module contains the necessary commands"
      ]
    },
    {
      "cell_type": "code",
      "metadata": {
        "id": "MXb_ShEF1Ejr"
      },
      "source": [
        "import pickle\n",
        "f = open(\"test.pck\",\"w\")\n"
      ],
      "execution_count": null,
      "outputs": []
    },
    {
      "cell_type": "markdown",
      "metadata": {
        "id": "KWN_-2v71bh0"
      },
      "source": [
        "To store a data structure, use the dump method and then close the file in the\n",
        "usual way:"
      ]
    },
    {
      "cell_type": "code",
      "metadata": {
        "id": "F61onBXs1aw4",
        "colab": {
          "base_uri": "https://localhost:8080/"
        },
        "outputId": "921ebe9b-c24e-4919-e750-47bdc5a4b886"
      },
      "source": [
        "t = [1, 2, 3,4]\n",
        "pickle.dumps(t)"
      ],
      "execution_count": null,
      "outputs": [
        {
          "output_type": "execute_result",
          "data": {
            "text/plain": [
              "b'\\x80\\x03]q\\x00(K\\x01K\\x02K\\x03K\\x04e.'"
            ]
          },
          "metadata": {
            "tags": []
          },
          "execution_count": 15
        }
      ]
    },
    {
      "cell_type": "markdown",
      "metadata": {
        "id": "YoZ71eU52Te3"
      },
      "source": [
        "The format isn’t obvious to human readers; it is meant to be easy for pickle to interpret. pickle.loads (“load string”) reconstitutes the object:"
      ]
    },
    {
      "cell_type": "code",
      "metadata": {
        "id": "SOnIPkWt1eDc",
        "colab": {
          "base_uri": "https://localhost:8080/"
        },
        "outputId": "8a356a9d-88d5-4f20-b4b2-5c9f90937f58"
      },
      "source": [
        "t1 = [1, 2, 3]\n",
        "s = pickle.dumps(t1)\n",
        "t2 = pickle.loads(s)\n",
        "print(t2)"
      ],
      "execution_count": null,
      "outputs": [
        {
          "output_type": "stream",
          "text": [
            "[1, 2, 3]\n"
          ],
          "name": "stdout"
        }
      ]
    },
    {
      "cell_type": "code",
      "metadata": {
        "id": "Vq0pJMRa-6SV",
        "colab": {
          "base_uri": "https://localhost:8080/"
        },
        "outputId": "2a943df8-f861-4cb4-de82-8579e6b1c8ae"
      },
      "source": [
        "t1 = 12.5\n",
        "s = pickle.dumps(t1)\n",
        "t2 = pickle.loads(s)\n",
        "print(t2)"
      ],
      "execution_count": null,
      "outputs": [
        {
          "output_type": "stream",
          "text": [
            "12.5\n"
          ],
          "name": "stdout"
        }
      ]
    },
    {
      "cell_type": "code",
      "metadata": {
        "id": "HTisGoOZ-9Gs",
        "colab": {
          "base_uri": "https://localhost:8080/"
        },
        "outputId": "dd8499ed-2883-482a-ca00-f2bdc39627bf"
      },
      "source": [
        "type(t1)"
      ],
      "execution_count": null,
      "outputs": [
        {
          "output_type": "execute_result",
          "data": {
            "text/plain": [
              "float"
            ]
          },
          "metadata": {
            "tags": []
          },
          "execution_count": 25
        }
      ]
    },
    {
      "cell_type": "code",
      "metadata": {
        "id": "4bThBJ4y_CGL",
        "colab": {
          "base_uri": "https://localhost:8080/"
        },
        "outputId": "ab6b2cc8-bf27-48b4-e7fc-6f5bdc98ee95"
      },
      "source": [
        "type(t2)"
      ],
      "execution_count": null,
      "outputs": [
        {
          "output_type": "execute_result",
          "data": {
            "text/plain": [
              "float"
            ]
          },
          "metadata": {
            "tags": []
          },
          "execution_count": 26
        }
      ]
    },
    {
      "cell_type": "code",
      "metadata": {
        "id": "HS2xOrl22b5t",
        "colab": {
          "base_uri": "https://localhost:8080/"
        },
        "outputId": "3540fbd6-ba8d-476f-9c92-b906585ebe1f"
      },
      "source": [
        "t1"
      ],
      "execution_count": null,
      "outputs": [
        {
          "output_type": "execute_result",
          "data": {
            "text/plain": [
              "[1, 2, 3]"
            ]
          },
          "metadata": {
            "tags": []
          },
          "execution_count": 17
        }
      ]
    },
    {
      "cell_type": "code",
      "metadata": {
        "id": "txGX790C3Bg3",
        "colab": {
          "base_uri": "https://localhost:8080/"
        },
        "outputId": "b4b2978b-854a-47ed-dca8-000fd2e6d024"
      },
      "source": [
        "type(t2)"
      ],
      "execution_count": null,
      "outputs": [
        {
          "output_type": "execute_result",
          "data": {
            "text/plain": [
              "list"
            ]
          },
          "metadata": {
            "tags": []
          },
          "execution_count": 18
        }
      ]
    },
    {
      "cell_type": "code",
      "metadata": {
        "id": "-tuOq_p_2mgo",
        "colab": {
          "base_uri": "https://localhost:8080/"
        },
        "outputId": "7e8fca8a-2316-4322-ecd8-edc98063c026"
      },
      "source": [
        "t2"
      ],
      "execution_count": null,
      "outputs": [
        {
          "output_type": "execute_result",
          "data": {
            "text/plain": [
              "[1, 2, 3]"
            ]
          },
          "metadata": {
            "tags": []
          },
          "execution_count": 55
        }
      ]
    },
    {
      "cell_type": "code",
      "metadata": {
        "id": "UJoNGwoQ3DMD",
        "colab": {
          "base_uri": "https://localhost:8080/"
        },
        "outputId": "6c1187d4-3df4-4d0a-82e6-3ba8e2a73f42"
      },
      "source": [
        "type(t2)"
      ],
      "execution_count": null,
      "outputs": [
        {
          "output_type": "execute_result",
          "data": {
            "text/plain": [
              "list"
            ]
          },
          "metadata": {
            "tags": []
          },
          "execution_count": 61
        }
      ]
    },
    {
      "cell_type": "code",
      "metadata": {
        "id": "_g3NtUtg2ndD",
        "colab": {
          "base_uri": "https://localhost:8080/"
        },
        "outputId": "aca78ede-4c7a-4f1f-a4ac-4bcf33a500a1"
      },
      "source": [
        "id(t1)"
      ],
      "execution_count": null,
      "outputs": [
        {
          "output_type": "execute_result",
          "data": {
            "text/plain": [
              "140574133894088"
            ]
          },
          "metadata": {
            "tags": []
          },
          "execution_count": 19
        }
      ]
    },
    {
      "cell_type": "code",
      "metadata": {
        "id": "-ieO-TKg2owQ",
        "colab": {
          "base_uri": "https://localhost:8080/"
        },
        "outputId": "4dca0806-2226-4ebb-8dad-5fac8966f618"
      },
      "source": [
        "id(t2)"
      ],
      "execution_count": null,
      "outputs": [
        {
          "output_type": "execute_result",
          "data": {
            "text/plain": [
              "140574133892104"
            ]
          },
          "metadata": {
            "tags": []
          },
          "execution_count": 20
        }
      ]
    },
    {
      "cell_type": "code",
      "metadata": {
        "id": "OQzIcBLM2psa",
        "colab": {
          "base_uri": "https://localhost:8080/"
        },
        "outputId": "9e5d07b5-1ef3-447d-8ce6-d7c1b8eec5c2"
      },
      "source": [
        "t1==t2"
      ],
      "execution_count": null,
      "outputs": [
        {
          "output_type": "execute_result",
          "data": {
            "text/plain": [
              "True"
            ]
          },
          "metadata": {
            "tags": []
          },
          "execution_count": 21
        }
      ]
    },
    {
      "cell_type": "code",
      "metadata": {
        "id": "lK9GbQcd2r_Q",
        "colab": {
          "base_uri": "https://localhost:8080/"
        },
        "outputId": "da486efa-dddd-4398-e87d-1ecfed8d3d0b"
      },
      "source": [
        "t1 is t2"
      ],
      "execution_count": null,
      "outputs": [
        {
          "output_type": "execute_result",
          "data": {
            "text/plain": [
              "False"
            ]
          },
          "metadata": {
            "tags": []
          },
          "execution_count": 22
        }
      ]
    },
    {
      "cell_type": "markdown",
      "metadata": {
        "id": "F4efuk9Q21oa"
      },
      "source": [
        "Pickling and then unpickling has the same effect as copying the object. You can use pickle to store non-strings in a database"
      ]
    },
    {
      "cell_type": "markdown",
      "metadata": {
        "id": "MtylJnrz_RcJ"
      },
      "source": [
        "#Exercise"
      ]
    },
    {
      "cell_type": "code",
      "metadata": {
        "id": "UIXSoIol2yUl",
        "colab": {
          "base_uri": "https://localhost:8080/"
        },
        "outputId": "991ec5f5-9ac7-4d63-fa82-c46311e01365"
      },
      "source": [
        "float= 12.3\n",
        "s=pickle.dumps(float)\n",
        "final=pickle.loads(s)\n",
        "print(final)"
      ],
      "execution_count": null,
      "outputs": [
        {
          "output_type": "stream",
          "text": [
            "12.3\n"
          ],
          "name": "stdout"
        }
      ]
    },
    {
      "cell_type": "code",
      "metadata": {
        "id": "Lc4Q_6vGADaM",
        "colab": {
          "base_uri": "https://localhost:8080/"
        },
        "outputId": "f75ee88b-a4eb-40fd-9cb3-e456a9248cf9"
      },
      "source": [
        "type(float)"
      ],
      "execution_count": null,
      "outputs": [
        {
          "output_type": "execute_result",
          "data": {
            "text/plain": [
              "float"
            ]
          },
          "metadata": {
            "tags": []
          },
          "execution_count": 29
        }
      ]
    },
    {
      "cell_type": "code",
      "metadata": {
        "id": "V6SxaGF5AMI_",
        "colab": {
          "base_uri": "https://localhost:8080/"
        },
        "outputId": "c695f449-18ce-4ac7-ba2e-8dd5d8d0f34c"
      },
      "source": [
        "type(final)"
      ],
      "execution_count": null,
      "outputs": [
        {
          "output_type": "execute_result",
          "data": {
            "text/plain": [
              "float"
            ]
          },
          "metadata": {
            "tags": []
          },
          "execution_count": 30
        }
      ]
    },
    {
      "cell_type": "code",
      "metadata": {
        "id": "HbMjg5s6AOuW"
      },
      "source": [
        "mydict = {'k1':1,'k2':'hello','k3':2.5}"
      ],
      "execution_count": null,
      "outputs": []
    },
    {
      "cell_type": "code",
      "metadata": {
        "id": "VyPwjyL8BHdq",
        "colab": {
          "base_uri": "https://localhost:8080/"
        },
        "outputId": "a8149483-5fbf-45d3-f288-093ee3c1a0dc"
      },
      "source": [
        "s = pickle.dumps(mydict)\n",
        "t2 = pickle.loads(s)\n",
        "print(t2)"
      ],
      "execution_count": null,
      "outputs": [
        {
          "output_type": "stream",
          "text": [
            "{'k1': 1, 'k2': 'hello', 'k3': 2.5}\n"
          ],
          "name": "stdout"
        }
      ]
    },
    {
      "cell_type": "code",
      "metadata": {
        "id": "PiWsoTtnBLk-",
        "colab": {
          "base_uri": "https://localhost:8080/"
        },
        "outputId": "e3e0e438-d279-41c7-adfc-2c27dcf7aeff"
      },
      "source": [
        "type(t2)"
      ],
      "execution_count": null,
      "outputs": [
        {
          "output_type": "execute_result",
          "data": {
            "text/plain": [
              "dict"
            ]
          },
          "metadata": {
            "tags": []
          },
          "execution_count": 38
        }
      ]
    },
    {
      "cell_type": "code",
      "metadata": {
        "id": "rKaFKg9xBbjm",
        "colab": {
          "base_uri": "https://localhost:8080/"
        },
        "outputId": "baf4fbb4-2191-4809-fa7d-93c7ee6cca5d"
      },
      "source": [
        "f = open(\"test.dat\", \"w\")\n",
        "my_dict ={'a':1,'b':2,'c':3,'d':4}\n",
        "s = pickle.dumps(my_dict)\n",
        "t2 = pickle.loads(s)\n",
        "print(t2)"
      ],
      "execution_count": null,
      "outputs": [
        {
          "output_type": "stream",
          "text": [
            "{'a': 1, 'b': 2, 'c': 3, 'd': 4}\n"
          ],
          "name": "stdout"
        }
      ]
    },
    {
      "cell_type": "code",
      "metadata": {
        "id": "vKDdqYAKCU9R",
        "colab": {
          "base_uri": "https://localhost:8080/"
        },
        "outputId": "36fbda12-b70f-4dc5-b297-828541a2463d"
      },
      "source": [
        "type(t2)"
      ],
      "execution_count": null,
      "outputs": [
        {
          "output_type": "execute_result",
          "data": {
            "text/plain": [
              "dict"
            ]
          },
          "metadata": {
            "tags": []
          },
          "execution_count": 40
        }
      ]
    },
    {
      "cell_type": "code",
      "metadata": {
        "id": "WIiqx2e0CXWa"
      },
      "source": [
        ""
      ],
      "execution_count": null,
      "outputs": []
    },
    {
      "cell_type": "markdown",
      "metadata": {
        "id": "jK3PYu2i3hJE"
      },
      "source": [
        "#try and except"
      ]
    },
    {
      "cell_type": "markdown",
      "metadata": {
        "id": "6mcrLoVi4OR-"
      },
      "source": [
        "Python starts by executing the try clause. If all goes well, it skips the except clause and proceeds. If an exception occurs, it jumps out of the try clause and executes the except clause."
      ]
    },
    {
      "cell_type": "markdown",
      "metadata": {
        "id": "-9bllUx34TUN"
      },
      "source": [
        "Handling an exception with a try statement is called catching an exception. In this example, the except clause prints an error message that is not very helpful. In general, catching an exception gives you a chance to fix the problem, or try again, or at least end the program gracefully."
      ]
    },
    {
      "cell_type": "code",
      "metadata": {
        "id": "7QNd9d3_4Ne0",
        "colab": {
          "base_uri": "https://localhost:8080/"
        },
        "outputId": "9d7b1133-898b-4a5c-9752-54e2abd10234"
      },
      "source": [
        "try:    \n",
        "    fin = open('bad_file')\n",
        "    for line in fin:\n",
        "        print (line)\n",
        "    fin.close()\n",
        "except:\n",
        "    print ('Something went wrong.')"
      ],
      "execution_count": null,
      "outputs": [
        {
          "output_type": "stream",
          "text": [
            "Something went wrong.\n"
          ],
          "name": "stdout"
        }
      ]
    },
    {
      "cell_type": "code",
      "metadata": {
        "id": "VZpGqqra4izh",
        "colab": {
          "base_uri": "https://localhost:8080/",
          "height": 164
        },
        "outputId": "3840f563-1df5-4199-dc03-ee4ef00031d7"
      },
      "source": [
        "print (55/0)"
      ],
      "execution_count": null,
      "outputs": [
        {
          "output_type": "error",
          "ename": "ZeroDivisionError",
          "evalue": "ignored",
          "traceback": [
            "\u001b[0;31m---------------------------------------------------------------------------\u001b[0m",
            "\u001b[0;31mZeroDivisionError\u001b[0m                         Traceback (most recent call last)",
            "\u001b[0;32m<ipython-input-57-03238d1c0823>\u001b[0m in \u001b[0;36m<module>\u001b[0;34m()\u001b[0m\n\u001b[0;32m----> 1\u001b[0;31m \u001b[0mprint\u001b[0m \u001b[0;34m(\u001b[0m\u001b[0;36m55\u001b[0m\u001b[0;34m/\u001b[0m\u001b[0;36m0\u001b[0m\u001b[0;34m)\u001b[0m\u001b[0;34m\u001b[0m\u001b[0;34m\u001b[0m\u001b[0m\n\u001b[0m",
            "\u001b[0;31mZeroDivisionError\u001b[0m: division by zero"
          ]
        }
      ]
    },
    {
      "cell_type": "code",
      "metadata": {
        "colab": {
          "base_uri": "https://localhost:8080/"
        },
        "id": "E0b_DRh_Pegb",
        "outputId": "c7b09d52-ab0d-4753-b343-9ebb227c3150"
      },
      "source": [
        "try:\n",
        " print(55/5)\n",
        " f = open(\"nofile\",\"r\") \n",
        " print(60*5) #Will not work\n",
        "except:\n",
        "  print(\"Something went wrong\")\n",
        "print(50*5)\n",
        "mylist =['10']\n",
        "print(mylist)"
      ],
      "execution_count": null,
      "outputs": [
        {
          "output_type": "stream",
          "text": [
            "11.0\n",
            "Something went wrong\n",
            "250\n",
            "['10']\n"
          ],
          "name": "stdout"
        }
      ]
    },
    {
      "cell_type": "code",
      "metadata": {
        "id": "gFIv00MNRywY"
      },
      "source": [
        "    f = open(\"myfile\",\"w\")\n",
        "    x=1\n",
        "    y=10\n",
        "    if x==0:\n",
        "      raise (ValueError('Zero Not Permitted'))\n",
        "    else:\n",
        "      result=str(y/x)\n",
        "      f.write(result)"
      ],
      "execution_count": null,
      "outputs": []
    },
    {
      "cell_type": "code",
      "metadata": {
        "colab": {
          "base_uri": "https://localhost:8080/",
          "height": 35
        },
        "id": "M2ImnXUYSSdb",
        "outputId": "bb9f6d33-8e9b-4f8f-8191-83564147de5b"
      },
      "source": [
        " f = open(\"myfile\",\"r\")\n",
        " f.read()"
      ],
      "execution_count": null,
      "outputs": [
        {
          "output_type": "execute_result",
          "data": {
            "application/vnd.google.colaboratory.intrinsic+json": {
              "type": "string"
            },
            "text/plain": [
              "'10.0'"
            ]
          },
          "metadata": {
            "tags": []
          },
          "execution_count": 73
        }
      ]
    },
    {
      "cell_type": "code",
      "metadata": {
        "id": "7Hx8Lox3RRbM"
      },
      "source": [
        "try:   \n",
        "    f = open(\"myfile\",\"w\")\n",
        "    x=1\n",
        "    y=10\n",
        "    if x==0:\n",
        "      raise (ValueError('Zero Not Permitted'))\n",
        "    else:\n",
        "      result=str(y/x)\n",
        "      f.write(result)\n",
        "except:\n",
        "    print(\"Something went wrong\")"
      ],
      "execution_count": null,
      "outputs": []
    },
    {
      "cell_type": "code",
      "metadata": {
        "id": "l5sLT9IUDLtn",
        "colab": {
          "base_uri": "https://localhost:8080/"
        },
        "outputId": "47bed000-ebe2-4b59-fe08-11f09bf39a30"
      },
      "source": [
        "try:   \n",
        "    f = open(\"myfile\",\"w\")\n",
        "    x=0\n",
        "    y=10\n",
        "    if x==0:\n",
        "      raise (ValueError('Zero Not Permitted'))\n",
        "    else:\n",
        "      f.write(x/y) \n",
        "    for line in f:\n",
        "        print (line)\n",
        "    fin.close()\n",
        "except ValueError:\n",
        "    print ('error')\n",
        "    "
      ],
      "execution_count": null,
      "outputs": [
        {
          "output_type": "stream",
          "text": [
            "error\n"
          ],
          "name": "stdout"
        }
      ]
    },
    {
      "cell_type": "code",
      "metadata": {
        "id": "422FwgwK4uVH",
        "colab": {
          "base_uri": "https://localhost:8080/",
          "height": 183
        },
        "outputId": "bafd07f7-c66b-43ac-d534-ab64c40ebe2b"
      },
      "source": [
        "a = []\n",
        "print(a[5])"
      ],
      "execution_count": null,
      "outputs": [
        {
          "output_type": "error",
          "ename": "IndexError",
          "evalue": "ignored",
          "traceback": [
            "\u001b[0;31m---------------------------------------------------------------------------\u001b[0m",
            "\u001b[0;31mIndexError\u001b[0m                                Traceback (most recent call last)",
            "\u001b[0;32m<ipython-input-20-87d6e3d5278c>\u001b[0m in \u001b[0;36m<module>\u001b[0;34m()\u001b[0m\n\u001b[1;32m      1\u001b[0m \u001b[0ma\u001b[0m \u001b[0;34m=\u001b[0m \u001b[0;34m[\u001b[0m\u001b[0;34m]\u001b[0m\u001b[0;34m\u001b[0m\u001b[0;34m\u001b[0m\u001b[0m\n\u001b[0;32m----> 2\u001b[0;31m \u001b[0mprint\u001b[0m\u001b[0;34m(\u001b[0m\u001b[0ma\u001b[0m\u001b[0;34m[\u001b[0m\u001b[0;36m5\u001b[0m\u001b[0;34m]\u001b[0m\u001b[0;34m)\u001b[0m\u001b[0;34m\u001b[0m\u001b[0;34m\u001b[0m\u001b[0m\n\u001b[0m",
            "\u001b[0;31mIndexError\u001b[0m: list index out of range"
          ]
        }
      ]
    },
    {
      "cell_type": "code",
      "metadata": {
        "id": "mJVzmIai40Ro",
        "colab": {
          "base_uri": "https://localhost:8080/",
          "height": 183
        },
        "outputId": "80722fe8-94ea-4e87-ffa4-d7be1b0a81f5"
      },
      "source": [
        "b = {}\n",
        "print (b['key'])"
      ],
      "execution_count": null,
      "outputs": [
        {
          "output_type": "error",
          "ename": "KeyError",
          "evalue": "ignored",
          "traceback": [
            "\u001b[0;31m---------------------------------------------------------------------------\u001b[0m",
            "\u001b[0;31mKeyError\u001b[0m                                  Traceback (most recent call last)",
            "\u001b[0;32m<ipython-input-21-55693a857a52>\u001b[0m in \u001b[0;36m<module>\u001b[0;34m()\u001b[0m\n\u001b[1;32m      1\u001b[0m \u001b[0mb\u001b[0m \u001b[0;34m=\u001b[0m \u001b[0;34m{\u001b[0m\u001b[0;34m}\u001b[0m\u001b[0;34m\u001b[0m\u001b[0;34m\u001b[0m\u001b[0m\n\u001b[0;32m----> 2\u001b[0;31m \u001b[0mprint\u001b[0m \u001b[0;34m(\u001b[0m\u001b[0mb\u001b[0m\u001b[0;34m[\u001b[0m\u001b[0;34m'key'\u001b[0m\u001b[0;34m]\u001b[0m\u001b[0;34m)\u001b[0m\u001b[0;34m\u001b[0m\u001b[0;34m\u001b[0m\u001b[0m\n\u001b[0m",
            "\u001b[0;31mKeyError\u001b[0m: 'key'"
          ]
        }
      ]
    },
    {
      "cell_type": "code",
      "metadata": {
        "id": "es5DKjzU44MY",
        "colab": {
          "base_uri": "https://localhost:8080/",
          "height": 166
        },
        "outputId": "aa0a6300-db3e-4225-af0a-44c79d54308d"
      },
      "source": [
        "f = open(\"Idontexist\", \"r\")"
      ],
      "execution_count": null,
      "outputs": [
        {
          "output_type": "error",
          "ename": "FileNotFoundError",
          "evalue": "ignored",
          "traceback": [
            "\u001b[0;31m---------------------------------------------------------------------------\u001b[0m",
            "\u001b[0;31mFileNotFoundError\u001b[0m                         Traceback (most recent call last)",
            "\u001b[0;32m<ipython-input-22-b18a61994ac4>\u001b[0m in \u001b[0;36m<module>\u001b[0;34m()\u001b[0m\n\u001b[0;32m----> 1\u001b[0;31m \u001b[0mf\u001b[0m \u001b[0;34m=\u001b[0m \u001b[0mopen\u001b[0m\u001b[0;34m(\u001b[0m\u001b[0;34m\"Idontexist\"\u001b[0m\u001b[0;34m,\u001b[0m \u001b[0;34m\"r\"\u001b[0m\u001b[0;34m)\u001b[0m\u001b[0;34m\u001b[0m\u001b[0;34m\u001b[0m\u001b[0m\n\u001b[0m",
            "\u001b[0;31mFileNotFoundError\u001b[0m: [Errno 2] No such file or directory: 'Idontexist'"
          ]
        }
      ]
    },
    {
      "cell_type": "markdown",
      "metadata": {
        "id": "103YKyzO5EbC"
      },
      "source": [
        "In each case, the error message has two parts: the type of error before the\n",
        "colon, and specifies about the error after the colon. "
      ]
    },
    {
      "cell_type": "code",
      "metadata": {
        "id": "SYly5-0P47Rh"
      },
      "source": [
        "try:    \n",
        "    fin = open('sample_data/README.md')\n",
        "except IOError:\n",
        "    print ('Something went wrong.')"
      ],
      "execution_count": null,
      "outputs": []
    },
    {
      "cell_type": "code",
      "metadata": {
        "colab": {
          "base_uri": "https://localhost:8080/"
        },
        "id": "b3lttV5zUOEs",
        "outputId": "789b8b8a-3c03-4bfb-9a9b-ada8616563c0"
      },
      "source": [
        "try:\n",
        " a=[]\n",
        " print(a[5])\n",
        "except IndexError:\n",
        "  print(\"Error\")"
      ],
      "execution_count": null,
      "outputs": [
        {
          "output_type": "stream",
          "text": [
            "Error\n"
          ],
          "name": "stdout"
        }
      ]
    },
    {
      "cell_type": "markdown",
      "metadata": {
        "id": "eVa4mh7I5no7"
      },
      "source": [
        "#Raise Exception"
      ]
    },
    {
      "cell_type": "code",
      "metadata": {
        "id": "2UNy-ixc5dRB",
        "colab": {
          "base_uri": "https://localhost:8080/",
          "height": 253
        },
        "outputId": "ad58dac6-50a1-43d9-92df-a240fc71c708"
      },
      "source": [
        "x=int(input(\"Enter input\"))\n",
        "if x<0:\n",
        "  raise (ValueError('Negative Value is not permitted'))\n",
        "else:\n",
        "  print(x)\n"
      ],
      "execution_count": null,
      "outputs": [
        {
          "output_type": "stream",
          "text": [
            "Enter input-4\n"
          ],
          "name": "stdout"
        },
        {
          "output_type": "error",
          "ename": "ValueError",
          "evalue": "ignored",
          "traceback": [
            "\u001b[0;31m---------------------------------------------------------------------------\u001b[0m",
            "\u001b[0;31mValueError\u001b[0m                                Traceback (most recent call last)",
            "\u001b[0;32m<ipython-input-34-c11a5ed9a29d>\u001b[0m in \u001b[0;36m<module>\u001b[0;34m()\u001b[0m\n\u001b[1;32m      1\u001b[0m \u001b[0mx\u001b[0m\u001b[0;34m=\u001b[0m\u001b[0mint\u001b[0m\u001b[0;34m(\u001b[0m\u001b[0minput\u001b[0m\u001b[0;34m(\u001b[0m\u001b[0;34m\"Enter input\"\u001b[0m\u001b[0;34m)\u001b[0m\u001b[0;34m)\u001b[0m\u001b[0;34m\u001b[0m\u001b[0;34m\u001b[0m\u001b[0m\n\u001b[1;32m      2\u001b[0m \u001b[0;32mif\u001b[0m \u001b[0mx\u001b[0m\u001b[0;34m<\u001b[0m\u001b[0;36m0\u001b[0m\u001b[0;34m:\u001b[0m\u001b[0;34m\u001b[0m\u001b[0;34m\u001b[0m\u001b[0m\n\u001b[0;32m----> 3\u001b[0;31m   \u001b[0;32mraise\u001b[0m \u001b[0;34m(\u001b[0m\u001b[0mValueError\u001b[0m\u001b[0;34m(\u001b[0m\u001b[0;34m'Negative Value is not permitted'\u001b[0m\u001b[0;34m)\u001b[0m\u001b[0;34m)\u001b[0m\u001b[0;34m\u001b[0m\u001b[0;34m\u001b[0m\u001b[0m\n\u001b[0m\u001b[1;32m      4\u001b[0m \u001b[0;32melse\u001b[0m\u001b[0;34m:\u001b[0m\u001b[0;34m\u001b[0m\u001b[0;34m\u001b[0m\u001b[0m\n\u001b[1;32m      5\u001b[0m   \u001b[0mprint\u001b[0m\u001b[0;34m(\u001b[0m\u001b[0mx\u001b[0m\u001b[0;34m)\u001b[0m\u001b[0;34m\u001b[0m\u001b[0;34m\u001b[0m\u001b[0m\n",
            "\u001b[0;31mValueError\u001b[0m: Negative Value is not permitted"
          ]
        }
      ]
    },
    {
      "cell_type": "code",
      "metadata": {
        "id": "D6riu_su531P",
        "colab": {
          "base_uri": "https://localhost:8080/"
        },
        "outputId": "de752bbe-77e5-4a0d-a755-b721f714ba7b"
      },
      "source": [
        "import os\n",
        "if os.path.exists('number_system.py'):\n",
        "            print(\"File Exists\")\n",
        "else:\n",
        "    print(\"File Doesn't Exist\")"
      ],
      "execution_count": null,
      "outputs": [
        {
          "output_type": "stream",
          "text": [
            "File Doesn't Exist\n"
          ],
          "name": "stdout"
        }
      ]
    },
    {
      "cell_type": "code",
      "metadata": {
        "id": "ZW6YAsKxsXBQ",
        "colab": {
          "base_uri": "https://localhost:8080/"
        },
        "outputId": "d621e5b0-ca25-40b7-b1ce-c177ad1d99ad"
      },
      "source": [
        "try:    \n",
        "    fin = open('myfile')\n",
        "    for line in fin:\n",
        "        print (line)\n",
        "    fin.close()\n",
        "except:\n",
        "    print ('Something went wrong.')\n",
        "\n"
      ],
      "execution_count": null,
      "outputs": [
        {
          "output_type": "stream",
          "text": [
            "Something went wrong.\n"
          ],
          "name": "stdout"
        }
      ]
    },
    {
      "cell_type": "code",
      "metadata": {
        "id": "a7dG9JPjskhF"
      },
      "source": [
        "\n",
        "!cd .config"
      ],
      "execution_count": null,
      "outputs": []
    },
    {
      "cell_type": "code",
      "metadata": {
        "id": "RnmgZcvgtJy9",
        "colab": {
          "base_uri": "https://localhost:8080/"
        },
        "outputId": "74046dbe-5877-4765-d9e3-f9b4552a0b36"
      },
      "source": [
        "!ls"
      ],
      "execution_count": null,
      "outputs": [
        {
          "output_type": "stream",
          "text": [
            "sample_data\n"
          ],
          "name": "stdout"
        }
      ]
    },
    {
      "cell_type": "code",
      "metadata": {
        "id": "Tu7e3VjrtSX9",
        "colab": {
          "base_uri": "https://localhost:8080/"
        },
        "outputId": "4a01a1a5-4451-4d32-8441-d875760d0f8f"
      },
      "source": [
        "!cd\n",
        "!ls"
      ],
      "execution_count": null,
      "outputs": [
        {
          "output_type": "stream",
          "text": [
            "sample_data\n"
          ],
          "name": "stdout"
        }
      ]
    },
    {
      "cell_type": "code",
      "metadata": {
        "id": "TjbQtWTHtXBi",
        "colab": {
          "base_uri": "https://localhost:8080/"
        },
        "outputId": "0de1acf4-388c-4f08-d269-880da40c8b63"
      },
      "source": [
        "!ls"
      ],
      "execution_count": null,
      "outputs": [
        {
          "output_type": "stream",
          "text": [
            "sample_data\n"
          ],
          "name": "stdout"
        }
      ]
    },
    {
      "cell_type": "code",
      "metadata": {
        "id": "UW3KGwD8tX3v",
        "colab": {
          "base_uri": "https://localhost:8080/",
          "height": 166
        },
        "outputId": "1b071750-3540-4705-a985-4e5804541c1a"
      },
      "source": [
        "f= open(\"/content/.config/logs/2020.11.06\", \"w\")"
      ],
      "execution_count": null,
      "outputs": [
        {
          "output_type": "error",
          "ename": "IsADirectoryError",
          "evalue": "ignored",
          "traceback": [
            "\u001b[0;31m---------------------------------------------------------------------------\u001b[0m",
            "\u001b[0;31mIsADirectoryError\u001b[0m                         Traceback (most recent call last)",
            "\u001b[0;32m<ipython-input-18-62d59a50b549>\u001b[0m in \u001b[0;36m<module>\u001b[0;34m()\u001b[0m\n\u001b[0;32m----> 1\u001b[0;31m \u001b[0mf\u001b[0m\u001b[0;34m=\u001b[0m \u001b[0mopen\u001b[0m\u001b[0;34m(\u001b[0m\u001b[0;34m\"/content/.config/logs/2020.11.06\"\u001b[0m\u001b[0;34m,\u001b[0m \u001b[0;34m\"w\"\u001b[0m\u001b[0;34m)\u001b[0m\u001b[0;34m\u001b[0m\u001b[0;34m\u001b[0m\u001b[0m\n\u001b[0m",
            "\u001b[0;31mIsADirectoryError\u001b[0m: [Errno 21] Is a directory: '/content/.config/logs/2020.11.06'"
          ]
        }
      ]
    },
    {
      "cell_type": "code",
      "metadata": {
        "id": "hNBVE0_PtrvH"
      },
      "source": [
        ""
      ],
      "execution_count": null,
      "outputs": []
    }
  ]
}