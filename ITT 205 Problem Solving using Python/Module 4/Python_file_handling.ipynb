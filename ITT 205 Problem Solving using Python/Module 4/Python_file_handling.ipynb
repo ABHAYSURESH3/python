{
  "nbformat": 4,
  "nbformat_minor": 0,
  "metadata": {
    "colab": {
      "name": "Python file handling",
      "provenance": []
    },
    "kernelspec": {
      "name": "python3",
      "display_name": "Python 3"
    }
  },
  "cells": [
    {
      "cell_type": "markdown",
      "metadata": {
        "id": "zbmUtM_p2jQQ"
      },
      "source": [
        "#Write"
      ]
    },
    {
      "cell_type": "markdown",
      "metadata": {
        "id": "nK3G-DlW1xKz"
      },
      "source": [
        "Opening a file creates a file object. In this example, the variable f refers to the\n",
        "new file object\n",
        "\n",
        "The open function takes two arguments. \n",
        "The first is the name of the file, and the second is the mode\n",
        "Mode \"w\" means that we are opening the file for writing.\n",
        "\n",
        "\n"
      ]
    },
    {
      "cell_type": "code",
      "metadata": {
        "id": "B72jCvOj1zWz"
      },
      "source": [
        "f = open(\"test.dat\",\"w\")"
      ],
      "execution_count": 1,
      "outputs": []
    },
    {
      "cell_type": "markdown",
      "metadata": {
        "id": "cPNyazQ715rT"
      },
      "source": [
        "To put data in the file we invoke the write method on the file object:"
      ]
    },
    {
      "cell_type": "code",
      "metadata": {
        "id": "Yp8Yi18F11fo",
        "outputId": "b7e34ae9-9d2c-47f3-e0e0-bcd4c3f2c3a6",
        "colab": {
          "base_uri": "https://localhost:8080/"
        }
      },
      "source": [
        " f.write(\"Now is the time\")"
      ],
      "execution_count": 2,
      "outputs": [
        {
          "output_type": "execute_result",
          "data": {
            "text/plain": [
              "15"
            ]
          },
          "metadata": {
            "tags": []
          },
          "execution_count": 2
        }
      ]
    },
    {
      "cell_type": "code",
      "metadata": {
        "id": "LS0Vi1fH175a",
        "outputId": "6ab527de-9388-4ad5-f7b7-5c2ae8450076",
        "colab": {
          "base_uri": "https://localhost:8080/"
        }
      },
      "source": [
        " f.write(\"to close the file\")"
      ],
      "execution_count": 3,
      "outputs": [
        {
          "output_type": "execute_result",
          "data": {
            "text/plain": [
              "17"
            ]
          },
          "metadata": {
            "tags": []
          },
          "execution_count": 3
        }
      ]
    },
    {
      "cell_type": "markdown",
      "metadata": {
        "id": "f9vguLRM2nUN"
      },
      "source": [
        "#Close"
      ]
    },
    {
      "cell_type": "markdown",
      "metadata": {
        "id": "qq9nC17Z2CYo"
      },
      "source": [
        "Closing the file tells the system that we are done writing and makes the file\n",
        "available for reading:\n"
      ]
    },
    {
      "cell_type": "code",
      "metadata": {
        "id": "D39KQNNs1_mH"
      },
      "source": [
        " f.close()"
      ],
      "execution_count": 4,
      "outputs": []
    },
    {
      "cell_type": "markdown",
      "metadata": {
        "id": "EgqlRMJP2H2h"
      },
      "source": [
        "Now we can open the file again, this time for reading, and read the contents\n",
        "into a string. This time, the mode argument is \"r\" for reading:\n"
      ]
    },
    {
      "cell_type": "markdown",
      "metadata": {
        "id": "WcrWTnuG2pJo"
      },
      "source": [
        "#Read"
      ]
    },
    {
      "cell_type": "code",
      "metadata": {
        "id": "iU83Y_sZ2EEY"
      },
      "source": [
        " f = open(\"test.dat\",\"r\")"
      ],
      "execution_count": 5,
      "outputs": []
    },
    {
      "cell_type": "markdown",
      "metadata": {
        "id": "g73czhn12Qv0"
      },
      "source": [
        "Read method reads data from the file. With no arguments,\n",
        "it reads the entire contents of the file"
      ]
    },
    {
      "cell_type": "code",
      "metadata": {
        "id": "QY4NfRRf2Jfg"
      },
      "source": [
        "text = f.read()"
      ],
      "execution_count": 6,
      "outputs": []
    },
    {
      "cell_type": "code",
      "metadata": {
        "id": "i6pMEKnD2Uwq",
        "outputId": "ca71ae41-28fd-4951-cf08-2dcb99397a02",
        "colab": {
          "base_uri": "https://localhost:8080/"
        }
      },
      "source": [
        "print(text)"
      ],
      "execution_count": 7,
      "outputs": [
        {
          "output_type": "stream",
          "text": [
            "Now is the timeto close the file\n"
          ],
          "name": "stdout"
        }
      ]
    },
    {
      "cell_type": "markdown",
      "metadata": {
        "id": "8to98Cw12cKB"
      },
      "source": [
        "There is no space between \"time\" and \"to\" because we did not write a space\n",
        "between the strings."
      ]
    },
    {
      "cell_type": "markdown",
      "metadata": {
        "id": "9UUlRHIg2skG"
      },
      "source": [
        "read can also take an argument that indicates how many characters to read:"
      ]
    },
    {
      "cell_type": "code",
      "metadata": {
        "id": "Qr6UCom92V-6",
        "outputId": "973be26e-e862-4aa8-e0fa-6df86269afb2",
        "colab": {
          "base_uri": "https://localhost:8080/"
        }
      },
      "source": [
        " f = open(\"test.dat\",\"r\")\n",
        "text = f.read(5)\n",
        "print(text)"
      ],
      "execution_count": 11,
      "outputs": [
        {
          "output_type": "stream",
          "text": [
            "Now i\n"
          ],
          "name": "stdout"
        }
      ]
    },
    {
      "cell_type": "code",
      "metadata": {
        "id": "z6N_8NHa2u0S",
        "outputId": "a020202f-dea2-43d7-f9ab-e76f89c2875a",
        "colab": {
          "base_uri": "https://localhost:8080/"
        }
      },
      "source": [
        " f = open(\"test.dat\",\"r\")\n",
        "text = f.read(500)\n",
        "print(text)"
      ],
      "execution_count": 12,
      "outputs": [
        {
          "output_type": "stream",
          "text": [
            "Now is the timeto close the file\n"
          ],
          "name": "stdout"
        }
      ]
    },
    {
      "cell_type": "code",
      "metadata": {
        "id": "WoiO9OBe3Ixn"
      },
      "source": [
        " f = open(\"test.dat\",\"r\")"
      ],
      "execution_count": 13,
      "outputs": []
    },
    {
      "cell_type": "code",
      "metadata": {
        "id": "dvWiUU8g3CNr",
        "outputId": "0d5dc367-0778-4e31-fce1-9a5629dd5258",
        "colab": {
          "base_uri": "https://localhost:8080/"
        }
      },
      "source": [
        "text = f.read(5)\n",
        "print(text)"
      ],
      "execution_count": 14,
      "outputs": [
        {
          "output_type": "stream",
          "text": [
            "Now i\n"
          ],
          "name": "stdout"
        }
      ]
    },
    {
      "cell_type": "code",
      "metadata": {
        "id": "w3HaY3Ix3MpM",
        "outputId": "8f09d4cb-e9f2-4dcb-ef37-85554f5e6352",
        "colab": {
          "base_uri": "https://localhost:8080/"
        }
      },
      "source": [
        "text = f.read(5)\n",
        "print(text)"
      ],
      "execution_count": 15,
      "outputs": [
        {
          "output_type": "stream",
          "text": [
            "s the\n"
          ],
          "name": "stdout"
        }
      ]
    },
    {
      "cell_type": "code",
      "metadata": {
        "id": "fM0FGmlW3NQ_",
        "outputId": "45017baa-9a17-493c-c1ad-2ed3349155b4",
        "colab": {
          "base_uri": "https://localhost:8080/"
        }
      },
      "source": [
        "text = f.read(5)\n",
        "print(text)"
      ],
      "execution_count": 16,
      "outputs": [
        {
          "output_type": "stream",
          "text": [
            " time\n"
          ],
          "name": "stdout"
        }
      ]
    },
    {
      "cell_type": "code",
      "metadata": {
        "id": "t2dmUcVR3N7n",
        "outputId": "ff59633b-3ad8-4d10-b409-60f29004a165",
        "colab": {
          "base_uri": "https://localhost:8080/"
        }
      },
      "source": [
        "text = f.read(5)\n",
        "print(text)"
      ],
      "execution_count": 17,
      "outputs": [
        {
          "output_type": "stream",
          "text": [
            "to cl\n"
          ],
          "name": "stdout"
        }
      ]
    },
    {
      "cell_type": "code",
      "metadata": {
        "id": "njDX1Guh3Oc3",
        "outputId": "895a2ac8-650d-42f7-af98-9877d3c91953",
        "colab": {
          "base_uri": "https://localhost:8080/"
        }
      },
      "source": [
        "text = f.read(5)\n",
        "print(text)"
      ],
      "execution_count": 18,
      "outputs": [
        {
          "output_type": "stream",
          "text": [
            "ose t\n"
          ],
          "name": "stdout"
        }
      ]
    },
    {
      "cell_type": "code",
      "metadata": {
        "id": "NXBZmykf3PBA",
        "outputId": "e2145a6b-5ed9-4291-cb7e-774801e1c96e",
        "colab": {
          "base_uri": "https://localhost:8080/"
        }
      },
      "source": [
        "text = f.read(5)\n",
        "print(text)"
      ],
      "execution_count": 19,
      "outputs": [
        {
          "output_type": "stream",
          "text": [
            "he fi\n"
          ],
          "name": "stdout"
        }
      ]
    },
    {
      "cell_type": "code",
      "metadata": {
        "id": "D2NscXh73Pl_",
        "outputId": "3283553b-04f4-40b1-a0fb-769a110b3586",
        "colab": {
          "base_uri": "https://localhost:8080/"
        }
      },
      "source": [
        "text = f.read(5)\n",
        "print(text)"
      ],
      "execution_count": 20,
      "outputs": [
        {
          "output_type": "stream",
          "text": [
            "le\n"
          ],
          "name": "stdout"
        }
      ]
    },
    {
      "cell_type": "code",
      "metadata": {
        "id": "Kcgg8mgk3QKf",
        "outputId": "c2e399e3-ac79-4c12-a8a4-66382d7150e2",
        "colab": {
          "base_uri": "https://localhost:8080/"
        }
      },
      "source": [
        "text = f.read(5)\n",
        "print(text)"
      ],
      "execution_count": 21,
      "outputs": [
        {
          "output_type": "stream",
          "text": [
            "\n"
          ],
          "name": "stdout"
        }
      ]
    },
    {
      "cell_type": "markdown",
      "metadata": {
        "id": "IrIywYYX3ayX"
      },
      "source": [
        "#File Copying"
      ]
    },
    {
      "cell_type": "code",
      "metadata": {
        "id": "VRQw9b0e3Qz3"
      },
      "source": [
        "def copyFile(oldFile, newFile):\n",
        "  f1 = open(oldFile, \"r\")\n",
        "  f2 = open(newFile, \"w\")\n",
        "  while True:\n",
        "    text = f1.read(50)\n",
        "    if text == \"\":\n",
        "      break\n",
        "    f2.write(text)\n",
        "  f1.close()\n",
        "  f2.close()\n",
        "  return  "
      ],
      "execution_count": 22,
      "outputs": []
    },
    {
      "cell_type": "code",
      "metadata": {
        "id": "sXnb8WKW3kBz"
      },
      "source": [
        "copyFile(\"test.dat\",\"new.dat\")"
      ],
      "execution_count": 24,
      "outputs": []
    },
    {
      "cell_type": "code",
      "metadata": {
        "id": "a0Uv5CTs3pgB",
        "outputId": "0aff9027-b680-4aa6-91bd-662caf0e60f2",
        "colab": {
          "base_uri": "https://localhost:8080/"
        }
      },
      "source": [
        " f = open(\"test.dat\",\"r\")\n",
        "text = f.read()\n",
        "print(text)"
      ],
      "execution_count": 26,
      "outputs": [
        {
          "output_type": "stream",
          "text": [
            "Now is the timeto close the file\n"
          ],
          "name": "stdout"
        }
      ]
    },
    {
      "cell_type": "code",
      "metadata": {
        "id": "fQpCKMyT35Yk",
        "outputId": "c3f41026-2d47-4586-ce86-909da38256b9",
        "colab": {
          "base_uri": "https://localhost:8080/"
        }
      },
      "source": [
        " f = open(\"new.dat\",\"r\")\n",
        "text = f.read()\n",
        "print(text)"
      ],
      "execution_count": 27,
      "outputs": [
        {
          "output_type": "stream",
          "text": [
            "Now is the timeto close the file\n"
          ],
          "name": "stdout"
        }
      ]
    },
    {
      "cell_type": "markdown",
      "metadata": {
        "id": "uSwp_VES4AMw"
      },
      "source": [
        "#Text files"
      ]
    },
    {
      "cell_type": "markdown",
      "metadata": {
        "id": "70NH2Qaa4tqU"
      },
      "source": [
        "A text file is a file that contains printable characters and whitespace, organized\n",
        "into lines separated by newline characters. Since Python is specifically designed\n",
        "to process text files, it provides methods that make the job easy."
      ]
    },
    {
      "cell_type": "code",
      "metadata": {
        "id": "NmD_4bYN38A0"
      },
      "source": [
        "f = open(\"test.dat\",\"w\")"
      ],
      "execution_count": 28,
      "outputs": []
    },
    {
      "cell_type": "code",
      "metadata": {
        "id": "4vovVhrQ4zRa",
        "outputId": "4e05a35a-7be0-4804-d0b8-e5f389b92dae",
        "colab": {
          "base_uri": "https://localhost:8080/"
        }
      },
      "source": [
        "f.write(\"line one\\nline two\\nline three\\n\")"
      ],
      "execution_count": 29,
      "outputs": [
        {
          "output_type": "execute_result",
          "data": {
            "text/plain": [
              "29"
            ]
          },
          "metadata": {
            "tags": []
          },
          "execution_count": 29
        }
      ]
    },
    {
      "cell_type": "code",
      "metadata": {
        "id": "wlwZq76740Vk"
      },
      "source": [
        "f.close()"
      ],
      "execution_count": 30,
      "outputs": []
    },
    {
      "cell_type": "code",
      "metadata": {
        "id": "ShlwYQQH42PN"
      },
      "source": [
        "f = open(\"test.dat\",\"r\")"
      ],
      "execution_count": 31,
      "outputs": []
    },
    {
      "cell_type": "code",
      "metadata": {
        "id": "MBt3mTvK43lV",
        "outputId": "44e9546e-137b-4f6d-a302-23ac1069b31d",
        "colab": {
          "base_uri": "https://localhost:8080/"
        }
      },
      "source": [
        "print (f.readline())"
      ],
      "execution_count": 33,
      "outputs": [
        {
          "output_type": "stream",
          "text": [
            "line one\n",
            "\n"
          ],
          "name": "stdout"
        }
      ]
    },
    {
      "cell_type": "code",
      "metadata": {
        "id": "_n-bX7KG44kx",
        "outputId": "53e8a3bd-0714-4a8d-e100-7acef7cd16ff",
        "colab": {
          "base_uri": "https://localhost:8080/"
        }
      },
      "source": [
        "print (f.readlines())"
      ],
      "execution_count": 34,
      "outputs": [
        {
          "output_type": "stream",
          "text": [
            "['line two\\n', 'line three\\n']\n"
          ],
          "name": "stdout"
        }
      ]
    },
    {
      "cell_type": "code",
      "metadata": {
        "id": "8RAaJv5H4-5p",
        "outputId": "7c2c90b7-09c0-4d50-840e-067b034fe096",
        "colab": {
          "base_uri": "https://localhost:8080/"
        }
      },
      "source": [
        "print (f.readline())"
      ],
      "execution_count": 35,
      "outputs": [
        {
          "output_type": "stream",
          "text": [
            "\n"
          ],
          "name": "stdout"
        }
      ]
    },
    {
      "cell_type": "code",
      "metadata": {
        "id": "oWNvYYmT5GEM",
        "outputId": "e19fd85c-6f02-4fa0-a989-a0ace8d1395f",
        "colab": {
          "base_uri": "https://localhost:8080/"
        }
      },
      "source": [
        "print (f.readlines())"
      ],
      "execution_count": 36,
      "outputs": [
        {
          "output_type": "stream",
          "text": [
            "[]\n"
          ],
          "name": "stdout"
        }
      ]
    },
    {
      "cell_type": "markdown",
      "metadata": {
        "id": "oSKeABCA5Ne9"
      },
      "source": [
        "#Line-processing program. filterFile makes a copy of oldFile, omitting any lines that begin with #"
      ]
    },
    {
      "cell_type": "code",
      "metadata": {
        "id": "eU8-aKSl5Go1"
      },
      "source": [
        "def filterFile(oldFile, newFile):\n",
        "  f1 = open(oldFile, \"r\")\n",
        "  f2 = open(newFile, \"w\")\n",
        "  while True:\n",
        "    text = f1.readline()\n",
        "    if text == \"\":\n",
        "      break\n",
        "    if text[0] == '#':\n",
        "      continue\n",
        "    f2.write(text)\n",
        "  f1.close()\n",
        "  f2.close()\n",
        "  return"
      ],
      "execution_count": 37,
      "outputs": []
    },
    {
      "cell_type": "code",
      "metadata": {
        "id": "zU2dbYC_5W_S"
      },
      "source": [
        "f = open(\"mydata.dat\",\"w\")\n",
        "f.write(\"First Line\\n\")\n",
        "f.write(\"#Second Line\\n\")\n",
        "f.write(\"Third Line\\n\")\n",
        "f.write(\"Fourth Line\\n\")\n",
        "f.close()"
      ],
      "execution_count": 40,
      "outputs": []
    },
    {
      "cell_type": "code",
      "metadata": {
        "id": "3TEqbuF65xzE"
      },
      "source": [
        "filterFile(\"mydata.dat\",\"filterdata.dat\")"
      ],
      "execution_count": 41,
      "outputs": []
    },
    {
      "cell_type": "code",
      "metadata": {
        "id": "qizRu2ZG6CkQ",
        "outputId": "f54fb6dd-cbb2-4d3d-f0de-2510070fcc3b",
        "colab": {
          "base_uri": "https://localhost:8080/"
        }
      },
      "source": [
        " f = open(\"mydata.dat\",\"r\")\n",
        "text = f.read()\n",
        "print(text)"
      ],
      "execution_count": 42,
      "outputs": [
        {
          "output_type": "stream",
          "text": [
            "First Line\n",
            "#Second Line\n",
            "Third Line\n",
            "Fourth Line\n",
            "\n"
          ],
          "name": "stdout"
        }
      ]
    },
    {
      "cell_type": "code",
      "metadata": {
        "id": "xHwnA83f6IWc",
        "outputId": "9d10c258-ac0a-4928-b6ac-e51a5b4f6405",
        "colab": {
          "base_uri": "https://localhost:8080/"
        }
      },
      "source": [
        " f = open(\"filterdata.dat\",\"r\")\n",
        "text = f.read()\n",
        "print(text)"
      ],
      "execution_count": 43,
      "outputs": [
        {
          "output_type": "stream",
          "text": [
            "First Line\n",
            "Third Line\n",
            "Fourth Line\n",
            "\n"
          ],
          "name": "stdout"
        }
      ]
    },
    {
      "cell_type": "code",
      "metadata": {
        "id": "Jjuowvej6MPm"
      },
      "source": [
        ""
      ],
      "execution_count": null,
      "outputs": []
    }
  ]
}