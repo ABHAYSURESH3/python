{
  "nbformat": 4,
  "nbformat_minor": 0,
  "metadata": {
    "colab": {
      "name": "Python_file_handling.ipynb",
      "provenance": [],
      "collapsed_sections": [
        "IrIywYYX3ayX",
        "uSwp_VES4AMw"
      ]
    },
    "kernelspec": {
      "name": "python3",
      "display_name": "Python 3"
    }
  },
  "cells": [
    {
      "cell_type": "markdown",
      "metadata": {
        "id": "zbmUtM_p2jQQ"
      },
      "source": [
        "#Write"
      ]
    },
    {
      "cell_type": "markdown",
      "metadata": {
        "id": "nK3G-DlW1xKz"
      },
      "source": [
        "Opening a file creates a file object. In this example, the variable f refers to the\n",
        "new file object\n",
        "\n",
        "The open function takes two arguments. \n",
        "The first is the name of the file, and the second is the mode\n",
        "Mode \"w\" means that we are opening the file for writing.\n",
        "\n",
        "\n"
      ]
    },
    {
      "cell_type": "code",
      "metadata": {
        "id": "B72jCvOj1zWz"
      },
      "source": [
        "f = open(\"test.dat\",\"w\")"
      ],
      "execution_count": null,
      "outputs": []
    },
    {
      "cell_type": "code",
      "metadata": {
        "id": "JSPjpwM8pZju",
        "outputId": "f759681c-6a54-4116-ea28-d7bc65164bbd",
        "colab": {
          "base_uri": "https://localhost:8080/"
        }
      },
      "source": [
        "len(\"Now is the time\")"
      ],
      "execution_count": null,
      "outputs": [
        {
          "output_type": "execute_result",
          "data": {
            "text/plain": [
              "15"
            ]
          },
          "metadata": {
            "tags": []
          },
          "execution_count": 2
        }
      ]
    },
    {
      "cell_type": "markdown",
      "metadata": {
        "id": "cPNyazQ715rT"
      },
      "source": [
        "To put data in the file we invoke the write method on the file object:"
      ]
    },
    {
      "cell_type": "code",
      "metadata": {
        "id": "Yp8Yi18F11fo",
        "outputId": "8a9156a2-65b0-4b04-99c0-4aa73b505199",
        "colab": {
          "base_uri": "https://localhost:8080/"
        }
      },
      "source": [
        " f.write(\"Now is the time\")"
      ],
      "execution_count": null,
      "outputs": [
        {
          "output_type": "execute_result",
          "data": {
            "text/plain": [
              "15"
            ]
          },
          "metadata": {
            "tags": []
          },
          "execution_count": 3
        }
      ]
    },
    {
      "cell_type": "code",
      "metadata": {
        "id": "LS0Vi1fH175a",
        "outputId": "e750211d-c9f6-4cfe-98a5-93998d9d67e0",
        "colab": {
          "base_uri": "https://localhost:8080/"
        }
      },
      "source": [
        " f.write(\"to close the file\")"
      ],
      "execution_count": null,
      "outputs": [
        {
          "output_type": "execute_result",
          "data": {
            "text/plain": [
              "17"
            ]
          },
          "metadata": {
            "tags": []
          },
          "execution_count": 4
        }
      ]
    },
    {
      "cell_type": "markdown",
      "metadata": {
        "id": "f9vguLRM2nUN"
      },
      "source": [
        "#Close"
      ]
    },
    {
      "cell_type": "markdown",
      "metadata": {
        "id": "qq9nC17Z2CYo"
      },
      "source": [
        "Closing the file tells the system that we are done writing and makes the file\n",
        "available for reading:\n"
      ]
    },
    {
      "cell_type": "code",
      "metadata": {
        "id": "D39KQNNs1_mH"
      },
      "source": [
        " f.close()"
      ],
      "execution_count": null,
      "outputs": []
    },
    {
      "cell_type": "markdown",
      "metadata": {
        "id": "EgqlRMJP2H2h"
      },
      "source": [
        "Now we can open the file again, this time for reading, and read the contents\n",
        "into a string. This time, the mode argument is \"r\" for reading:\n"
      ]
    },
    {
      "cell_type": "markdown",
      "metadata": {
        "id": "WcrWTnuG2pJo"
      },
      "source": [
        "#Read"
      ]
    },
    {
      "cell_type": "code",
      "metadata": {
        "id": "iU83Y_sZ2EEY"
      },
      "source": [
        " f = open(\"test.dat\",\"r\")"
      ],
      "execution_count": null,
      "outputs": []
    },
    {
      "cell_type": "markdown",
      "metadata": {
        "id": "g73czhn12Qv0"
      },
      "source": [
        "Read method reads data from the file. With no arguments,\n",
        "it reads the entire contents of the file"
      ]
    },
    {
      "cell_type": "code",
      "metadata": {
        "id": "QY4NfRRf2Jfg"
      },
      "source": [
        "text = f.read()"
      ],
      "execution_count": null,
      "outputs": []
    },
    {
      "cell_type": "code",
      "metadata": {
        "id": "i6pMEKnD2Uwq",
        "outputId": "dafa9807-b155-450c-e240-8bade1bbebe1",
        "colab": {
          "base_uri": "https://localhost:8080/"
        }
      },
      "source": [
        "print(text)"
      ],
      "execution_count": null,
      "outputs": [
        {
          "output_type": "stream",
          "text": [
            "Now is the timeto close the file\n"
          ],
          "name": "stdout"
        }
      ]
    },
    {
      "cell_type": "code",
      "metadata": {
        "id": "7YBa90Wtqbxi"
      },
      "source": [
        "text = f.read()"
      ],
      "execution_count": null,
      "outputs": []
    },
    {
      "cell_type": "code",
      "metadata": {
        "id": "8rcey2QpqdZy",
        "outputId": "89f1ae85-1e6c-46a5-f5e1-5b2066d75ba2",
        "colab": {
          "base_uri": "https://localhost:8080/"
        }
      },
      "source": [
        "print(text)"
      ],
      "execution_count": null,
      "outputs": [
        {
          "output_type": "stream",
          "text": [
            "\n"
          ],
          "name": "stdout"
        }
      ]
    },
    {
      "cell_type": "markdown",
      "metadata": {
        "id": "8to98Cw12cKB"
      },
      "source": [
        "There is no space between \"time\" and \"to\" because we did not write a space\n",
        "between the strings."
      ]
    },
    {
      "cell_type": "markdown",
      "metadata": {
        "id": "9UUlRHIg2skG"
      },
      "source": [
        "read can also take an argument that indicates how many characters to read:"
      ]
    },
    {
      "cell_type": "code",
      "metadata": {
        "id": "Qr6UCom92V-6",
        "outputId": "ad9e3aa2-3720-43a4-85f9-5e8036b300a9",
        "colab": {
          "base_uri": "https://localhost:8080/"
        }
      },
      "source": [
        " f = open(\"test.dat\",\"r\")\n",
        "text = f.read(5)\n",
        "print(text)"
      ],
      "execution_count": null,
      "outputs": [
        {
          "output_type": "stream",
          "text": [
            "Now i\n"
          ],
          "name": "stdout"
        }
      ]
    },
    {
      "cell_type": "code",
      "metadata": {
        "id": "HkRmpsEFqzvQ",
        "outputId": "884dde10-dade-4adb-a707-33208f46cc3b",
        "colab": {
          "base_uri": "https://localhost:8080/"
        }
      },
      "source": [
        "text = f.read(5)\n",
        "print(text)"
      ],
      "execution_count": null,
      "outputs": [
        {
          "output_type": "stream",
          "text": [
            "s the\n"
          ],
          "name": "stdout"
        }
      ]
    },
    {
      "cell_type": "code",
      "metadata": {
        "id": "8yaMvke2rPH7",
        "outputId": "cb8c535e-3158-4d71-bfab-eb1fd9fc4f10",
        "colab": {
          "base_uri": "https://localhost:8080/"
        }
      },
      "source": [
        "text = f.read(5)\n",
        "print(text)"
      ],
      "execution_count": null,
      "outputs": [
        {
          "output_type": "stream",
          "text": [
            " time\n"
          ],
          "name": "stdout"
        }
      ]
    },
    {
      "cell_type": "code",
      "metadata": {
        "id": "r1N_nw4OrUEd",
        "outputId": "c5a776c9-bfc5-4f89-d017-8eb1954961b1",
        "colab": {
          "base_uri": "https://localhost:8080/"
        }
      },
      "source": [
        "text = f.read(20)\n",
        "print(text)"
      ],
      "execution_count": null,
      "outputs": [
        {
          "output_type": "stream",
          "text": [
            "to close the file\n"
          ],
          "name": "stdout"
        }
      ]
    },
    {
      "cell_type": "code",
      "metadata": {
        "id": "qDO96UeLrkCH",
        "outputId": "aa5e4b38-976b-485d-8b65-418ce5c3c2ba",
        "colab": {
          "base_uri": "https://localhost:8080/"
        }
      },
      "source": [
        "len(\"to close the file\")"
      ],
      "execution_count": null,
      "outputs": [
        {
          "output_type": "execute_result",
          "data": {
            "text/plain": [
              "17"
            ]
          },
          "metadata": {
            "tags": []
          },
          "execution_count": 15
        }
      ]
    },
    {
      "cell_type": "code",
      "metadata": {
        "id": "xVKk4dnbrpHW",
        "outputId": "baeffbbf-85e1-4882-853b-6129467c2960",
        "colab": {
          "base_uri": "https://localhost:8080/"
        }
      },
      "source": [
        "text = f.read(5)\n",
        "print(text)"
      ],
      "execution_count": null,
      "outputs": [
        {
          "output_type": "stream",
          "text": [
            "\n"
          ],
          "name": "stdout"
        }
      ]
    },
    {
      "cell_type": "code",
      "metadata": {
        "id": "z6N_8NHa2u0S",
        "outputId": "7785cf63-709d-499f-9e0b-4e4512f17e65",
        "colab": {
          "base_uri": "https://localhost:8080/"
        }
      },
      "source": [
        "f = open(\"test.dat\",\"r\")\n",
        "text = f.read(500)\n",
        "print(text)"
      ],
      "execution_count": null,
      "outputs": [
        {
          "output_type": "stream",
          "text": [
            "Now is the timeto close the file\n"
          ],
          "name": "stdout"
        }
      ]
    },
    {
      "cell_type": "code",
      "metadata": {
        "id": "WoiO9OBe3Ixn"
      },
      "source": [
        " f = open(\"test.dat\",\"r\")"
      ],
      "execution_count": null,
      "outputs": []
    },
    {
      "cell_type": "code",
      "metadata": {
        "id": "dvWiUU8g3CNr",
        "outputId": "0d5dc367-0778-4e31-fce1-9a5629dd5258",
        "colab": {
          "base_uri": "https://localhost:8080/"
        }
      },
      "source": [
        "text = f.read(5)\n",
        "print(text)"
      ],
      "execution_count": null,
      "outputs": [
        {
          "output_type": "stream",
          "text": [
            "Now i\n"
          ],
          "name": "stdout"
        }
      ]
    },
    {
      "cell_type": "code",
      "metadata": {
        "id": "w3HaY3Ix3MpM",
        "outputId": "8f09d4cb-e9f2-4dcb-ef37-85554f5e6352",
        "colab": {
          "base_uri": "https://localhost:8080/"
        }
      },
      "source": [
        "text = f.read(5)\n",
        "print(text)"
      ],
      "execution_count": null,
      "outputs": [
        {
          "output_type": "stream",
          "text": [
            "s the\n"
          ],
          "name": "stdout"
        }
      ]
    },
    {
      "cell_type": "code",
      "metadata": {
        "id": "fM0FGmlW3NQ_",
        "outputId": "45017baa-9a17-493c-c1ad-2ed3349155b4",
        "colab": {
          "base_uri": "https://localhost:8080/"
        }
      },
      "source": [
        "text = f.read(5)\n",
        "print(text)"
      ],
      "execution_count": null,
      "outputs": [
        {
          "output_type": "stream",
          "text": [
            " time\n"
          ],
          "name": "stdout"
        }
      ]
    },
    {
      "cell_type": "code",
      "metadata": {
        "id": "t2dmUcVR3N7n",
        "outputId": "ff59633b-3ad8-4d10-b409-60f29004a165",
        "colab": {
          "base_uri": "https://localhost:8080/"
        }
      },
      "source": [
        "text = f.read(5)\n",
        "print(text)"
      ],
      "execution_count": null,
      "outputs": [
        {
          "output_type": "stream",
          "text": [
            "to cl\n"
          ],
          "name": "stdout"
        }
      ]
    },
    {
      "cell_type": "code",
      "metadata": {
        "id": "njDX1Guh3Oc3",
        "outputId": "895a2ac8-650d-42f7-af98-9877d3c91953",
        "colab": {
          "base_uri": "https://localhost:8080/"
        }
      },
      "source": [
        "text = f.read(5)\n",
        "print(text)"
      ],
      "execution_count": null,
      "outputs": [
        {
          "output_type": "stream",
          "text": [
            "ose t\n"
          ],
          "name": "stdout"
        }
      ]
    },
    {
      "cell_type": "code",
      "metadata": {
        "id": "NXBZmykf3PBA",
        "outputId": "e2145a6b-5ed9-4291-cb7e-774801e1c96e",
        "colab": {
          "base_uri": "https://localhost:8080/"
        }
      },
      "source": [
        "text = f.read(5)\n",
        "print(text)"
      ],
      "execution_count": null,
      "outputs": [
        {
          "output_type": "stream",
          "text": [
            "he fi\n"
          ],
          "name": "stdout"
        }
      ]
    },
    {
      "cell_type": "code",
      "metadata": {
        "id": "D2NscXh73Pl_",
        "outputId": "3283553b-04f4-40b1-a0fb-769a110b3586",
        "colab": {
          "base_uri": "https://localhost:8080/"
        }
      },
      "source": [
        "text = f.read(5)\n",
        "print(text)"
      ],
      "execution_count": null,
      "outputs": [
        {
          "output_type": "stream",
          "text": [
            "le\n"
          ],
          "name": "stdout"
        }
      ]
    },
    {
      "cell_type": "code",
      "metadata": {
        "id": "Kcgg8mgk3QKf",
        "outputId": "c2e399e3-ac79-4c12-a8a4-66382d7150e2",
        "colab": {
          "base_uri": "https://localhost:8080/"
        }
      },
      "source": [
        "text = f.read(5)\n",
        "print(text)"
      ],
      "execution_count": null,
      "outputs": [
        {
          "output_type": "stream",
          "text": [
            "\n"
          ],
          "name": "stdout"
        }
      ]
    },
    {
      "cell_type": "code",
      "metadata": {
        "id": "QRrjiBChsJtH"
      },
      "source": [
        "f = open(\"newtest.dat\",\"w\")"
      ],
      "execution_count": null,
      "outputs": []
    },
    {
      "cell_type": "code",
      "metadata": {
        "id": "FiYuNPYdsOJ6",
        "outputId": "a9c62282-5a7e-465d-b6f0-3045f5dce89d",
        "colab": {
          "base_uri": "https://localhost:8080/"
        }
      },
      "source": [
        "f.write(\"Hello I am there \\n\")"
      ],
      "execution_count": null,
      "outputs": [
        {
          "output_type": "execute_result",
          "data": {
            "text/plain": [
              "18"
            ]
          },
          "metadata": {
            "tags": []
          },
          "execution_count": 19
        }
      ]
    },
    {
      "cell_type": "code",
      "metadata": {
        "id": "e3n76j8ssSRT",
        "outputId": "c59371c4-ad7e-4149-974b-cacf3f66ffc7",
        "colab": {
          "base_uri": "https://localhost:8080/"
        }
      },
      "source": [
        "f.write(\"This is a new line \\n\")"
      ],
      "execution_count": null,
      "outputs": [
        {
          "output_type": "execute_result",
          "data": {
            "text/plain": [
              "20"
            ]
          },
          "metadata": {
            "tags": []
          },
          "execution_count": 20
        }
      ]
    },
    {
      "cell_type": "code",
      "metadata": {
        "id": "iRRBEmW3sXhd"
      },
      "source": [
        "f.close()"
      ],
      "execution_count": null,
      "outputs": []
    },
    {
      "cell_type": "code",
      "metadata": {
        "id": "285Rax2Asbjs",
        "outputId": "98f68bce-e9b7-4324-d1f2-3ce16d1dea8c",
        "colab": {
          "base_uri": "https://localhost:8080/"
        }
      },
      "source": [
        " f = open(\"newtest.dat\",\"r\")\n",
        "text = f.read()\n",
        "print(text)"
      ],
      "execution_count": null,
      "outputs": [
        {
          "output_type": "stream",
          "text": [
            "Hello I am there \n",
            "This is a new line \n",
            "\n"
          ],
          "name": "stdout"
        }
      ]
    },
    {
      "cell_type": "markdown",
      "metadata": {
        "id": "IrIywYYX3ayX"
      },
      "source": [
        "#File Copying"
      ]
    },
    {
      "cell_type": "code",
      "metadata": {
        "id": "VRQw9b0e3Qz3"
      },
      "source": [
        "def copyFile(oldFile, newFile):\n",
        "  f1 = open(oldFile, \"r\")\n",
        "  f2 = open(newFile, \"w\")\n",
        "  while True:\n",
        "    text = f1.read(50) #text = f1.readline()\n",
        "    if text == \"\":\n",
        "      break\n",
        "    f2.write(text)\n",
        "  f1.close()\n",
        "  f2.close()\n",
        "  return  "
      ],
      "execution_count": null,
      "outputs": []
    },
    {
      "cell_type": "code",
      "metadata": {
        "id": "sXnb8WKW3kBz"
      },
      "source": [
        "copyFile(\"test.dat\",\"new.dat\")"
      ],
      "execution_count": null,
      "outputs": []
    },
    {
      "cell_type": "code",
      "metadata": {
        "id": "a0Uv5CTs3pgB",
        "outputId": "19eb3f4c-81f7-485e-9e35-ecad3ce28dd7",
        "colab": {
          "base_uri": "https://localhost:8080/"
        }
      },
      "source": [
        "f = open(\"test.dat\",\"r\")\n",
        "text = f.read()\n",
        "print(text)"
      ],
      "execution_count": null,
      "outputs": [
        {
          "output_type": "stream",
          "text": [
            "Now is the timeto close the file\n"
          ],
          "name": "stdout"
        }
      ]
    },
    {
      "cell_type": "code",
      "metadata": {
        "id": "fQpCKMyT35Yk",
        "outputId": "6020bf4b-a843-4f6f-f2e8-19ebfa7350cf",
        "colab": {
          "base_uri": "https://localhost:8080/"
        }
      },
      "source": [
        " f = open(\"new.dat\",\"r\")\n",
        "text = f.read()\n",
        "print(text)"
      ],
      "execution_count": null,
      "outputs": [
        {
          "output_type": "stream",
          "text": [
            "Now is the timeto close the file\n"
          ],
          "name": "stdout"
        }
      ]
    },
    {
      "cell_type": "code",
      "metadata": {
        "id": "Kn45OjEktr5u"
      },
      "source": [
        "f = open(\"mydata.dat\",\"w\")\n",
        "f.write(\"First Line\\n\")\n",
        "f.write(\"#Second Line\\n\")\n",
        "f.write(\"Third Line\\n\")\n",
        "f.write(\"Fourth Line\\n\")\n",
        "f.close()"
      ],
      "execution_count": null,
      "outputs": []
    },
    {
      "cell_type": "code",
      "metadata": {
        "id": "X0rhrkyCt0eE"
      },
      "source": [
        "f = open(\"mydata.dat\",\"r\")"
      ],
      "execution_count": null,
      "outputs": []
    },
    {
      "cell_type": "code",
      "metadata": {
        "id": "RdDHQIXAt2MR",
        "outputId": "5331d9eb-5458-4afd-f689-526e103258aa",
        "colab": {
          "base_uri": "https://localhost:8080/"
        }
      },
      "source": [
        "text=f.read()\n",
        "print(text)"
      ],
      "execution_count": null,
      "outputs": [
        {
          "output_type": "stream",
          "text": [
            "First Line\n",
            "#Second Line\n",
            "Third Line\n",
            "Fourth Line\n",
            "\n"
          ],
          "name": "stdout"
        }
      ]
    },
    {
      "cell_type": "markdown",
      "metadata": {
        "id": "uSwp_VES4AMw"
      },
      "source": [
        "#Text files"
      ]
    },
    {
      "cell_type": "markdown",
      "metadata": {
        "id": "70NH2Qaa4tqU"
      },
      "source": [
        "A text file is a file that contains printable characters and whitespace, organized\n",
        "into lines separated by newline characters. Since Python is specifically designed\n",
        "to process text files, it provides methods that make the job easy."
      ]
    },
    {
      "cell_type": "code",
      "metadata": {
        "id": "NmD_4bYN38A0"
      },
      "source": [
        "f = open(\"test.dat\",\"w\")"
      ],
      "execution_count": null,
      "outputs": []
    },
    {
      "cell_type": "code",
      "metadata": {
        "id": "4vovVhrQ4zRa",
        "outputId": "4e05a35a-7be0-4804-d0b8-e5f389b92dae",
        "colab": {
          "base_uri": "https://localhost:8080/"
        }
      },
      "source": [
        "f.write(\"line one\\nline two\\nline three\\n\")"
      ],
      "execution_count": null,
      "outputs": [
        {
          "output_type": "execute_result",
          "data": {
            "text/plain": [
              "29"
            ]
          },
          "metadata": {
            "tags": []
          },
          "execution_count": 29
        }
      ]
    },
    {
      "cell_type": "code",
      "metadata": {
        "id": "wlwZq76740Vk"
      },
      "source": [
        "f.close()"
      ],
      "execution_count": null,
      "outputs": []
    },
    {
      "cell_type": "code",
      "metadata": {
        "id": "ShlwYQQH42PN"
      },
      "source": [
        "f = open(\"test.dat\",\"r\")"
      ],
      "execution_count": null,
      "outputs": []
    },
    {
      "cell_type": "code",
      "metadata": {
        "id": "MBt3mTvK43lV",
        "outputId": "44e9546e-137b-4f6d-a302-23ac1069b31d",
        "colab": {
          "base_uri": "https://localhost:8080/"
        }
      },
      "source": [
        "print (f.readline())"
      ],
      "execution_count": null,
      "outputs": [
        {
          "output_type": "stream",
          "text": [
            "line one\n",
            "\n"
          ],
          "name": "stdout"
        }
      ]
    },
    {
      "cell_type": "code",
      "metadata": {
        "id": "_n-bX7KG44kx",
        "outputId": "53e8a3bd-0714-4a8d-e100-7acef7cd16ff",
        "colab": {
          "base_uri": "https://localhost:8080/"
        }
      },
      "source": [
        "print (f.readlines())"
      ],
      "execution_count": null,
      "outputs": [
        {
          "output_type": "stream",
          "text": [
            "['line two\\n', 'line three\\n']\n"
          ],
          "name": "stdout"
        }
      ]
    },
    {
      "cell_type": "code",
      "metadata": {
        "id": "8RAaJv5H4-5p",
        "outputId": "7c2c90b7-09c0-4d50-840e-067b034fe096",
        "colab": {
          "base_uri": "https://localhost:8080/"
        }
      },
      "source": [
        "print (f.readline())"
      ],
      "execution_count": null,
      "outputs": [
        {
          "output_type": "stream",
          "text": [
            "\n"
          ],
          "name": "stdout"
        }
      ]
    },
    {
      "cell_type": "code",
      "metadata": {
        "id": "oWNvYYmT5GEM",
        "outputId": "e19fd85c-6f02-4fa0-a989-a0ace8d1395f",
        "colab": {
          "base_uri": "https://localhost:8080/"
        }
      },
      "source": [
        "print (f.readlines())"
      ],
      "execution_count": null,
      "outputs": [
        {
          "output_type": "stream",
          "text": [
            "[]\n"
          ],
          "name": "stdout"
        }
      ]
    },
    {
      "cell_type": "markdown",
      "metadata": {
        "id": "oSKeABCA5Ne9"
      },
      "source": [
        "#Line-processing program. filterFile makes a copy of oldFile, omitting any lines that begin with #"
      ]
    },
    {
      "cell_type": "code",
      "metadata": {
        "id": "eU8-aKSl5Go1"
      },
      "source": [
        "def filterFile(oldFile, newFile):\n",
        "  f1 = open(oldFile, \"r\")\n",
        "  f2 = open(newFile, \"w\")\n",
        "  while True:\n",
        "    text = f1.readline()\n",
        "    if text == \"\":\n",
        "      break\n",
        "    if text[0] == '#':\n",
        "      continue\n",
        "    f2.write(text)\n",
        "  f1.close()\n",
        "  f2.close()\n",
        "  return"
      ],
      "execution_count": null,
      "outputs": []
    },
    {
      "cell_type": "code",
      "metadata": {
        "id": "zU2dbYC_5W_S"
      },
      "source": [
        "f = open(\"mydata.dat\",\"w\")\n",
        "f.write(\"First Line\\n\")\n",
        "f.write(\"#Second Line\\n\")\n",
        "f.write(\"Third Line\\n\")\n",
        "f.write(\"Fourth Line\\n\")\n",
        "f.close()"
      ],
      "execution_count": null,
      "outputs": []
    },
    {
      "cell_type": "code",
      "metadata": {
        "id": "3TEqbuF65xzE"
      },
      "source": [
        "filterFile(\"mydata.dat\",\"filterdata.dat\")"
      ],
      "execution_count": null,
      "outputs": []
    },
    {
      "cell_type": "code",
      "metadata": {
        "id": "qizRu2ZG6CkQ",
        "outputId": "1221c3a6-f21c-4c8b-ab78-3ac6059dd1c6",
        "colab": {
          "base_uri": "https://localhost:8080/"
        }
      },
      "source": [
        " f = open(\"mydata.dat\",\"r\")\n",
        "text = f.read()\n",
        "print(text)"
      ],
      "execution_count": null,
      "outputs": [
        {
          "output_type": "stream",
          "text": [
            "First Line\n",
            "#Second Line\n",
            "Third Line\n",
            "Fourth Line\n",
            "\n"
          ],
          "name": "stdout"
        }
      ]
    },
    {
      "cell_type": "code",
      "metadata": {
        "id": "xHwnA83f6IWc",
        "outputId": "ca586cb3-9c21-4665-f14c-6fadc2e2115f",
        "colab": {
          "base_uri": "https://localhost:8080/"
        }
      },
      "source": [
        " f = open(\"filterdata.dat\",\"r\")\n",
        "text = f.read()\n",
        "print(text)"
      ],
      "execution_count": null,
      "outputs": [
        {
          "output_type": "stream",
          "text": [
            "First Line\n",
            "Third Line\n",
            "Fourth Line\n",
            "\n"
          ],
          "name": "stdout"
        }
      ]
    },
    {
      "cell_type": "markdown",
      "metadata": {
        "id": "ev0_u-Xbj0B3"
      },
      "source": [
        "#OS Module"
      ]
    },
    {
      "cell_type": "code",
      "metadata": {
        "id": "Jjuowvej6MPm"
      },
      "source": [
        "import os"
      ],
      "execution_count": null,
      "outputs": []
    },
    {
      "cell_type": "code",
      "metadata": {
        "id": "VfHoNHDLkEtA"
      },
      "source": [
        "cwd = os.getcwd()"
      ],
      "execution_count": null,
      "outputs": []
    },
    {
      "cell_type": "code",
      "metadata": {
        "id": "eSDnGoyrkGnZ",
        "outputId": "8dcf8f4e-18d3-481e-8caa-76035eba42c8",
        "colab": {
          "base_uri": "https://localhost:8080/"
        }
      },
      "source": [
        "print(cwd)"
      ],
      "execution_count": null,
      "outputs": [
        {
          "output_type": "stream",
          "text": [
            "/content\n"
          ],
          "name": "stdout"
        }
      ]
    },
    {
      "cell_type": "code",
      "metadata": {
        "id": "l8lVQI2R1uF6",
        "outputId": "d2e40659-3263-4fb1-86c5-553675cf8f97",
        "colab": {
          "base_uri": "https://localhost:8080/"
        }
      },
      "source": [
        "!ls -a"
      ],
      "execution_count": null,
      "outputs": [
        {
          "output_type": "stream",
          "text": [
            ".  ..  .config\tnumber_system.py  sample_data\n"
          ],
          "name": "stdout"
        }
      ]
    },
    {
      "cell_type": "code",
      "metadata": {
        "id": "XNfcyXY4kH0A",
        "outputId": "22e1b170-a4c9-42c9-da10-4807b8096974",
        "colab": {
          "base_uri": "https://localhost:8080/",
          "height": 35
        }
      },
      "source": [
        "os.path.abspath('number_system.py')"
      ],
      "execution_count": null,
      "outputs": [
        {
          "output_type": "execute_result",
          "data": {
            "application/vnd.google.colaboratory.intrinsic+json": {
              "type": "string"
            },
            "text/plain": [
              "'/content/number_system.py'"
            ]
          },
          "metadata": {
            "tags": []
          },
          "execution_count": 22
        }
      ]
    },
    {
      "cell_type": "markdown",
      "metadata": {
        "id": "0xzuF6GikuL5"
      },
      "source": [
        "os.path.exists checks whether a file or directory exists:"
      ]
    },
    {
      "cell_type": "code",
      "metadata": {
        "id": "SJYMW_k3krZz",
        "outputId": "221a4114-cc9a-42e7-d956-8f6910054938",
        "colab": {
          "base_uri": "https://localhost:8080/"
        }
      },
      "source": [
        "os.path.exists('number_system.py')"
      ],
      "execution_count": null,
      "outputs": [
        {
          "output_type": "execute_result",
          "data": {
            "text/plain": [
              "False"
            ]
          },
          "metadata": {
            "tags": []
          },
          "execution_count": 24
        }
      ]
    },
    {
      "cell_type": "code",
      "metadata": {
        "id": "Lg5hA6TT6nN6",
        "outputId": "0566b654-1818-45e5-cc70-3900c233437a",
        "colab": {
          "base_uri": "https://localhost:8080/",
          "height": 35
        }
      },
      "source": [
        "cwd"
      ],
      "execution_count": null,
      "outputs": [
        {
          "output_type": "execute_result",
          "data": {
            "application/vnd.google.colaboratory.intrinsic+json": {
              "type": "string"
            },
            "text/plain": [
              "'/content'"
            ]
          },
          "metadata": {
            "tags": []
          },
          "execution_count": 25
        }
      ]
    },
    {
      "cell_type": "markdown",
      "metadata": {
        "id": "ZdbshyTbk2BN"
      },
      "source": [
        "os.listdir returns a list of the files (and other directories) in the given directory:"
      ]
    },
    {
      "cell_type": "code",
      "metadata": {
        "id": "_5QF9fifkyDr",
        "outputId": "4a4c98ae-a8b0-499b-a813-bacf0a4e3465",
        "colab": {
          "base_uri": "https://localhost:8080/"
        }
      },
      "source": [
        "os.listdir(cwd)"
      ],
      "execution_count": null,
      "outputs": [
        {
          "output_type": "execute_result",
          "data": {
            "text/plain": [
              "['.config', 'number_system.py', 'sample_data']"
            ]
          },
          "metadata": {
            "tags": []
          },
          "execution_count": 7
        }
      ]
    },
    {
      "cell_type": "markdown",
      "metadata": {
        "id": "flqCmB-3lMEm"
      },
      "source": [
        "os.path.join takes a directory and a file name and joins them into a complete path."
      ]
    },
    {
      "cell_type": "markdown",
      "metadata": {
        "id": "7_M6Nka1k9LF"
      },
      "source": [
        "#Walk"
      ]
    },
    {
      "cell_type": "code",
      "metadata": {
        "id": "xF80iXOL8Kkj"
      },
      "source": [
        "os.walk()"
      ],
      "execution_count": null,
      "outputs": []
    },
    {
      "cell_type": "code",
      "metadata": {
        "id": "LgozU_2mk4Bg"
      },
      "source": [
        "def walk(dirname):\n",
        "    for name in os.listdir(dirname):\n",
        "        path = os.path.join(dirname, name)\n",
        "\n",
        "        if os.path.isfile(path):\n",
        "            print(path)\n",
        "        else:\n",
        "            walk(path)"
      ],
      "execution_count": null,
      "outputs": []
    },
    {
      "cell_type": "code",
      "metadata": {
        "id": "FZFGB6tJk9_p",
        "outputId": "8322ab94-8255-4a5c-cdd6-d791c195f836",
        "colab": {
          "base_uri": "https://localhost:8080/"
        }
      },
      "source": [
        "walk(cwd)"
      ],
      "execution_count": null,
      "outputs": [
        {
          "output_type": "stream",
          "text": [
            "/content/.config/active_config\n",
            "/content/.config/gce\n",
            "/content/.config/logs/2020.10.28/16.29.12.726433.log\n",
            "/content/.config/logs/2020.10.28/16.29.47.988493.log\n",
            "/content/.config/logs/2020.10.28/16.29.53.609256.log\n",
            "/content/.config/logs/2020.10.28/16.30.09.899674.log\n",
            "/content/.config/logs/2020.10.28/16.29.33.370106.log\n",
            "/content/.config/logs/2020.10.28/16.30.09.212553.log\n",
            "/content/.config/.last_opt_in_prompt.yaml\n",
            "/content/.config/.last_survey_prompt.yaml\n",
            "/content/.config/.last_update_check.json\n",
            "/content/.config/configurations/config_default\n",
            "/content/.config/config_sentinel\n",
            "/content/.config/.metricsUUID\n",
            "/content/number_system.py\n",
            "/content/sample_data/anscombe.json\n",
            "/content/sample_data/README.md\n",
            "/content/sample_data/mnist_test.csv\n",
            "/content/sample_data/california_housing_test.csv\n",
            "/content/sample_data/california_housing_train.csv\n",
            "/content/sample_data/mnist_train_small.csv\n"
          ],
          "name": "stdout"
        }
      ]
    },
    {
      "cell_type": "markdown",
      "metadata": {
        "id": "aISujbcMmNMA"
      },
      "source": [
        "#OS Module Walk"
      ]
    },
    {
      "cell_type": "code",
      "metadata": {
        "id": "jv91Mh-vlB6l"
      },
      "source": [
        "def walk2(dirname):\n",
        "    for root, dirs, files in os.walk(dirname):\n",
        "        for filename in files:\n",
        "            print (os.path.join(root, filename))\n"
      ],
      "execution_count": null,
      "outputs": []
    },
    {
      "cell_type": "code",
      "metadata": {
        "id": "JYFNXgy5mOrn",
        "outputId": "6def878e-0962-4ca0-f00b-9edcef9e580c",
        "colab": {
          "base_uri": "https://localhost:8080/"
        }
      },
      "source": [
        "walk2(cwd)"
      ],
      "execution_count": null,
      "outputs": [
        {
          "output_type": "stream",
          "text": [
            "/content/number_system.py\n",
            "/content/.config/active_config\n",
            "/content/.config/gce\n",
            "/content/.config/.last_opt_in_prompt.yaml\n",
            "/content/.config/.last_survey_prompt.yaml\n",
            "/content/.config/.last_update_check.json\n",
            "/content/.config/config_sentinel\n",
            "/content/.config/.metricsUUID\n",
            "/content/.config/logs/2020.10.28/16.29.12.726433.log\n",
            "/content/.config/logs/2020.10.28/16.29.47.988493.log\n",
            "/content/.config/logs/2020.10.28/16.29.53.609256.log\n",
            "/content/.config/logs/2020.10.28/16.30.09.899674.log\n",
            "/content/.config/logs/2020.10.28/16.29.33.370106.log\n",
            "/content/.config/logs/2020.10.28/16.30.09.212553.log\n",
            "/content/.config/configurations/config_default\n",
            "/content/sample_data/anscombe.json\n",
            "/content/sample_data/README.md\n",
            "/content/sample_data/mnist_test.csv\n",
            "/content/sample_data/california_housing_test.csv\n",
            "/content/sample_data/california_housing_train.csv\n",
            "/content/sample_data/mnist_train_small.csv\n"
          ],
          "name": "stdout"
        }
      ]
    },
    {
      "cell_type": "markdown",
      "metadata": {
        "id": "UT6LdHJEwVwM"
      },
      "source": [
        "#Writing variables"
      ]
    },
    {
      "cell_type": "markdown",
      "metadata": {
        "id": "L-Wt6-Lzwc-p"
      },
      "source": [
        "The argument of write has to be a string, so if we want to put other values in\n",
        "a file, we have to convert them to strings first."
      ]
    },
    {
      "cell_type": "code",
      "metadata": {
        "id": "_KQkThQPmTVz"
      },
      "source": [
        "f = open(\"test.dat\",\"w\")"
      ],
      "execution_count": 1,
      "outputs": []
    },
    {
      "cell_type": "code",
      "metadata": {
        "id": "M6W53qonwq_S"
      },
      "source": [
        "x=52"
      ],
      "execution_count": 2,
      "outputs": []
    },
    {
      "cell_type": "code",
      "metadata": {
        "id": "aJgo2JStws8m",
        "outputId": "6d851e15-2e25-4c75-ec7d-863948169253",
        "colab": {
          "base_uri": "https://localhost:8080/"
        }
      },
      "source": [
        "f.write(str(x))"
      ],
      "execution_count": 3,
      "outputs": [
        {
          "output_type": "execute_result",
          "data": {
            "text/plain": [
              "2"
            ]
          },
          "metadata": {
            "tags": []
          },
          "execution_count": 3
        }
      ]
    },
    {
      "cell_type": "markdown",
      "metadata": {
        "id": "9TV5r55lwx0Y"
      },
      "source": [
        "#Format operator"
      ]
    },
    {
      "cell_type": "markdown",
      "metadata": {
        "id": "UTMb2TOdw9wo"
      },
      "source": [
        "When applied to integers, % is the modulus operator. But when the first operand is a string, % is the format operator."
      ]
    },
    {
      "cell_type": "markdown",
      "metadata": {
        "id": "uV3gxswXxNwj"
      },
      "source": [
        "The first operand is the format string, which contains one or more format sequences, which specify how the second operand is formatted. The result is a string"
      ]
    },
    {
      "cell_type": "markdown",
      "metadata": {
        "id": "6kznw1uxxRJ1"
      },
      "source": [
        "the format sequence '%d' means that the second operand should be formatted as an integer (d stands for “decimal”):"
      ]
    },
    {
      "cell_type": "code",
      "metadata": {
        "id": "a_qHw8E1wuyJ"
      },
      "source": [
        "camels = 42"
      ],
      "execution_count": 4,
      "outputs": []
    },
    {
      "cell_type": "code",
      "metadata": {
        "id": "jXLIqlo9xTW_",
        "outputId": "02e82f38-1a08-4648-a05d-57a056331fd7",
        "colab": {
          "base_uri": "https://localhost:8080/",
          "height": 35
        }
      },
      "source": [
        "'%d' % camels"
      ],
      "execution_count": 5,
      "outputs": [
        {
          "output_type": "execute_result",
          "data": {
            "application/vnd.google.colaboratory.intrinsic+json": {
              "type": "string"
            },
            "text/plain": [
              "'42'"
            ]
          },
          "metadata": {
            "tags": []
          },
          "execution_count": 5
        }
      ]
    },
    {
      "cell_type": "markdown",
      "metadata": {
        "id": "Lu0gtdWCxhp3"
      },
      "source": [
        "A format sequence can appear anywhere in the string, so you can embed a value in a sentence:"
      ]
    },
    {
      "cell_type": "code",
      "metadata": {
        "id": "tU409-MnxU-m",
        "outputId": "4e23e949-f9ee-4f18-abc2-3bb93baaf36a",
        "colab": {
          "base_uri": "https://localhost:8080/",
          "height": 35
        }
      },
      "source": [
        "'I have spotted %d camels.' % camels"
      ],
      "execution_count": 6,
      "outputs": [
        {
          "output_type": "execute_result",
          "data": {
            "application/vnd.google.colaboratory.intrinsic+json": {
              "type": "string"
            },
            "text/plain": [
              "'I have spotted 42 camels.'"
            ]
          },
          "metadata": {
            "tags": []
          },
          "execution_count": 6
        }
      ]
    },
    {
      "cell_type": "markdown",
      "metadata": {
        "id": "Tx271rRBxorB"
      },
      "source": [
        "If there is more than one format sequence in the string, the second argument has to be a tuple. Each format sequence is matched with an element of the tuple, in order."
      ]
    },
    {
      "cell_type": "markdown",
      "metadata": {
        "id": "zN8PuMZNxtOY"
      },
      "source": [
        "The following example uses '%d' to format an integer, '%g' to format a floating-point number (don’t ask why), and '%s' to format a string:"
      ]
    },
    {
      "cell_type": "code",
      "metadata": {
        "id": "v0vwqW2txkW0",
        "outputId": "1d48cadd-a266-4560-863b-cbf3b4f90e79",
        "colab": {
          "base_uri": "https://localhost:8080/",
          "height": 35
        }
      },
      "source": [
        "'In %g years I have spotted %d %s.' % (3.5, 100, 'camels')"
      ],
      "execution_count": 8,
      "outputs": [
        {
          "output_type": "execute_result",
          "data": {
            "application/vnd.google.colaboratory.intrinsic+json": {
              "type": "string"
            },
            "text/plain": [
              "'In 3.5 years I have spotted 100 camels.'"
            ]
          },
          "metadata": {
            "tags": []
          },
          "execution_count": 8
        }
      ]
    },
    {
      "cell_type": "markdown",
      "metadata": {
        "id": "Y02BDXR3x6NA"
      },
      "source": [
        "The number of elements in the tuple has to match the number of format sequences in the string. Also, the types of the elements have to match the format sequences:"
      ]
    },
    {
      "cell_type": "code",
      "metadata": {
        "id": "h8oqmR0Fxw3A",
        "outputId": "e0aebab2-8e6c-4a23-b185-4b2df9601bbb",
        "colab": {
          "base_uri": "https://localhost:8080/",
          "height": 163
        }
      },
      "source": [
        " '%d %d %d' % (1, 2)"
      ],
      "execution_count": 9,
      "outputs": [
        {
          "output_type": "error",
          "ename": "TypeError",
          "evalue": "ignored",
          "traceback": [
            "\u001b[0;31m---------------------------------------------------------------------------\u001b[0m",
            "\u001b[0;31mTypeError\u001b[0m                                 Traceback (most recent call last)",
            "\u001b[0;32m<ipython-input-9-4a97654d37a9>\u001b[0m in \u001b[0;36m<module>\u001b[0;34m()\u001b[0m\n\u001b[0;32m----> 1\u001b[0;31m \u001b[0;34m'%d %d %d'\u001b[0m \u001b[0;34m%\u001b[0m \u001b[0;34m(\u001b[0m\u001b[0;36m1\u001b[0m\u001b[0;34m,\u001b[0m \u001b[0;36m2\u001b[0m\u001b[0;34m)\u001b[0m\u001b[0;34m\u001b[0m\u001b[0;34m\u001b[0m\u001b[0m\n\u001b[0m",
            "\u001b[0;31mTypeError\u001b[0m: not enough arguments for format string"
          ]
        }
      ]
    },
    {
      "cell_type": "code",
      "metadata": {
        "id": "PmBY_PEGx86T",
        "outputId": "41355424-4d92-4948-b4f4-17e6ddf8c8c5",
        "colab": {
          "base_uri": "https://localhost:8080/",
          "height": 163
        }
      },
      "source": [
        "'%d' % 'dollars'"
      ],
      "execution_count": 10,
      "outputs": [
        {
          "output_type": "error",
          "ename": "TypeError",
          "evalue": "ignored",
          "traceback": [
            "\u001b[0;31m---------------------------------------------------------------------------\u001b[0m",
            "\u001b[0;31mTypeError\u001b[0m                                 Traceback (most recent call last)",
            "\u001b[0;32m<ipython-input-10-f60b471c8eff>\u001b[0m in \u001b[0;36m<module>\u001b[0;34m()\u001b[0m\n\u001b[0;32m----> 1\u001b[0;31m \u001b[0;34m'%d'\u001b[0m \u001b[0;34m%\u001b[0m \u001b[0;34m'dollars'\u001b[0m\u001b[0;34m\u001b[0m\u001b[0;34m\u001b[0m\u001b[0m\n\u001b[0m",
            "\u001b[0;31mTypeError\u001b[0m: %d format: a number is required, not str"
          ]
        }
      ]
    },
    {
      "cell_type": "markdown",
      "metadata": {
        "id": "CDkqaJf-yzpU"
      },
      "source": [
        "For more control over the format of numbers, we can specify the number of\n",
        "digits as part of the format sequence"
      ]
    },
    {
      "cell_type": "code",
      "metadata": {
        "id": "2If22BZJy1-L",
        "outputId": "4c028571-0926-4ec3-8de2-0bfc5c060a6b",
        "colab": {
          "base_uri": "https://localhost:8080/",
          "height": 35
        }
      },
      "source": [
        "\"%6d\" % 62"
      ],
      "execution_count": 17,
      "outputs": [
        {
          "output_type": "execute_result",
          "data": {
            "application/vnd.google.colaboratory.intrinsic+json": {
              "type": "string"
            },
            "text/plain": [
              "'    62'"
            ]
          },
          "metadata": {
            "tags": []
          },
          "execution_count": 17
        }
      ]
    },
    {
      "cell_type": "code",
      "metadata": {
        "id": "-IL73-KTy7A5",
        "outputId": "a8a9c3bf-0659-4d9a-f6b2-121eef935814",
        "colab": {
          "base_uri": "https://localhost:8080/",
          "height": 35
        }
      },
      "source": [
        "\"%12f\" % 6.1"
      ],
      "execution_count": 18,
      "outputs": [
        {
          "output_type": "execute_result",
          "data": {
            "application/vnd.google.colaboratory.intrinsic+json": {
              "type": "string"
            },
            "text/plain": [
              "'    6.100000'"
            ]
          },
          "metadata": {
            "tags": []
          },
          "execution_count": 18
        }
      ]
    },
    {
      "cell_type": "markdown",
      "metadata": {
        "id": "keXkBG7kzCf_"
      },
      "source": [
        "The number after the percent sign is the minimum number of spaces the number\n",
        "will take up. If the value provided takes fewer digits, leading spaces are added.\n",
        "If the number of spaces is negative, trailing spaces are added:"
      ]
    },
    {
      "cell_type": "code",
      "metadata": {
        "id": "LGOXwdrXy8Gi",
        "outputId": "288fa607-2351-481d-91ef-3de845701c4b",
        "colab": {
          "base_uri": "https://localhost:8080/",
          "height": 35
        }
      },
      "source": [
        "\"%-6d\" % 62"
      ],
      "execution_count": 19,
      "outputs": [
        {
          "output_type": "execute_result",
          "data": {
            "application/vnd.google.colaboratory.intrinsic+json": {
              "type": "string"
            },
            "text/plain": [
              "'62    '"
            ]
          },
          "metadata": {
            "tags": []
          },
          "execution_count": 19
        }
      ]
    },
    {
      "cell_type": "markdown",
      "metadata": {
        "id": "lL-ZCpJ3zI3r"
      },
      "source": [
        "For \n",
        "floating-point numbers, we can also specify the number of digits after the\n",
        "decimal point"
      ]
    },
    {
      "cell_type": "code",
      "metadata": {
        "id": "YQ5Sn1SGzG9x",
        "outputId": "8ec6366c-df3d-46e6-c032-85c5c5889492",
        "colab": {
          "base_uri": "https://localhost:8080/",
          "height": 35
        }
      },
      "source": [
        "\"%12.2f\" % 6.1"
      ],
      "execution_count": 20,
      "outputs": [
        {
          "output_type": "execute_result",
          "data": {
            "application/vnd.google.colaboratory.intrinsic+json": {
              "type": "string"
            },
            "text/plain": [
              "'        6.10'"
            ]
          },
          "metadata": {
            "tags": []
          },
          "execution_count": 20
        }
      ]
    },
    {
      "cell_type": "markdown",
      "metadata": {
        "id": "7dxjYVzeyOQP"
      },
      "source": [
        "# Consider a dictionary that contains student names as keys and hourly wages as values. Write is a function that prints the contents of the dictionary as a formatted report:"
      ]
    },
    {
      "cell_type": "markdown",
      "metadata": {
        "id": "p-6JLzGVyaaH"
      },
      "source": [
        "wages = {'mary': 6.23, 'joe': 5.45, 'joshua': 4.25}"
      ]
    },
    {
      "cell_type": "code",
      "metadata": {
        "id": "LLlqKYzMyAcl"
      },
      "source": [
        "wages = {'mary': 6.23, 'joe': 5.45, 'joshua': 4.25}\n",
        "def report (wages) :\n",
        "  students = wages.keys()\n",
        "  for student in students :\n",
        "    print (\"%-20s %12.2f\" % (student, wages[student]))"
      ],
      "execution_count": 15,
      "outputs": []
    },
    {
      "cell_type": "code",
      "metadata": {
        "id": "EYzXUAbIyWcq",
        "outputId": "1a571967-325d-4694-dcd5-3fcb44cc5f43",
        "colab": {
          "base_uri": "https://localhost:8080/"
        }
      },
      "source": [
        "report (wages)"
      ],
      "execution_count": 16,
      "outputs": [
        {
          "output_type": "stream",
          "text": [
            "mary                         6.23\n",
            "joe                          5.45\n",
            "joshua                       4.25\n"
          ],
          "name": "stdout"
        }
      ]
    },
    {
      "cell_type": "markdown",
      "metadata": {
        "id": "ORF5FrNUzQ4H"
      },
      "source": [
        "#Directories"
      ]
    },
    {
      "cell_type": "markdown",
      "metadata": {
        "id": "ixH3DX5KzZma"
      },
      "source": [
        "Files are organized into directories (also called “folders”)"
      ]
    },
    {
      "cell_type": "markdown",
      "metadata": {
        "id": "AaFg8cytzpF5"
      },
      "source": [
        "When you create a new file by opening it and writing, the new file goes in the\n",
        "current directory (wherever you were when you ran the program). Similarly,\n",
        "when you open a file for reading, Python looks for it in the current directory"
      ]
    },
    {
      "cell_type": "markdown",
      "metadata": {
        "id": "EGwbPIxvzvyh"
      },
      "source": [
        "If you want to open a file somewhere else, you have to specify the path to the\n",
        "file, which is the name of the directory (or folder) where the file is located:"
      ]
    },
    {
      "cell_type": "code",
      "metadata": {
        "id": "4-rTJORG0XVe",
        "outputId": "8c2b0b30-dec5-41dc-a776-bf7816c28776",
        "colab": {
          "base_uri": "https://localhost:8080/"
        }
      },
      "source": [
        "!ls -a /content/.config/logs/2020.11.06\n"
      ],
      "execution_count": 28,
      "outputs": [
        {
          "output_type": "stream",
          "text": [
            ".   17.29.30.377972.log  17.30.05.534498.log  17.30.26.350934.log\n",
            "..  17.29.50.665666.log  17.30.11.233615.log  17.30.27.059027.log\n"
          ],
          "name": "stdout"
        }
      ]
    },
    {
      "cell_type": "code",
      "metadata": {
        "id": "HSHUvH5JydtT"
      },
      "source": [
        "f= open(\"/content/.config/logs/2020.11.06/17.29.30.377972.log\", \"r\")"
      ],
      "execution_count": 29,
      "outputs": []
    },
    {
      "cell_type": "code",
      "metadata": {
        "id": "BoOXLbZS0DLJ",
        "outputId": "e7b666ef-7903-4cc2-e527-e600686b3108",
        "colab": {
          "base_uri": "https://localhost:8080/"
        }
      },
      "source": [
        "print(f.readline())"
      ],
      "execution_count": 30,
      "outputs": [
        {
          "output_type": "stream",
          "text": [
            "2020-11-06 17:29:30,389 DEBUG    root            Loaded Command Group: ['gcloud', 'components']\n",
            "\n"
          ],
          "name": "stdout"
        }
      ]
    },
    {
      "cell_type": "markdown",
      "metadata": {
        "id": "0LIn01fj0iDi"
      },
      "source": [
        "You cannot use / as part of a filename; it is reserved as a delimiter between\n",
        "directory and filenames."
      ]
    },
    {
      "cell_type": "markdown",
      "metadata": {
        "id": "9q9FyBpo0nim"
      },
      "source": [
        "#Pickling"
      ]
    },
    {
      "cell_type": "markdown",
      "metadata": {
        "id": "oSRd17WT0soa"
      },
      "source": [
        "In order to put values into a file, you have to convert them to strings."
      ]
    },
    {
      "cell_type": "markdown",
      "metadata": {
        "id": "3RyeDeHk0vSZ"
      },
      "source": [
        "The problem is that when you read the value back, you get a string. The original\n",
        "type information has been lost. In fact, you can't even tell where one value ends and the next begins"
      ]
    },
    {
      "cell_type": "code",
      "metadata": {
        "id": "dsvQrrkV0cwP",
        "outputId": "d63bce48-f6aa-4779-e757-047ab10a075a",
        "colab": {
          "base_uri": "https://localhost:8080/"
        }
      },
      "source": [
        "f = open(\"test.dat\",\"w\")\n",
        "f.write (str(12.3))"
      ],
      "execution_count": 32,
      "outputs": [
        {
          "output_type": "execute_result",
          "data": {
            "text/plain": [
              "4"
            ]
          },
          "metadata": {
            "tags": []
          },
          "execution_count": 32
        }
      ]
    },
    {
      "cell_type": "code",
      "metadata": {
        "id": "nLz5QPIH008i",
        "outputId": "e3990b0c-2b34-4127-cdd3-d85c46d89ed0",
        "colab": {
          "base_uri": "https://localhost:8080/"
        }
      },
      "source": [
        "f.write (str([1,2,3]))"
      ],
      "execution_count": 33,
      "outputs": [
        {
          "output_type": "execute_result",
          "data": {
            "text/plain": [
              "9"
            ]
          },
          "metadata": {
            "tags": []
          },
          "execution_count": 33
        }
      ]
    },
    {
      "cell_type": "code",
      "metadata": {
        "id": "8DT_kxEe1H2L"
      },
      "source": [
        "f.close()"
      ],
      "execution_count": 35,
      "outputs": []
    },
    {
      "cell_type": "markdown",
      "metadata": {
        "id": "wp6cq2gu1DRT"
      },
      "source": [
        "The problem is that when you read the value back, you get a string. The original\n",
        "type information has been lost. In fact, you can't even tell where one value ends\n",
        "and the next begins:"
      ]
    },
    {
      "cell_type": "code",
      "metadata": {
        "id": "ojtCkTW01NdD"
      },
      "source": [
        "f = open(\"test.dat\",\"r\")"
      ],
      "execution_count": 37,
      "outputs": []
    },
    {
      "cell_type": "code",
      "metadata": {
        "id": "UpyR7L2f09cR",
        "outputId": "37cb451d-7f57-410d-81a4-e59afe528a18",
        "colab": {
          "base_uri": "https://localhost:8080/",
          "height": 35
        }
      },
      "source": [
        "f.readline()"
      ],
      "execution_count": 38,
      "outputs": [
        {
          "output_type": "execute_result",
          "data": {
            "application/vnd.google.colaboratory.intrinsic+json": {
              "type": "string"
            },
            "text/plain": [
              "'12.3[1, 2, 3]'"
            ]
          },
          "metadata": {
            "tags": []
          },
          "execution_count": 38
        }
      ]
    },
    {
      "cell_type": "markdown",
      "metadata": {
        "id": "JHEoLbff1TYJ"
      },
      "source": [
        "The solution is pickling, so called because it \"preserves\" data structures. The\n",
        "pickle module contains the necessary commands"
      ]
    },
    {
      "cell_type": "code",
      "metadata": {
        "id": "MXb_ShEF1Ejr"
      },
      "source": [
        "import pickle\n",
        "f = open(\"test.pck\",\"w\")\n"
      ],
      "execution_count": 39,
      "outputs": []
    },
    {
      "cell_type": "markdown",
      "metadata": {
        "id": "KWN_-2v71bh0"
      },
      "source": [
        "To store a data structure, use the dump method and then close the file in the\n",
        "usual way:"
      ]
    },
    {
      "cell_type": "code",
      "metadata": {
        "id": "F61onBXs1aw4",
        "outputId": "62a1d9c4-1a5a-4b44-cac6-1a2b21f531b3",
        "colab": {
          "base_uri": "https://localhost:8080/"
        }
      },
      "source": [
        "t = [1, 2, 3]\n",
        "pickle.dumps(t)"
      ],
      "execution_count": 45,
      "outputs": [
        {
          "output_type": "execute_result",
          "data": {
            "text/plain": [
              "b'\\x80\\x03]q\\x00(K\\x01K\\x02K\\x03e.'"
            ]
          },
          "metadata": {
            "tags": []
          },
          "execution_count": 45
        }
      ]
    },
    {
      "cell_type": "markdown",
      "metadata": {
        "id": "YoZ71eU52Te3"
      },
      "source": [
        "The format isn’t obvious to human readers; it is meant to be easy for pickle to interpret. pickle.loads (“load string”) reconstitutes the object:"
      ]
    },
    {
      "cell_type": "code",
      "metadata": {
        "id": "SOnIPkWt1eDc",
        "outputId": "054fd09a-dac6-4f41-cb56-4d2baf3590eb",
        "colab": {
          "base_uri": "https://localhost:8080/"
        }
      },
      "source": [
        "t1 = [1, 2, 3]\n",
        "s = pickle.dumps(t1)\n",
        "t2 = pickle.loads(s)\n",
        "print(t2)"
      ],
      "execution_count": 53,
      "outputs": [
        {
          "output_type": "stream",
          "text": [
            "[1, 2, 3]\n"
          ],
          "name": "stdout"
        }
      ]
    },
    {
      "cell_type": "code",
      "metadata": {
        "id": "HS2xOrl22b5t",
        "outputId": "854a9c04-accc-4ad9-a0c9-418688371339",
        "colab": {
          "base_uri": "https://localhost:8080/"
        }
      },
      "source": [
        "t1"
      ],
      "execution_count": 54,
      "outputs": [
        {
          "output_type": "execute_result",
          "data": {
            "text/plain": [
              "[1, 2, 3]"
            ]
          },
          "metadata": {
            "tags": []
          },
          "execution_count": 54
        }
      ]
    },
    {
      "cell_type": "code",
      "metadata": {
        "id": "txGX790C3Bg3",
        "outputId": "0930882e-32ab-4725-c9b4-f08988149421",
        "colab": {
          "base_uri": "https://localhost:8080/"
        }
      },
      "source": [
        "type(t1)"
      ],
      "execution_count": 60,
      "outputs": [
        {
          "output_type": "execute_result",
          "data": {
            "text/plain": [
              "list"
            ]
          },
          "metadata": {
            "tags": []
          },
          "execution_count": 60
        }
      ]
    },
    {
      "cell_type": "code",
      "metadata": {
        "id": "-tuOq_p_2mgo",
        "outputId": "7e8fca8a-2316-4322-ecd8-edc98063c026",
        "colab": {
          "base_uri": "https://localhost:8080/"
        }
      },
      "source": [
        "t2"
      ],
      "execution_count": 55,
      "outputs": [
        {
          "output_type": "execute_result",
          "data": {
            "text/plain": [
              "[1, 2, 3]"
            ]
          },
          "metadata": {
            "tags": []
          },
          "execution_count": 55
        }
      ]
    },
    {
      "cell_type": "code",
      "metadata": {
        "id": "UJoNGwoQ3DMD",
        "outputId": "6c1187d4-3df4-4d0a-82e6-3ba8e2a73f42",
        "colab": {
          "base_uri": "https://localhost:8080/"
        }
      },
      "source": [
        "type(t2)"
      ],
      "execution_count": 61,
      "outputs": [
        {
          "output_type": "execute_result",
          "data": {
            "text/plain": [
              "list"
            ]
          },
          "metadata": {
            "tags": []
          },
          "execution_count": 61
        }
      ]
    },
    {
      "cell_type": "code",
      "metadata": {
        "id": "_g3NtUtg2ndD",
        "outputId": "932e35fe-973f-439f-f315-7b12d68cfd0e",
        "colab": {
          "base_uri": "https://localhost:8080/"
        }
      },
      "source": [
        "id(t1)"
      ],
      "execution_count": 56,
      "outputs": [
        {
          "output_type": "execute_result",
          "data": {
            "text/plain": [
              "140229462808136"
            ]
          },
          "metadata": {
            "tags": []
          },
          "execution_count": 56
        }
      ]
    },
    {
      "cell_type": "code",
      "metadata": {
        "id": "-ieO-TKg2owQ",
        "outputId": "9a545aad-1c8b-4d07-842d-c304e515e0b4",
        "colab": {
          "base_uri": "https://localhost:8080/"
        }
      },
      "source": [
        "id(t2)"
      ],
      "execution_count": 57,
      "outputs": [
        {
          "output_type": "execute_result",
          "data": {
            "text/plain": [
              "140229456070216"
            ]
          },
          "metadata": {
            "tags": []
          },
          "execution_count": 57
        }
      ]
    },
    {
      "cell_type": "code",
      "metadata": {
        "id": "OQzIcBLM2psa",
        "outputId": "b321b7b0-9f1c-4553-8d40-3abb11a0170c",
        "colab": {
          "base_uri": "https://localhost:8080/"
        }
      },
      "source": [
        "t1==t2"
      ],
      "execution_count": 58,
      "outputs": [
        {
          "output_type": "execute_result",
          "data": {
            "text/plain": [
              "True"
            ]
          },
          "metadata": {
            "tags": []
          },
          "execution_count": 58
        }
      ]
    },
    {
      "cell_type": "code",
      "metadata": {
        "id": "lK9GbQcd2r_Q",
        "outputId": "64897f69-ef6a-4b03-9b36-72cca8bea340",
        "colab": {
          "base_uri": "https://localhost:8080/"
        }
      },
      "source": [
        "t1 is t2"
      ],
      "execution_count": 59,
      "outputs": [
        {
          "output_type": "execute_result",
          "data": {
            "text/plain": [
              "False"
            ]
          },
          "metadata": {
            "tags": []
          },
          "execution_count": 59
        }
      ]
    },
    {
      "cell_type": "markdown",
      "metadata": {
        "id": "F4efuk9Q21oa"
      },
      "source": [
        "Pickling and then unpickling has the same effect as copying the object. You can use pickle to store non-strings in a database"
      ]
    },
    {
      "cell_type": "code",
      "metadata": {
        "id": "UIXSoIol2yUl"
      },
      "source": [
        ""
      ],
      "execution_count": null,
      "outputs": []
    }
  ]
}