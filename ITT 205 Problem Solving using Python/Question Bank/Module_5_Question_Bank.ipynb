{
  "nbformat": 4,
  "nbformat_minor": 0,
  "metadata": {
    "colab": {
      "name": "Module 5 Question Bank",
      "provenance": []
    },
    "kernelspec": {
      "name": "python3",
      "display_name": "Python 3"
    }
  },
  "cells": [
    {
      "cell_type": "markdown",
      "metadata": {
        "id": "k8b4O0YOW2wi"
      },
      "source": [
        "# 1. Write a Python code to create a class named 'Member' having the following members: Data members Name, Age, Phone number, Address, Salary. It also has a method named 'printSalary' which prints the salary of the members. Two classes 'Employee' and 'Manager' inherits the 'Member' class. The 'Employee' and 'Manager' classes have data members 'specialization' and 'department' respectively. Now, assign name, age, phone number, address and salary to an employee and a manager by making an object of both of these classes and print the same."
      ]
    },
    {
      "cell_type": "code",
      "metadata": {
        "id": "8XerJRzIWpP2"
      },
      "source": [
        " \n",
        "class Member:\n",
        "    def __init__(self, name, age, phonenumber, address, salary):\n",
        "        self.name = name\n",
        "        self.age = age\n",
        "        self.phonenumber=phonenumber\n",
        "        self.address=address\n",
        "        self.salary=salary\n",
        "    \n",
        "    def printSalary(self):\n",
        "        print(\"Salary : \",self.salary)\n",
        " \n",
        " \n",
        " \n",
        "class Employee(Member):  # Inheritance\n",
        "    def __init__(self, specialization,name, age, phonenumber, address, salary):\n",
        "        self.specialization = specialization\n",
        "        super().__init__(name, age, phonenumber, address, salary)\n",
        "        \n",
        " \n",
        "    def report(self):\n",
        "        print(\"specialization : \",self.specialization)\n",
        "        print(\"Name:\", self.name)\n",
        "        print(\"age:\", self.age)\n",
        "        print(\"phone number:\", self.phonenumber)\n",
        "        print(\"Address:\", self.address)\n",
        "\n",
        " \n",
        " \n",
        "class Manager(Member):  # Inheritance\n",
        "    def __init__(self, department,name, age, phonenumber, address, salary):\n",
        "        super().__init__(name, age, phonenumber, address, salary)\n",
        "        self.department = department\n",
        "    def accept_data(self):\n",
        "        pass\n",
        "    def report(self):\n",
        "        print(\"Department : \", self.department)\n",
        "        print(\"Name:\", self.name)\n",
        "        print(\"age:\", self.age)\n",
        "        print(\"phone number:\", self.phonenumber)\n",
        "        print(\"Address:\", self.address)"
      ],
      "execution_count": null,
      "outputs": []
    },
    {
      "cell_type": "code",
      "metadata": {
        "id": "HHtsAJ57W0f5",
        "colab": {
          "base_uri": "https://localhost:8080/"
        },
        "outputId": "73a4242e-d0eb-427c-91b7-5a8466101228"
      },
      "source": [
        "a = Employee(\"Development\",\"Devika\",28,33333,\"ABC\",43000)\n",
        "print(a.report())\n",
        "\n",
        "print(a.printSalary())\n",
        "b = Manager(\"Production\",\"Arun\",28,33333,\"ABC\",6000)\n",
        "print(b.report())\n",
        "\n",
        "print(b.printSalary())\n"
      ],
      "execution_count": null,
      "outputs": [
        {
          "output_type": "stream",
          "text": [
            "specialization :  Development\n",
            "Name: Devika\n",
            "age: 28\n",
            "phone number: 33333\n",
            "Address: ABC\n",
            "None\n",
            "Salary :  43000\n",
            "None\n",
            "Department :  Production\n",
            "Name: Arun\n",
            "age: 28\n",
            "phone number: 33333\n",
            "Address: ABC\n",
            "None\n",
            "Salary :  6000\n",
            "None\n"
          ],
          "name": "stdout"
        }
      ]
    },
    {
      "cell_type": "markdown",
      "metadata": {
        "id": "yLZtq09CzmRi"
      },
      "source": [
        "#Write a Python program to find out the total mark of a student using  inheritance. Declare a Student class. Student class should have the member functions for accept and display student details. Declare a Sports class to accept and display  sports marks of the student. Derive a class statement from both the classes. This class  should have the member functions to accept marks of three subjects and add those  marks with sports marks and display the result."
      ]
    },
    {
      "cell_type": "code",
      "metadata": {
        "colab": {
          "base_uri": "https://localhost:8080/"
        },
        "id": "hll_VzGp6wAr",
        "outputId": "fede0bd5-03dc-4a40-df12-c4212c90b193"
      },
      "source": [
        "class Student(object): \n",
        "  def __init__(self): \n",
        "    self.name = \"ABC\"\n",
        "    self.age = 30\n",
        "    self.address = \"Kerala\"\n",
        "    print(\"Student Class\") \n",
        "\n",
        "  def accept_details(self):\n",
        "    #self.name=input(\"ENter Name\")\n",
        "    pass\n",
        "  def display_details(self):\n",
        "    pass\n",
        "\n",
        "class Sports(object): \n",
        "  def __init__(self): \n",
        "    self.smark = 40\t\t\n",
        "    print(\"Sports Class\") \n",
        "\n",
        "  def accept_sportmark(self):\n",
        "    self.smark = int(input(\"Sport Mark \"))\n",
        "  def display_mark(self):\n",
        "    print(\"Sports Mark\",self.smark)\n",
        "\n",
        "class Statement(Student, Sports): \n",
        "  def __init__(self): \n",
        "    Student.__init__(self) \n",
        "    Sports.__init__(self) \n",
        "    print(\"Statement Class\") \n",
        "  def accept_mark(self):\n",
        "    Student.accept_details(self)\n",
        "    Student.display_details() #\n",
        "    self.m1 = int(input(\"Sub 1 \"))\n",
        "    self.m2 = int(input(\"Sub 2 \"))\n",
        "    self.m3 = int(input(\"Sub 3\"))\n",
        "    Sports.accept_sportmark(self)\n",
        "    Sports.display_mark() #\n",
        "\n",
        "\n",
        "  def display_total(self):\n",
        "    self.Total = self.m1+self.m2+self.m3+self.smark\n",
        "    print(\"Name\")\n",
        "    \t\t\n",
        "\n",
        "ob = Statement() \n",
        "ob.accept_mark() \n",
        "ob.display_total() \n"
      ],
      "execution_count": null,
      "outputs": [
        {
          "output_type": "stream",
          "text": [
            "Student Class\n",
            "Sports Class\n",
            "Statement Class\n",
            "Sub 1 10\n",
            "Sub 2 10\n",
            "Sub 310\n",
            "Sport Mark 100\n",
            "ABC's Total marks is 130\n"
          ],
          "name": "stdout"
        }
      ]
    },
    {
      "cell_type": "markdown",
      "metadata": {
        "id": "ykFEchbl5-Je"
      },
      "source": [
        "# Create a class having three members (an integer number, sum of digits of the number and a single digit formed by finding the sum of digits of the number until the number is a single digit). Include appropriate functions to enter the number from user end, do calculations and displaying. Also include appropriate constructors for initialising all members to zero. (eg: 1236, sum of digits =12,sum of digits as single digit =3)"
      ]
    },
    {
      "cell_type": "code",
      "metadata": {
        "id": "BB9PUV1k7dDf",
        "colab": {
          "base_uri": "https://localhost:8080/"
        },
        "outputId": "d2a8839b-6c31-4d1c-f5ba-41d59333bd5f"
      },
      "source": [
        " \"\"\"@Author Ameeka Nazreen\"\"\"\n",
        " class Singlenumber:\n",
        "    def __init__(self):\n",
        "        self.intnum=0\n",
        "        self.sumdigi=0\n",
        "        self.singlenum=0\n",
        " \n",
        "    def input(self):\n",
        "        self.intnum=int(input(\"Enter a number : \"))\n",
        " \n",
        "    def calcu(self):\n",
        "        self.singlenum = self.intnum\n",
        "        while(self.singlenum > 9):\n",
        "            self.sumdigi = 0\n",
        "            while(self.intnum > 0):\n",
        "                r = int(self.intnum % 10)\n",
        "                self.sumdigi = self.sumdigi+r\n",
        "                self.intnum = int(self.intnum/10)\n",
        "            self.singlenum = self.sumdigi\n",
        "            self.intnum = self.sumdigi\n",
        "    def display(self):\n",
        "        print(\"The Single number is : \",self.singlenum)\n",
        "ob=Singlenumber()\n",
        "ob.input()\n",
        "ob.calcu()\n",
        "ob.display()"
      ],
      "execution_count": 4,
      "outputs": [
        {
          "output_type": "stream",
          "text": [
            "Enter a number : 1236\n",
            "The Single number is :  3\n"
          ],
          "name": "stdout"
        }
      ]
    },
    {
      "cell_type": "markdown",
      "metadata": {
        "id": "PNfUuazp7EyC"
      },
      "source": [
        "#Create a class Polygon with attribute, number of sides and member function to accept lenght of each side. Create class Triangle, Square that inherits polygon having member function to calculate area and display it."
      ]
    },
    {
      "cell_type": "code",
      "metadata": {
        "colab": {
          "base_uri": "https://localhost:8080/"
        },
        "id": "Mfo2qz9p6Syp",
        "outputId": "23e54ac1-b2b7-42fd-ed4e-d592e7894944"
      },
      "source": [
        "#@Sruthi Viswanathan\n",
        "class Polygon:\n",
        "    def __init__(self,number,name):\n",
        "        self.number = number\n",
        "        self.name=name\n",
        "        self.sides=[]\n",
        "    def inputsides(self):\n",
        "      print(self.name)\n",
        "      for i in range(0,self.number):\n",
        "            ele=float(input(\"Enter side \"+str(i+1)+\" : \"))\n",
        "            self.sides.append(ele)\n",
        "class Triangle(Polygon):\n",
        "    def __init__(self):\n",
        "        Polygon.__init__(self, 3 ,\"TRIANGLE :\")\n",
        "\n",
        "    def trianglearea(self):\n",
        "        a, b, c = self.sides\n",
        "        s = (a + b + c) / 2\n",
        "        area = (s*(s-a)*(s-b)*(s-c)) ** 0.5\n",
        "        print(\"The area of the triangle is : %0.2f  \" % area)\n",
        "\n",
        "class Square(Polygon):\n",
        "\n",
        "    def __init__(self):\n",
        "        Polygon.__init__(self, 2, \"SQUARE :\")\n",
        "    def inputsides(self):\n",
        "      print(self.name)\n",
        "      self.sides=float(input(\"Enter side  : \"))\n",
        "      \n",
        "    \n",
        "    def squArea(self):\n",
        "        a = self.sides\n",
        "        area=a**2\n",
        "        print(\"The area of square is : %0.2f  \" % area)\n",
        "\n",
        "\n",
        "ob = Triangle()\n",
        "ob.inputsides()\n",
        "ob.trianglearea()\n",
        "ob1 = Square()\n",
        "ob1.inputsides()\n",
        "ob1.squArea()"
      ],
      "execution_count": 10,
      "outputs": [
        {
          "output_type": "stream",
          "text": [
            "TRIANGLE :\n",
            "Enter side 1 : 1\n",
            "Enter side 2 : 1\n",
            "Enter side 3 : 1\n",
            "The area of the triangle is : 0.43  \n",
            "SQUARE :\n",
            "Enter side  : 10\n",
            "The area of square is : 100.00  \n"
          ],
          "name": "stdout"
        }
      ]
    },
    {
      "cell_type": "code",
      "metadata": {
        "id": "c8mbrXck7ZuD"
      },
      "source": [
        ""
      ],
      "execution_count": null,
      "outputs": []
    }
  ]
}