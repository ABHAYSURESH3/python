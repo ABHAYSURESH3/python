{
  "nbformat": 4,
  "nbformat_minor": 0,
  "metadata": {
    "colab": {
      "name": "Module 5 Question Bank",
      "provenance": []
    },
    "kernelspec": {
      "name": "python3",
      "display_name": "Python 3"
    }
  },
  "cells": [
    {
      "cell_type": "markdown",
      "metadata": {
        "id": "k8b4O0YOW2wi"
      },
      "source": [
        "# 1. Write a Python code to create a class named 'Member' having the following members: Data members Name, Age, Phone number, Address, Salary. It also has a method named 'printSalary' which prints the salary of the members. Two classes 'Employee' and 'Manager' inherits the 'Member' class. The 'Employee' and 'Manager' classes have data members 'specialization' and 'department' respectively. Now, assign name, age, phone number, address and salary to an employee and a manager by making an object of both of these classes and print the same."
      ]
    },
    {
      "cell_type": "code",
      "metadata": {
        "id": "8XerJRzIWpP2"
      },
      "source": [
        " \n",
        "class Member:\n",
        "    def __init__(self, name, age, phonenumber, address, salary):\n",
        "        self.name = name\n",
        "        self.age = age\n",
        "        self.phonenumber=phonenumber\n",
        "        self.address=address\n",
        "        self.salary=salary\n",
        "    \n",
        "    def printSalary(self):\n",
        "        print(\"Salary : \",self.salary)\n",
        " \n",
        " \n",
        " \n",
        "class Employee(Member):  # Inheritance\n",
        "    def __init__(self, specialization,name, age, phonenumber, address, salary):\n",
        "        super().__init__(name, age, phonenumber, address, salary)\n",
        "        self.specialization = specialization\n",
        " \n",
        "    def report(self):\n",
        "        print(\"specialization : \",self.specialization)\n",
        "        print(\"Name:\", self.name)\n",
        "        print(\"age:\", self.age)\n",
        "        print(\"phone number:\", self.phonenumber)\n",
        "        print(\"Address:\", self.address)\n",
        "\n",
        " \n",
        " \n",
        "class Manager(Member):  # Inheritance\n",
        "    def __init__(self, department,name, age, phonenumber, address, salary):\n",
        "        super().__init__(name, age, phonenumber, address, salary)\n",
        "        self.department = department\n",
        " \n",
        "    def report(self):\n",
        "        print(\"Department : \", self.department)\n",
        "        print(\"Name:\", self.name)\n",
        "        print(\"age:\", self.age)\n",
        "        print(\"phone number:\", self.phonenumber)\n",
        "        print(\"Address:\", self.address)\n",
        "\n",
        " \n",
        " \n",
        "\n"
      ],
      "execution_count": 52,
      "outputs": []
    },
    {
      "cell_type": "code",
      "metadata": {
        "id": "HHtsAJ57W0f5",
        "colab": {
          "base_uri": "https://localhost:8080/"
        },
        "outputId": "86cb297e-fa8a-4936-8cfc-df47db2902cd"
      },
      "source": [
        "a = Employee(\"Development\",\"Devika\",28,33333,\"ABC\",43000)\n",
        "print(a.report())\n",
        "\n",
        "print(a.printSalary())\n"
      ],
      "execution_count": 53,
      "outputs": [
        {
          "output_type": "stream",
          "text": [
            "specialization :  Development\n",
            "Name: Devika\n",
            "age: 28\n",
            "phone number: 33333\n",
            "Address: ABC\n",
            "None\n",
            "Salary :  43000\n",
            "None\n"
          ],
          "name": "stdout"
        }
      ]
    },
    {
      "cell_type": "markdown",
      "metadata": {
        "id": "yLZtq09CzmRi"
      },
      "source": [
        "#Write a Python program to find out the total mark of a student using  inheritance. Declare a Student class. Student class should have the member functions for accept and display student details. Declare a Sports class to accept and display  sports marks of the student. Derive a class statement from both the classes. This class  should have the member functions to accept marks of three subjects and add those  marks with sports marks and display the result."
      ]
    },
    {
      "cell_type": "code",
      "metadata": {
        "colab": {
          "base_uri": "https://localhost:8080/"
        },
        "id": "hll_VzGp6wAr",
        "outputId": "a6317a07-d640-4741-e809-24af6a637839"
      },
      "source": [
        "class Student(object): \n",
        "  def __init__(self): \n",
        "    self.name = \"ABC\"\n",
        "    self.age = 30\n",
        "    self.address = \"Kerala\"\n",
        "    print(\"Student Class\") \n",
        "\n",
        "class Sports(object): \n",
        "  def __init__(self): \n",
        "    self.smark = 40\t\t\n",
        "    print(\"Sports Class\") \n",
        "  def accept_mark(self):\n",
        "    self.smark = int(input(\"Sport Mark \"))\n",
        "\n",
        "class Statement(Student, Sports): \n",
        "  def __init__(self): \n",
        "    Student.__init__(self) \n",
        "    Sports.__init__(self) \n",
        "    print(\"Statement Class\") \n",
        "  def accept_mark(self):\n",
        "    self.m1 = int(input(\"Sub 1 \"))\n",
        "    self.m2 = int(input(\"Sub 2 \"))\n",
        "    self.m3 = int(input(\"Sub 3\"))\n",
        "    Sports.accept_mark(self)\n",
        "\n",
        "\n",
        "  def display_total(self):\n",
        "    self.Total = self.m1+self.m2+self.m3+self.smark\n",
        "    print(f\"{self.name}\\'s Total marks is {self.Total}\")\n",
        "\t\t\n",
        "\n",
        "ob = Statement() \n",
        "ob.accept_mark() \n",
        "ob.display_total() \n"
      ],
      "execution_count": 93,
      "outputs": [
        {
          "output_type": "stream",
          "text": [
            "Student Class\n",
            "Sports Class\n",
            "Statement Class\n",
            "Sub 1 10\n",
            "Sub 2 10\n",
            "Sub 310\n",
            "Sport Mark 100\n",
            "ABC's Total marks is 130\n"
          ],
          "name": "stdout"
        }
      ]
    },
    {
      "cell_type": "code",
      "metadata": {
        "id": "BB9PUV1k7dDf"
      },
      "source": [
        ""
      ],
      "execution_count": null,
      "outputs": []
    }
  ]
}