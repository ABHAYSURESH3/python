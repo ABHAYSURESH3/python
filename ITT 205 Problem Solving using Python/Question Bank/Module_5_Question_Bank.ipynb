{
  "nbformat": 4,
  "nbformat_minor": 0,
  "metadata": {
    "colab": {
      "name": "Module 5 Question Bank",
      "provenance": []
    },
    "kernelspec": {
      "name": "python3",
      "display_name": "Python 3"
    }
  },
  "cells": [
    {
      "cell_type": "markdown",
      "metadata": {
        "id": "k8b4O0YOW2wi"
      },
      "source": [
        "# 1. Write a Python code to create a class named 'Member' having the following members: Data members Name, Age, Phone number, Address, Salary. It also has a method named 'printSalary' which prints the salary of the members. Two classes 'Employee' and 'Manager' inherits the 'Member' class. The 'Employee' and 'Manager' classes have data members 'specialization' and 'department' respectively. Now, assign name, age, phone number, address and salary to an employee and a manager by making an object of both of these classes and print the same."
      ]
    },
    {
      "cell_type": "code",
      "metadata": {
        "id": "8XerJRzIWpP2"
      },
      "source": [
        " \n",
        "class Member:\n",
        "    def __init__(self, name, age, phonenumber, address, salary):\n",
        "        self.name = name\n",
        "        self.age = age\n",
        "        self.phonenumber=phonenumber\n",
        "        self.address=address\n",
        "        self.salary=salary\n",
        "    \n",
        "    def printSalary(self):\n",
        "        print(\"Salary : \",self.salary)\n",
        " \n",
        " \n",
        " \n",
        "class Employee(Member):  # Inheritance\n",
        "    def __init__(self, specialization,name, age, phonenumber, address, salary):\n",
        "        self.specialization = specialization\n",
        "        super().__init__(name, age, phonenumber, address, salary)\n",
        "        \n",
        " \n",
        "    def report(self):\n",
        "        print(\"specialization : \",self.specialization)\n",
        "        print(\"Name:\", self.name)\n",
        "        print(\"age:\", self.age)\n",
        "        print(\"phone number:\", self.phonenumber)\n",
        "        print(\"Address:\", self.address)\n",
        "\n",
        " \n",
        " \n",
        "class Manager(Member):  # Inheritance\n",
        "    def __init__(self, department,name, age, phonenumber, address, salary):\n",
        "        super().__init__(name, age, phonenumber, address, salary)\n",
        "        self.department = department\n",
        "    def accept_data(self):\n",
        "        pass\n",
        "    def report(self):\n",
        "        print(\"Department : \", self.department)\n",
        "        print(\"Name:\", self.name)\n",
        "        print(\"age:\", self.age)\n",
        "        print(\"phone number:\", self.phonenumber)\n",
        "        print(\"Address:\", self.address)"
      ],
      "execution_count": 94,
      "outputs": []
    },
    {
      "cell_type": "code",
      "metadata": {
        "id": "HHtsAJ57W0f5",
        "colab": {
          "base_uri": "https://localhost:8080/"
        },
        "outputId": "73a4242e-d0eb-427c-91b7-5a8466101228"
      },
      "source": [
        "a = Employee(\"Development\",\"Devika\",28,33333,\"ABC\",43000)\n",
        "print(a.report())\n",
        "\n",
        "print(a.printSalary())\n",
        "b = Manager(\"Production\",\"Arun\",28,33333,\"ABC\",6000)\n",
        "print(b.report())\n",
        "\n",
        "print(b.printSalary())\n"
      ],
      "execution_count": 97,
      "outputs": [
        {
          "output_type": "stream",
          "text": [
            "specialization :  Development\n",
            "Name: Devika\n",
            "age: 28\n",
            "phone number: 33333\n",
            "Address: ABC\n",
            "None\n",
            "Salary :  43000\n",
            "None\n",
            "Department :  Production\n",
            "Name: Arun\n",
            "age: 28\n",
            "phone number: 33333\n",
            "Address: ABC\n",
            "None\n",
            "Salary :  6000\n",
            "None\n"
          ],
          "name": "stdout"
        }
      ]
    },
    {
      "cell_type": "markdown",
      "metadata": {
        "id": "yLZtq09CzmRi"
      },
      "source": [
        "#Write a Python program to find out the total mark of a student using  inheritance. Declare a Student class. Student class should have the member functions for accept and display student details. Declare a Sports class to accept and display  sports marks of the student. Derive a class statement from both the classes. This class  should have the member functions to accept marks of three subjects and add those  marks with sports marks and display the result."
      ]
    },
    {
      "cell_type": "code",
      "metadata": {
        "colab": {
          "base_uri": "https://localhost:8080/"
        },
        "id": "hll_VzGp6wAr",
        "outputId": "fede0bd5-03dc-4a40-df12-c4212c90b193"
      },
      "source": [
        "class Student(object): \n",
        "  def __init__(self): \n",
        "    self.name = \"ABC\"\n",
        "    self.age = 30\n",
        "    self.address = \"Kerala\"\n",
        "    print(\"Student Class\") \n",
        "\n",
        "  def accept_details(self):\n",
        "    #self.name=input(\"ENter Name\")\n",
        "    pass\n",
        "  def display_details(self):\n",
        "    pass\n",
        "\n",
        "class Sports(object): \n",
        "  def __init__(self): \n",
        "    self.smark = 40\t\t\n",
        "    print(\"Sports Class\") \n",
        "\n",
        "  def accept_sportmark(self):\n",
        "    self.smark = int(input(\"Sport Mark \"))\n",
        "  def display_mark(self):\n",
        "    print(\"Sports Mark\",self.smark)\n",
        "\n",
        "class Statement(Student, Sports): \n",
        "  def __init__(self): \n",
        "    Student.__init__(self) \n",
        "    Sports.__init__(self) \n",
        "    print(\"Statement Class\") \n",
        "  def accept_mark(self):\n",
        "    Student.accept_details(self)\n",
        "    Student.display_details() #\n",
        "    self.m1 = int(input(\"Sub 1 \"))\n",
        "    self.m2 = int(input(\"Sub 2 \"))\n",
        "    self.m3 = int(input(\"Sub 3\"))\n",
        "    Sports.accept_sportmark(self)\n",
        "    Sports.display_mark() #\n",
        "\n",
        "\n",
        "  def display_total(self):\n",
        "    self.Total = self.m1+self.m2+self.m3+self.smark\n",
        "    print(\"Name\")\n",
        "    \t\t\n",
        "\n",
        "ob = Statement() \n",
        "ob.accept_mark() \n",
        "ob.display_total() \n"
      ],
      "execution_count": 101,
      "outputs": [
        {
          "output_type": "stream",
          "text": [
            "Student Class\n",
            "Sports Class\n",
            "Statement Class\n",
            "Sub 1 10\n",
            "Sub 2 10\n",
            "Sub 310\n",
            "Sport Mark 100\n",
            "ABC's Total marks is 130\n"
          ],
          "name": "stdout"
        }
      ]
    },
    {
      "cell_type": "code",
      "metadata": {
        "id": "BB9PUV1k7dDf"
      },
      "source": [
        ""
      ],
      "execution_count": null,
      "outputs": []
    }
  ]
}