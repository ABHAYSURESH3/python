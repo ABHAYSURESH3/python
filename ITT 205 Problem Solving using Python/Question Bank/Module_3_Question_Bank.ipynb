{
  "nbformat": 4,
  "nbformat_minor": 0,
  "metadata": {
    "colab": {
      "name": "Module 3 Question Bank",
      "provenance": []
    },
    "kernelspec": {
      "name": "python3",
      "display_name": "Python 3"
    }
  },
  "cells": [
    {
      "cell_type": "markdown",
      "metadata": {
        "id": "qdGDE7DvW7Rv"
      },
      "source": [
        "# Write a Python program to create a lambda function that adds 15 to a given number passed in as an argument, also create a lambda function that multiplies argument x with argument y and print the result\r\n",
        "\r\n"
      ]
    },
    {
      "cell_type": "code",
      "metadata": {
        "id": "4KKXeZkfW8BX"
      },
      "source": [
        "add15 = lambda x: x + 15\r\n"
      ],
      "execution_count": 5,
      "outputs": []
    },
    {
      "cell_type": "code",
      "metadata": {
        "colab": {
          "base_uri": "https://localhost:8080/"
        },
        "id": "O8anLeEkXRlk",
        "outputId": "48ed4b91-1327-4a3d-a574-765570f7a26d"
      },
      "source": [
        "add15(10)"
      ],
      "execution_count": 6,
      "outputs": [
        {
          "output_type": "execute_result",
          "data": {
            "text/plain": [
              "25"
            ]
          },
          "metadata": {
            "tags": []
          },
          "execution_count": 6
        }
      ]
    },
    {
      "cell_type": "code",
      "metadata": {
        "id": "mu_qxqxZXW3o"
      },
      "source": [
        "mulxy = lambda x,y: x*y\r\n"
      ],
      "execution_count": 7,
      "outputs": []
    },
    {
      "cell_type": "code",
      "metadata": {
        "colab": {
          "base_uri": "https://localhost:8080/"
        },
        "id": "Ji9hxTyDXjFU",
        "outputId": "5f81e3fb-f831-4159-9b4a-3bb6953e6295"
      },
      "source": [
        "mulxy(10,2)"
      ],
      "execution_count": 8,
      "outputs": [
        {
          "output_type": "execute_result",
          "data": {
            "text/plain": [
              "20"
            ]
          },
          "metadata": {
            "tags": []
          },
          "execution_count": 8
        }
      ]
    },
    {
      "cell_type": "markdown",
      "metadata": {
        "id": "BlXa-7sTXncG"
      },
      "source": [
        "Write a recursive Python function that has a \r\n",
        "parameter representing a list of integers and returns the maximum \r\n",
        "stored in the list. Thinking recursively, the maximum is either the \r\n",
        "first value in the list or the maximum of the rest of the list, \r\n",
        "whichever is larger. If the list only has 1 integer, then its maximum \r\n",
        "is this single value, naturally\r\n"
      ]
    },
    {
      "cell_type": "code",
      "metadata": {
        "id": "dFeeVUq_XkyB"
      },
      "source": [
        ""
      ],
      "execution_count": null,
      "outputs": []
    },
    {
      "cell_type": "markdown",
      "metadata": {
        "id": "qEaMmzhtb6I_"
      },
      "source": [
        "# Write a python program using list to store and display the average of N Integers accepted from the user\r\n"
      ]
    },
    {
      "cell_type": "code",
      "metadata": {
        "colab": {
          "base_uri": "https://localhost:8080/"
        },
        "id": "olpL0pMab8ss",
        "outputId": "c1d31b56-f482-4071-95e8-fff3843039f0"
      },
      "source": [
        "def avg_list(items):\r\n",
        "    sum = 0\r\n",
        "    for x in items:\r\n",
        "        sum += x\r\n",
        "        avg=sum/len(items)\r\n",
        "    return avg\r\n",
        "\r\n",
        "\r\n",
        "print(avg_list([1,2,4,8]))\r\n"
      ],
      "execution_count": 10,
      "outputs": [
        {
          "output_type": "stream",
          "text": [
            "3.75\n"
          ],
          "name": "stdout"
        }
      ]
    },
    {
      "cell_type": "markdown",
      "metadata": {
        "id": "iUq2pKd1ewv5"
      },
      "source": [
        "Write a Python program to create a list by concatenating a given list which range goes from 1 to n. "
      ]
    },
    {
      "cell_type": "markdown",
      "metadata": {
        "id": "6-f13KmXefS9"
      },
      "source": [
        "# Write a Python program to compute the nth Fibonacci number . Use a recursive function for the implementation."
      ]
    },
    {
      "cell_type": "code",
      "metadata": {
        "id": "WSJH6DZKejPt"
      },
      "source": [
        "def fib(n):\r\n",
        "   if n <= 1:\r\n",
        "       return n\r\n",
        "   else:\r\n",
        "       return(fib(n-1) + fib(n-2))"
      ],
      "execution_count": 20,
      "outputs": []
    },
    {
      "cell_type": "markdown",
      "metadata": {
        "id": "vKsvvTE7ct1P"
      },
      "source": [
        "# Write a recursive function to calculate the sum of numbers from 0 to 10."
      ]
    },
    {
      "cell_type": "code",
      "metadata": {
        "colab": {
          "base_uri": "https://localhost:8080/"
        },
        "id": "lFXRG1b0cXR7",
        "outputId": "4f822062-6a9c-4277-f6ae-b6efcdbe557e"
      },
      "source": [
        "def sum(lower,upper):\r\n",
        "  if lower>upper:\r\n",
        "    return 0\r\n",
        "  else:\r\n",
        "    #print(lower)\r\n",
        "    return lower + sum(lower+1,upper)\r\n",
        "sum(0,10)"
      ],
      "execution_count": 12,
      "outputs": [
        {
          "output_type": "execute_result",
          "data": {
            "text/plain": [
              "55"
            ]
          },
          "metadata": {
            "tags": []
          },
          "execution_count": 12
        }
      ]
    },
    {
      "cell_type": "markdown",
      "metadata": {
        "id": "TeG6c9w5c8-T"
      },
      "source": [
        "#Write a recursive function to find the factorial of a number."
      ]
    },
    {
      "cell_type": "code",
      "metadata": {
        "colab": {
          "base_uri": "https://localhost:8080/"
        },
        "id": "9TguB-6qc3Lf",
        "outputId": "0ecc66ab-c92e-4fd8-826d-b38d0e320be6"
      },
      "source": [
        "def fact(n):\r\n",
        "   if n == 1:\r\n",
        "       return n\r\n",
        "   else:\r\n",
        "       return(n*fact(n-1))\r\n",
        "fact(4)"
      ],
      "execution_count": 19,
      "outputs": [
        {
          "output_type": "execute_result",
          "data": {
            "text/plain": [
              "24"
            ]
          },
          "metadata": {
            "tags": []
          },
          "execution_count": 19
        }
      ]
    },
    {
      "cell_type": "code",
      "metadata": {
        "id": "oOTJ7BX1dNCs"
      },
      "source": [
        ""
      ],
      "execution_count": null,
      "outputs": []
    }
  ]
}