{
  "nbformat": 4,
  "nbformat_minor": 0,
  "metadata": {
    "colab": {
      "name": "Module 4 Question Bank",
      "provenance": []
    },
    "kernelspec": {
      "name": "python3",
      "display_name": "Python 3"
    }
  },
  "cells": [
    {
      "cell_type": "markdown",
      "metadata": {
        "id": "KeWZVNwoYxfS"
      },
      "source": [
        "#1.a. Write a Python program to read the content of a Python file and display all the lines without comments. "
      ]
    },
    {
      "cell_type": "code",
      "metadata": {
        "id": "0ebXBpMHYr8D",
        "colab": {
          "base_uri": "https://localhost:8080/"
        },
        "outputId": "46bbff38-7925-4c6c-ad55-a6634a57afc6"
      },
      "source": [
        "def filterFile(oldFile, newFile):\n",
        "  f1 = open(oldFile, \"r\")\n",
        "  f2 = open(newFile, \"w\")\n",
        "  while True:\n",
        "    text = f1.readline() \n",
        "    if text == \"\":\n",
        "      break\n",
        "    if text[0] == '#':\n",
        "      continue\n",
        "    f2.write(text)\n",
        "  f1.close()\n",
        "  f2.close()\n",
        "  return\n",
        "f = open(\"mydata.dat\",\"w\")\n",
        "f.write(\"First Line\\n\")\n",
        "f.write(\"#Second Line\\n\")\n",
        "f.write(\"Third Line\\n\")\n",
        "f.write(\"Fourth Line\\n\")\n",
        "f.close()\n",
        "\n",
        "filterFile(\"mydata.dat\",\"filterdata.dat\")\n",
        "\n",
        "f = open(\"mydata.dat\",\"r\")\n",
        "text = f.read()\n",
        "print(text)\n",
        "\n",
        "f = open(\"filterdata.dat\",\"r\")\n",
        "text = f.read()\n",
        "print(text)"
      ],
      "execution_count": 24,
      "outputs": [
        {
          "output_type": "stream",
          "text": [
            "First Line\n",
            "#Second Line\n",
            "Third Line\n",
            "Fourth Line\n",
            "\n",
            "First Line\n",
            "Third Line\n",
            "Fourth Line\n",
            "\n"
          ],
          "name": "stdout"
        }
      ]
    },
    {
      "cell_type": "code",
      "metadata": {
        "colab": {
          "base_uri": "https://localhost:8080/"
        },
        "id": "arfXAritF3a_",
        "outputId": "d93878a9-01f8-4d4b-e993-c7186b007aeb"
      },
      "source": [
        "def filterFile(oldFile):\n",
        "  f1 = open(oldFile, \"r\")\n",
        "  while True:\n",
        "    text = f1.readline() \n",
        "    if text == \"\":\n",
        "      break\n",
        "    if text[0] == '#':\n",
        "      continue\n",
        "    print(text)\n",
        "  f1.close()\n",
        "\n",
        "  return\n",
        "f = open(\"mydata.dat\",\"w\")\n",
        "f.write(\"First Line\\n\")\n",
        "f.write(\"#Second Line\\n\")\n",
        "f.write(\"Third Line\\n\")\n",
        "f.write(\"Fourth Line\\n\")\n",
        "f.close()\n",
        "\n",
        "f = open(\"mydata.dat\",\"r\")\n",
        "text = f.read()\n",
        "print(text)\n",
        "\n",
        "filterFile(\"mydata.dat\")"
      ],
      "execution_count": 26,
      "outputs": [
        {
          "output_type": "stream",
          "text": [
            "First Line\n",
            "#Second Line\n",
            "Third Line\n",
            "Fourth Line\n",
            "\n",
            "First Line\n",
            "\n",
            "Third Line\n",
            "\n",
            "Fourth Line\n",
            "\n"
          ],
          "name": "stdout"
        }
      ]
    },
    {
      "cell_type": "markdown",
      "metadata": {
        "id": "tFrbLbCCY4BZ"
      },
      "source": [
        "#1. b.Write a Python program to read the contents of a file Grades.txt and calculate the total marks and percentage obtained by a student."
      ]
    },
    {
      "cell_type": "code",
      "metadata": {
        "id": "vquTan0mY5LW",
        "colab": {
          "base_uri": "https://localhost:8080/"
        },
        "outputId": "24fd0a05-451f-4083-a528-b116da28e901"
      },
      "source": [
        "def grade(myfile):\n",
        "  f1 = open(myfile, \"r\")\n",
        "  total_marks=0\n",
        "  while True:\n",
        "    text = f1.readline() \n",
        "    if text == \"\":\n",
        "      break\n",
        "    marks = text[-3:-1]\n",
        "    total_marks+=int(marks)\n",
        "    print(marks)\n",
        "  print(\"Total Marks:\",total_marks)  \n",
        "  print(\"Percentage:\",total_marks/400*100)\n",
        "  \n",
        "f = open(\"mygrade.dat\",\"w\")\n",
        "f.write(\"Physics\\t 80\\n\")\n",
        "f.write(\"Chemistry\\t 70\\n\")\n",
        "f.write(\"Maths\\t 90\\n\")\n",
        "f.write(\"English\\t 90\\n\")\n",
        "f.close()\n",
        "f = open(\"mygrade.dat\",\"r\")\n",
        "text = f.read()\n",
        "print(text)\n",
        "grade('mygrade.dat')"
      ],
      "execution_count": 29,
      "outputs": [
        {
          "output_type": "stream",
          "text": [
            "Physics\t 80\n",
            "Chemistry\t 70\n",
            "Maths\t 90\n",
            "English\t 90\n",
            "\n",
            "80\n",
            "70\n",
            "90\n",
            "90\n",
            "Total Marks: 330\n",
            "Percentage: 82.5\n"
          ],
          "name": "stdout"
        }
      ]
    },
    {
      "cell_type": "code",
      "metadata": {
        "colab": {
          "base_uri": "https://localhost:8080/",
          "height": 0
        },
        "id": "N-3cNFZXIGMh",
        "outputId": "509a8948-9c9f-49e4-f7a8-16be18a726ad"
      },
      "source": [
        "\n",
        "def read_test_scores() :\n",
        "\n",
        "    print(\"ENTER STUDENT ID: \")\n",
        "    id = int(input())\n",
        "\n",
        "    print(\"ENTER EXAM SCORE: \")\n",
        "    exam = int(input())\n",
        "\n",
        "    print(\"ENTER ALL TEST SCORES: \")\n",
        "    score1 = int(input())\n",
        "    score2 = int(input())\n",
        "    score3 = int(input())\n",
        "    score4 = int(input())\n",
        "    score5 = int(input())\n",
        "    score6 = int(input())\n",
        "    score7 = int(input())\n",
        "\n",
        "    sum = (score1 + score2 + score3 + score4 + score5 + score6 + score7)\n",
        "\n",
        "    tavge = sum/7\n",
        "    return tavge\n",
        "\n",
        "def compute_final_score(tavge, exam) :\n",
        "    final_score = 0.4 * tavge + 0.6 * exam\n",
        "    return final_score\n",
        "\n",
        "def get_letter_grade(final_score) :\n",
        "\n",
        "    if 90 <= final_score <= 100:\n",
        "        grade = 'A'\n",
        "    elif 80 <= final_score <= 89:\n",
        "        grade = 'B'\n",
        "    elif 70 <= final_score <= 79:\n",
        "        grade = 'C'\n",
        "    elif 60 <= final_score <= 69:\n",
        "        grade = 'D'\n",
        "    else:\n",
        "        grade = 'F'\n",
        "    return grade\n",
        "\n",
        "def print_comment(grade) :\n",
        "\n",
        "    if grade == 'A':\n",
        "        print (\"COMMENT:            Very Good\")\n",
        "    elif grade == 'B':\n",
        "        print \"COMMENT:            Good\"\n",
        "    elif grade == 'C':\n",
        "        print \"COMMENT:            Satisfactory\"\n",
        "    elif grade == 'D':\n",
        "        print \"COMMENT:            Need Improvement\"\n",
        "    elif grade == 'F'\n",
        "        print \"COMMENT:            Poor\"\n",
        "\n",
        "read_test_scores()\n",
        "print \"TEST AVERAGE IS:    \" + str(tavge)\n",
        "compute_final_score()\n",
        "print \"FINAL SCORE IS:     \" + str(final_score)\n",
        "get_letter_grade(final_score)\n",
        "print \"LETTER GRADE IS:     \" + str(grade)\n",
        "print_comment(grade)\n"
      ],
      "execution_count": 28,
      "outputs": [
        {
          "output_type": "error",
          "ename": "SyntaxError",
          "evalue": "ignored",
          "traceback": [
            "\u001b[0;36m  File \u001b[0;32m\"<ipython-input-28-73af394da610>\"\u001b[0;36m, line \u001b[0;32m45\u001b[0m\n\u001b[0;31m    print \"COMMENT:            Very Good\"\u001b[0m\n\u001b[0m                                        ^\u001b[0m\n\u001b[0;31mSyntaxError\u001b[0m\u001b[0;31m:\u001b[0m Missing parentheses in call to 'print'. Did you mean print(\"COMMENT:            Very Good\")?\n"
          ]
        }
      ]
    },
    {
      "cell_type": "markdown",
      "metadata": {
        "id": "0CY0n017Y8Y1"
      },
      "source": [
        "#2.a.Write a Python program to create a file where all letters of English alphabet are listed by  specified number of letters on each line.\n"
      ]
    },
    {
      "cell_type": "code",
      "metadata": {
        "id": "YOo9G4idY9Yb",
        "colab": {
          "base_uri": "https://localhost:8080/"
        },
        "outputId": "e2e05346-d3ca-4fce-bdf1-c074a73cb9b3"
      },
      "source": [
        "import string\n",
        "f = open(\"words1.txt\", \"w\")\n",
        "def lettersinline(n):\n",
        "       alphabet = string.ascii_uppercase\n",
        "       print(alphabet)\n",
        "       for i in range(0, len(alphabet),n):\n",
        "        letters = alphabet[i:i + n]\n",
        "        f.write(letters)\n",
        "        f.write(\"\\n\")\n",
        "lettersinline(3)\n",
        "f = open(\"words1.txt\",\"r\")\n",
        "text = f.read()\n",
        "print(text)"
      ],
      "execution_count": 38,
      "outputs": [
        {
          "output_type": "stream",
          "text": [
            "ABCDEFGHIJKLMNOPQRSTUVWXYZ\n",
            "ABC\n",
            "DEF\n",
            "GHI\n",
            "JKL\n",
            "MNO\n",
            "PQR\n",
            "STU\n",
            "VWX\n",
            "YZ\n",
            "\n"
          ],
          "name": "stdout"
        }
      ]
    },
    {
      "cell_type": "code",
      "metadata": {
        "colab": {
          "base_uri": "https://localhost:8080/"
        },
        "id": "Mt9yyR4aK5l_",
        "outputId": "467552a8-da40-4868-8fb3-a64605e2915a"
      },
      "source": [
        "def read(myfile):\n",
        "     f = open(myfile,\"r\")\n",
        "     list = f.readlines()\n",
        "     print(list)\n",
        "read('mydata.dat')"
      ],
      "execution_count": 37,
      "outputs": [
        {
          "output_type": "stream",
          "text": [
            "['apple\\n', 'mango\\n', 'orange\\n', 'grapes\\n']\n"
          ],
          "name": "stdout"
        }
      ]
    },
    {
      "cell_type": "markdown",
      "metadata": {
        "id": "AC1IyyWaY9xX"
      },
      "source": [
        "#2. b.Write a Python program to read a file line by line and store it into a list"
      ]
    },
    {
      "cell_type": "code",
      "metadata": {
        "id": "uu2ME5I7Y__J",
        "colab": {
          "base_uri": "https://localhost:8080/"
        },
        "outputId": "1616b4d7-9e1a-4fb1-8bdf-fd4223f169c5"
      },
      "source": [
        "def savetolist(myfile):\n",
        "  f1 = open(myfile, \"r\")\n",
        "  mylist=[]\n",
        "  while True:\n",
        "    text = f1.readline() \n",
        "    if text == \"\":\n",
        "      break\n",
        "    text=text[:-1] \n",
        "    mylist.append(text)\n",
        "  f1.close()\n",
        "  return mylist\n",
        "f = open(\"mydata.dat\",\"w\")\n",
        "f.write(\"apple\\n\")\n",
        "f.write(\"mango\\n\")\n",
        "f.write(\"orange\\n\")\n",
        "f.write(\"grapes\\n\")\n",
        "f.close()\n",
        "f = open(\"mydata.dat\",\"r\")\n",
        "text = f.read()\n",
        "print(text)\n",
        "savetolist(\"mydata.dat\")\n"
      ],
      "execution_count": 36,
      "outputs": [
        {
          "output_type": "stream",
          "text": [
            "apple\n",
            "mango\n",
            "orange\n",
            "grapes\n",
            "\n"
          ],
          "name": "stdout"
        },
        {
          "output_type": "execute_result",
          "data": {
            "text/plain": [
              "['apple', 'mango', 'orange', 'grapes']"
            ]
          },
          "metadata": {
            "tags": []
          },
          "execution_count": 36
        }
      ]
    },
    {
      "cell_type": "code",
      "metadata": {
        "id": "ldL4Va9p2bNN"
      },
      "source": [
        ""
      ],
      "execution_count": null,
      "outputs": []
    }
  ]
}