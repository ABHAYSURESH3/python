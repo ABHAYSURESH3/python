{
  "nbformat": 4,
  "nbformat_minor": 0,
  "metadata": {
    "colab": {
      "name": "Module 4 Question Bank",
      "provenance": []
    },
    "kernelspec": {
      "name": "python3",
      "display_name": "Python 3"
    }
  },
  "cells": [
    {
      "cell_type": "markdown",
      "metadata": {
        "id": "KeWZVNwoYxfS"
      },
      "source": [
        "#1.a. Write a Python program to read the content of a Python file and display all the lines without comments. "
      ]
    },
    {
      "cell_type": "code",
      "metadata": {
        "id": "0ebXBpMHYr8D"
      },
      "source": [
        ""
      ],
      "execution_count": null,
      "outputs": []
    },
    {
      "cell_type": "markdown",
      "metadata": {
        "id": "tFrbLbCCY4BZ"
      },
      "source": [
        "#1. b.Write a Python program to read the contents of a file Grades.txt and calculate the total marks and percentage obtained by a student."
      ]
    },
    {
      "cell_type": "code",
      "metadata": {
        "id": "vquTan0mY5LW"
      },
      "source": [
        ""
      ],
      "execution_count": null,
      "outputs": []
    },
    {
      "cell_type": "markdown",
      "metadata": {
        "id": "0CY0n017Y8Y1"
      },
      "source": [
        "#2.a.Write a Python program to create a file where all letters of English alphabet are listed by  specified number of letters on each line.\n"
      ]
    },
    {
      "cell_type": "code",
      "metadata": {
        "id": "YOo9G4idY9Yb"
      },
      "source": [
        ""
      ],
      "execution_count": null,
      "outputs": []
    },
    {
      "cell_type": "markdown",
      "metadata": {
        "id": "AC1IyyWaY9xX"
      },
      "source": [
        "#2. b.Write a Python program to read a file line by line and store it into a list"
      ]
    },
    {
      "cell_type": "code",
      "metadata": {
        "id": "uu2ME5I7Y__J"
      },
      "source": [
        ""
      ],
      "execution_count": null,
      "outputs": []
    }
  ]
}