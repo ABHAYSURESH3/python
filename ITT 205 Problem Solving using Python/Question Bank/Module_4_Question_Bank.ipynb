{
  "nbformat": 4,
  "nbformat_minor": 0,
  "metadata": {
    "colab": {
      "name": "Module 4 Question Bank",
      "provenance": []
    },
    "kernelspec": {
      "name": "python3",
      "display_name": "Python 3"
    }
  },
  "cells": [
    {
      "cell_type": "markdown",
      "metadata": {
        "id": "KeWZVNwoYxfS"
      },
      "source": [
        "#1.a. Write a Python program to read the content of a Python file and display all the lines without comments. "
      ]
    },
    {
      "cell_type": "code",
      "metadata": {
        "id": "0ebXBpMHYr8D",
        "colab": {
          "base_uri": "https://localhost:8080/"
        },
        "outputId": "46bbff38-7925-4c6c-ad55-a6634a57afc6"
      },
      "source": [
        "def filterFile(oldFile, newFile):\n",
        "  f1 = open(oldFile, \"r\")\n",
        "  f2 = open(newFile, \"w\")\n",
        "  while True:\n",
        "    text = f1.readline() \n",
        "    if text == \"\":\n",
        "      break\n",
        "    if text[0] == '#':\n",
        "      continue\n",
        "    f2.write(text)\n",
        "  f1.close()\n",
        "  f2.close()\n",
        "  return\n",
        "f = open(\"mydata.dat\",\"w\")\n",
        "f.write(\"First Line\\n\")\n",
        "f.write(\"#Second Line\\n\")\n",
        "f.write(\"Third Line\\n\")\n",
        "f.write(\"Fourth Line\\n\")\n",
        "f.close()\n",
        "\n",
        "filterFile(\"mydata.dat\",\"filterdata.dat\")\n",
        "\n",
        "f = open(\"mydata.dat\",\"r\")\n",
        "text = f.read()\n",
        "print(text)\n",
        "\n",
        "f = open(\"filterdata.dat\",\"r\")\n",
        "text = f.read()\n",
        "print(text)"
      ],
      "execution_count": null,
      "outputs": [
        {
          "output_type": "stream",
          "text": [
            "First Line\n",
            "#Second Line\n",
            "Third Line\n",
            "Fourth Line\n",
            "\n",
            "First Line\n",
            "Third Line\n",
            "Fourth Line\n",
            "\n"
          ],
          "name": "stdout"
        }
      ]
    },
    {
      "cell_type": "code",
      "metadata": {
        "colab": {
          "base_uri": "https://localhost:8080/"
        },
        "id": "arfXAritF3a_",
        "outputId": "d93878a9-01f8-4d4b-e993-c7186b007aeb"
      },
      "source": [
        "def filterFile(oldFile):\n",
        "  f1 = open(oldFile, \"r\")\n",
        "  while True:\n",
        "    text = f1.readline() \n",
        "    if text == \"\":\n",
        "      break\n",
        "    if text[0] == '#':\n",
        "      continue\n",
        "    print(text)\n",
        "  f1.close()\n",
        "\n",
        "  return\n",
        "f = open(\"mydata.dat\",\"w\")\n",
        "f.write(\"First Line\\n\")\n",
        "f.write(\"#Second Line\\n\")\n",
        "f.write(\"Third Line\\n\")\n",
        "f.write(\"Fourth Line\\n\")\n",
        "f.close()\n",
        "\n",
        "f = open(\"mydata.dat\",\"r\")\n",
        "text = f.read()\n",
        "print(text)\n",
        "\n",
        "filterFile(\"mydata.dat\")"
      ],
      "execution_count": null,
      "outputs": [
        {
          "output_type": "stream",
          "text": [
            "First Line\n",
            "#Second Line\n",
            "Third Line\n",
            "Fourth Line\n",
            "\n",
            "First Line\n",
            "\n",
            "Third Line\n",
            "\n",
            "Fourth Line\n",
            "\n"
          ],
          "name": "stdout"
        }
      ]
    },
    {
      "cell_type": "markdown",
      "metadata": {
        "id": "tFrbLbCCY4BZ"
      },
      "source": [
        "#1. b.Write a Python program to read the contents of a file Grades.txt and calculate the total marks and percentage obtained by a student."
      ]
    },
    {
      "cell_type": "code",
      "metadata": {
        "id": "vquTan0mY5LW",
        "colab": {
          "base_uri": "https://localhost:8080/"
        },
        "outputId": "24fd0a05-451f-4083-a528-b116da28e901"
      },
      "source": [
        "def grade(myfile):\n",
        "  f1 = open(myfile, \"r\")\n",
        "  total_marks=0\n",
        "  while True:\n",
        "    text = f1.readline() \n",
        "    if text == \"\":\n",
        "      break\n",
        "    marks = text[-3:-1]\n",
        "    total_marks+=int(marks)\n",
        "    print(marks)\n",
        "  print(\"Total Marks:\",total_marks)  \n",
        "  print(\"Percentage:\",total_marks/400*100)\n",
        "  \n",
        "f = open(\"mygrade.dat\",\"w\")\n",
        "f.write(\"Physics\\t 80\\n\")\n",
        "f.write(\"Chemistry\\t 70\\n\")\n",
        "f.write(\"Maths\\t 90\\n\")\n",
        "f.write(\"English\\t 90\\n\")\n",
        "f.close()\n",
        "f = open(\"mygrade.dat\",\"r\")\n",
        "text = f.read()\n",
        "print(text)\n",
        "grade('mygrade.dat')"
      ],
      "execution_count": null,
      "outputs": [
        {
          "output_type": "stream",
          "text": [
            "Physics\t 80\n",
            "Chemistry\t 70\n",
            "Maths\t 90\n",
            "English\t 90\n",
            "\n",
            "80\n",
            "70\n",
            "90\n",
            "90\n",
            "Total Marks: 330\n",
            "Percentage: 82.5\n"
          ],
          "name": "stdout"
        }
      ]
    },
    {
      "cell_type": "code",
      "metadata": {
        "colab": {
          "base_uri": "https://localhost:8080/"
        },
        "id": "N-3cNFZXIGMh",
        "outputId": "509a8948-9c9f-49e4-f7a8-16be18a726ad"
      },
      "source": [
        "\n",
        "def read_test_scores() :\n",
        "\n",
        "    print(\"ENTER STUDENT ID: \")\n",
        "    id = int(input())\n",
        "\n",
        "    print(\"ENTER EXAM SCORE: \")\n",
        "    exam = int(input())\n",
        "\n",
        "    print(\"ENTER ALL TEST SCORES: \")\n",
        "    score1 = int(input())\n",
        "    score2 = int(input())\n",
        "    score3 = int(input())\n",
        "    score4 = int(input())\n",
        "    score5 = int(input())\n",
        "    score6 = int(input())\n",
        "    score7 = int(input())\n",
        "\n",
        "    sum = (score1 + score2 + score3 + score4 + score5 + score6 + score7)\n",
        "\n",
        "    tavge = sum/7\n",
        "    return tavge\n",
        "\n",
        "def compute_final_score(tavge, exam) :\n",
        "    final_score = 0.4 * tavge + 0.6 * exam\n",
        "    return final_score\n",
        "\n",
        "def get_letter_grade(final_score) :\n",
        "\n",
        "    if 90 <= final_score <= 100:\n",
        "        grade = 'A'\n",
        "    elif 80 <= final_score <= 89:\n",
        "        grade = 'B'\n",
        "    elif 70 <= final_score <= 79:\n",
        "        grade = 'C'\n",
        "    elif 60 <= final_score <= 69:\n",
        "        grade = 'D'\n",
        "    else:\n",
        "        grade = 'F'\n",
        "    return grade\n",
        "\n",
        "def print_comment(grade) :\n",
        "\n",
        "    if grade == 'A':\n",
        "        print (\"COMMENT:            Very Good\")\n",
        "    elif grade == 'B':\n",
        "        print \"COMMENT:            Good\"\n",
        "    elif grade == 'C':\n",
        "        print \"COMMENT:            Satisfactory\"\n",
        "    elif grade == 'D':\n",
        "        print \"COMMENT:            Need Improvement\"\n",
        "    elif grade == 'F'\n",
        "        print \"COMMENT:            Poor\"\n",
        "\n",
        "read_test_scores()\n",
        "print \"TEST AVERAGE IS:    \" + str(tavge)\n",
        "compute_final_score()\n",
        "print \"FINAL SCORE IS:     \" + str(final_score)\n",
        "get_letter_grade(final_score)\n",
        "print \"LETTER GRADE IS:     \" + str(grade)\n",
        "print_comment(grade)\n"
      ],
      "execution_count": null,
      "outputs": [
        {
          "output_type": "error",
          "ename": "SyntaxError",
          "evalue": "ignored",
          "traceback": [
            "\u001b[0;36m  File \u001b[0;32m\"<ipython-input-28-73af394da610>\"\u001b[0;36m, line \u001b[0;32m45\u001b[0m\n\u001b[0;31m    print \"COMMENT:            Very Good\"\u001b[0m\n\u001b[0m                                        ^\u001b[0m\n\u001b[0;31mSyntaxError\u001b[0m\u001b[0;31m:\u001b[0m Missing parentheses in call to 'print'. Did you mean print(\"COMMENT:            Very Good\")?\n"
          ]
        }
      ]
    },
    {
      "cell_type": "markdown",
      "metadata": {
        "id": "0CY0n017Y8Y1"
      },
      "source": [
        "#2.a.Write a Python program to create a file where all letters of English alphabet are listed by  specified number of letters on each line.\n"
      ]
    },
    {
      "cell_type": "code",
      "metadata": {
        "id": "YOo9G4idY9Yb",
        "colab": {
          "base_uri": "https://localhost:8080/"
        },
        "outputId": "e2e05346-d3ca-4fce-bdf1-c074a73cb9b3"
      },
      "source": [
        "import string\n",
        "f = open(\"words1.txt\", \"w\")\n",
        "def lettersinline(n):\n",
        "       alphabet = string.ascii_uppercase\n",
        "       print(alphabet)\n",
        "       for i in range(0, len(alphabet),n):\n",
        "        letters = alphabet[i:i + n]\n",
        "        f.write(letters)\n",
        "        f.write(\"\\n\")\n",
        "lettersinline(3)\n",
        "f = open(\"words1.txt\",\"r\")\n",
        "text = f.read()\n",
        "print(text)"
      ],
      "execution_count": null,
      "outputs": [
        {
          "output_type": "stream",
          "text": [
            "ABCDEFGHIJKLMNOPQRSTUVWXYZ\n",
            "ABC\n",
            "DEF\n",
            "GHI\n",
            "JKL\n",
            "MNO\n",
            "PQR\n",
            "STU\n",
            "VWX\n",
            "YZ\n",
            "\n"
          ],
          "name": "stdout"
        }
      ]
    },
    {
      "cell_type": "code",
      "metadata": {
        "colab": {
          "base_uri": "https://localhost:8080/"
        },
        "id": "Mt9yyR4aK5l_",
        "outputId": "467552a8-da40-4868-8fb3-a64605e2915a"
      },
      "source": [
        "def read(myfile):\n",
        "     f = open(myfile,\"r\")\n",
        "     list = f.readlines()\n",
        "     print(list)\n",
        "read('mydata.dat')"
      ],
      "execution_count": null,
      "outputs": [
        {
          "output_type": "stream",
          "text": [
            "['apple\\n', 'mango\\n', 'orange\\n', 'grapes\\n']\n"
          ],
          "name": "stdout"
        }
      ]
    },
    {
      "cell_type": "markdown",
      "metadata": {
        "id": "AC1IyyWaY9xX"
      },
      "source": [
        "#2. b.Write a Python program to read a file line by line and store it into a list"
      ]
    },
    {
      "cell_type": "code",
      "metadata": {
        "id": "uu2ME5I7Y__J",
        "colab": {
          "base_uri": "https://localhost:8080/"
        },
        "outputId": "223a7100-2c94-421d-c393-273ac3998ad9"
      },
      "source": [
        "def savetolist(myfile):\n",
        "  f1 = open(myfile, \"r\")\n",
        "  mylist=[]\n",
        "  while True:\n",
        "    text = f1.readline() \n",
        "    if text == \"\":\n",
        "      break\n",
        "    text=text[:-1] \n",
        "    mylist.append(text)\n",
        "  f1.close()\n",
        "  return mylist\n",
        "f = open(\"mydata.dat\",\"w\")\n",
        "f.write(\"apple\\n\")\n",
        "f.write(\"mango\\n\")\n",
        "f.write(\"orange\\n\")\n",
        "f.write(\"grapes\\n\")\n",
        "f.close()\n",
        "f = open(\"mydata.dat\",\"r\")\n",
        "text = f.read()\n",
        "print(text)\n",
        "savetolist(\"mydata.dat\")\n"
      ],
      "execution_count": null,
      "outputs": [
        {
          "output_type": "stream",
          "text": [
            "apple\n",
            "mango\n",
            "orange\n",
            "grapes\n",
            "\n"
          ],
          "name": "stdout"
        },
        {
          "output_type": "execute_result",
          "data": {
            "text/plain": [
              "['apple', 'mango', 'orange', 'grapes']"
            ]
          },
          "metadata": {
            "tags": []
          },
          "execution_count": 45
        }
      ]
    },
    {
      "cell_type": "markdown",
      "metadata": {
        "id": "2iIG-o68-1bG"
      },
      "source": [
        "#3. a.Write a python program to replace a specific line with another text in a file.\r\n"
      ]
    },
    {
      "cell_type": "code",
      "metadata": {
        "id": "ldL4Va9p2bNN",
        "colab": {
          "base_uri": "https://localhost:8080/"
        },
        "outputId": "188addcc-3e39-4962-ced8-57118e92168e"
      },
      "source": [
        "fn = open(\"text.dat\",\"w\")\r\n",
        "w = \"Its a beautiful day\"\r\n",
        "w1 = \" Good morning \"\r\n",
        "w2 = \" It is going to rain soon\"\r\n",
        "fn.write(w)\r\n",
        "fn.write(w1)\r\n",
        "fn = open(\"text.dat\",\"r\")\r\n",
        "x1 = fn.read()\r\n",
        "x = x1.replace(w,w2)\r\n",
        "print(x)\r\n",
        "fn = open(\"text.dat\",\"w\")\r\n",
        "fn.write(x)"
      ],
      "execution_count": null,
      "outputs": [
        {
          "output_type": "stream",
          "text": [
            " It is going to rain soon Good morning \n"
          ],
          "name": "stdout"
        },
        {
          "output_type": "execute_result",
          "data": {
            "text/plain": [
              "39"
            ]
          },
          "metadata": {
            "tags": []
          },
          "execution_count": 25
        }
      ]
    },
    {
      "cell_type": "code",
      "metadata": {
        "colab": {
          "base_uri": "https://localhost:8080/"
        },
        "id": "hD9_bjxPYSor",
        "outputId": "74314bec-18bf-44a6-88ab-b0e8fce71e0f"
      },
      "source": [
        "def replace(myfile1,mystring,myreplacestring,myfile2):\r\n",
        "  f1 = open(myfile1, \"r\")\r\n",
        "  f2 = open(myfile2, \"w\")\r\n",
        "  while True:\r\n",
        "    text = f1.readline()\r\n",
        "    if text == \"\":\r\n",
        "      break\r\n",
        "    #print(text)\r\n",
        "    if mystring in text:\r\n",
        "      #print(\"String found\")\r\n",
        "      text =text.replace(mystring,myreplacestring)\r\n",
        "\r\n",
        "    else:\r\n",
        "      #print(\"String not found\")\r\n",
        "      pass\r\n",
        "    \r\n",
        "    f2.write(text)\r\n",
        "  f1.close()\r\n",
        "\r\n",
        "  return \r\n",
        "f = open(\"mydata1.dat\",\"w\")\r\n",
        "f.write(\"First Line\\n\")\r\n",
        "f.write(\"#Second Line\\n\")\r\n",
        "f.write(\"Third Line\\n\")\r\n",
        "f.write(\"Fourth Line\\n\")\r\n",
        "f = open(\"mydata1.dat\",\"r\")\r\n",
        "text = f.read()\r\n",
        "print(text)\r\n",
        "f.close()\r\n",
        "replace(\"mydata1.dat\",\"First\",\"Last\",\"mynewfile.dat\")\r\n",
        "f = open(\"mynewfile.dat\")\r\n",
        "text = f.read()\r\n",
        "print(text)"
      ],
      "execution_count": 13,
      "outputs": [
        {
          "output_type": "stream",
          "text": [
            "First Line\n",
            "#Second Line\n",
            "Third Line\n",
            "Fourth Line\n",
            "\n",
            "Last Line\n",
            "#Second Line\n",
            "Third Line\n",
            "Fourth Line\n",
            "\n"
          ],
          "name": "stdout"
        }
      ]
    },
    {
      "cell_type": "markdown",
      "metadata": {
        "id": "w3BUr0SC_E5F"
      },
      "source": [
        "#b.Write a python program to merge two files and write it in a new file."
      ]
    },
    {
      "cell_type": "code",
      "metadata": {
        "colab": {
          "base_uri": "https://localhost:8080/"
        },
        "id": "Fu8ELmfq_F61",
        "outputId": "6efea273-ba73-41de-fca6-409b3c8796a8"
      },
      "source": [
        "def merge(myfile1,myfile2,myfile3):\r\n",
        "  f1 = open(myfile1, \"r\")\r\n",
        "  f2 = open(myfile2, \"r\")\r\n",
        "  text1 = f1.read() \r\n",
        "  text2 = f2.read()\r\n",
        "  text3=text1+text2\r\n",
        "  f3 = open(myfile3, \"w\")\r\n",
        "  f3.write(text3)\r\n",
        "  f1.close()\r\n",
        "  f2.close()\r\n",
        "  f3.close()\r\n",
        "  return \r\n",
        "f = open(\"mydata1.dat\",\"w\")\r\n",
        "f.write(\"First Line\\n\")\r\n",
        "f.write(\"#Second Line\\n\")\r\n",
        "f.write(\"Third Line\\n\")\r\n",
        "f.write(\"Fourth Line\\n\")\r\n",
        "f.close()\r\n",
        "f = open(\"mydata2.dat\",\"w\")\r\n",
        "f.write(\"Fifth Line\\n\")\r\n",
        "f.write(\"#Sixth Line\\n\")\r\n",
        "f.write(\"Seventh Line\\n\")\r\n",
        "f.write(\"Eight Line\\n\")\r\n",
        "f.close()\r\n",
        "merge(\"mydata1.dat\",\"mydata2.dat\",\"newfile.dat\")\r\n",
        "\r\n",
        "f = open(\"newfile.dat\",\"r\")\r\n",
        "text = f.read()\r\n",
        "print(text)\r\n"
      ],
      "execution_count": null,
      "outputs": [
        {
          "output_type": "stream",
          "text": [
            "First Line\n",
            "#Second Line\n",
            "Third Line\n",
            "Fourth Line\n",
            "Fifth Line\n",
            "#Sixth Line\n",
            "Seventh Line\n",
            "Eight Line\n",
            "\n"
          ],
          "name": "stdout"
        }
      ]
    },
    {
      "cell_type": "code",
      "metadata": {
        "colab": {
          "base_uri": "https://localhost:8080/"
        },
        "id": "J8MMrLCmNeW_",
        "outputId": "670715ad-f7e7-461b-bc98-c1fac7483263"
      },
      "source": [
        "\r\n",
        "f1 = open(\"text.dat\",\"w\")\r\n",
        "f1.write(\"problem solving with python\")\r\n",
        "f1 = open(\"text.dat\",\"r\")\r\n",
        "m = f1.read()\r\n",
        "f2 = open(\"text2.dat\",\"w\")\r\n",
        "f2.write(\"\\nis a subject for CS department.\")\r\n",
        "f2 = open(\"text2.dat\",\"r\")\r\n",
        "n = f2.read()\r\n",
        "a = m + n\r\n",
        "f = open(\"new.dat\",\"w\")\r\n",
        "f.write(a)\r\n",
        "f = open(\"new.dat\",\"r\")\r\n",
        "print(f.read())"
      ],
      "execution_count": null,
      "outputs": [
        {
          "output_type": "stream",
          "text": [
            "problem solving with python\n",
            "is a subject for CS department.\n"
          ],
          "name": "stdout"
        }
      ]
    },
    {
      "cell_type": "markdown",
      "metadata": {
        "id": "FNynl7ju95Rw"
      },
      "source": [
        "\r\n",
        "#4. a.Write a Python program to count the number of lines in a text file.\r\n"
      ]
    },
    {
      "cell_type": "code",
      "metadata": {
        "colab": {
          "base_uri": "https://localhost:8080/"
        },
        "id": "OHswBZw4-OWj",
        "outputId": "286eb758-fd16-4b88-c467-e6c349a18b84"
      },
      "source": [
        "def count(myfile):\r\n",
        "  f1 = open(myfile, \"r\")\r\n",
        "  count=0\r\n",
        "  while True:\r\n",
        "    text = f1.readline() \r\n",
        "    if text == \"\":\r\n",
        "      break\r\n",
        "    count+=1\r\n",
        "  f1.close()\r\n",
        "  return count\r\n",
        "  \r\n",
        "f = open(\"mydata.dat\",\"w\")\r\n",
        "f.write(\"First Line\\n\")\r\n",
        "f.write(\"#Second Line\\n\")\r\n",
        "f.write(\"Third Line\\n\")\r\n",
        "f.write(\"Fourth Line\\n\")\r\n",
        "f.close()\r\n",
        "\r\n",
        "f = open(\"mydata.dat\",\"r\")\r\n",
        "text = f.read()\r\n",
        "print(text)\r\n",
        "\r\n",
        "count(\"mydata.dat\")"
      ],
      "execution_count": null,
      "outputs": [
        {
          "output_type": "stream",
          "text": [
            "First Line\n",
            "#Second Line\n",
            "Third Line\n",
            "Fourth Line\n",
            "\n"
          ],
          "name": "stdout"
        },
        {
          "output_type": "execute_result",
          "data": {
            "text/plain": [
              "4"
            ]
          },
          "metadata": {
            "tags": []
          },
          "execution_count": 33
        }
      ]
    },
    {
      "cell_type": "code",
      "metadata": {
        "colab": {
          "base_uri": "https://localhost:8080/"
        },
        "id": "P1TspZHYJ_jL",
        "outputId": "e9080fde-f53f-456f-c474-eab10610a5b9"
      },
      "source": [
        "fname = input(\"Enter file name: \")\r\n",
        "num_lines = 0\r\n",
        "with open(fname, 'r') as f:\r\n",
        "    for line in f:\r\n",
        "        num_lines += 1\r\n",
        "print(\"Number of lines:\")\r\n",
        "print(num_lines)"
      ],
      "execution_count": null,
      "outputs": [
        {
          "output_type": "stream",
          "text": [
            "Enter file name: mydata.dat\n",
            "Number of lines:\n",
            "4\n"
          ],
          "name": "stdout"
        }
      ]
    },
    {
      "cell_type": "code",
      "metadata": {
        "colab": {
          "base_uri": "https://localhost:8080/"
        },
        "id": "Ixq5wB1AKUKD",
        "outputId": "0e850d22-c89a-4bfb-9963-52f6edd0a967"
      },
      "source": [
        "def file_lengthy(fname):\r\n",
        "        with open(fname) as f:\r\n",
        "                for i, l in enumerate(f):\r\n",
        "                        pass\r\n",
        "        return i + 1\r\n",
        "print(\"Number of lines in the file: \",file_lengthy(\"mydata.dat\"))"
      ],
      "execution_count": null,
      "outputs": [
        {
          "output_type": "stream",
          "text": [
            "Number of lines in the file:  4\n"
          ],
          "name": "stdout"
        }
      ]
    },
    {
      "cell_type": "markdown",
      "metadata": {
        "id": "ST2iRmUK_sJz"
      },
      "source": [
        "#b.Write a Python program to count the frequency of words in a file."
      ]
    },
    {
      "cell_type": "code",
      "metadata": {
        "colab": {
          "base_uri": "https://localhost:8080/"
        },
        "id": "HeWcHd3vBEGi",
        "outputId": "40e3843e-0bbb-4cc4-9402-35c86415b008"
      },
      "source": [
        "def hist(myfile):\r\n",
        "  hist={}\r\n",
        "  f1 = open(myfile, \"r\")\r\n",
        "  while True:\r\n",
        "    text = f1.readline() \r\n",
        "    if text == \"\":\r\n",
        "      break\r\n",
        "    words = text[:-1].split(\" \") \r\n",
        "    #print(words)\r\n",
        "    for word in words:\r\n",
        "     if word in hist:\r\n",
        "       hist[word]=hist[word]+1\r\n",
        "     else:\r\n",
        "       hist[word]=1\r\n",
        "\r\n",
        "  f1.close()\r\n",
        "  print(hist)\r\n",
        "  return \r\n",
        "f = open(\"mydata.dat\",\"w\")\r\n",
        "f.write(\"apple and orange\\n\")\r\n",
        "f.write(\"mango\\n\")\r\n",
        "f.write(\"orange\\n\")\r\n",
        "f.write(\"grapes\\n\")\r\n",
        "f.close()\r\n",
        "hist(\"mydata.dat\")"
      ],
      "execution_count": null,
      "outputs": [
        {
          "output_type": "stream",
          "text": [
            "{'apple': 1, 'and': 1, 'orange': 2, 'mango': 1, 'grapes': 1}\n"
          ],
          "name": "stdout"
        }
      ]
    },
    {
      "cell_type": "code",
      "metadata": {
        "id": "KqlqHyp8NAIw"
      },
      "source": [
        ""
      ],
      "execution_count": null,
      "outputs": []
    }
  ]
}